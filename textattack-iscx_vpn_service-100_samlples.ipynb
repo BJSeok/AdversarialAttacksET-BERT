{
 "cells": [
  {
   "cell_type": "markdown",
   "metadata": {},
   "source": [
    "# 1. Import packages"
   ]
  },
  {
   "cell_type": "code",
   "execution_count": 1,
   "metadata": {},
   "outputs": [
    {
     "name": "stderr",
     "output_type": "stream",
     "text": [
      "/home/sypark/.local/lib/python3.8/site-packages/tqdm/auto.py:21: TqdmWarning: IProgress not found. Please update jupyter and ipywidgets. See https://ipywidgets.readthedocs.io/en/stable/user_install.html\n",
      "  from .autonotebook import tqdm as notebook_tqdm\n"
     ]
    }
   ],
   "source": [
    "import re\n",
    "import string\n",
    "from typing import Final, List\n",
    "\n",
    "from IPython.core.display import display_html, HTML\n",
    "\n",
    "from textattack import Attack, AttackArgs, Attacker\n",
    "from textattack.constraints.pre_transformation import (\n",
    "    RepeatModification,\n",
    "    StopwordModification,\n",
    ")\n",
    "from textattack.constraints.semantics import WordEmbeddingDistance\n",
    "from textattack.goal_functions.classification import UntargetedClassification\n",
    "from textattack.loggers import CSVLogger\n",
    "from textattack.search_methods import GreedyWordSwapWIR\n",
    "from textattack.shared.attacked_text import AttackedText\n",
    "from textattack.transformations import WordSwap"
   ]
  },
  {
   "cell_type": "markdown",
   "metadata": {},
   "source": [
    "# 2. Load model and dataset"
   ]
  },
  {
   "cell_type": "code",
   "execution_count": 2,
   "metadata": {},
   "outputs": [],
   "source": [
    "# Load from my_model.py and my_dataset.py\n",
    "from my_model import get_model\n",
    "from my_dataset import dataset\n",
    "\n",
    "model = get_model(\"cuda:1\")"
   ]
  },
  {
   "cell_type": "markdown",
   "metadata": {},
   "source": [
    "# 3. Define `CustomWordSwapEmbedding` class"
   ]
  },
  {
   "cell_type": "code",
   "execution_count": 3,
   "metadata": {},
   "outputs": [],
   "source": [
    "class CustomWordSwapEmbedding(WordSwap):\n",
    "    def __init__(self) -> None:\n",
    "        hexword_regex: Final[re.Pattern] = re.compile(r\"^[0-9a-fA-F]{4}$\")\n",
    "        self.replacement_words: List[str] = []\n",
    "\n",
    "        with open(\"./models/encryptd_vocab.txt\") as vocab_file:\n",
    "            for vocab in vocab_file:\n",
    "                self.replacement_words.append(\n",
    "                    vocab.rstrip()\n",
    "                ) if hexword_regex.fullmatch(vocab.rstrip()) else None\n",
    "                continue\n",
    "            pass\n",
    "\n",
    "        return super().__init__(string.hexdigits)\n",
    "\n",
    "    def _get_transformations(\n",
    "        self, current_text: AttackedText, indices_to_modify: List[int]\n",
    "    ) -> List[AttackedText]:\n",
    "        words = current_text.words\n",
    "        transformed_texts: List[AttackedText] = []\n",
    "\n",
    "        for i in indices_to_modify:\n",
    "            # if i < 22:\n",
    "            #     continue\n",
    "            \n",
    "            word_to_replace = words[i]\n",
    "            replacement_words = self._get_replacement_words(word_to_replace)\n",
    "            transformed_texts_idx: List[AttackedText] = []\n",
    "\n",
    "            for r in replacement_words:\n",
    "                if r == word_to_replace:\n",
    "                    continue\n",
    "\n",
    "                indices: List[int] = []\n",
    "                new_words: List[str] = []\n",
    "\n",
    "                indices.append(i)\n",
    "                new_words.append(r)\n",
    "\n",
    "                if i < len(words) - 1:\n",
    "                    post_r = r[2:] + words[i + 1][2:]\n",
    "                    indices.append(i + 1)\n",
    "                    new_words.append(post_r)\n",
    "                    pass\n",
    "\n",
    "                transformed_texts_idx.append(\n",
    "                    current_text.replace_words_at_indices(indices, new_words)\n",
    "                )\n",
    "                continue\n",
    "\n",
    "            transformed_texts.extend(transformed_texts_idx)\n",
    "            continue\n",
    "\n",
    "        return transformed_texts\n",
    "\n",
    "    def _get_replacement_words(self, word: str) -> List[str]:\n",
    "        replacement_words = [w for w in self.replacement_words if w.startswith(word[:2])]\n",
    "\n",
    "        if word in replacement_words:\n",
    "            replacement_words.remove(word)\n",
    "            pass\n",
    "        \n",
    "        return replacement_words\n",
    "\n",
    "    pass"
   ]
  },
  {
   "cell_type": "markdown",
   "metadata": {},
   "source": [
    "# 4. Construct `textattack.Attack` object"
   ]
  },
  {
   "cell_type": "code",
   "execution_count": 4,
   "metadata": {},
   "outputs": [
    {
     "name": "stderr",
     "output_type": "stream",
     "text": [
      "textattack: Unknown if model of class <class 'my_model.Classifier'> compatible with goal function <class 'textattack.goal_functions.classification.untargeted_classification.UntargetedClassification'>.\n"
     ]
    }
   ],
   "source": [
    "# Construct the four fundamental components of the attack\n",
    "goal_function = UntargetedClassification(model)\n",
    "constraints = [\n",
    "    RepeatModification(),\n",
    "    StopwordModification(),\n",
    "    WordEmbeddingDistance(min_cos_sim=0.9),\n",
    "]\n",
    "transformation = CustomWordSwapEmbedding()\n",
    "search_method = GreedyWordSwapWIR(wir_method=\"delete\")\n",
    "\n",
    "# Construct the actual attack\n",
    "attack = Attack(goal_function, constraints, transformation, search_method)"
   ]
  },
  {
   "cell_type": "markdown",
   "metadata": {},
   "source": [
    "# 5. Construct `textattack.Attacker` object"
   ]
  },
  {
   "cell_type": "code",
   "execution_count": 5,
   "metadata": {},
   "outputs": [
    {
     "name": "stdout",
     "output_type": "stream",
     "text": [
      "Attack(\n",
      "  (search_method): GreedyWordSwapWIR(\n",
      "    (wir_method):  delete\n",
      "  )\n",
      "  (goal_function):  UntargetedClassification\n",
      "  (transformation):  CustomWordSwapEmbedding\n",
      "  (constraints): \n",
      "    (0): WordEmbeddingDistance(\n",
      "        (embedding):  WordEmbedding\n",
      "        (min_cos_sim):  0.9\n",
      "        (cased):  False\n",
      "        (include_unknown_words):  True\n",
      "        (compare_against_original):  True\n",
      "      )\n",
      "    (1): RepeatModification\n",
      "    (2): StopwordModification\n",
      "  (is_black_box):  True\n",
      ") \n",
      "\n"
     ]
    },
    {
     "name": "stderr",
     "output_type": "stream",
     "text": [
      "  1%|          | 1/100 [00:02<04:04,  2.47s/it]"
     ]
    },
    {
     "name": "stdout",
     "output_type": "stream",
     "text": [
      "--------------------------------------------- Result 1 ---------------------------------------------\n"
     ]
    },
    {
     "name": "stderr",
     "output_type": "stream",
     "text": [
      "[Succeeded / Failed / Skipped / Total] 1 / 0 / 0 / 1:   1%|          | 1/100 [00:02<04:37,  2.81s/it]"
     ]
    },
    {
     "name": "stdout",
     "output_type": "stream",
     "text": [
      "[[6 (100%)]] --> [[8 (100%)]]\n",
      "\n",
      "12d4 d400 0000 0001 0101 0108 080a [[0a6e]] [[6e29]] 29be bed0 d000 0015 1506 0632 3217 1703 0303 0300 002a 2a9f 9f0a 0a03 0392 921f 1fc4 c457 57a4 a414 14c4 c47e 7e9e 9eb1 b10e 0e59 59ae aeae aef4 f405 050f 0fed edc0 c019 1963 63cc ccec ec8d 8d1c 1cdc dc23 2324 24b0 b022 220a 0a71 7103 030e 0e94 9407 0733 3399 9925\n",
      "\n",
      "12d4 d400 0000 0001 0101 0108 080a [[0a1a]] [[1a29]] 29be bed0 d000 0015 1506 0632 3217 1703 0303 0300 002a 2a9f 9f0a 0a03 0392 921f 1fc4 c457 57a4 a414 14c4 c47e 7e9e 9eb1 b10e 0e59 59ae aeae aef4 f405 050f 0fed edc0 c019 1963 63cc ccec ec8d 8d1c 1cdc dc23 2324 24b0 b022 220a 0a71 7103 030e 0e94 9407 0733 3399 9925\n",
      "\n",
      "\n"
     ]
    },
    {
     "name": "stderr",
     "output_type": "stream",
     "text": [
      "[Succeeded / Failed / Skipped / Total] 2 / 0 / 0 / 2:   2%|▏         | 2/100 [00:04<03:18,  2.02s/it]"
     ]
    },
    {
     "name": "stdout",
     "output_type": "stream",
     "text": [
      "--------------------------------------------- Result 2 ---------------------------------------------\n",
      "[[2 (100%)]] --> [[11 (91%)]]\n",
      "\n",
      "ac4a 4a00 [[0023]] [[2342]] 429c 9c1d 1ddd dd2d 2d86 86ee eee2 e2c9 c9d1 d18f 8f71 71ed ed25 2591 9116 16d9 d9a8 a82b 2bb2 b2ab abae ae61 614f 4fe7 e7b3 b3e5 e546 4650\n",
      "\n",
      "ac4a 4a00 [[0000]] [[0042]] 429c 9c1d 1ddd dd2d 2d86 86ee eee2 e2c9 c9d1 d18f 8f71 71ed ed25 2591 9116 16d9 d9a8 a82b 2bb2 b2ab abae ae61 614f 4fe7 e7b3 b3e5 e546 4650\n",
      "\n",
      "\n"
     ]
    },
    {
     "name": "stderr",
     "output_type": "stream",
     "text": [
      "[Succeeded / Failed / Skipped / Total] 3 / 0 / 0 / 3:   3%|▎         | 3/100 [00:21<11:39,  7.21s/it]textattack: Ran out of samples to attack!\n",
      "[Succeeded / Failed / Skipped / Total] 3 / 0 / 1 / 4:   3%|▎         | 3/100 [00:21<11:39,  7.21s/it]"
     ]
    },
    {
     "name": "stdout",
     "output_type": "stream",
     "text": [
      "--------------------------------------------- Result 3 ---------------------------------------------\n",
      "[[4 (100%)]] --> [[0 (79%)]]\n",
      "\n",
      "[[e3af]] [[af5e]] 5e96 [[9698]] [[9874]] 7470 706a [[6a49]] [[4950]] 5080 8010 1008 0800 0020 20d4 [[d400]] [[0000]] 0001 0101 [[0108]] [[080a]] 0a0a 0af2 f24c 4cc3 [[c301]] [[0124]] [[24f9]] [[f97e]] 7e28 28b2 b281 81a5 a565 6587 8776 76ed ed98 9834 34bc bc44 4496 96b2 b2a4 [[a450]] [[50d4]] d414 1457 57b4 b4d6 d655 557e 7e3b 3ba7 a78c [[8cfb]] [[fb4d]] 4db8 b8d5 d563 6358 58f2 f2d3 d32d\n",
      "\n",
      "[[e38d]] [[8d5e]] 5e96 [[962b]] [[2b74]] 7470 706a [[6a5e]] [[5e50]] 5080 8010 1008 0800 0020 20d4 [[d40e]] [[0e00]] 0001 0101 [[0137]] [[370a]] 0a0a 0af2 f24c 4cc3 [[c352]] [[5224]] [[241e]] [[1e7e]] 7e28 28b2 b281 81a5 a565 6587 8776 76ed ed98 9834 34bc bc44 4496 96b2 b2a4 [[a412]] [[12d4]] d414 1457 57b4 b4d6 d655 557e 7e3b 3ba7 a78c [[8ced]] [[ed4d]] 4db8 b8d5 d563 6358 58f2 f2d3 d32d\n",
      "\n",
      "\n",
      "--------------------------------------------- Result 4 ---------------------------------------------\n",
      "[[2 (62%)]] --> [[[SKIPPED]]]\n",
      "\n",
      "7e9c 9c00 001d 1d2d 2db2 b24d 4d2d 2d53 5345 4541 4152 5243 4348 4820 202a 2a20 2048 4854 5454 5450 502f 2f31 312e 2e31 310d 0d0a\n",
      "\n",
      "\n"
     ]
    },
    {
     "name": "stderr",
     "output_type": "stream",
     "text": [
      "[Succeeded / Failed / Skipped / Total] 4 / 0 / 1 / 5:   4%|▍         | 4/100 [00:42<16:49, 10.51s/it]"
     ]
    },
    {
     "name": "stdout",
     "output_type": "stream",
     "text": [
      "--------------------------------------------- Result 5 ---------------------------------------------\n",
      "[[11 (100%)]] --> [[1 (96%)]]\n",
      "\n",
      "[[5a9a]] [[9a4f]] [[4f91]] [[91a6]] a69a [[9aeb]] [[eb6c]] [[6cfc]] fcfa [[fa6a]] [[6aa4]] a425 25f9 f921 2144 445a 5a78 7859 5970 70b4 b4c4 [[c4bc]] [[bc2c]] 2c27 2701 01e3 e34c 4ce7 e7b8 [[b880]] [[8091]] 9157 579a 9a2c [[2cf9]] [[f98d]] [[8dd4]] [[d442]] 42bd bdaf [[afb4]] [[b409]] 09c7 c756 [[56c8]] [[c89b]] 9b76 7622 22f7 f7c3 c335 3561 612c 2c80 8052 524f 4fda dae0\n",
      "\n",
      "[[5a00]] [[004f]] [[4ff0]] [[f0a6]] a69a [[9a50]] [[5002]] [[02fc]] fcfa [[fa7c]] [[7ca4]] a425 25f9 f921 2144 445a 5a78 7859 5970 70b4 b4c4 [[c4c8]] [[c82c]] 2c27 2701 01e3 e34c 4ce7 e7b8 [[b86c]] [[6c91]] 9157 579a 9a2c [[2c4b]] [[4b8d]] [[8d96]] [[9642]] 42bd bdaf [[af1d]] [[1d09]] 09c7 c756 [[565b]] [[5b9b]] 9b76 7622 22f7 f7c3 c335 3561 612c 2c80 8052 524f 4fda dae0\n",
      "\n",
      "\n"
     ]
    },
    {
     "name": "stderr",
     "output_type": "stream",
     "text": [
      "[Succeeded / Failed / Skipped / Total] 5 / 0 / 1 / 6:   5%|▌         | 5/100 [00:43<13:48,  8.72s/it]"
     ]
    },
    {
     "name": "stdout",
     "output_type": "stream",
     "text": [
      "--------------------------------------------- Result 6 ---------------------------------------------\n",
      "[[0 (100%)]] --> [[1 (100%)]]\n",
      "\n",
      "[[01bb]] [[bb00]] 00da daa2 a2c9 c90c 0c3e 3e8c 8cd5 d578 78a2 a2f6 f6a8 a825 25aa aa7f 7f69 696f 6f28 28b6 b61a 1a77 770e 0e93 9391 91fe fe5a 5a92 92ca ca14 1407 07d1 d1d6 d6e0 e02a 2a1e 1e7f 7f5b 5b5f 5f75 7570 7072 72ee ee17 17b3 b3fb fbda da36 36e9 e9ed edba ba01 01da da01 01c3 c311 1184 8475 75bc bc09 0933 339c 9cce ce8f\n",
      "\n",
      "[[0165]] [[6500]] 00da daa2 a2c9 c90c 0c3e 3e8c 8cd5 d578 78a2 a2f6 f6a8 a825 25aa aa7f 7f69 696f 6f28 28b6 b61a 1a77 770e 0e93 9391 91fe fe5a 5a92 92ca ca14 1407 07d1 d1d6 d6e0 e02a 2a1e 1e7f 7f5b 5b5f 5f75 7570 7072 72ee ee17 17b3 b3fb fbda da36 36e9 e9ed edba ba01 01da da01 01c3 c311 1184 8475 75bc bc09 0933 339c 9cce ce8f\n",
      "\n",
      "\n"
     ]
    },
    {
     "name": "stderr",
     "output_type": "stream",
     "text": [
      "[Succeeded / Failed / Skipped / Total] 6 / 0 / 1 / 7:   6%|▌         | 6/100 [00:45<11:45,  7.51s/it]"
     ]
    },
    {
     "name": "stdout",
     "output_type": "stream",
     "text": [
      "--------------------------------------------- Result 7 ---------------------------------------------\n",
      "[[7 (100%)]] --> [[6 (100%)]]\n",
      "\n",
      "c4ed ed00 0000 0001 0101 0108 080a 0a00 [[0018]] [[1802]] 0208 085e 5e76 76c6 c64c 4c17 1703 0303 0300 0025 2500 0000 0000 0000 0000 0000 0000 0060 6022 22b9 b96f 6f35 3553 53dd dd65 65fd fd56 563c 3ce3 e372 720c 0c77 7714 1414 1441 41ad ad2b 2bdf dfe2 e2e1 e137 37d2 d2e7 e740 4022 2209 0934\n",
      "\n",
      "c4ed ed00 0000 0001 0101 0108 080a 0a00 [[007b]] [[7b02]] 0208 085e 5e76 76c6 c64c 4c17 1703 0303 0300 0025 2500 0000 0000 0000 0000 0000 0000 0060 6022 22b9 b96f 6f35 3553 53dd dd65 65fd fd56 563c 3ce3 e372 720c 0c77 7714 1414 1441 41ad ad2b 2bdf dfe2 e2e1 e137 37d2 d2e7 e740 4022 2209 0934\n",
      "\n",
      "\n"
     ]
    },
    {
     "name": "stderr",
     "output_type": "stream",
     "text": [
      "[Succeeded / Failed / Skipped / Total] 7 / 0 / 1 / 8:   7%|▋         | 7/100 [00:57<12:44,  8.23s/it]"
     ]
    },
    {
     "name": "stdout",
     "output_type": "stream",
     "text": [
      "--------------------------------------------- Result 8 ---------------------------------------------\n",
      "[[11 (100%)]] --> [[6 (100%)]]\n",
      "\n",
      "cf53 5300 [[005b]] [[5b72]] 72e3 e34e 4efe fe3c 3ced ed86 [[8692]] [[9258]] 583a 3a00 0096 96ff ff31 31d2 d216 16a9 a9ff ff62 6235 3596 96d5 d57a [[7aeb]] [[eb45]] 45ac ac9b 9b3f 3f5f 5fde [[defe]] [[fed8]] d898 985d 5d1a 1ad9 d971 7151 5151 51c4 c49b 9bca ca46 [[46ac]] [[ac88]] 88fb fbec ecdd dd4a 4a72 7247 477e 7eb1 b14f 4f6e 6ebd bdb4 [[b4ae]] [[ae01]] 0101 01e7\n",
      "\n",
      "cf53 5300 [[0000]] [[0072]] 72e3 e34e 4efe fe3c 3ced ed86 [[8631]] [[3158]] 583a 3a00 0096 96ff ff31 31d2 d216 16a9 a9ff ff62 6235 3596 96d5 d57a [[7a20]] [[2045]] 45ac ac9b 9b3f 3f5f 5fde [[de35]] [[35d8]] d898 985d 5d1a 1ad9 d971 7151 5151 51c4 c49b 9bca ca46 [[467a]] [[7a88]] 88fb fbec ecdd dd4a 4a72 7247 477e 7eb1 b14f 4f6e 6ebd bdb4 [[b436]] [[3601]] 0101 01e7\n",
      "\n",
      "\n"
     ]
    },
    {
     "name": "stderr",
     "output_type": "stream",
     "text": [
      "[Succeeded / Failed / Skipped / Total] 8 / 0 / 1 / 9:   8%|▊         | 8/100 [00:59<11:29,  7.49s/it]"
     ]
    },
    {
     "name": "stdout",
     "output_type": "stream",
     "text": [
      "--------------------------------------------- Result 9 ---------------------------------------------\n",
      "[[1 (100%)]] --> [[11 (78%)]]\n",
      "\n",
      "159f 9f86 8664 64ff ff73 736b 6b72 72e2 e2c2 c250 [[5018]] [[1801]] 0158 58ac ac04 0400 0000 0017 1703 0303 0305 0533 3300 0000 0000 0000 0000 0000 0000 0036 36fb fbfc fcba babb bb2b 2b99 99c0 c09a 9a02 0238 384d 4d70 70dd [[dd84]] [[84a0]] a003 038e 8ea7 a75e 5ece ce8b 8b9c 9ce0 e0ce ce38 383a 3a9a 9a46 4692 921a 1aa7 a77a 7a09 09be\n",
      "\n",
      "159f 9f86 8664 64ff ff73 736b 6b72 72e2 e2c2 c250 [[500a]] [[0a01]] 0158 58ac ac04 0400 0000 0017 1703 0303 0305 0533 3300 0000 0000 0000 0000 0000 0000 0036 36fb fbfc fcba babb bb2b 2b99 99c0 c09a 9a02 0238 384d 4d70 70dd [[dd0e]] [[0ea0]] a003 038e 8ea7 a75e 5ece ce8b 8b9c 9ce0 e0ce ce38 383a 3a9a 9a46 4692 921a 1aa7 a77a 7a09 09be\n",
      "\n",
      "\n"
     ]
    },
    {
     "name": "stderr",
     "output_type": "stream",
     "text": [
      "[Succeeded / Failed / Skipped / Total] 9 / 0 / 1 / 10:   9%|▉         | 9/100 [01:07<11:20,  7.48s/it]"
     ]
    },
    {
     "name": "stdout",
     "output_type": "stream",
     "text": [
      "--------------------------------------------- Result 10 ---------------------------------------------\n",
      "[[0 (100%)]] --> [[11 (55%)]]\n",
      "\n",
      "7f40 40af af6a 6a08 08c6 c64a 4a09 0926 26a8 a850 [[5018]] [[1807]] 07fb fbc3 c35e 5e00 0000 0017 1703 [[0303]] [[0302]] 028c 8c5c 5cad ad3d 3d08 08fa faba ba86 868a 8a92 9232 3205 0524 [[24cb]] [[cb9c]] 9c66 66eb eb70 7002 0262 62ce cee7 e767 67e3 e3a6 a6a4 a4ac ac23 2310 101e 1e86 868f 8fd3 d3d2 d2d1 d106 0682 822e 2e1b 1b8c 8c84 8476 76c1\n",
      "\n",
      "7f40 40af af6a 6a08 08c6 c64a 4a09 0926 26a8 a850 [[50c4]] [[c407]] 07fb fbc3 c35e 5e00 0000 0017 1703 [[0363]] [[6302]] 028c 8c5c 5cad ad3d 3d08 08fa faba ba86 868a 8a92 9232 3205 0524 [[2437]] [[379c]] 9c66 66eb eb70 7002 0262 62ce cee7 e767 67e3 e3a6 a6a4 a4ac ac23 2310 101e 1e86 868f 8fd3 d3d2 d2d1 d106 0682 822e 2e1b 1b8c 8c84 8476 76c1\n",
      "\n",
      "\n"
     ]
    },
    {
     "name": "stderr",
     "output_type": "stream",
     "text": [
      "[Succeeded / Failed / Skipped / Total] 10 / 0 / 1 / 11:  10%|█         | 10/100 [01:08<10:19,  6.89s/it]"
     ]
    },
    {
     "name": "stdout",
     "output_type": "stream",
     "text": [
      "--------------------------------------------- Result 11 ---------------------------------------------\n",
      "[[3 (100%)]] --> [[0 (88%)]]\n",
      "\n",
      "1139 3987 8785 85c3 c3ae aeee ee40 40a5 a581 8150 5010 1000 [[00f5]] [[f511]] 113c 3c00 0000 00ea ea30 306a 6a1f 1fbd bd97 971f 1f2e 2ec4 c481 813b 3b9e 9e8d 8d28 288d 8d1f 1f12 1271 7114 14ee ee97 97c3 c396 96ef ef27 27b8 b8a8 a8cd cd67 678b 8b9a 9a09 09c8 c882 82a5 a53c 3cb1 b139 3970 70ed ed10 1090 90a5 a551 51ca ca17 1741\n",
      "\n",
      "1139 3987 8785 85c3 c3ae aeee ee40 40a5 a581 8150 5010 1000 [[001f]] [[1f11]] 113c 3c00 0000 00ea ea30 306a 6a1f 1fbd bd97 971f 1f2e 2ec4 c481 813b 3b9e 9e8d 8d28 288d 8d1f 1f12 1271 7114 14ee ee97 97c3 c396 96ef ef27 27b8 b8a8 a8cd cd67 678b 8b9a 9a09 09c8 c882 82a5 a53c 3cb1 b139 3970 70ed ed10 1090 90a5 a551 51ca ca17 1741\n",
      "\n",
      "\n"
     ]
    },
    {
     "name": "stderr",
     "output_type": "stream",
     "text": [
      "[Succeeded / Failed / Skipped / Total] 11 / 0 / 1 / 12:  11%|█         | 11/100 [01:10<09:30,  6.41s/it]"
     ]
    },
    {
     "name": "stdout",
     "output_type": "stream",
     "text": [
      "--------------------------------------------- Result 12 ---------------------------------------------\n",
      "[[7 (100%)]] --> [[11 (100%)]]\n",
      "\n",
      "ea96 9600 0000 0001 0101 0108 080a 0a5e 5e76 76eb eb91 9100 [[0018]] [[180a]] 0af9 f9b5 b582 820b 0b3e 3e72 7252 5267 679c 9c97 97d1 d1ec ec42 4270 70fc fc74 74b8 b8eb eba8 a887 8753 5316 16a4 a471 71b9 b94e 4e83 8347 479b 9bc3 c37d 7d99 9957 579e 9e4a 4a91 918c 8c37 37a9 a917 1719 19d0 d029 293b 3b46 460e 0e23 2360 609c 9c9a\n",
      "\n",
      "ea96 9600 0000 0001 0101 0108 080a 0a5e 5e76 76eb eb91 9100 [[005b]] [[5b0a]] 0af9 f9b5 b582 820b 0b3e 3e72 7252 5267 679c 9c97 97d1 d1ec ec42 4270 70fc fc74 74b8 b8eb eba8 a887 8753 5316 16a4 a471 71b9 b94e 4e83 8347 479b 9bc3 c37d 7d99 9957 579e 9e4a 4a91 918c 8c37 37a9 a917 1719 19d0 d029 293b 3b46 460e 0e23 2360 609c 9c9a\n",
      "\n",
      "\n"
     ]
    },
    {
     "name": "stderr",
     "output_type": "stream",
     "text": [
      "[Succeeded / Failed / Skipped / Total] 12 / 0 / 1 / 13:  12%|█▏        | 12/100 [01:17<09:29,  6.47s/it]"
     ]
    },
    {
     "name": "stdout",
     "output_type": "stream",
     "text": [
      "--------------------------------------------- Result 13 ---------------------------------------------\n",
      "[[4 (100%)]] --> [[2 (75%)]]\n",
      "\n",
      "[[ea98]] [[9822]] 22bc bc09 0926 [[2696]] [[965b]] 5bc2 c2ba ba80 8010 [[1008]] [[0800]] 0080 80a8 a800 0000 [[0001]] [[0101]] 0108 080a [[0a51]] [[5150]] 5091 913b 3b01 0128 2814 14eb eb89 8986 8607 072c 2c1e 1e61 61e6 e605 059e 9eaf af7d 7df4 f452 52e6 e699 9916 1624 249c 9c0b 0bac ac1a 1ac7 c7ad ade3 e337 3750 502c 2cda dadf df2d 2d84 842e 2e21 21aa aa25\n",
      "\n",
      "[[ea44]] [[4422]] 22bc bc09 0926 [[26e8]] [[e85b]] 5bc2 c2ba ba80 8010 [[107d]] [[7d00]] 0080 80a8 a800 0000 [[004d]] [[4d01]] 0108 080a [[0a00]] [[0050]] 5091 913b 3b01 0128 2814 14eb eb89 8986 8607 072c 2c1e 1e61 61e6 e605 059e 9eaf af7d 7df4 f452 52e6 e699 9916 1624 249c 9c0b 0bac ac1a 1ac7 c7ad ade3 e337 3750 502c 2cda dadf df2d 2d84 842e 2e21 21aa aa25\n",
      "\n",
      "\n"
     ]
    },
    {
     "name": "stderr",
     "output_type": "stream",
     "text": [
      "[Succeeded / Failed / Skipped / Total] 13 / 0 / 1 / 14:  13%|█▎        | 13/100 [01:33<10:24,  7.18s/it]"
     ]
    },
    {
     "name": "stdout",
     "output_type": "stream",
     "text": [
      "--------------------------------------------- Result 14 ---------------------------------------------\n",
      "[[4 (100%)]] --> [[0 (78%)]]\n",
      "\n",
      "ea98 9824 2482 8228 2870 [[7096]] [[965b]] 5bf9 [[f974]] [[7480]] [[8010]] [[1008]] [[0800]] [[0017]] 173d 3d00 0000 0001 0101 [[0108]] [[080a]] [[0a51]] [[5151]] 5199 9998 9801 0128 2857 5702 0234 34eb ebbb bb0e 0e68 68bc bc79 79fa fa7a 7a04 04d0 [[d007]] [[07d8]] d84d 4d59 5948 4863 636f [[6f06]] [[06ab]] abec ecb1 b122 22ba ba5a 5aec ecbe be4a 4aa6 a669 692b 2b4f 4f17 1767 67d0\n",
      "\n",
      "ea98 9824 2482 8228 2870 [[7017]] [[175b]] 5bf9 [[f959]] [[5980]] [[80cc]] [[cc08]] [[0842]] [[4217]] 173d 3d00 0000 0001 0101 [[0154]] [[540a]] [[0a00]] [[0051]] 5199 9998 9801 0128 2857 5702 0234 34eb ebbb bb0e 0e68 68bc bc79 79fa fa7a 7a04 04d0 [[d04c]] [[4cd8]] d84d 4d59 5948 4863 636f [[6f97]] [[97ab]] abec ecb1 b122 22ba ba5a 5aec ecbe be4a 4aa6 a669 692b 2b4f 4f17 1767 67d0\n",
      "\n",
      "\n"
     ]
    },
    {
     "name": "stderr",
     "output_type": "stream",
     "text": [
      "[Succeeded / Failed / Skipped / Total] 14 / 0 / 1 / 15:  14%|█▍        | 14/100 [02:09<13:15,  9.26s/it]"
     ]
    },
    {
     "name": "stdout",
     "output_type": "stream",
     "text": [
      "--------------------------------------------- Result 15 ---------------------------------------------\n",
      "[[4 (100%)]] --> [[11 (100%)]]\n",
      "\n",
      "de2a 2aa3 a3a6 a6d8 d898 989d 9db9 b9b3 b36e 6e80 [[8010]] [[1001]] 0121 2164 64b6 b600 0000 [[0001]] [[0101]] [[0108]] [[080a]] 0a4f 4f45 454a 4a93 [[9301]] [[0110]] 1001 012b 2b8b 8bc7 c7c3 c3b7 b768 6838 3840 40d7 d77d 7dc4 c427 [[279c]] [[9c6b]] [[6bd0]] [[d056]] 56ab [[abfb]] [[fb69]] 698b 8bf5 [[f525]] [[2549]] 49ff ffa5 a563 630d 0d08 084c 4ce3 e34a 4a8a 8a91 912e 2ea4 a48b\n",
      "\n",
      "de2a 2aa3 a3a6 a6d8 d898 989d 9db9 b9b3 b36e 6e80 [[8053]] [[5301]] 0121 2164 64b6 b600 0000 [[0075]] [[7501]] [[0146]] [[460a]] 0a4f 4f45 454a 4a93 [[93a3]] [[a310]] 1001 012b 2b8b 8bc7 c7c3 c3b7 b768 6838 3840 40d7 d77d 7dc4 c427 [[275c]] [[5c6b]] [[6be8]] [[e856]] 56ab [[ab05]] [[0569]] 698b 8bf5 [[f5a4]] [[a449]] 49ff ffa5 a563 630d 0d08 084c 4ce3 e34a 4a8a 8a91 912e 2ea4 a48b\n",
      "\n",
      "\n"
     ]
    },
    {
     "name": "stderr",
     "output_type": "stream",
     "text": [
      "[Succeeded / Failed / Skipped / Total] 15 / 0 / 1 / 16:  15%|█▌        | 15/100 [02:13<12:34,  8.87s/it]"
     ]
    },
    {
     "name": "stdout",
     "output_type": "stream",
     "text": [
      "--------------------------------------------- Result 16 ---------------------------------------------\n",
      "[[0 (87%)]] --> [[1 (62%)]]\n",
      "\n",
      "2909 0900 005d 5dc2 c28d 8d42 4265 6561 6163 636f 6f6e 6e2d 2d76 7632 327c 7c4a 4a43 [[434b]] [[4b7c]] 7c57 5769 696e 6e64 646f 6f77 7773 7350 5043 437c 7c30 3033 3363 6364 6465 6533 3361 6132 3232 3261 6165 6539 3961 6137 3730 3062 6262 6238 3863 6335 3531 3133 3337 3766 6661 6134 3438 3832 3261 6134 [[3465]] [[6533]] 3339 3938 3838\n",
      "\n",
      "2909 0900 005d 5dc2 c28d 8d42 4265 6561 6163 636f 6f6e 6e2d 2d76 7632 327c 7c4a 4a43 [[43ed]] [[ed7c]] 7c57 5769 696e 6e64 646f 6f77 7773 7350 5043 437c 7c30 3033 3363 6364 6465 6533 3361 6132 3232 3261 6165 6539 3961 6137 3730 3062 6262 6238 3863 6335 3531 3133 3337 3766 6661 6134 3438 3832 3261 6134 [[345f]] [[5f33]] 3339 3938 3838\n",
      "\n",
      "\n"
     ]
    },
    {
     "name": "stderr",
     "output_type": "stream",
     "text": [
      "[Succeeded / Failed / Skipped / Total] 16 / 0 / 1 / 17:  16%|█▌        | 16/100 [02:27<12:54,  9.22s/it]"
     ]
    },
    {
     "name": "stdout",
     "output_type": "stream",
     "text": [
      "--------------------------------------------- Result 17 ---------------------------------------------\n",
      "[[4 (100%)]] --> [[0 (98%)]]\n",
      "\n",
      "[[9fb4]] [[b44f]] 4f2f 2f79 79ca cab2 [[b2bf]] [[bfbb]] bb40 [[4080]] [[8010]] [[1008]] [[0800]] [[0023]] 2323 2300 0000 0001 0101 0108 [[080a]] [[0a4c]] [[4cfd]] fd58 58da da01 0125 25fb fbfe fe15 1528 28e3 e313 1383 83bf bfc7 c76c 6c82 82a0 a0ca cae2 e227 2772 72c0 c074 7488 889d 9de6 e62b 2b48 48dd ddba [[ba78]] [[78c5]] c5ec ecd3 d343 43d7 d79a 9a23 23f7 f7f0 f0f0 f0af\n",
      "\n",
      "[[9f03]] [[034f]] 4f2f 2f79 79ca cab2 [[b21f]] [[1fbb]] bb40 [[4050]] [[5010]] [[1001]] [[011b]] [[1b23]] 2323 2300 0000 0001 0101 0108 [[08c8]] [[c800]] [[00fd]] fd58 58da da01 0125 25fb fbfe fe15 1528 28e3 e313 1383 83bf bfc7 c76c 6c82 82a0 a0ca cae2 e227 2772 72c0 c074 7488 889d 9de6 e62b 2b48 48dd ddba [[ba86]] [[86c5]] c5ec ecd3 d343 43d7 d79a 9a23 23f7 f7f0 f0f0 f0af\n",
      "\n",
      "\n"
     ]
    },
    {
     "name": "stderr",
     "output_type": "stream",
     "text": [
      "[Succeeded / Failed / Skipped / Total] 17 / 0 / 1 / 18:  17%|█▋        | 17/100 [02:29<12:10,  8.80s/it]"
     ]
    },
    {
     "name": "stdout",
     "output_type": "stream",
     "text": [
      "--------------------------------------------- Result 18 ---------------------------------------------\n",
      "[[9 (100%)]] --> [[6 (100%)]]\n",
      "\n",
      "6d78 7800 0000 0001 0101 0108 080a 0a24 24f4 f4c6 c68b 8b00 [[0002]] [[0280]] 808a 8a57 57fc fc10 109d 9d9c 9ce8 e874 74ab ab29 29b3 b315 153b 3bd6 d65c 5cef efa0 a072 72e7 e7f5 f5ff ff10 107e 7e26 2687 8797 9747 47e5 e53d 3db4 b449 49fc fc39 397f 7f66 6663 637e 7ec6 c65e 5ee6 e606 0690 90e8 e865 65b0 b01c 1c8a 8a9c 9cb8 b865\n",
      "\n",
      "6d78 7800 0000 0001 0101 0108 080a 0a24 24f4 f4c6 c68b 8b00 [[0050]] [[5080]] 808a 8a57 57fc fc10 109d 9d9c 9ce8 e874 74ab ab29 29b3 b315 153b 3bd6 d65c 5cef efa0 a072 72e7 e7f5 f5ff ff10 107e 7e26 2687 8797 9747 47e5 e53d 3db4 b449 49fc fc39 397f 7f66 6663 637e 7ec6 c65e 5ee6 e606 0690 90e8 e865 65b0 b01c 1c8a 8a9c 9cb8 b865\n",
      "\n",
      "\n"
     ]
    },
    {
     "name": "stderr",
     "output_type": "stream",
     "text": [
      "[Succeeded / Failed / Skipped / Total] 18 / 0 / 1 / 19:  18%|█▊        | 18/100 [02:31<11:31,  8.43s/it]"
     ]
    },
    {
     "name": "stdout",
     "output_type": "stream",
     "text": [
      "--------------------------------------------- Result 19 ---------------------------------------------\n",
      "[[6 (100%)]] --> [[8 (100%)]]\n",
      "\n",
      "2515 1500 0000 0001 0101 0108 080a 0a1f 1f1c 1c84 840d 0d00 [[0031]] [[316c]] 6c85 8517 1703 0301 0100 0060 603e 3ea0 a0b2 b278 78c2 c2a4 a47f 7f46 46dd dd7d 7d1a 1a1c 1c53 535b 5b3e 3ea6 a66d 6d1f 1f54 54f0 f0ca ca7d 7d24 246b 6b1e 1ef3 f37b 7b14 1450 5074 7442 42ec ec09 091c 1c31 31ee ee5e 5ea1 a1c7 c707 0709 09ea ea94 9446\n",
      "\n",
      "2515 1500 0000 0001 0101 0108 080a 0a1f 1f1c 1c84 840d 0d00 [[0023]] [[236c]] 6c85 8517 1703 0301 0100 0060 603e 3ea0 a0b2 b278 78c2 c2a4 a47f 7f46 46dd dd7d 7d1a 1a1c 1c53 535b 5b3e 3ea6 a66d 6d1f 1f54 54f0 f0ca ca7d 7d24 246b 6b1e 1ef3 f37b 7b14 1450 5074 7442 42ec ec09 091c 1c31 31ee ee5e 5ea1 a1c7 c707 0709 09ea ea94 9446\n",
      "\n",
      "\n"
     ]
    },
    {
     "name": "stderr",
     "output_type": "stream",
     "text": [
      "[Succeeded / Failed / Skipped / Total] 19 / 0 / 1 / 20:  19%|█▉        | 19/100 [02:33<10:55,  8.09s/it]"
     ]
    },
    {
     "name": "stdout",
     "output_type": "stream",
     "text": [
      "--------------------------------------------- Result 20 ---------------------------------------------\n",
      "[[3 (100%)]] --> [[0 (68%)]]\n",
      "\n",
      "1149 4990 9065 6549 49bb bb7c 7c03 03f7 f70b 0b50 5010 1000 [[00f5]] [[f5a3]] a35a 5a00 0000 00f4 f45a 5ad7 d798 98ce ce29 2991 9166 660f 0fc2 c2fa faba ba83 8320 20d7 d7f8 f819 1900 00b9 b9d7 d7a7 a77a 7af3 f388 885b 5bf6 f60e 0e95 9513 1312 1265 65ad ad51 51db dbe8 e827 277b 7b03 03cf cf4b 4bfe fed1 d1db dbd2 d2aa aab5 b552\n",
      "\n",
      "1149 4990 9065 6549 49bb bb7c 7c03 03f7 f70b 0b50 5010 1000 [[0047]] [[47a3]] a35a 5a00 0000 00f4 f45a 5ad7 d798 98ce ce29 2991 9166 660f 0fc2 c2fa faba ba83 8320 20d7 d7f8 f819 1900 00b9 b9d7 d7a7 a77a 7af3 f388 885b 5bf6 f60e 0e95 9513 1312 1265 65ad ad51 51db dbe8 e827 277b 7b03 03cf cf4b 4bfe fed1 d1db dbd2 d2aa aab5 b552\n",
      "\n",
      "\n"
     ]
    },
    {
     "name": "stderr",
     "output_type": "stream",
     "text": [
      "[Succeeded / Failed / Skipped / Total] 20 / 0 / 1 / 21:  20%|██        | 20/100 [02:40<10:40,  8.01s/it]"
     ]
    },
    {
     "name": "stdout",
     "output_type": "stream",
     "text": [
      "--------------------------------------------- Result 21 ---------------------------------------------\n",
      "[[5 (100%)]] --> [[11 (54%)]]\n",
      "\n",
      "[[4b69]] [[6900]] [[0071]] [[71f1]] f1f4 f490 [[906f]] [[6f6d]] 6d15 1567 674b 4b16 1668 688d 8dcc cccc cc91 91be bede de00 0002 0210 10c3 c300 0000 0032 32a1 a1d3 d3f7 f75d 5dac acb9 b917 174b 4b3a 3a29 29d8 d8e7 e793 9372 72ac aca6 a6b6 b6c2 c2b7 b776 76ed edb8 b8a4 a495 9538 38d6 d666 6698 98e0 e0f0 f018 18c6 c64f 4f9e 9e29 29a7 a785 8571\n",
      "\n",
      "[[4be6]] [[e600]] [[002a]] [[2af1]] f1f4 f490 [[9009]] [[096d]] 6d15 1567 674b 4b16 1668 688d 8dcc cccc cc91 91be bede de00 0002 0210 10c3 c300 0000 0032 32a1 a1d3 d3f7 f75d 5dac acb9 b917 174b 4b3a 3a29 29d8 d8e7 e793 9372 72ac aca6 a6b6 b6c2 c2b7 b776 76ed edb8 b8a4 a495 9538 38d6 d666 6698 98e0 e0f0 f018 18c6 c64f 4f9e 9e29 29a7 a785 8571\n",
      "\n",
      "\n"
     ]
    },
    {
     "name": "stderr",
     "output_type": "stream",
     "text": [
      "[Succeeded / Failed / Skipped / Total] 21 / 0 / 1 / 22:  21%|██        | 21/100 [02:42<10:10,  7.73s/it]"
     ]
    },
    {
     "name": "stdout",
     "output_type": "stream",
     "text": [
      "--------------------------------------------- Result 22 ---------------------------------------------\n",
      "[[7 (100%)]] --> [[6 (100%)]]\n",
      "\n",
      "d912 1200 0000 0001 0101 0108 080a 0a5e 5e76 769a 9af0 f000 [[0017]] [[17f6]] f6d6 d617 1703 0303 0310 1018 1800 0000 0000 0000 0000 0000 0005 059a 9a3f 3fb3 b30e 0e2b 2b7a 7a46 4611 11e8 e86a 6afd fd1f 1f37 3777 7747 4744 44e9 e9eb eb25 25a5 a5ab ab6e 6e7b 7be5 e599 994c 4c5f 5fbb bbb4 b4ea eab3 b3ec ecbd bd30 30c7 c7db db33\n",
      "\n",
      "d912 1200 0000 0001 0101 0108 080a 0a5e 5e76 769a 9af0 f000 [[0051]] [[51f6]] f6d6 d617 1703 0303 0310 1018 1800 0000 0000 0000 0000 0000 0005 059a 9a3f 3fb3 b30e 0e2b 2b7a 7a46 4611 11e8 e86a 6afd fd1f 1f37 3777 7747 4744 44e9 e9eb eb25 25a5 a5ab ab6e 6e7b 7be5 e599 994c 4c5f 5fbb bbb4 b4ea eab3 b3ec ecbd bd30 30c7 c7db db33\n",
      "\n",
      "\n"
     ]
    },
    {
     "name": "stderr",
     "output_type": "stream",
     "text": [
      "[Succeeded / Failed / Skipped / Total] 22 / 0 / 1 / 23:  22%|██▏       | 22/100 [03:11<11:20,  8.72s/it]"
     ]
    },
    {
     "name": "stdout",
     "output_type": "stream",
     "text": [
      "--------------------------------------------- Result 23 ---------------------------------------------\n",
      "[[4 (100%)]] --> [[3 (77%)]]\n",
      "\n",
      "ea98 9825 [[25df]] [[df1a]] 1a18 1896 965c [[5c2d]] [[2d92]] [[9280]] [[8010]] [[1008]] 0800 0017 173d 3d00 0000 0001 0101 [[0108]] [[080a]] 0a51 5152 5295 958e 8e01 0128 2896 9600 004b 4bc7 c7c6 c627 [[2746]] [[46b4]] [[b462]] [[6275]] [[752e]] 2ed4 d400 0037 37e6 e680 8017 171d [[1d42]] [[42b5]] b5ab ab01 01a3 a3aa aa65 65c6 c622 22c5 c504 0482 [[82b1]] [[b159]] 59f9 f991 91e0 e09c 9c7d\n",
      "\n",
      "ea98 9825 [[2511]] [[111a]] 1a18 1896 965c [[5cdd]] [[dd92]] [[92ab]] [[ab12]] [[1208]] 0800 0017 173d 3d00 0000 0001 0101 [[0182]] [[820a]] 0a51 5152 5295 958e 8e01 0128 2896 9600 004b 4bc7 c7c6 c627 [[270c]] [[0c76]] [[7662]] [[6215]] [[152e]] 2ed4 d400 0037 37e6 e680 8017 171d [[1d5d]] [[5db5]] b5ab ab01 01a3 a3aa aa65 65c6 c622 22c5 c504 0482 [[82ff]] [[ff59]] 59f9 f991 91e0 e09c 9c7d\n",
      "\n",
      "\n"
     ]
    },
    {
     "name": "stderr",
     "output_type": "stream",
     "text": [
      "[Succeeded / Failed / Skipped / Total] 23 / 0 / 1 / 24:  23%|██▎       | 23/100 [03:13<10:47,  8.41s/it]"
     ]
    },
    {
     "name": "stdout",
     "output_type": "stream",
     "text": [
      "--------------------------------------------- Result 24 ---------------------------------------------\n",
      "[[1 (100%)]] --> [[0 (100%)]]\n",
      "\n",
      "[[01bb]] [[bb94]] 9469 698c 8ce1 e1b3 b30e 0eef ef24 2450 5018 183f 3f57 57de deaf af00 0000 00cf cf22 22fa fa70 702c 2c9c 9c3e 3ec0 c063 6348 487c 7c79 79b4 b48f 8fab ab97 97c1 c153 53c5 c559 5905 05d4 d4f4 f4df dfa9 a9fe fe9b 9b33 3306 06bd bdfe fe5c 5cc4 c412 1212 12e4 e40f 0fc7 c74c 4ccd cdbf bf7a 7af9 f9da dafb fb69 6939\n",
      "\n",
      "[[0171]] [[7194]] 9469 698c 8ce1 e1b3 b30e 0eef ef24 2450 5018 183f 3f57 57de deaf af00 0000 00cf cf22 22fa fa70 702c 2c9c 9c3e 3ec0 c063 6348 487c 7c79 79b4 b48f 8fab ab97 97c1 c153 53c5 c559 5905 05d4 d4f4 f4df dfa9 a9fe fe9b 9b33 3306 06bd bdfe fe5c 5cc4 c412 1212 12e4 e40f 0fc7 c74c 4ccd cdbf bf7a 7af9 f9da dafb fb69 6939\n",
      "\n",
      "\n"
     ]
    },
    {
     "name": "stderr",
     "output_type": "stream",
     "text": [
      "[Succeeded / Failed / Skipped / Total] 24 / 0 / 1 / 25:  24%|██▍       | 24/100 [03:15<10:18,  8.13s/it]"
     ]
    },
    {
     "name": "stdout",
     "output_type": "stream",
     "text": [
      "--------------------------------------------- Result 25 ---------------------------------------------\n",
      "[[1 (100%)]] --> [[0 (68%)]]\n",
      "\n",
      "[[03e1]] [[e1ff]] ff14 14b0 b004 043a 3acd cd1f 1fb6 b650 5018 1840 405a 5a7f 7fa0 a000 0000 0017 1703 0303 0300 0026 2600 0000 0000 0000 0000 0000 0000 00c6 c614 148b 8b04 0475 7594 94e2 e2e6 e608 08fc fcdd dd0b 0bb0 b0cf cf71 7172 7215 1501 01dc dc61 61d5 d573 7394 9444 4490 903a 3a07 07c6 c653 53a0 a07c\n",
      "\n",
      "[[03be]] [[beff]] ff14 14b0 b004 043a 3acd cd1f 1fb6 b650 5018 1840 405a 5a7f 7fa0 a000 0000 0017 1703 0303 0300 0026 2600 0000 0000 0000 0000 0000 0000 00c6 c614 148b 8b04 0475 7594 94e2 e2e6 e608 08fc fcdd dd0b 0bb0 b0cf cf71 7172 7215 1501 01dc dc61 61d5 d573 7394 9444 4490 903a 3a07 07c6 c653 53a0 a07c\n",
      "\n",
      "\n"
     ]
    },
    {
     "name": "stderr",
     "output_type": "stream",
     "text": [
      "[Succeeded / Failed / Skipped / Total] 25 / 0 / 1 / 26:  25%|██▌       | 25/100 [03:20<10:00,  8.00s/it]"
     ]
    },
    {
     "name": "stdout",
     "output_type": "stream",
     "text": [
      "--------------------------------------------- Result 26 ---------------------------------------------\n",
      "[[4 (100%)]] --> [[3 (94%)]]\n",
      "\n",
      "[[e3af]] [[af61]] 6144 44ae ae01 0170 706a 6af5 f55a 5a80 [[8010]] [[1008]] [[0800]] 0073 7371 7100 0000 0001 0101 [[0108]] [[080a]] 0a0a 0af4 f4a2 a22f 2f01 0125 258e 8ed9 d9cd cd42 4259 5989 89f6 f63f 3f01 0151 51a1 a16e 6e6a 6a20 20e3 e3c0 c0d7 d761 615b 5b1b 1bce ceb5 b56d 6d89 89e7 e7e3 e31d 1ddc dcc1 c16c 6c11 1179 7993 9375 757b 7b24 2452\n",
      "\n",
      "[[e33e]] [[3e61]] 6144 44ae ae01 0170 706a 6af5 f55a 5a80 [[805f]] [[5f00]] [[0000]] 0073 7371 7100 0000 0001 0101 [[015a]] [[5a0a]] 0a0a 0af4 f4a2 a22f 2f01 0125 258e 8ed9 d9cd cd42 4259 5989 89f6 f63f 3f01 0151 51a1 a16e 6e6a 6a20 20e3 e3c0 c0d7 d761 615b 5b1b 1bce ceb5 b56d 6d89 89e7 e7e3 e31d 1ddc dcc1 c16c 6c11 1179 7993 9375 757b 7b24 2452\n",
      "\n",
      "\n"
     ]
    },
    {
     "name": "stderr",
     "output_type": "stream",
     "text": [
      "[Succeeded / Failed / Skipped / Total] 26 / 0 / 1 / 27:  26%|██▌       | 26/100 [03:35<10:12,  8.28s/it]"
     ]
    },
    {
     "name": "stdout",
     "output_type": "stream",
     "text": [
      "--------------------------------------------- Result 27 ---------------------------------------------\n",
      "[[1 (100%)]] --> [[7 (96%)]]\n",
      "\n",
      "[[03e1]] [[e1d9]] d977 7739 3967 671e [[1e22]] [[2287]] [[878b]] 8b50 [[5018]] [[18ff]] ffff ff04 044f 4f00 0000 0017 1703 0303 [[0300]] [[0027]] 2700 0000 0000 0000 0000 0000 0003 03d6 d6d0 d019 192f 2fc7 c759 599d 9dfb fb55 5579 7910 10b3 b312 1236 36e8 e815 150c 0c54 54d6 d62b 2bc0 c092 [[92ca]] [[cab3]] b377 7747 4768 68c8 c860 6026 26b9 b973\n",
      "\n",
      "[[0331]] [[31d9]] d977 7739 3967 671e [[1ea5]] [[a552]] [[528b]] 8b50 [[50d7]] [[d7ff]] ffff ff04 044f 4f00 0000 0017 1703 0303 [[03f2]] [[f227]] 2700 0000 0000 0000 0000 0000 0003 03d6 d6d0 d019 192f 2fc7 c759 599d 9dfb fb55 5579 7910 10b3 b312 1236 36e8 e815 150c 0c54 54d6 d62b 2bc0 c092 [[92b2]] [[b2b3]] b377 7747 4768 68c8 c860 6026 26b9 b973\n",
      "\n",
      "\n"
     ]
    },
    {
     "name": "stderr",
     "output_type": "stream",
     "text": [
      "[Succeeded / Failed / Skipped / Total] 27 / 0 / 1 / 28:  27%|██▋       | 27/100 [03:36<09:46,  8.03s/it]"
     ]
    },
    {
     "name": "stdout",
     "output_type": "stream",
     "text": [
      "--------------------------------------------- Result 28 ---------------------------------------------\n",
      "[[0 (100%)]] --> [[1 (99%)]]\n",
      "\n",
      "[[15f3]] [[f397]] 9799 9958 585e 5e03 0353 5342 42dd dd50 5018 1801 0100 00fc fc1e 1e00 0000 00b1 b137 37ab abfa fa42 425b 5ba8 a867 6718 18f8 f801 0124 24d7 d744 4422 2222 2283 83af aff6 f639 391c 1ce4 e455 556e 6e1e 1e82 8248 48c0 c079 7989 897f 7f3e 3e5d 5d18 18d2 d207 074a 4af7 f7fd fda9 a979 79c2 c2a1 a1ca ca17 1788 88e9\n",
      "\n",
      "[[1563]] [[6397]] 9799 9958 585e 5e03 0353 5342 42dd dd50 5018 1801 0100 00fc fc1e 1e00 0000 00b1 b137 37ab abfa fa42 425b 5ba8 a867 6718 18f8 f801 0124 24d7 d744 4422 2222 2283 83af aff6 f639 391c 1ce4 e455 556e 6e1e 1e82 8248 48c0 c079 7989 897f 7f3e 3e5d 5d18 18d2 d207 074a 4af7 f7fd fda9 a979 79c2 c2a1 a1ca ca17 1788 88e9\n",
      "\n",
      "\n"
     ]
    },
    {
     "name": "stderr",
     "output_type": "stream",
     "text": [
      "[Succeeded / Failed / Skipped / Total] 28 / 0 / 1 / 29:  28%|██▊       | 28/100 [03:38<09:21,  7.80s/it]"
     ]
    },
    {
     "name": "stdout",
     "output_type": "stream",
     "text": [
      "--------------------------------------------- Result 29 ---------------------------------------------\n",
      "[[7 (100%)]] --> [[6 (100%)]]\n",
      "\n",
      "f546 4600 0000 0001 0101 0108 080a 0ad9 d944 44fd fd57 5700 [[001b]] [[1b9b]] 9b68 6817 1703 0303 0300 0023 2300 0000 0000 0000 0000 0000 0015 158c 8c99 990f 0f2e 2e94 9485 8515 156b 6b24 24a8 a879 79a7 a74d 4d88 88b7 b780 80f4 f4a3 a3b7 b776 7626 2684 84dc dc79 795f 5f30 3085 85a0\n",
      "\n",
      "f546 4600 0000 0001 0101 0108 080a 0ad9 d944 44fd fd57 5700 [[007b]] [[7b9b]] 9b68 6817 1703 0303 0300 0023 2300 0000 0000 0000 0000 0000 0015 158c 8c99 990f 0f2e 2e94 9485 8515 156b 6b24 24a8 a879 79a7 a74d 4d88 88b7 b780 80f4 f4a3 a3b7 b776 7626 2684 84dc dc79 795f 5f30 3085 85a0\n",
      "\n",
      "\n"
     ]
    },
    {
     "name": "stderr",
     "output_type": "stream",
     "text": [
      "[Succeeded / Failed / Skipped / Total] 29 / 0 / 1 / 30:  29%|██▉       | 29/100 [03:42<09:05,  7.68s/it]"
     ]
    },
    {
     "name": "stdout",
     "output_type": "stream",
     "text": [
      "--------------------------------------------- Result 30 ---------------------------------------------\n",
      "[[11 (100%)]] --> [[0 (91%)]]\n",
      "\n",
      "[[ce4c]] [[4c4a]] [[4ada]] [[dabe]] [[bede]] [[de00]] [[0002]] 0210 1095 9500 0000 0032 32f7 f7db db22 2254 54c4 c4a5 a58f 8f1c 1c31 317c 7c62 624f 4fda daa3 a375 7598 9846 461c 1c99 99d8 d84e 4e08 0842 4234 349c 9c3f 3f69 6995 95ca caf7 f7e1 e109 09ac ac26 266a 6ae3 e3bd bd3e 3e95 9510 108b 8b09 098b 8b9e 9e50 5021 2177 7722 22ff ffb1 b128 286b\n",
      "\n",
      "[[ceae]] [[ae4a]] [[4a68]] [[68be]] [[be68]] [[68b1]] [[b102]] 0210 1095 9500 0000 0032 32f7 f7db db22 2254 54c4 c4a5 a58f 8f1c 1c31 317c 7c62 624f 4fda daa3 a375 7598 9846 461c 1c99 99d8 d84e 4e08 0842 4234 349c 9c3f 3f69 6995 95ca caf7 f7e1 e109 09ac ac26 266a 6ae3 e3bd bd3e 3e95 9510 108b 8b09 098b 8b9e 9e50 5021 2177 7722 22ff ffb1 b128 286b\n",
      "\n",
      "\n"
     ]
    },
    {
     "name": "stderr",
     "output_type": "stream",
     "text": [
      "[Succeeded / Failed / Skipped / Total] 30 / 0 / 1 / 31:  30%|███       | 30/100 [03:45<08:45,  7.51s/it]"
     ]
    },
    {
     "name": "stdout",
     "output_type": "stream",
     "text": [
      "--------------------------------------------- Result 31 ---------------------------------------------\n",
      "[[8 (100%)]] --> [[6 (100%)]]\n",
      "\n",
      "ea40 4000 [[0000]] [[0001]] 0101 0108 080a [[0a1a]] [[1aa1]] a1bc bc13 1300 001e 1ecd cd1b 1b18 1850 50ed ed1c 1c80 8096 9630 3077 7760 6050 50ae aee0 e057 5724 2404 04a0 a089 89f1 f124 24ee ee9b 9b58 58b1 b102 021d 1d23 2363 63e8 e86e 6e3b 3be6 e632 324e 4eb9 b94f 4fdd dd3b 3b14 145e 5e4d 4d20 2005 05a0 a02f 2faf affa fa8f 8f13 13be\n",
      "\n",
      "ea40 4000 [[003e]] [[3e01]] 0101 0108 080a [[0a6e]] [[6ea1]] a1bc bc13 1300 001e 1ecd cd1b 1b18 1850 50ed ed1c 1c80 8096 9630 3077 7760 6050 50ae aee0 e057 5724 2404 04a0 a089 89f1 f124 24ee ee9b 9b58 58b1 b102 021d 1d23 2363 63e8 e86e 6e3b 3be6 e632 324e 4eb9 b94f 4fdd dd3b 3b14 145e 5e4d 4d20 2005 05a0 a02f 2faf affa fa8f 8f13 13be\n",
      "\n",
      "\n"
     ]
    },
    {
     "name": "stderr",
     "output_type": "stream",
     "text": [
      "[Succeeded / Failed / Skipped / Total] 31 / 0 / 1 / 32:  31%|███       | 31/100 [03:47<08:26,  7.34s/it]"
     ]
    },
    {
     "name": "stdout",
     "output_type": "stream",
     "text": [
      "--------------------------------------------- Result 32 ---------------------------------------------\n",
      "[[3 (100%)]] --> [[0 (96%)]]\n",
      "\n",
      "1143 43d8 d80c 0ce4 e40e 0e76 761f 1fc8 c83f 3f50 5010 1000 [[00f5]] [[f5b0]] b01b 1b00 0000 0088 884b 4b2a 2ac4 c4ec ec03 037a 7a8e 8eab ab51 51df dfc0 c096 96b1 b1ad ad63 63d1 d18f 8f98 9841 41f8 f810 10d1 d1c2 c25e 5e61 61c0 c0e4 e438 386c 6ce5 e5fd fd61 6179 79a8 a83f 3f1b 1b4d 4d3f 3fc1 c1a7 a745 4515 15f7 f7ba bae8 e86a\n",
      "\n",
      "1143 43d8 d80c 0ce4 e40e 0e76 761f 1fc8 c83f 3f50 5010 1000 [[0059]] [[59b0]] b01b 1b00 0000 0088 884b 4b2a 2ac4 c4ec ec03 037a 7a8e 8eab ab51 51df dfc0 c096 96b1 b1ad ad63 63d1 d18f 8f98 9841 41f8 f810 10d1 d1c2 c25e 5e61 61c0 c0e4 e438 386c 6ce5 e5fd fd61 6179 79a8 a83f 3f1b 1b4d 4d3f 3fc1 c1a7 a745 4515 15f7 f7ba bae8 e86a\n",
      "\n",
      "\n"
     ]
    },
    {
     "name": "stderr",
     "output_type": "stream",
     "text": [
      "[Succeeded / Failed / Skipped / Total] 32 / 0 / 1 / 33:  32%|███▏      | 32/100 [03:59<08:29,  7.50s/it]"
     ]
    },
    {
     "name": "stdout",
     "output_type": "stream",
     "text": [
      "--------------------------------------------- Result 33 ---------------------------------------------\n",
      "[[10 (100%)]] --> [[0 (83%)]]\n",
      "\n",
      "63ae [[ae00]] [[0000]] [[0001]] [[0101]] 0108 080a 0a79 797e 7e1b 1b43 4302 025c 5c2c 2cf8 f839 392b 2b5a [[5a75]] [[75fe]] fe44 4411 113c 3ce2 e208 08cc cce8 e814 14a6 a69e 9e15 158c 8c29 2946 465e 5e1c 1c95 956d 6d1f 1f05 0557 [[5708]] [[083f]] 3fed ed20 20e6 e6d9 d95c 5ca2 a22d 2dc1 [[c1ec]] [[ec80]] 809e 9e46 461f 1fe6 e63f 3fed ed3a 3a3f 3fbd bdd6 d690\n",
      "\n",
      "63ae [[ae80]] [[8000]] [[0093]] [[9301]] 0108 080a 0a79 797e 7e1b 1b43 4302 025c 5c2c 2cf8 f839 392b 2b5a [[5adb]] [[dbfe]] fe44 4411 113c 3ce2 e208 08cc cce8 e814 14a6 a69e 9e15 158c 8c29 2946 465e 5e1c 1c95 956d 6d1f 1f05 0557 [[57d8]] [[d83f]] 3fed ed20 20e6 e6d9 d95c 5ca2 a22d 2dc1 [[c1dd]] [[dd80]] 809e 9e46 461f 1fe6 e63f 3fed ed3a 3a3f 3fbd bdd6 d690\n",
      "\n",
      "\n"
     ]
    },
    {
     "name": "stderr",
     "output_type": "stream",
     "text": [
      "[Succeeded / Failed / Skipped / Total] 33 / 0 / 1 / 34:  33%|███▎      | 33/100 [04:02<08:11,  7.33s/it]"
     ]
    },
    {
     "name": "stdout",
     "output_type": "stream",
     "text": [
      "--------------------------------------------- Result 34 ---------------------------------------------\n",
      "[[8 (100%)]] --> [[10 (100%)]]\n",
      "\n",
      "101e 1e00 0000 0001 0101 0108 080a [[0a00]] [[001d]] 1d62 6261 611a 1aa0 a051 5119 195d 5d0f 0f4b 4bb0 b043 433b 3bd6 d651 515a 5abc bcdc dc1e 1e2e 2ed3 d311 115a 5a24 2461 61c7 c79a 9ac6 c6ad ad80 8096 967a 7a85 8571 71cf cf5d 5d21 214a 4ae2 e21b 1b55 55aa aadd dd8f 8f0d 0d26 26c2 c2fa fabf bfaa aa2f 2f00 00aa aa32 3208 08cc\n",
      "\n",
      "101e 1e00 0000 0001 0101 0108 080a [[0a6e]] [[6e1d]] 1d62 6261 611a 1aa0 a051 5119 195d 5d0f 0f4b 4bb0 b043 433b 3bd6 d651 515a 5abc bcdc dc1e 1e2e 2ed3 d311 115a 5a24 2461 61c7 c79a 9ac6 c6ad ad80 8096 967a 7a85 8571 71cf cf5d 5d21 214a 4ae2 e21b 1b55 55aa aadd dd8f 8f0d 0d26 26c2 c2fa fabf bfaa aa2f 2f00 00aa aa32 3208 08cc\n",
      "\n",
      "\n"
     ]
    },
    {
     "name": "stderr",
     "output_type": "stream",
     "text": [
      "[Succeeded / Failed / Skipped / Total] 34 / 0 / 1 / 35:  34%|███▍      | 34/100 [04:04<07:53,  7.18s/it]"
     ]
    },
    {
     "name": "stdout",
     "output_type": "stream",
     "text": [
      "--------------------------------------------- Result 35 ---------------------------------------------\n",
      "[[9 (100%)]] --> [[7 (99%)]]\n",
      "\n",
      "0b52 5200 0000 0001 0101 0108 080a [[0a7c]] [[7c60]] 60f5 f596 9600 0002 025f 5fd5 d557 5784 8484 8400 0041 41e6 e6f5 f5fa fa4e 4eb8 b8d3 d35c 5c90 90b7 b7cc ccda da50 50b5 b560 6006 06f5 f535 351c 1c96 967a 7aeb eb43 436f 6f6b 6b8f 8f46 46db dbae aee6 e65b 5b4b 4b20 207d 7d62 6253 5352 5269 696b 6bb8 b8ea ead8 d86b 6b2d 2d99\n",
      "\n",
      "0b52 5200 0000 0001 0101 0108 080a [[0a72]] [[7260]] 60f5 f596 9600 0002 025f 5fd5 d557 5784 8484 8400 0041 41e6 e6f5 f5fa fa4e 4eb8 b8d3 d35c 5c90 90b7 b7cc ccda da50 50b5 b560 6006 06f5 f535 351c 1c96 967a 7aeb eb43 436f 6f6b 6b8f 8f46 46db dbae aee6 e65b 5b4b 4b20 207d 7d62 6253 5352 5269 696b 6bb8 b8ea ead8 d86b 6b2d 2d99\n",
      "\n",
      "\n"
     ]
    },
    {
     "name": "stderr",
     "output_type": "stream",
     "text": [
      "[Succeeded / Failed / Skipped / Total] 35 / 0 / 1 / 36:  35%|███▌      | 35/100 [04:07<07:39,  7.07s/it]"
     ]
    },
    {
     "name": "stdout",
     "output_type": "stream",
     "text": [
      "--------------------------------------------- Result 36 ---------------------------------------------\n",
      "[[5 (100%)]] --> [[11 (98%)]]\n",
      "\n",
      "[[4b69]] [[6900]] 0081 81f1 f1f6 f690 [[906f]] [[6faf]] af8f 8fea ea98 980e 0e53 53a8 a82a 2a68 683c 3cbe bede de00 0002 0210 10ad ad00 0000 0032 32bc bc87 8784 84c3 c325 2523 23db db20 20ca ca37 37c6 c617 1789 8991 91da dadc dc04 0494 9446 4655 555e 5eca ca1a 1a2b 2bea eae1 e1f8 f8ab ab96 963e 3ebe be35 35ab ab1f 1fdc dc6d 6d79 79d6\n",
      "\n",
      "[[4b8f]] [[8f00]] 0081 81f1 f1f6 f690 [[9040]] [[40af]] af8f 8fea ea98 980e 0e53 53a8 a82a 2a68 683c 3cbe bede de00 0002 0210 10ad ad00 0000 0032 32bc bc87 8784 84c3 c325 2523 23db db20 20ca ca37 37c6 c617 1789 8991 91da dadc dc04 0494 9446 4655 555e 5eca ca1a 1a2b 2bea eae1 e1f8 f8ab ab96 963e 3ebe be35 35ab ab1f 1fdc dc6d 6d79 79d6\n",
      "\n",
      "\n"
     ]
    },
    {
     "name": "stderr",
     "output_type": "stream",
     "text": [
      "[Succeeded / Failed / Skipped / Total] 36 / 0 / 1 / 37:  36%|███▌      | 36/100 [04:09<07:23,  6.93s/it]"
     ]
    },
    {
     "name": "stdout",
     "output_type": "stream",
     "text": [
      "--------------------------------------------- Result 37 ---------------------------------------------\n",
      "[[2 (100%)]] --> [[11 (100%)]]\n",
      "\n",
      "ac4a 4a05 [[0562]] [[6285]] 85b2 b268 68c0 c04d 4dc5 c5fb fb0d 0d9a 9a5e 5ef9 f9a0 a09c 9cf7 f79f 9f84 84ff ffce ce17 17b2 b23f 3f7f 7fe4 e414 1451 5128 28db db56 56df dfc9 c990 9059 5910 105e 5e13 133d 3def effa fa9a 9a18 18ac acc8 c86d 6d71 71e7 e7c9 c935 35e6 e651 512b 2b5b 5bc5 c5e1 e12f 2f47 4711 1178 7802 029e 9e10 10b5\n",
      "\n",
      "ac4a 4a05 [[050d]] [[0d85]] 85b2 b268 68c0 c04d 4dc5 c5fb fb0d 0d9a 9a5e 5ef9 f9a0 a09c 9cf7 f79f 9f84 84ff ffce ce17 17b2 b23f 3f7f 7fe4 e414 1451 5128 28db db56 56df dfc9 c990 9059 5910 105e 5e13 133d 3def effa fa9a 9a18 18ac acc8 c86d 6d71 71e7 e7c9 c935 35e6 e651 512b 2b5b 5bc5 c5e1 e12f 2f47 4711 1178 7802 029e 9e10 10b5\n",
      "\n",
      "\n"
     ]
    },
    {
     "name": "stderr",
     "output_type": "stream",
     "text": [
      "[Succeeded / Failed / Skipped / Total] 37 / 0 / 1 / 38:  37%|███▋      | 37/100 [04:13<07:10,  6.84s/it]"
     ]
    },
    {
     "name": "stdout",
     "output_type": "stream",
     "text": [
      "--------------------------------------------- Result 38 ---------------------------------------------\n",
      "[[3 (100%)]] --> [[0 (60%)]]\n",
      "\n",
      "4a1d 1d00 006f 6fc3 c3bc bc64 6431 313a 3a61 6164 6432 [[323a]] [[3a69]] 6964 6432 3230 303a 3ae4 e459 594b 4b99 994c 4c8e 8e24 2401 0182 82e5 e57d 7d20 20e4 e4c1 c11e 1edb db12 1259 5934 348b 8b36 363a 3a74 7461 6172 7267 6765 6574 7432 [[3230]] [[303a]] 3ae4 e459 594b 4b99 994c 4c8e 8e24 2401 0182 82e5 e57d 7d20 20e4 e4c1 c11e 1edb\n",
      "\n",
      "4a1d 1d00 006f 6fc3 c3bc bc64 6431 313a 3a61 6164 6432 [[3268]] [[6869]] 6964 6432 3230 303a 3ae4 e459 594b 4b99 994c 4c8e 8e24 2401 0182 82e5 e57d 7d20 20e4 e4c1 c11e 1edb db12 1259 5934 348b 8b36 363a 3a74 7461 6172 7267 6765 6574 7432 [[3239]] [[393a]] 3ae4 e459 594b 4b99 994c 4c8e 8e24 2401 0182 82e5 e57d 7d20 20e4 e4c1 c11e 1edb\n",
      "\n",
      "\n"
     ]
    },
    {
     "name": "stderr",
     "output_type": "stream",
     "text": [
      "[Succeeded / Failed / Skipped / Total] 38 / 0 / 1 / 39:  38%|███▊      | 38/100 [04:21<07:06,  6.88s/it]"
     ]
    },
    {
     "name": "stdout",
     "output_type": "stream",
     "text": [
      "--------------------------------------------- Result 39 ---------------------------------------------\n",
      "[[4 (100%)]] --> [[0 (99%)]]\n",
      "\n",
      "8581 8142 4297 97b9 b9e8 e8bd bd3b 3b03 038f 8f80 8010 1002 0229 2922 22f4 f400 0000 0001 0101 [[0108]] [[080a]] [[0ab0]] [[b040]] 4027 276c 6c01 011e 1e25 251b 1bcf cf35 3513 13c4 c48c 8cf1 f1a1 a1e5 e58e 8e02 0221 2111 116c 6ca2 a288 882a 2aba baf9 f9e3 e300 008f 8f5b 5b68 6894 947b 7b1d 1dde de48 48c5 c593 9371 7122 2247 4788 8820\n",
      "\n",
      "8581 8142 4297 97b9 b9e8 e8bd bd3b 3b03 038f 8f80 8010 1002 0229 2922 22f4 f400 0000 0001 0101 [[0116]] [[168d]] [[8d00]] [[0040]] 4027 276c 6c01 011e 1e25 251b 1bcf cf35 3513 13c4 c48c 8cf1 f1a1 a1e5 e58e 8e02 0221 2111 116c 6ca2 a288 882a 2aba baf9 f9e3 e300 008f 8f5b 5b68 6894 947b 7b1d 1dde de48 48c5 c593 9371 7122 2247 4788 8820\n",
      "\n",
      "\n"
     ]
    },
    {
     "name": "stderr",
     "output_type": "stream",
     "text": [
      "[Succeeded / Failed / Skipped / Total] 39 / 0 / 1 / 40:  39%|███▉      | 39/100 [04:23<06:51,  6.75s/it]"
     ]
    },
    {
     "name": "stdout",
     "output_type": "stream",
     "text": [
      "--------------------------------------------- Result 40 ---------------------------------------------\n",
      "[[3 (100%)]] --> [[0 (97%)]]\n",
      "\n",
      "[[0050]] [[5090]] 908d 8d8b 8b53 532b 2b73 73b1 b12f 2f50 5018 1840 4099 998e 8e41 4100 0000 0047 4745 4554 5420 202f 2f31 3135 352f 2f69 6974 7465 656d 6d73 732f 2f4d 4d61 6163 6362 6265 6574 7468 682d 2d53 5368 6861 616b 6b65 6573 7370 7065 6561 6172 7265 652f 2f4d 4d61 6163 6362 6265 6574 7468 682d 2d53 5368 6861 616b 6b65\n",
      "\n",
      "[[0007]] [[0790]] 908d 8d8b 8b53 532b 2b73 73b1 b12f 2f50 5018 1840 4099 998e 8e41 4100 0000 0047 4745 4554 5420 202f 2f31 3135 352f 2f69 6974 7465 656d 6d73 732f 2f4d 4d61 6163 6362 6265 6574 7468 682d 2d53 5368 6861 616b 6b65 6573 7370 7065 6561 6172 7265 652f 2f4d 4d61 6163 6362 6265 6574 7468 682d 2d53 5368 6861 616b 6b65\n",
      "\n",
      "\n"
     ]
    },
    {
     "name": "stderr",
     "output_type": "stream",
     "text": [
      "[Succeeded / Failed / Skipped / Total] 40 / 0 / 1 / 41:  40%|████      | 40/100 [04:28<06:42,  6.71s/it]"
     ]
    },
    {
     "name": "stdout",
     "output_type": "stream",
     "text": [
      "--------------------------------------------- Result 41 ---------------------------------------------\n",
      "[[4 (100%)]] --> [[3 (67%)]]\n",
      "\n",
      "ea98 [[981f]] [[1fe6]] e60a 0a75 7596 965b [[5b55]] [[5549]] 4980 8010 1008 0800 0017 173d 3d00 0000 0001 0101 [[0108]] [[080a]] 0a51 514e 4e7e 7ea7 a701 0127 2790 9046 4689 89cc cc4d 4d14 1476 7635 3588 88a2 a2a7 a73c 3ccb cb06 06cc cc79 7951 51ac acb5 b5d1 d176 7621 2105 05fa fac5 c576 76b8 b84f 4f5a 5ac6 c6e6 e6f8 f895 953a 3ada da7b 7bc1\n",
      "\n",
      "ea98 [[98fd]] [[fde6]] e60a 0a75 7596 965b [[5b9e]] [[9e49]] 4980 8010 1008 0800 0017 173d 3d00 0000 0001 0101 [[0155]] [[550a]] 0a51 514e 4e7e 7ea7 a701 0127 2790 9046 4689 89cc cc4d 4d14 1476 7635 3588 88a2 a2a7 a73c 3ccb cb06 06cc cc79 7951 51ac acb5 b5d1 d176 7621 2105 05fa fac5 c576 76b8 b84f 4f5a 5ac6 c6e6 e6f8 f895 953a 3ada da7b 7bc1\n",
      "\n",
      "\n"
     ]
    },
    {
     "name": "stderr",
     "output_type": "stream",
     "text": [
      "[Succeeded / Failed / Skipped / Total] 41 / 0 / 1 / 42:  41%|████      | 41/100 [05:09<07:25,  7.55s/it]"
     ]
    },
    {
     "name": "stdout",
     "output_type": "stream",
     "text": [
      "--------------------------------------------- Result 42 ---------------------------------------------\n",
      "[[1 (100%)]] --> [[11 (60%)]]\n",
      "\n",
      "a765 6505 052e 2e2c [[2c8b]] [[8b6e]] 6ef8 f8f4 f415 [[1550]] [[5018]] 18ff [[ffff]] [[ffeb]] eb52 5200 [[0000]] [[0017]] 1703 0303 [[0300]] [[004b]] [[4b00]] [[0000]] 0000 0000 0000 0000 0000 0001 [[0189]] [[8980]] 804a 4a71 7133 33ea ea44 [[4467]] [[67a4]] a4cf cf0d 0d24 24f4 f4e8 e88b 8baa aaa2 a2db dba2 a207 0755 55b9 b9ab ab0a 0acb cbe6 e675 75b7 b783 836b 6b27 2770 70d5 d58f\n",
      "\n",
      "a765 6505 052e 2e2c [[2cac]] [[ac6e]] 6ef8 f8f4 f415 [[15f1]] [[f118]] 18ff [[ffeb]] [[ebeb]] eb52 5200 [[0063]] [[6317]] 1703 0303 [[03f3]] [[f34b]] [[4b34]] [[3400]] 0000 0000 0000 0000 0000 0001 [[0119]] [[1980]] 804a 4a71 7133 33ea ea44 [[448f]] [[8fa4]] a4cf cf0d 0d24 24f4 f4e8 e88b 8baa aaa2 a2db dba2 a207 0755 55b9 b9ab ab0a 0acb cbe6 e675 75b7 b783 836b 6b27 2770 70d5 d58f\n",
      "\n",
      "\n"
     ]
    },
    {
     "name": "stderr",
     "output_type": "stream",
     "text": [
      "[Succeeded / Failed / Skipped / Total] 42 / 0 / 1 / 43:  42%|████▏     | 42/100 [05:11<07:09,  7.41s/it]"
     ]
    },
    {
     "name": "stdout",
     "output_type": "stream",
     "text": [
      "--------------------------------------------- Result 43 ---------------------------------------------\n",
      "[[11 (100%)]] --> [[6 (100%)]]\n",
      "\n",
      "2d92 9200 [[005b]] [[5bec]] ec1b 1b4e 4e27 2770 7096 96cd cdaa aa25 25ce ce99 999e 9eef ef81 8156 562b 2bb1 b1ab abab ab10 10be bedb db4c 4c47 4737 3704 0481 81ae aed5 d5c7 c74d 4d51 51b5 b568 6897 97c4 c4e7 e7ec ec1b 1bcc ccf5 f569 6938 3819 1909 096b 6b5f 5fc4 c448 48fb fbac accd cd99 996c 6cf8 f814 14af af8f 8fe2 e2bb bbcc\n",
      "\n",
      "2d92 9200 [[0000]] [[00ec]] ec1b 1b4e 4e27 2770 7096 96cd cdaa aa25 25ce ce99 999e 9eef ef81 8156 562b 2bb1 b1ab abab ab10 10be bedb db4c 4c47 4737 3704 0481 81ae aed5 d5c7 c74d 4d51 51b5 b568 6897 97c4 c4e7 e7ec ec1b 1bcc ccf5 f569 6938 3819 1909 096b 6b5f 5fc4 c448 48fb fbac accd cd99 996c 6cf8 f814 14af af8f 8fe2 e2bb bbcc\n",
      "\n",
      "\n"
     ]
    },
    {
     "name": "stderr",
     "output_type": "stream",
     "text": [
      "[Succeeded / Failed / Skipped / Total] 43 / 0 / 1 / 44:  43%|████▎     | 43/100 [05:14<06:57,  7.32s/it]"
     ]
    },
    {
     "name": "stdout",
     "output_type": "stream",
     "text": [
      "--------------------------------------------- Result 44 ---------------------------------------------\n",
      "[[5 (100%)]] --> [[11 (98%)]]\n",
      "\n",
      "[[f632]] [[3200]] [[0087]] 8710 1088 8890 [[906f]] [[6f9a]] 9a6a 6a60 6078 780e 0e68 688d 8dcc cccc cc91 91be bede de00 0002 0210 108e 8e00 0000 0032 32be be00 006a 6ae1 e1f0 f0ac ac32 3203 03de de34 3437 37ce cebf bf43 43d2 d224 24f1 f163 636c 6c24 240e 0e8e 8eeb ebfd fdbf bf49 49a1 a1d6 d67e 7e54 549b 9b61 6144 44de ded7 d75a 5a73 73c3\n",
      "\n",
      "[[f6fd]] [[fde7]] [[e787]] 8710 1088 8890 [[90f5]] [[f59a]] 9a6a 6a60 6078 780e 0e68 688d 8dcc cccc cc91 91be bede de00 0002 0210 108e 8e00 0000 0032 32be be00 006a 6ae1 e1f0 f0ac ac32 3203 03de de34 3437 37ce cebf bf43 43d2 d224 24f1 f163 636c 6c24 240e 0e8e 8eeb ebfd fdbf bf49 49a1 a1d6 d67e 7e54 549b 9b61 6144 44de ded7 d75a 5a73 73c3\n",
      "\n",
      "\n"
     ]
    },
    {
     "name": "stderr",
     "output_type": "stream",
     "text": [
      "[Succeeded / Failed / Skipped / Total] 44 / 0 / 1 / 45:  44%|████▍     | 44/100 [05:16<06:42,  7.19s/it]"
     ]
    },
    {
     "name": "stdout",
     "output_type": "stream",
     "text": [
      "--------------------------------------------- Result 45 ---------------------------------------------\n",
      "[[7 (100%)]] --> [[6 (100%)]]\n",
      "\n",
      "3767 6700 0000 0001 0101 0108 080a 0a61 615e 5e62 6295 9500 [[0017]] [[17b5]] b504 0417 1703 0303 0300 0021 2100 0000 0000 0000 0000 0000 0000 0052 5294 9450 50a8 a874 7401 0145 4555 55fe fe53 530a 0a1d 1d3f 3f91 91a7 a786 86bb bb07 076a 6a9c 9cf2 f27d 7de2 e294 9415 151c\n",
      "\n",
      "3767 6700 0000 0001 0101 0108 080a 0a61 615e 5e62 6295 9500 [[002e]] [[2eb5]] b504 0417 1703 0303 0300 0021 2100 0000 0000 0000 0000 0000 0000 0052 5294 9450 50a8 a874 7401 0145 4555 55fe fe53 530a 0a1d 1d3f 3f91 91a7 a786 86bb bb07 076a 6a9c 9cf2 f27d 7de2 e294 9415 151c\n",
      "\n",
      "\n"
     ]
    },
    {
     "name": "stderr",
     "output_type": "stream",
     "text": [
      "[Succeeded / Failed / Skipped / Total] 45 / 0 / 1 / 46:  45%|████▌     | 45/100 [05:17<06:28,  7.06s/it]"
     ]
    },
    {
     "name": "stdout",
     "output_type": "stream",
     "text": [
      "--------------------------------------------- Result 46 ---------------------------------------------\n",
      "[[0 (66%)]] --> [[1 (50%)]]\n",
      "\n",
      "7e9c 9c00 001d 1d4a 4a37 374d 4d2d 2d53 5345 4541 4152 5243 4348 4820 [[202a]] [[2a20]] 2048 4854 5454 5450 502f 2f31 312e 2e31 310d 0d0a\n",
      "\n",
      "7e9c 9c00 001d 1d4a 4a37 374d 4d2d 2d53 5345 4541 4152 5243 4348 4820 [[2083]] [[8320]] 2048 4854 5454 5450 502f 2f31 312e 2e31 310d 0d0a\n",
      "\n",
      "\n"
     ]
    },
    {
     "name": "stderr",
     "output_type": "stream",
     "text": [
      "[Succeeded / Failed / Skipped / Total] 46 / 0 / 1 / 47:  46%|████▌     | 46/100 [05:39<06:38,  7.38s/it]"
     ]
    },
    {
     "name": "stdout",
     "output_type": "stream",
     "text": [
      "--------------------------------------------- Result 47 ---------------------------------------------\n",
      "[[4 (100%)]] --> [[11 (88%)]]\n",
      "\n",
      "[[859b]] [[9b43]] 4360 60d4 d431 3161 61fd fd49 49d6 d680 8010 [[1002]] [[0214]] 141d 1dba ba00 [[0000]] [[0001]] 0101 0108 [[080a]] [[0ab0]] b041 4135 3558 5801 011e 1e68 6895 95ae aeb3 [[b3cf]] [[cf26]] 2647 4706 0692 92fc fcf2 f206 0669 690b 0b5a 5a3a 3ac5 c527 2742 [[4242]] [[4212]] 12db dbe7 e7cd cd43 4344 44b6 b6c4 c477 778f 8f95 9578 7815 157c 7c8b [[8bff]] [[ff9a]]\n",
      "\n",
      "[[8503]] [[0343]] 4360 60d4 d431 3161 61fd fd49 49d6 d680 8010 [[10b7]] [[b714]] 141d 1dba ba00 [[0065]] [[6501]] 0101 0108 [[08ac]] [[acb0]] b041 4135 3558 5801 011e 1e68 6895 95ae aeb3 [[b340]] [[4026]] 2647 4706 0692 92fc fcf2 f206 0669 690b 0b5a 5a3a 3ac5 c527 2742 [[4296]] [[9612]] 12db dbe7 e7cd cd43 4344 44b6 b6c4 c477 778f 8f95 9578 7815 157c 7c8b [[8b85]] [[859a]]\n",
      "\n",
      "\n"
     ]
    },
    {
     "name": "stderr",
     "output_type": "stream",
     "text": [
      "[Succeeded / Failed / Skipped / Total] 47 / 0 / 1 / 48:  47%|████▋     | 47/100 [05:42<06:25,  7.28s/it]"
     ]
    },
    {
     "name": "stdout",
     "output_type": "stream",
     "text": [
      "--------------------------------------------- Result 48 ---------------------------------------------\n",
      "[[3 (100%)]] --> [[11 (99%)]]\n",
      "\n",
      "113f 3f75 7510 10cd cdea eada dae1 e109 09c0 c050 5010 1000 [[00ed]] [[eda4]] a481 8100 [[0000]] [[00e2]] e2eb eb39 39b0 b091 9173 7305 05b7 b770 70e0 e09f 9ff1 f1bc bc02 02cf cfe7 e720 205b 5b3c 3c1c 1c6b 6b8f 8f7d 7de3 e3ae ae39 3915 15a7 a76a 6aa9 a9e1 e19e 9e54 54f3 f3c3 c38b 8b10 1034 347b 7b8d 8dba bafd fdbc bcc1 c160 6095 958a\n",
      "\n",
      "113f 3f75 7510 10cd cdea eada dae1 e109 09c0 c050 5010 1000 [[00ff]] [[ffa4]] a481 8100 [[005b]] [[5be2]] e2eb eb39 39b0 b091 9173 7305 05b7 b770 70e0 e09f 9ff1 f1bc bc02 02cf cfe7 e720 205b 5b3c 3c1c 1c6b 6b8f 8f7d 7de3 e3ae ae39 3915 15a7 a76a 6aa9 a9e1 e19e 9e54 54f3 f3c3 c38b 8b10 1034 347b 7b8d 8dba bafd fdbc bcc1 c160 6095 958a\n",
      "\n",
      "\n"
     ]
    },
    {
     "name": "stderr",
     "output_type": "stream",
     "text": [
      "[Succeeded / Failed / Skipped / Total] 48 / 0 / 1 / 49:  48%|████▊     | 48/100 [05:43<06:12,  7.16s/it]"
     ]
    },
    {
     "name": "stdout",
     "output_type": "stream",
     "text": [
      "--------------------------------------------- Result 49 ---------------------------------------------\n",
      "[[7 (100%)]] --> [[11 (100%)]]\n",
      "\n",
      "d800 0000 0000 0001 0101 0108 080a 0a5e 5e76 768b 8b80 8000 [[0017]] [[17f2]] f2f9 f9ee eedc dc0b 0bef ef32 3209 098e 8e52 52c1 c18c 8cf5 f532 3234 3459 5972 72d5 d585 85d2 d279 79d5 d581 8158 5814 14c8 c849 4907 0760 6091 91e6 e6ad adc7 c7da da2b 2ba5 a5a1 a193 93c0 c077 7782 822b 2bc9 c9a9 a9d3 d3d3 d39f 9f13 1376 76e3 e326\n",
      "\n",
      "d800 0000 0000 0001 0101 0108 080a 0a5e 5e76 768b 8b80 8000 [[005b]] [[5bf2]] f2f9 f9ee eedc dc0b 0bef ef32 3209 098e 8e52 52c1 c18c 8cf5 f532 3234 3459 5972 72d5 d585 85d2 d279 79d5 d581 8158 5814 14c8 c849 4907 0760 6091 91e6 e6ad adc7 c7da da2b 2ba5 a5a1 a193 93c0 c077 7782 822b 2bc9 c9a9 a9d3 d3d3 d39f 9f13 1376 76e3 e326\n",
      "\n",
      "\n"
     ]
    },
    {
     "name": "stderr",
     "output_type": "stream",
     "text": [
      "[Succeeded / Failed / Skipped / Total] 49 / 0 / 1 / 50:  49%|████▉     | 49/100 [05:45<05:59,  7.05s/it]"
     ]
    },
    {
     "name": "stdout",
     "output_type": "stream",
     "text": [
      "--------------------------------------------- Result 50 ---------------------------------------------\n",
      "[[6 (100%)]] --> [[8 (100%)]]\n",
      "\n",
      "158a 8a00 0000 0001 0101 0108 080a 0a00 [[000b]] [[0bdc]] dcf8 f800 0017 1712 1271 71d5 d546 46fe fee0 e06d 6dae ae90 9007 07b2 b27c 7c5d 5df8 f8f7 f782 821f 1fa6 a6b6 b6e3 e300 0085 8574 7430 30a5 a59f 9fcf cff5 f511 112e 2e36 36d1 d180 80c8 c829 2960 60f7 f72a 2a07 0719 19f6 f665 652b 2b21 2104 0445 4511 11c7 c74c 4c5f 5f51\n",
      "\n",
      "158a 8a00 0000 0001 0101 0108 080a 0a00 [[0022]] [[22dc]] dcf8 f800 0017 1712 1271 71d5 d546 46fe fee0 e06d 6dae ae90 9007 07b2 b27c 7c5d 5df8 f8f7 f782 821f 1fa6 a6b6 b6e3 e300 0085 8574 7430 30a5 a59f 9fcf cff5 f511 112e 2e36 36d1 d180 80c8 c829 2960 60f7 f72a 2a07 0719 19f6 f665 652b 2b21 2104 0445 4511 11c7 c74c 4c5f 5f51\n",
      "\n",
      "\n"
     ]
    },
    {
     "name": "stderr",
     "output_type": "stream",
     "text": [
      "[Succeeded / Failed / Skipped / Total] 50 / 0 / 1 / 51:  50%|█████     | 50/100 [05:48<05:48,  6.97s/it]"
     ]
    },
    {
     "name": "stdout",
     "output_type": "stream",
     "text": [
      "--------------------------------------------- Result 51 ---------------------------------------------\n",
      "[[6 (100%)]] --> [[9 (100%)]]\n",
      "\n",
      "aa6c 6c00 0000 0001 0101 0108 080a 0a00 [[0032]] [[3204]] 0458 5800 [[003f]] [[3f9d]] 9d65 65c4 c4e4 e486 86fc fce5 e50c 0c6d 6d79 7926 2616 1693 9340 4045 45d0 d006 06ea ea78 78e5 e53b 3b1f 1fb0 b03a 3a68 6897 9739 39ba ba96 96de de46 4610 1039 390c 0c2f 2f1c 1c59 5919 1945 4515 1573 736a 6a65 6547 47da da75 7536 368b 8b65 65f2 f23b\n",
      "\n",
      "aa6c 6c00 0000 0001 0101 0108 080a 0a00 [[0002]] [[0204]] 0458 5800 [[00db]] [[db9d]] 9d65 65c4 c4e4 e486 86fc fce5 e50c 0c6d 6d79 7926 2616 1693 9340 4045 45d0 d006 06ea ea78 78e5 e53b 3b1f 1fb0 b03a 3a68 6897 9739 39ba ba96 96de de46 4610 1039 390c 0c2f 2f1c 1c59 5919 1945 4515 1573 736a 6a65 6547 47da da75 7536 368b 8b65 65f2 f23b\n",
      "\n",
      "\n"
     ]
    },
    {
     "name": "stderr",
     "output_type": "stream",
     "text": [
      "[Succeeded / Failed / Skipped / Total] 51 / 0 / 1 / 52:  51%|█████     | 51/100 [05:51<05:37,  6.89s/it]"
     ]
    },
    {
     "name": "stdout",
     "output_type": "stream",
     "text": [
      "--------------------------------------------- Result 52 ---------------------------------------------\n",
      "[[10 (100%)]] --> [[11 (100%)]]\n",
      "\n",
      "[[83d3]] [[d300]] 0000 0001 0101 0108 080a [[0a51]] [[511c]] 1c64 6482 8202 0249 4964 64a6 a6c1 c1fb fb49 49c6 c692 9299 99c7 c77a 7a1d 1d58 5874 747b 7bc9 c9ae ae8b 8be1 e19b 9bf5 f5f5 f5e2 e252 527e 7e62 62da da9a 9a27 2790 901b 1b1b 1b5a 5a7f 7fec ec4e 4e2c 2c80 80fc fc1f 1ff1 f197 9794 9468 68ac ac8c 8cd0 d0f7 f741 4183 8388 88d0\n",
      "\n",
      "[[8307]] [[0700]] 0000 0001 0101 0108 080a [[0a40]] [[401c]] 1c64 6482 8202 0249 4964 64a6 a6c1 c1fb fb49 49c6 c692 9299 99c7 c77a 7a1d 1d58 5874 747b 7bc9 c9ae ae8b 8be1 e19b 9bf5 f5f5 f5e2 e252 527e 7e62 62da da9a 9a27 2790 901b 1b1b 1b5a 5a7f 7fec ec4e 4e2c 2c80 80fc fc1f 1ff1 f197 9794 9468 68ac ac8c 8cd0 d0f7 f741 4183 8388 88d0\n",
      "\n",
      "\n"
     ]
    },
    {
     "name": "stderr",
     "output_type": "stream",
     "text": [
      "[Succeeded / Failed / Skipped / Total] 52 / 0 / 1 / 53:  52%|█████▏    | 52/100 [05:52<05:25,  6.78s/it]"
     ]
    },
    {
     "name": "stdout",
     "output_type": "stream",
     "text": [
      "--------------------------------------------- Result 53 ---------------------------------------------\n",
      "[[9 (100%)]] --> [[7 (100%)]]\n",
      "\n",
      "217e 7e00 0000 0001 0101 0108 080a [[0a73]] [[737b]] 7b6c 6cc2 c200 0002 0239 39ea ea7d 7df9 f972 72fc fc64 64ff ff34 3401 0159 5903 03d7 d705 05f6 f606 06c1 c106 06a1 a105 05b5 b503 034e 4e02 02f4 f401 0169 6902 0285 8503 0393 9304 0497 9706 06e9 e906 06a4 a406 061d 1d07 0719 1907 07ad ad06 0635 3506 062e 2e06 06cb cb04 0422\n",
      "\n",
      "217e 7e00 0000 0001 0101 0108 080a [[0a72]] [[727b]] 7b6c 6cc2 c200 0002 0239 39ea ea7d 7df9 f972 72fc fc64 64ff ff34 3401 0159 5903 03d7 d705 05f6 f606 06c1 c106 06a1 a105 05b5 b503 034e 4e02 02f4 f401 0169 6902 0285 8503 0393 9304 0497 9706 06e9 e906 06a4 a406 061d 1d07 0719 1907 07ad ad06 0635 3506 062e 2e06 06cb cb04 0422\n",
      "\n",
      "\n"
     ]
    },
    {
     "name": "stderr",
     "output_type": "stream",
     "text": [
      "[Succeeded / Failed / Skipped / Total] 53 / 0 / 1 / 54:  53%|█████▎    | 53/100 [05:54<05:14,  6.68s/it]"
     ]
    },
    {
     "name": "stdout",
     "output_type": "stream",
     "text": [
      "--------------------------------------------- Result 54 ---------------------------------------------\n",
      "[[8 (100%)]] --> [[6 (100%)]]\n",
      "\n",
      "f0e8 e800 0000 0001 0101 0108 080a [[0a1a]] [[1aa6]] a62e 2e31 3100 0023 2377 77b8 b851 5111 11c4 c4e9 e930 3078 78e4 e4a7 a711 11bc bc86 864e 4e90 9027 27cc cc08 08da da7f 7fe6 e611 11e8 e804 0439 3943 4303 0360 601d 1d2a 2a5a 5af6 f688 8832 3273 73c5 c510 10f5 f5c4 c439 39b6 b678 78f2 f220 209b 9b95 9545 4558 5869 69c8 c86d\n",
      "\n",
      "f0e8 e800 0000 0001 0101 0108 080a [[0a6e]] [[6ea6]] a62e 2e31 3100 0023 2377 77b8 b851 5111 11c4 c4e9 e930 3078 78e4 e4a7 a711 11bc bc86 864e 4e90 9027 27cc cc08 08da da7f 7fe6 e611 11e8 e804 0439 3943 4303 0360 601d 1d2a 2a5a 5af6 f688 8832 3273 73c5 c510 10f5 f5c4 c439 39b6 b678 78f2 f220 209b 9b95 9545 4558 5869 69c8 c86d\n",
      "\n",
      "\n"
     ]
    },
    {
     "name": "stderr",
     "output_type": "stream",
     "text": [
      "[Succeeded / Failed / Skipped / Total] 54 / 0 / 1 / 55:  54%|█████▍    | 54/100 [05:55<05:03,  6.59s/it]"
     ]
    },
    {
     "name": "stdout",
     "output_type": "stream",
     "text": [
      "--------------------------------------------- Result 55 ---------------------------------------------\n",
      "[[3 (100%)]] --> [[11 (89%)]]\n",
      "\n",
      "112e 2e67 675e 5ede de8d 8d83 834d 4dbe bede de50 5010 1000 [[00ed]] [[ed62]] 625c 5c00 0000 00cc cc7f 7f19 1928 28bb bb8c 8cfd fd3d 3dc5 c53a 3aa2 a2c7 c79c 9cc3 c3b3 b350 50a9 a970 7056 564e 4e79 7977 77aa aa59 59ae ae9f 9f25 25d5 d5a6 a661 618d 8d49 49c2 c2a3 a301 018b 8b84 84b9 b951 5120 2024 24cf cf3e 3eec ec46 46de de66\n",
      "\n",
      "112e 2e67 675e 5ede de8d 8d83 834d 4dbe bede de50 5010 1000 [[005b]] [[5b62]] 625c 5c00 0000 00cc cc7f 7f19 1928 28bb bb8c 8cfd fd3d 3dc5 c53a 3aa2 a2c7 c79c 9cc3 c3b3 b350 50a9 a970 7056 564e 4e79 7977 77aa aa59 59ae ae9f 9f25 25d5 d5a6 a661 618d 8d49 49c2 c2a3 a301 018b 8b84 84b9 b951 5120 2024 24cf cf3e 3eec ec46 46de de66\n",
      "\n",
      "\n"
     ]
    },
    {
     "name": "stderr",
     "output_type": "stream",
     "text": [
      "[Succeeded / Failed / Skipped / Total] 55 / 0 / 1 / 56:  55%|█████▌    | 55/100 [05:57<04:52,  6.50s/it]"
     ]
    },
    {
     "name": "stdout",
     "output_type": "stream",
     "text": [
      "--------------------------------------------- Result 56 ---------------------------------------------\n",
      "[[1 (100%)]] --> [[11 (100%)]]\n",
      "\n",
      "[[01bb]] [[bb04]] 0410 1086 8642 420c 0c8e 8e6b 6bb5 b582 82d8 d872 729d 9d18 18ec eced ed12 1252 52ff ffe2 e281 8162 6218 1860 6003 0369 69a5 a5a5 a588 88d3 d3ba ba35 35a7 a7b1 b195 95d5 d55e 5ec7 c790 9004 0419 19a4 a435 3536 366c 6c78 787a 7a59 596c 6cf1 f121 2129 2916 1677 7757 572a 2a28 28dd ddf3 f3f8 f8d8 d8b3 b3ba bac8\n",
      "\n",
      "[[011f]] [[1f04]] 0410 1086 8642 420c 0c8e 8e6b 6bb5 b582 82d8 d872 729d 9d18 18ec eced ed12 1252 52ff ffe2 e281 8162 6218 1860 6003 0369 69a5 a5a5 a588 88d3 d3ba ba35 35a7 a7b1 b195 95d5 d55e 5ec7 c790 9004 0419 19a4 a435 3536 366c 6c78 787a 7a59 596c 6cf1 f121 2129 2916 1677 7757 572a 2a28 28dd ddf3 f3f8 f8d8 d8b3 b3ba bac8\n",
      "\n",
      "\n"
     ]
    },
    {
     "name": "stderr",
     "output_type": "stream",
     "text": [
      "[Succeeded / Failed / Skipped / Total] 56 / 0 / 1 / 57:  56%|█████▌    | 56/100 [05:58<04:41,  6.41s/it]"
     ]
    },
    {
     "name": "stdout",
     "output_type": "stream",
     "text": [
      "--------------------------------------------- Result 57 ---------------------------------------------\n",
      "[[6 (100%)]] --> [[7 (100%)]]\n",
      "\n",
      "e340 4000 0000 0001 0101 0108 080a 0a23 2372 7218 183c 3c00 [[002d]] [[2d56]] 5630 3017 1703 0303 0300 0029 2900 0000 0000 0000 0000 0000 0009 0918 18d1 d189 89eb eba9 a987 8753 5382 8213 135f 5f51 51f8 f8b2 b207 0736 3653 53e8 e856 567d 7dfc fcfa fa98 9875 7506 068b 8b37 3786 86d5 d56e 6e61 6153 53c3 c30f 0f00\n",
      "\n",
      "e340 4000 0000 0001 0101 0108 080a 0a23 2372 7218 183c 3c00 [[0019]] [[1956]] 5630 3017 1703 0303 0300 0029 2900 0000 0000 0000 0000 0000 0009 0918 18d1 d189 89eb eba9 a987 8753 5382 8213 135f 5f51 51f8 f8b2 b207 0736 3653 53e8 e856 567d 7dfc fcfa fa98 9875 7506 068b 8b37 3786 86d5 d56e 6e61 6153 53c3 c30f 0f00\n",
      "\n",
      "\n"
     ]
    },
    {
     "name": "stderr",
     "output_type": "stream",
     "text": [
      "[Succeeded / Failed / Skipped / Total] 57 / 0 / 1 / 58:  57%|█████▋    | 57/100 [06:00<04:31,  6.32s/it]"
     ]
    },
    {
     "name": "stdout",
     "output_type": "stream",
     "text": [
      "--------------------------------------------- Result 58 ---------------------------------------------\n",
      "[[1 (100%)]] --> [[11 (99%)]]\n",
      "\n",
      "03e3 e33b 3bee eee2 e259 5918 18ce cea5 a5e8 e850 [[5018]] [[18a6]] a668 6804 0446 4600 0000 0017 1703 0303 0300 001e 1e00 0000 0000 0000 0000 0000 0000 0004 04a7 a755 5578 78f6 f61d 1d85 855d 5d4d 4dbb bb1b 1bf5 f58f 8fd6 d67b 7bf9 f9b5 b5c6 c664 64b9 b960 60a9 a9e3\n",
      "\n",
      "03e3 e33b 3bee eee2 e259 5918 18ce cea5 a5e8 e850 [[503a]] [[3aa6]] a668 6804 0446 4600 0000 0017 1703 0303 0300 001e 1e00 0000 0000 0000 0000 0000 0000 0004 04a7 a755 5578 78f6 f61d 1d85 855d 5d4d 4dbb bb1b 1bf5 f58f 8fd6 d67b 7bf9 f9b5 b5c6 c664 64b9 b960 60a9 a9e3\n",
      "\n",
      "\n"
     ]
    },
    {
     "name": "stderr",
     "output_type": "stream",
     "text": [
      "[Succeeded / Failed / Skipped / Total] 58 / 0 / 1 / 59:  58%|█████▊    | 58/100 [06:01<04:22,  6.24s/it]"
     ]
    },
    {
     "name": "stdout",
     "output_type": "stream",
     "text": [
      "--------------------------------------------- Result 59 ---------------------------------------------\n",
      "[[9 (100%)]] --> [[6 (100%)]]\n",
      "\n",
      "b06b 6b00 0000 0001 0101 0108 080a 0a73 737b 7b59 59ef ef00 [[0002]] [[0227]] 271b 1bd3 d3b3 b3ac ac57 572e 2eff ff5b 5bdd dd03 03c1 c113 130e 0e47 47d2 d265 65b8 b866 6653 536e 6e7f 7fbe be52 5229 2949 4994 94cc cce7 e7ba ba95 9576 7645 4574 74ce ce04 043a 3aa7 a705 05f6 f6df dfb9 b928 2884 84e1 e1bc bc5b 5bf1 f152 5211 112c\n",
      "\n",
      "b06b 6b00 0000 0001 0101 0108 080a 0a73 737b 7b59 59ef ef00 [[002c]] [[2c27]] 271b 1bd3 d3b3 b3ac ac57 572e 2eff ff5b 5bdd dd03 03c1 c113 130e 0e47 47d2 d265 65b8 b866 6653 536e 6e7f 7fbe be52 5229 2949 4994 94cc cce7 e7ba ba95 9576 7645 4574 74ce ce04 043a 3aa7 a705 05f6 f6df dfb9 b928 2884 84e1 e1bc bc5b 5bf1 f152 5211 112c\n",
      "\n",
      "\n"
     ]
    },
    {
     "name": "stderr",
     "output_type": "stream",
     "text": [
      "[Succeeded / Failed / Skipped / Total] 59 / 0 / 1 / 60:  59%|█████▉    | 59/100 [06:03<04:12,  6.16s/it]"
     ]
    },
    {
     "name": "stdout",
     "output_type": "stream",
     "text": [
      "--------------------------------------------- Result 60 ---------------------------------------------\n",
      "[[9 (100%)]] --> [[7 (100%)]]\n",
      "\n",
      "fdc2 c200 0000 0001 0101 0108 080a [[0a7c]] [[7c4e]] 4e4d 4d32 3200 0002 0284 84be be21 21d2 d22b 2b40 406e 6e0a 0ac2 c20f 0fca caac acbd bd7e 7e8a 8ab5 b5bc bc33 33e3 e365 65e6 e63e 3e7b 7b76 76a2 a2df df26 26a3 a3ea ea68 68eb eb1a 1a52 522b 2b20 2060 60b2 b2a5 a561 6116 1684 84ca ca52 52d9 d9b9 b9b0 b0ce ce74 74d7 d7ba ba6e\n",
      "\n",
      "fdc2 c200 0000 0001 0101 0108 080a [[0a72]] [[724e]] 4e4d 4d32 3200 0002 0284 84be be21 21d2 d22b 2b40 406e 6e0a 0ac2 c20f 0fca caac acbd bd7e 7e8a 8ab5 b5bc bc33 33e3 e365 65e6 e63e 3e7b 7b76 76a2 a2df df26 26a3 a3ea ea68 68eb eb1a 1a52 522b 2b20 2060 60b2 b2a5 a561 6116 1684 84ca ca52 52d9 d9b9 b9b0 b0ce ce74 74d7 d7ba ba6e\n",
      "\n",
      "\n"
     ]
    },
    {
     "name": "stderr",
     "output_type": "stream",
     "text": [
      "[Succeeded / Failed / Skipped / Total] 60 / 0 / 1 / 61:  60%|██████    | 60/100 [06:06<04:04,  6.11s/it]"
     ]
    },
    {
     "name": "stdout",
     "output_type": "stream",
     "text": [
      "--------------------------------------------- Result 61 ---------------------------------------------\n",
      "[[11 (100%)]] --> [[6 (88%)]]\n",
      "\n",
      "ce4c 4c4a [[4ada]] [[dabe]] bede de00 0002 0210 1095 9500 0000 [[0032]] [[3211]] 1174 74ae aeae ae6f 6f9a 9aa0 a057 5794 9417 17ed ede8 e8f9 f9e7 e76e 6ea9 a94f 4f4b 4bd9 d901 01d9 d99f 9f27 273b 3bcb cb7a 7abd bd70 7086 868f 8f65 6526 26cc cc03 03b2 b202 0224 24dd dd44 4458 584a 4a6a 6a40 40f8 f830 3025 25c0 c01e 1e94 9483 83c5 c5a3\n",
      "\n",
      "ce4c 4c4a [[4a4c]] [[4cbe]] bede de00 0002 0210 1095 9500 0000 [[0036]] [[3611]] 1174 74ae aeae ae6f 6f9a 9aa0 a057 5794 9417 17ed ede8 e8f9 f9e7 e76e 6ea9 a94f 4f4b 4bd9 d901 01d9 d99f 9f27 273b 3bcb cb7a 7abd bd70 7086 868f 8f65 6526 26cc cc03 03b2 b202 0224 24dd dd44 4458 584a 4a6a 6a40 40f8 f830 3025 25c0 c01e 1e94 9483 83c5 c5a3\n",
      "\n",
      "\n"
     ]
    },
    {
     "name": "stderr",
     "output_type": "stream",
     "text": [
      "[Succeeded / Failed / Skipped / Total] 61 / 0 / 1 / 62:  61%|██████    | 61/100 [06:08<03:55,  6.04s/it]"
     ]
    },
    {
     "name": "stdout",
     "output_type": "stream",
     "text": [
      "--------------------------------------------- Result 62 ---------------------------------------------\n",
      "[[11 (100%)]] --> [[0 (84%)]]\n",
      "\n",
      "[[ce4c]] [[4c4a]] [[4ada]] dabe bede de00 0002 0210 1099 9900 0000 0032 32e3 e3ed ed91 91ec ec9c 9cc1 c1bd bdbb bb0f 0fd8 d89f 9f31 317b 7b64 6451 51a3 a342 4261 610d 0d6e 6e4f 4fe6 e6d2 d243 4363 634e 4ed0 d026 2663 6366 66e4 e47d 7de8 e87a 7abc bcfa fa34 34f7 f76e 6e3a 3ac5 c5ac ac1c 1cc9 c9bf bfd5 d59e 9ebc bcd6 d694 946f 6ffe\n",
      "\n",
      "[[cefa]] [[fa03]] [[03da]] dabe bede de00 0002 0210 1099 9900 0000 0032 32e3 e3ed ed91 91ec ec9c 9cc1 c1bd bdbb bb0f 0fd8 d89f 9f31 317b 7b64 6451 51a3 a342 4261 610d 0d6e 6e4f 4fe6 e6d2 d243 4363 634e 4ed0 d026 2663 6366 66e4 e47d 7de8 e87a 7abc bcfa fa34 34f7 f76e 6e3a 3ac5 c5ac ac1c 1cc9 c9bf bfd5 d59e 9ebc bcd6 d694 946f 6ffe\n",
      "\n",
      "\n"
     ]
    },
    {
     "name": "stderr",
     "output_type": "stream",
     "text": [
      "[Succeeded / Failed / Skipped / Total] 62 / 0 / 1 / 63:  62%|██████▏   | 62/100 [06:10<03:47,  5.98s/it]"
     ]
    },
    {
     "name": "stdout",
     "output_type": "stream",
     "text": [
      "--------------------------------------------- Result 63 ---------------------------------------------\n",
      "[[9 (100%)]] --> [[6 (100%)]]\n",
      "\n",
      "c98d 8d00 0000 0001 0101 0108 080a 0a73 737b 7b75 75f1 f100 [[0002]] [[0243]] 431c 1c3c 3c58 5855 5554 54ee ee72 7255 55e6 e65a 5aee eee4 e4cc ccd1 d1e7 e7e1 e156 56b3 b331 317b 7b48 4852 52b5 b534 3468 68f4 f4e2 e2a7 a7ae aeb6 b682 82bd bd26 263e 3e7b 7b59 5998 98dd dd0a 0a13 1341 4114 143c 3c86 8699 99d8 d80b 0b7f 7f62 628a\n",
      "\n",
      "c98d 8d00 0000 0001 0101 0108 080a 0a73 737b 7b75 75f1 f100 [[004f]] [[4f43]] 431c 1c3c 3c58 5855 5554 54ee ee72 7255 55e6 e65a 5aee eee4 e4cc ccd1 d1e7 e7e1 e156 56b3 b331 317b 7b48 4852 52b5 b534 3468 68f4 f4e2 e2a7 a7ae aeb6 b682 82bd bd26 263e 3e7b 7b59 5998 98dd dd0a 0a13 1341 4114 143c 3c86 8699 99d8 d80b 0b7f 7f62 628a\n",
      "\n",
      "\n"
     ]
    },
    {
     "name": "stderr",
     "output_type": "stream",
     "text": [
      "[Succeeded / Failed / Skipped / Total] 63 / 0 / 1 / 64:  63%|██████▎   | 63/100 [06:12<03:38,  5.91s/it]"
     ]
    },
    {
     "name": "stdout",
     "output_type": "stream",
     "text": [
      "--------------------------------------------- Result 64 ---------------------------------------------\n",
      "[[7 (100%)]] --> [[11 (100%)]]\n",
      "\n",
      "44c1 c100 0000 0001 0101 0108 080a 0a5e 5e76 7696 966b 6b00 [[0017]] [[17f5]] f5ad ad4b 4bb4 b4cd cd2f 2f06 063a 3a84 8491 9198 9832 3261 61f4 f4d5 d524 24fe fe33 335c 5cde de44 44c3 c3be be30 3024 2474 7467 67ae ae47 4755 55c9 c9cf cf3e 3e79 793e 3e5c 5c26 2683 839b 9b81 81aa aae6 e6bd bdc7 c701 0125 254d 4d17 1758 58e0 e0b7\n",
      "\n",
      "44c1 c100 0000 0001 0101 0108 080a 0a5e 5e76 7696 966b 6b00 [[0049]] [[49f5]] f5ad ad4b 4bb4 b4cd cd2f 2f06 063a 3a84 8491 9198 9832 3261 61f4 f4d5 d524 24fe fe33 335c 5cde de44 44c3 c3be be30 3024 2474 7467 67ae ae47 4755 55c9 c9cf cf3e 3e79 793e 3e5c 5c26 2683 839b 9b81 81aa aae6 e6bd bdc7 c701 0125 254d 4d17 1758 58e0 e0b7\n",
      "\n",
      "\n"
     ]
    },
    {
     "name": "stderr",
     "output_type": "stream",
     "text": [
      "[Succeeded / Failed / Skipped / Total] 64 / 0 / 1 / 65:  64%|██████▍   | 64/100 [06:13<03:30,  5.84s/it]"
     ]
    },
    {
     "name": "stdout",
     "output_type": "stream",
     "text": [
      "--------------------------------------------- Result 65 ---------------------------------------------\n",
      "[[6 (100%)]] --> [[7 (100%)]]\n",
      "\n",
      "986b 6b00 0000 0001 0101 0108 080a 0a18 18c7 c7ee eeca ca00 [[0051]] [[5150]] 5040 4017 1703 0303 0300 002b 2b00 0000 0000 0000 0000 0000 0004 044e 4eb8 b8cd cd98 98da da4f 4f2f 2fdb db11 11d3 d3b8 b885 85f6 f64a 4a91 9126 2644 445b 5bb2 b261 6113 13de de10 10a9 a9ad ad02 02e6 e6bf bfdd dd51 518d 8daa aae1 e1fa fa05 05fb\n",
      "\n",
      "986b 6b00 0000 0001 0101 0108 080a 0a18 18c7 c7ee eeca ca00 [[0019]] [[1950]] 5040 4017 1703 0303 0300 002b 2b00 0000 0000 0000 0000 0000 0004 044e 4eb8 b8cd cd98 98da da4f 4f2f 2fdb db11 11d3 d3b8 b885 85f6 f64a 4a91 9126 2644 445b 5bb2 b261 6113 13de de10 10a9 a9ad ad02 02e6 e6bf bfdd dd51 518d 8daa aae1 e1fa fa05 05fb\n",
      "\n",
      "\n"
     ]
    },
    {
     "name": "stderr",
     "output_type": "stream",
     "text": [
      "[Succeeded / Failed / Skipped / Total] 65 / 0 / 1 / 66:  65%|██████▌   | 65/100 [06:19<03:24,  5.84s/it]"
     ]
    },
    {
     "name": "stdout",
     "output_type": "stream",
     "text": [
      "--------------------------------------------- Result 66 ---------------------------------------------\n",
      "[[11 (100%)]] --> [[1 (76%)]]\n",
      "\n",
      "[[ce4c]] [[4c4a]] [[4ada]] [[dabe]] bede de00 [[0002]] [[0210]] [[1091]] 9100 0000 [[0032]] [[32aa]] aaf9 f91a 1a41 412c 2ca8 a8bd bd13 1362 6235 352c 2c16 1686 86cc ccd5 d505 05af afd3 d348 4884 84ae ae00 00da da73 73e1 e123 23c1 c16e 6e30 30fc fc40 4016 1671 71c0 c090 9027 270c 0c18 1878 784a 4a9d 9d69 69ca ca57 5741 412c 2c24 24ef efed ed22 226f 6fc7\n",
      "\n",
      "[[ce8c]] [[8c4a]] [[4a55]] [[55be]] bede de00 [[0051]] [[5168]] [[6891]] 9100 0000 [[0002]] [[02aa]] aaf9 f91a 1a41 412c 2ca8 a8bd bd13 1362 6235 352c 2c16 1686 86cc ccd5 d505 05af afd3 d348 4884 84ae ae00 00da da73 73e1 e123 23c1 c16e 6e30 30fc fc40 4016 1671 71c0 c090 9027 270c 0c18 1878 784a 4a9d 9d69 69ca ca57 5741 412c 2c24 24ef efed ed22 226f 6fc7\n",
      "\n",
      "\n"
     ]
    },
    {
     "name": "stderr",
     "output_type": "stream",
     "text": [
      "[Succeeded / Failed / Skipped / Total] 66 / 0 / 1 / 67:  66%|██████▌   | 66/100 [06:33<03:22,  5.97s/it]"
     ]
    },
    {
     "name": "stdout",
     "output_type": "stream",
     "text": [
      "--------------------------------------------- Result 67 ---------------------------------------------\n",
      "[[1 (100%)]] --> [[11 (79%)]]\n",
      "\n",
      "[[03e1]] [[e1d9]] d977 7735 35b5 b51e 1e22 2279 [[799e]] [[9e50]] 5018 18ff ffff ff04 044f [[4f00]] [[0000]] 0017 1703 0303 [[0300]] [[0027]] 2700 0000 [[0000]] [[0000]] [[0000]] [[0000]] [[0003]] 03bf bfec ec0f 0f36 36fe fe23 23a6 a63b 3b70 7046 461e 1eed ed60 60d3 d378 78ef efb1 b113 1376 762f 2f1a 1aee ee5e 5e63 6368 6888 88fd fde8 e85c 5c22 224a 4aca\n",
      "\n",
      "[[0376]] [[76d9]] d977 7735 35b5 b51e 1e22 2279 [[79e9]] [[e950]] 5018 18ff ffff ff04 044f [[4fb0]] [[b000]] 0017 1703 0303 [[03f6]] [[f627]] 2700 0000 [[00f1]] [[f1d0]] [[d000]] [[00a7]] [[a703]] 03bf bfec ec0f 0f36 36fe fe23 23a6 a63b 3b70 7046 461e 1eed ed60 60d3 d378 78ef efb1 b113 1376 762f 2f1a 1aee ee5e 5e63 6368 6888 88fd fde8 e85c 5c22 224a 4aca\n",
      "\n",
      "\n"
     ]
    },
    {
     "name": "stderr",
     "output_type": "stream",
     "text": [
      "[Succeeded / Failed / Skipped / Total] 67 / 0 / 1 / 68:  67%|██████▋   | 67/100 [06:44<03:19,  6.03s/it]"
     ]
    },
    {
     "name": "stdout",
     "output_type": "stream",
     "text": [
      "--------------------------------------------- Result 68 ---------------------------------------------\n",
      "[[4 (100%)]] --> [[3 (89%)]]\n",
      "\n",
      "df6c 6cd1 d1bc bcd9 d974 747e 7ed8 d826 2635 3580 8010 1008 [[0800]] [[0021]] 21c0 c000 0000 0001 [[0101]] [[0108]] [[080a]] [[0a88]] 88eb ebd3 d37f 7f01 012a 2a0f 0f36 363e 3e69 6943 4370 70ed edf9 f959 5930 30a2 a2f6 f651 517c 7c07 07c6 c6cf cff4 f4c5 c545 45d2 d25b 5bc0 c0ad ad70 70f8 f815 153a 3ac5 c522 [[2222]] [[22a0]] a0e5 e5f7 f743 438f 8f1a\n",
      "\n",
      "df6c 6cd1 d1bc bcd9 d974 747e 7ed8 d826 2635 3580 8010 1008 [[081a]] [[1a21]] 21c0 c000 0000 0001 [[01a6]] [[a608]] [[0803]] [[0388]] 88eb ebd3 d37f 7f01 012a 2a0f 0f36 363e 3e69 6943 4370 70ed edf9 f959 5930 30a2 a2f6 f651 517c 7c07 07c6 c6cf cff4 f4c5 c545 45d2 d25b 5bc0 c0ad ad70 70f8 f815 153a 3ac5 c522 [[22f0]] [[f0a0]] a0e5 e5f7 f743 438f 8f1a\n",
      "\n",
      "\n"
     ]
    },
    {
     "name": "stderr",
     "output_type": "stream",
     "text": [
      "[Succeeded / Failed / Skipped / Total] 68 / 0 / 1 / 69:  68%|██████▊   | 68/100 [06:45<03:10,  5.97s/it]"
     ]
    },
    {
     "name": "stdout",
     "output_type": "stream",
     "text": [
      "--------------------------------------------- Result 69 ---------------------------------------------\n",
      "[[8 (100%)]] --> [[11 (69%)]]\n",
      "\n",
      "c62d 2d00 [[0000]] [[0001]] 0101 0108 080a 0a00 0022 2225 2539 391a 1aa4 a4db db79 7995 95d7 d741 4166 66ab ab6a 6a29 292e 2e9f 9f64 6400 0086 86d1 d141 416a 6a47 47a5 a5b0 b0ee ee5a 5a9b 9b02 0275 75ff ff98 983b 3b6d 6d4a 4a4f 4f28 281b 1b3a 3a9d 9d9d 9dc7 c7fb fb22 2212 12cb cbbc bcfd fd40 404f 4fea eacb cbfb fb16 1672 7266\n",
      "\n",
      "c62d 2d00 [[005b]] [[5b01]] 0101 0108 080a 0a00 0022 2225 2539 391a 1aa4 a4db db79 7995 95d7 d741 4166 66ab ab6a 6a29 292e 2e9f 9f64 6400 0086 86d1 d141 416a 6a47 47a5 a5b0 b0ee ee5a 5a9b 9b02 0275 75ff ff98 983b 3b6d 6d4a 4a4f 4f28 281b 1b3a 3a9d 9d9d 9dc7 c7fb fb22 2212 12cb cbbc bcfd fd40 404f 4fea eacb cbfb fb16 1672 7266\n",
      "\n",
      "\n"
     ]
    },
    {
     "name": "stderr",
     "output_type": "stream",
     "text": [
      "[Succeeded / Failed / Skipped / Total] 69 / 0 / 1 / 70:  69%|██████▉   | 69/100 [06:47<03:02,  5.90s/it]"
     ]
    },
    {
     "name": "stdout",
     "output_type": "stream",
     "text": [
      "--------------------------------------------- Result 70 ---------------------------------------------\n",
      "[[9 (100%)]] --> [[6 (100%)]]\n",
      "\n",
      "1e9d 9d00 0000 0001 0101 0108 080a 0a37 370b 0bc6 c6b7 b700 [[0002]] [[028c]] 8ce7 e7b6 b6cb cbfe fed0 d042 423c 3cca ca19 194d 4d1c 1c75 7519 195e 5e8a 8a20 20f6 f681 816d 6dab ab73 73cf cfc7 c732 3201 01bb bb3f 3fc2 c254 54c0 c0d5 d558 58a0 a03b 3b90 900b 0b93 9356 5630 3034 3420 20c6 c664 640c 0cbd bd93 9302 0253 53c1 c17e\n",
      "\n",
      "1e9d 9d00 0000 0001 0101 0108 080a 0a37 370b 0bc6 c6b7 b700 [[0046]] [[468c]] 8ce7 e7b6 b6cb cbfe fed0 d042 423c 3cca ca19 194d 4d1c 1c75 7519 195e 5e8a 8a20 20f6 f681 816d 6dab ab73 73cf cfc7 c732 3201 01bb bb3f 3fc2 c254 54c0 c0d5 d558 58a0 a03b 3b90 900b 0b93 9356 5630 3034 3420 20c6 c664 640c 0cbd bd93 9302 0253 53c1 c17e\n",
      "\n",
      "\n"
     ]
    },
    {
     "name": "stderr",
     "output_type": "stream",
     "text": [
      "[Succeeded / Failed / Skipped / Total] 70 / 0 / 1 / 71:  70%|███████   | 70/100 [06:48<02:55,  5.84s/it]"
     ]
    },
    {
     "name": "stdout",
     "output_type": "stream",
     "text": [
      "--------------------------------------------- Result 71 ---------------------------------------------\n",
      "[[0 (100%)]] --> [[1 (100%)]]\n",
      "\n",
      "01bb [[bbf0]] [[f078]] 78bd bd19 1973 73ec ec2d 2dd5 d550 5010 10fd fd20 20d4 d431 3100 0000 00fc fce2 e248 487b 7b4a 4add ddd8 d819 1961 61e4 e496 969c 9c3c 3ce2 e2aa aaf5 f528 283f 3f94 94e2 e289 89c9 c980 8052 52a6 a614 1453 53f7 f7d0 d0cb cbb3 b33e 3ea9 a973 731b 1b4b 4b41 411a 1a9c 9c63 634c 4c81 8106 060a 0af8 f85d 5d3a\n",
      "\n",
      "01bb [[bb94]] [[9478]] 78bd bd19 1973 73ec ec2d 2dd5 d550 5010 10fd fd20 20d4 d431 3100 0000 00fc fce2 e248 487b 7b4a 4add ddd8 d819 1961 61e4 e496 969c 9c3c 3ce2 e2aa aaf5 f528 283f 3f94 94e2 e289 89c9 c980 8052 52a6 a614 1453 53f7 f7d0 d0cb cbb3 b33e 3ea9 a973 731b 1b4b 4b41 411a 1a9c 9c63 634c 4c81 8106 060a 0af8 f85d 5d3a\n",
      "\n",
      "\n"
     ]
    },
    {
     "name": "stderr",
     "output_type": "stream",
     "text": [
      "[Succeeded / Failed / Skipped / Total] 71 / 0 / 1 / 72:  71%|███████   | 71/100 [06:50<02:47,  5.78s/it]"
     ]
    },
    {
     "name": "stdout",
     "output_type": "stream",
     "text": [
      "--------------------------------------------- Result 72 ---------------------------------------------\n",
      "[[11 (98%)]] --> [[0 (94%)]]\n",
      "\n",
      "5de5 e500 0007 07aa aa35 35ba ba96 [[9690]] [[90c1]] c1a9 a99d 9dea eae4 e413 1322 22f7 f768 689d 9d7b 7b0c 0cea eab4 b4dc dc88 8804 0440 403b 3bca ca4a 4a9b 9b22 2259 592e 2ec5 c54a 4ae9 e942 42bd bd0d 0dba ba98 989b 9b5b 5b9e 9e0f 0f55 5519 1918 18bd bdf3 f322 2248 485c 5cd5 d599 99b7 b780 809b 9b88 881b 1bc6 c66d 6d1e 1ef5\n",
      "\n",
      "5de5 e500 0007 07aa aa35 35ba ba96 [[9675]] [[75c1]] c1a9 a99d 9dea eae4 e413 1322 22f7 f768 689d 9d7b 7b0c 0cea eab4 b4dc dc88 8804 0440 403b 3bca ca4a 4a9b 9b22 2259 592e 2ec5 c54a 4ae9 e942 42bd bd0d 0dba ba98 989b 9b5b 5b9e 9e0f 0f55 5519 1918 18bd bdf3 f322 2248 485c 5cd5 d599 99b7 b780 809b 9b88 881b 1bc6 c66d 6d1e 1ef5\n",
      "\n",
      "\n"
     ]
    },
    {
     "name": "stderr",
     "output_type": "stream",
     "text": [
      "[Succeeded / Failed / Skipped / Total] 72 / 0 / 1 / 73:  72%|███████▏  | 72/100 [06:51<02:40,  5.72s/it]"
     ]
    },
    {
     "name": "stdout",
     "output_type": "stream",
     "text": [
      "--------------------------------------------- Result 73 ---------------------------------------------\n",
      "[[2 (100%)]] --> [[11 (100%)]]\n",
      "\n",
      "ac4a 4a05 [[0562]] [[62e2]] e2bb bb1e 1e13 134d 4db4 b4a6 a6d4 d490 9054 54b9 b90f 0fd6 d6dd dded ed39 39b1 b195 95fb fb7e 7ed9 d9b8 b878 78e0 e03e 3eb2 b227 277a 7a48 4894 9417 17b2 b2f4 f407 07ae aec5 c533 3370 703f 3f7a 7a5d 5d50 50a9 a9a1 a1ac acb9 b921 21a5 a50f 0f94 94a2 a242 4245 45bb bbce ce5a 5a63 635f 5f0a 0a87 8778\n",
      "\n",
      "ac4a 4a05 [[0545]] [[45e2]] e2bb bb1e 1e13 134d 4db4 b4a6 a6d4 d490 9054 54b9 b90f 0fd6 d6dd dded ed39 39b1 b195 95fb fb7e 7ed9 d9b8 b878 78e0 e03e 3eb2 b227 277a 7a48 4894 9417 17b2 b2f4 f407 07ae aec5 c533 3370 703f 3f7a 7a5d 5d50 50a9 a9a1 a1ac acb9 b921 21a5 a50f 0f94 94a2 a242 4245 45bb bbce ce5a 5a63 635f 5f0a 0a87 8778\n",
      "\n",
      "\n"
     ]
    },
    {
     "name": "stderr",
     "output_type": "stream",
     "text": [
      "[Succeeded / Failed / Skipped / Total] 73 / 0 / 1 / 74:  73%|███████▎  | 73/100 [06:53<02:32,  5.66s/it]"
     ]
    },
    {
     "name": "stdout",
     "output_type": "stream",
     "text": [
      "--------------------------------------------- Result 74 ---------------------------------------------\n",
      "[[9 (100%)]] --> [[6 (100%)]]\n",
      "\n",
      "c56a 6a00 0000 0001 0101 0108 080a 0a7c 7c4e 4e81 8168 6800 [[0002]] [[02b8]] b8f7 f71a 1a28 2805 058e 8e01 010c 0c1a 1a02 0254 54ca ca89 89d3 d361 61c3 c321 2111 1144 4480 8023 2392 92d0 d071 7125 25ad ad51 5133 3300 0034 34d2 d253 5366 66b0 b0c5 c5d4 d478 78a0 a029 2919 1982 8211 11b6 b620 2029 29d4 d449 4964 6492 9247 474a\n",
      "\n",
      "c56a 6a00 0000 0001 0101 0108 080a 0a7c 7c4e 4e81 8168 6800 [[0056]] [[56b8]] b8f7 f71a 1a28 2805 058e 8e01 010c 0c1a 1a02 0254 54ca ca89 89d3 d361 61c3 c321 2111 1144 4480 8023 2392 92d0 d071 7125 25ad ad51 5133 3300 0034 34d2 d253 5366 66b0 b0c5 c5d4 d478 78a0 a029 2919 1982 8211 11b6 b620 2029 29d4 d449 4964 6492 9247 474a\n",
      "\n",
      "\n"
     ]
    },
    {
     "name": "stderr",
     "output_type": "stream",
     "text": [
      "[Succeeded / Failed / Skipped / Total] 74 / 0 / 1 / 75:  74%|███████▍  | 74/100 [06:54<02:25,  5.61s/it]"
     ]
    },
    {
     "name": "stdout",
     "output_type": "stream",
     "text": [
      "--------------------------------------------- Result 75 ---------------------------------------------\n",
      "[[10 (100%)]] --> [[11 (99%)]]\n",
      "\n",
      "2ca2 a200 0000 0001 0101 0108 080a [[0ac1]] [[c128]] 280d 0d54 5402 0276 7679 79b6 b610 10a4 a472 72ff ffe1 e152 52ba bad6 d6e2 e287 87d9 d90c 0c4b 4b67 67d7 d7ac ac63 63bb bb20 2079 7921 2165 654c 4ca8 a863 63a5 a5a6 a66c 6c5d 5d2a 2af8 f812 1212 12e5 e5ce ce07 0725 25ae ae26 26be be7b 7b3b 3b8b 8bd0 d0e5 e5cb cb50 50e5 e5fa\n",
      "\n",
      "2ca2 a200 0000 0001 0101 0108 080a [[0a40]] [[4028]] 280d 0d54 5402 0276 7679 79b6 b610 10a4 a472 72ff ffe1 e152 52ba bad6 d6e2 e287 87d9 d90c 0c4b 4b67 67d7 d7ac ac63 63bb bb20 2079 7921 2165 654c 4ca8 a863 63a5 a5a6 a66c 6c5d 5d2a 2af8 f812 1212 12e5 e5ce ce07 0725 25ae ae26 26be be7b 7b3b 3b8b 8bd0 d0e5 e5cb cb50 50e5 e5fa\n",
      "\n",
      "\n"
     ]
    },
    {
     "name": "stderr",
     "output_type": "stream",
     "text": [
      "[Succeeded / Failed / Skipped / Total] 75 / 0 / 1 / 76:  75%|███████▌  | 75/100 [06:56<02:18,  5.55s/it]"
     ]
    },
    {
     "name": "stdout",
     "output_type": "stream",
     "text": [
      "--------------------------------------------- Result 76 ---------------------------------------------\n",
      "[[11 (100%)]] --> [[1 (89%)]]\n",
      "\n",
      "2d92 9200 [[005b]] [[5bb6]] b623 2347 4746 4667 67b5 b583 839b 9b9b 9bfd fd82 82ac acda dab9 b961 61ab ab3e 3eea ea31 311d 1d8a 8af4 f439 39ad ad0e 0ea6 a6d8 d81b 1bfe feac ac99 9943 43af afff ff9e 9e72 722c 2c19 1912 125a 5ac1 c1ea ea41 41a3 a300 00eb eb67 6757 5770 7093 93f8 f86a 6ae6 e6dd ddd0 d0a5 a594 9405 05b3 b331 319f\n",
      "\n",
      "2d92 9200 [[0031]] [[31b6]] b623 2347 4746 4667 67b5 b583 839b 9b9b 9bfd fd82 82ac acda dab9 b961 61ab ab3e 3eea ea31 311d 1d8a 8af4 f439 39ad ad0e 0ea6 a6d8 d81b 1bfe feac ac99 9943 43af afff ff9e 9e72 722c 2c19 1912 125a 5ac1 c1ea ea41 41a3 a300 00eb eb67 6757 5770 7093 93f8 f86a 6ae6 e6dd ddd0 d0a5 a594 9405 05b3 b331 319f\n",
      "\n",
      "\n"
     ]
    },
    {
     "name": "stderr",
     "output_type": "stream",
     "text": [
      "[Succeeded / Failed / Skipped / Total] 76 / 0 / 1 / 77:  76%|███████▌  | 76/100 [07:07<02:14,  5.62s/it]"
     ]
    },
    {
     "name": "stdout",
     "output_type": "stream",
     "text": [
      "--------------------------------------------- Result 77 ---------------------------------------------\n",
      "[[4 (100%)]] --> [[3 (48%)]]\n",
      "\n",
      "e3af af5e 5e27 27eb eb28 [[2870]] [[706a]] 6a2f 2f3f [[3f80]] [[8010]] [[1008]] [[0800]] 001b 1b9a 9a00 0000 0001 0101 [[0108]] [[080a]] 0a0a 0af2 f235 3585 8501 0124 24f3 f3af afe2 e2a4 a4be beff ff97 9796 960f 0f30 306c 6cf9 f9eb eb4d 4d0c 0c32 320d 0d37 3746 46c7 c710 1016 16d1 d15a 5a08 [[0871]] [[7193]] 9314 14ba ba33 334a [[4ada]] [[da8c]] 8c17 [[17b2]] [[b26f]] 6f35\n",
      "\n",
      "e3af af5e 5e27 27eb eb28 [[282f]] [[2f6a]] 6a2f 2f3f [[3f90]] [[9010]] [[105e]] [[5e00]] 001b 1b9a 9a00 0000 0001 0101 [[0134]] [[340a]] 0a0a 0af2 f235 3585 8501 0124 24f3 f3af afe2 e2a4 a4be beff ff97 9796 960f 0f30 306c 6cf9 f9eb eb4d 4d0c 0c32 320d 0d37 3746 46c7 c710 1016 16d1 d15a 5a08 [[0859]] [[5993]] 9314 14ba ba33 334a [[4a7a]] [[7a8c]] 8c17 [[1745]] [[456f]] 6f35\n",
      "\n",
      "\n"
     ]
    },
    {
     "name": "stderr",
     "output_type": "stream",
     "text": [
      "[Succeeded / Failed / Skipped / Total] 77 / 0 / 1 / 78:  77%|███████▋  | 77/100 [07:08<02:08,  5.57s/it]"
     ]
    },
    {
     "name": "stdout",
     "output_type": "stream",
     "text": [
      "--------------------------------------------- Result 78 ---------------------------------------------\n",
      "[[8 (100%)]] --> [[6 (63%)]]\n",
      "\n",
      "1e29 2900 [[0000]] [[0001]] 0101 0108 080a 0a00 0022 2211 11ba ba1a 1aa4 a4c7 c7f8 f884 8492 92bc bc38 38d5 d59a 9a36 36d7 d7d4 d405 0574 74f8 f858 58f4 f4d4 d416 1660 606c 6cbf bf5a 5a2b 2b24 24af af8c 8c19 19e8 e8fb fbc6 c632 321a 1aca ca90 9059 5992 9248 48b1 b182 8229 294c 4c5a 5aea ea4d 4d3d 3dbd bd7c 7ccf cfa9 a924 24b2\n",
      "\n",
      "1e29 2900 [[003f]] [[3f01]] 0101 0108 080a 0a00 0022 2211 11ba ba1a 1aa4 a4c7 c7f8 f884 8492 92bc bc38 38d5 d59a 9a36 36d7 d7d4 d405 0574 74f8 f858 58f4 f4d4 d416 1660 606c 6cbf bf5a 5a2b 2b24 24af af8c 8c19 19e8 e8fb fbc6 c632 321a 1aca ca90 9059 5992 9248 48b1 b182 8229 294c 4c5a 5aea ea4d 4d3d 3dbd bd7c 7ccf cfa9 a924 24b2\n",
      "\n",
      "\n"
     ]
    },
    {
     "name": "stderr",
     "output_type": "stream",
     "text": [
      "[Succeeded / Failed / Skipped / Total] 78 / 0 / 1 / 79:  78%|███████▊  | 78/100 [07:10<02:01,  5.52s/it]"
     ]
    },
    {
     "name": "stdout",
     "output_type": "stream",
     "text": [
      "--------------------------------------------- Result 79 ---------------------------------------------\n",
      "[[9 (100%)]] --> [[6 (100%)]]\n",
      "\n",
      "7a71 7100 0000 0001 0101 0108 080a 0a37 370b 0bc9 c9d4 d400 [[0002]] [[0290]] 9003 0369 69ae ae26 2679 7933 3336 36db db38 3828 28a3 a3e7 e71e 1e4f 4fd5 d566 6651 51c8 c8aa aa95 9569 69d3 d384 8446 46b3 b3de de0f 0f91 9119 190c 0cbf bf27 278a 8a50 506b 6b0c 0cf5 f5b1 b1bf bf28 28ff ff57 579a 9aa8 a881 8107 0731 319c 9cee ee55\n",
      "\n",
      "7a71 7100 0000 0001 0101 0108 080a 0a37 370b 0bc9 c9d4 d400 [[0050]] [[5090]] 9003 0369 69ae ae26 2679 7933 3336 36db db38 3828 28a3 a3e7 e71e 1e4f 4fd5 d566 6651 51c8 c8aa aa95 9569 69d3 d384 8446 46b3 b3de de0f 0f91 9119 190c 0cbf bf27 278a 8a50 506b 6b0c 0cf5 f5b1 b1bf bf28 28ff ff57 579a 9aa8 a881 8107 0731 319c 9cee ee55\n",
      "\n",
      "\n"
     ]
    },
    {
     "name": "stderr",
     "output_type": "stream",
     "text": [
      "[Succeeded / Failed / Skipped / Total] 79 / 0 / 1 / 80:  79%|███████▉  | 79/100 [07:13<01:55,  5.48s/it]"
     ]
    },
    {
     "name": "stdout",
     "output_type": "stream",
     "text": [
      "--------------------------------------------- Result 80 ---------------------------------------------\n",
      "[[5 (100%)]] --> [[2 (88%)]]\n",
      "\n",
      "a441 41ff ff03 0372 7228 2894 94a6 a684 84ba ba80 8018 [[1805]] [[055d]] 5d10 106f 6f00 0000 0001 0101 0108 080a 0a32 327c 7cba bad2 d203 0389 8946 4678 7817 1703 [[0303]] [[0300]] 008d 8d00 0000 0000 0000 0000 0000 0009 09a1 a199 9915 1597 97d8 d89b 9b59 593b 3b2c 2cdd ddad ad08 08a0 a0aa aa5b 5bdb dbe5 e5c4 c480 80ff ff16 1655 556b\n",
      "\n",
      "a441 41ff ff03 0372 7228 2894 94a6 a684 84ba ba80 8018 [[1814]] [[145d]] 5d10 106f 6f00 0000 0001 0101 0108 080a 0a32 327c 7cba bad2 d203 0389 8946 4678 7817 1703 [[0399]] [[9900]] 008d 8d00 0000 0000 0000 0000 0000 0009 09a1 a199 9915 1597 97d8 d89b 9b59 593b 3b2c 2cdd ddad ad08 08a0 a0aa aa5b 5bdb dbe5 e5c4 c480 80ff ff16 1655 556b\n",
      "\n",
      "\n"
     ]
    },
    {
     "name": "stderr",
     "output_type": "stream",
     "text": [
      "[Succeeded / Failed / Skipped / Total] 80 / 0 / 1 / 81:  80%|████████  | 80/100 [07:14<01:48,  5.44s/it]"
     ]
    },
    {
     "name": "stdout",
     "output_type": "stream",
     "text": [
      "--------------------------------------------- Result 81 ---------------------------------------------\n",
      "[[1 (100%)]] --> [[6 (98%)]]\n",
      "\n",
      "c065 6500 [[0070]] [[70de]] deb3 b300 003e 3e05 05a2 a2e5 e5c4 c4eb eb42 42ed ed02 0200 0059 59a6 a62d 2da3 a34f 4fdd dda3 a315 150b 0b2f 2f03 0385 8504 0490 9010 107c 7c59 59e6 e6f0 f046 46e0 e0b5 b55a 5a66 662f 2f50 50cc cc37 3771 7175 755f 5fa6 a6eb ebb5 b555 5508 084d 4dca ca54 545c 5c8e 8e87 8706 06cf cf0d 0d69 69b3 b35d\n",
      "\n",
      "c065 6500 [[0000]] [[00de]] deb3 b300 003e 3e05 05a2 a2e5 e5c4 c4eb eb42 42ed ed02 0200 0059 59a6 a62d 2da3 a34f 4fdd dda3 a315 150b 0b2f 2f03 0385 8504 0490 9010 107c 7c59 59e6 e6f0 f046 46e0 e0b5 b55a 5a66 662f 2f50 50cc cc37 3771 7175 755f 5fa6 a6eb ebb5 b555 5508 084d 4dca ca54 545c 5c8e 8e87 8706 06cf cf0d 0d69 69b3 b35d\n",
      "\n",
      "\n"
     ]
    },
    {
     "name": "stderr",
     "output_type": "stream",
     "text": [
      "[Succeeded / Failed / Skipped / Total] 81 / 0 / 1 / 82:  81%|████████  | 81/100 [07:20<01:43,  5.44s/it]"
     ]
    },
    {
     "name": "stdout",
     "output_type": "stream",
     "text": [
      "--------------------------------------------- Result 82 ---------------------------------------------\n",
      "[[4 (100%)]] --> [[0 (99%)]]\n",
      "\n",
      "[[859b]] [[9b43]] [[4377]] [[772c]] 2c6e 6e61 [[61fd]] [[fd49]] 49d6 d680 8010 1002 0214 1428 282e 2e00 0000 [[0001]] [[0101]] 0108 080a 0ab0 b041 4135 3598 9801 011e 1e68 68a5 a5d3 d3c1 c16c 6c9b 9b9c 9cb3 b3fa fade de1c 1c14 1426 261b 1bcd cd13 13c8 c8d8 d8d9 d961 6183 83c6 [[c665]] [[65d8]] d810 10b4 b421 213a 3a7a 7ac4 c4a8 a80a 0acc cc52 52a1 a167 67cf\n",
      "\n",
      "[[85b3]] [[b343]] [[436a]] [[6a2c]] 2c6e 6e61 [[6114]] [[1449]] 49d6 d680 8010 1002 0214 1428 282e 2e00 0000 [[0058]] [[5801]] 0108 080a 0ab0 b041 4135 3598 9801 011e 1e68 68a5 a5d3 d3c1 c16c 6c9b 9b9c 9cb3 b3fa fade de1c 1c14 1426 261b 1bcd cd13 13c8 c8d8 d8d9 d961 6183 83c6 [[c634]] [[34d8]] d810 10b4 b421 213a 3a7a 7ac4 c4a8 a80a 0acc cc52 52a1 a167 67cf\n",
      "\n",
      "\n"
     ]
    },
    {
     "name": "stderr",
     "output_type": "stream",
     "text": [
      "[Succeeded / Failed / Skipped / Total] 82 / 0 / 1 / 83:  82%|████████▏ | 82/100 [07:23<01:37,  5.41s/it]"
     ]
    },
    {
     "name": "stdout",
     "output_type": "stream",
     "text": [
      "--------------------------------------------- Result 83 ---------------------------------------------\n",
      "[[2 (100%)]] --> [[11 (100%)]]\n",
      "\n",
      "[[ac4a]] [[4a05]] [[0562]] [[6241]] 4187 87f2 f290 905d 5d29 29f4 f441 413e 3ed0 d064 64bb bb82 82a3 a328 2899 997d 7d8b 8b3a 3a74 746d 6d97 97da da49 49e5 e50f 0f95 95dc dcb4 b480 8068 68b1 b1eb eba3 a342 4261 613e 3ea9 a983 83ad addd ddd6 d658 58b1 b1bd bdb9 b903 036a 6a16 160e 0e53 5376 7620 2047 4701 01fa faa7 a754 5473 73c8 c82b\n",
      "\n",
      "[[acd3]] [[d305]] [[052a]] [[2a41]] 4187 87f2 f290 905d 5d29 29f4 f441 413e 3ed0 d064 64bb bb82 82a3 a328 2899 997d 7d8b 8b3a 3a74 746d 6d97 97da da49 49e5 e50f 0f95 95dc dcb4 b480 8068 68b1 b1eb eba3 a342 4261 613e 3ea9 a983 83ad addd ddd6 d658 58b1 b1bd bdb9 b903 036a 6a16 160e 0e53 5376 7620 2047 4701 01fa faa7 a754 5473 73c8 c82b\n",
      "\n",
      "\n"
     ]
    },
    {
     "name": "stderr",
     "output_type": "stream",
     "text": [
      "[Succeeded / Failed / Skipped / Total] 83 / 0 / 1 / 84:  83%|████████▎ | 83/100 [07:32<01:32,  5.45s/it]"
     ]
    },
    {
     "name": "stdout",
     "output_type": "stream",
     "text": [
      "--------------------------------------------- Result 84 ---------------------------------------------\n",
      "[[4 (100%)]] --> [[2 (63%)]]\n",
      "\n",
      "8581 [[813a]] [[3a2d]] 2d8b 8b9e [[9ebd]] [[bd3b]] 3b03 038f 8f80 8010 1002 0229 291d 1dba ba00 [[0000]] [[0001]] 0101 0108 080a [[0ab0]] [[b039]] 39d5 d5ae ae01 011c 1c90 90ab ab32 323e 3e89 891d 1d19 194f [[4f80]] [[804f]] 4f1b 1b1f 1ff8 f835 35d7 d778 78d0 d02a 2a05 [[05a3]] [[a37e]] 7e8b 8b38 3808 08c7 c784 849d 9d23 2311 1130 30a2 a2bf bf9e 9e52 5287 8792 9273\n",
      "\n",
      "8581 [[8100]] [[002d]] 2d8b 8b9e [[9e12]] [[123b]] 3b03 038f 8f80 8010 1002 0229 291d 1dba ba00 [[000b]] [[0b01]] 0101 0108 080a [[0a00]] [[0039]] 39d5 d5ae ae01 011c 1c90 90ab ab32 323e 3e89 891d 1d19 194f [[4f68]] [[684f]] 4f1b 1b1f 1ff8 f835 35d7 d778 78d0 d02a 2a05 [[05d0]] [[d07e]] 7e8b 8b38 3808 08c7 c784 849d 9d23 2311 1130 30a2 a2bf bf9e 9e52 5287 8792 9273\n",
      "\n",
      "\n"
     ]
    },
    {
     "name": "stderr",
     "output_type": "stream",
     "text": [
      "[Succeeded / Failed / Skipped / Total] 84 / 0 / 1 / 85:  84%|████████▍ | 84/100 [07:34<01:26,  5.41s/it]"
     ]
    },
    {
     "name": "stdout",
     "output_type": "stream",
     "text": [
      "--------------------------------------------- Result 85 ---------------------------------------------\n",
      "[[11 (100%)]] --> [[0 (98%)]]\n",
      "\n",
      "[[ce4c]] [[4c4a]] [[4ada]] dabe bede de00 0002 0210 10a7 a700 0000 0032 32f2 f2e9 e917 17d4 d40d 0d6c 6c79 790a 0aaa aa05 0544 4445 4509 09b5 b573 7357 57a5 a5b3 b3d7 d7a0 a03f 3fe8 e8cc cc9e 9e54 54a0 a0d9 d9a0 a07b 7b9e 9e32 3254 54cf cf47 471e 1ed8 d870 7091 91ad ad25 2581 813e 3eb5 b5ec ecf4 f4e7 e7e4 e4c8 c8c7 c708 0821 2109\n",
      "\n",
      "[[cef0]] [[f002]] [[02da]] dabe bede de00 0002 0210 10a7 a700 0000 0032 32f2 f2e9 e917 17d4 d40d 0d6c 6c79 790a 0aaa aa05 0544 4445 4509 09b5 b573 7357 57a5 a5b3 b3d7 d7a0 a03f 3fe8 e8cc cc9e 9e54 54a0 a0d9 d9a0 a07b 7b9e 9e32 3254 54cf cf47 471e 1ed8 d870 7091 91ad ad25 2581 813e 3eb5 b5ec ecf4 f4e7 e7e4 e4c8 c8c7 c708 0821 2109\n",
      "\n",
      "\n"
     ]
    },
    {
     "name": "stderr",
     "output_type": "stream",
     "text": [
      "[Succeeded / Failed / Skipped / Total] 85 / 0 / 1 / 86:  85%|████████▌ | 85/100 [07:42<01:21,  5.45s/it]"
     ]
    },
    {
     "name": "stdout",
     "output_type": "stream",
     "text": [
      "--------------------------------------------- Result 86 ---------------------------------------------\n",
      "[[4 (100%)]] --> [[0 (65%)]]\n",
      "\n",
      "dd02 [[02ef]] [[ef4a]] [[4a9b]] 9b40 40f0 f029 [[29e0]] [[e058]] [[5880]] 8010 1002 020f 0f28 2828 2800 0000 [[0001]] [[0101]] 0108 [[080a]] [[0a05]] 0587 8733 330d 0d01 0123 2318 1881 8174 741d 1d61 6114 1490 904b 4bbf bf80 803d 3d6c 6cb5 b587 8732 3212 1269 697a 7a0b 0b4a 4a3b 3b8d 8d7c 7c0b 0bee eebf bfb9 b950 5076 763a 3abb bbc3 c39b 9bb2 [[b2c8]] [[c888]] 886d\n",
      "\n",
      "dd02 [[0217]] [[17a9]] [[a99b]] 9b40 40f0 f029 [[291c]] [[1ce4]] [[e480]] 8010 1002 020f 0f28 2828 2800 0000 [[00b4]] [[b401]] 0108 [[087a]] [[7a05]] 0587 8733 330d 0d01 0123 2318 1881 8174 741d 1d61 6114 1490 904b 4bbf bf80 803d 3d6c 6cb5 b587 8732 3212 1269 697a 7a0b 0b4a 4a3b 3b8d 8d7c 7c0b 0bee eebf bfb9 b950 5076 763a 3abb bbc3 c39b 9bb2 [[b227]] [[2788]] 886d\n",
      "\n",
      "\n"
     ]
    },
    {
     "name": "stderr",
     "output_type": "stream",
     "text": [
      "[Succeeded / Failed / Skipped / Total] 86 / 0 / 1 / 87:  86%|████████▌ | 86/100 [07:43<01:15,  5.39s/it]"
     ]
    },
    {
     "name": "stdout",
     "output_type": "stream",
     "text": [
      "--------------------------------------------- Result 87 ---------------------------------------------\n",
      "[[5 (100%)]] --> [[1 (99%)]]\n",
      "\n",
      "[[4b69]] [[6900]] 001e 1ef1 f1a1 a180 80c9 c900 0001 0160 60b5 b501 0149 4980 8000 0012 12ad adde deaf afaf af30 3083 83d1 d1c9 c9f1 f165 65a2\n",
      "\n",
      "[[4b95]] [[9500]] 001e 1ef1 f1a1 a180 80c9 c900 0001 0160 60b5 b501 0149 4980 8000 0012 12ad adde deaf afaf af30 3083 83d1 d1c9 c9f1 f165 65a2\n",
      "\n",
      "\n"
     ]
    },
    {
     "name": "stderr",
     "output_type": "stream",
     "text": [
      "[Succeeded / Failed / Skipped / Total] 87 / 0 / 1 / 88:  87%|████████▋ | 87/100 [07:45<01:09,  5.35s/it]"
     ]
    },
    {
     "name": "stdout",
     "output_type": "stream",
     "text": [
      "--------------------------------------------- Result 88 ---------------------------------------------\n",
      "[[8 (100%)]] --> [[6 (100%)]]\n",
      "\n",
      "96c7 c700 0000 0001 0101 0108 080a 0a00 [[0021]] [[21ae]] ae11 111a 1aa4 a464 6452 5247 4719 1959 59ff ff4a 4a33 3314 14af aff4 f4f6 f62d 2dd6 d6da daaa aaa0 a0e6 e600 0064 6416 16ad ad98 98a1 a17d 7df0 f0f5 f592 927b 7bdc dc92 92ee ee4d 4def ef6d 6ded ed84 8471 71b1 b13e 3e79 7923 2315 15f5 f5da daee ee9e 9ecb cb60 60ca ca54\n",
      "\n",
      "96c7 c700 0000 0001 0101 0108 080a 0a00 [[003f]] [[3fae]] ae11 111a 1aa4 a464 6452 5247 4719 1959 59ff ff4a 4a33 3314 14af aff4 f4f6 f62d 2dd6 d6da daaa aaa0 a0e6 e600 0064 6416 16ad ad98 98a1 a17d 7df0 f0f5 f592 927b 7bdc dc92 92ee ee4d 4def ef6d 6ded ed84 8471 71b1 b13e 3e79 7923 2315 15f5 f5da daee ee9e 9ecb cb60 60ca ca54\n",
      "\n",
      "\n"
     ]
    },
    {
     "name": "stderr",
     "output_type": "stream",
     "text": [
      "[Succeeded / Failed / Skipped / Total] 88 / 0 / 1 / 89:  88%|████████▊ | 88/100 [07:47<01:03,  5.31s/it]"
     ]
    },
    {
     "name": "stdout",
     "output_type": "stream",
     "text": [
      "--------------------------------------------- Result 89 ---------------------------------------------\n",
      "[[2 (100%)]] --> [[11 (99%)]]\n",
      "\n",
      "d3aa aa00 [[0023]] [[23f5]] f548 48d6 d654 540d 0d53 53dd ddcb cb8a 8aa7 [[a745]] [[45f9]] f98f 8f5d 5d65 65d5 d52f 2fe8 e839 3982 82e7 e781 81cb cb93 934c 4ca7 a700 00bc bc19\n",
      "\n",
      "d3aa aa00 [[005b]] [[5bf5]] f548 48d6 d654 540d 0d53 53dd ddcb cb8a 8aa7 [[a72d]] [[2df9]] f98f 8f5d 5d65 65d5 d52f 2fe8 e839 3982 82e7 e781 81cb cb93 934c 4ca7 a700 00bc bc19\n",
      "\n",
      "\n"
     ]
    },
    {
     "name": "stderr",
     "output_type": "stream",
     "text": [
      "[Succeeded / Failed / Skipped / Total] 89 / 0 / 1 / 90:  89%|████████▉ | 89/100 [07:49<00:57,  5.27s/it]"
     ]
    },
    {
     "name": "stdout",
     "output_type": "stream",
     "text": [
      "--------------------------------------------- Result 90 ---------------------------------------------\n",
      "[[8 (100%)]] --> [[6 (99%)]]\n",
      "\n",
      "04a3 a300 0000 0001 0101 0108 080a 0a1a 1aa6 a639 39ad ad00 [[0023]] [[2383]] 8333 335b 5b3f 3fa5 a54b 4b86 8644 4404 042f 2f0e 0e12 1298 9823 23e0 e047 47a7 a7ce ce5b 5b6d 6dea ea9c 9c05 0564 6451 519a 9aa8 a84f 4f87 87e3 e3fb fbd5 d594 9472 724a 4afe fea4 a497 9713 13a0 a0f3 f395 9515 15fe fe84 848c 8c9e 9e29 2941 41d2 d254\n",
      "\n",
      "04a3 a300 0000 0001 0101 0108 080a 0a1a 1aa6 a639 39ad ad00 [[003e]] [[3e83]] 8333 335b 5b3f 3fa5 a54b 4b86 8644 4404 042f 2f0e 0e12 1298 9823 23e0 e047 47a7 a7ce ce5b 5b6d 6dea ea9c 9c05 0564 6451 519a 9aa8 a84f 4f87 87e3 e3fb fbd5 d594 9472 724a 4afe fea4 a497 9713 13a0 a0f3 f395 9515 15fe fe84 848c 8c9e 9e29 2941 41d2 d254\n",
      "\n",
      "\n"
     ]
    },
    {
     "name": "stderr",
     "output_type": "stream",
     "text": [
      "[Succeeded / Failed / Skipped / Total] 90 / 0 / 1 / 91:  90%|█████████ | 90/100 [07:51<00:52,  5.24s/it]"
     ]
    },
    {
     "name": "stdout",
     "output_type": "stream",
     "text": [
      "--------------------------------------------- Result 91 ---------------------------------------------\n",
      "[[11 (100%)]] --> [[7 (74%)]]\n",
      "\n",
      "eb55 5500 [[005b]] [[5b06]] 06aa aa47 4731 3142 42b7 b78f 8f92 9211 11df df90 9084 8444 443a 3ad2 d23e 3e8b 8b49 4979 791d 1d9b 9b47 4750 5057 57ed edae aef0 f018 186e 6ee7 e74f 4fc1 c126 26e6 e6b9 b962 6235 35c3 c359 595b 5bcb cb5a 5aa9 a9bb bb71 71d8 d8ed edff ff58 5878 78a6 a667 67a1 a17d [[7d7a]] [[7abd]] bdb5 b53c 3c4b 4b92 927e\n",
      "\n",
      "eb55 5500 [[0000]] [[0006]] 06aa aa47 4731 3142 42b7 b78f 8f92 9211 11df df90 9084 8444 443a 3ad2 d23e 3e8b 8b49 4979 791d 1d9b 9b47 4750 5057 57ed edae aef0 f018 186e 6ee7 e74f 4fc1 c126 26e6 e6b9 b962 6235 35c3 c359 595b 5bcb cb5a 5aa9 a9bb bb71 71d8 d8ed edff ff58 5878 78a6 a667 67a1 a17d [[7d1c]] [[1cbd]] bdb5 b53c 3c4b 4b92 927e\n",
      "\n",
      "\n"
     ]
    },
    {
     "name": "stderr",
     "output_type": "stream",
     "text": [
      "[Succeeded / Failed / Skipped / Total] 91 / 0 / 1 / 92:  91%|█████████ | 91/100 [07:53<00:46,  5.20s/it]"
     ]
    },
    {
     "name": "stdout",
     "output_type": "stream",
     "text": [
      "--------------------------------------------- Result 92 ---------------------------------------------\n",
      "[[10 (100%)]] --> [[11 (100%)]]\n",
      "\n",
      "a8b0 b000 0000 0001 0101 0108 080a [[0a79]] [[7991]] 91fa fa56 5602 0261 6124 24bb bb32 3246 46e0 e068 687b 7bf0 f008 08ea ea59 59ab aba7 a7be be2d 2dfb fb75 754a 4aab ab24 24cf cf26 26d3 d3d8 d813 13d5 d5a6 a6e1 e133 332f 2f38 3811 1188 88d0 d008 088e 8e28 2893 93a3 a397 9728 28b8 b8f1 f1dc dcea ea78 78b6 b6ea ea1a 1af7 f754\n",
      "\n",
      "a8b0 b000 0000 0001 0101 0108 080a [[0a40]] [[4091]] 91fa fa56 5602 0261 6124 24bb bb32 3246 46e0 e068 687b 7bf0 f008 08ea ea59 59ab aba7 a7be be2d 2dfb fb75 754a 4aab ab24 24cf cf26 26d3 d3d8 d813 13d5 d5a6 a6e1 e133 332f 2f38 3811 1188 88d0 d008 088e 8e28 2893 93a3 a397 9728 28b8 b8f1 f1dc dcea ea78 78b6 b6ea ea1a 1af7 f754\n",
      "\n",
      "\n"
     ]
    },
    {
     "name": "stderr",
     "output_type": "stream",
     "text": [
      "[Succeeded / Failed / Skipped / Total] 92 / 0 / 1 / 93:  92%|█████████▏| 92/100 [08:11<00:42,  5.34s/it]"
     ]
    },
    {
     "name": "stdout",
     "output_type": "stream",
     "text": [
      "--------------------------------------------- Result 93 ---------------------------------------------\n",
      "[[11 (100%)]] --> [[8 (87%)]]\n",
      "\n",
      "f54c 4ca4 a44d 4de4 e445 [[45b5]] [[b5a0]] a09c 9c35 [[3548]] [[4811]] [[11cb]] [[cb5c]] 5c41 41ea ea11 1173 732e [[2e16]] [[16af]] afa7 a7ce ce7f [[7ff6]] [[f66b]] 6b4e 4ede [[de5e]] [[5ec3]] [[c3be]] [[beeb]] eb81 8156 5622 2273 7377 [[7766]] [[66f5]] f544 4410 105f [[5f98]] [[9814]] 14d1 d12e 2e43 [[432d]] [[2ddd]] dd70 7088 886f 6fb9 b98b 8b04 046d 6db6 b6d0 d0e9 e929 299a 9a7f 7f25 2518 18ec\n",
      "\n",
      "f54c 4ca4 a44d 4de4 e445 [[4545]] [[45a0]] a09c 9c35 [[353d]] [[3d11]] [[1145]] [[455c]] 5c41 41ea ea11 1173 732e [[2eca]] [[caaf]] afa7 a7ce ce7f [[7f9e]] [[9e6b]] 6b4e 4ede [[de2b]] [[2bc3]] [[c35a]] [[5aeb]] eb81 8156 5622 2273 7377 [[771a]] [[1af5]] f544 4410 105f [[5f1a]] [[1a14]] 14d1 d12e 2e43 [[43a0]] [[a0dd]] dd70 7088 886f 6fb9 b98b 8b04 046d 6db6 b6d0 d0e9 e929 299a 9a7f 7f25 2518 18ec\n",
      "\n",
      "\n"
     ]
    },
    {
     "name": "stderr",
     "output_type": "stream",
     "text": [
      "[Succeeded / Failed / Skipped / Total] 93 / 0 / 1 / 94:  93%|█████████▎| 93/100 [08:13<00:37,  5.31s/it]"
     ]
    },
    {
     "name": "stdout",
     "output_type": "stream",
     "text": [
      "--------------------------------------------- Result 94 ---------------------------------------------\n",
      "[[5 (100%)]] --> [[1 (90%)]]\n",
      "\n",
      "[[851f]] [[1f00]] 006d 6df4 f47b 7b90 [[906f]] [[6f48]] 48cc cc58 58e2 e247 47bf bf4f 4f81 8175 7573 73be bede de00 0002 0210 10a7 a700 0000 0032 324c 4cbd bd25 25e7 e77b 7bc8 c826 2628 288e 8e47 475b 5b8a 8ab1 b1ac ac6c 6cc9 c959 59d7 d776 76c8 c861 61fe fe9f 9fe2 e237 3715 1590 9000 00a6 a6e4 e4a1 a16f 6fc6 c606 0601 010e 0eee ee2d\n",
      "\n",
      "[[858c]] [[8c00]] 006d 6df4 f47b 7b90 [[90fa]] [[fa48]] 48cc cc58 58e2 e247 47bf bf4f 4f81 8175 7573 73be bede de00 0002 0210 10a7 a700 0000 0032 324c 4cbd bd25 25e7 e77b 7bc8 c826 2628 288e 8e47 475b 5b8a 8ab1 b1ac ac6c 6cc9 c959 59d7 d776 76c8 c861 61fe fe9f 9fe2 e237 3715 1590 9000 00a6 a6e4 e4a1 a16f 6fc6 c606 0601 010e 0eee ee2d\n",
      "\n",
      "\n"
     ]
    },
    {
     "name": "stderr",
     "output_type": "stream",
     "text": [
      "[Succeeded / Failed / Skipped / Total] 94 / 0 / 1 / 95:  94%|█████████▍| 94/100 [08:18<00:31,  5.30s/it]"
     ]
    },
    {
     "name": "stdout",
     "output_type": "stream",
     "text": [
      "--------------------------------------------- Result 95 ---------------------------------------------\n",
      "[[8 (100%)]] --> [[11 (100%)]]\n",
      "\n",
      "[[529e]] [[9e00]] [[0000]] [[0001]] 0101 0108 080a 0a00 001d 1d83 8383 831a [[1aa0]] [[a072]] 723a 3a28 28ba bac6 c621 2184 84d8 d88b 8b8e 8ee8 e823 23e1 e1e7 e784 8433 3317 179d 9d86 8674 7492 9251 5113 13f8 f862 62db db19 1919 195f 5fde ded7 d78b 8bb0 b07c 7c2b 2bbc bcb4 b400 0027 27be be6d 6d77 775f 5f73 731b 1bda da17 1786 865d 5d46 46bc\n",
      "\n",
      "[[5218]] [[1800]] [[005b]] [[5b01]] 0101 0108 080a 0a00 001d 1d83 8383 831a [[1a6f]] [[6f72]] 723a 3a28 28ba bac6 c621 2184 84d8 d88b 8b8e 8ee8 e823 23e1 e1e7 e784 8433 3317 179d 9d86 8674 7492 9251 5113 13f8 f862 62db db19 1919 195f 5fde ded7 d78b 8bb0 b07c 7c2b 2bbc bcb4 b400 0027 27be be6d 6d77 775f 5f73 731b 1bda da17 1786 865d 5d46 46bc\n",
      "\n",
      "\n"
     ]
    },
    {
     "name": "stderr",
     "output_type": "stream",
     "text": [
      "[Succeeded / Failed / Skipped / Total] 95 / 0 / 1 / 96:  95%|█████████▌| 95/100 [08:20<00:26,  5.27s/it]"
     ]
    },
    {
     "name": "stdout",
     "output_type": "stream",
     "text": [
      "--------------------------------------------- Result 96 ---------------------------------------------\n",
      "[[1 (100%)]] --> [[11 (79%)]]\n",
      "\n",
      "03e1 e1ff ff14 14b5 b525 253a 3acd cd3b 3bb0 b050 [[5018]] [[183f]] 3fdb dbb4 b48f 8f00 0000 0017 1703 [[0303]] [[0300]] 0027 2700 0000 0000 0000 0000 0000 0000 00e6 e644 4460 6013 139f 9f31 3142 4299 9932 327e 7edd dd84 8427 27e4 e4ae aecf cf8d 8d23 23c9 c977 7704 0405 0586 8659 5971 71c3 c304 04c3 c39b 9bf5 f51b 1bbf\n",
      "\n",
      "03e1 e1ff ff14 14b5 b525 253a 3acd cd3b 3bb0 b050 [[505b]] [[5b3f]] 3fdb dbb4 b48f 8f00 0000 0017 1703 [[031e]] [[1e00]] 0027 2700 0000 0000 0000 0000 0000 0000 00e6 e644 4460 6013 139f 9f31 3142 4299 9932 327e 7edd dd84 8427 27e4 e4ae aecf cf8d 8d23 23c9 c977 7704 0405 0586 8659 5971 71c3 c304 04c3 c39b 9bf5 f51b 1bbf\n",
      "\n",
      "\n"
     ]
    },
    {
     "name": "stderr",
     "output_type": "stream",
     "text": [
      "[Succeeded / Failed / Skipped / Total] 96 / 0 / 1 / 97:  96%|█████████▌| 96/100 [08:23<00:20,  5.24s/it]"
     ]
    },
    {
     "name": "stdout",
     "output_type": "stream",
     "text": [
      "--------------------------------------------- Result 97 ---------------------------------------------\n",
      "[[11 (100%)]] --> [[6 (96%)]]\n",
      "\n",
      "[[ad47]] [[47b2]] b2c9 c9be bede de00 [[0002]] [[0210]] 10ab ab00 0000 0032 323d 3dca caff ff3f 3f77 77a5 a5ec ec68 68e4 e4c6 c63a 3a42 4235 352f 2f33 33d6 d677 77c4 c4a0 a034 34ea ea33 331f 1fa6 a63c 3cac ac73 7352 5215 1526 2623 2374 74f9 f9af af6d 6d43 4370 7040 4086 8671 71e9 e933 3359 5975 750c 0cea ea11 11dc dce2 e250 5084 84c8\n",
      "\n",
      "[[ad13]] [[13b2]] b2c9 c9be bede de00 [[007b]] [[7b10]] 10ab ab00 0000 0032 323d 3dca caff ff3f 3f77 77a5 a5ec ec68 68e4 e4c6 c63a 3a42 4235 352f 2f33 33d6 d677 77c4 c4a0 a034 34ea ea33 331f 1fa6 a63c 3cac ac73 7352 5215 1526 2623 2374 74f9 f9af af6d 6d43 4370 7040 4086 8671 71e9 e933 3359 5975 750c 0cea ea11 11dc dce2 e250 5084 84c8\n",
      "\n",
      "\n"
     ]
    },
    {
     "name": "stderr",
     "output_type": "stream",
     "text": [
      "[Succeeded / Failed / Skipped / Total] 97 / 0 / 1 / 98:  97%|█████████▋| 97/100 [08:25<00:15,  5.21s/it]"
     ]
    },
    {
     "name": "stdout",
     "output_type": "stream",
     "text": [
      "--------------------------------------------- Result 98 ---------------------------------------------\n",
      "[[2 (100%)]] --> [[11 (99%)]]\n",
      "\n",
      "d3aa aa05 [[0562]] [[623b]] 3b9a 9a8f 8f8b 8b4d 4dae ae8f 8f02 0280 800d 0dc2 c27e 7eb7 b756 5689 89c0 c01f 1f5b 5b60 6067 6744 444d 4df2 f2d5 d54a 4ae6 e6f7 f749 4981 811f 1f05 0514 14d3 d3a9 a90e 0ef7 f730 309f 9f3e 3e1a 1a59 59ff ffdf df71 71c2 c244 4452 529c 9c3c 3c05 050a 0af7 f783 83c3 c37a 7a5e 5e38 385b 5b19 19a4 a4e1\n",
      "\n",
      "d3aa aa05 [[0582]] [[823b]] 3b9a 9a8f 8f8b 8b4d 4dae ae8f 8f02 0280 800d 0dc2 c27e 7eb7 b756 5689 89c0 c01f 1f5b 5b60 6067 6744 444d 4df2 f2d5 d54a 4ae6 e6f7 f749 4981 811f 1f05 0514 14d3 d3a9 a90e 0ef7 f730 309f 9f3e 3e1a 1a59 59ff ffdf df71 71c2 c244 4452 529c 9c3c 3c05 050a 0af7 f783 83c3 c37a 7a5e 5e38 385b 5b19 19a4 a4e1\n",
      "\n",
      "\n"
     ]
    },
    {
     "name": "stderr",
     "output_type": "stream",
     "text": [
      "[Succeeded / Failed / Skipped / Total] 98 / 0 / 1 / 99:  98%|█████████▊| 98/100 [08:27<00:10,  5.18s/it]"
     ]
    },
    {
     "name": "stdout",
     "output_type": "stream",
     "text": [
      "--------------------------------------------- Result 99 ---------------------------------------------\n",
      "[[4 (100%)]] --> [[3 (99%)]]\n",
      "\n",
      "e661 6124 24a1 a108 0839 397d 7d9a 9a1c 1c3d 3d80 8010 1000 00fe fe69 69f3 f300 0000 0001 0101 [[0108]] [[080a]] [[0a69]] [[6924]] 241f 1fe8 e801 0112 12bc bcef ef8c 8c5e 5ef6 f62a 2a08 0859 59ae ae98 9804 044a 4a3f 3f1a 1aa9 a963 6355 5546 4677 7747 47a3 a3eb ebc3 c3cd cd2a 2a71 7151 51fb fb90 9089 897f 7f49 49cb cbc4 c424 24d1 d174\n",
      "\n",
      "e661 6124 24a1 a108 0839 397d 7d9a 9a1c 1c3d 3d80 8010 1000 00fe fe69 69f3 f300 0000 0001 0101 [[01ef]] [[ef0a]] [[0a00]] [[0024]] 241f 1fe8 e801 0112 12bc bcef ef8c 8c5e 5ef6 f62a 2a08 0859 59ae ae98 9804 044a 4a3f 3f1a 1aa9 a963 6355 5546 4677 7747 47a3 a3eb ebc3 c3cd cd2a 2a71 7151 51fb fb90 9089 897f 7f49 49cb cbc4 c424 24d1 d174\n",
      "\n",
      "\n"
     ]
    },
    {
     "name": "stderr",
     "output_type": "stream",
     "text": [
      "[Succeeded / Failed / Skipped / Total] 99 / 0 / 1 / 100:  99%|█████████▉| 99/100 [08:29<00:05,  5.15s/it]"
     ]
    },
    {
     "name": "stdout",
     "output_type": "stream",
     "text": [
      "--------------------------------------------- Result 100 ---------------------------------------------\n",
      "[[6 (100%)]] --> [[9 (100%)]]\n",
      "\n",
      "ea69 6900 0000 0001 0101 0108 080a 0a08 08e6 e671 7103 0300 [[0050]] [[502a]] 2a8d 8d41 41c1 c1e4 e40e 0ebe be2c 2c3b 3b8b 8b39 3952 5256 56b5 b5f6 f6c9 c918 182c 2cfa fad3 d36f 6fef ef09 09a1 a1b4 b422 2264 648c 8ca5 a55f 5f10 1056 5672 72e1 e1d8 d8d5 d5ff ff2b 2b7e 7e5a 5a6d 6d51 5162 623c 3ccc cce8 e8b1 b16a 6a84 8481 8142\n",
      "\n",
      "ea69 6900 0000 0001 0101 0108 080a 0a08 08e6 e671 7103 0300 [[0002]] [[022a]] 2a8d 8d41 41c1 c1e4 e40e 0ebe be2c 2c3b 3b8b 8b39 3952 5256 56b5 b5f6 f6c9 c918 182c 2cfa fad3 d36f 6fef ef09 09a1 a1b4 b422 2264 648c 8ca5 a55f 5f10 1056 5672 72e1 e1d8 d8d5 d5ff ff2b 2b7e 7e5a 5a6d 6d51 5162 623c 3ccc cce8 e8b1 b16a 6a84 8481 8142\n",
      "\n",
      "\n",
      "\n",
      "+-------------------------------+--------+\n",
      "| Attack Results                |        |\n",
      "+-------------------------------+--------+\n",
      "| Number of successful attacks: | 99     |\n",
      "| Number of failed attacks:     | 0      |\n",
      "| Number of skipped attacks:    | 1      |\n",
      "| Original accuracy:            | 99.0%  |\n",
      "| Accuracy under attack:        | 0.0%   |\n",
      "| Attack success rate:          | 100.0% |\n",
      "| Average perturbed word %:     | 8.14%  |\n",
      "| Average num. words per input: | 61.59  |\n",
      "| Avg num queries:              | 964.8  |\n",
      "+-------------------------------+--------+\n"
     ]
    },
    {
     "name": "stderr",
     "output_type": "stream",
     "text": [
      "\n"
     ]
    }
   ],
   "source": [
    "# Attack until 1000 successful attacks are reached\n",
    "attack_args = AttackArgs(num_successful_examples=100, random_seed=42)\n",
    "attacker = Attacker(attack, dataset, attack_args)\n",
    "attack_results = attacker.attack_dataset()"
   ]
  },
  {
   "cell_type": "markdown",
   "metadata": {},
   "source": [
    "# 6. Display attack results"
   ]
  },
  {
   "cell_type": "code",
   "execution_count": 6,
   "metadata": {},
   "outputs": [
    {
     "name": "stderr",
     "output_type": "stream",
     "text": [
      "textattack: Logging to CSV at path results.csv\n"
     ]
    },
    {
     "data": {
      "text/html": [
       "<table border=\"1\" class=\"dataframe\">\n",
       "  <thead>\n",
       "    <tr style=\"text-align: right;\">\n",
       "      <th></th>\n",
       "      <th>original_text</th>\n",
       "      <th>perturbed_text</th>\n",
       "    </tr>\n",
       "  </thead>\n",
       "  <tbody>\n",
       "    <tr>\n",
       "      <th>0</th>\n",
       "      <td>12d4 d400 0000 0001 0101 0108 080a <font color = pink>0a6e</font> <font color = pink>6e29</font> 29be bed0 d000 0015 1506 0632 3217 1703 0303 0300 002a 2a9f 9f0a 0a03 0392 921f 1fc4 c457 57a4 a414 14c4 c47e 7e9e 9eb1 b10e 0e59 59ae aeae aef4 f405 050f 0fed edc0 c019 1963 63cc ccec ec8d 8d1c 1cdc dc23 2324 24b0 b022 220a 0a71 7103 030e 0e94 9407 0733 3399 9925</td>\n",
       "      <td>12d4 d400 0000 0001 0101 0108 080a <font color = gray>0a1a</font> <font color = gray>1a29</font> 29be bed0 d000 0015 1506 0632 3217 1703 0303 0300 002a 2a9f 9f0a 0a03 0392 921f 1fc4 c457 57a4 a414 14c4 c47e 7e9e 9eb1 b10e 0e59 59ae aeae aef4 f405 050f 0fed edc0 c019 1963 63cc ccec ec8d 8d1c 1cdc dc23 2324 24b0 b022 220a 0a71 7103 030e 0e94 9407 0733 3399 9925</td>\n",
       "    </tr>\n",
       "    <tr>\n",
       "      <th>1</th>\n",
       "      <td>ac4a 4a00 <font color = blue>0023</font> <font color = blue>2342</font> 429c 9c1d 1ddd dd2d 2d86 86ee eee2 e2c9 c9d1 d18f 8f71 71ed ed25 2591 9116 16d9 d9a8 a82b 2bb2 b2ab abae ae61 614f 4fe7 e7b3 b3e5 e546 4650</td>\n",
       "      <td>ac4a 4a00 <font color = green>0000</font> <font color = green>0042</font> 429c 9c1d 1ddd dd2d 2d86 86ee eee2 e2c9 c9d1 d18f 8f71 71ed ed25 2591 9116 16d9 d9a8 a82b 2bb2 b2ab abae ae61 614f 4fe7 e7b3 b3e5 e546 4650</td>\n",
       "    </tr>\n",
       "    <tr>\n",
       "      <th>2</th>\n",
       "      <td><font color = yellow>e3af</font> <font color = yellow>af5e</font> 5e96 <font color = yellow>9698</font> <font color = yellow>9874</font> 7470 706a <font color = yellow>6a49</font> <font color = yellow>4950</font> 5080 8010 1008 0800 0020 20d4 <font color = yellow>d400</font> <font color = yellow>0000</font> 0001 0101 <font color = yellow>0108</font> <font color = yellow>080a</font> 0a0a 0af2 f24c 4cc3 <font color = yellow>c301</font> <font color = yellow>0124</font> <font color = yellow>24f9</font> <font color = yellow>f97e</font> 7e28 28b2 b281 81a5 a565 6587 8776 76ed ed98 9834 34bc bc44 4496 96b2 b2a4 <font color = yellow>a450</font> <font color = yellow>50d4</font> d414 1457 57b4 b4d6 d655 557e 7e3b 3ba7 a78c <font color = yellow>8cfb</font> <font color = yellow>fb4d</font> 4db8 b8d5 d563 6358 58f2 f2d3 d32d</td>\n",
       "      <td><font color = red>e38d</font> <font color = red>8d5e</font> 5e96 <font color = red>962b</font> <font color = red>2b74</font> 7470 706a <font color = red>6a5e</font> <font color = red>5e50</font> 5080 8010 1008 0800 0020 20d4 <font color = red>d40e</font> <font color = red>0e00</font> 0001 0101 <font color = red>0137</font> <font color = red>370a</font> 0a0a 0af2 f24c 4cc3 <font color = red>c352</font> <font color = red>5224</font> <font color = red>241e</font> <font color = red>1e7e</font> 7e28 28b2 b281 81a5 a565 6587 8776 76ed ed98 9834 34bc bc44 4496 96b2 b2a4 <font color = red>a412</font> <font color = red>12d4</font> d414 1457 57b4 b4d6 d655 557e 7e3b 3ba7 a78c <font color = red>8ced</font> <font color = red>ed4d</font> 4db8 b8d5 d563 6358 58f2 f2d3 d32d</td>\n",
       "    </tr>\n",
       "    <tr>\n",
       "      <th>3</th>\n",
       "      <td>7e9c 9c00 001d 1d2d 2db2 b24d 4d2d 2d53 5345 4541 4152 5243 4348 4820 202a 2a20 2048 4854 5454 5450 502f 2f31 312e 2e31 310d 0d0a</td>\n",
       "      <td>7e9c 9c00 001d 1d2d 2db2 b24d 4d2d 2d53 5345 4541 4152 5243 4348 4820 202a 2a20 2048 4854 5454 5450 502f 2f31 312e 2e31 310d 0d0a</td>\n",
       "    </tr>\n",
       "    <tr>\n",
       "      <th>4</th>\n",
       "      <td><font color = green>5a9a</font> <font color = green>9a4f</font> <font color = green>4f91</font> <font color = green>91a6</font> a69a <font color = green>9aeb</font> <font color = green>eb6c</font> <font color = green>6cfc</font> fcfa <font color = green>fa6a</font> <font color = green>6aa4</font> a425 25f9 f921 2144 445a 5a78 7859 5970 70b4 b4c4 <font color = green>c4bc</font> <font color = green>bc2c</font> 2c27 2701 01e3 e34c 4ce7 e7b8 <font color = green>b880</font> <font color = green>8091</font> 9157 579a 9a2c <font color = green>2cf9</font> <font color = green>f98d</font> <font color = green>8dd4</font> <font color = green>d442</font> 42bd bdaf <font color = green>afb4</font> <font color = green>b409</font> 09c7 c756 <font color = green>56c8</font> <font color = green>c89b</font> 9b76 7622 22f7 f7c3 c335 3561 612c 2c80 8052 524f 4fda dae0</td>\n",
       "      <td><font color = green>5a00</font> <font color = green>004f</font> <font color = green>4ff0</font> <font color = green>f0a6</font> a69a <font color = green>9a50</font> <font color = green>5002</font> <font color = green>02fc</font> fcfa <font color = green>fa7c</font> <font color = green>7ca4</font> a425 25f9 f921 2144 445a 5a78 7859 5970 70b4 b4c4 <font color = green>c4c8</font> <font color = green>c82c</font> 2c27 2701 01e3 e34c 4ce7 e7b8 <font color = green>b86c</font> <font color = green>6c91</font> 9157 579a 9a2c <font color = green>2c4b</font> <font color = green>4b8d</font> <font color = green>8d96</font> <font color = green>9642</font> 42bd bdaf <font color = green>af1d</font> <font color = green>1d09</font> 09c7 c756 <font color = green>565b</font> <font color = green>5b9b</font> 9b76 7622 22f7 f7c3 c335 3561 612c 2c80 8052 524f 4fda dae0</td>\n",
       "    </tr>\n",
       "    <tr>\n",
       "      <th>5</th>\n",
       "      <td><font color = red>01bb</font> <font color = red>bb00</font> 00da daa2 a2c9 c90c 0c3e 3e8c 8cd5 d578 78a2 a2f6 f6a8 a825 25aa aa7f 7f69 696f 6f28 28b6 b61a 1a77 770e 0e93 9391 91fe fe5a 5a92 92ca ca14 1407 07d1 d1d6 d6e0 e02a 2a1e 1e7f 7f5b 5b5f 5f75 7570 7072 72ee ee17 17b3 b3fb fbda da36 36e9 e9ed edba ba01 01da da01 01c3 c311 1184 8475 75bc bc09 0933 339c 9cce ce8f</td>\n",
       "      <td><font color = green>0165</font> <font color = green>6500</font> 00da daa2 a2c9 c90c 0c3e 3e8c 8cd5 d578 78a2 a2f6 f6a8 a825 25aa aa7f 7f69 696f 6f28 28b6 b61a 1a77 770e 0e93 9391 91fe fe5a 5a92 92ca ca14 1407 07d1 d1d6 d6e0 e02a 2a1e 1e7f 7f5b 5b5f 5f75 7570 7072 72ee ee17 17b3 b3fb fbda da36 36e9 e9ed edba ba01 01da da01 01c3 c311 1184 8475 75bc bc09 0933 339c 9cce ce8f</td>\n",
       "    </tr>\n",
       "    <tr>\n",
       "      <th>6</th>\n",
       "      <td>c4ed ed00 0000 0001 0101 0108 080a 0a00 <font color = cyan>0018</font> <font color = cyan>1802</font> 0208 085e 5e76 76c6 c64c 4c17 1703 0303 0300 0025 2500 0000 0000 0000 0000 0000 0000 0060 6022 22b9 b96f 6f35 3553 53dd dd65 65fd fd56 563c 3ce3 e372 720c 0c77 7714 1414 1441 41ad ad2b 2bdf dfe2 e2e1 e137 37d2 d2e7 e740 4022 2209 0934</td>\n",
       "      <td>c4ed ed00 0000 0001 0101 0108 080a 0a00 <font color = pink>007b</font> <font color = pink>7b02</font> 0208 085e 5e76 76c6 c64c 4c17 1703 0303 0300 0025 2500 0000 0000 0000 0000 0000 0000 0060 6022 22b9 b96f 6f35 3553 53dd dd65 65fd fd56 563c 3ce3 e372 720c 0c77 7714 1414 1441 41ad ad2b 2bdf dfe2 e2e1 e137 37d2 d2e7 e740 4022 2209 0934</td>\n",
       "    </tr>\n",
       "    <tr>\n",
       "      <th>7</th>\n",
       "      <td>cf53 5300 <font color = green>005b</font> <font color = green>5b72</font> 72e3 e34e 4efe fe3c 3ced ed86 <font color = green>8692</font> <font color = green>9258</font> 583a 3a00 0096 96ff ff31 31d2 d216 16a9 a9ff ff62 6235 3596 96d5 d57a <font color = green>7aeb</font> <font color = green>eb45</font> 45ac ac9b 9b3f 3f5f 5fde <font color = green>defe</font> <font color = green>fed8</font> d898 985d 5d1a 1ad9 d971 7151 5151 51c4 c49b 9bca ca46 <font color = green>46ac</font> <font color = green>ac88</font> 88fb fbec ecdd dd4a 4a72 7247 477e 7eb1 b14f 4f6e 6ebd bdb4 <font color = green>b4ae</font> <font color = green>ae01</font> 0101 01e7</td>\n",
       "      <td>cf53 5300 <font color = pink>0000</font> <font color = pink>0072</font> 72e3 e34e 4efe fe3c 3ced ed86 <font color = pink>8631</font> <font color = pink>3158</font> 583a 3a00 0096 96ff ff31 31d2 d216 16a9 a9ff ff62 6235 3596 96d5 d57a <font color = pink>7a20</font> <font color = pink>2045</font> 45ac ac9b 9b3f 3f5f 5fde <font color = pink>de35</font> <font color = pink>35d8</font> d898 985d 5d1a 1ad9 d971 7151 5151 51c4 c49b 9bca ca46 <font color = pink>467a</font> <font color = pink>7a88</font> 88fb fbec ecdd dd4a 4a72 7247 477e 7eb1 b14f 4f6e 6ebd bdb4 <font color = pink>b436</font> <font color = pink>3601</font> 0101 01e7</td>\n",
       "    </tr>\n",
       "    <tr>\n",
       "      <th>8</th>\n",
       "      <td>159f 9f86 8664 64ff ff73 736b 6b72 72e2 e2c2 c250 <font color = green>5018</font> <font color = green>1801</font> 0158 58ac ac04 0400 0000 0017 1703 0303 0305 0533 3300 0000 0000 0000 0000 0000 0000 0036 36fb fbfc fcba babb bb2b 2b99 99c0 c09a 9a02 0238 384d 4d70 70dd <font color = green>dd84</font> <font color = green>84a0</font> a003 038e 8ea7 a75e 5ece ce8b 8b9c 9ce0 e0ce ce38 383a 3a9a 9a46 4692 921a 1aa7 a77a 7a09 09be</td>\n",
       "      <td>159f 9f86 8664 64ff ff73 736b 6b72 72e2 e2c2 c250 <font color = green>500a</font> <font color = green>0a01</font> 0158 58ac ac04 0400 0000 0017 1703 0303 0305 0533 3300 0000 0000 0000 0000 0000 0000 0036 36fb fbfc fcba babb bb2b 2b99 99c0 c09a 9a02 0238 384d 4d70 70dd <font color = green>dd0e</font> <font color = green>0ea0</font> a003 038e 8ea7 a75e 5ece ce8b 8b9c 9ce0 e0ce ce38 383a 3a9a 9a46 4692 921a 1aa7 a77a 7a09 09be</td>\n",
       "    </tr>\n",
       "    <tr>\n",
       "      <th>9</th>\n",
       "      <td>7f40 40af af6a 6a08 08c6 c64a 4a09 0926 26a8 a850 <font color = red>5018</font> <font color = red>1807</font> 07fb fbc3 c35e 5e00 0000 0017 1703 <font color = red>0303</font> <font color = red>0302</font> 028c 8c5c 5cad ad3d 3d08 08fa faba ba86 868a 8a92 9232 3205 0524 <font color = red>24cb</font> <font color = red>cb9c</font> 9c66 66eb eb70 7002 0262 62ce cee7 e767 67e3 e3a6 a6a4 a4ac ac23 2310 101e 1e86 868f 8fd3 d3d2 d2d1 d106 0682 822e 2e1b 1b8c 8c84 8476 76c1</td>\n",
       "      <td>7f40 40af af6a 6a08 08c6 c64a 4a09 0926 26a8 a850 <font color = green>50c4</font> <font color = green>c407</font> 07fb fbc3 c35e 5e00 0000 0017 1703 <font color = green>0363</font> <font color = green>6302</font> 028c 8c5c 5cad ad3d 3d08 08fa faba ba86 868a 8a92 9232 3205 0524 <font color = green>2437</font> <font color = green>379c</font> 9c66 66eb eb70 7002 0262 62ce cee7 e767 67e3 e3a6 a6a4 a4ac ac23 2310 101e 1e86 868f 8fd3 d3d2 d2d1 d106 0682 822e 2e1b 1b8c 8c84 8476 76c1</td>\n",
       "    </tr>\n",
       "    <tr>\n",
       "      <th>10</th>\n",
       "      <td>1139 3987 8785 85c3 c3ae aeee ee40 40a5 a581 8150 5010 1000 <font color = purple>00f5</font> <font color = purple>f511</font> 113c 3c00 0000 00ea ea30 306a 6a1f 1fbd bd97 971f 1f2e 2ec4 c481 813b 3b9e 9e8d 8d28 288d 8d1f 1f12 1271 7114 14ee ee97 97c3 c396 96ef ef27 27b8 b8a8 a8cd cd67 678b 8b9a 9a09 09c8 c882 82a5 a53c 3cb1 b139 3970 70ed ed10 1090 90a5 a551 51ca ca17 1741</td>\n",
       "      <td>1139 3987 8785 85c3 c3ae aeee ee40 40a5 a581 8150 5010 1000 <font color = red>001f</font> <font color = red>1f11</font> 113c 3c00 0000 00ea ea30 306a 6a1f 1fbd bd97 971f 1f2e 2ec4 c481 813b 3b9e 9e8d 8d28 288d 8d1f 1f12 1271 7114 14ee ee97 97c3 c396 96ef ef27 27b8 b8a8 a8cd cd67 678b 8b9a 9a09 09c8 c882 82a5 a53c 3cb1 b139 3970 70ed ed10 1090 90a5 a551 51ca ca17 1741</td>\n",
       "    </tr>\n",
       "    <tr>\n",
       "      <th>11</th>\n",
       "      <td>ea96 9600 0000 0001 0101 0108 080a 0a5e 5e76 76eb eb91 9100 <font color = cyan>0018</font> <font color = cyan>180a</font> 0af9 f9b5 b582 820b 0b3e 3e72 7252 5267 679c 9c97 97d1 d1ec ec42 4270 70fc fc74 74b8 b8eb eba8 a887 8753 5316 16a4 a471 71b9 b94e 4e83 8347 479b 9bc3 c37d 7d99 9957 579e 9e4a 4a91 918c 8c37 37a9 a917 1719 19d0 d029 293b 3b46 460e 0e23 2360 609c 9c9a</td>\n",
       "      <td>ea96 9600 0000 0001 0101 0108 080a 0a5e 5e76 76eb eb91 9100 <font color = green>005b</font> <font color = green>5b0a</font> 0af9 f9b5 b582 820b 0b3e 3e72 7252 5267 679c 9c97 97d1 d1ec ec42 4270 70fc fc74 74b8 b8eb eba8 a887 8753 5316 16a4 a471 71b9 b94e 4e83 8347 479b 9bc3 c37d 7d99 9957 579e 9e4a 4a91 918c 8c37 37a9 a917 1719 19d0 d029 293b 3b46 460e 0e23 2360 609c 9c9a</td>\n",
       "    </tr>\n",
       "    <tr>\n",
       "      <th>12</th>\n",
       "      <td><font color = yellow>ea98</font> <font color = yellow>9822</font> 22bc bc09 0926 <font color = yellow>2696</font> <font color = yellow>965b</font> 5bc2 c2ba ba80 8010 <font color = yellow>1008</font> <font color = yellow>0800</font> 0080 80a8 a800 0000 <font color = yellow>0001</font> <font color = yellow>0101</font> 0108 080a <font color = yellow>0a51</font> <font color = yellow>5150</font> 5091 913b 3b01 0128 2814 14eb eb89 8986 8607 072c 2c1e 1e61 61e6 e605 059e 9eaf af7d 7df4 f452 52e6 e699 9916 1624 249c 9c0b 0bac ac1a 1ac7 c7ad ade3 e337 3750 502c 2cda dadf df2d 2d84 842e 2e21 21aa aa25</td>\n",
       "      <td><font color = blue>ea44</font> <font color = blue>4422</font> 22bc bc09 0926 <font color = blue>26e8</font> <font color = blue>e85b</font> 5bc2 c2ba ba80 8010 <font color = blue>107d</font> <font color = blue>7d00</font> 0080 80a8 a800 0000 <font color = blue>004d</font> <font color = blue>4d01</font> 0108 080a <font color = blue>0a00</font> <font color = blue>0050</font> 5091 913b 3b01 0128 2814 14eb eb89 8986 8607 072c 2c1e 1e61 61e6 e605 059e 9eaf af7d 7df4 f452 52e6 e699 9916 1624 249c 9c0b 0bac ac1a 1ac7 c7ad ade3 e337 3750 502c 2cda dadf df2d 2d84 842e 2e21 21aa aa25</td>\n",
       "    </tr>\n",
       "    <tr>\n",
       "      <th>13</th>\n",
       "      <td>ea98 9824 2482 8228 2870 <font color = yellow>7096</font> <font color = yellow>965b</font> 5bf9 <font color = yellow>f974</font> <font color = yellow>7480</font> <font color = yellow>8010</font> <font color = yellow>1008</font> <font color = yellow>0800</font> <font color = yellow>0017</font> 173d 3d00 0000 0001 0101 <font color = yellow>0108</font> <font color = yellow>080a</font> <font color = yellow>0a51</font> <font color = yellow>5151</font> 5199 9998 9801 0128 2857 5702 0234 34eb ebbb bb0e 0e68 68bc bc79 79fa fa7a 7a04 04d0 <font color = yellow>d007</font> <font color = yellow>07d8</font> d84d 4d59 5948 4863 636f <font color = yellow>6f06</font> <font color = yellow>06ab</font> abec ecb1 b122 22ba ba5a 5aec ecbe be4a 4aa6 a669 692b 2b4f 4f17 1767 67d0</td>\n",
       "      <td>ea98 9824 2482 8228 2870 <font color = red>7017</font> <font color = red>175b</font> 5bf9 <font color = red>f959</font> <font color = red>5980</font> <font color = red>80cc</font> <font color = red>cc08</font> <font color = red>0842</font> <font color = red>4217</font> 173d 3d00 0000 0001 0101 <font color = red>0154</font> <font color = red>540a</font> <font color = red>0a00</font> <font color = red>0051</font> 5199 9998 9801 0128 2857 5702 0234 34eb ebbb bb0e 0e68 68bc bc79 79fa fa7a 7a04 04d0 <font color = red>d04c</font> <font color = red>4cd8</font> d84d 4d59 5948 4863 636f <font color = red>6f97</font> <font color = red>97ab</font> abec ecb1 b122 22ba ba5a 5aec ecbe be4a 4aa6 a669 692b 2b4f 4f17 1767 67d0</td>\n",
       "    </tr>\n",
       "    <tr>\n",
       "      <th>14</th>\n",
       "      <td>de2a 2aa3 a3a6 a6d8 d898 989d 9db9 b9b3 b36e 6e80 <font color = yellow>8010</font> <font color = yellow>1001</font> 0121 2164 64b6 b600 0000 <font color = yellow>0001</font> <font color = yellow>0101</font> <font color = yellow>0108</font> <font color = yellow>080a</font> 0a4f 4f45 454a 4a93 <font color = yellow>9301</font> <font color = yellow>0110</font> 1001 012b 2b8b 8bc7 c7c3 c3b7 b768 6838 3840 40d7 d77d 7dc4 c427 <font color = yellow>279c</font> <font color = yellow>9c6b</font> <font color = yellow>6bd0</font> <font color = yellow>d056</font> 56ab <font color = yellow>abfb</font> <font color = yellow>fb69</font> 698b 8bf5 <font color = yellow>f525</font> <font color = yellow>2549</font> 49ff ffa5 a563 630d 0d08 084c 4ce3 e34a 4a8a 8a91 912e 2ea4 a48b</td>\n",
       "      <td>de2a 2aa3 a3a6 a6d8 d898 989d 9db9 b9b3 b36e 6e80 <font color = green>8053</font> <font color = green>5301</font> 0121 2164 64b6 b600 0000 <font color = green>0075</font> <font color = green>7501</font> <font color = green>0146</font> <font color = green>460a</font> 0a4f 4f45 454a 4a93 <font color = green>93a3</font> <font color = green>a310</font> 1001 012b 2b8b 8bc7 c7c3 c3b7 b768 6838 3840 40d7 d77d 7dc4 c427 <font color = green>275c</font> <font color = green>5c6b</font> <font color = green>6be8</font> <font color = green>e856</font> 56ab <font color = green>ab05</font> <font color = green>0569</font> 698b 8bf5 <font color = green>f5a4</font> <font color = green>a449</font> 49ff ffa5 a563 630d 0d08 084c 4ce3 e34a 4a8a 8a91 912e 2ea4 a48b</td>\n",
       "    </tr>\n",
       "    <tr>\n",
       "      <th>15</th>\n",
       "      <td>2909 0900 005d 5dc2 c28d 8d42 4265 6561 6163 636f 6f6e 6e2d 2d76 7632 327c 7c4a 4a43 <font color = red>434b</font> <font color = red>4b7c</font> 7c57 5769 696e 6e64 646f 6f77 7773 7350 5043 437c 7c30 3033 3363 6364 6465 6533 3361 6132 3232 3261 6165 6539 3961 6137 3730 3062 6262 6238 3863 6335 3531 3133 3337 3766 6661 6134 3438 3832 3261 6134 <font color = red>3465</font> <font color = red>6533</font> 3339 3938 3838</td>\n",
       "      <td>2909 0900 005d 5dc2 c28d 8d42 4265 6561 6163 636f 6f6e 6e2d 2d76 7632 327c 7c4a 4a43 <font color = green>43ed</font> <font color = green>ed7c</font> 7c57 5769 696e 6e64 646f 6f77 7773 7350 5043 437c 7c30 3033 3363 6364 6465 6533 3361 6132 3232 3261 6165 6539 3961 6137 3730 3062 6262 6238 3863 6335 3531 3133 3337 3766 6661 6134 3438 3832 3261 6134 <font color = green>345f</font> <font color = green>5f33</font> 3339 3938 3838</td>\n",
       "    </tr>\n",
       "    <tr>\n",
       "      <th>16</th>\n",
       "      <td><font color = yellow>9fb4</font> <font color = yellow>b44f</font> 4f2f 2f79 79ca cab2 <font color = yellow>b2bf</font> <font color = yellow>bfbb</font> bb40 <font color = yellow>4080</font> <font color = yellow>8010</font> <font color = yellow>1008</font> <font color = yellow>0800</font> <font color = yellow>0023</font> 2323 2300 0000 0001 0101 0108 <font color = yellow>080a</font> <font color = yellow>0a4c</font> <font color = yellow>4cfd</font> fd58 58da da01 0125 25fb fbfe fe15 1528 28e3 e313 1383 83bf bfc7 c76c 6c82 82a0 a0ca cae2 e227 2772 72c0 c074 7488 889d 9de6 e62b 2b48 48dd ddba <font color = yellow>ba78</font> <font color = yellow>78c5</font> c5ec ecd3 d343 43d7 d79a 9a23 23f7 f7f0 f0f0 f0af</td>\n",
       "      <td><font color = red>9f03</font> <font color = red>034f</font> 4f2f 2f79 79ca cab2 <font color = red>b21f</font> <font color = red>1fbb</font> bb40 <font color = red>4050</font> <font color = red>5010</font> <font color = red>1001</font> <font color = red>011b</font> <font color = red>1b23</font> 2323 2300 0000 0001 0101 0108 <font color = red>08c8</font> <font color = red>c800</font> <font color = red>00fd</font> fd58 58da da01 0125 25fb fbfe fe15 1528 28e3 e313 1383 83bf bfc7 c76c 6c82 82a0 a0ca cae2 e227 2772 72c0 c074 7488 889d 9de6 e62b 2b48 48dd ddba <font color = red>ba86</font> <font color = red>86c5</font> c5ec ecd3 d343 43d7 d79a 9a23 23f7 f7f0 f0f0 f0af</td>\n",
       "    </tr>\n",
       "    <tr>\n",
       "      <th>17</th>\n",
       "      <td>6d78 7800 0000 0001 0101 0108 080a 0a24 24f4 f4c6 c68b 8b00 <font color = brown>0002</font> <font color = brown>0280</font> 808a 8a57 57fc fc10 109d 9d9c 9ce8 e874 74ab ab29 29b3 b315 153b 3bd6 d65c 5cef efa0 a072 72e7 e7f5 f5ff ff10 107e 7e26 2687 8797 9747 47e5 e53d 3db4 b449 49fc fc39 397f 7f66 6663 637e 7ec6 c65e 5ee6 e606 0690 90e8 e865 65b0 b01c 1c8a 8a9c 9cb8 b865</td>\n",
       "      <td>6d78 7800 0000 0001 0101 0108 080a 0a24 24f4 f4c6 c68b 8b00 <font color = pink>0050</font> <font color = pink>5080</font> 808a 8a57 57fc fc10 109d 9d9c 9ce8 e874 74ab ab29 29b3 b315 153b 3bd6 d65c 5cef efa0 a072 72e7 e7f5 f5ff ff10 107e 7e26 2687 8797 9747 47e5 e53d 3db4 b449 49fc fc39 397f 7f66 6663 637e 7ec6 c65e 5ee6 e606 0690 90e8 e865 65b0 b01c 1c8a 8a9c 9cb8 b865</td>\n",
       "    </tr>\n",
       "    <tr>\n",
       "      <th>18</th>\n",
       "      <td>2515 1500 0000 0001 0101 0108 080a 0a1f 1f1c 1c84 840d 0d00 <font color = pink>0031</font> <font color = pink>316c</font> 6c85 8517 1703 0301 0100 0060 603e 3ea0 a0b2 b278 78c2 c2a4 a47f 7f46 46dd dd7d 7d1a 1a1c 1c53 535b 5b3e 3ea6 a66d 6d1f 1f54 54f0 f0ca ca7d 7d24 246b 6b1e 1ef3 f37b 7b14 1450 5074 7442 42ec ec09 091c 1c31 31ee ee5e 5ea1 a1c7 c707 0709 09ea ea94 9446</td>\n",
       "      <td>2515 1500 0000 0001 0101 0108 080a 0a1f 1f1c 1c84 840d 0d00 <font color = gray>0023</font> <font color = gray>236c</font> 6c85 8517 1703 0301 0100 0060 603e 3ea0 a0b2 b278 78c2 c2a4 a47f 7f46 46dd dd7d 7d1a 1a1c 1c53 535b 5b3e 3ea6 a66d 6d1f 1f54 54f0 f0ca ca7d 7d24 246b 6b1e 1ef3 f37b 7b14 1450 5074 7442 42ec ec09 091c 1c31 31ee ee5e 5ea1 a1c7 c707 0709 09ea ea94 9446</td>\n",
       "    </tr>\n",
       "    <tr>\n",
       "      <th>19</th>\n",
       "      <td>1149 4990 9065 6549 49bb bb7c 7c03 03f7 f70b 0b50 5010 1000 <font color = purple>00f5</font> <font color = purple>f5a3</font> a35a 5a00 0000 00f4 f45a 5ad7 d798 98ce ce29 2991 9166 660f 0fc2 c2fa faba ba83 8320 20d7 d7f8 f819 1900 00b9 b9d7 d7a7 a77a 7af3 f388 885b 5bf6 f60e 0e95 9513 1312 1265 65ad ad51 51db dbe8 e827 277b 7b03 03cf cf4b 4bfe fed1 d1db dbd2 d2aa aab5 b552</td>\n",
       "      <td>1149 4990 9065 6549 49bb bb7c 7c03 03f7 f70b 0b50 5010 1000 <font color = red>0047</font> <font color = red>47a3</font> a35a 5a00 0000 00f4 f45a 5ad7 d798 98ce ce29 2991 9166 660f 0fc2 c2fa faba ba83 8320 20d7 d7f8 f819 1900 00b9 b9d7 d7a7 a77a 7af3 f388 885b 5bf6 f60e 0e95 9513 1312 1265 65ad ad51 51db dbe8 e827 277b 7b03 03cf cf4b 4bfe fed1 d1db dbd2 d2aa aab5 b552</td>\n",
       "    </tr>\n",
       "    <tr>\n",
       "      <th>20</th>\n",
       "      <td><font color = orange>4b69</font> <font color = orange>6900</font> <font color = orange>0071</font> <font color = orange>71f1</font> f1f4 f490 <font color = orange>906f</font> <font color = orange>6f6d</font> 6d15 1567 674b 4b16 1668 688d 8dcc cccc cc91 91be bede de00 0002 0210 10c3 c300 0000 0032 32a1 a1d3 d3f7 f75d 5dac acb9 b917 174b 4b3a 3a29 29d8 d8e7 e793 9372 72ac aca6 a6b6 b6c2 c2b7 b776 76ed edb8 b8a4 a495 9538 38d6 d666 6698 98e0 e0f0 f018 18c6 c64f 4f9e 9e29 29a7 a785 8571</td>\n",
       "      <td><font color = green>4be6</font> <font color = green>e600</font> <font color = green>002a</font> <font color = green>2af1</font> f1f4 f490 <font color = green>9009</font> <font color = green>096d</font> 6d15 1567 674b 4b16 1668 688d 8dcc cccc cc91 91be bede de00 0002 0210 10c3 c300 0000 0032 32a1 a1d3 d3f7 f75d 5dac acb9 b917 174b 4b3a 3a29 29d8 d8e7 e793 9372 72ac aca6 a6b6 b6c2 c2b7 b776 76ed edb8 b8a4 a495 9538 38d6 d666 6698 98e0 e0f0 f018 18c6 c64f 4f9e 9e29 29a7 a785 8571</td>\n",
       "    </tr>\n",
       "    <tr>\n",
       "      <th>21</th>\n",
       "      <td>d912 1200 0000 0001 0101 0108 080a 0a5e 5e76 769a 9af0 f000 <font color = cyan>0017</font> <font color = cyan>17f6</font> f6d6 d617 1703 0303 0310 1018 1800 0000 0000 0000 0000 0000 0005 059a 9a3f 3fb3 b30e 0e2b 2b7a 7a46 4611 11e8 e86a 6afd fd1f 1f37 3777 7747 4744 44e9 e9eb eb25 25a5 a5ab ab6e 6e7b 7be5 e599 994c 4c5f 5fbb bbb4 b4ea eab3 b3ec ecbd bd30 30c7 c7db db33</td>\n",
       "      <td>d912 1200 0000 0001 0101 0108 080a 0a5e 5e76 769a 9af0 f000 <font color = pink>0051</font> <font color = pink>51f6</font> f6d6 d617 1703 0303 0310 1018 1800 0000 0000 0000 0000 0000 0005 059a 9a3f 3fb3 b30e 0e2b 2b7a 7a46 4611 11e8 e86a 6afd fd1f 1f37 3777 7747 4744 44e9 e9eb eb25 25a5 a5ab ab6e 6e7b 7be5 e599 994c 4c5f 5fbb bbb4 b4ea eab3 b3ec ecbd bd30 30c7 c7db db33</td>\n",
       "    </tr>\n",
       "    <tr>\n",
       "      <th>22</th>\n",
       "      <td>ea98 9825 <font color = yellow>25df</font> <font color = yellow>df1a</font> 1a18 1896 965c <font color = yellow>5c2d</font> <font color = yellow>2d92</font> <font color = yellow>9280</font> <font color = yellow>8010</font> <font color = yellow>1008</font> 0800 0017 173d 3d00 0000 0001 0101 <font color = yellow>0108</font> <font color = yellow>080a</font> 0a51 5152 5295 958e 8e01 0128 2896 9600 004b 4bc7 c7c6 c627 <font color = yellow>2746</font> <font color = yellow>46b4</font> <font color = yellow>b462</font> <font color = yellow>6275</font> <font color = yellow>752e</font> 2ed4 d400 0037 37e6 e680 8017 171d <font color = yellow>1d42</font> <font color = yellow>42b5</font> b5ab ab01 01a3 a3aa aa65 65c6 c622 22c5 c504 0482 <font color = yellow>82b1</font> <font color = yellow>b159</font> 59f9 f991 91e0 e09c 9c7d</td>\n",
       "      <td>ea98 9825 <font color = purple>2511</font> <font color = purple>111a</font> 1a18 1896 965c <font color = purple>5cdd</font> <font color = purple>dd92</font> <font color = purple>92ab</font> <font color = purple>ab12</font> <font color = purple>1208</font> 0800 0017 173d 3d00 0000 0001 0101 <font color = purple>0182</font> <font color = purple>820a</font> 0a51 5152 5295 958e 8e01 0128 2896 9600 004b 4bc7 c7c6 c627 <font color = purple>270c</font> <font color = purple>0c76</font> <font color = purple>7662</font> <font color = purple>6215</font> <font color = purple>152e</font> 2ed4 d400 0037 37e6 e680 8017 171d <font color = purple>1d5d</font> <font color = purple>5db5</font> b5ab ab01 01a3 a3aa aa65 65c6 c622 22c5 c504 0482 <font color = purple>82ff</font> <font color = purple>ff59</font> 59f9 f991 91e0 e09c 9c7d</td>\n",
       "    </tr>\n",
       "    <tr>\n",
       "      <th>23</th>\n",
       "      <td><font color = green>01bb</font> <font color = green>bb94</font> 9469 698c 8ce1 e1b3 b30e 0eef ef24 2450 5018 183f 3f57 57de deaf af00 0000 00cf cf22 22fa fa70 702c 2c9c 9c3e 3ec0 c063 6348 487c 7c79 79b4 b48f 8fab ab97 97c1 c153 53c5 c559 5905 05d4 d4f4 f4df dfa9 a9fe fe9b 9b33 3306 06bd bdfe fe5c 5cc4 c412 1212 12e4 e40f 0fc7 c74c 4ccd cdbf bf7a 7af9 f9da dafb fb69 6939</td>\n",
       "      <td><font color = red>0171</font> <font color = red>7194</font> 9469 698c 8ce1 e1b3 b30e 0eef ef24 2450 5018 183f 3f57 57de deaf af00 0000 00cf cf22 22fa fa70 702c 2c9c 9c3e 3ec0 c063 6348 487c 7c79 79b4 b48f 8fab ab97 97c1 c153 53c5 c559 5905 05d4 d4f4 f4df dfa9 a9fe fe9b 9b33 3306 06bd bdfe fe5c 5cc4 c412 1212 12e4 e40f 0fc7 c74c 4ccd cdbf bf7a 7af9 f9da dafb fb69 6939</td>\n",
       "    </tr>\n",
       "    <tr>\n",
       "      <th>24</th>\n",
       "      <td><font color = green>03e1</font> <font color = green>e1ff</font> ff14 14b0 b004 043a 3acd cd1f 1fb6 b650 5018 1840 405a 5a7f 7fa0 a000 0000 0017 1703 0303 0300 0026 2600 0000 0000 0000 0000 0000 0000 00c6 c614 148b 8b04 0475 7594 94e2 e2e6 e608 08fc fcdd dd0b 0bb0 b0cf cf71 7172 7215 1501 01dc dc61 61d5 d573 7394 9444 4490 903a 3a07 07c6 c653 53a0 a07c</td>\n",
       "      <td><font color = red>03be</font> <font color = red>beff</font> ff14 14b0 b004 043a 3acd cd1f 1fb6 b650 5018 1840 405a 5a7f 7fa0 a000 0000 0017 1703 0303 0300 0026 2600 0000 0000 0000 0000 0000 0000 00c6 c614 148b 8b04 0475 7594 94e2 e2e6 e608 08fc fcdd dd0b 0bb0 b0cf cf71 7172 7215 1501 01dc dc61 61d5 d573 7394 9444 4490 903a 3a07 07c6 c653 53a0 a07c</td>\n",
       "    </tr>\n",
       "    <tr>\n",
       "      <th>25</th>\n",
       "      <td><font color = yellow>e3af</font> <font color = yellow>af61</font> 6144 44ae ae01 0170 706a 6af5 f55a 5a80 <font color = yellow>8010</font> <font color = yellow>1008</font> <font color = yellow>0800</font> 0073 7371 7100 0000 0001 0101 <font color = yellow>0108</font> <font color = yellow>080a</font> 0a0a 0af4 f4a2 a22f 2f01 0125 258e 8ed9 d9cd cd42 4259 5989 89f6 f63f 3f01 0151 51a1 a16e 6e6a 6a20 20e3 e3c0 c0d7 d761 615b 5b1b 1bce ceb5 b56d 6d89 89e7 e7e3 e31d 1ddc dcc1 c16c 6c11 1179 7993 9375 757b 7b24 2452</td>\n",
       "      <td><font color = purple>e33e</font> <font color = purple>3e61</font> 6144 44ae ae01 0170 706a 6af5 f55a 5a80 <font color = purple>805f</font> <font color = purple>5f00</font> <font color = purple>0000</font> 0073 7371 7100 0000 0001 0101 <font color = purple>015a</font> <font color = purple>5a0a</font> 0a0a 0af4 f4a2 a22f 2f01 0125 258e 8ed9 d9cd cd42 4259 5989 89f6 f63f 3f01 0151 51a1 a16e 6e6a 6a20 20e3 e3c0 c0d7 d761 615b 5b1b 1bce ceb5 b56d 6d89 89e7 e7e3 e31d 1ddc dcc1 c16c 6c11 1179 7993 9375 757b 7b24 2452</td>\n",
       "    </tr>\n",
       "    <tr>\n",
       "      <th>26</th>\n",
       "      <td><font color = green>03e1</font> <font color = green>e1d9</font> d977 7739 3967 671e <font color = green>1e22</font> <font color = green>2287</font> <font color = green>878b</font> 8b50 <font color = green>5018</font> <font color = green>18ff</font> ffff ff04 044f 4f00 0000 0017 1703 0303 <font color = green>0300</font> <font color = green>0027</font> 2700 0000 0000 0000 0000 0000 0003 03d6 d6d0 d019 192f 2fc7 c759 599d 9dfb fb55 5579 7910 10b3 b312 1236 36e8 e815 150c 0c54 54d6 d62b 2bc0 c092 <font color = green>92ca</font> <font color = green>cab3</font> b377 7747 4768 68c8 c860 6026 26b9 b973</td>\n",
       "      <td><font color = cyan>0331</font> <font color = cyan>31d9</font> d977 7739 3967 671e <font color = cyan>1ea5</font> <font color = cyan>a552</font> <font color = cyan>528b</font> 8b50 <font color = cyan>50d7</font> <font color = cyan>d7ff</font> ffff ff04 044f 4f00 0000 0017 1703 0303 <font color = cyan>03f2</font> <font color = cyan>f227</font> 2700 0000 0000 0000 0000 0000 0003 03d6 d6d0 d019 192f 2fc7 c759 599d 9dfb fb55 5579 7910 10b3 b312 1236 36e8 e815 150c 0c54 54d6 d62b 2bc0 c092 <font color = cyan>92b2</font> <font color = cyan>b2b3</font> b377 7747 4768 68c8 c860 6026 26b9 b973</td>\n",
       "    </tr>\n",
       "    <tr>\n",
       "      <th>27</th>\n",
       "      <td><font color = red>15f3</font> <font color = red>f397</font> 9799 9958 585e 5e03 0353 5342 42dd dd50 5018 1801 0100 00fc fc1e 1e00 0000 00b1 b137 37ab abfa fa42 425b 5ba8 a867 6718 18f8 f801 0124 24d7 d744 4422 2222 2283 83af aff6 f639 391c 1ce4 e455 556e 6e1e 1e82 8248 48c0 c079 7989 897f 7f3e 3e5d 5d18 18d2 d207 074a 4af7 f7fd fda9 a979 79c2 c2a1 a1ca ca17 1788 88e9</td>\n",
       "      <td><font color = green>1563</font> <font color = green>6397</font> 9799 9958 585e 5e03 0353 5342 42dd dd50 5018 1801 0100 00fc fc1e 1e00 0000 00b1 b137 37ab abfa fa42 425b 5ba8 a867 6718 18f8 f801 0124 24d7 d744 4422 2222 2283 83af aff6 f639 391c 1ce4 e455 556e 6e1e 1e82 8248 48c0 c079 7989 897f 7f3e 3e5d 5d18 18d2 d207 074a 4af7 f7fd fda9 a979 79c2 c2a1 a1ca ca17 1788 88e9</td>\n",
       "    </tr>\n",
       "    <tr>\n",
       "      <th>28</th>\n",
       "      <td>f546 4600 0000 0001 0101 0108 080a 0ad9 d944 44fd fd57 5700 <font color = cyan>001b</font> <font color = cyan>1b9b</font> 9b68 6817 1703 0303 0300 0023 2300 0000 0000 0000 0000 0000 0015 158c 8c99 990f 0f2e 2e94 9485 8515 156b 6b24 24a8 a879 79a7 a74d 4d88 88b7 b780 80f4 f4a3 a3b7 b776 7626 2684 84dc dc79 795f 5f30 3085 85a0</td>\n",
       "      <td>f546 4600 0000 0001 0101 0108 080a 0ad9 d944 44fd fd57 5700 <font color = pink>007b</font> <font color = pink>7b9b</font> 9b68 6817 1703 0303 0300 0023 2300 0000 0000 0000 0000 0000 0015 158c 8c99 990f 0f2e 2e94 9485 8515 156b 6b24 24a8 a879 79a7 a74d 4d88 88b7 b780 80f4 f4a3 a3b7 b776 7626 2684 84dc dc79 795f 5f30 3085 85a0</td>\n",
       "    </tr>\n",
       "    <tr>\n",
       "      <th>29</th>\n",
       "      <td><font color = green>ce4c</font> <font color = green>4c4a</font> <font color = green>4ada</font> <font color = green>dabe</font> <font color = green>bede</font> <font color = green>de00</font> <font color = green>0002</font> 0210 1095 9500 0000 0032 32f7 f7db db22 2254 54c4 c4a5 a58f 8f1c 1c31 317c 7c62 624f 4fda daa3 a375 7598 9846 461c 1c99 99d8 d84e 4e08 0842 4234 349c 9c3f 3f69 6995 95ca caf7 f7e1 e109 09ac ac26 266a 6ae3 e3bd bd3e 3e95 9510 108b 8b09 098b 8b9e 9e50 5021 2177 7722 22ff ffb1 b128 286b</td>\n",
       "      <td><font color = red>ceae</font> <font color = red>ae4a</font> <font color = red>4a68</font> <font color = red>68be</font> <font color = red>be68</font> <font color = red>68b1</font> <font color = red>b102</font> 0210 1095 9500 0000 0032 32f7 f7db db22 2254 54c4 c4a5 a58f 8f1c 1c31 317c 7c62 624f 4fda daa3 a375 7598 9846 461c 1c99 99d8 d84e 4e08 0842 4234 349c 9c3f 3f69 6995 95ca caf7 f7e1 e109 09ac ac26 266a 6ae3 e3bd bd3e 3e95 9510 108b 8b09 098b 8b9e 9e50 5021 2177 7722 22ff ffb1 b128 286b</td>\n",
       "    </tr>\n",
       "    <tr>\n",
       "      <th>30</th>\n",
       "      <td>ea40 4000 <font color = gray>0000</font> <font color = gray>0001</font> 0101 0108 080a <font color = gray>0a1a</font> <font color = gray>1aa1</font> a1bc bc13 1300 001e 1ecd cd1b 1b18 1850 50ed ed1c 1c80 8096 9630 3077 7760 6050 50ae aee0 e057 5724 2404 04a0 a089 89f1 f124 24ee ee9b 9b58 58b1 b102 021d 1d23 2363 63e8 e86e 6e3b 3be6 e632 324e 4eb9 b94f 4fdd dd3b 3b14 145e 5e4d 4d20 2005 05a0 a02f 2faf affa fa8f 8f13 13be</td>\n",
       "      <td>ea40 4000 <font color = pink>003e</font> <font color = pink>3e01</font> 0101 0108 080a <font color = pink>0a6e</font> <font color = pink>6ea1</font> a1bc bc13 1300 001e 1ecd cd1b 1b18 1850 50ed ed1c 1c80 8096 9630 3077 7760 6050 50ae aee0 e057 5724 2404 04a0 a089 89f1 f124 24ee ee9b 9b58 58b1 b102 021d 1d23 2363 63e8 e86e 6e3b 3be6 e632 324e 4eb9 b94f 4fdd dd3b 3b14 145e 5e4d 4d20 2005 05a0 a02f 2faf affa fa8f 8f13 13be</td>\n",
       "    </tr>\n",
       "    <tr>\n",
       "      <th>31</th>\n",
       "      <td>1143 43d8 d80c 0ce4 e40e 0e76 761f 1fc8 c83f 3f50 5010 1000 <font color = purple>00f5</font> <font color = purple>f5b0</font> b01b 1b00 0000 0088 884b 4b2a 2ac4 c4ec ec03 037a 7a8e 8eab ab51 51df dfc0 c096 96b1 b1ad ad63 63d1 d18f 8f98 9841 41f8 f810 10d1 d1c2 c25e 5e61 61c0 c0e4 e438 386c 6ce5 e5fd fd61 6179 79a8 a83f 3f1b 1b4d 4d3f 3fc1 c1a7 a745 4515 15f7 f7ba bae8 e86a</td>\n",
       "      <td>1143 43d8 d80c 0ce4 e40e 0e76 761f 1fc8 c83f 3f50 5010 1000 <font color = red>0059</font> <font color = red>59b0</font> b01b 1b00 0000 0088 884b 4b2a 2ac4 c4ec ec03 037a 7a8e 8eab ab51 51df dfc0 c096 96b1 b1ad ad63 63d1 d18f 8f98 9841 41f8 f810 10d1 d1c2 c25e 5e61 61c0 c0e4 e438 386c 6ce5 e5fd fd61 6179 79a8 a83f 3f1b 1b4d 4d3f 3fc1 c1a7 a745 4515 15f7 f7ba bae8 e86a</td>\n",
       "    </tr>\n",
       "    <tr>\n",
       "      <th>32</th>\n",
       "      <td>63ae <font color = red>ae00</font> <font color = red>0000</font> <font color = red>0001</font> <font color = red>0101</font> 0108 080a 0a79 797e 7e1b 1b43 4302 025c 5c2c 2cf8 f839 392b 2b5a <font color = red>5a75</font> <font color = red>75fe</font> fe44 4411 113c 3ce2 e208 08cc cce8 e814 14a6 a69e 9e15 158c 8c29 2946 465e 5e1c 1c95 956d 6d1f 1f05 0557 <font color = red>5708</font> <font color = red>083f</font> 3fed ed20 20e6 e6d9 d95c 5ca2 a22d 2dc1 <font color = red>c1ec</font> <font color = red>ec80</font> 809e 9e46 461f 1fe6 e63f 3fed ed3a 3a3f 3fbd bdd6 d690</td>\n",
       "      <td>63ae <font color = red>ae80</font> <font color = red>8000</font> <font color = red>0093</font> <font color = red>9301</font> 0108 080a 0a79 797e 7e1b 1b43 4302 025c 5c2c 2cf8 f839 392b 2b5a <font color = red>5adb</font> <font color = red>dbfe</font> fe44 4411 113c 3ce2 e208 08cc cce8 e814 14a6 a69e 9e15 158c 8c29 2946 465e 5e1c 1c95 956d 6d1f 1f05 0557 <font color = red>57d8</font> <font color = red>d83f</font> 3fed ed20 20e6 e6d9 d95c 5ca2 a22d 2dc1 <font color = red>c1dd</font> <font color = red>dd80</font> 809e 9e46 461f 1fe6 e63f 3fed ed3a 3a3f 3fbd bdd6 d690</td>\n",
       "    </tr>\n",
       "    <tr>\n",
       "      <th>33</th>\n",
       "      <td>101e 1e00 0000 0001 0101 0108 080a <font color = gray>0a00</font> <font color = gray>001d</font> 1d62 6261 611a 1aa0 a051 5119 195d 5d0f 0f4b 4bb0 b043 433b 3bd6 d651 515a 5abc bcdc dc1e 1e2e 2ed3 d311 115a 5a24 2461 61c7 c79a 9ac6 c6ad ad80 8096 967a 7a85 8571 71cf cf5d 5d21 214a 4ae2 e21b 1b55 55aa aadd dd8f 8f0d 0d26 26c2 c2fa fabf bfaa aa2f 2f00 00aa aa32 3208 08cc</td>\n",
       "      <td>101e 1e00 0000 0001 0101 0108 080a <font color = red>0a6e</font> <font color = red>6e1d</font> 1d62 6261 611a 1aa0 a051 5119 195d 5d0f 0f4b 4bb0 b043 433b 3bd6 d651 515a 5abc bcdc dc1e 1e2e 2ed3 d311 115a 5a24 2461 61c7 c79a 9ac6 c6ad ad80 8096 967a 7a85 8571 71cf cf5d 5d21 214a 4ae2 e21b 1b55 55aa aadd dd8f 8f0d 0d26 26c2 c2fa fabf bfaa aa2f 2f00 00aa aa32 3208 08cc</td>\n",
       "    </tr>\n",
       "    <tr>\n",
       "      <th>34</th>\n",
       "      <td>0b52 5200 0000 0001 0101 0108 080a <font color = brown>0a7c</font> <font color = brown>7c60</font> 60f5 f596 9600 0002 025f 5fd5 d557 5784 8484 8400 0041 41e6 e6f5 f5fa fa4e 4eb8 b8d3 d35c 5c90 90b7 b7cc ccda da50 50b5 b560 6006 06f5 f535 351c 1c96 967a 7aeb eb43 436f 6f6b 6b8f 8f46 46db dbae aee6 e65b 5b4b 4b20 207d 7d62 6253 5352 5269 696b 6bb8 b8ea ead8 d86b 6b2d 2d99</td>\n",
       "      <td>0b52 5200 0000 0001 0101 0108 080a <font color = cyan>0a72</font> <font color = cyan>7260</font> 60f5 f596 9600 0002 025f 5fd5 d557 5784 8484 8400 0041 41e6 e6f5 f5fa fa4e 4eb8 b8d3 d35c 5c90 90b7 b7cc ccda da50 50b5 b560 6006 06f5 f535 351c 1c96 967a 7aeb eb43 436f 6f6b 6b8f 8f46 46db dbae aee6 e65b 5b4b 4b20 207d 7d62 6253 5352 5269 696b 6bb8 b8ea ead8 d86b 6b2d 2d99</td>\n",
       "    </tr>\n",
       "    <tr>\n",
       "      <th>35</th>\n",
       "      <td><font color = orange>4b69</font> <font color = orange>6900</font> 0081 81f1 f1f6 f690 <font color = orange>906f</font> <font color = orange>6faf</font> af8f 8fea ea98 980e 0e53 53a8 a82a 2a68 683c 3cbe bede de00 0002 0210 10ad ad00 0000 0032 32bc bc87 8784 84c3 c325 2523 23db db20 20ca ca37 37c6 c617 1789 8991 91da dadc dc04 0494 9446 4655 555e 5eca ca1a 1a2b 2bea eae1 e1f8 f8ab ab96 963e 3ebe be35 35ab ab1f 1fdc dc6d 6d79 79d6</td>\n",
       "      <td><font color = green>4b8f</font> <font color = green>8f00</font> 0081 81f1 f1f6 f690 <font color = green>9040</font> <font color = green>40af</font> af8f 8fea ea98 980e 0e53 53a8 a82a 2a68 683c 3cbe bede de00 0002 0210 10ad ad00 0000 0032 32bc bc87 8784 84c3 c325 2523 23db db20 20ca ca37 37c6 c617 1789 8991 91da dadc dc04 0494 9446 4655 555e 5eca ca1a 1a2b 2bea eae1 e1f8 f8ab ab96 963e 3ebe be35 35ab ab1f 1fdc dc6d 6d79 79d6</td>\n",
       "    </tr>\n",
       "    <tr>\n",
       "      <th>36</th>\n",
       "      <td>ac4a 4a05 <font color = blue>0562</font> <font color = blue>6285</font> 85b2 b268 68c0 c04d 4dc5 c5fb fb0d 0d9a 9a5e 5ef9 f9a0 a09c 9cf7 f79f 9f84 84ff ffce ce17 17b2 b23f 3f7f 7fe4 e414 1451 5128 28db db56 56df dfc9 c990 9059 5910 105e 5e13 133d 3def effa fa9a 9a18 18ac acc8 c86d 6d71 71e7 e7c9 c935 35e6 e651 512b 2b5b 5bc5 c5e1 e12f 2f47 4711 1178 7802 029e 9e10 10b5</td>\n",
       "      <td>ac4a 4a05 <font color = green>050d</font> <font color = green>0d85</font> 85b2 b268 68c0 c04d 4dc5 c5fb fb0d 0d9a 9a5e 5ef9 f9a0 a09c 9cf7 f79f 9f84 84ff ffce ce17 17b2 b23f 3f7f 7fe4 e414 1451 5128 28db db56 56df dfc9 c990 9059 5910 105e 5e13 133d 3def effa fa9a 9a18 18ac acc8 c86d 6d71 71e7 e7c9 c935 35e6 e651 512b 2b5b 5bc5 c5e1 e12f 2f47 4711 1178 7802 029e 9e10 10b5</td>\n",
       "    </tr>\n",
       "    <tr>\n",
       "      <th>37</th>\n",
       "      <td>4a1d 1d00 006f 6fc3 c3bc bc64 6431 313a 3a61 6164 6432 <font color = purple>323a</font> <font color = purple>3a69</font> 6964 6432 3230 303a 3ae4 e459 594b 4b99 994c 4c8e 8e24 2401 0182 82e5 e57d 7d20 20e4 e4c1 c11e 1edb db12 1259 5934 348b 8b36 363a 3a74 7461 6172 7267 6765 6574 7432 <font color = purple>3230</font> <font color = purple>303a</font> 3ae4 e459 594b 4b99 994c 4c8e 8e24 2401 0182 82e5 e57d 7d20 20e4 e4c1 c11e 1edb</td>\n",
       "      <td>4a1d 1d00 006f 6fc3 c3bc bc64 6431 313a 3a61 6164 6432 <font color = red>3268</font> <font color = red>6869</font> 6964 6432 3230 303a 3ae4 e459 594b 4b99 994c 4c8e 8e24 2401 0182 82e5 e57d 7d20 20e4 e4c1 c11e 1edb db12 1259 5934 348b 8b36 363a 3a74 7461 6172 7267 6765 6574 7432 <font color = red>3239</font> <font color = red>393a</font> 3ae4 e459 594b 4b99 994c 4c8e 8e24 2401 0182 82e5 e57d 7d20 20e4 e4c1 c11e 1edb</td>\n",
       "    </tr>\n",
       "    <tr>\n",
       "      <th>38</th>\n",
       "      <td>8581 8142 4297 97b9 b9e8 e8bd bd3b 3b03 038f 8f80 8010 1002 0229 2922 22f4 f400 0000 0001 0101 <font color = yellow>0108</font> <font color = yellow>080a</font> <font color = yellow>0ab0</font> <font color = yellow>b040</font> 4027 276c 6c01 011e 1e25 251b 1bcf cf35 3513 13c4 c48c 8cf1 f1a1 a1e5 e58e 8e02 0221 2111 116c 6ca2 a288 882a 2aba baf9 f9e3 e300 008f 8f5b 5b68 6894 947b 7b1d 1dde de48 48c5 c593 9371 7122 2247 4788 8820</td>\n",
       "      <td>8581 8142 4297 97b9 b9e8 e8bd bd3b 3b03 038f 8f80 8010 1002 0229 2922 22f4 f400 0000 0001 0101 <font color = red>0116</font> <font color = red>168d</font> <font color = red>8d00</font> <font color = red>0040</font> 4027 276c 6c01 011e 1e25 251b 1bcf cf35 3513 13c4 c48c 8cf1 f1a1 a1e5 e58e 8e02 0221 2111 116c 6ca2 a288 882a 2aba baf9 f9e3 e300 008f 8f5b 5b68 6894 947b 7b1d 1dde de48 48c5 c593 9371 7122 2247 4788 8820</td>\n",
       "    </tr>\n",
       "    <tr>\n",
       "      <th>39</th>\n",
       "      <td><font color = purple>0050</font> <font color = purple>5090</font> 908d 8d8b 8b53 532b 2b73 73b1 b12f 2f50 5018 1840 4099 998e 8e41 4100 0000 0047 4745 4554 5420 202f 2f31 3135 352f 2f69 6974 7465 656d 6d73 732f 2f4d 4d61 6163 6362 6265 6574 7468 682d 2d53 5368 6861 616b 6b65 6573 7370 7065 6561 6172 7265 652f 2f4d 4d61 6163 6362 6265 6574 7468 682d 2d53 5368 6861 616b 6b65</td>\n",
       "      <td><font color = red>0007</font> <font color = red>0790</font> 908d 8d8b 8b53 532b 2b73 73b1 b12f 2f50 5018 1840 4099 998e 8e41 4100 0000 0047 4745 4554 5420 202f 2f31 3135 352f 2f69 6974 7465 656d 6d73 732f 2f4d 4d61 6163 6362 6265 6574 7468 682d 2d53 5368 6861 616b 6b65 6573 7370 7065 6561 6172 7265 652f 2f4d 4d61 6163 6362 6265 6574 7468 682d 2d53 5368 6861 616b 6b65</td>\n",
       "    </tr>\n",
       "    <tr>\n",
       "      <th>40</th>\n",
       "      <td>ea98 <font color = yellow>981f</font> <font color = yellow>1fe6</font> e60a 0a75 7596 965b <font color = yellow>5b55</font> <font color = yellow>5549</font> 4980 8010 1008 0800 0017 173d 3d00 0000 0001 0101 <font color = yellow>0108</font> <font color = yellow>080a</font> 0a51 514e 4e7e 7ea7 a701 0127 2790 9046 4689 89cc cc4d 4d14 1476 7635 3588 88a2 a2a7 a73c 3ccb cb06 06cc cc79 7951 51ac acb5 b5d1 d176 7621 2105 05fa fac5 c576 76b8 b84f 4f5a 5ac6 c6e6 e6f8 f895 953a 3ada da7b 7bc1</td>\n",
       "      <td>ea98 <font color = purple>98fd</font> <font color = purple>fde6</font> e60a 0a75 7596 965b <font color = purple>5b9e</font> <font color = purple>9e49</font> 4980 8010 1008 0800 0017 173d 3d00 0000 0001 0101 <font color = purple>0155</font> <font color = purple>550a</font> 0a51 514e 4e7e 7ea7 a701 0127 2790 9046 4689 89cc cc4d 4d14 1476 7635 3588 88a2 a2a7 a73c 3ccb cb06 06cc cc79 7951 51ac acb5 b5d1 d176 7621 2105 05fa fac5 c576 76b8 b84f 4f5a 5ac6 c6e6 e6f8 f895 953a 3ada da7b 7bc1</td>\n",
       "    </tr>\n",
       "    <tr>\n",
       "      <th>41</th>\n",
       "      <td>a765 6505 052e 2e2c <font color = green>2c8b</font> <font color = green>8b6e</font> 6ef8 f8f4 f415 <font color = green>1550</font> <font color = green>5018</font> 18ff <font color = green>ffff</font> <font color = green>ffeb</font> eb52 5200 <font color = green>0000</font> <font color = green>0017</font> 1703 0303 <font color = green>0300</font> <font color = green>004b</font> <font color = green>4b00</font> <font color = green>0000</font> 0000 0000 0000 0000 0000 0001 <font color = green>0189</font> <font color = green>8980</font> 804a 4a71 7133 33ea ea44 <font color = green>4467</font> <font color = green>67a4</font> a4cf cf0d 0d24 24f4 f4e8 e88b 8baa aaa2 a2db dba2 a207 0755 55b9 b9ab ab0a 0acb cbe6 e675 75b7 b783 836b 6b27 2770 70d5 d58f</td>\n",
       "      <td>a765 6505 052e 2e2c <font color = green>2cac</font> <font color = green>ac6e</font> 6ef8 f8f4 f415 <font color = green>15f1</font> <font color = green>f118</font> 18ff <font color = green>ffeb</font> <font color = green>ebeb</font> eb52 5200 <font color = green>0063</font> <font color = green>6317</font> 1703 0303 <font color = green>03f3</font> <font color = green>f34b</font> <font color = green>4b34</font> <font color = green>3400</font> 0000 0000 0000 0000 0000 0001 <font color = green>0119</font> <font color = green>1980</font> 804a 4a71 7133 33ea ea44 <font color = green>448f</font> <font color = green>8fa4</font> a4cf cf0d 0d24 24f4 f4e8 e88b 8baa aaa2 a2db dba2 a207 0755 55b9 b9ab ab0a 0acb cbe6 e675 75b7 b783 836b 6b27 2770 70d5 d58f</td>\n",
       "    </tr>\n",
       "    <tr>\n",
       "      <th>42</th>\n",
       "      <td>2d92 9200 <font color = green>005b</font> <font color = green>5bec</font> ec1b 1b4e 4e27 2770 7096 96cd cdaa aa25 25ce ce99 999e 9eef ef81 8156 562b 2bb1 b1ab abab ab10 10be bedb db4c 4c47 4737 3704 0481 81ae aed5 d5c7 c74d 4d51 51b5 b568 6897 97c4 c4e7 e7ec ec1b 1bcc ccf5 f569 6938 3819 1909 096b 6b5f 5fc4 c448 48fb fbac accd cd99 996c 6cf8 f814 14af af8f 8fe2 e2bb bbcc</td>\n",
       "      <td>2d92 9200 <font color = pink>0000</font> <font color = pink>00ec</font> ec1b 1b4e 4e27 2770 7096 96cd cdaa aa25 25ce ce99 999e 9eef ef81 8156 562b 2bb1 b1ab abab ab10 10be bedb db4c 4c47 4737 3704 0481 81ae aed5 d5c7 c74d 4d51 51b5 b568 6897 97c4 c4e7 e7ec ec1b 1bcc ccf5 f569 6938 3819 1909 096b 6b5f 5fc4 c448 48fb fbac accd cd99 996c 6cf8 f814 14af af8f 8fe2 e2bb bbcc</td>\n",
       "    </tr>\n",
       "    <tr>\n",
       "      <th>43</th>\n",
       "      <td><font color = orange>f632</font> <font color = orange>3200</font> <font color = orange>0087</font> 8710 1088 8890 <font color = orange>906f</font> <font color = orange>6f9a</font> 9a6a 6a60 6078 780e 0e68 688d 8dcc cccc cc91 91be bede de00 0002 0210 108e 8e00 0000 0032 32be be00 006a 6ae1 e1f0 f0ac ac32 3203 03de de34 3437 37ce cebf bf43 43d2 d224 24f1 f163 636c 6c24 240e 0e8e 8eeb ebfd fdbf bf49 49a1 a1d6 d67e 7e54 549b 9b61 6144 44de ded7 d75a 5a73 73c3</td>\n",
       "      <td><font color = green>f6fd</font> <font color = green>fde7</font> <font color = green>e787</font> 8710 1088 8890 <font color = green>90f5</font> <font color = green>f59a</font> 9a6a 6a60 6078 780e 0e68 688d 8dcc cccc cc91 91be bede de00 0002 0210 108e 8e00 0000 0032 32be be00 006a 6ae1 e1f0 f0ac ac32 3203 03de de34 3437 37ce cebf bf43 43d2 d224 24f1 f163 636c 6c24 240e 0e8e 8eeb ebfd fdbf bf49 49a1 a1d6 d67e 7e54 549b 9b61 6144 44de ded7 d75a 5a73 73c3</td>\n",
       "    </tr>\n",
       "    <tr>\n",
       "      <th>44</th>\n",
       "      <td>3767 6700 0000 0001 0101 0108 080a 0a61 615e 5e62 6295 9500 <font color = cyan>0017</font> <font color = cyan>17b5</font> b504 0417 1703 0303 0300 0021 2100 0000 0000 0000 0000 0000 0000 0052 5294 9450 50a8 a874 7401 0145 4555 55fe fe53 530a 0a1d 1d3f 3f91 91a7 a786 86bb bb07 076a 6a9c 9cf2 f27d 7de2 e294 9415 151c</td>\n",
       "      <td>3767 6700 0000 0001 0101 0108 080a 0a61 615e 5e62 6295 9500 <font color = pink>002e</font> <font color = pink>2eb5</font> b504 0417 1703 0303 0300 0021 2100 0000 0000 0000 0000 0000 0000 0052 5294 9450 50a8 a874 7401 0145 4555 55fe fe53 530a 0a1d 1d3f 3f91 91a7 a786 86bb bb07 076a 6a9c 9cf2 f27d 7de2 e294 9415 151c</td>\n",
       "    </tr>\n",
       "    <tr>\n",
       "      <th>45</th>\n",
       "      <td>7e9c 9c00 001d 1d4a 4a37 374d 4d2d 2d53 5345 4541 4152 5243 4348 4820 <font color = red>202a</font> <font color = red>2a20</font> 2048 4854 5454 5450 502f 2f31 312e 2e31 310d 0d0a</td>\n",
       "      <td>7e9c 9c00 001d 1d4a 4a37 374d 4d2d 2d53 5345 4541 4152 5243 4348 4820 <font color = green>2083</font> <font color = green>8320</font> 2048 4854 5454 5450 502f 2f31 312e 2e31 310d 0d0a</td>\n",
       "    </tr>\n",
       "    <tr>\n",
       "      <th>46</th>\n",
       "      <td><font color = yellow>859b</font> <font color = yellow>9b43</font> 4360 60d4 d431 3161 61fd fd49 49d6 d680 8010 <font color = yellow>1002</font> <font color = yellow>0214</font> 141d 1dba ba00 <font color = yellow>0000</font> <font color = yellow>0001</font> 0101 0108 <font color = yellow>080a</font> <font color = yellow>0ab0</font> b041 4135 3558 5801 011e 1e68 6895 95ae aeb3 <font color = yellow>b3cf</font> <font color = yellow>cf26</font> 2647 4706 0692 92fc fcf2 f206 0669 690b 0b5a 5a3a 3ac5 c527 2742 <font color = yellow>4242</font> <font color = yellow>4212</font> 12db dbe7 e7cd cd43 4344 44b6 b6c4 c477 778f 8f95 9578 7815 157c 7c8b <font color = yellow>8bff</font> <font color = yellow>ff9a</font></td>\n",
       "      <td><font color = green>8503</font> <font color = green>0343</font> 4360 60d4 d431 3161 61fd fd49 49d6 d680 8010 <font color = green>10b7</font> <font color = green>b714</font> 141d 1dba ba00 <font color = green>0065</font> <font color = green>6501</font> 0101 0108 <font color = green>08ac</font> <font color = green>acb0</font> b041 4135 3558 5801 011e 1e68 6895 95ae aeb3 <font color = green>b340</font> <font color = green>4026</font> 2647 4706 0692 92fc fcf2 f206 0669 690b 0b5a 5a3a 3ac5 c527 2742 <font color = green>4296</font> <font color = green>9612</font> 12db dbe7 e7cd cd43 4344 44b6 b6c4 c477 778f 8f95 9578 7815 157c 7c8b <font color = green>8b85</font> <font color = green>859a</font></td>\n",
       "    </tr>\n",
       "    <tr>\n",
       "      <th>47</th>\n",
       "      <td>113f 3f75 7510 10cd cdea eada dae1 e109 09c0 c050 5010 1000 <font color = purple>00ed</font> <font color = purple>eda4</font> a481 8100 <font color = purple>0000</font> <font color = purple>00e2</font> e2eb eb39 39b0 b091 9173 7305 05b7 b770 70e0 e09f 9ff1 f1bc bc02 02cf cfe7 e720 205b 5b3c 3c1c 1c6b 6b8f 8f7d 7de3 e3ae ae39 3915 15a7 a76a 6aa9 a9e1 e19e 9e54 54f3 f3c3 c38b 8b10 1034 347b 7b8d 8dba bafd fdbc bcc1 c160 6095 958a</td>\n",
       "      <td>113f 3f75 7510 10cd cdea eada dae1 e109 09c0 c050 5010 1000 <font color = green>00ff</font> <font color = green>ffa4</font> a481 8100 <font color = green>005b</font> <font color = green>5be2</font> e2eb eb39 39b0 b091 9173 7305 05b7 b770 70e0 e09f 9ff1 f1bc bc02 02cf cfe7 e720 205b 5b3c 3c1c 1c6b 6b8f 8f7d 7de3 e3ae ae39 3915 15a7 a76a 6aa9 a9e1 e19e 9e54 54f3 f3c3 c38b 8b10 1034 347b 7b8d 8dba bafd fdbc bcc1 c160 6095 958a</td>\n",
       "    </tr>\n",
       "    <tr>\n",
       "      <th>48</th>\n",
       "      <td>d800 0000 0000 0001 0101 0108 080a 0a5e 5e76 768b 8b80 8000 <font color = cyan>0017</font> <font color = cyan>17f2</font> f2f9 f9ee eedc dc0b 0bef ef32 3209 098e 8e52 52c1 c18c 8cf5 f532 3234 3459 5972 72d5 d585 85d2 d279 79d5 d581 8158 5814 14c8 c849 4907 0760 6091 91e6 e6ad adc7 c7da da2b 2ba5 a5a1 a193 93c0 c077 7782 822b 2bc9 c9a9 a9d3 d3d3 d39f 9f13 1376 76e3 e326</td>\n",
       "      <td>d800 0000 0000 0001 0101 0108 080a 0a5e 5e76 768b 8b80 8000 <font color = green>005b</font> <font color = green>5bf2</font> f2f9 f9ee eedc dc0b 0bef ef32 3209 098e 8e52 52c1 c18c 8cf5 f532 3234 3459 5972 72d5 d585 85d2 d279 79d5 d581 8158 5814 14c8 c849 4907 0760 6091 91e6 e6ad adc7 c7da da2b 2ba5 a5a1 a193 93c0 c077 7782 822b 2bc9 c9a9 a9d3 d3d3 d39f 9f13 1376 76e3 e326</td>\n",
       "    </tr>\n",
       "    <tr>\n",
       "      <th>49</th>\n",
       "      <td>158a 8a00 0000 0001 0101 0108 080a 0a00 <font color = pink>000b</font> <font color = pink>0bdc</font> dcf8 f800 0017 1712 1271 71d5 d546 46fe fee0 e06d 6dae ae90 9007 07b2 b27c 7c5d 5df8 f8f7 f782 821f 1fa6 a6b6 b6e3 e300 0085 8574 7430 30a5 a59f 9fcf cff5 f511 112e 2e36 36d1 d180 80c8 c829 2960 60f7 f72a 2a07 0719 19f6 f665 652b 2b21 2104 0445 4511 11c7 c74c 4c5f 5f51</td>\n",
       "      <td>158a 8a00 0000 0001 0101 0108 080a 0a00 <font color = gray>0022</font> <font color = gray>22dc</font> dcf8 f800 0017 1712 1271 71d5 d546 46fe fee0 e06d 6dae ae90 9007 07b2 b27c 7c5d 5df8 f8f7 f782 821f 1fa6 a6b6 b6e3 e300 0085 8574 7430 30a5 a59f 9fcf cff5 f511 112e 2e36 36d1 d180 80c8 c829 2960 60f7 f72a 2a07 0719 19f6 f665 652b 2b21 2104 0445 4511 11c7 c74c 4c5f 5f51</td>\n",
       "    </tr>\n",
       "    <tr>\n",
       "      <th>50</th>\n",
       "      <td>aa6c 6c00 0000 0001 0101 0108 080a 0a00 <font color = pink>0032</font> <font color = pink>3204</font> 0458 5800 <font color = pink>003f</font> <font color = pink>3f9d</font> 9d65 65c4 c4e4 e486 86fc fce5 e50c 0c6d 6d79 7926 2616 1693 9340 4045 45d0 d006 06ea ea78 78e5 e53b 3b1f 1fb0 b03a 3a68 6897 9739 39ba ba96 96de de46 4610 1039 390c 0c2f 2f1c 1c59 5919 1945 4515 1573 736a 6a65 6547 47da da75 7536 368b 8b65 65f2 f23b</td>\n",
       "      <td>aa6c 6c00 0000 0001 0101 0108 080a 0a00 <font color = brown>0002</font> <font color = brown>0204</font> 0458 5800 <font color = brown>00db</font> <font color = brown>db9d</font> 9d65 65c4 c4e4 e486 86fc fce5 e50c 0c6d 6d79 7926 2616 1693 9340 4045 45d0 d006 06ea ea78 78e5 e53b 3b1f 1fb0 b03a 3a68 6897 9739 39ba ba96 96de de46 4610 1039 390c 0c2f 2f1c 1c59 5919 1945 4515 1573 736a 6a65 6547 47da da75 7536 368b 8b65 65f2 f23b</td>\n",
       "    </tr>\n",
       "    <tr>\n",
       "      <th>51</th>\n",
       "      <td><font color = red>83d3</font> <font color = red>d300</font> 0000 0001 0101 0108 080a <font color = red>0a51</font> <font color = red>511c</font> 1c64 6482 8202 0249 4964 64a6 a6c1 c1fb fb49 49c6 c692 9299 99c7 c77a 7a1d 1d58 5874 747b 7bc9 c9ae ae8b 8be1 e19b 9bf5 f5f5 f5e2 e252 527e 7e62 62da da9a 9a27 2790 901b 1b1b 1b5a 5a7f 7fec ec4e 4e2c 2c80 80fc fc1f 1ff1 f197 9794 9468 68ac ac8c 8cd0 d0f7 f741 4183 8388 88d0</td>\n",
       "      <td><font color = green>8307</font> <font color = green>0700</font> 0000 0001 0101 0108 080a <font color = green>0a40</font> <font color = green>401c</font> 1c64 6482 8202 0249 4964 64a6 a6c1 c1fb fb49 49c6 c692 9299 99c7 c77a 7a1d 1d58 5874 747b 7bc9 c9ae ae8b 8be1 e19b 9bf5 f5f5 f5e2 e252 527e 7e62 62da da9a 9a27 2790 901b 1b1b 1b5a 5a7f 7fec ec4e 4e2c 2c80 80fc fc1f 1ff1 f197 9794 9468 68ac ac8c 8cd0 d0f7 f741 4183 8388 88d0</td>\n",
       "    </tr>\n",
       "    <tr>\n",
       "      <th>52</th>\n",
       "      <td>217e 7e00 0000 0001 0101 0108 080a <font color = brown>0a73</font> <font color = brown>737b</font> 7b6c 6cc2 c200 0002 0239 39ea ea7d 7df9 f972 72fc fc64 64ff ff34 3401 0159 5903 03d7 d705 05f6 f606 06c1 c106 06a1 a105 05b5 b503 034e 4e02 02f4 f401 0169 6902 0285 8503 0393 9304 0497 9706 06e9 e906 06a4 a406 061d 1d07 0719 1907 07ad ad06 0635 3506 062e 2e06 06cb cb04 0422</td>\n",
       "      <td>217e 7e00 0000 0001 0101 0108 080a <font color = cyan>0a72</font> <font color = cyan>727b</font> 7b6c 6cc2 c200 0002 0239 39ea ea7d 7df9 f972 72fc fc64 64ff ff34 3401 0159 5903 03d7 d705 05f6 f606 06c1 c106 06a1 a105 05b5 b503 034e 4e02 02f4 f401 0169 6902 0285 8503 0393 9304 0497 9706 06e9 e906 06a4 a406 061d 1d07 0719 1907 07ad ad06 0635 3506 062e 2e06 06cb cb04 0422</td>\n",
       "    </tr>\n",
       "    <tr>\n",
       "      <th>53</th>\n",
       "      <td>f0e8 e800 0000 0001 0101 0108 080a <font color = gray>0a1a</font> <font color = gray>1aa6</font> a62e 2e31 3100 0023 2377 77b8 b851 5111 11c4 c4e9 e930 3078 78e4 e4a7 a711 11bc bc86 864e 4e90 9027 27cc cc08 08da da7f 7fe6 e611 11e8 e804 0439 3943 4303 0360 601d 1d2a 2a5a 5af6 f688 8832 3273 73c5 c510 10f5 f5c4 c439 39b6 b678 78f2 f220 209b 9b95 9545 4558 5869 69c8 c86d</td>\n",
       "      <td>f0e8 e800 0000 0001 0101 0108 080a <font color = pink>0a6e</font> <font color = pink>6ea6</font> a62e 2e31 3100 0023 2377 77b8 b851 5111 11c4 c4e9 e930 3078 78e4 e4a7 a711 11bc bc86 864e 4e90 9027 27cc cc08 08da da7f 7fe6 e611 11e8 e804 0439 3943 4303 0360 601d 1d2a 2a5a 5af6 f688 8832 3273 73c5 c510 10f5 f5c4 c439 39b6 b678 78f2 f220 209b 9b95 9545 4558 5869 69c8 c86d</td>\n",
       "    </tr>\n",
       "    <tr>\n",
       "      <th>54</th>\n",
       "      <td>112e 2e67 675e 5ede de8d 8d83 834d 4dbe bede de50 5010 1000 <font color = purple>00ed</font> <font color = purple>ed62</font> 625c 5c00 0000 00cc cc7f 7f19 1928 28bb bb8c 8cfd fd3d 3dc5 c53a 3aa2 a2c7 c79c 9cc3 c3b3 b350 50a9 a970 7056 564e 4e79 7977 77aa aa59 59ae ae9f 9f25 25d5 d5a6 a661 618d 8d49 49c2 c2a3 a301 018b 8b84 84b9 b951 5120 2024 24cf cf3e 3eec ec46 46de de66</td>\n",
       "      <td>112e 2e67 675e 5ede de8d 8d83 834d 4dbe bede de50 5010 1000 <font color = green>005b</font> <font color = green>5b62</font> 625c 5c00 0000 00cc cc7f 7f19 1928 28bb bb8c 8cfd fd3d 3dc5 c53a 3aa2 a2c7 c79c 9cc3 c3b3 b350 50a9 a970 7056 564e 4e79 7977 77aa aa59 59ae ae9f 9f25 25d5 d5a6 a661 618d 8d49 49c2 c2a3 a301 018b 8b84 84b9 b951 5120 2024 24cf cf3e 3eec ec46 46de de66</td>\n",
       "    </tr>\n",
       "    <tr>\n",
       "      <th>55</th>\n",
       "      <td><font color = green>01bb</font> <font color = green>bb04</font> 0410 1086 8642 420c 0c8e 8e6b 6bb5 b582 82d8 d872 729d 9d18 18ec eced ed12 1252 52ff ffe2 e281 8162 6218 1860 6003 0369 69a5 a5a5 a588 88d3 d3ba ba35 35a7 a7b1 b195 95d5 d55e 5ec7 c790 9004 0419 19a4 a435 3536 366c 6c78 787a 7a59 596c 6cf1 f121 2129 2916 1677 7757 572a 2a28 28dd ddf3 f3f8 f8d8 d8b3 b3ba bac8</td>\n",
       "      <td><font color = green>011f</font> <font color = green>1f04</font> 0410 1086 8642 420c 0c8e 8e6b 6bb5 b582 82d8 d872 729d 9d18 18ec eced ed12 1252 52ff ffe2 e281 8162 6218 1860 6003 0369 69a5 a5a5 a588 88d3 d3ba ba35 35a7 a7b1 b195 95d5 d55e 5ec7 c790 9004 0419 19a4 a435 3536 366c 6c78 787a 7a59 596c 6cf1 f121 2129 2916 1677 7757 572a 2a28 28dd ddf3 f3f8 f8d8 d8b3 b3ba bac8</td>\n",
       "    </tr>\n",
       "    <tr>\n",
       "      <th>56</th>\n",
       "      <td>e340 4000 0000 0001 0101 0108 080a 0a23 2372 7218 183c 3c00 <font color = pink>002d</font> <font color = pink>2d56</font> 5630 3017 1703 0303 0300 0029 2900 0000 0000 0000 0000 0000 0009 0918 18d1 d189 89eb eba9 a987 8753 5382 8213 135f 5f51 51f8 f8b2 b207 0736 3653 53e8 e856 567d 7dfc fcfa fa98 9875 7506 068b 8b37 3786 86d5 d56e 6e61 6153 53c3 c30f 0f00</td>\n",
       "      <td>e340 4000 0000 0001 0101 0108 080a 0a23 2372 7218 183c 3c00 <font color = cyan>0019</font> <font color = cyan>1956</font> 5630 3017 1703 0303 0300 0029 2900 0000 0000 0000 0000 0000 0009 0918 18d1 d189 89eb eba9 a987 8753 5382 8213 135f 5f51 51f8 f8b2 b207 0736 3653 53e8 e856 567d 7dfc fcfa fa98 9875 7506 068b 8b37 3786 86d5 d56e 6e61 6153 53c3 c30f 0f00</td>\n",
       "    </tr>\n",
       "    <tr>\n",
       "      <th>57</th>\n",
       "      <td>03e3 e33b 3bee eee2 e259 5918 18ce cea5 a5e8 e850 <font color = green>5018</font> <font color = green>18a6</font> a668 6804 0446 4600 0000 0017 1703 0303 0300 001e 1e00 0000 0000 0000 0000 0000 0000 0004 04a7 a755 5578 78f6 f61d 1d85 855d 5d4d 4dbb bb1b 1bf5 f58f 8fd6 d67b 7bf9 f9b5 b5c6 c664 64b9 b960 60a9 a9e3</td>\n",
       "      <td>03e3 e33b 3bee eee2 e259 5918 18ce cea5 a5e8 e850 <font color = green>503a</font> <font color = green>3aa6</font> a668 6804 0446 4600 0000 0017 1703 0303 0300 001e 1e00 0000 0000 0000 0000 0000 0000 0004 04a7 a755 5578 78f6 f61d 1d85 855d 5d4d 4dbb bb1b 1bf5 f58f 8fd6 d67b 7bf9 f9b5 b5c6 c664 64b9 b960 60a9 a9e3</td>\n",
       "    </tr>\n",
       "    <tr>\n",
       "      <th>58</th>\n",
       "      <td>b06b 6b00 0000 0001 0101 0108 080a 0a73 737b 7b59 59ef ef00 <font color = brown>0002</font> <font color = brown>0227</font> 271b 1bd3 d3b3 b3ac ac57 572e 2eff ff5b 5bdd dd03 03c1 c113 130e 0e47 47d2 d265 65b8 b866 6653 536e 6e7f 7fbe be52 5229 2949 4994 94cc cce7 e7ba ba95 9576 7645 4574 74ce ce04 043a 3aa7 a705 05f6 f6df dfb9 b928 2884 84e1 e1bc bc5b 5bf1 f152 5211 112c</td>\n",
       "      <td>b06b 6b00 0000 0001 0101 0108 080a 0a73 737b 7b59 59ef ef00 <font color = pink>002c</font> <font color = pink>2c27</font> 271b 1bd3 d3b3 b3ac ac57 572e 2eff ff5b 5bdd dd03 03c1 c113 130e 0e47 47d2 d265 65b8 b866 6653 536e 6e7f 7fbe be52 5229 2949 4994 94cc cce7 e7ba ba95 9576 7645 4574 74ce ce04 043a 3aa7 a705 05f6 f6df dfb9 b928 2884 84e1 e1bc bc5b 5bf1 f152 5211 112c</td>\n",
       "    </tr>\n",
       "    <tr>\n",
       "      <th>59</th>\n",
       "      <td>fdc2 c200 0000 0001 0101 0108 080a <font color = brown>0a7c</font> <font color = brown>7c4e</font> 4e4d 4d32 3200 0002 0284 84be be21 21d2 d22b 2b40 406e 6e0a 0ac2 c20f 0fca caac acbd bd7e 7e8a 8ab5 b5bc bc33 33e3 e365 65e6 e63e 3e7b 7b76 76a2 a2df df26 26a3 a3ea ea68 68eb eb1a 1a52 522b 2b20 2060 60b2 b2a5 a561 6116 1684 84ca ca52 52d9 d9b9 b9b0 b0ce ce74 74d7 d7ba ba6e</td>\n",
       "      <td>fdc2 c200 0000 0001 0101 0108 080a <font color = cyan>0a72</font> <font color = cyan>724e</font> 4e4d 4d32 3200 0002 0284 84be be21 21d2 d22b 2b40 406e 6e0a 0ac2 c20f 0fca caac acbd bd7e 7e8a 8ab5 b5bc bc33 33e3 e365 65e6 e63e 3e7b 7b76 76a2 a2df df26 26a3 a3ea ea68 68eb eb1a 1a52 522b 2b20 2060 60b2 b2a5 a561 6116 1684 84ca ca52 52d9 d9b9 b9b0 b0ce ce74 74d7 d7ba ba6e</td>\n",
       "    </tr>\n",
       "    <tr>\n",
       "      <th>60</th>\n",
       "      <td>ce4c 4c4a <font color = green>4ada</font> <font color = green>dabe</font> bede de00 0002 0210 1095 9500 0000 <font color = green>0032</font> <font color = green>3211</font> 1174 74ae aeae ae6f 6f9a 9aa0 a057 5794 9417 17ed ede8 e8f9 f9e7 e76e 6ea9 a94f 4f4b 4bd9 d901 01d9 d99f 9f27 273b 3bcb cb7a 7abd bd70 7086 868f 8f65 6526 26cc cc03 03b2 b202 0224 24dd dd44 4458 584a 4a6a 6a40 40f8 f830 3025 25c0 c01e 1e94 9483 83c5 c5a3</td>\n",
       "      <td>ce4c 4c4a <font color = pink>4a4c</font> <font color = pink>4cbe</font> bede de00 0002 0210 1095 9500 0000 <font color = pink>0036</font> <font color = pink>3611</font> 1174 74ae aeae ae6f 6f9a 9aa0 a057 5794 9417 17ed ede8 e8f9 f9e7 e76e 6ea9 a94f 4f4b 4bd9 d901 01d9 d99f 9f27 273b 3bcb cb7a 7abd bd70 7086 868f 8f65 6526 26cc cc03 03b2 b202 0224 24dd dd44 4458 584a 4a6a 6a40 40f8 f830 3025 25c0 c01e 1e94 9483 83c5 c5a3</td>\n",
       "    </tr>\n",
       "    <tr>\n",
       "      <th>61</th>\n",
       "      <td><font color = green>ce4c</font> <font color = green>4c4a</font> <font color = green>4ada</font> dabe bede de00 0002 0210 1099 9900 0000 0032 32e3 e3ed ed91 91ec ec9c 9cc1 c1bd bdbb bb0f 0fd8 d89f 9f31 317b 7b64 6451 51a3 a342 4261 610d 0d6e 6e4f 4fe6 e6d2 d243 4363 634e 4ed0 d026 2663 6366 66e4 e47d 7de8 e87a 7abc bcfa fa34 34f7 f76e 6e3a 3ac5 c5ac ac1c 1cc9 c9bf bfd5 d59e 9ebc bcd6 d694 946f 6ffe</td>\n",
       "      <td><font color = red>cefa</font> <font color = red>fa03</font> <font color = red>03da</font> dabe bede de00 0002 0210 1099 9900 0000 0032 32e3 e3ed ed91 91ec ec9c 9cc1 c1bd bdbb bb0f 0fd8 d89f 9f31 317b 7b64 6451 51a3 a342 4261 610d 0d6e 6e4f 4fe6 e6d2 d243 4363 634e 4ed0 d026 2663 6366 66e4 e47d 7de8 e87a 7abc bcfa fa34 34f7 f76e 6e3a 3ac5 c5ac ac1c 1cc9 c9bf bfd5 d59e 9ebc bcd6 d694 946f 6ffe</td>\n",
       "    </tr>\n",
       "    <tr>\n",
       "      <th>62</th>\n",
       "      <td>c98d 8d00 0000 0001 0101 0108 080a 0a73 737b 7b75 75f1 f100 <font color = brown>0002</font> <font color = brown>0243</font> 431c 1c3c 3c58 5855 5554 54ee ee72 7255 55e6 e65a 5aee eee4 e4cc ccd1 d1e7 e7e1 e156 56b3 b331 317b 7b48 4852 52b5 b534 3468 68f4 f4e2 e2a7 a7ae aeb6 b682 82bd bd26 263e 3e7b 7b59 5998 98dd dd0a 0a13 1341 4114 143c 3c86 8699 99d8 d80b 0b7f 7f62 628a</td>\n",
       "      <td>c98d 8d00 0000 0001 0101 0108 080a 0a73 737b 7b75 75f1 f100 <font color = pink>004f</font> <font color = pink>4f43</font> 431c 1c3c 3c58 5855 5554 54ee ee72 7255 55e6 e65a 5aee eee4 e4cc ccd1 d1e7 e7e1 e156 56b3 b331 317b 7b48 4852 52b5 b534 3468 68f4 f4e2 e2a7 a7ae aeb6 b682 82bd bd26 263e 3e7b 7b59 5998 98dd dd0a 0a13 1341 4114 143c 3c86 8699 99d8 d80b 0b7f 7f62 628a</td>\n",
       "    </tr>\n",
       "    <tr>\n",
       "      <th>63</th>\n",
       "      <td>44c1 c100 0000 0001 0101 0108 080a 0a5e 5e76 7696 966b 6b00 <font color = cyan>0017</font> <font color = cyan>17f5</font> f5ad ad4b 4bb4 b4cd cd2f 2f06 063a 3a84 8491 9198 9832 3261 61f4 f4d5 d524 24fe fe33 335c 5cde de44 44c3 c3be be30 3024 2474 7467 67ae ae47 4755 55c9 c9cf cf3e 3e79 793e 3e5c 5c26 2683 839b 9b81 81aa aae6 e6bd bdc7 c701 0125 254d 4d17 1758 58e0 e0b7</td>\n",
       "      <td>44c1 c100 0000 0001 0101 0108 080a 0a5e 5e76 7696 966b 6b00 <font color = green>0049</font> <font color = green>49f5</font> f5ad ad4b 4bb4 b4cd cd2f 2f06 063a 3a84 8491 9198 9832 3261 61f4 f4d5 d524 24fe fe33 335c 5cde de44 44c3 c3be be30 3024 2474 7467 67ae ae47 4755 55c9 c9cf cf3e 3e79 793e 3e5c 5c26 2683 839b 9b81 81aa aae6 e6bd bdc7 c701 0125 254d 4d17 1758 58e0 e0b7</td>\n",
       "    </tr>\n",
       "    <tr>\n",
       "      <th>64</th>\n",
       "      <td>986b 6b00 0000 0001 0101 0108 080a 0a18 18c7 c7ee eeca ca00 <font color = pink>0051</font> <font color = pink>5150</font> 5040 4017 1703 0303 0300 002b 2b00 0000 0000 0000 0000 0000 0004 044e 4eb8 b8cd cd98 98da da4f 4f2f 2fdb db11 11d3 d3b8 b885 85f6 f64a 4a91 9126 2644 445b 5bb2 b261 6113 13de de10 10a9 a9ad ad02 02e6 e6bf bfdd dd51 518d 8daa aae1 e1fa fa05 05fb</td>\n",
       "      <td>986b 6b00 0000 0001 0101 0108 080a 0a18 18c7 c7ee eeca ca00 <font color = cyan>0019</font> <font color = cyan>1950</font> 5040 4017 1703 0303 0300 002b 2b00 0000 0000 0000 0000 0000 0004 044e 4eb8 b8cd cd98 98da da4f 4f2f 2fdb db11 11d3 d3b8 b885 85f6 f64a 4a91 9126 2644 445b 5bb2 b261 6113 13de de10 10a9 a9ad ad02 02e6 e6bf bfdd dd51 518d 8daa aae1 e1fa fa05 05fb</td>\n",
       "    </tr>\n",
       "    <tr>\n",
       "      <th>65</th>\n",
       "      <td><font color = green>ce4c</font> <font color = green>4c4a</font> <font color = green>4ada</font> <font color = green>dabe</font> bede de00 <font color = green>0002</font> <font color = green>0210</font> <font color = green>1091</font> 9100 0000 <font color = green>0032</font> <font color = green>32aa</font> aaf9 f91a 1a41 412c 2ca8 a8bd bd13 1362 6235 352c 2c16 1686 86cc ccd5 d505 05af afd3 d348 4884 84ae ae00 00da da73 73e1 e123 23c1 c16e 6e30 30fc fc40 4016 1671 71c0 c090 9027 270c 0c18 1878 784a 4a9d 9d69 69ca ca57 5741 412c 2c24 24ef efed ed22 226f 6fc7</td>\n",
       "      <td><font color = green>ce8c</font> <font color = green>8c4a</font> <font color = green>4a55</font> <font color = green>55be</font> bede de00 <font color = green>0051</font> <font color = green>5168</font> <font color = green>6891</font> 9100 0000 <font color = green>0002</font> <font color = green>02aa</font> aaf9 f91a 1a41 412c 2ca8 a8bd bd13 1362 6235 352c 2c16 1686 86cc ccd5 d505 05af afd3 d348 4884 84ae ae00 00da da73 73e1 e123 23c1 c16e 6e30 30fc fc40 4016 1671 71c0 c090 9027 270c 0c18 1878 784a 4a9d 9d69 69ca ca57 5741 412c 2c24 24ef efed ed22 226f 6fc7</td>\n",
       "    </tr>\n",
       "    <tr>\n",
       "      <th>66</th>\n",
       "      <td><font color = green>03e1</font> <font color = green>e1d9</font> d977 7735 35b5 b51e 1e22 2279 <font color = green>799e</font> <font color = green>9e50</font> 5018 18ff ffff ff04 044f <font color = green>4f00</font> <font color = green>0000</font> 0017 1703 0303 <font color = green>0300</font> <font color = green>0027</font> 2700 0000 <font color = green>0000</font> <font color = green>0000</font> <font color = green>0000</font> <font color = green>0000</font> <font color = green>0003</font> 03bf bfec ec0f 0f36 36fe fe23 23a6 a63b 3b70 7046 461e 1eed ed60 60d3 d378 78ef efb1 b113 1376 762f 2f1a 1aee ee5e 5e63 6368 6888 88fd fde8 e85c 5c22 224a 4aca</td>\n",
       "      <td><font color = green>0376</font> <font color = green>76d9</font> d977 7735 35b5 b51e 1e22 2279 <font color = green>79e9</font> <font color = green>e950</font> 5018 18ff ffff ff04 044f <font color = green>4fb0</font> <font color = green>b000</font> 0017 1703 0303 <font color = green>03f6</font> <font color = green>f627</font> 2700 0000 <font color = green>00f1</font> <font color = green>f1d0</font> <font color = green>d000</font> <font color = green>00a7</font> <font color = green>a703</font> 03bf bfec ec0f 0f36 36fe fe23 23a6 a63b 3b70 7046 461e 1eed ed60 60d3 d378 78ef efb1 b113 1376 762f 2f1a 1aee ee5e 5e63 6368 6888 88fd fde8 e85c 5c22 224a 4aca</td>\n",
       "    </tr>\n",
       "    <tr>\n",
       "      <th>67</th>\n",
       "      <td>df6c 6cd1 d1bc bcd9 d974 747e 7ed8 d826 2635 3580 8010 1008 <font color = yellow>0800</font> <font color = yellow>0021</font> 21c0 c000 0000 0001 <font color = yellow>0101</font> <font color = yellow>0108</font> <font color = yellow>080a</font> <font color = yellow>0a88</font> 88eb ebd3 d37f 7f01 012a 2a0f 0f36 363e 3e69 6943 4370 70ed edf9 f959 5930 30a2 a2f6 f651 517c 7c07 07c6 c6cf cff4 f4c5 c545 45d2 d25b 5bc0 c0ad ad70 70f8 f815 153a 3ac5 c522 <font color = yellow>2222</font> <font color = yellow>22a0</font> a0e5 e5f7 f743 438f 8f1a</td>\n",
       "      <td>df6c 6cd1 d1bc bcd9 d974 747e 7ed8 d826 2635 3580 8010 1008 <font color = purple>081a</font> <font color = purple>1a21</font> 21c0 c000 0000 0001 <font color = purple>01a6</font> <font color = purple>a608</font> <font color = purple>0803</font> <font color = purple>0388</font> 88eb ebd3 d37f 7f01 012a 2a0f 0f36 363e 3e69 6943 4370 70ed edf9 f959 5930 30a2 a2f6 f651 517c 7c07 07c6 c6cf cff4 f4c5 c545 45d2 d25b 5bc0 c0ad ad70 70f8 f815 153a 3ac5 c522 <font color = purple>22f0</font> <font color = purple>f0a0</font> a0e5 e5f7 f743 438f 8f1a</td>\n",
       "    </tr>\n",
       "    <tr>\n",
       "      <th>68</th>\n",
       "      <td>c62d 2d00 <font color = gray>0000</font> <font color = gray>0001</font> 0101 0108 080a 0a00 0022 2225 2539 391a 1aa4 a4db db79 7995 95d7 d741 4166 66ab ab6a 6a29 292e 2e9f 9f64 6400 0086 86d1 d141 416a 6a47 47a5 a5b0 b0ee ee5a 5a9b 9b02 0275 75ff ff98 983b 3b6d 6d4a 4a4f 4f28 281b 1b3a 3a9d 9d9d 9dc7 c7fb fb22 2212 12cb cbbc bcfd fd40 404f 4fea eacb cbfb fb16 1672 7266</td>\n",
       "      <td>c62d 2d00 <font color = green>005b</font> <font color = green>5b01</font> 0101 0108 080a 0a00 0022 2225 2539 391a 1aa4 a4db db79 7995 95d7 d741 4166 66ab ab6a 6a29 292e 2e9f 9f64 6400 0086 86d1 d141 416a 6a47 47a5 a5b0 b0ee ee5a 5a9b 9b02 0275 75ff ff98 983b 3b6d 6d4a 4a4f 4f28 281b 1b3a 3a9d 9d9d 9dc7 c7fb fb22 2212 12cb cbbc bcfd fd40 404f 4fea eacb cbfb fb16 1672 7266</td>\n",
       "    </tr>\n",
       "    <tr>\n",
       "      <th>69</th>\n",
       "      <td>1e9d 9d00 0000 0001 0101 0108 080a 0a37 370b 0bc6 c6b7 b700 <font color = brown>0002</font> <font color = brown>028c</font> 8ce7 e7b6 b6cb cbfe fed0 d042 423c 3cca ca19 194d 4d1c 1c75 7519 195e 5e8a 8a20 20f6 f681 816d 6dab ab73 73cf cfc7 c732 3201 01bb bb3f 3fc2 c254 54c0 c0d5 d558 58a0 a03b 3b90 900b 0b93 9356 5630 3034 3420 20c6 c664 640c 0cbd bd93 9302 0253 53c1 c17e</td>\n",
       "      <td>1e9d 9d00 0000 0001 0101 0108 080a 0a37 370b 0bc6 c6b7 b700 <font color = pink>0046</font> <font color = pink>468c</font> 8ce7 e7b6 b6cb cbfe fed0 d042 423c 3cca ca19 194d 4d1c 1c75 7519 195e 5e8a 8a20 20f6 f681 816d 6dab ab73 73cf cfc7 c732 3201 01bb bb3f 3fc2 c254 54c0 c0d5 d558 58a0 a03b 3b90 900b 0b93 9356 5630 3034 3420 20c6 c664 640c 0cbd bd93 9302 0253 53c1 c17e</td>\n",
       "    </tr>\n",
       "    <tr>\n",
       "      <th>70</th>\n",
       "      <td>01bb <font color = red>bbf0</font> <font color = red>f078</font> 78bd bd19 1973 73ec ec2d 2dd5 d550 5010 10fd fd20 20d4 d431 3100 0000 00fc fce2 e248 487b 7b4a 4add ddd8 d819 1961 61e4 e496 969c 9c3c 3ce2 e2aa aaf5 f528 283f 3f94 94e2 e289 89c9 c980 8052 52a6 a614 1453 53f7 f7d0 d0cb cbb3 b33e 3ea9 a973 731b 1b4b 4b41 411a 1a9c 9c63 634c 4c81 8106 060a 0af8 f85d 5d3a</td>\n",
       "      <td>01bb <font color = green>bb94</font> <font color = green>9478</font> 78bd bd19 1973 73ec ec2d 2dd5 d550 5010 10fd fd20 20d4 d431 3100 0000 00fc fce2 e248 487b 7b4a 4add ddd8 d819 1961 61e4 e496 969c 9c3c 3ce2 e2aa aaf5 f528 283f 3f94 94e2 e289 89c9 c980 8052 52a6 a614 1453 53f7 f7d0 d0cb cbb3 b33e 3ea9 a973 731b 1b4b 4b41 411a 1a9c 9c63 634c 4c81 8106 060a 0af8 f85d 5d3a</td>\n",
       "    </tr>\n",
       "    <tr>\n",
       "      <th>71</th>\n",
       "      <td>5de5 e500 0007 07aa aa35 35ba ba96 <font color = green>9690</font> <font color = green>90c1</font> c1a9 a99d 9dea eae4 e413 1322 22f7 f768 689d 9d7b 7b0c 0cea eab4 b4dc dc88 8804 0440 403b 3bca ca4a 4a9b 9b22 2259 592e 2ec5 c54a 4ae9 e942 42bd bd0d 0dba ba98 989b 9b5b 5b9e 9e0f 0f55 5519 1918 18bd bdf3 f322 2248 485c 5cd5 d599 99b7 b780 809b 9b88 881b 1bc6 c66d 6d1e 1ef5</td>\n",
       "      <td>5de5 e500 0007 07aa aa35 35ba ba96 <font color = red>9675</font> <font color = red>75c1</font> c1a9 a99d 9dea eae4 e413 1322 22f7 f768 689d 9d7b 7b0c 0cea eab4 b4dc dc88 8804 0440 403b 3bca ca4a 4a9b 9b22 2259 592e 2ec5 c54a 4ae9 e942 42bd bd0d 0dba ba98 989b 9b5b 5b9e 9e0f 0f55 5519 1918 18bd bdf3 f322 2248 485c 5cd5 d599 99b7 b780 809b 9b88 881b 1bc6 c66d 6d1e 1ef5</td>\n",
       "    </tr>\n",
       "    <tr>\n",
       "      <th>72</th>\n",
       "      <td>ac4a 4a05 <font color = blue>0562</font> <font color = blue>62e2</font> e2bb bb1e 1e13 134d 4db4 b4a6 a6d4 d490 9054 54b9 b90f 0fd6 d6dd dded ed39 39b1 b195 95fb fb7e 7ed9 d9b8 b878 78e0 e03e 3eb2 b227 277a 7a48 4894 9417 17b2 b2f4 f407 07ae aec5 c533 3370 703f 3f7a 7a5d 5d50 50a9 a9a1 a1ac acb9 b921 21a5 a50f 0f94 94a2 a242 4245 45bb bbce ce5a 5a63 635f 5f0a 0a87 8778</td>\n",
       "      <td>ac4a 4a05 <font color = green>0545</font> <font color = green>45e2</font> e2bb bb1e 1e13 134d 4db4 b4a6 a6d4 d490 9054 54b9 b90f 0fd6 d6dd dded ed39 39b1 b195 95fb fb7e 7ed9 d9b8 b878 78e0 e03e 3eb2 b227 277a 7a48 4894 9417 17b2 b2f4 f407 07ae aec5 c533 3370 703f 3f7a 7a5d 5d50 50a9 a9a1 a1ac acb9 b921 21a5 a50f 0f94 94a2 a242 4245 45bb bbce ce5a 5a63 635f 5f0a 0a87 8778</td>\n",
       "    </tr>\n",
       "    <tr>\n",
       "      <th>73</th>\n",
       "      <td>c56a 6a00 0000 0001 0101 0108 080a 0a7c 7c4e 4e81 8168 6800 <font color = brown>0002</font> <font color = brown>02b8</font> b8f7 f71a 1a28 2805 058e 8e01 010c 0c1a 1a02 0254 54ca ca89 89d3 d361 61c3 c321 2111 1144 4480 8023 2392 92d0 d071 7125 25ad ad51 5133 3300 0034 34d2 d253 5366 66b0 b0c5 c5d4 d478 78a0 a029 2919 1982 8211 11b6 b620 2029 29d4 d449 4964 6492 9247 474a</td>\n",
       "      <td>c56a 6a00 0000 0001 0101 0108 080a 0a7c 7c4e 4e81 8168 6800 <font color = pink>0056</font> <font color = pink>56b8</font> b8f7 f71a 1a28 2805 058e 8e01 010c 0c1a 1a02 0254 54ca ca89 89d3 d361 61c3 c321 2111 1144 4480 8023 2392 92d0 d071 7125 25ad ad51 5133 3300 0034 34d2 d253 5366 66b0 b0c5 c5d4 d478 78a0 a029 2919 1982 8211 11b6 b620 2029 29d4 d449 4964 6492 9247 474a</td>\n",
       "    </tr>\n",
       "    <tr>\n",
       "      <th>74</th>\n",
       "      <td>2ca2 a200 0000 0001 0101 0108 080a <font color = red>0ac1</font> <font color = red>c128</font> 280d 0d54 5402 0276 7679 79b6 b610 10a4 a472 72ff ffe1 e152 52ba bad6 d6e2 e287 87d9 d90c 0c4b 4b67 67d7 d7ac ac63 63bb bb20 2079 7921 2165 654c 4ca8 a863 63a5 a5a6 a66c 6c5d 5d2a 2af8 f812 1212 12e5 e5ce ce07 0725 25ae ae26 26be be7b 7b3b 3b8b 8bd0 d0e5 e5cb cb50 50e5 e5fa</td>\n",
       "      <td>2ca2 a200 0000 0001 0101 0108 080a <font color = green>0a40</font> <font color = green>4028</font> 280d 0d54 5402 0276 7679 79b6 b610 10a4 a472 72ff ffe1 e152 52ba bad6 d6e2 e287 87d9 d90c 0c4b 4b67 67d7 d7ac ac63 63bb bb20 2079 7921 2165 654c 4ca8 a863 63a5 a5a6 a66c 6c5d 5d2a 2af8 f812 1212 12e5 e5ce ce07 0725 25ae ae26 26be be7b 7b3b 3b8b 8bd0 d0e5 e5cb cb50 50e5 e5fa</td>\n",
       "    </tr>\n",
       "    <tr>\n",
       "      <th>75</th>\n",
       "      <td>2d92 9200 <font color = green>005b</font> <font color = green>5bb6</font> b623 2347 4746 4667 67b5 b583 839b 9b9b 9bfd fd82 82ac acda dab9 b961 61ab ab3e 3eea ea31 311d 1d8a 8af4 f439 39ad ad0e 0ea6 a6d8 d81b 1bfe feac ac99 9943 43af afff ff9e 9e72 722c 2c19 1912 125a 5ac1 c1ea ea41 41a3 a300 00eb eb67 6757 5770 7093 93f8 f86a 6ae6 e6dd ddd0 d0a5 a594 9405 05b3 b331 319f</td>\n",
       "      <td>2d92 9200 <font color = green>0031</font> <font color = green>31b6</font> b623 2347 4746 4667 67b5 b583 839b 9b9b 9bfd fd82 82ac acda dab9 b961 61ab ab3e 3eea ea31 311d 1d8a 8af4 f439 39ad ad0e 0ea6 a6d8 d81b 1bfe feac ac99 9943 43af afff ff9e 9e72 722c 2c19 1912 125a 5ac1 c1ea ea41 41a3 a300 00eb eb67 6757 5770 7093 93f8 f86a 6ae6 e6dd ddd0 d0a5 a594 9405 05b3 b331 319f</td>\n",
       "    </tr>\n",
       "    <tr>\n",
       "      <th>76</th>\n",
       "      <td>e3af af5e 5e27 27eb eb28 <font color = yellow>2870</font> <font color = yellow>706a</font> 6a2f 2f3f <font color = yellow>3f80</font> <font color = yellow>8010</font> <font color = yellow>1008</font> <font color = yellow>0800</font> 001b 1b9a 9a00 0000 0001 0101 <font color = yellow>0108</font> <font color = yellow>080a</font> 0a0a 0af2 f235 3585 8501 0124 24f3 f3af afe2 e2a4 a4be beff ff97 9796 960f 0f30 306c 6cf9 f9eb eb4d 4d0c 0c32 320d 0d37 3746 46c7 c710 1016 16d1 d15a 5a08 <font color = yellow>0871</font> <font color = yellow>7193</font> 9314 14ba ba33 334a <font color = yellow>4ada</font> <font color = yellow>da8c</font> 8c17 <font color = yellow>17b2</font> <font color = yellow>b26f</font> 6f35</td>\n",
       "      <td>e3af af5e 5e27 27eb eb28 <font color = purple>282f</font> <font color = purple>2f6a</font> 6a2f 2f3f <font color = purple>3f90</font> <font color = purple>9010</font> <font color = purple>105e</font> <font color = purple>5e00</font> 001b 1b9a 9a00 0000 0001 0101 <font color = purple>0134</font> <font color = purple>340a</font> 0a0a 0af2 f235 3585 8501 0124 24f3 f3af afe2 e2a4 a4be beff ff97 9796 960f 0f30 306c 6cf9 f9eb eb4d 4d0c 0c32 320d 0d37 3746 46c7 c710 1016 16d1 d15a 5a08 <font color = purple>0859</font> <font color = purple>5993</font> 9314 14ba ba33 334a <font color = purple>4a7a</font> <font color = purple>7a8c</font> 8c17 <font color = purple>1745</font> <font color = purple>456f</font> 6f35</td>\n",
       "    </tr>\n",
       "    <tr>\n",
       "      <th>77</th>\n",
       "      <td>1e29 2900 <font color = gray>0000</font> <font color = gray>0001</font> 0101 0108 080a 0a00 0022 2211 11ba ba1a 1aa4 a4c7 c7f8 f884 8492 92bc bc38 38d5 d59a 9a36 36d7 d7d4 d405 0574 74f8 f858 58f4 f4d4 d416 1660 606c 6cbf bf5a 5a2b 2b24 24af af8c 8c19 19e8 e8fb fbc6 c632 321a 1aca ca90 9059 5992 9248 48b1 b182 8229 294c 4c5a 5aea ea4d 4d3d 3dbd bd7c 7ccf cfa9 a924 24b2</td>\n",
       "      <td>1e29 2900 <font color = pink>003f</font> <font color = pink>3f01</font> 0101 0108 080a 0a00 0022 2211 11ba ba1a 1aa4 a4c7 c7f8 f884 8492 92bc bc38 38d5 d59a 9a36 36d7 d7d4 d405 0574 74f8 f858 58f4 f4d4 d416 1660 606c 6cbf bf5a 5a2b 2b24 24af af8c 8c19 19e8 e8fb fbc6 c632 321a 1aca ca90 9059 5992 9248 48b1 b182 8229 294c 4c5a 5aea ea4d 4d3d 3dbd bd7c 7ccf cfa9 a924 24b2</td>\n",
       "    </tr>\n",
       "    <tr>\n",
       "      <th>78</th>\n",
       "      <td>7a71 7100 0000 0001 0101 0108 080a 0a37 370b 0bc9 c9d4 d400 <font color = brown>0002</font> <font color = brown>0290</font> 9003 0369 69ae ae26 2679 7933 3336 36db db38 3828 28a3 a3e7 e71e 1e4f 4fd5 d566 6651 51c8 c8aa aa95 9569 69d3 d384 8446 46b3 b3de de0f 0f91 9119 190c 0cbf bf27 278a 8a50 506b 6b0c 0cf5 f5b1 b1bf bf28 28ff ff57 579a 9aa8 a881 8107 0731 319c 9cee ee55</td>\n",
       "      <td>7a71 7100 0000 0001 0101 0108 080a 0a37 370b 0bc9 c9d4 d400 <font color = pink>0050</font> <font color = pink>5090</font> 9003 0369 69ae ae26 2679 7933 3336 36db db38 3828 28a3 a3e7 e71e 1e4f 4fd5 d566 6651 51c8 c8aa aa95 9569 69d3 d384 8446 46b3 b3de de0f 0f91 9119 190c 0cbf bf27 278a 8a50 506b 6b0c 0cf5 f5b1 b1bf bf28 28ff ff57 579a 9aa8 a881 8107 0731 319c 9cee ee55</td>\n",
       "    </tr>\n",
       "    <tr>\n",
       "      <th>79</th>\n",
       "      <td>a441 41ff ff03 0372 7228 2894 94a6 a684 84ba ba80 8018 <font color = orange>1805</font> <font color = orange>055d</font> 5d10 106f 6f00 0000 0001 0101 0108 080a 0a32 327c 7cba bad2 d203 0389 8946 4678 7817 1703 <font color = orange>0303</font> <font color = orange>0300</font> 008d 8d00 0000 0000 0000 0000 0000 0009 09a1 a199 9915 1597 97d8 d89b 9b59 593b 3b2c 2cdd ddad ad08 08a0 a0aa aa5b 5bdb dbe5 e5c4 c480 80ff ff16 1655 556b</td>\n",
       "      <td>a441 41ff ff03 0372 7228 2894 94a6 a684 84ba ba80 8018 <font color = blue>1814</font> <font color = blue>145d</font> 5d10 106f 6f00 0000 0001 0101 0108 080a 0a32 327c 7cba bad2 d203 0389 8946 4678 7817 1703 <font color = blue>0399</font> <font color = blue>9900</font> 008d 8d00 0000 0000 0000 0000 0000 0009 09a1 a199 9915 1597 97d8 d89b 9b59 593b 3b2c 2cdd ddad ad08 08a0 a0aa aa5b 5bdb dbe5 e5c4 c480 80ff ff16 1655 556b</td>\n",
       "    </tr>\n",
       "    <tr>\n",
       "      <th>80</th>\n",
       "      <td>c065 6500 <font color = green>0070</font> <font color = green>70de</font> deb3 b300 003e 3e05 05a2 a2e5 e5c4 c4eb eb42 42ed ed02 0200 0059 59a6 a62d 2da3 a34f 4fdd dda3 a315 150b 0b2f 2f03 0385 8504 0490 9010 107c 7c59 59e6 e6f0 f046 46e0 e0b5 b55a 5a66 662f 2f50 50cc cc37 3771 7175 755f 5fa6 a6eb ebb5 b555 5508 084d 4dca ca54 545c 5c8e 8e87 8706 06cf cf0d 0d69 69b3 b35d</td>\n",
       "      <td>c065 6500 <font color = pink>0000</font> <font color = pink>00de</font> deb3 b300 003e 3e05 05a2 a2e5 e5c4 c4eb eb42 42ed ed02 0200 0059 59a6 a62d 2da3 a34f 4fdd dda3 a315 150b 0b2f 2f03 0385 8504 0490 9010 107c 7c59 59e6 e6f0 f046 46e0 e0b5 b55a 5a66 662f 2f50 50cc cc37 3771 7175 755f 5fa6 a6eb ebb5 b555 5508 084d 4dca ca54 545c 5c8e 8e87 8706 06cf cf0d 0d69 69b3 b35d</td>\n",
       "    </tr>\n",
       "    <tr>\n",
       "      <th>81</th>\n",
       "      <td><font color = yellow>859b</font> <font color = yellow>9b43</font> <font color = yellow>4377</font> <font color = yellow>772c</font> 2c6e 6e61 <font color = yellow>61fd</font> <font color = yellow>fd49</font> 49d6 d680 8010 1002 0214 1428 282e 2e00 0000 <font color = yellow>0001</font> <font color = yellow>0101</font> 0108 080a 0ab0 b041 4135 3598 9801 011e 1e68 68a5 a5d3 d3c1 c16c 6c9b 9b9c 9cb3 b3fa fade de1c 1c14 1426 261b 1bcd cd13 13c8 c8d8 d8d9 d961 6183 83c6 <font color = yellow>c665</font> <font color = yellow>65d8</font> d810 10b4 b421 213a 3a7a 7ac4 c4a8 a80a 0acc cc52 52a1 a167 67cf</td>\n",
       "      <td><font color = red>85b3</font> <font color = red>b343</font> <font color = red>436a</font> <font color = red>6a2c</font> 2c6e 6e61 <font color = red>6114</font> <font color = red>1449</font> 49d6 d680 8010 1002 0214 1428 282e 2e00 0000 <font color = red>0058</font> <font color = red>5801</font> 0108 080a 0ab0 b041 4135 3598 9801 011e 1e68 68a5 a5d3 d3c1 c16c 6c9b 9b9c 9cb3 b3fa fade de1c 1c14 1426 261b 1bcd cd13 13c8 c8d8 d8d9 d961 6183 83c6 <font color = red>c634</font> <font color = red>34d8</font> d810 10b4 b421 213a 3a7a 7ac4 c4a8 a80a 0acc cc52 52a1 a167 67cf</td>\n",
       "    </tr>\n",
       "    <tr>\n",
       "      <th>82</th>\n",
       "      <td><font color = blue>ac4a</font> <font color = blue>4a05</font> <font color = blue>0562</font> <font color = blue>6241</font> 4187 87f2 f290 905d 5d29 29f4 f441 413e 3ed0 d064 64bb bb82 82a3 a328 2899 997d 7d8b 8b3a 3a74 746d 6d97 97da da49 49e5 e50f 0f95 95dc dcb4 b480 8068 68b1 b1eb eba3 a342 4261 613e 3ea9 a983 83ad addd ddd6 d658 58b1 b1bd bdb9 b903 036a 6a16 160e 0e53 5376 7620 2047 4701 01fa faa7 a754 5473 73c8 c82b</td>\n",
       "      <td><font color = green>acd3</font> <font color = green>d305</font> <font color = green>052a</font> <font color = green>2a41</font> 4187 87f2 f290 905d 5d29 29f4 f441 413e 3ed0 d064 64bb bb82 82a3 a328 2899 997d 7d8b 8b3a 3a74 746d 6d97 97da da49 49e5 e50f 0f95 95dc dcb4 b480 8068 68b1 b1eb eba3 a342 4261 613e 3ea9 a983 83ad addd ddd6 d658 58b1 b1bd bdb9 b903 036a 6a16 160e 0e53 5376 7620 2047 4701 01fa faa7 a754 5473 73c8 c82b</td>\n",
       "    </tr>\n",
       "    <tr>\n",
       "      <th>83</th>\n",
       "      <td>8581 <font color = yellow>813a</font> <font color = yellow>3a2d</font> 2d8b 8b9e <font color = yellow>9ebd</font> <font color = yellow>bd3b</font> 3b03 038f 8f80 8010 1002 0229 291d 1dba ba00 <font color = yellow>0000</font> <font color = yellow>0001</font> 0101 0108 080a <font color = yellow>0ab0</font> <font color = yellow>b039</font> 39d5 d5ae ae01 011c 1c90 90ab ab32 323e 3e89 891d 1d19 194f <font color = yellow>4f80</font> <font color = yellow>804f</font> 4f1b 1b1f 1ff8 f835 35d7 d778 78d0 d02a 2a05 <font color = yellow>05a3</font> <font color = yellow>a37e</font> 7e8b 8b38 3808 08c7 c784 849d 9d23 2311 1130 30a2 a2bf bf9e 9e52 5287 8792 9273</td>\n",
       "      <td>8581 <font color = blue>8100</font> <font color = blue>002d</font> 2d8b 8b9e <font color = blue>9e12</font> <font color = blue>123b</font> 3b03 038f 8f80 8010 1002 0229 291d 1dba ba00 <font color = blue>000b</font> <font color = blue>0b01</font> 0101 0108 080a <font color = blue>0a00</font> <font color = blue>0039</font> 39d5 d5ae ae01 011c 1c90 90ab ab32 323e 3e89 891d 1d19 194f <font color = blue>4f68</font> <font color = blue>684f</font> 4f1b 1b1f 1ff8 f835 35d7 d778 78d0 d02a 2a05 <font color = blue>05d0</font> <font color = blue>d07e</font> 7e8b 8b38 3808 08c7 c784 849d 9d23 2311 1130 30a2 a2bf bf9e 9e52 5287 8792 9273</td>\n",
       "    </tr>\n",
       "    <tr>\n",
       "      <th>84</th>\n",
       "      <td><font color = green>ce4c</font> <font color = green>4c4a</font> <font color = green>4ada</font> dabe bede de00 0002 0210 10a7 a700 0000 0032 32f2 f2e9 e917 17d4 d40d 0d6c 6c79 790a 0aaa aa05 0544 4445 4509 09b5 b573 7357 57a5 a5b3 b3d7 d7a0 a03f 3fe8 e8cc cc9e 9e54 54a0 a0d9 d9a0 a07b 7b9e 9e32 3254 54cf cf47 471e 1ed8 d870 7091 91ad ad25 2581 813e 3eb5 b5ec ecf4 f4e7 e7e4 e4c8 c8c7 c708 0821 2109</td>\n",
       "      <td><font color = red>cef0</font> <font color = red>f002</font> <font color = red>02da</font> dabe bede de00 0002 0210 10a7 a700 0000 0032 32f2 f2e9 e917 17d4 d40d 0d6c 6c79 790a 0aaa aa05 0544 4445 4509 09b5 b573 7357 57a5 a5b3 b3d7 d7a0 a03f 3fe8 e8cc cc9e 9e54 54a0 a0d9 d9a0 a07b 7b9e 9e32 3254 54cf cf47 471e 1ed8 d870 7091 91ad ad25 2581 813e 3eb5 b5ec ecf4 f4e7 e7e4 e4c8 c8c7 c708 0821 2109</td>\n",
       "    </tr>\n",
       "    <tr>\n",
       "      <th>85</th>\n",
       "      <td>dd02 <font color = yellow>02ef</font> <font color = yellow>ef4a</font> <font color = yellow>4a9b</font> 9b40 40f0 f029 <font color = yellow>29e0</font> <font color = yellow>e058</font> <font color = yellow>5880</font> 8010 1002 020f 0f28 2828 2800 0000 <font color = yellow>0001</font> <font color = yellow>0101</font> 0108 <font color = yellow>080a</font> <font color = yellow>0a05</font> 0587 8733 330d 0d01 0123 2318 1881 8174 741d 1d61 6114 1490 904b 4bbf bf80 803d 3d6c 6cb5 b587 8732 3212 1269 697a 7a0b 0b4a 4a3b 3b8d 8d7c 7c0b 0bee eebf bfb9 b950 5076 763a 3abb bbc3 c39b 9bb2 <font color = yellow>b2c8</font> <font color = yellow>c888</font> 886d</td>\n",
       "      <td>dd02 <font color = red>0217</font> <font color = red>17a9</font> <font color = red>a99b</font> 9b40 40f0 f029 <font color = red>291c</font> <font color = red>1ce4</font> <font color = red>e480</font> 8010 1002 020f 0f28 2828 2800 0000 <font color = red>00b4</font> <font color = red>b401</font> 0108 <font color = red>087a</font> <font color = red>7a05</font> 0587 8733 330d 0d01 0123 2318 1881 8174 741d 1d61 6114 1490 904b 4bbf bf80 803d 3d6c 6cb5 b587 8732 3212 1269 697a 7a0b 0b4a 4a3b 3b8d 8d7c 7c0b 0bee eebf bfb9 b950 5076 763a 3abb bbc3 c39b 9bb2 <font color = red>b227</font> <font color = red>2788</font> 886d</td>\n",
       "    </tr>\n",
       "    <tr>\n",
       "      <th>86</th>\n",
       "      <td><font color = orange>4b69</font> <font color = orange>6900</font> 001e 1ef1 f1a1 a180 80c9 c900 0001 0160 60b5 b501 0149 4980 8000 0012 12ad adde deaf afaf af30 3083 83d1 d1c9 c9f1 f165 65a2</td>\n",
       "      <td><font color = green>4b95</font> <font color = green>9500</font> 001e 1ef1 f1a1 a180 80c9 c900 0001 0160 60b5 b501 0149 4980 8000 0012 12ad adde deaf afaf af30 3083 83d1 d1c9 c9f1 f165 65a2</td>\n",
       "    </tr>\n",
       "    <tr>\n",
       "      <th>87</th>\n",
       "      <td>96c7 c700 0000 0001 0101 0108 080a 0a00 <font color = gray>0021</font> <font color = gray>21ae</font> ae11 111a 1aa4 a464 6452 5247 4719 1959 59ff ff4a 4a33 3314 14af aff4 f4f6 f62d 2dd6 d6da daaa aaa0 a0e6 e600 0064 6416 16ad ad98 98a1 a17d 7df0 f0f5 f592 927b 7bdc dc92 92ee ee4d 4def ef6d 6ded ed84 8471 71b1 b13e 3e79 7923 2315 15f5 f5da daee ee9e 9ecb cb60 60ca ca54</td>\n",
       "      <td>96c7 c700 0000 0001 0101 0108 080a 0a00 <font color = pink>003f</font> <font color = pink>3fae</font> ae11 111a 1aa4 a464 6452 5247 4719 1959 59ff ff4a 4a33 3314 14af aff4 f4f6 f62d 2dd6 d6da daaa aaa0 a0e6 e600 0064 6416 16ad ad98 98a1 a17d 7df0 f0f5 f592 927b 7bdc dc92 92ee ee4d 4def ef6d 6ded ed84 8471 71b1 b13e 3e79 7923 2315 15f5 f5da daee ee9e 9ecb cb60 60ca ca54</td>\n",
       "    </tr>\n",
       "    <tr>\n",
       "      <th>88</th>\n",
       "      <td>d3aa aa00 <font color = blue>0023</font> <font color = blue>23f5</font> f548 48d6 d654 540d 0d53 53dd ddcb cb8a 8aa7 <font color = blue>a745</font> <font color = blue>45f9</font> f98f 8f5d 5d65 65d5 d52f 2fe8 e839 3982 82e7 e781 81cb cb93 934c 4ca7 a700 00bc bc19</td>\n",
       "      <td>d3aa aa00 <font color = green>005b</font> <font color = green>5bf5</font> f548 48d6 d654 540d 0d53 53dd ddcb cb8a 8aa7 <font color = green>a72d</font> <font color = green>2df9</font> f98f 8f5d 5d65 65d5 d52f 2fe8 e839 3982 82e7 e781 81cb cb93 934c 4ca7 a700 00bc bc19</td>\n",
       "    </tr>\n",
       "    <tr>\n",
       "      <th>89</th>\n",
       "      <td>04a3 a300 0000 0001 0101 0108 080a 0a1a 1aa6 a639 39ad ad00 <font color = gray>0023</font> <font color = gray>2383</font> 8333 335b 5b3f 3fa5 a54b 4b86 8644 4404 042f 2f0e 0e12 1298 9823 23e0 e047 47a7 a7ce ce5b 5b6d 6dea ea9c 9c05 0564 6451 519a 9aa8 a84f 4f87 87e3 e3fb fbd5 d594 9472 724a 4afe fea4 a497 9713 13a0 a0f3 f395 9515 15fe fe84 848c 8c9e 9e29 2941 41d2 d254</td>\n",
       "      <td>04a3 a300 0000 0001 0101 0108 080a 0a1a 1aa6 a639 39ad ad00 <font color = pink>003e</font> <font color = pink>3e83</font> 8333 335b 5b3f 3fa5 a54b 4b86 8644 4404 042f 2f0e 0e12 1298 9823 23e0 e047 47a7 a7ce ce5b 5b6d 6dea ea9c 9c05 0564 6451 519a 9aa8 a84f 4f87 87e3 e3fb fbd5 d594 9472 724a 4afe fea4 a497 9713 13a0 a0f3 f395 9515 15fe fe84 848c 8c9e 9e29 2941 41d2 d254</td>\n",
       "    </tr>\n",
       "    <tr>\n",
       "      <th>90</th>\n",
       "      <td>eb55 5500 <font color = green>005b</font> <font color = green>5b06</font> 06aa aa47 4731 3142 42b7 b78f 8f92 9211 11df df90 9084 8444 443a 3ad2 d23e 3e8b 8b49 4979 791d 1d9b 9b47 4750 5057 57ed edae aef0 f018 186e 6ee7 e74f 4fc1 c126 26e6 e6b9 b962 6235 35c3 c359 595b 5bcb cb5a 5aa9 a9bb bb71 71d8 d8ed edff ff58 5878 78a6 a667 67a1 a17d <font color = green>7d7a</font> <font color = green>7abd</font> bdb5 b53c 3c4b 4b92 927e</td>\n",
       "      <td>eb55 5500 <font color = cyan>0000</font> <font color = cyan>0006</font> 06aa aa47 4731 3142 42b7 b78f 8f92 9211 11df df90 9084 8444 443a 3ad2 d23e 3e8b 8b49 4979 791d 1d9b 9b47 4750 5057 57ed edae aef0 f018 186e 6ee7 e74f 4fc1 c126 26e6 e6b9 b962 6235 35c3 c359 595b 5bcb cb5a 5aa9 a9bb bb71 71d8 d8ed edff ff58 5878 78a6 a667 67a1 a17d <font color = cyan>7d1c</font> <font color = cyan>1cbd</font> bdb5 b53c 3c4b 4b92 927e</td>\n",
       "    </tr>\n",
       "    <tr>\n",
       "      <th>91</th>\n",
       "      <td>a8b0 b000 0000 0001 0101 0108 080a <font color = red>0a79</font> <font color = red>7991</font> 91fa fa56 5602 0261 6124 24bb bb32 3246 46e0 e068 687b 7bf0 f008 08ea ea59 59ab aba7 a7be be2d 2dfb fb75 754a 4aab ab24 24cf cf26 26d3 d3d8 d813 13d5 d5a6 a6e1 e133 332f 2f38 3811 1188 88d0 d008 088e 8e28 2893 93a3 a397 9728 28b8 b8f1 f1dc dcea ea78 78b6 b6ea ea1a 1af7 f754</td>\n",
       "      <td>a8b0 b000 0000 0001 0101 0108 080a <font color = green>0a40</font> <font color = green>4091</font> 91fa fa56 5602 0261 6124 24bb bb32 3246 46e0 e068 687b 7bf0 f008 08ea ea59 59ab aba7 a7be be2d 2dfb fb75 754a 4aab ab24 24cf cf26 26d3 d3d8 d813 13d5 d5a6 a6e1 e133 332f 2f38 3811 1188 88d0 d008 088e 8e28 2893 93a3 a397 9728 28b8 b8f1 f1dc dcea ea78 78b6 b6ea ea1a 1af7 f754</td>\n",
       "    </tr>\n",
       "    <tr>\n",
       "      <th>92</th>\n",
       "      <td>f54c 4ca4 a44d 4de4 e445 <font color = green>45b5</font> <font color = green>b5a0</font> a09c 9c35 <font color = green>3548</font> <font color = green>4811</font> <font color = green>11cb</font> <font color = green>cb5c</font> 5c41 41ea ea11 1173 732e <font color = green>2e16</font> <font color = green>16af</font> afa7 a7ce ce7f <font color = green>7ff6</font> <font color = green>f66b</font> 6b4e 4ede <font color = green>de5e</font> <font color = green>5ec3</font> <font color = green>c3be</font> <font color = green>beeb</font> eb81 8156 5622 2273 7377 <font color = green>7766</font> <font color = green>66f5</font> f544 4410 105f <font color = green>5f98</font> <font color = green>9814</font> 14d1 d12e 2e43 <font color = green>432d</font> <font color = green>2ddd</font> dd70 7088 886f 6fb9 b98b 8b04 046d 6db6 b6d0 d0e9 e929 299a 9a7f 7f25 2518 18ec</td>\n",
       "      <td>f54c 4ca4 a44d 4de4 e445 <font color = gray>4545</font> <font color = gray>45a0</font> a09c 9c35 <font color = gray>353d</font> <font color = gray>3d11</font> <font color = gray>1145</font> <font color = gray>455c</font> 5c41 41ea ea11 1173 732e <font color = gray>2eca</font> <font color = gray>caaf</font> afa7 a7ce ce7f <font color = gray>7f9e</font> <font color = gray>9e6b</font> 6b4e 4ede <font color = gray>de2b</font> <font color = gray>2bc3</font> <font color = gray>c35a</font> <font color = gray>5aeb</font> eb81 8156 5622 2273 7377 <font color = gray>771a</font> <font color = gray>1af5</font> f544 4410 105f <font color = gray>5f1a</font> <font color = gray>1a14</font> 14d1 d12e 2e43 <font color = gray>43a0</font> <font color = gray>a0dd</font> dd70 7088 886f 6fb9 b98b 8b04 046d 6db6 b6d0 d0e9 e929 299a 9a7f 7f25 2518 18ec</td>\n",
       "    </tr>\n",
       "    <tr>\n",
       "      <th>93</th>\n",
       "      <td><font color = orange>851f</font> <font color = orange>1f00</font> 006d 6df4 f47b 7b90 <font color = orange>906f</font> <font color = orange>6f48</font> 48cc cc58 58e2 e247 47bf bf4f 4f81 8175 7573 73be bede de00 0002 0210 10a7 a700 0000 0032 324c 4cbd bd25 25e7 e77b 7bc8 c826 2628 288e 8e47 475b 5b8a 8ab1 b1ac ac6c 6cc9 c959 59d7 d776 76c8 c861 61fe fe9f 9fe2 e237 3715 1590 9000 00a6 a6e4 e4a1 a16f 6fc6 c606 0601 010e 0eee ee2d</td>\n",
       "      <td><font color = green>858c</font> <font color = green>8c00</font> 006d 6df4 f47b 7b90 <font color = green>90fa</font> <font color = green>fa48</font> 48cc cc58 58e2 e247 47bf bf4f 4f81 8175 7573 73be bede de00 0002 0210 10a7 a700 0000 0032 324c 4cbd bd25 25e7 e77b 7bc8 c826 2628 288e 8e47 475b 5b8a 8ab1 b1ac ac6c 6cc9 c959 59d7 d776 76c8 c861 61fe fe9f 9fe2 e237 3715 1590 9000 00a6 a6e4 e4a1 a16f 6fc6 c606 0601 010e 0eee ee2d</td>\n",
       "    </tr>\n",
       "    <tr>\n",
       "      <th>94</th>\n",
       "      <td><font color = gray>529e</font> <font color = gray>9e00</font> <font color = gray>0000</font> <font color = gray>0001</font> 0101 0108 080a 0a00 001d 1d83 8383 831a <font color = gray>1aa0</font> <font color = gray>a072</font> 723a 3a28 28ba bac6 c621 2184 84d8 d88b 8b8e 8ee8 e823 23e1 e1e7 e784 8433 3317 179d 9d86 8674 7492 9251 5113 13f8 f862 62db db19 1919 195f 5fde ded7 d78b 8bb0 b07c 7c2b 2bbc bcb4 b400 0027 27be be6d 6d77 775f 5f73 731b 1bda da17 1786 865d 5d46 46bc</td>\n",
       "      <td><font color = green>5218</font> <font color = green>1800</font> <font color = green>005b</font> <font color = green>5b01</font> 0101 0108 080a 0a00 001d 1d83 8383 831a <font color = green>1a6f</font> <font color = green>6f72</font> 723a 3a28 28ba bac6 c621 2184 84d8 d88b 8b8e 8ee8 e823 23e1 e1e7 e784 8433 3317 179d 9d86 8674 7492 9251 5113 13f8 f862 62db db19 1919 195f 5fde ded7 d78b 8bb0 b07c 7c2b 2bbc bcb4 b400 0027 27be be6d 6d77 775f 5f73 731b 1bda da17 1786 865d 5d46 46bc</td>\n",
       "    </tr>\n",
       "    <tr>\n",
       "      <th>95</th>\n",
       "      <td>03e1 e1ff ff14 14b5 b525 253a 3acd cd3b 3bb0 b050 <font color = green>5018</font> <font color = green>183f</font> 3fdb dbb4 b48f 8f00 0000 0017 1703 <font color = green>0303</font> <font color = green>0300</font> 0027 2700 0000 0000 0000 0000 0000 0000 00e6 e644 4460 6013 139f 9f31 3142 4299 9932 327e 7edd dd84 8427 27e4 e4ae aecf cf8d 8d23 23c9 c977 7704 0405 0586 8659 5971 71c3 c304 04c3 c39b 9bf5 f51b 1bbf</td>\n",
       "      <td>03e1 e1ff ff14 14b5 b525 253a 3acd cd3b 3bb0 b050 <font color = green>505b</font> <font color = green>5b3f</font> 3fdb dbb4 b48f 8f00 0000 0017 1703 <font color = green>031e</font> <font color = green>1e00</font> 0027 2700 0000 0000 0000 0000 0000 0000 00e6 e644 4460 6013 139f 9f31 3142 4299 9932 327e 7edd dd84 8427 27e4 e4ae aecf cf8d 8d23 23c9 c977 7704 0405 0586 8659 5971 71c3 c304 04c3 c39b 9bf5 f51b 1bbf</td>\n",
       "    </tr>\n",
       "    <tr>\n",
       "      <th>96</th>\n",
       "      <td><font color = green>ad47</font> <font color = green>47b2</font> b2c9 c9be bede de00 <font color = green>0002</font> <font color = green>0210</font> 10ab ab00 0000 0032 323d 3dca caff ff3f 3f77 77a5 a5ec ec68 68e4 e4c6 c63a 3a42 4235 352f 2f33 33d6 d677 77c4 c4a0 a034 34ea ea33 331f 1fa6 a63c 3cac ac73 7352 5215 1526 2623 2374 74f9 f9af af6d 6d43 4370 7040 4086 8671 71e9 e933 3359 5975 750c 0cea ea11 11dc dce2 e250 5084 84c8</td>\n",
       "      <td><font color = pink>ad13</font> <font color = pink>13b2</font> b2c9 c9be bede de00 <font color = pink>007b</font> <font color = pink>7b10</font> 10ab ab00 0000 0032 323d 3dca caff ff3f 3f77 77a5 a5ec ec68 68e4 e4c6 c63a 3a42 4235 352f 2f33 33d6 d677 77c4 c4a0 a034 34ea ea33 331f 1fa6 a63c 3cac ac73 7352 5215 1526 2623 2374 74f9 f9af af6d 6d43 4370 7040 4086 8671 71e9 e933 3359 5975 750c 0cea ea11 11dc dce2 e250 5084 84c8</td>\n",
       "    </tr>\n",
       "    <tr>\n",
       "      <th>97</th>\n",
       "      <td>d3aa aa05 <font color = blue>0562</font> <font color = blue>623b</font> 3b9a 9a8f 8f8b 8b4d 4dae ae8f 8f02 0280 800d 0dc2 c27e 7eb7 b756 5689 89c0 c01f 1f5b 5b60 6067 6744 444d 4df2 f2d5 d54a 4ae6 e6f7 f749 4981 811f 1f05 0514 14d3 d3a9 a90e 0ef7 f730 309f 9f3e 3e1a 1a59 59ff ffdf df71 71c2 c244 4452 529c 9c3c 3c05 050a 0af7 f783 83c3 c37a 7a5e 5e38 385b 5b19 19a4 a4e1</td>\n",
       "      <td>d3aa aa05 <font color = green>0582</font> <font color = green>823b</font> 3b9a 9a8f 8f8b 8b4d 4dae ae8f 8f02 0280 800d 0dc2 c27e 7eb7 b756 5689 89c0 c01f 1f5b 5b60 6067 6744 444d 4df2 f2d5 d54a 4ae6 e6f7 f749 4981 811f 1f05 0514 14d3 d3a9 a90e 0ef7 f730 309f 9f3e 3e1a 1a59 59ff ffdf df71 71c2 c244 4452 529c 9c3c 3c05 050a 0af7 f783 83c3 c37a 7a5e 5e38 385b 5b19 19a4 a4e1</td>\n",
       "    </tr>\n",
       "    <tr>\n",
       "      <th>98</th>\n",
       "      <td>e661 6124 24a1 a108 0839 397d 7d9a 9a1c 1c3d 3d80 8010 1000 00fe fe69 69f3 f300 0000 0001 0101 <font color = yellow>0108</font> <font color = yellow>080a</font> <font color = yellow>0a69</font> <font color = yellow>6924</font> 241f 1fe8 e801 0112 12bc bcef ef8c 8c5e 5ef6 f62a 2a08 0859 59ae ae98 9804 044a 4a3f 3f1a 1aa9 a963 6355 5546 4677 7747 47a3 a3eb ebc3 c3cd cd2a 2a71 7151 51fb fb90 9089 897f 7f49 49cb cbc4 c424 24d1 d174</td>\n",
       "      <td>e661 6124 24a1 a108 0839 397d 7d9a 9a1c 1c3d 3d80 8010 1000 00fe fe69 69f3 f300 0000 0001 0101 <font color = purple>01ef</font> <font color = purple>ef0a</font> <font color = purple>0a00</font> <font color = purple>0024</font> 241f 1fe8 e801 0112 12bc bcef ef8c 8c5e 5ef6 f62a 2a08 0859 59ae ae98 9804 044a 4a3f 3f1a 1aa9 a963 6355 5546 4677 7747 47a3 a3eb ebc3 c3cd cd2a 2a71 7151 51fb fb90 9089 897f 7f49 49cb cbc4 c424 24d1 d174</td>\n",
       "    </tr>\n",
       "    <tr>\n",
       "      <th>99</th>\n",
       "      <td>ea69 6900 0000 0001 0101 0108 080a 0a08 08e6 e671 7103 0300 <font color = pink>0050</font> <font color = pink>502a</font> 2a8d 8d41 41c1 c1e4 e40e 0ebe be2c 2c3b 3b8b 8b39 3952 5256 56b5 b5f6 f6c9 c918 182c 2cfa fad3 d36f 6fef ef09 09a1 a1b4 b422 2264 648c 8ca5 a55f 5f10 1056 5672 72e1 e1d8 d8d5 d5ff ff2b 2b7e 7e5a 5a6d 6d51 5162 623c 3ccc cce8 e8b1 b16a 6a84 8481 8142</td>\n",
       "      <td>ea69 6900 0000 0001 0101 0108 080a 0a08 08e6 e671 7103 0300 <font color = brown>0002</font> <font color = brown>022a</font> 2a8d 8d41 41c1 c1e4 e40e 0ebe be2c 2c3b 3b8b 8b39 3952 5256 56b5 b5f6 f6c9 c918 182c 2cfa fad3 d36f 6fef ef09 09a1 a1b4 b422 2264 648c 8ca5 a55f 5f10 1056 5672 72e1 e1d8 d8d5 d5ff ff2b 2b7e 7e5a 5a6d 6d51 5162 623c 3ccc cce8 e8b1 b16a 6a84 8481 8142</td>\n",
       "    </tr>\n",
       "  </tbody>\n",
       "</table>"
      ]
     },
     "metadata": {},
     "output_type": "display_data"
    }
   ],
   "source": [
    "# Display the attack results and the differences\n",
    "logger = CSVLogger(color_method=\"html\")\n",
    "for result in attack_results:\n",
    "    logger.log_attack_result(result)\n",
    "    continue\n",
    "\n",
    "display_html(HTML(logger.df[[\"original_text\", \"perturbed_text\"]].to_html(escape=False)))"
   ]
  }
 ],
 "metadata": {
  "kernelspec": {
   "display_name": "python38-env",
   "language": "python",
   "name": "python3"
  },
  "language_info": {
   "codemirror_mode": {
    "name": "ipython",
    "version": 3
   },
   "file_extension": ".py",
   "mimetype": "text/x-python",
   "name": "python",
   "nbconvert_exporter": "python",
   "pygments_lexer": "ipython3",
   "version": "3.8.18"
  }
 },
 "nbformat": 4,
 "nbformat_minor": 2
}
