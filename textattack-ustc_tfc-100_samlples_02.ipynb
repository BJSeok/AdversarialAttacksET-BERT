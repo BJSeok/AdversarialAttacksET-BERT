{
 "cells": [
  {
   "cell_type": "markdown",
   "metadata": {},
   "source": [
    "# 1. Import packages"
   ]
  },
  {
   "cell_type": "code",
   "execution_count": 1,
   "metadata": {},
   "outputs": [
    {
     "name": "stderr",
     "output_type": "stream",
     "text": [
      "/home/sypark/.local/lib/python3.8/site-packages/tqdm/auto.py:21: TqdmWarning: IProgress not found. Please update jupyter and ipywidgets. See https://ipywidgets.readthedocs.io/en/stable/user_install.html\n",
      "  from .autonotebook import tqdm as notebook_tqdm\n"
     ]
    }
   ],
   "source": [
    "import re\n",
    "import string\n",
    "from typing import Final, List\n",
    "\n",
    "from IPython.core.display import display_html, HTML\n",
    "\n",
    "from textattack import Attack, AttackArgs, Attacker\n",
    "from textattack.constraints.pre_transformation import (\n",
    "    RepeatModification,\n",
    "    StopwordModification,\n",
    ")\n",
    "from textattack.constraints.semantics import WordEmbeddingDistance\n",
    "from textattack.goal_functions.classification import UntargetedClassification\n",
    "from textattack.loggers import CSVLogger\n",
    "from textattack.search_methods import GreedyWordSwapWIR\n",
    "from textattack.shared.attacked_text import AttackedText\n",
    "from textattack.transformations import WordSwap"
   ]
  },
  {
   "cell_type": "markdown",
   "metadata": {},
   "source": [
    "# 2. Load model and dataset"
   ]
  },
  {
   "cell_type": "code",
   "execution_count": 2,
   "metadata": {},
   "outputs": [],
   "source": [
    "# Load from my_model.py and my_dataset.py\n",
    "from my_model import get_model\n",
    "from my_dataset import dataset\n",
    "\n",
    "model = get_model(\"cuda:2\")"
   ]
  },
  {
   "cell_type": "markdown",
   "metadata": {},
   "source": [
    "# 3. Define `CustomWordSwapEmbedding` class"
   ]
  },
  {
   "cell_type": "code",
   "execution_count": 3,
   "metadata": {},
   "outputs": [],
   "source": [
    "class CustomWordSwapEmbedding(WordSwap):\n",
    "    def __init__(self) -> None:\n",
    "        hexword_regex: Final[re.Pattern] = re.compile(r\"^[0-9a-fA-F]{4}$\")\n",
    "        self.replacement_words: List[str] = []\n",
    "\n",
    "        with open(\"./models/encryptd_vocab.txt\") as vocab_file:\n",
    "            for vocab in vocab_file:\n",
    "                self.replacement_words.append(\n",
    "                    vocab.rstrip()\n",
    "                ) if hexword_regex.fullmatch(vocab.rstrip()) else None\n",
    "                continue\n",
    "            pass\n",
    "\n",
    "        return super().__init__(string.hexdigits)\n",
    "\n",
    "    def _get_transformations(\n",
    "        self, current_text: AttackedText, indices_to_modify: List[int]\n",
    "    ) -> List[AttackedText]:\n",
    "        words = current_text.words\n",
    "        transformed_texts: List[AttackedText] = []\n",
    "\n",
    "        for i in indices_to_modify:\n",
    "            # if i < 22:\n",
    "            #     continue\n",
    "            \n",
    "            word_to_replace = words[i]\n",
    "            replacement_words = self._get_replacement_words(word_to_replace)\n",
    "            transformed_texts_idx: List[AttackedText] = []\n",
    "\n",
    "            for r in replacement_words:\n",
    "                if r == word_to_replace:\n",
    "                    continue\n",
    "\n",
    "                indices: List[int] = []\n",
    "                new_words: List[str] = []\n",
    "\n",
    "                indices.append(i)\n",
    "                new_words.append(r)\n",
    "\n",
    "                if i < len(words) - 1:\n",
    "                    post_r = r[2:] + words[i + 1][2:]\n",
    "                    indices.append(i + 1)\n",
    "                    new_words.append(post_r)\n",
    "                    pass\n",
    "\n",
    "                transformed_texts_idx.append(\n",
    "                    current_text.replace_words_at_indices(indices, new_words)\n",
    "                )\n",
    "                continue\n",
    "\n",
    "            transformed_texts.extend(transformed_texts_idx)\n",
    "            continue\n",
    "\n",
    "        return transformed_texts\n",
    "\n",
    "    def _get_replacement_words(self, word: str) -> List[str]:\n",
    "        replacement_words = [w for w in self.replacement_words if w.startswith(word[:2])]\n",
    "\n",
    "        if word in replacement_words:\n",
    "            replacement_words.remove(word)\n",
    "            pass\n",
    "        \n",
    "        return replacement_words\n",
    "\n",
    "    pass"
   ]
  },
  {
   "cell_type": "markdown",
   "metadata": {},
   "source": [
    "# 4. Construct `textattack.Attack` object"
   ]
  },
  {
   "cell_type": "code",
   "execution_count": 4,
   "metadata": {},
   "outputs": [
    {
     "name": "stderr",
     "output_type": "stream",
     "text": [
      "textattack: Unknown if model of class <class 'my_model.Classifier'> compatible with goal function <class 'textattack.goal_functions.classification.untargeted_classification.UntargetedClassification'>.\n"
     ]
    }
   ],
   "source": [
    "# Construct the four fundamental components of the attack\n",
    "goal_function = UntargetedClassification(model)\n",
    "constraints = [\n",
    "    RepeatModification(),\n",
    "    StopwordModification(),\n",
    "    WordEmbeddingDistance(min_cos_sim=0.9),\n",
    "]\n",
    "transformation = CustomWordSwapEmbedding()\n",
    "search_method = GreedyWordSwapWIR(wir_method=\"delete\")\n",
    "\n",
    "# Construct the actual attack\n",
    "attack = Attack(goal_function, constraints, transformation, search_method)"
   ]
  },
  {
   "cell_type": "markdown",
   "metadata": {},
   "source": [
    "# 5. Construct `textattack.Attacker` object"
   ]
  },
  {
   "cell_type": "code",
   "execution_count": 5,
   "metadata": {},
   "outputs": [
    {
     "name": "stdout",
     "output_type": "stream",
     "text": [
      "Attack(\n",
      "  (search_method): GreedyWordSwapWIR(\n",
      "    (wir_method):  delete\n",
      "  )\n",
      "  (goal_function):  UntargetedClassification\n",
      "  (transformation):  CustomWordSwapEmbedding\n",
      "  (constraints): \n",
      "    (0): WordEmbeddingDistance(\n",
      "        (embedding):  WordEmbedding\n",
      "        (min_cos_sim):  0.9\n",
      "        (cased):  False\n",
      "        (include_unknown_words):  True\n",
      "        (compare_against_original):  True\n",
      "      )\n",
      "    (1): RepeatModification\n",
      "    (2): StopwordModification\n",
      "  (is_black_box):  True\n",
      ") \n",
      "\n"
     ]
    },
    {
     "name": "stderr",
     "output_type": "stream",
     "text": [
      "  1%|          | 1/100 [00:14<23:21, 14.16s/it]"
     ]
    },
    {
     "name": "stdout",
     "output_type": "stream",
     "text": [
      "--------------------------------------------- Result 1 ---------------------------------------------\n"
     ]
    },
    {
     "name": "stderr",
     "output_type": "stream",
     "text": [
      "[Succeeded / Failed / Skipped / Total] 1 / 0 / 0 / 1:   1%|          | 1/100 [00:14<23:57, 14.52s/it]"
     ]
    },
    {
     "name": "stdout",
     "output_type": "stream",
     "text": [
      "[[17 (100%)]] --> [[8 (93%)]]\n",
      "\n",
      "e240 [[4067]] [[67c0]] c032 32e9 e967 67bf bfe4 e4f4 f480 [[8018]] [[1821]] 21f0 f077 77a0 [[a000]] [[0000]] 0001 0101 0108 [[080a]] [[0a06]] 06c5 c561 61bc bcf5 f573 73aa aada da01 0100 0059 597d 7d12 1266 667b [[7b40]] [[4053]] 5306 [[0647]] [[4745]] 451e 1e65 654c 4c05 056a 6a50 5074 [[744a]] [[4a7e]] 7e79 7901 0100 0000 0000 0000 0000 0000 0000 0000 0000 004a 4a9c 9cc1\n",
      "\n",
      "e240 [[405b]] [[5bc0]] c032 32e9 e967 67bf bfe4 e4f4 f480 [[80d7]] [[d721]] 21f0 f077 77a0 [[a01b]] [[1b00]] 0001 0101 0108 [[0827]] [[2706]] 06c5 c561 61bc bcf5 f573 73aa aada da01 0100 0059 597d 7d12 1266 667b [[7bec]] [[ec53]] 5306 [[0671]] [[7145]] 451e 1e65 654c 4c05 056a 6a50 5074 [[7452]] [[527e]] 7e79 7901 0100 0000 0000 0000 0000 0000 0000 0000 0000 004a 4a9c 9cc1\n",
      "\n",
      "\n"
     ]
    },
    {
     "name": "stderr",
     "output_type": "stream",
     "text": [
      "[Succeeded / Failed / Skipped / Total] 2 / 0 / 0 / 2:   2%|▏         | 2/100 [00:46<37:42, 23.09s/it]"
     ]
    },
    {
     "name": "stdout",
     "output_type": "stream",
     "text": [
      "--------------------------------------------- Result 2 ---------------------------------------------\n",
      "[[16 (100%)]] --> [[14 (49%)]]\n",
      "\n",
      "[[ffdc]] [[dc10]] 1099 992a 2aea ea5a 5a71 71fe fe15 1550 [[5010]] [[10fa]] fa61 614c 4c1d 1d00 0000 00da dafe fe86 864a 4ae2 e220 20cc cc3f 3fb0 b027 273d 3dd1 d1e2 e2ac acc8 c88b [[8b48]] [[48a6]] a6e4 e459 59f7 f73a 3a06 06ad ad7d [[7d52]] [[52f1]] f1f6 f665 6561 6196 9621 2122 22ae ae68 68be be2f 2f7a 7ade deb3 b30c 0cf5 [[f5e9]] [[e9c5]] c5dd ddf8 f865\n",
      "\n",
      "[[ff60]] [[6010]] 1099 992a 2aea ea5a 5a71 71fe fe15 1550 [[50ef]] [[effa]] fa61 614c 4c1d 1d00 0000 00da dafe fe86 864a 4ae2 e220 20cc cc3f 3fb0 b027 273d 3dd1 d1e2 e2ac acc8 c88b [[8bfa]] [[faa6]] a6e4 e459 59f7 f73a 3a06 06ad ad7d [[7de9]] [[e9f1]] f1f6 f665 6561 6196 9621 2122 22ae ae68 68be be2f 2f7a 7ade deb3 b30c 0cf5 [[f5ae]] [[aec5]] c5dd ddf8 f865\n",
      "\n",
      "\n"
     ]
    },
    {
     "name": "stderr",
     "output_type": "stream",
     "text": [
      "[Succeeded / Failed / Skipped / Total] 3 / 0 / 0 / 3:   3%|▎         | 3/100 [00:51<27:47, 17.19s/it]"
     ]
    },
    {
     "name": "stdout",
     "output_type": "stream",
     "text": [
      "--------------------------------------------- Result 3 ---------------------------------------------\n",
      "[[5 (100%)]] --> [[11 (100%)]]\n",
      "\n",
      "01bb bb92 9201 018a 8af2 f279 798d 8dbe beb0 b080 8018 185a 5a80 8031 313e 3e00 0000 0001 [[0101]] [[0108]] 080a [[0a05]] [[0548]] 48db db09 09fc fcb6 b66f 6f65 6517 1703 [[0300]] [[0005]] 0554 542a 2a42 42dd dd0e 0eb4 b43a 3ae8 e8a8 a83d 3d63 6302 022d 2d3c 3c91 911d 1d60 6094 944e 4eb2 b2e5 e53c 3c18 1806 06d3 d34d 4d2c 2cc4 c4df dfdb db55\n",
      "\n",
      "01bb bb92 9201 018a 8af2 f279 798d 8dbe beb0 b080 8018 185a 5a80 8031 313e 3e00 0000 0001 [[01a5]] [[a508]] 080a [[0a1e]] [[1e48]] 48db db09 09fc fcb6 b66f 6f65 6517 1703 [[03a1]] [[a105]] 0554 542a 2a42 42dd dd0e 0eb4 b43a 3ae8 e8a8 a83d 3d63 6302 022d 2d3c 3c91 911d 1d60 6094 944e 4eb2 b2e5 e53c 3c18 1806 06d3 d34d 4d2c 2cc4 c4df dfdb db55\n",
      "\n",
      "\n"
     ]
    },
    {
     "name": "stderr",
     "output_type": "stream",
     "text": [
      "[Succeeded / Failed / Skipped / Total] 4 / 0 / 0 / 4:   4%|▍         | 4/100 [00:53<21:26, 13.40s/it]"
     ]
    },
    {
     "name": "stdout",
     "output_type": "stream",
     "text": [
      "--------------------------------------------- Result 4 ---------------------------------------------\n",
      "[[11 (100%)]] --> [[5 (100%)]]\n",
      "\n",
      "2787 87ec ecfd fdf9 f973 73eb eb9f 9f27 2708 0880 8018 185a 5a80 80c8 c8ae ae00 0000 0001 0101 0108 080a [[0a1e]] [[1eb4]] b4e0 e01e 1e0d 0d3d 3d58 58a5 a517 1703 0300 0005 0578 78a0 a043 432a 2a1d 1dce cea2 a216 16cc ccce ce4b 4b0e 0e02 0232 3231 31d1 d1e7 e7d5 d50c 0ca7 a70c 0cc8 c81d 1d89 8967 671f 1f1c 1ceb ebd8 d846 46d2\n",
      "\n",
      "2787 87ec ecfd fdf9 f973 73eb eb9f 9f27 2708 0880 8018 185a 5a80 80c8 c8ae ae00 0000 0001 0101 0108 080a [[0a05]] [[05b4]] b4e0 e01e 1e0d 0d3d 3d58 58a5 a517 1703 0300 0005 0578 78a0 a043 432a 2a1d 1dce cea2 a216 16cc ccce ce4b 4b0e 0e02 0232 3231 31d1 d1e7 e7d5 d50c 0ca7 a70c 0cc8 c81d 1d89 8967 671f 1f1c 1ceb ebd8 d846 46d2\n",
      "\n",
      "\n"
     ]
    },
    {
     "name": "stderr",
     "output_type": "stream",
     "text": [
      "[Succeeded / Failed / Skipped / Total] 5 / 0 / 0 / 5:   5%|▌         | 5/100 [00:55<17:34, 11.10s/it]"
     ]
    },
    {
     "name": "stdout",
     "output_type": "stream",
     "text": [
      "--------------------------------------------- Result 5 ---------------------------------------------\n",
      "[[7 (100%)]] --> [[9 (77%)]]\n",
      "\n",
      "0050 5086 86c4 c40d 0df3 f366 6660 6018 1802 [[0250]] [[5018]] 18fa faf0 f08c 8c92 9200 0000 0047 4745 4554 5420 202f 2f78 7868 6864 6431 314f 4f42 4259 5938 3835 3564 644b 4b64 6458 5848 4845 4558 5877 7741 4144 4473 7377 7753 537a 7a79 796b 6b67 6730 305a 5a25 2532 3262 6245 4530 3047 474e 4e61 6136 3642 4236 3666 6672 726f\n",
      "\n",
      "0050 5086 86c4 c40d 0df3 f366 6660 6018 1802 [[022d]] [[2d18]] 18fa faf0 f08c 8c92 9200 0000 0047 4745 4554 5420 202f 2f78 7868 6864 6431 314f 4f42 4259 5938 3835 3564 644b 4b64 6458 5848 4845 4558 5877 7741 4144 4473 7377 7753 537a 7a79 796b 6b67 6730 305a 5a25 2532 3262 6245 4530 3047 474e 4e61 6136 3642 4236 3666 6672 726f\n",
      "\n",
      "\n"
     ]
    },
    {
     "name": "stderr",
     "output_type": "stream",
     "text": [
      "[Succeeded / Failed / Skipped / Total] 6 / 0 / 0 / 6:   6%|▌         | 6/100 [00:58<15:14,  9.73s/it]"
     ]
    },
    {
     "name": "stdout",
     "output_type": "stream",
     "text": [
      "--------------------------------------------- Result 6 ---------------------------------------------\n",
      "[[13 (100%)]] --> [[5 (100%)]]\n",
      "\n",
      "f266 66d7 d7ea ea3c 3cef ef57 57c9 c9d9 d914 1480 8018 1849 4988 88a6 a612 1200 0000 0001 0101 0108 080a [[0a21]] [[2158]] 582e 2e81 8102 029a 9aa0 a0c2 c216 1603 0300 0000 0037 [[3702]] [[0200]] 0000 0033 3303 0300 0057 5794 9449 490d 0dc3 c320 203e 3e49 49c3 c358 583e 3e53 5343 4353 533e 3e4c 4cc3 c320 203e 3ed3 d343 4300 003e 3ed9\n",
      "\n",
      "f266 66d7 d7ea ea3c 3cef ef57 57c9 c9d9 d914 1480 8018 1849 4988 88a6 a612 1200 0000 0001 0101 0108 080a [[0a16]] [[1658]] 582e 2e81 8102 029a 9aa0 a0c2 c216 1603 0300 0000 0037 [[37fb]] [[fb00]] 0000 0033 3303 0300 0057 5794 9449 490d 0dc3 c320 203e 3e49 49c3 c358 583e 3e53 5343 4353 533e 3e4c 4cc3 c320 203e 3ed3 d343 4300 003e 3ed9\n",
      "\n",
      "\n"
     ]
    },
    {
     "name": "stderr",
     "output_type": "stream",
     "text": [
      "[Succeeded / Failed / Skipped / Total] 7 / 0 / 0 / 7:   7%|▋         | 7/100 [01:00<13:30,  8.71s/it]"
     ]
    },
    {
     "name": "stdout",
     "output_type": "stream",
     "text": [
      "--------------------------------------------- Result 7 ---------------------------------------------\n",
      "[[16 (100%)]] --> [[6 (100%)]]\n",
      "\n",
      "[[ffdc]] [[dce6]] e6d3 d3cc cc27 27a7 a7e0 e050 5098 [[9850]] [[5010]] 10fa fa97 974b 4bab ab00 0000 00de de3c 3cc2 c2b4 b425 2568 687a 7a1e 1ecf cf93 9391 913f 3fff ff4a 4a68 6856 5644 44f1 f188 88d9 d96d 6d62 62e7 e74d 4d1b 1b54 5440 4048 481a 1a70 7060 60f9 f92c 2c31 31b3 b349 499c 9c3e 3ed6 d692 9265 65e8 e866 66e3 e355 5520 20e2\n",
      "\n",
      "[[ffff]] [[ffe6]] e6d3 d3cc cc27 27a7 a7e0 e050 5098 [[98c7]] [[c710]] 10fa fa97 974b 4bab ab00 0000 00de de3c 3cc2 c2b4 b425 2568 687a 7a1e 1ecf cf93 9391 913f 3fff ff4a 4a68 6856 5644 44f1 f188 88d9 d96d 6d62 62e7 e74d 4d1b 1b54 5440 4048 481a 1a70 7060 60f9 f92c 2c31 31b3 b349 499c 9c3e 3ed6 d692 9265 65e8 e866 66e3 e355 5520 20e2\n",
      "\n",
      "\n"
     ]
    },
    {
     "name": "stderr",
     "output_type": "stream",
     "text": [
      "[Succeeded / Failed / Skipped / Total] 8 / 0 / 0 / 8:   8%|▊         | 8/100 [01:03<12:14,  7.99s/it]"
     ]
    },
    {
     "name": "stdout",
     "output_type": "stream",
     "text": [
      "--------------------------------------------- Result 8 ---------------------------------------------\n",
      "[[1 (100%)]] --> [[9 (100%)]]\n",
      "\n",
      "[[1f90]] [[90ca]] ca79 79be be40 4082 82be bef8 f802 [[0250]] [[5018]] 1850 5000 0089 8987 8700 0000 0050 504f 4f53 5354 5420 202f 2f51 5167 6775 7565 654f 4f25 2532 3234 3456 5633 333d 3d5f 5f73 7333 3373 7332 3273 7353 537e 7e2f 2f37 3776 7625 2532 3234 3439 3955 5531 3154 5431 3172 726a 6a77 7726 2625 2532 3234 3426 266b 6b6c 6c6b\n",
      "\n",
      "[[1f34]] [[34ca]] ca79 79be be40 4082 82be bef8 f802 [[021e]] [[1e18]] 1850 5000 0089 8987 8700 0000 0050 504f 4f53 5354 5420 202f 2f51 5167 6775 7565 654f 4f25 2532 3234 3456 5633 333d 3d5f 5f73 7333 3373 7332 3273 7353 537e 7e2f 2f37 3776 7625 2532 3234 3439 3955 5531 3154 5431 3172 726a 6a77 7726 2625 2532 3234 3426 266b 6b6c 6c6b\n",
      "\n",
      "\n"
     ]
    },
    {
     "name": "stderr",
     "output_type": "stream",
     "text": [
      "[Succeeded / Failed / Skipped / Total] 9 / 0 / 0 / 9:   9%|▉         | 9/100 [01:05<11:03,  7.29s/it]"
     ]
    },
    {
     "name": "stdout",
     "output_type": "stream",
     "text": [
      "--------------------------------------------- Result 9 ---------------------------------------------\n",
      "[[5 (100%)]] --> [[0 (100%)]]\n",
      "\n",
      "8f3c 3c84 844a 4abc bcb3 b319 19d2 d2c2 c26e 6e80 8018 181c 1c48 48e4 e44d 4d00 0000 0001 0101 0108 080a [[0a16]] [[169c]] 9c72 727e 7e05 0531 31a7 a731 31a3 a33c 3c21 219b 9b34 343b 3b61 6151 51b2 b250 5058 5806 06a8 a88d 8d1c 1c50 50c9 c955 551e 1e87 870d 0d36 36f5 f526 263d 3d4a 4ac7 c765 6583 83ac ac61 61e4 e4b7 b703 031b\n",
      "\n",
      "8f3c 3c84 844a 4abc bcb3 b319 19d2 d2c2 c26e 6e80 8018 181c 1c48 48e4 e44d 4d00 0000 0001 0101 0108 080a [[0a77]] [[779c]] 9c72 727e 7e05 0531 31a7 a731 31a3 a33c 3c21 219b 9b34 343b 3b61 6151 51b2 b250 5058 5806 06a8 a88d 8d1c 1c50 50c9 c955 551e 1e87 870d 0d36 36f5 f526 263d 3d4a 4ac7 c765 6583 83ac ac61 61e4 e4b7 b703 031b\n",
      "\n",
      "\n"
     ]
    },
    {
     "name": "stderr",
     "output_type": "stream",
     "text": [
      "[Succeeded / Failed / Skipped / Total] 10 / 0 / 0 / 10:  10%|█         | 10/100 [01:07<10:06,  6.73s/it]"
     ]
    },
    {
     "name": "stdout",
     "output_type": "stream",
     "text": [
      "--------------------------------------------- Result 10 ---------------------------------------------\n",
      "[[5 (100%)]] --> [[0 (100%)]]\n",
      "\n",
      "2990 909b 9b36 36cc cc4c 4c15 15c7 c7be bef8 f880 8018 187c 7c70 700b 0b25 2500 0000 0001 0101 0108 080a [[0a16]] [[169a]] 9a06 064a 4a05 0537 37ab ab06 0617 1703 0300 0002 02f4 f430 30bd bd48 48a5 a578 78e4 e40c 0cf8 f837 3777 775d 5d15 156e 6ed3 d315 15e4 e42b 2b79 794d 4d12 1237 370b 0b68 6803 0310 107f 7f4c 4c24 245f 5f34\n",
      "\n",
      "2990 909b 9b36 36cc cc4c 4c15 15c7 c7be bef8 f880 8018 187c 7c70 700b 0b25 2500 0000 0001 0101 0108 080a [[0af2]] [[f29a]] 9a06 064a 4a05 0537 37ab ab06 0617 1703 0300 0002 02f4 f430 30bd bd48 48a5 a578 78e4 e40c 0cf8 f837 3777 775d 5d15 156e 6ed3 d315 15e4 e42b 2b79 794d 4d12 1237 370b 0b68 6803 0310 107f 7f4c 4c24 245f 5f34\n",
      "\n",
      "\n"
     ]
    },
    {
     "name": "stderr",
     "output_type": "stream",
     "text": [
      "[Succeeded / Failed / Skipped / Total] 11 / 0 / 0 / 11:  11%|█         | 11/100 [01:15<10:08,  6.83s/it]"
     ]
    },
    {
     "name": "stdout",
     "output_type": "stream",
     "text": [
      "--------------------------------------------- Result 11 ---------------------------------------------\n",
      "[[15 (100%)]] --> [[8 (95%)]]\n",
      "\n",
      "c2cd cd00 006b 6bee ee55 5520 2058 5881 8183 8300 0001 [[0100]] [[0000]] 0000 0001 0100 0000 000c 0c65 6566 666e 6e75 7564 6469 6969 696c 6c6b 6b62 6270 7073 7303 0378 7879 797a [[7a00]] [[0000]] 0001 [[0100]] [[0001]] 01c0 c019 1900 0006 0600 0001 [[0100]] [[0000]] 0005 05d5 d500 0035 3503 036e 6e73 7330 300a 0a63 6365 656e 6e74 7472 7261 616c 6c6e\n",
      "\n",
      "c2cd cd00 006b 6bee ee55 5520 2058 5881 8183 8300 0001 [[01c0]] [[c000]] 0000 0001 0100 0000 000c 0c65 6566 666e 6e75 7564 6469 6969 696c 6c6b 6b62 6270 7073 7303 0378 7879 797a [[7a0a]] [[0a00]] 0001 [[0108]] [[0801]] 01c0 c019 1900 0006 0600 0001 [[0141]] [[4100]] 0005 05d5 d500 0035 3503 036e 6e73 7330 300a 0a63 6365 656e 6e74 7472 7261 616c 6c6e\n",
      "\n",
      "\n"
     ]
    },
    {
     "name": "stderr",
     "output_type": "stream",
     "text": [
      "[Succeeded / Failed / Skipped / Total] 12 / 0 / 0 / 12:  12%|█▏        | 12/100 [01:20<09:47,  6.67s/it]"
     ]
    },
    {
     "name": "stdout",
     "output_type": "stream",
     "text": [
      "--------------------------------------------- Result 12 ---------------------------------------------\n",
      "[[0 (100%)]] --> [[5 (100%)]]\n",
      "\n",
      "01bb bbc3 c3b5 b524 2442 42e2 e21e 1ed2 [[d261]] [[6180]] 8018 1893 9310 1089 89db db00 0000 0001 0101 0108 080a [[0a11]] [[11f6]] f6a5 a572 7223 2326 26a4 a464 6417 1703 0300 0000 003c 3c72 7214 1429 29cd cdb4 b482 825e 5e10 10b8 b8e0 e0f1 f175 750d 0df6 f69b 9b0a 0ad6 d65b 5b7f 7f98 983e 3ece ce77 77d7 d7e8 e8df df99 9975 7540 408e\n",
      "\n",
      "01bb bbc3 c3b5 b524 2442 42e2 e21e 1ed2 [[d2af]] [[af80]] 8018 1893 9310 1089 89db db00 0000 0001 0101 0108 080a [[0a16]] [[16f6]] f6a5 a572 7223 2326 26a4 a464 6417 1703 0300 0000 003c 3c72 7214 1429 29cd cdb4 b482 825e 5e10 10b8 b8e0 e0f1 f175 750d 0df6 f69b 9b0a 0ad6 d65b 5b7f 7f98 983e 3ece ce77 77d7 d7e8 e8df df99 9975 7540 408e\n",
      "\n",
      "\n"
     ]
    },
    {
     "name": "stderr",
     "output_type": "stream",
     "text": [
      "[Succeeded / Failed / Skipped / Total] 13 / 0 / 0 / 13:  13%|█▎        | 13/100 [01:22<09:11,  6.34s/it]"
     ]
    },
    {
     "name": "stdout",
     "output_type": "stream",
     "text": [
      "--------------------------------------------- Result 13 ---------------------------------------------\n",
      "[[8 (100%)]] --> [[17 (100%)]]\n",
      "\n",
      "5d07 074c 4c19 194b 4b76 7644 4440 4057 57f2 f280 8018 1827 2798 9869 6930 3000 0000 0001 0101 0108 [[080a]] [[0a0f]] 0f3e 3eff ff03 03fd fde0 e089 8992 9207 0700 0000 0001 0100 0000 0000 [[0002]] [[0200]] 0000 0000 00e7 e71a 1ae1 e19e\n",
      "\n",
      "5d07 074c 4c19 194b 4b76 7644 4440 4057 57f2 f280 8018 1827 2798 9869 6930 3000 0000 0001 0101 0108 [[0810]] [[100f]] 0f3e 3eff ff03 03fd fde0 e089 8992 9207 0700 0000 0001 0100 0000 0000 [[0007]] [[0700]] 0000 0000 00e7 e71a 1ae1 e19e\n",
      "\n",
      "\n"
     ]
    },
    {
     "name": "stderr",
     "output_type": "stream",
     "text": [
      "[Succeeded / Failed / Skipped / Total] 14 / 0 / 0 / 14:  14%|█▍        | 14/100 [01:23<08:35,  6.00s/it]"
     ]
    },
    {
     "name": "stdout",
     "output_type": "stream",
     "text": [
      "--------------------------------------------- Result 14 ---------------------------------------------\n",
      "[[12 (100%)]] --> [[6 (100%)]]\n",
      "\n",
      "c186 8632 3230 30a4 a4b5 b577 77ff ff03 037e 7e50 5018 18ff ffff ff9b 9bde de00 0000 0017 1703 [[0300]] [[0000]] 00c0 c011 1199 9962 62f9 f986 86c1 c169 6903 0342 42c5 c5b6 b6b6 b652 52df df2e 2e1b 1b66 667a 7a47 4730 3036 36eb ebe5 e54c 4ce9 e999 99cc cc6e 6e38 38ae ae47 47db db33 333b 3b77 77cd cdc4 c404 0430 3021 21ce ce47\n",
      "\n",
      "c186 8632 3230 30a4 a4b5 b577 77ff ff03 037e 7e50 5018 18ff ffff ff9b 9bde de00 0000 0017 1703 [[03a3]] [[a300]] 00c0 c011 1199 9962 62f9 f986 86c1 c169 6903 0342 42c5 c5b6 b6b6 b652 52df df2e 2e1b 1b66 667a 7a47 4730 3036 36eb ebe5 e54c 4ce9 e999 99cc cc6e 6e38 38ae ae47 47db db33 333b 3b77 77cd cdc4 c404 0430 3021 21ce ce47\n",
      "\n",
      "\n"
     ]
    },
    {
     "name": "stderr",
     "output_type": "stream",
     "text": [
      "[Succeeded / Failed / Skipped / Total] 15 / 0 / 0 / 15:  15%|█▌        | 15/100 [01:28<08:23,  5.92s/it]"
     ]
    },
    {
     "name": "stdout",
     "output_type": "stream",
     "text": [
      "--------------------------------------------- Result 15 ---------------------------------------------\n",
      "[[16 (100%)]] --> [[9 (96%)]]\n",
      "\n",
      "ffdc [[dc7a]] [[7a45]] [[4569]] 6960 60ac ace1 e103 03b2 b250 [[5010]] [[10fa]] fab8 b801 017f 7f00 0000 001e 1e73 7362 62cc cce2 e20d 0dd1 d1bc [[bc71]] [[71ec]] ec42 42b2 b24e 4eb1 b10c 0c00 00ac acab ab7b 7bdf df31 31e4 e44d 4de2 e2ff ffe3 e3fa fa47 47cf cfdb db72 72fa fad6 d656 5619 1948 4862 62ba ba87 8768 68d6 d640 403c 3cb6 b60e 0ea7 a775\n",
      "\n",
      "ffdc [[dca4]] [[a438]] [[3869]] 6960 60ac ace1 e103 03b2 b250 [[50f5]] [[f5fa]] fab8 b801 017f 7f00 0000 001e 1e73 7362 62cc cce2 e20d 0dd1 d1bc [[bc08]] [[08ec]] ec42 42b2 b24e 4eb1 b10c 0c00 00ac acab ab7b 7bdf df31 31e4 e44d 4de2 e2ff ffe3 e3fa fa47 47cf cfdb db72 72fa fad6 d656 5619 1948 4862 62ba ba87 8768 68d6 d640 403c 3cb6 b60e 0ea7 a775\n",
      "\n",
      "\n"
     ]
    },
    {
     "name": "stderr",
     "output_type": "stream",
     "text": [
      "[Succeeded / Failed / Skipped / Total] 16 / 0 / 0 / 16:  16%|█▌        | 16/100 [01:39<08:39,  6.19s/it]textattack: Ran out of samples to attack!\n",
      "[Succeeded / Failed / Skipped / Total] 16 / 0 / 1 / 17:  16%|█▌        | 16/100 [01:39<08:39,  6.19s/it]"
     ]
    },
    {
     "name": "stdout",
     "output_type": "stream",
     "text": [
      "--------------------------------------------- Result 16 ---------------------------------------------\n",
      "[[9 (100%)]] --> [[16 (86%)]]\n",
      "\n",
      "[[0e0d]] [[0df9]] f956 [[562d]] [[2ddc]] dcf0 f027 27f1 f126 2650 5018 1819 1920 20dc dc06 0600 0000 0074 7454 5469 696d 6d65 6528 2874 746f 6f64 6461 6179 792e 2e67 6765 6574 7454 5469 696d 6d65 6528 2829 292b 2b28 2831 3130 3030 3030 302a 2a66 [[6672]] [[7265]] 6571 [[7175]] [[7565]] 656e 6e63 6379 7929 2929 293b 3b76 7661 [[6172]] [[7220]] [[2063]] 636f [[6f6f]]\n",
      "\n",
      "[[0ebe]] [[bef9]] f956 [[5670]] [[70dc]] dcf0 f027 27f1 f126 2650 5018 1819 1920 20dc dc06 0600 0000 0074 7454 5469 696d 6d65 6528 2874 746f 6f64 6461 6179 792e 2e67 6765 6574 7454 5469 696d 6d65 6528 2829 292b 2b28 2831 3130 3030 3030 302a 2a66 [[6661]] [[6165]] 6571 [[710a]] [[0a65]] 656e 6e63 6379 7929 2929 293b 3b76 7661 [[6195]] [[95c4]] [[c463]] 636f [[6f28]]\n",
      "\n",
      "\n",
      "--------------------------------------------- Result 17 ---------------------------------------------\n",
      "[[16 (100%)]] --> [[[SKIPPED]]]\n",
      "\n",
      "0404 04bc bc01 013b 3b0f 0fb9 b9a0 a04a 4a53 5350 5018 182d 2da0 a06e 6ed0 d000 0000 0016 1603 0301 0100 0086 8610 1000 0000 0082 8200 0080 804c 4ced edfa fa39 397a 7ab2 b275 751f 1f77 77f7 f7ed ede9 e9a5 a555 5542 427b 7bbe beb8 b8f2 f2cb cb5e 5e79 7957 5776 7679 797a 7a9e 9e54 5438 381c 1cb8 b8cb cb3e 3e69 6937 37fa\n",
      "\n",
      "\n"
     ]
    },
    {
     "name": "stderr",
     "output_type": "stream",
     "text": [
      "[Succeeded / Failed / Skipped / Total] 17 / 0 / 1 / 18:  17%|█▋        | 17/100 [01:40<08:11,  5.92s/it]"
     ]
    },
    {
     "name": "stdout",
     "output_type": "stream",
     "text": [
      "--------------------------------------------- Result 18 ---------------------------------------------\n",
      "[[5 (100%)]] --> [[0 (100%)]]\n",
      "\n",
      "3aac ac87 87d4 d43f 3fa1 a122 225e 5eb9 b9d4 d480 8018 181c 1c48 48c0 c0a0 a000 0000 0001 0101 0108 080a [[0a16]] [[169c]] 9c88 885a 5a05 053d 3dbf bfd6 d647 4779 7942 4236 366a 6a76 76c1 c1a2 a264 64a1 a1b0 b008 0850 5013 1339 39a0 a0f0 f04d 4d16 1687 870d 0d36 36f5 f526 263d 3d4b 4bc7 c765 658d 8dac ac61 61e4 e4b7 b703 031b\n",
      "\n",
      "3aac ac87 87d4 d43f 3fa1 a122 225e 5eb9 b9d4 d480 8018 181c 1c48 48c0 c0a0 a000 0000 0001 0101 0108 080a [[0a5c]] [[5c9c]] 9c88 885a 5a05 053d 3dbf bfd6 d647 4779 7942 4236 366a 6a76 76c1 c1a2 a264 64a1 a1b0 b008 0850 5013 1339 39a0 a0f0 f04d 4d16 1687 870d 0d36 36f5 f526 263d 3d4b 4bc7 c765 658d 8dac ac61 61e4 e4b7 b703 031b\n",
      "\n",
      "\n"
     ]
    },
    {
     "name": "stderr",
     "output_type": "stream",
     "text": [
      "[Succeeded / Failed / Skipped / Total] 18 / 0 / 1 / 19:  18%|█▊        | 18/100 [01:42<07:45,  5.68s/it]"
     ]
    },
    {
     "name": "stdout",
     "output_type": "stream",
     "text": [
      "--------------------------------------------- Result 19 ---------------------------------------------\n",
      "[[9 (100%)]] --> [[16 (100%)]]\n",
      "\n",
      "0050 50c2 c293 9359 5963 63ef efd0 d006 06f6 f650 5010 10fa faf0 f0f4 f47c 7c00 0000 0047 4745 4554 5420 202f 2f69 696d 6d70 703f 3f5a 5a3d 3d31 3132 3230 3078 7836 3630 3030 3026 2673 733d 3d31 3139 3932 3231 3133 3337 3739 3926 265f 5f73 7361 616c 6c74 743d 3d31 3139 3933 3330 3030 3032 [[3238]] [[3838]] 3830 3035 3526 2642\n",
      "\n",
      "0050 50c2 c293 9359 5963 63ef efd0 d006 06f6 f650 5010 10fa faf0 f0f4 f47c 7c00 0000 0047 4745 4554 5420 202f 2f69 696d 6d70 703f 3f5a 5a3d 3d31 3132 3230 3078 7836 3630 3030 3026 2673 733d 3d31 3139 3932 3231 3133 3337 3739 3926 265f 5f73 7361 616c 6c74 743d 3d31 3139 3933 3330 3030 3032 [[32ec]] [[ec38]] 3830 3035 3526 2642\n",
      "\n",
      "\n"
     ]
    },
    {
     "name": "stderr",
     "output_type": "stream",
     "text": [
      "[Succeeded / Failed / Skipped / Total] 19 / 0 / 1 / 20:  19%|█▉        | 19/100 [01:43<07:22,  5.47s/it]"
     ]
    },
    {
     "name": "stdout",
     "output_type": "stream",
     "text": [
      "--------------------------------------------- Result 20 ---------------------------------------------\n",
      "[[19 (100%)]] --> [[16 (100%)]]\n",
      "\n",
      "c4d5 d578 78ca ca05 0580 8095 95cf cf2f 2f47 4750 5010 [[1000]] [[0036]] 3673 737f 7f00 0000 0033 33e9 e9a0 a0e3 e3b8 b84b 4b71 71be be24 24b2 b2d8 d894 94fa fa3d 3d45 45f0 f0c6 c63c 3cf7 f755 5540 40e6 e65f 5f02 0270 706c 6c42 42e1 e12c 2c90 90c7 c73c 3c67 679d 9d29 29b5 b578 786b 6b1a 1aaa aa84 84a7 a7fb fb44 44b7 b7fa faf1\n",
      "\n",
      "c4d5 d578 78ca ca05 0580 8095 95cf cf2f 2f47 4750 5010 [[10ca]] [[ca36]] 3673 737f 7f00 0000 0033 33e9 e9a0 a0e3 e3b8 b84b 4b71 71be be24 24b2 b2d8 d894 94fa fa3d 3d45 45f0 f0c6 c63c 3cf7 f755 5540 40e6 e65f 5f02 0270 706c 6c42 42e1 e12c 2c90 90c7 c73c 3c67 679d 9d29 29b5 b578 786b 6b1a 1aaa aa84 84a7 a7fb fb44 44b7 b7fa faf1\n",
      "\n",
      "\n"
     ]
    },
    {
     "name": "stderr",
     "output_type": "stream",
     "text": [
      "[Succeeded / Failed / Skipped / Total] 20 / 0 / 1 / 21:  20%|██        | 20/100 [01:45<07:02,  5.28s/it]"
     ]
    },
    {
     "name": "stdout",
     "output_type": "stream",
     "text": [
      "--------------------------------------------- Result 21 ---------------------------------------------\n",
      "[[16 (100%)]] --> [[10 (100%)]]\n",
      "\n",
      "0d3d 3ddd dd34 34e4 e424 2435 3566 66b7 b7df df50 [[5018]] [[18fe]] fe82 8288 886e 6e00 0000 0003 0300 0000 005f 5f02 02f0 f080 8064 6400 0004 0403 03eb eb70 7080 8050 5001 0100 0000 0000 0048 4800 0000 0000 00c4 c48d 8df4 f4bd bd3c 3c88 88b6 b68d 8de4 e49d 9dc3 c344 442b 2ba2 a2f8 f8bc bcd2 d2c7 c70a 0a29 290b 0b49 49e2 e2b6\n",
      "\n",
      "0d3d 3ddd dd34 34e4 e424 2435 3566 66b7 b7df df50 [[5090]] [[90fe]] fe82 8288 886e 6e00 0000 0003 0300 0000 005f 5f02 02f0 f080 8064 6400 0004 0403 03eb eb70 7080 8050 5001 0100 0000 0000 0048 4800 0000 0000 00c4 c48d 8df4 f4bd bd3c 3c88 88b6 b68d 8de4 e49d 9dc3 c344 442b 2ba2 a2f8 f8bc bcd2 d2c7 c70a 0a29 290b 0b49 49e2 e2b6\n",
      "\n",
      "\n"
     ]
    },
    {
     "name": "stderr",
     "output_type": "stream",
     "text": [
      "[Succeeded / Failed / Skipped / Total] 21 / 0 / 1 / 22:  21%|██        | 21/100 [01:47<06:43,  5.10s/it]"
     ]
    },
    {
     "name": "stdout",
     "output_type": "stream",
     "text": [
      "--------------------------------------------- Result 22 ---------------------------------------------\n",
      "[[11 (100%)]] --> [[5 (100%)]]\n",
      "\n",
      "87c9 c9c8 c860 6008 0819 19ec ecdb db3b 3b30 3080 8018 185a 5a80 80d0 d09b 9b00 0000 0001 0101 0108 080a [[0a1e]] [[1eb6]] b6db db00 000d 0d3e 3ea3 a354 5417 1703 0300 0005 0578 7831 3119 1910 1094 9417 17d5 d574 7446 46ba ba66 6647 4773 7301 01b5 b530 30a7 a74d 4dfd fd12 1208 08dc dc6f 6fd4 d4bb bb2b 2b82 82f1 f118 187c 7c45\n",
      "\n",
      "87c9 c9c8 c860 6008 0819 19ec ecdb db3b 3b30 3080 8018 185a 5a80 80d0 d09b 9b00 0000 0001 0101 0108 080a [[0a16]] [[16b6]] b6db db00 000d 0d3e 3ea3 a354 5417 1703 0300 0005 0578 7831 3119 1910 1094 9417 17d5 d574 7446 46ba ba66 6647 4773 7301 01b5 b530 30a7 a74d 4dfd fd12 1208 08dc dc6f 6fd4 d4bb bb2b 2b82 82f1 f118 187c 7c45\n",
      "\n",
      "\n"
     ]
    },
    {
     "name": "stderr",
     "output_type": "stream",
     "text": [
      "[Succeeded / Failed / Skipped / Total] 22 / 0 / 1 / 23:  22%|██▏       | 22/100 [01:48<06:25,  4.94s/it]"
     ]
    },
    {
     "name": "stdout",
     "output_type": "stream",
     "text": [
      "--------------------------------------------- Result 23 ---------------------------------------------\n",
      "[[13 (100%)]] --> [[5 (100%)]]\n",
      "\n",
      "b1af afcd cd78 78b6 b618 18cd cd78 780f 0f78 7880 8018 1849 4988 8825 25a5 a500 0000 0001 0101 0108 080a [[0a21]] [[2127]] 27db db97 97ff fffc fc6e 6e38 3816 1603 0300 0000 0057 5702 0200 0000 0053 5303 0300 0057 5794 9449 4908 0800 008a 8a7e 7e49 4900 0058 587e 7e53 5380 8053 537e 7e4c 4c00 008a 8a7e 7e64 6480 80aa aa7e 7e6f\n",
      "\n",
      "b1af afcd cd78 78b6 b618 18cd cd78 780f 0f78 7880 8018 1849 4988 8825 25a5 a500 0000 0001 0101 0108 080a [[0a16]] [[1627]] 27db db97 97ff fffc fc6e 6e38 3816 1603 0300 0000 0057 5702 0200 0000 0053 5303 0300 0057 5794 9449 4908 0800 008a 8a7e 7e49 4900 0058 587e 7e53 5380 8053 537e 7e4c 4c00 008a 8a7e 7e64 6480 80aa aa7e 7e6f\n",
      "\n",
      "\n"
     ]
    },
    {
     "name": "stderr",
     "output_type": "stream",
     "text": [
      "[Succeeded / Failed / Skipped / Total] 23 / 0 / 1 / 24:  23%|██▎       | 23/100 [01:52<06:15,  4.88s/it]"
     ]
    },
    {
     "name": "stdout",
     "output_type": "stream",
     "text": [
      "--------------------------------------------- Result 24 ---------------------------------------------\n",
      "[[3 (100%)]] --> [[5 (100%)]]\n",
      "\n",
      "26e2 e225 2546 4616 1606 [[0625]] [[2500]] 0021 2177 7780 [[8018]] [[182d]] 2d40 405c 5ca8 a800 0000 0001 0101 0108 080a [[0ad7]] [[d7ee]] eefd fd86 86c6 c698 98b4 b4d1 d132 3233 3330 3020 2064 6465 6566 6661 6175 756c 6c74 740d 0d0a 0ad7 d730 3098 98f3\n",
      "\n",
      "26e2 e225 2546 4616 1606 [[06fd]] [[fd00]] 0021 2177 7780 [[80ea]] [[ea2d]] 2d40 405c 5ca8 a800 0000 0001 0101 0108 080a [[0a05]] [[05ee]] eefd fd86 86c6 c698 98b4 b4d1 d132 3233 3330 3020 2064 6465 6566 6661 6175 756c 6c74 740d 0d0a 0ad7 d730 3098 98f3\n",
      "\n",
      "\n"
     ]
    },
    {
     "name": "stderr",
     "output_type": "stream",
     "text": [
      "[Succeeded / Failed / Skipped / Total] 24 / 0 / 1 / 25:  24%|██▍       | 24/100 [01:53<06:00,  4.74s/it]"
     ]
    },
    {
     "name": "stdout",
     "output_type": "stream",
     "text": [
      "--------------------------------------------- Result 25 ---------------------------------------------\n",
      "[[12 (100%)]] --> [[6 (100%)]]\n",
      "\n",
      "c0f2 f219 1919 19c8 c802 0299 996c 6c2b 2b19 1950 5018 18ff ffff ffe1 e1c7 c700 0000 0016 1603 [[0300]] [[0000]] 004a 4a02 0200 0000 0046 4603 0300 0056 5605 05a0 a073 7380 8072 7221 2191 91aa aad1 d184 8472 72d6 d6ba ba67 670f 0f02 0275 75c0 c0b5 b525 2509 093a 3a51 5153 53b7 b7c9 c917 17f0 f065 65b7 b76c 6c20 2002 0208 08fb\n",
      "\n",
      "c0f2 f219 1919 19c8 c802 0299 996c 6c2b 2b19 1950 5018 18ff ffff ffe1 e1c7 c700 0000 0016 1603 [[0303]] [[0300]] 004a 4a02 0200 0000 0046 4603 0300 0056 5605 05a0 a073 7380 8072 7221 2191 91aa aad1 d184 8472 72d6 d6ba ba67 670f 0f02 0275 75c0 c0b5 b525 2509 093a 3a51 5153 53b7 b7c9 c917 17f0 f065 65b7 b76c 6c20 2002 0208 08fb\n",
      "\n",
      "\n"
     ]
    },
    {
     "name": "stderr",
     "output_type": "stream",
     "text": [
      "[Succeeded / Failed / Skipped / Total] 25 / 0 / 2 / 27:  25%|██▌       | 25/100 [01:56<05:49,  4.65s/it]"
     ]
    },
    {
     "name": "stdout",
     "output_type": "stream",
     "text": [
      "--------------------------------------------- Result 26 ---------------------------------------------\n",
      "[[1 (100%)]] --> [[19 (91%)]]\n",
      "\n",
      "[[1f90]] [[9098]] 984d 4dfe fe72 725b 5ba6 a688 8802 0250 5018 1850 5000 00e6 e617 1700 0000 0050 504f 4f53 5354 5420 202f 2f47 4748 4825 2532 3230 3025 2532 3243 4341 416c 6c59 597e 7e2f 2f36 3676 7663 6351 5177 7757 5773 7337 376d 6d72 722f [[2f25]] [[2537]] 3745 454c 4c42 4225 2532 3234 3439 3920 2048 4854 5454 5450 502f 2f31 312e\n",
      "\n",
      "[[1f23]] [[2398]] 984d 4dfe fe72 725b 5ba6 a688 8802 0250 5018 1850 5000 00e6 e617 1700 0000 0050 504f 4f53 5354 5420 202f 2f47 4748 4825 2532 3230 3025 2532 3243 4341 416c 6c59 597e 7e2f 2f36 3676 7663 6351 5177 7757 5773 7337 376d 6d72 722f [[2f3f]] [[3f37]] 3745 454c 4c42 4225 2532 3234 3439 3920 2048 4854 5454 5450 502f 2f31 312e\n",
      "\n",
      "\n",
      "--------------------------------------------- Result 27 ---------------------------------------------\n",
      "[[16 (100%)]] --> [[[SKIPPED]]]\n",
      "\n",
      "0f0b 0b49 4995 951f 1f68 68b1 b1e9 e9b1 b19d 9d50 5018 1816 16d0 d08a 8a1a 1a00 0000 0005 0501 0100 0003 0315 156d 6d61 6169 696c 6c69 696e 6e2d 2d30 3032 322e 2e6d 6d78 782e 2e61 616f 6f6c 6c2e 2e63 636f 6f6d 6d2e 2e00 0019\n",
      "\n",
      "\n"
     ]
    },
    {
     "name": "stderr",
     "output_type": "stream",
     "text": [
      "[Succeeded / Failed / Skipped / Total] 26 / 0 / 2 / 28:  26%|██▌       | 26/100 [02:01<05:46,  4.68s/it]"
     ]
    },
    {
     "name": "stdout",
     "output_type": "stream",
     "text": [
      "--------------------------------------------- Result 28 ---------------------------------------------\n",
      "[[14 (100%)]] --> [[16 (100%)]]\n",
      "\n",
      "9b59 5970 70cf cf96 96d4 d425 2575 7526 26e2 e280 8018 1849 [[4988]] [[88fd]] fd5d 5d00 0000 0001 [[0101]] [[0108]] [[080a]] [[0a5c]] 5c64 6441 4118 1848 4854 549b 9ba2 a254 54ed ed90 90dc dc70 700b 0bbe be3a 3a1b 1b0c 0c67 67b1 b1f6 f6f3 f3dc dc0e 0e07 07d6 d652 52c6 c617 1707 079b 9b01 014b 4b13 13d8 d8bb bb8c 8c26 263d 3ddb db03 039a 9afd\n",
      "\n",
      "9b59 5970 70cf cf96 96d4 d425 2575 7526 26e2 e280 8018 1849 [[497f]] [[7ffd]] fd5d 5d00 0000 0001 [[01d0]] [[d008]] [[08b2]] [[b25c]] 5c64 6441 4118 1848 4854 549b 9ba2 a254 54ed ed90 90dc dc70 700b 0bbe be3a 3a1b 1b0c 0c67 67b1 b1f6 f6f3 f3dc dc0e 0e07 07d6 d652 52c6 c617 1707 079b 9b01 014b 4b13 13d8 d8bb bb8c 8c26 263d 3ddb db03 039a 9afd\n",
      "\n",
      "\n"
     ]
    },
    {
     "name": "stderr",
     "output_type": "stream",
     "text": [
      "[Succeeded / Failed / Skipped / Total] 27 / 0 / 2 / 29:  27%|██▋       | 27/100 [02:05<05:38,  4.64s/it]"
     ]
    },
    {
     "name": "stdout",
     "output_type": "stream",
     "text": [
      "--------------------------------------------- Result 29 ---------------------------------------------\n",
      "[[15 (100%)]] --> [[10 (100%)]]\n",
      "\n",
      "0035 3500 002a 2ae6 e601 018d 8da6 a601 [[0100]] [[0000]] 0001 [[0100]] [[0000]] 0000 0000 0000 0000 000c 0c63 6375 7568 6865 6579 796b 6b6b 6b63 6363 6369 6971 7172 7203 0378 7879 797a 7a00 0000 0001 [[0100]] [[0001]]\n",
      "\n",
      "0035 3500 002a 2ae6 e601 018d 8da6 a601 [[0109]] [[0900]] 0001 [[01ee]] [[ee00]] 0000 0000 0000 0000 000c 0c63 6375 7568 6865 6579 796b 6b6b 6b63 6363 6369 6971 7172 7203 0378 7879 797a 7a00 0000 0001 [[019d]] [[9d01]]\n",
      "\n",
      "\n"
     ]
    },
    {
     "name": "stderr",
     "output_type": "stream",
     "text": [
      "[Succeeded / Failed / Skipped / Total] 28 / 0 / 2 / 30:  28%|██▊       | 28/100 [02:06<05:26,  4.53s/it]"
     ]
    },
    {
     "name": "stdout",
     "output_type": "stream",
     "text": [
      "--------------------------------------------- Result 30 ---------------------------------------------\n",
      "[[5 (100%)]] --> [[19 (40%)]]\n",
      "\n",
      "01bb bb88 88ff ff25 252e 2e0a 0ab7 b7db db90 9080 8018 186b 6b78 7820 20f4 f400 0000 0001 0101 0108 [[080a]] [[0a05]] 0549 49ee eecd cd16 1684 8408 0838 3817 1703 0300 0002 026a 6a60 6028 28b9 b944 44a4 a49f 9f58 5840 401a 1a94 9460 607f 7f65 657d 7d5d 5d2a 2ab5 b5be be95 95cf cffe fef7 f70b 0bbf bf41 41f7 f770 7051 515b 5b98\n",
      "\n",
      "01bb bb88 88ff ff25 252e 2e0a 0ab7 b7db db90 9080 8018 186b 6b78 7820 20f4 f400 0000 0001 0101 0108 [[0826]] [[2605]] 0549 49ee eecd cd16 1684 8408 0838 3817 1703 0300 0002 026a 6a60 6028 28b9 b944 44a4 a49f 9f58 5840 401a 1a94 9460 607f 7f65 657d 7d5d 5d2a 2ab5 b5be be95 95cf cffe fef7 f70b 0bbf bf41 41f7 f770 7051 515b 5b98\n",
      "\n",
      "\n"
     ]
    },
    {
     "name": "stderr",
     "output_type": "stream",
     "text": [
      "[Succeeded / Failed / Skipped / Total] 29 / 0 / 2 / 31:  29%|██▉       | 29/100 [02:10<05:19,  4.50s/it]"
     ]
    },
    {
     "name": "stdout",
     "output_type": "stream",
     "text": [
      "--------------------------------------------- Result 31 ---------------------------------------------\n",
      "[[4 (100%)]] --> [[1 (69%)]]\n",
      "\n",
      "1f90 902a [[2a1d]] [[1d06]] 06d7 d788 88ce ce98 9802 [[0250]] [[5018]] 18fa [[faf0]] [[f0ae]] aea4 a400 0000 0050 504f 4f53 5354 5420 202f 2f38 3833 3337 3733 3336 3661 6161 6136 362f 2f38 3830 3036 3637 3738 3832 3239 3937 3733 332e 2e70 7068 6870 7020 2048 4854 5454 5450 502f 2f31 312e 2e31 310d 0d0a 0a41 4163 6363 6365 6570 7074 743a 3a20\n",
      "\n",
      "1f90 902a [[2a56]] [[5606]] 06d7 d788 88ce ce98 9802 [[02f7]] [[f718]] 18fa [[fa39]] [[39ae]] aea4 a400 0000 0050 504f 4f53 5354 5420 202f 2f38 3833 3337 3733 3336 3661 6161 6136 362f 2f38 3830 3036 3637 3738 3832 3239 3937 3733 332e 2e70 7068 6870 7020 2048 4854 5454 5450 502f 2f31 312e 2e31 310d 0d0a 0a41 4163 6363 6365 6570 7074 743a 3a20\n",
      "\n",
      "\n"
     ]
    },
    {
     "name": "stderr",
     "output_type": "stream",
     "text": [
      "[Succeeded / Failed / Skipped / Total] 30 / 0 / 2 / 32:  30%|███       | 30/100 [02:13<05:10,  4.44s/it]"
     ]
    },
    {
     "name": "stdout",
     "output_type": "stream",
     "text": [
      "--------------------------------------------- Result 32 ---------------------------------------------\n",
      "[[3 (100%)]] --> [[5 (100%)]]\n",
      "\n",
      "d6fd fdac acd0 d077 771b 1bab abd3 d365 654c 4c80 8018 181c 1c48 [[489f]] [[9f2d]] 2d00 0000 0001 0101 0108 080a [[0ad7]] [[d7f0]] f0e5 e50c 0cc6 c69a 9ae5 e5aa aa33 3333 3331 3120 2050 5061 6173 7373 7377 776f 6f72 7264 6420 2072 7265 6571 7175 7569 6972 7265 6564 6420 2066 666f 6f72 7220 2061 616e 6e6f 6f6e 6e79 796d 6d6f 6f75 7573\n",
      "\n",
      "d6fd fdac acd0 d077 771b 1bab abd3 d365 654c 4c80 8018 181c 1c48 [[487b]] [[7b2d]] 2d00 0000 0001 0101 0108 080a [[0a16]] [[16f0]] f0e5 e50c 0cc6 c69a 9ae5 e5aa aa33 3333 3331 3120 2050 5061 6173 7373 7377 776f 6f72 7264 6420 2072 7265 6571 7175 7569 6972 7265 6564 6420 2066 666f 6f72 7220 2061 616e 6e6f 6f6e 6e79 796d 6d6f 6f75 7573\n",
      "\n",
      "\n"
     ]
    },
    {
     "name": "stderr",
     "output_type": "stream",
     "text": [
      "[Succeeded / Failed / Skipped / Total] 31 / 0 / 2 / 33:  31%|███       | 31/100 [02:15<05:02,  4.38s/it]"
     ]
    },
    {
     "name": "stdout",
     "output_type": "stream",
     "text": [
      "--------------------------------------------- Result 33 ---------------------------------------------\n",
      "[[0 (100%)]] --> [[5 (100%)]]\n",
      "\n",
      "01bb bbb8 [[b831]] [[3127]] 27e0 e052 5267 6760 60b0 b080 8018 1898 98b8 b895 95a6 a600 0000 0001 0101 0108 080a [[0a11]] [[11f6]] f6a8 a8ee ee23 2325 25c5 c540 4017 1703 0300 0000 003d 3d2f 2f21 214d 4d1b 1b2a 2a31 3106 069d 9db8 b89b 9b5e 5eb6 b69e 9ee3 e325 25fa faf9 f917 170f 0fb9 b9b1 b120 201b 1b6e 6e19 19c2 c2cb cb7e 7e0b 0b49\n",
      "\n",
      "01bb bbb8 [[b81a]] [[1a27]] 27e0 e052 5267 6760 60b0 b080 8018 1898 98b8 b895 95a6 a600 0000 0001 0101 0108 080a [[0a16]] [[16f6]] f6a8 a8ee ee23 2325 25c5 c540 4017 1703 0300 0000 003d 3d2f 2f21 214d 4d1b 1b2a 2a31 3106 069d 9db8 b89b 9b5e 5eb6 b69e 9ee3 e325 25fa faf9 f917 170f 0fb9 b9b1 b120 201b 1b6e 6e19 19c2 c2cb cb7e 7e0b 0b49\n",
      "\n",
      "\n"
     ]
    },
    {
     "name": "stderr",
     "output_type": "stream",
     "text": [
      "[Succeeded / Failed / Skipped / Total] 32 / 0 / 2 / 34:  32%|███▏      | 32/100 [02:18<04:53,  4.32s/it]"
     ]
    },
    {
     "name": "stdout",
     "output_type": "stream",
     "text": [
      "--------------------------------------------- Result 34 ---------------------------------------------\n",
      "[[6 (100%)]] --> [[4 (69%)]]\n",
      "\n",
      "d1e3 [[e331]] [[316d]] 6d8a 8a22 22c5 c55f 5f53 5388 8850 5018 18ff ffff ff97 97e1 e100 0000 0016 1603 [[0303]] [[0300]] 00b0 b001 0100 0000 00ac ac03 0303 0354 54fb fbe2 e2a8 a863 6309 0967 6767 67db dbcd cd1a 1a18 1866 666f 6fbc bce2 e2a6 a6e1 e112 12b7 b750 5024 242e 2e65 65ee eeeb ebe1 e115 15bc bc4a 4a32 325d 5d00 0000 0034 34c0\n",
      "\n",
      "d1e3 [[e392]] [[926d]] 6d8a 8a22 22c5 c55f 5f53 5388 8850 5018 18ff ffff ff97 97e1 e100 0000 0016 1603 [[0361]] [[6100]] 00b0 b001 0100 0000 00ac ac03 0303 0354 54fb fbe2 e2a8 a863 6309 0967 6767 67db dbcd cd1a 1a18 1866 666f 6fbc bce2 e2a6 a6e1 e112 12b7 b750 5024 242e 2e65 65ee eeeb ebe1 e115 15bc bc4a 4a32 325d 5d00 0000 0034 34c0\n",
      "\n",
      "\n"
     ]
    },
    {
     "name": "stderr",
     "output_type": "stream",
     "text": [
      "[Succeeded / Failed / Skipped / Total] 33 / 0 / 2 / 35:  33%|███▎      | 33/100 [02:19<04:44,  4.24s/it]"
     ]
    },
    {
     "name": "stdout",
     "output_type": "stream",
     "text": [
      "--------------------------------------------- Result 35 ---------------------------------------------\n",
      "[[8 (100%)]] --> [[5 (100%)]]\n",
      "\n",
      "ef90 90c5 c5e4 e4e6 e677 773d 3df8 f8de de60 6080 8018 182d 2d40 40c3 c37a 7a00 0000 0001 0101 0108 080a [[0a0f]] [[0f45]] 452f 2fb5 b5fd fde6 e66c 6cd9 d901 0100 0000 0001 0103 0343 4300 0000 0002 0203 0364 6465 6566 660b 0b6d 6d79 795f 5f64 6461 6174 7461 6162 6261 6173 7365 6505 0575 7573 7365 6572 7273 7305 0575 7573 7365\n",
      "\n",
      "ef90 90c5 c5e4 e4e6 e677 773d 3df8 f8de de60 6080 8018 182d 2d40 40c3 c37a 7a00 0000 0001 0101 0108 080a [[0a16]] [[1645]] 452f 2fb5 b5fd fde6 e66c 6cd9 d901 0100 0000 0001 0103 0343 4300 0000 0002 0203 0364 6465 6566 660b 0b6d 6d79 795f 5f64 6461 6174 7461 6162 6261 6173 7365 6505 0575 7573 7365 6572 7273 7305 0575 7573 7365\n",
      "\n",
      "\n"
     ]
    },
    {
     "name": "stderr",
     "output_type": "stream",
     "text": [
      "[Succeeded / Failed / Skipped / Total] 34 / 0 / 3 / 37:  34%|███▍      | 34/100 [02:21<04:34,  4.17s/it]"
     ]
    },
    {
     "name": "stdout",
     "output_type": "stream",
     "text": [
      "--------------------------------------------- Result 36 ---------------------------------------------\n",
      "[[19 (100%)]] --> [[16 (100%)]]\n",
      "\n",
      "c423 2369 69b0 b0b5 b5d7 d749 4969 69e7 e7b0 b050 5010 1000 [[000e]] [[0ecf]] cf20 2000 0000 0000 0000 007a 7a25 2500 0000 0080 8083 8300 0000 00f9 f9ff ff00 0000 0080 80e9 e900 0000 0075 7530 3000 0000 00ea ea60 6000 0000 003a 3a98 9800 0000 0017 176f 6f92 925f 5fc5 c546 4600 0000 001d 1d24 2449 4944 4441 4154 5478 78da da44\n",
      "\n",
      "c423 2369 69b0 b0b5 b5d7 d749 4969 69e7 e7b0 b050 5010 1000 [[009a]] [[9acf]] cf20 2000 0000 0000 0000 007a 7a25 2500 0000 0080 8083 8300 0000 00f9 f9ff ff00 0000 0080 80e9 e900 0000 0075 7530 3000 0000 00ea ea60 6000 0000 003a 3a98 9800 0000 0017 176f 6f92 925f 5fc5 c546 4600 0000 001d 1d24 2449 4944 4441 4154 5478 78da da44\n",
      "\n",
      "\n",
      "--------------------------------------------- Result 37 ---------------------------------------------\n",
      "[[9 (100%)]] --> [[[SKIPPED]]]\n",
      "\n",
      "0050 5011 1179 79f3 f3bd bddc dc43 435c 5c9f 9f50 5018 18fb fb5e 5e35 35ef ef00 0000 0047 4745 4554 5420 202f 2f67 6761 612e 2e6a 6a73 7320 2048 4854 5454 5450 502f 2f31 312e 2e31 310d 0d0a 0a41 4163 6363 6365 6570 7074 743a 3a20 202a 2a2f 2f2a 2a0d 0d0a 0a52 5265 6566 6665 6572 7265 6572 723a 3a20 2068 6874 7474 7470\n",
      "\n",
      "\n"
     ]
    },
    {
     "name": "stderr",
     "output_type": "stream",
     "text": [
      "[Succeeded / Failed / Skipped / Total] 35 / 0 / 3 / 38:  35%|███▌      | 35/100 [02:23<04:25,  4.09s/it]"
     ]
    },
    {
     "name": "stdout",
     "output_type": "stream",
     "text": [
      "--------------------------------------------- Result 38 ---------------------------------------------\n",
      "[[14 (100%)]] --> [[18 (100%)]]\n",
      "\n",
      "c858 58c5 c54e 4e60 6097 97e2 e261 6173 73b1 b180 8010 [[1049]] [[4988]] 8897 979e 9e00 0000 0001 0101 0108 080a 0a5c 5c6a 6a48 4823 2348 4870 7013 13e5 e506 0638 3837 3770 7037 3726 263b 3b18 18b1 b133 33fd fd8f 8f99 99b7 b7fe fe4e 4e76 7676 7679 79c0 c099 9984 8455 551c 1ca8 a8ed ed14 1442 42d1 d199 99fa fad2 d265 6599 99dd\n",
      "\n",
      "c858 58c5 c54e 4e60 6097 97e2 e261 6173 73b1 b180 8010 [[1020]] [[2088]] 8897 979e 9e00 0000 0001 0101 0108 080a 0a5c 5c6a 6a48 4823 2348 4870 7013 13e5 e506 0638 3837 3770 7037 3726 263b 3b18 18b1 b133 33fd fd8f 8f99 99b7 b7fe fe4e 4e76 7676 7679 79c0 c099 9984 8455 551c 1ca8 a8ed ed14 1442 42d1 d199 99fa fad2 d265 6599 99dd\n",
      "\n",
      "\n"
     ]
    },
    {
     "name": "stderr",
     "output_type": "stream",
     "text": [
      "[Succeeded / Failed / Skipped / Total] 36 / 0 / 3 / 39:  36%|███▌      | 36/100 [02:27<04:22,  4.10s/it]"
     ]
    },
    {
     "name": "stdout",
     "output_type": "stream",
     "text": [
      "--------------------------------------------- Result 39 ---------------------------------------------\n",
      "[[10 (100%)]] --> [[9 (70%)]]\n",
      "\n",
      "[[1dd9]] [[d904]] [[0428]] [[2885]] 8516 1602 0294 9469 69e6 e645 45d9 d971 7131 314a 4af2 f2bb bbf1 f1ef ef6e 6e13 1356 563f 3f9a 9af0 f009 09c4 c409 092e 2ee1 e165 [[6500]] [[00ba]] ba02 0200 0000 0000 0004 0431 31a7 a779 7975 7526 26f1 f178 78c5 c5d4 d434 3450 5092 9216 16d8 d885 855c 5c88 884f 4f50 50b1 b14f 4ffa fa23 2321 2157 5759 592f\n",
      "\n",
      "[[1d6a]] [[6a04]] [[04b2]] [[b285]] 8516 1602 0294 9469 69e6 e645 45d9 d971 7131 314a 4af2 f2bb bbf1 f1ef ef6e 6e13 1356 563f 3f9a 9af0 f009 09c4 c409 092e 2ee1 e165 [[658f]] [[8fba]] ba02 0200 0000 0000 0004 0431 31a7 a779 7975 7526 26f1 f178 78c5 c5d4 d434 3450 5092 9216 16d8 d885 855c 5c88 884f 4f50 50b1 b14f 4ffa fa23 2321 2157 5759 592f\n",
      "\n",
      "\n"
     ]
    },
    {
     "name": "stderr",
     "output_type": "stream",
     "text": [
      "[Succeeded / Failed / Skipped / Total] 37 / 0 / 3 / 40:  37%|███▋      | 37/100 [02:38<04:29,  4.28s/it]"
     ]
    },
    {
     "name": "stdout",
     "output_type": "stream",
     "text": [
      "--------------------------------------------- Result 40 ---------------------------------------------\n",
      "[[9 (100%)]] --> [[6 (97%)]]\n",
      "\n",
      "0050 50d0 d02b 2b24 [[24fa]] [[fafa]] facb cbd8 d8e6 e650 5018 18fa faf0 f0da daa2 a200 0000 0047 4745 [[4554]] [[5420]] [[202f]] [[2f20]] 2048 4854 5454 [[5450]] [[502f]] [[2f31]] 312e [[2e30]] [[300d]] 0d0a [[0a48]] [[486f]] 6f73 7374 743a 3a20 2031 3137 3734 342e 2e33 3337 372e 2e31 3139 3936 362e 2e35 3535 350d 0d0a 0a4b 4b65 6565 6570 702d 2d41 416c 6c69 6976 7665\n",
      "\n",
      "0050 50d0 d02b 2b24 [[24ec]] [[ecfa]] facb cbd8 d8e6 e650 5018 18fa faf0 f0da daa2 a200 0000 0047 4745 [[4550]] [[5020]] [[20f5]] [[f520]] 2048 4854 5454 [[54ee]] [[ee29]] [[2931]] 312e [[2e98]] [[980d]] 0d0a [[0a85]] [[856f]] 6f73 7374 743a 3a20 2031 3137 3734 342e 2e33 3337 372e 2e31 3139 3936 362e 2e35 3535 350d 0d0a 0a4b 4b65 6565 6570 702d 2d41 416c 6c69 6976 7665\n",
      "\n",
      "\n"
     ]
    },
    {
     "name": "stderr",
     "output_type": "stream",
     "text": [
      "[Succeeded / Failed / Skipped / Total] 38 / 0 / 3 / 41:  38%|███▊      | 38/100 [02:40<04:21,  4.21s/it]"
     ]
    },
    {
     "name": "stdout",
     "output_type": "stream",
     "text": [
      "--------------------------------------------- Result 41 ---------------------------------------------\n",
      "[[0 (100%)]] --> [[11 (100%)]]\n",
      "\n",
      "01bb bbae ae24 2456 56d8 d8ce ceb5 b5e4 e4d1 d180 8018 189e 9e60 607b 7bf4 f400 0000 0001 0101 0108 080a [[0a11]] [[11f5]] f52a 2a57 5723 2324 2408 082e 2e17 1703 0300 0005 0578 78e5 e50a 0a18 189b 9b57 5714 14a6 a638 380f 0f49 497f 7fe0 e06d 6d9d 9d09 095b 5b84 8408 08f0 f085 85b7 b747 47d6 d6af afac acdf dfe5 e500 0086 869c\n",
      "\n",
      "01bb bbae ae24 2456 56d8 d8ce ceb5 b5e4 e4d1 d180 8018 189e 9e60 607b 7bf4 f400 0000 0001 0101 0108 080a [[0a0d]] [[0df5]] f52a 2a57 5723 2324 2408 082e 2e17 1703 0300 0005 0578 78e5 e50a 0a18 189b 9b57 5714 14a6 a638 380f 0f49 497f 7fe0 e06d 6d9d 9d09 095b 5b84 8408 08f0 f085 85b7 b747 47d6 d6af afac acdf dfe5 e500 0086 869c\n",
      "\n",
      "\n"
     ]
    },
    {
     "name": "stderr",
     "output_type": "stream",
     "text": [
      "[Succeeded / Failed / Skipped / Total] 39 / 0 / 3 / 42:  39%|███▉      | 39/100 [02:42<04:14,  4.17s/it]"
     ]
    },
    {
     "name": "stdout",
     "output_type": "stream",
     "text": [
      "--------------------------------------------- Result 42 ---------------------------------------------\n",
      "[[17 (100%)]] --> [[3 (93%)]]\n",
      "\n",
      "[[0e8c]] [[8ce7]] e716 16d4 d4d0 d0e7 e717 1713 13c8 c880 8018 181c 1c48 4870 704e 4e00 0000 0001 0101 0108 080a 0af5 f571 71d8 d89b 9b06 06c3 c38b 8b2a 2a01 0175 7561 6102 0272 721e 1e43 4350 [[5028]] [[2868]] 6879 791e 1e32 324e 4e47 4738 3843 4364 6436 360b 0b15 1559 5964 647e 7e64 6419 190f 0f3e 3e11 1175 752b 2b36 3678 783c 3c67\n",
      "\n",
      "[[0ec0]] [[c0e7]] e716 16d4 d4d0 d0e7 e717 1713 13c8 c880 8018 181c 1c48 4870 704e 4e00 0000 0001 0101 0108 080a 0af5 f571 71d8 d89b 9b06 06c3 c38b 8b2a 2a01 0175 7561 6102 0272 721e 1e43 4350 [[5071]] [[7168]] 6879 791e 1e32 324e 4e47 4738 3843 4364 6436 360b 0b15 1559 5964 647e 7e64 6419 190f 0f3e 3e11 1175 752b 2b36 3678 783c 3c67\n",
      "\n",
      "\n"
     ]
    },
    {
     "name": "stderr",
     "output_type": "stream",
     "text": [
      "[Succeeded / Failed / Skipped / Total] 40 / 0 / 3 / 43:  40%|████      | 40/100 [02:52<04:18,  4.30s/it]"
     ]
    },
    {
     "name": "stdout",
     "output_type": "stream",
     "text": [
      "--------------------------------------------- Result 43 ---------------------------------------------\n",
      "[[15 (100%)]] --> [[10 (100%)]]\n",
      "\n",
      "df43 4300 006b 6b64 64af af8e 8ed8 d881 8183 8300 0001 [[0100]] [[0000]] 0000 0001 0100 0000 000c 0c67 676c 6c67 676e 6e71 716a 6a62 6275 7571 716e 6e78 7865 6503 0378 7879 797a 7a00 0000 0001 [[0100]] [[0001]] 01c0 c019 1900 0006 0600 0001 [[0100]] [[0000]] 0001 0176 [[7600]] [[0035]] 3503 036e 6e73 7330 300a 0a63 6365 656e 6e74 7472 7261 616c 6c6e\n",
      "\n",
      "df43 4300 006b 6b64 64af af8e 8ed8 d881 8183 8300 0001 [[010b]] [[0b00]] 0000 0001 0100 0000 000c 0c67 676c 6c67 676e 6e71 716a 6a62 6275 7571 716e 6e78 7865 6503 0378 7879 797a 7a00 0000 0001 [[012b]] [[2b01]] 01c0 c019 1900 0006 0600 0001 [[01d4]] [[d400]] 0001 0176 [[762d]] [[2d35]] 3503 036e 6e73 7330 300a 0a63 6365 656e 6e74 7472 7261 616c 6c6e\n",
      "\n",
      "\n"
     ]
    },
    {
     "name": "stderr",
     "output_type": "stream",
     "text": [
      "[Succeeded / Failed / Skipped / Total] 41 / 0 / 3 / 44:  41%|████      | 41/100 [02:53<04:10,  4.24s/it]"
     ]
    },
    {
     "name": "stdout",
     "output_type": "stream",
     "text": [
      "--------------------------------------------- Result 44 ---------------------------------------------\n",
      "[[5 (100%)]] --> [[0 (100%)]]\n",
      "\n",
      "8617 1792 9289 891a 1a16 160f 0fa1 a14d 4df0 f080 8018 1876 76c8 c8a9 a914 1400 0000 0001 0101 0108 080a [[0a16]] [[1699]] 99f9 f93b 3b05 052f 2f2d 2d5b 5b17 1703 0300 0003 0396 9697 97f2 f2b6 b694 94dc dca9 a90e 0e18 18a2 a27f 7f39 396d 6daf af7c 7c60 6021 21d1 d122 221f 1f73 733f 3fc5 c554 548a 8a54 5457 57e1 e1ac ac87 875e\n",
      "\n",
      "8617 1792 9289 891a 1a16 160f 0fa1 a14d 4df0 f080 8018 1876 76c8 c8a9 a914 1400 0000 0001 0101 0108 080a [[0a98]] [[9899]] 99f9 f93b 3b05 052f 2f2d 2d5b 5b17 1703 0300 0003 0396 9697 97f2 f2b6 b694 94dc dca9 a90e 0e18 18a2 a27f 7f39 396d 6daf af7c 7c60 6021 21d1 d122 221f 1f73 733f 3fc5 c554 548a 8a54 5457 57e1 e1ac ac87 875e\n",
      "\n",
      "\n"
     ]
    },
    {
     "name": "stderr",
     "output_type": "stream",
     "text": [
      "[Succeeded / Failed / Skipped / Total] 42 / 0 / 3 / 45:  42%|████▏     | 42/100 [02:59<04:07,  4.27s/it]"
     ]
    },
    {
     "name": "stdout",
     "output_type": "stream",
     "text": [
      "--------------------------------------------- Result 45 ---------------------------------------------\n",
      "[[4 (100%)]] --> [[6 (100%)]]\n",
      "\n",
      "c965 6515 [[15bb]] [[bb4a]] 4a02 0295 95db dbb9 b9ec ec50 5018 18ff ffff ff41 4196 9600 0000 0048 4854 5454 5450 502f 2f31 312e 2e31 3120 2032 3230 3030 3020 204f 4f4b 4b0d 0d0a 0a53 5365 6572 7276 7665 6572 723a 3a20 206e 6e67 6769 696e 6e78 [[780d]] [[0d0a]] 0a44 4461 6174 7465 653a 3a20 2054 5475 7565 652c 2c20 [[2031]] [[3132]] 3220 [[204d]]\n",
      "\n",
      "c965 6515 [[15cc]] [[cc4a]] 4a02 0295 95db dbb9 b9ec ec50 5018 18ff ffff ff41 4196 9600 0000 0048 4854 5454 5450 502f 2f31 312e 2e31 3120 2032 3230 3030 3020 204f 4f4b 4b0d 0d0a 0a53 5365 6572 7276 7665 6572 723a 3a20 206e 6e67 6769 696e 6e78 [[7833]] [[330a]] 0a44 4461 6174 7465 653a 3a20 2054 5475 7565 652c 2c20 [[20b6]] [[b632]] 3220 [[2038]]\n",
      "\n",
      "\n"
     ]
    },
    {
     "name": "stderr",
     "output_type": "stream",
     "text": [
      "[Succeeded / Failed / Skipped / Total] 43 / 0 / 3 / 46:  43%|████▎     | 43/100 [03:02<04:01,  4.23s/it]"
     ]
    },
    {
     "name": "stdout",
     "output_type": "stream",
     "text": [
      "--------------------------------------------- Result 46 ---------------------------------------------\n",
      "[[5 (100%)]] --> [[18 (58%)]]\n",
      "\n",
      "01bb bb1e 1e94 9415 15dc dc7d 7d92 920f 0f5b 5b80 8018 185a 5a80 8077 77cb cb00 0000 0001 0101 0108 080a 0a05 0549 492e 2e41 41fd fd35 35b6 b6f4 f417 [[1703]] [[0300]] [[0005]] 0554 5491 91c8 c822 226b 6bd0 d0ef ef2d 2df1 f1cc cccc cc74 7491 91f3 f348 4851 5109 0991 917b 7b6c 6cf3 f326 261c 1c9b 9b75 7573 733f 3f2f 2f45 45f5 f566\n",
      "\n",
      "01bb bb1e 1e94 9415 15dc dc7d 7d92 920f 0f5b 5b80 8018 185a 5a80 8077 77cb cb00 0000 0001 0101 0108 080a 0a05 0549 492e 2e41 41fd fd35 35b6 b6f4 f417 [[17b8]] [[b8b6]] [[b605]] 0554 5491 91c8 c822 226b 6bd0 d0ef ef2d 2df1 f1cc cccc cc74 7491 91f3 f348 4851 5109 0991 917b 7b6c 6cf3 f326 261c 1c9b 9b75 7573 733f 3f2f 2f45 45f5 f566\n",
      "\n",
      "\n"
     ]
    },
    {
     "name": "stderr",
     "output_type": "stream",
     "text": [
      "[Succeeded / Failed / Skipped / Total] 44 / 0 / 3 / 47:  44%|████▍     | 44/100 [03:09<04:01,  4.31s/it]"
     ]
    },
    {
     "name": "stdout",
     "output_type": "stream",
     "text": [
      "--------------------------------------------- Result 47 ---------------------------------------------\n",
      "[[17 (100%)]] --> [[9 (95%)]]\n",
      "\n",
      "0e8c 8c67 67ed edc1 c1a2 a267 67ed edf8 f827 2780 8018 181c 1c48 485e 5ed6 d600 0000 0001 0101 [[0108]] [[080a]] 0af5 [[f574]] [[7444]] 44fe fe06 06c5 c5f6 f6ff ff01 010b 0b44 4470 704c 4c3b [[3b43]] [[437e]] 7e35 3564 646d 6d26 2645 4536 3648 4800 0065 6562 6203 0307 0726 262d 2d66 [[6653]] [[5327]] 270e 0e22 220f 0f5d 5d5a 5a2b 2b00 0046 4605 054a\n",
      "\n",
      "0e8c 8c67 67ed edc1 c1a2 a267 67ed edf8 f827 2780 8018 181c 1c48 485e 5ed6 d600 0000 0001 0101 [[011f]] [[1f0a]] 0af5 [[f5b0]] [[b044]] 44fe fe06 06c5 c5f6 f6ff ff01 010b 0b44 4470 704c 4c3b [[3b3c]] [[3c7e]] 7e35 3564 646d 6d26 2645 4536 3648 4800 0065 6562 6203 0307 0726 262d 2d66 [[6627]] [[2727]] 270e 0e22 220f 0f5d 5d5a 5a2b 2b00 0046 4605 054a\n",
      "\n",
      "\n"
     ]
    },
    {
     "name": "stderr",
     "output_type": "stream",
     "text": [
      "[Succeeded / Failed / Skipped / Total] 45 / 0 / 3 / 48:  45%|████▌     | 45/100 [03:12<03:55,  4.27s/it]"
     ]
    },
    {
     "name": "stdout",
     "output_type": "stream",
     "text": [
      "--------------------------------------------- Result 48 ---------------------------------------------\n",
      "[[9 (100%)]] --> [[16 (92%)]]\n",
      "\n",
      "ffdc dc95 9588 88fd fdd5 d52c 2c99 9994 9480 8050 [[5010]] [[10f5]] f576 76a9 a91a 1a00 0000 00c6 c621 21a1 a149 4920 2067 67af af7d 7d5c 5cef ef3c 3c55 55eb eb88 887d 7db0 b0d8 d800 00f4 f4b7 b719 19ae aeab abee ee6e 6ee8 e8aa aa47 4723 2359 5979 795b 5b1c 1c86 8654 [[54f6]] [[f628]] 28ca ca5c 5c41 41c3 c3db db30 3065 65aa aa0b 0b53\n",
      "\n",
      "ffdc dc95 9588 88fd fdd5 d52c 2c99 9994 9480 8050 [[50bb]] [[bbf5]] f576 76a9 a91a 1a00 0000 00c6 c621 21a1 a149 4920 2067 67af af7d 7d5c 5cef ef3c 3c55 55eb eb88 887d 7db0 b0d8 d800 00f4 f4b7 b719 19ae aeab abee ee6e 6ee8 e8aa aa47 4723 2359 5979 795b 5b1c 1c86 8654 [[54e8]] [[e828]] 28ca ca5c 5c41 41c3 c3db db30 3065 65aa aa0b 0b53\n",
      "\n",
      "\n"
     ]
    },
    {
     "name": "stderr",
     "output_type": "stream",
     "text": [
      "[Succeeded / Failed / Skipped / Total] 46 / 0 / 3 / 49:  46%|████▌     | 46/100 [03:13<03:47,  4.22s/it]"
     ]
    },
    {
     "name": "stdout",
     "output_type": "stream",
     "text": [
      "--------------------------------------------- Result 49 ---------------------------------------------\n",
      "[[3 (100%)]] --> [[5 (100%)]]\n",
      "\n",
      "62c5 c5aa aac5 c57e 7eaf afa6 a658 58dd dd22 2280 8018 181c 1c48 48d5 d533 3300 0000 0001 0101 0108 080a [[0ad7]] [[d7f0]] f084 8431 31c6 c697 971c 1c9e 9e33 3333 3331 3120 2050 5061 6173 7373 7377 776f 6f72 7264 6420 2072 7265 6571 7175 7569 6972 7265 6564 6420 2066 666f 6f72 7220 2061 616e 6e6f 6f6e 6e79 796d 6d6f 6f75 7573\n",
      "\n",
      "62c5 c5aa aac5 c57e 7eaf afa6 a658 58dd dd22 2280 8018 181c 1c48 48d5 d533 3300 0000 0001 0101 0108 080a [[0a16]] [[16f0]] f084 8431 31c6 c697 971c 1c9e 9e33 3333 3331 3120 2050 5061 6173 7373 7377 776f 6f72 7264 6420 2072 7265 6571 7175 7569 6972 7265 6564 6420 2066 666f 6f72 7220 2061 616e 6e6f 6f6e 6e79 796d 6d6f 6f75 7573\n",
      "\n",
      "\n"
     ]
    },
    {
     "name": "stderr",
     "output_type": "stream",
     "text": [
      "[Succeeded / Failed / Skipped / Total] 47 / 0 / 3 / 50:  47%|████▋     | 47/100 [03:19<03:44,  4.24s/it]"
     ]
    },
    {
     "name": "stdout",
     "output_type": "stream",
     "text": [
      "--------------------------------------------- Result 50 ---------------------------------------------\n",
      "[[15 (100%)]] --> [[10 (90%)]]\n",
      "\n",
      "d75d 5d00 006b 6b42 4233 3395 95c8 c881 8183 8300 0001 [[0100]] [[0000]] 0000 0001 0100 0000 000c 0c67 6767 6763 6364 6464 6478 7862 6271 7164 6479 7977 7779 7903 0378 7879 [[797a]] [[7a00]] 0000 [[0001]] [[0100]] 0001 01c0 c019 1900 0006 0600 0001 0100 0000 0007 0707 0700 0035 3503 036e 6e73 7330 300a 0a63 6365 656e 6e74 7472 7261 616c 6c6e\n",
      "\n",
      "d75d 5d00 006b 6b42 4233 3395 95c8 c881 8183 8300 0001 [[01fe]] [[fe00]] 0000 0001 0100 0000 000c 0c67 6767 6763 6364 6464 6478 7862 6271 7164 6479 7977 7779 7903 0378 7879 [[7965]] [[6500]] 0000 [[00a0]] [[a000]] 0001 01c0 c019 1900 0006 0600 0001 0100 0000 0007 0707 0700 0035 3503 036e 6e73 7330 300a 0a63 6365 656e 6e74 7472 7261 616c 6c6e\n",
      "\n",
      "\n"
     ]
    },
    {
     "name": "stderr",
     "output_type": "stream",
     "text": [
      "[Succeeded / Failed / Skipped / Total] 48 / 0 / 3 / 51:  48%|████▊     | 48/100 [03:20<03:37,  4.19s/it]"
     ]
    },
    {
     "name": "stdout",
     "output_type": "stream",
     "text": [
      "--------------------------------------------- Result 51 ---------------------------------------------\n",
      "[[6 (100%)]] --> [[12 (100%)]]\n",
      "\n",
      "ccff ffee eeb9 b9af af22 2258 58fb fbfc fc64 6450 5018 18ff ffff ff20 20a2 a200 0000 0017 1703 [[0303]] [[0300]] 00bd bde7 e7d2 d247 478c 8c55 5534 34bd bd1b 1b2c 2c89 89d8 d8c2 c252 52c5 c5dc dcb7 b7cc cc6b 6b6a 6a4f 4f38 38af afe1 e1a7 a7ab ab85 8519 1973 7330 303b 3bd0 d03c 3c7f 7fd4 d434 345a 5ae7 e75d 5d0e 0e94 947f 7f1b\n",
      "\n",
      "ccff ffee eeb9 b9af af22 2258 58fb fbfc fc64 6450 5018 18ff ffff ff20 20a2 a200 0000 0017 1703 [[0300]] [[0000]] 00bd bde7 e7d2 d247 478c 8c55 5534 34bd bd1b 1b2c 2c89 89d8 d8c2 c252 52c5 c5dc dcb7 b7cc cc6b 6b6a 6a4f 4f38 38af afe1 e1a7 a7ab ab85 8519 1973 7330 303b 3bd0 d03c 3c7f 7fd4 d434 345a 5ae7 e75d 5d0e 0e94 947f 7f1b\n",
      "\n",
      "\n"
     ]
    },
    {
     "name": "stderr",
     "output_type": "stream",
     "text": [
      "[Succeeded / Failed / Skipped / Total] 49 / 0 / 3 / 52:  49%|████▉     | 49/100 [03:23<03:32,  4.16s/it]"
     ]
    },
    {
     "name": "stdout",
     "output_type": "stream",
     "text": [
      "--------------------------------------------- Result 52 ---------------------------------------------\n",
      "[[18 (100%)]] --> [[14 (69%)]]\n",
      "\n",
      "7ef4 f48c 8c6c 6cae aea9 a99f 9fbb bb7c 7c40 4080 8018 1821 [[21f0]] [[f0be]] bec3 c300 0000 0001 0101 0108 080a 0af9 f999 99b4 b430 30e7 e71b 1bf7 f723 2320 208a 8ac6 c6f8 f891 9168 68b7 b7be be0c 0cb9 b98a 8a2c 2ccd cd72 7284 844c 4c07 075d 5da0 a075 75e6 e6b0 b07b 7b34 346a 6a9d [[9dcf]] [[cf46]] 46d2 d26e 6ec6 c6a7 a768 6893 93ee\n",
      "\n",
      "7ef4 f48c 8c6c 6cae aea9 a99f 9fbb bb7c 7c40 4080 8018 1821 [[2177]] [[77be]] bec3 c300 0000 0001 0101 0108 080a 0af9 f999 99b4 b430 30e7 e71b 1bf7 f723 2320 208a 8ac6 c6f8 f891 9168 68b7 b7be be0c 0cb9 b98a 8a2c 2ccd cd72 7284 844c 4c07 075d 5da0 a075 75e6 e6b0 b07b 7b34 346a 6a9d [[9d3e]] [[3e46]] 46d2 d26e 6ec6 c6a7 a768 6893 93ee\n",
      "\n",
      "\n"
     ]
    },
    {
     "name": "stderr",
     "output_type": "stream",
     "text": [
      "[Succeeded / Failed / Skipped / Total] 50 / 0 / 3 / 53:  50%|█████     | 50/100 [03:33<03:33,  4.28s/it]"
     ]
    },
    {
     "name": "stdout",
     "output_type": "stream",
     "text": [
      "--------------------------------------------- Result 53 ---------------------------------------------\n",
      "[[10 (100%)]] --> [[16 (50%)]]\n",
      "\n",
      "[[1db0]] [[b004]] [[0428]] [[28f2]] f21e 1e02 020b 0b99 [[9998]] [[9803]] 03d9 d971 [[7131]] [[314a]] 4af2 f2bb bbf1 f1ef ef6e [[6e13]] [[1356]] 563f 3f9a 9af0 [[f009]] [[09c4]] c409 092e 2ee1 e165 6500 004f 4f00 0000 0000 0000 0004 0407 07bf bfb8 b8db db6c 6cad ad60 6057 572c 2cda dada daf2 f2d5 d5cf cf15 15ec ece7 e793 [[936a]] [[6af7]] f79f 9fbe be59 59c1 c1ae aeed edde\n",
      "\n",
      "[[1da2]] [[a204]] [[0405]] [[05f2]] f21e 1e02 020b 0b99 [[9908]] [[0803]] 03d9 d971 [[7168]] [[684a]] 4af2 f2bb bbf1 f1ef ef6e [[6e2e]] [[2e56]] 563f 3f9a 9af0 [[f063]] [[63c4]] c409 092e 2ee1 e165 6500 004f 4f00 0000 0000 0000 0004 0407 07bf bfb8 b8db db6c 6cad ad60 6057 572c 2cda dada daf2 f2d5 d5cf cf15 15ec ece7 e793 [[93a5]] [[a5f7]] f79f 9fbe be59 59c1 c1ae aeed edde\n",
      "\n",
      "\n"
     ]
    },
    {
     "name": "stderr",
     "output_type": "stream",
     "text": [
      "[Succeeded / Failed / Skipped / Total] 51 / 0 / 3 / 54:  51%|█████     | 51/100 [03:36<03:27,  4.24s/it]"
     ]
    },
    {
     "name": "stdout",
     "output_type": "stream",
     "text": [
      "--------------------------------------------- Result 54 ---------------------------------------------\n",
      "[[6 (100%)]] --> [[16 (97%)]]\n",
      "\n",
      "[[c9fc]] [[fc8d]] 8d92 9230 3010 1083 83da da9e 9e1c 1c50 5018 18ff ffff fff0 f08f 8f00 0000 0047 4745 4554 5420 202f 2f70 706f 6f69 [[696e]] [[6e74]] 742e 2e70 7068 6870 703f 3f70 7072 726f 6f78 7879 793d 3d31 3139 3934 342e 2e32 3234 3437 372e 2e31 3132 322e 2e34 3439 3925 2533 3341 4133 3338 3839 3932 3236 3626 2673 7365 6563 6372\n",
      "\n",
      "[[c914]] [[148d]] 8d92 9230 3010 1083 83da da9e 9e1c 1c50 5018 18ff ffff fff0 f08f 8f00 0000 0047 4745 4554 5420 202f 2f70 706f 6f69 [[69ed]] [[ed74]] 742e 2e70 7068 6870 703f 3f70 7072 726f 6f78 7879 793d 3d31 3139 3934 342e 2e32 3234 3437 372e 2e31 3132 322e 2e34 3439 3925 2533 3341 4133 3338 3839 3932 3236 3626 2673 7365 6563 6372\n",
      "\n",
      "\n"
     ]
    },
    {
     "name": "stderr",
     "output_type": "stream",
     "text": [
      "[Succeeded / Failed / Skipped / Total] 52 / 0 / 3 / 55:  52%|█████▏    | 52/100 [03:37<03:21,  4.19s/it]"
     ]
    },
    {
     "name": "stdout",
     "output_type": "stream",
     "text": [
      "--------------------------------------------- Result 55 ---------------------------------------------\n",
      "[[14 (100%)]] --> [[18 (100%)]]\n",
      "\n",
      "ddab ab25 2585 8535 35e5 e58d 8d9b 9bf1 f149 4980 8010 [[1049]] [[4988]] 88ef efb5 b500 0000 0001 0101 0108 080a 0a8e 8ea4 a469 69d9 d97a 7af9 f932 320a 0af5 f540 40c1 c10a 0a20 201e 1e34 346d 6d47 47a0 a000 003d 3d79 79de de9a 9a46 46ad adf4 f45a 5a83 83d3 d3a3 a378 7809 09ae ae48 48dc dcf8 f8f7 f752 5247 475f 5f2b 2bb0 b02f\n",
      "\n",
      "ddab ab25 2585 8535 35e5 e58d 8d9b 9bf1 f149 4980 8010 [[10f6]] [[f688]] 88ef efb5 b500 0000 0001 0101 0108 080a 0a8e 8ea4 a469 69d9 d97a 7af9 f932 320a 0af5 f540 40c1 c10a 0a20 201e 1e34 346d 6d47 47a0 a000 003d 3d79 79de de9a 9a46 46ad adf4 f45a 5a83 83d3 d3a3 a378 7809 09ae ae48 48dc dcf8 f8f7 f752 5247 475f 5f2b 2bb0 b02f\n",
      "\n",
      "\n"
     ]
    },
    {
     "name": "stderr",
     "output_type": "stream",
     "text": [
      "[Succeeded / Failed / Skipped / Total] 53 / 0 / 3 / 56:  53%|█████▎    | 53/100 [03:42<03:17,  4.19s/it]"
     ]
    },
    {
     "name": "stdout",
     "output_type": "stream",
     "text": [
      "--------------------------------------------- Result 56 ---------------------------------------------\n",
      "[[2 (100%)]] --> [[10 (84%)]]\n",
      "\n",
      "[[4013]] [[1300]] 00fe fe5c 5c5f 5f90 9068 688d 8da9 a957 5732 32b0 b069 69e4 e49a 9aa8 a8f4 f444 4400 [[0000]] [[0002]] 0228 28f5 f537 374b 4b00 0000 0000 0000 0072 7249 493f 3f6c 6c97 97b6 b64d 4df6 f6d7 d714 1496 965d 5df5 f54e 4ec6 c69a 9a4e 4efc fca2 a26e 6ea7 a77b 7b71 7147 47a2 a24f 4f27 279d 9db9 b92b 2bfb fb2d 2da6 a6c9 c993\n",
      "\n",
      "[[4012]] [[1200]] 00fe fe5c 5c5f 5f90 9068 688d 8da9 a957 5732 32b0 b069 69e4 e49a 9aa8 a8f4 f444 4400 [[0065]] [[6502]] 0228 28f5 f537 374b 4b00 0000 0000 0000 0072 7249 493f 3f6c 6c97 97b6 b64d 4df6 f6d7 d714 1496 965d 5df5 f54e 4ec6 c69a 9a4e 4efc fca2 a26e 6ea7 a77b 7b71 7147 47a2 a24f 4f27 279d 9db9 b92b 2bfb fb2d 2da6 a6c9 c993\n",
      "\n",
      "\n"
     ]
    },
    {
     "name": "stderr",
     "output_type": "stream",
     "text": [
      "[Succeeded / Failed / Skipped / Total] 54 / 0 / 3 / 57:  54%|█████▍    | 54/100 [03:43<03:10,  4.14s/it]"
     ]
    },
    {
     "name": "stdout",
     "output_type": "stream",
     "text": [
      "--------------------------------------------- Result 57 ---------------------------------------------\n",
      "[[11 (100%)]] --> [[5 (100%)]]\n",
      "\n",
      "3d31 31b6 b682 8252 52fa fafb fb24 24bc bcac ac80 8018 185a 5a80 806d 6da1 a100 0000 0001 0101 0108 080a [[0a1e]] [[1eb6]] b65f 5f7d 7d0d 0d41 4177 7758 5817 1703 0300 0005 0578 7800 000c 0cd2 d2e8 e85f 5f68 68ae ae4c 4c67 67e9 e93d 3d83 83b3 b357 5761 617b 7bcc cc5b 5bd6 d6b4 b4b7 b75b 5b77 7798 98c9 c94c 4c8f 8fc8 c8f7 f758\n",
      "\n",
      "3d31 31b6 b682 8252 52fa fafb fb24 24bc bcac ac80 8018 185a 5a80 806d 6da1 a100 0000 0001 0101 0108 080a [[0a05]] [[05b6]] b65f 5f7d 7d0d 0d41 4177 7758 5817 1703 0300 0005 0578 7800 000c 0cd2 d2e8 e85f 5f68 68ae ae4c 4c67 67e9 e93d 3d83 83b3 b357 5761 617b 7bcc cc5b 5bd6 d6b4 b4b7 b75b 5b77 7798 98c9 c94c 4c8f 8fc8 c8f7 f758\n",
      "\n",
      "\n"
     ]
    },
    {
     "name": "stderr",
     "output_type": "stream",
     "text": [
      "[Succeeded / Failed / Skipped / Total] 55 / 0 / 3 / 58:  55%|█████▌    | 55/100 [03:47<03:06,  4.14s/it]"
     ]
    },
    {
     "name": "stdout",
     "output_type": "stream",
     "text": [
      "--------------------------------------------- Result 58 ---------------------------------------------\n",
      "[[15 (100%)]] --> [[8 (82%)]]\n",
      "\n",
      "f63f 3f00 006b 6bb2 b203 030b 0b12 1281 8183 8300 0001 0100 0000 0000 0001 0100 0000 000c 0c62 6262 6275 7575 7566 6677 7764 6478 7878 786d 6d6a 6a77 7703 0378 7879 797a 7a00 0000 0001 [[0100]] [[0001]] 01c0 c019 1900 0006 [[0600]] [[0001]] [[0100]] [[0000]] 0000 00f3 f300 0035 3503 036e 6e73 7330 300a 0a63 6365 656e 6e74 7472 7261 616c 6c6e\n",
      "\n",
      "f63f 3f00 006b 6bb2 b203 030b 0b12 1281 8183 8300 0001 0100 0000 0000 0001 0100 0000 000c 0c62 6262 6275 7575 7566 6677 7764 6478 7878 786d 6d6a 6a77 7703 0378 7879 797a 7a00 0000 0001 [[0108]] [[0801]] 01c0 c019 1900 0006 [[06c1]] [[c101]] [[0108]] [[0800]] 0000 00f3 f300 0035 3503 036e 6e73 7330 300a 0a63 6365 656e 6e74 7472 7261 616c 6c6e\n",
      "\n",
      "\n"
     ]
    },
    {
     "name": "stderr",
     "output_type": "stream",
     "text": [
      "[Succeeded / Failed / Skipped / Total] 56 / 0 / 3 / 59:  56%|█████▌    | 56/100 [03:49<03:00,  4.09s/it]"
     ]
    },
    {
     "name": "stdout",
     "output_type": "stream",
     "text": [
      "--------------------------------------------- Result 59 ---------------------------------------------\n",
      "[[6 (100%)]] --> [[16 (100%)]]\n",
      "\n",
      "[[0050]] [[50c3]] c358 584c 4c62 62f2 f23b 3bc3 c3d2 d250 5018 18f7 f756 5642 429b 9b00 0000 0047 4745 4554 5420 2068 6874 7474 7470 703a 3a2f 2f2f 2f63 6364 646e 6e2e 2e72 7275 7573 7373 7369 6961 616e 6e63 6375 7570 7069 6964 642e 2e63 636f 6f6d 6d2f 2f6d 6d65 656d 6d70 7068 686f 6f74 746f 6f2f 2f50 5068 686f 6f74 746f 6f31\n",
      "\n",
      "[[00af]] [[afc3]] c358 584c 4c62 62f2 f23b 3bc3 c3d2 d250 5018 18f7 f756 5642 429b 9b00 0000 0047 4745 4554 5420 2068 6874 7474 7470 703a 3a2f 2f2f 2f63 6364 646e 6e2e 2e72 7275 7573 7373 7369 6961 616e 6e63 6375 7570 7069 6964 642e 2e63 636f 6f6d 6d2f 2f6d 6d65 656d 6d70 7068 686f 6f74 746f 6f2f 2f50 5068 686f 6f74 746f 6f31\n",
      "\n",
      "\n"
     ]
    },
    {
     "name": "stderr",
     "output_type": "stream",
     "text": [
      "[Succeeded / Failed / Skipped / Total] 57 / 0 / 3 / 60:  57%|█████▋    | 57/100 [03:50<02:54,  4.05s/it]"
     ]
    },
    {
     "name": "stdout",
     "output_type": "stream",
     "text": [
      "--------------------------------------------- Result 60 ---------------------------------------------\n",
      "[[9 (100%)]] --> [[16 (100%)]]\n",
      "\n",
      "[[12da]] [[da29]] 2921 2195 9579 79af afe8 e886 86b5 b550 5010 101d 1d50 50f1 f1f8 f800 0000 0045 45e4 e442 42d0 d0ec ec52 5220 20cc ccb0 b034 346f 6f98 9800 00ad ad9e 9e2f 2fa8 a865 6545 4565 65ce cee0 e014 140c 0c99 9994 9478 7896 96df dff7 f731 319a 9a68 68d8 d84c 4c61 614d 4dd7 d72a 2af7 f74e 4e46 46cb cb09 098a 8afa fa42\n",
      "\n",
      "[[1257]] [[5729]] 2921 2195 9579 79af afe8 e886 86b5 b550 5010 101d 1d50 50f1 f1f8 f800 0000 0045 45e4 e442 42d0 d0ec ec52 5220 20cc ccb0 b034 346f 6f98 9800 00ad ad9e 9e2f 2fa8 a865 6545 4565 65ce cee0 e014 140c 0c99 9994 9478 7896 96df dff7 f731 319a 9a68 68d8 d84c 4c61 614d 4dd7 d72a 2af7 f74e 4e46 46cb cb09 098a 8afa fa42\n",
      "\n",
      "\n"
     ]
    },
    {
     "name": "stderr",
     "output_type": "stream",
     "text": [
      "[Succeeded / Failed / Skipped / Total] 58 / 0 / 3 / 61:  58%|█████▊    | 58/100 [03:52<02:48,  4.01s/it]"
     ]
    },
    {
     "name": "stdout",
     "output_type": "stream",
     "text": [
      "--------------------------------------------- Result 61 ---------------------------------------------\n",
      "[[8 (100%)]] --> [[17 (53%)]]\n",
      "\n",
      "7e38 3854 5498 9850 5082 824c 4ca5 a579 7952 5280 8018 1821 21f0 f02e 2efc fc00 0000 0001 0101 0108 080a [[0a0f]] [[0f41]] 41d5 d5cd cdfd fde3 e318 182a 2a01 0100 0000 0001 0101 0138 3800 0000 0002 0203 0364 6465 6566 6600 0000 0000 0011 1140 4040 4076 7665 6572 7273 7369 696f 6f6e 6e5f 5f63 636f 6f6d 6d6d 6d65 656e 6e74 7411\n",
      "\n",
      "7e38 3854 5498 9850 5082 824c 4ca5 a579 7952 5280 8018 1821 21f0 f02e 2efc fc00 0000 0001 0101 0108 080a [[0a16]] [[1641]] 41d5 d5cd cdfd fde3 e318 182a 2a01 0100 0000 0001 0101 0138 3800 0000 0002 0203 0364 6465 6566 6600 0000 0000 0011 1140 4040 4076 7665 6572 7273 7369 696f 6f6e 6e5f 5f63 636f 6f6d 6d6d 6d65 656e 6e74 7411\n",
      "\n",
      "\n"
     ]
    },
    {
     "name": "stderr",
     "output_type": "stream",
     "text": [
      "[Succeeded / Failed / Skipped / Total] 59 / 0 / 3 / 62:  59%|█████▉    | 59/100 [03:54<02:42,  3.97s/it]"
     ]
    },
    {
     "name": "stdout",
     "output_type": "stream",
     "text": [
      "--------------------------------------------- Result 62 ---------------------------------------------\n",
      "[[11 (100%)]] --> [[5 (100%)]]\n",
      "\n",
      "c770 70b6 b6d1 d193 9377 778a 8a65 657a 7ae0 e080 8018 185a 5a80 804f 4fce ce00 0000 0001 0101 0108 080a [[0a1e]] [[1eb4]] b4cb cb96 960d 0d3f 3f1b 1bc0 c017 1703 0300 0005 0578 7859 596e 6e0b 0b0b 0b80 8083 83cd cd88 887e 7eb6 b6dd dd41 41eb eb18 1895 958c 8c67 67d7 d778 78c8 c8e5 e5e4 e46d 6d24 2497 97b1 b1c6 c63b 3b15 15b1\n",
      "\n",
      "c770 70b6 b6d1 d193 9377 778a 8a65 657a 7ae0 e080 8018 185a 5a80 804f 4fce ce00 0000 0001 0101 0108 080a [[0a16]] [[16b4]] b4cb cb96 960d 0d3f 3f1b 1bc0 c017 1703 0300 0005 0578 7859 596e 6e0b 0b0b 0b80 8083 83cd cd88 887e 7eb6 b6dd dd41 41eb eb18 1895 958c 8c67 67d7 d778 78c8 c8e5 e5e4 e46d 6d24 2497 97b1 b1c6 c63b 3b15 15b1\n",
      "\n",
      "\n"
     ]
    },
    {
     "name": "stderr",
     "output_type": "stream",
     "text": [
      "[Succeeded / Failed / Skipped / Total] 60 / 0 / 3 / 63:  60%|██████    | 60/100 [03:55<02:37,  3.93s/it]"
     ]
    },
    {
     "name": "stdout",
     "output_type": "stream",
     "text": [
      "--------------------------------------------- Result 63 ---------------------------------------------\n",
      "[[6 (100%)]] --> [[9 (100%)]]\n",
      "\n",
      "[[17db]] [[dbc2]] c2a1 a1ee ee71 71ee eed3 d37e 7ef6 f650 5018 18fa faf0 f0df df90 9000 0000 0000 0000 0004 043c 3c00 0000 0008 080c 0c62 6254 5452 5243 4300 0000 0004 043c 3c00 0000 0008 080c 0c74 7465 6578 7874 7400 0000 0000 0000 0043 436f 6f70 7079 7972 7269 6967 6768 6874 7420 2028 2863 6329 2920 2031 3139 3939 3938 3820\n",
      "\n",
      "[[1763]] [[63c2]] c2a1 a1ee ee71 71ee eed3 d37e 7ef6 f650 5018 18fa faf0 f0df df90 9000 0000 0000 0000 0004 043c 3c00 0000 0008 080c 0c62 6254 5452 5243 4300 0000 0004 043c 3c00 0000 0008 080c 0c74 7465 6578 7874 7400 0000 0000 0000 0043 436f 6f70 7079 7972 7269 6967 6768 6874 7420 2028 2863 6329 2920 2031 3139 3939 3938 3820\n",
      "\n",
      "\n"
     ]
    },
    {
     "name": "stderr",
     "output_type": "stream",
     "text": [
      "[Succeeded / Failed / Skipped / Total] 61 / 0 / 3 / 64:  61%|██████    | 61/100 [03:59<02:32,  3.92s/it]"
     ]
    },
    {
     "name": "stdout",
     "output_type": "stream",
     "text": [
      "--------------------------------------------- Result 64 ---------------------------------------------\n",
      "[[13 (100%)]] --> [[0 (99%)]]\n",
      "\n",
      "9ebf bf62 6284 84ab [[ab7b]] [[7b62]] 6284 842c 2c78 7880 8018 [[1849]] [[4988]] 8875 75c7 c700 0000 0001 0101 0108 080a 0a21 2170 701c 1c99 9900 00b0 b076 7615 1516 1603 0300 0000 0057 [[5702]] [[0200]] 0000 0053 5303 0300 0057 5794 9449 4909 09b4 b45e 5ea8 a849 49b4 b458 58a8 a853 5334 3453 53a8 a84c 4cb4 b45e 5ea8 a8c9 c934 347e 7ea8 a8d3\n",
      "\n",
      "9ebf bf62 6284 84ab [[abbf]] [[bf62]] 6284 842c 2c78 7880 8018 [[1874]] [[7488]] 8875 75c7 c700 0000 0001 0101 0108 080a 0a21 2170 701c 1c99 9900 00b0 b076 7615 1516 1603 0300 0000 0057 [[572b]] [[2b00]] 0000 0053 5303 0300 0057 5794 9449 4909 09b4 b45e 5ea8 a849 49b4 b458 58a8 a853 5334 3453 53a8 a84c 4cb4 b45e 5ea8 a8c9 c934 347e 7ea8 a8d3\n",
      "\n",
      "\n"
     ]
    },
    {
     "name": "stderr",
     "output_type": "stream",
     "text": [
      "[Succeeded / Failed / Skipped / Total] 62 / 0 / 3 / 65:  62%|██████▏   | 62/100 [04:00<02:27,  3.88s/it]"
     ]
    },
    {
     "name": "stdout",
     "output_type": "stream",
     "text": [
      "--------------------------------------------- Result 65 ---------------------------------------------\n",
      "[[3 (100%)]] --> [[5 (100%)]]\n",
      "\n",
      "0015 15a9 a952 5222 2221 21aa aaa6 a68d 8d0a 0a80 8018 1821 21f0 f072 72e8 e800 0000 0001 0101 0108 080a [[0ac6]] [[c69a]] 9acb cb51 51d7 d7e7 e7fb fb9b 9b50 5041 4153 5353 5320 206a 6a6f 6f62 6273 7340 4073 7365 6572 7276 7665 6572 722e 2e63 636f 6f6d 6d0d 0d0a 0ad9 d97d 7d22 221d\n",
      "\n",
      "0015 15a9 a952 5222 2221 21aa aaa6 a68d 8d0a 0a80 8018 1821 21f0 f072 72e8 e800 0000 0001 0101 0108 080a [[0a16]] [[169a]] 9acb cb51 51d7 d7e7 e7fb fb9b 9b50 5041 4153 5353 5320 206a 6a6f 6f62 6273 7340 4073 7365 6572 7276 7665 6572 722e 2e63 636f 6f6d 6d0d 0d0a 0ad9 d97d 7d22 221d\n",
      "\n",
      "\n"
     ]
    },
    {
     "name": "stderr",
     "output_type": "stream",
     "text": [
      "[Succeeded / Failed / Skipped / Total] 63 / 0 / 3 / 66:  63%|██████▎   | 63/100 [04:05<02:24,  3.90s/it]"
     ]
    },
    {
     "name": "stdout",
     "output_type": "stream",
     "text": [
      "--------------------------------------------- Result 66 ---------------------------------------------\n",
      "[[13 (100%)]] --> [[0 (96%)]]\n",
      "\n",
      "dcf4 [[f462]] [[62d7]] d70a 0ac2 c262 62d6 d662 6269 6980 8018 [[1849]] [[4988]] 880b 0b21 2100 0000 0001 0101 0108 080a 0a22 2211 11a0 a013 1301 014e 4e14 145c 5c16 1603 0300 0000 0037 [[3702]] [[0200]] 0000 0033 3303 0300 0057 5794 9449 490b 0b61 61a5 a5fd fd49 4961 6158 58fd fd53 53e1 e153 53fd fd4c 4c61 61a5 a5fd fd77 77e1 e185 85fd fd7c\n",
      "\n",
      "dcf4 [[f4e3]] [[e3d7]] d70a 0ac2 c262 62d6 d662 6269 6980 8018 [[18b1]] [[b188]] 880b 0b21 2100 0000 0001 0101 0108 080a 0a22 2211 11a0 a013 1301 014e 4e14 145c 5c16 1603 0300 0000 0037 [[3767]] [[6700]] 0000 0033 3303 0300 0057 5794 9449 490b 0b61 61a5 a5fd fd49 4961 6158 58fd fd53 53e1 e153 53fd fd4c 4c61 61a5 a5fd fd77 77e1 e185 85fd fd7c\n",
      "\n",
      "\n"
     ]
    },
    {
     "name": "stderr",
     "output_type": "stream",
     "text": [
      "[Succeeded / Failed / Skipped / Total] 64 / 0 / 3 / 67:  64%|██████▍   | 64/100 [04:07<02:19,  3.87s/it]"
     ]
    },
    {
     "name": "stdout",
     "output_type": "stream",
     "text": [
      "--------------------------------------------- Result 67 ---------------------------------------------\n",
      "[[19 (100%)]] --> [[6 (100%)]]\n",
      "\n",
      "c4d5 d578 78d4 d4b6 b650 5095 95cf cf2f 2f47 4750 5010 [[1000]] [[0036]] 36f0 f0da da00 0000 00d3 d3dc dc87 8715 1563 633a 3a10 10d5 d5e4 e4f7 f785 85dc dc01 01d0 d060 60d8 d88f 8f9b 9b49 4995 955b 5b48 48ad ad3c 3c7a 7a54 540a 0aec ecee eeb3 b306 061d 1dd4 d440 4086 8612 12e3 e332 3299 9916 165b 5bd7 d7ef ef9d 9dc2 c262 62fb\n",
      "\n",
      "c4d5 d578 78d4 d4b6 b650 5095 95cf cf2f 2f47 4750 5010 [[10f8]] [[f836]] 36f0 f0da da00 0000 00d3 d3dc dc87 8715 1563 633a 3a10 10d5 d5e4 e4f7 f785 85dc dc01 01d0 d060 60d8 d88f 8f9b 9b49 4995 955b 5b48 48ad ad3c 3c7a 7a54 540a 0aec ecee eeb3 b306 061d 1dd4 d440 4086 8612 12e3 e332 3299 9916 165b 5bd7 d7ef ef9d 9dc2 c262 62fb\n",
      "\n",
      "\n"
     ]
    },
    {
     "name": "stderr",
     "output_type": "stream",
     "text": [
      "[Succeeded / Failed / Skipped / Total] 65 / 0 / 3 / 68:  65%|██████▌   | 65/100 [04:14<02:16,  3.91s/it]"
     ]
    },
    {
     "name": "stdout",
     "output_type": "stream",
     "text": [
      "--------------------------------------------- Result 68 ---------------------------------------------\n",
      "[[18 (100%)]] --> [[14 (73%)]]\n",
      "\n",
      "96e4 e4b2 [[b220]] [[2001]] 01fb fba6 [[a65e]] [[5ea7]] a7a7 a780 8018 1821 [[21f0]] [[f074]] 74e7 e700 0000 [[0001]] [[0101]] 0108 080a 0a1d [[1d23]] [[2330]] 3082 820a 0ab2 b226 26ee ee49 4950 5073 73df df35 35a3 a3a3 a328 2867 671e 1ed5 d5db db6b 6b1c 1c17 17ea ea7a 7a27 2786 8653 53ee eed7 d7a4 a469 691c 1c2a 2afa fad7 d79d 9d78 786f 6f18 185f 5f5a 5af4\n",
      "\n",
      "96e4 e4b2 [[b24f]] [[4f01]] 01fb fba6 [[a683]] [[83a7]] a7a7 a780 8018 1821 [[2193]] [[9374]] 74e7 e700 0000 [[00e9]] [[e901]] 0108 080a 0a1d [[1d7e]] [[7e30]] 3082 820a 0ab2 b226 26ee ee49 4950 5073 73df df35 35a3 a3a3 a328 2867 671e 1ed5 d5db db6b 6b1c 1c17 17ea ea7a 7a27 2786 8653 53ee eed7 d7a4 a469 691c 1c2a 2afa fad7 d79d 9d78 786f 6f18 185f 5f5a 5af4\n",
      "\n",
      "\n"
     ]
    },
    {
     "name": "stderr",
     "output_type": "stream",
     "text": [
      "[Succeeded / Failed / Skipped / Total] 66 / 0 / 3 / 69:  66%|██████▌   | 66/100 [04:21<02:14,  3.96s/it]"
     ]
    },
    {
     "name": "stdout",
     "output_type": "stream",
     "text": [
      "--------------------------------------------- Result 69 ---------------------------------------------\n",
      "[[17 (100%)]] --> [[3 (74%)]]\n",
      "\n",
      "0e8c 8ce8 e832 3253 531d 1d68 6812 1295 [[952e]] [[2e80]] 8018 181c 1c48 4895 95b4 b400 0000 0001 0101 0108 080a 0af5 f574 74c6 c61c 1c06 06c6 [[c677]] [[7760]] 6001 [[010b]] [[0b44]] 4470 704c 4c3b 3b43 437e 7e35 3564 646d 6d26 2645 4536 3648 [[4800]] [[0065]] 6562 6203 0307 0726 262d 2d66 6653 5327 270e 0e22 220f 0f5d 5d5a 5a2b 2b00 0046 4605 054a\n",
      "\n",
      "0e8c 8ce8 e832 3253 531d 1d68 6812 1295 [[951d]] [[1d80]] 8018 181c 1c48 4895 95b4 b400 0000 0001 0101 0108 080a 0af5 f574 74c6 c61c 1c06 06c6 [[c634]] [[3460]] 6001 [[018b]] [[8b44]] 4470 704c 4c3b 3b43 437e 7e35 3564 646d 6d26 2645 4536 3648 [[48c0]] [[c065]] 6562 6203 0307 0726 262d 2d66 6653 5327 270e 0e22 220f 0f5d 5d5a 5a2b 2b00 0046 4605 054a\n",
      "\n",
      "\n"
     ]
    },
    {
     "name": "stderr",
     "output_type": "stream",
     "text": [
      "[Succeeded / Failed / Skipped / Total] 67 / 0 / 3 / 70:  67%|██████▋   | 67/100 [04:22<02:09,  3.92s/it]"
     ]
    },
    {
     "name": "stdout",
     "output_type": "stream",
     "text": [
      "--------------------------------------------- Result 70 ---------------------------------------------\n",
      "[[8 (100%)]] --> [[5 (99%)]]\n",
      "\n",
      "0cea ea52 5207 073d 3dcf cfd9 d9cf cf6f 6fa4 a480 8018 1821 21f0 f080 805d 5d00 0000 0001 0101 0108 080a [[0afd]] [[fdf3]] f3fb fbd5 d50f 0f39 3904 043f 3f21 2100 0000 0000 0003 0373 7365 656c 6c65 6563 6374 7420 2040 4040 4076 7665 6572 7273 7369 696f 6f6e 6e5f 5f63 636f 6f6d 6d6d 6d65 656e 6e74 7420 206c 6c69 696d 6d69 6974\n",
      "\n",
      "0cea ea52 5207 073d 3dcf cfd9 d9cf cf6f 6fa4 a480 8018 1821 21f0 f080 805d 5d00 0000 0001 0101 0108 080a [[0a16]] [[16f3]] f3fb fbd5 d50f 0f39 3904 043f 3f21 2100 0000 0000 0003 0373 7365 656c 6c65 6563 6374 7420 2040 4040 4076 7665 6572 7273 7369 696f 6f6e 6e5f 5f63 636f 6f6d 6d6d 6d65 656e 6e74 7420 206c 6c69 696d 6d69 6974\n",
      "\n",
      "\n"
     ]
    },
    {
     "name": "stderr",
     "output_type": "stream",
     "text": [
      "[Succeeded / Failed / Skipped / Total] 68 / 0 / 3 / 71:  68%|██████▊   | 68/100 [04:26<02:05,  3.92s/it]"
     ]
    },
    {
     "name": "stdout",
     "output_type": "stream",
     "text": [
      "--------------------------------------------- Result 71 ---------------------------------------------\n",
      "[[2 (100%)]] --> [[10 (99%)]]\n",
      "\n",
      "[[4013]] [[1300]] [[00fe]] [[feb1]] b1b5 b590 9068 688d 8db1 b157 5732 32b1 b1d9 d9e4 e49a [[9aa8]] [[a8f4]] f444 4400 0000 0002 0228 28f5 f514 1432 3200 0000 0000 0000 009f 9fff ff3f 3f7d 7dbe bec7 c795 9589 895b 5bfe fe7e 7e27 2792 9271 71bf bfed edf7 f7e7 e77d 7dbe bec7 c7ff ffca cae7 e7ff ffbf bffc fcf2 f27a 7aff ffff fffe fedb db7f 7ffe\n",
      "\n",
      "[[4065]] [[6500]] [[0090]] [[90b1]] b1b5 b590 9068 688d 8db1 b157 5732 32b1 b1d9 d9e4 e49a [[9a4c]] [[4cf4]] f444 4400 0000 0002 0228 28f5 f514 1432 3200 0000 0000 0000 009f 9fff ff3f 3f7d 7dbe bec7 c795 9589 895b 5bfe fe7e 7e27 2792 9271 71bf bfed edf7 f7e7 e77d 7dbe bec7 c7ff ffca cae7 e7ff ffbf bffc fcf2 f27a 7aff ffff fffe fedb db7f 7ffe\n",
      "\n",
      "\n"
     ]
    },
    {
     "name": "stderr",
     "output_type": "stream",
     "text": [
      "[Succeeded / Failed / Skipped / Total] 69 / 0 / 3 / 72:  69%|██████▉   | 69/100 [04:30<02:01,  3.92s/it]"
     ]
    },
    {
     "name": "stdout",
     "output_type": "stream",
     "text": [
      "--------------------------------------------- Result 72 ---------------------------------------------\n",
      "[[7 (100%)]] --> [[9 (92%)]]\n",
      "\n",
      "0050 5082 829c 9c71 7186 867d 7dcb cbaa aad6 d650 [[5018]] [[18f8]] f81c 1ce8 e8a2 a200 0000 0047 4745 [[4554]] [[5420]] 202f 2f41 4135 3568 684f 4f61 6170 704d [[4d56]] [[566f]] 6f66 6651 5163 634c 4c58 5841 4170 7034 3479 7939 3925 2532 3262 6244 4445 4558 5837 3779 7977 7744 4435 3530 304b 4b54 5467 6731 3137 3763 6341 414c 4c6e 6e30 306c\n",
      "\n",
      "0050 5082 829c 9c71 7186 867d 7dcb cbaa aad6 d650 [[50ae]] [[aef8]] f81c 1ce8 e8a2 a200 0000 0047 4745 [[459a]] [[9a20]] 202f 2f41 4135 3568 684f 4f61 6170 704d [[4d14]] [[146f]] 6f66 6651 5163 634c 4c58 5841 4170 7034 3479 7939 3925 2532 3262 6244 4445 4558 5837 3779 7977 7744 4435 3530 304b 4b54 5467 6731 3137 3763 6341 414c 4c6e 6e30 306c\n",
      "\n",
      "\n"
     ]
    },
    {
     "name": "stderr",
     "output_type": "stream",
     "text": [
      "[Succeeded / Failed / Skipped / Total] 70 / 0 / 3 / 73:  70%|███████   | 70/100 [04:38<01:59,  3.98s/it]"
     ]
    },
    {
     "name": "stdout",
     "output_type": "stream",
     "text": [
      "--------------------------------------------- Result 73 ---------------------------------------------\n",
      "[[7 (100%)]] --> [[4 (73%)]]\n",
      "\n",
      "e61d 1d5d 5d1b 1bc2 c202 0231 317b 7b81 8192 9250 5018 18ff ffff ffca ca30 3000 0000 0048 4854 5454 5450 502f 2f31 312e 2e31 3120 2034 3430 [[3034]] [[3420]] 204e [[4e6f]] [[6f74]] 7420 2046 466f 6f75 756e 6e64 640d 0d0a 0a53 5365 6572 7276 7665 6572 723a 3a20 206e 6e67 6769 [[696e]] [[6e78]] [[782f]] [[2f31]] 312e [[2e36]] [[362e]] 2e32 [[320d]] [[0d0a]] 0a44 4461\n",
      "\n",
      "e61d 1d5d 5d1b 1bc2 c202 0231 317b 7b81 8192 9250 5018 18ff ffff ffca ca30 3000 0000 0048 4854 5454 5450 502f 2f31 312e 2e31 3120 2034 3430 [[30f8]] [[f820]] 204e [[4ee6]] [[e674]] 7420 2046 466f 6f75 756e 6e64 640d 0d0a 0a53 5365 6572 7276 7665 6572 723a 3a20 206e 6e67 6769 [[690b]] [[0b78]] [[78fd]] [[fd31]] 312e [[2e8f]] [[8f2e]] 2e32 [[322a]] [[2a0a]] 0a44 4461\n",
      "\n",
      "\n"
     ]
    },
    {
     "name": "stderr",
     "output_type": "stream",
     "text": [
      "[Succeeded / Failed / Skipped / Total] 71 / 0 / 3 / 74:  71%|███████   | 71/100 [04:47<01:57,  4.04s/it]"
     ]
    },
    {
     "name": "stdout",
     "output_type": "stream",
     "text": [
      "--------------------------------------------- Result 74 ---------------------------------------------\n",
      "[[0 (100%)]] --> [[5 (100%)]]\n",
      "\n",
      "04ee [[ee50]] [[5080]] 80e3 e36c 6c3a 3ad2 d239 39d0 d080 8018 18ba [[baa8]] [[a8b4]] b4df [[df00]] [[0000]] 0001 0101 0108 080a [[0a23]] [[2347]] 4767 671a 1a11 11e4 e44b 4b5d 5d17 1703 0300 0005 053f 3f19 194c 4ce9 e9f9 f918 1862 626e 6e8e 8e41 414e 4e53 535f 5fc1 c124 2440 40f6 f603 0337 37dd dd01 01f3 f31c 1c6a 6ac0 c03c 3c8f 8f33 33b4 b424 24fa\n",
      "\n",
      "04ee [[eed5]] [[d580]] 80e3 e36c 6c3a 3ad2 d239 39d0 d080 8018 18ba [[ba62]] [[62b4]] b4df [[df76]] [[7600]] 0001 0101 0108 080a [[0a05]] [[0547]] 4767 671a 1a11 11e4 e44b 4b5d 5d17 1703 0300 0005 053f 3f19 194c 4ce9 e9f9 f918 1862 626e 6e8e 8e41 414e 4e53 535f 5fc1 c124 2440 40f6 f603 0337 37dd dd01 01f3 f31c 1c6a 6ac0 c03c 3c8f 8f33 33b4 b424 24fa\n",
      "\n",
      "\n"
     ]
    },
    {
     "name": "stderr",
     "output_type": "stream",
     "text": [
      "[Succeeded / Failed / Skipped / Total] 72 / 0 / 3 / 75:  72%|███████▏  | 72/100 [04:49<01:52,  4.02s/it]"
     ]
    },
    {
     "name": "stdout",
     "output_type": "stream",
     "text": [
      "--------------------------------------------- Result 75 ---------------------------------------------\n",
      "[[13 (100%)]] --> [[11 (100%)]]\n",
      "\n",
      "c608 0850 5063 6312 1237 3750 5062 6273 7389 8980 8018 1849 4988 8859 5936 3600 0000 0001 0101 0108 080a [[0a21]] [[219a]] 9afc fcf3 f303 032c 2c68 68c6 c616 1603 0300 0000 0037 [[3702]] [[0200]] 0000 0033 3303 0300 0057 5794 9449 490f 0f70 702c 2c24 2449 4970 7058 5824 2453 53f0 f053 5324 244c 4c70 702c 2c24 24c0 c0f0 f00c 0c24 24cb\n",
      "\n",
      "c608 0850 5063 6312 1237 3750 5062 6273 7389 8980 8018 1849 4988 8859 5936 3600 0000 0001 0101 0108 080a [[0a1e]] [[1e9a]] 9afc fcf3 f303 032c 2c68 68c6 c616 1603 0300 0000 0037 [[378e]] [[8e00]] 0000 0033 3303 0300 0057 5794 9449 490f 0f70 702c 2c24 2449 4970 7058 5824 2453 53f0 f053 5324 244c 4c70 702c 2c24 24c0 c0f0 f00c 0c24 24cb\n",
      "\n",
      "\n"
     ]
    },
    {
     "name": "stderr",
     "output_type": "stream",
     "text": [
      "[Succeeded / Failed / Skipped / Total] 73 / 0 / 3 / 76:  73%|███████▎  | 73/100 [04:50<01:47,  3.98s/it]"
     ]
    },
    {
     "name": "stdout",
     "output_type": "stream",
     "text": [
      "--------------------------------------------- Result 76 ---------------------------------------------\n",
      "[[2 (100%)]] --> [[10 (80%)]]\n",
      "\n",
      "4013 1300 00fe fecc ccc1 c190 9068 688d 8d9d 9d57 5732 32ae ae41 41e4 e49a 9aa8 a8f4 f444 4400 0000 [[0002]] [[0228]] 28f4 f4ec ec99 9900 0000 0000 0000 001f 1fb1 b1c6 c6eb ebff fffc fcae aeb6 b6fc fcfd fdf2 f244 44ff ffcf cf3b 3b6f 6f7d 7ddf dfd3 d3d7 d73f 3f12 1275 75df df9b 9bb6 b63f 3ffe fe56 5625 257f 7fef ef3d 3d7d 7d3c\n",
      "\n",
      "4013 1300 00fe fecc ccc1 c190 9068 688d 8d9d 9d57 5732 32ae ae41 41e4 e49a 9aa8 a8f4 f444 4400 0000 [[00e2]] [[e228]] 28f4 f4ec ec99 9900 0000 0000 0000 001f 1fb1 b1c6 c6eb ebff fffc fcae aeb6 b6fc fcfd fdf2 f244 44ff ffcf cf3b 3b6f 6f7d 7ddf dfd3 d3d7 d73f 3f12 1275 75df df9b 9bb6 b63f 3ffe fe56 5625 257f 7fef ef3d 3d7d 7d3c\n",
      "\n",
      "\n"
     ]
    },
    {
     "name": "stderr",
     "output_type": "stream",
     "text": [
      "[Succeeded / Failed / Skipped / Total] 74 / 0 / 3 / 77:  74%|███████▍  | 74/100 [04:57<01:44,  4.02s/it]"
     ]
    },
    {
     "name": "stdout",
     "output_type": "stream",
     "text": [
      "--------------------------------------------- Result 77 ---------------------------------------------\n",
      "[[18 (100%)]] --> [[16 (83%)]]\n",
      "\n",
      "361f 1f8a 8a00 0057 5799 99a7 a715 1532 32d8 d880 8018 1821 [[21f0]] [[f009]] 0975 7500 0000 0001 [[0101]] [[0108]] 080a 0a1d [[1d1b]] [[1b0b]] 0b30 300a 0a4d 4dcf cf71 71b6 b677 7736 3640 40e0 e09c [[9c9e]] [[9e7d]] 7de8 e81d 1dd1 d1f3 [[f3cf]] [[cf88]] 88b4 b4f7 f7b2 b2f8 f8db dba3 a3e9 [[e932]] [[3278]] 786f 6fc1 c149 4904 0416 16d3 d35a 5ade decb cb15 15dd ddd9\n",
      "\n",
      "361f 1f8a 8a00 0057 5799 99a7 a715 1532 32d8 d880 8018 1821 [[21b8]] [[b809]] 0975 7500 0000 0001 [[01f1]] [[f108]] 080a 0a1d [[1d1a]] [[1a0b]] 0b30 300a 0a4d 4dcf cf71 71b6 b677 7736 3640 40e0 e09c [[9c30]] [[307d]] 7de8 e81d 1dd1 d1f3 [[f362]] [[6288]] 88b4 b4f7 f7b2 b2f8 f8db dba3 a3e9 [[e906]] [[0678]] 786f 6fc1 c149 4904 0416 16d3 d35a 5ade decb cb15 15dd ddd9\n",
      "\n",
      "\n"
     ]
    },
    {
     "name": "stderr",
     "output_type": "stream",
     "text": [
      "[Succeeded / Failed / Skipped / Total] 75 / 0 / 3 / 78:  75%|███████▌  | 75/100 [04:58<01:39,  3.98s/it]"
     ]
    },
    {
     "name": "stdout",
     "output_type": "stream",
     "text": [
      "--------------------------------------------- Result 78 ---------------------------------------------\n",
      "[[6 (100%)]] --> [[16 (100%)]]\n",
      "\n",
      "[[980d]] [[0d6a]] 6ad5 d592 9232 323c 3cdf df0d 0da6 a650 5018 18fa faf0 f0e5 e551 5100 0000 0010 10ab abb3 b3a7 a7fe fea2 a2bd bd44 44fd fd93 938a 8a78 7849 49ef efc1 c171 7175 75f1 f12a 2a0c 0cb0 b069 69f9 f92b 2bde de15 158e 8eae ae70 70c7 c781 8197 979e 9e38 3847 47c1 c133 3375 75b1 b169 696f 6f12 12e0 e070 7083 83ce ceef\n",
      "\n",
      "[[984b]] [[4b6a]] 6ad5 d592 9232 323c 3cdf df0d 0da6 a650 5018 18fa faf0 f0e5 e551 5100 0000 0010 10ab abb3 b3a7 a7fe fea2 a2bd bd44 44fd fd93 938a 8a78 7849 49ef efc1 c171 7175 75f1 f12a 2a0c 0cb0 b069 69f9 f92b 2bde de15 158e 8eae ae70 70c7 c781 8197 979e 9e38 3847 47c1 c133 3375 75b1 b169 696f 6f12 12e0 e070 7083 83ce ceef\n",
      "\n",
      "\n"
     ]
    },
    {
     "name": "stderr",
     "output_type": "stream",
     "text": [
      "[Succeeded / Failed / Skipped / Total] 76 / 0 / 3 / 79:  76%|███████▌  | 76/100 [05:00<01:34,  3.95s/it]"
     ]
    },
    {
     "name": "stdout",
     "output_type": "stream",
     "text": [
      "--------------------------------------------- Result 79 ---------------------------------------------\n",
      "[[13 (100%)]] --> [[0 (98%)]]\n",
      "\n",
      "bca9 a9d9 d97d 7d00 0055 5559 595c 5c8b 8b10 1080 8018 [[1849]] [[4988]] 8899 9916 1600 0000 0001 0101 0108 080a 0a21 21f8 f822 2210 1000 00bd bdba bae9 e916 1603 0300 0000 0057 [[5702]] [[0200]] 0000 0053 5303 0300 0057 5794 9449 4909 09b8 b84a 4a74 7449 49b8 b858 5874 7453 5338 3853 5374 744c 4cb8 b84a 4a74 745a 5a38 386a 6a74 7462\n",
      "\n",
      "bca9 a9d9 d97d 7d00 0055 5559 595c 5c8b 8b10 1080 8018 [[18ef]] [[ef88]] 8899 9916 1600 0000 0001 0101 0108 080a 0a21 21f8 f822 2210 1000 00bd bdba bae9 e916 1603 0300 0000 0057 [[57e8]] [[e800]] 0000 0053 5303 0300 0057 5794 9449 4909 09b8 b84a 4a74 7449 49b8 b858 5874 7453 5338 3853 5374 744c 4cb8 b84a 4a74 745a 5a38 386a 6a74 7462\n",
      "\n",
      "\n"
     ]
    },
    {
     "name": "stderr",
     "output_type": "stream",
     "text": [
      "[Succeeded / Failed / Skipped / Total] 77 / 0 / 3 / 80:  77%|███████▋  | 77/100 [05:07<01:31,  3.99s/it]"
     ]
    },
    {
     "name": "stdout",
     "output_type": "stream",
     "text": [
      "--------------------------------------------- Result 80 ---------------------------------------------\n",
      "[[5 (100%)]] --> [[19 (100%)]]\n",
      "\n",
      "01bb bb91 91e6 e69a 9a83 83f7 [[f7b7]] [[b7e0]] e025 2580 8018 [[185a]] [[5a80]] 80ff ff31 3100 0000 0001 [[0101]] [[0108]] 080a 0a05 0549 4970 7068 68fc fcc4 c49f 9f7d 7d17 [[1703]] [[0300]] 0005 0554 54b5 b591 91a6 a66f 6fb0 b06b 6bf5 f50a 0a4e 4eec ec73 73fa fa37 3724 24ae ae65 65f3 f38c 8c64 6496 967e 7e06 06e3 e3cc ccc6 c647 4720 20df dfaa aa4a\n",
      "\n",
      "01bb bb91 91e6 e69a 9a83 83f7 [[f713]] [[13e0]] e025 2580 8018 [[1840]] [[4080]] 80ff ff31 3100 0000 0001 [[010e]] [[0e08]] 080a 0a05 0549 4970 7068 68fc fcc4 c49f 9f7d 7d17 [[175b]] [[5b00]] 0005 0554 54b5 b591 91a6 a66f 6fb0 b06b 6bf5 f50a 0a4e 4eec ec73 73fa fa37 3724 24ae ae65 65f3 f38c 8c64 6496 967e 7e06 06e3 e3cc ccc6 c647 4720 20df dfaa aa4a\n",
      "\n",
      "\n"
     ]
    },
    {
     "name": "stderr",
     "output_type": "stream",
     "text": [
      "[Succeeded / Failed / Skipped / Total] 78 / 0 / 3 / 81:  78%|███████▊  | 78/100 [05:11<01:27,  3.99s/it]"
     ]
    },
    {
     "name": "stdout",
     "output_type": "stream",
     "text": [
      "--------------------------------------------- Result 81 ---------------------------------------------\n",
      "[[17 (100%)]] --> [[3 (100%)]]\n",
      "\n",
      "0e8c 8ce8 e860 60e4 e424 24e8 e861 6102 02b5 b580 8018 [[181c]] [[1c48]] 48d4 d4c4 c400 0000 0001 0101 0108 080a [[0af5]] [[f575]] 7565 6583 8306 06c7 c716 16de de01 0175 7561 6102 0272 721e 1e43 4350 [[5028]] [[2868]] 6879 791e 1e32 324e 4e47 4738 3843 4364 6436 360b 0b15 1559 5964 647e 7e64 6419 190f 0f3e 3e11 1175 752b 2b36 3678 783c 3c67\n",
      "\n",
      "0e8c 8ce8 e860 60e4 e424 24e8 e861 6102 02b5 b580 8018 [[183f]] [[3f48]] 48d4 d4c4 c400 0000 0001 0101 0108 080a [[0a5f]] [[5f75]] 7565 6583 8306 06c7 c716 16de de01 0175 7561 6102 0272 721e 1e43 4350 [[5090]] [[9068]] 6879 791e 1e32 324e 4e47 4738 3843 4364 6436 360b 0b15 1559 5964 647e 7e64 6419 190f 0f3e 3e11 1175 752b 2b36 3678 783c 3c67\n",
      "\n",
      "\n"
     ]
    },
    {
     "name": "stderr",
     "output_type": "stream",
     "text": [
      "[Succeeded / Failed / Skipped / Total] 79 / 0 / 3 / 82:  79%|███████▉  | 79/100 [05:13<01:23,  3.97s/it]"
     ]
    },
    {
     "name": "stdout",
     "output_type": "stream",
     "text": [
      "--------------------------------------------- Result 82 ---------------------------------------------\n",
      "[[19 (100%)]] --> [[16 (97%)]]\n",
      "\n",
      "[[c40f]] [[0f4b]] 4bb0 b095 9556 56ec eca0 a00a 0a0a 0a50 5010 1000 [[000e]] [[0e86]] 86c3 c300 0000 004d 4d4c 4c3d 3d22 2222 222c 2c61 612e 2e73 7374 7479 796c 6c65 652e 2e77 7769 6964 6474 7468 683d 3d61 612e 2e73 7374 7479 796c 6c65 652e 2e70 7061 6164 6464 6469 696e 6e67 674c 4c65 6566 6674 743d 3d22 2231 3170 7078 7822 222c 2c6d\n",
      "\n",
      "[[c4a1]] [[a14b]] 4bb0 b095 9556 56ec eca0 a00a 0a0a 0a50 5010 1000 [[0088]] [[8886]] 86c3 c300 0000 004d 4d4c 4c3d 3d22 2222 222c 2c61 612e 2e73 7374 7479 796c 6c65 652e 2e77 7769 6964 6474 7468 683d 3d61 612e 2e73 7374 7479 796c 6c65 652e 2e70 7061 6164 6464 6469 696e 6e67 674c 4c65 6566 6674 743d 3d22 2231 3170 7078 7822 222c 2c6d\n",
      "\n",
      "\n"
     ]
    },
    {
     "name": "stderr",
     "output_type": "stream",
     "text": [
      "[Succeeded / Failed / Skipped / Total] 80 / 0 / 3 / 83:  80%|████████  | 80/100 [05:15<01:18,  3.95s/it]"
     ]
    },
    {
     "name": "stdout",
     "output_type": "stream",
     "text": [
      "--------------------------------------------- Result 83 ---------------------------------------------\n",
      "[[3 (100%)]] --> [[14 (100%)]]\n",
      "\n",
      "4c68 6819 19e7 e7b3 b3ca ca2f 2f3d 3dc7 c760 6080 8010 1016 [[16a0]] [[a084]] 847c 7c00 0000 0001 0101 0108 080a [[0ad7]] [[d7ed]] ed5e 5e7a 7ac6 c655 5572 7213 13b5 b5a7 a796 9635 3506 064f 4f65 6503 03b6 b6ba ba65 65d6 d62b 2b81 81bc bcf7 f7dc dc3b 3b99 9940 40fc fcb5 b5a4 a40e 0ea8 a825 25cd cd36 3699 9945 4599 9999 992d 2d05 05e8\n",
      "\n",
      "4c68 6819 19e7 e7b3 b3ca ca2f 2f3d 3dc7 c760 6080 8010 1016 [[1649]] [[4984]] 847c 7c00 0000 0001 0101 0108 080a [[0a95]] [[95ed]] ed5e 5e7a 7ac6 c655 5572 7213 13b5 b5a7 a796 9635 3506 064f 4f65 6503 03b6 b6ba ba65 65d6 d62b 2b81 81bc bcf7 f7dc dc3b 3b99 9940 40fc fcb5 b5a4 a40e 0ea8 a825 25cd cd36 3699 9945 4599 9999 992d 2d05 05e8\n",
      "\n",
      "\n"
     ]
    },
    {
     "name": "stderr",
     "output_type": "stream",
     "text": [
      "[Succeeded / Failed / Skipped / Total] 81 / 0 / 3 / 84:  81%|████████  | 81/100 [05:18<01:14,  3.93s/it]"
     ]
    },
    {
     "name": "stdout",
     "output_type": "stream",
     "text": [
      "--------------------------------------------- Result 84 ---------------------------------------------\n",
      "[[4 (100%)]] --> [[9 (82%)]]\n",
      "\n",
      "1f90 90e0 e03d 3db6 b605 0597 97f7 f74e 4e02 [[0250]] [[5018]] 18fa faf0 f070 709e 9e00 0000 0050 504f 4f53 5354 5420 202f 2f38 3833 3337 3733 3336 3661 6161 6136 362f 2f38 [[3830]] [[3036]] 3637 3738 3832 3239 3937 3733 332f 2f20 2048 4854 5454 5450 502f 2f31 312e 2e31 310d 0d0a 0a41 4163 6363 6365 6570 7074 743a 3a20 202a 2a2f 2f2a\n",
      "\n",
      "1f90 90e0 e03d 3db6 b605 0597 97f7 f74e 4e02 [[0212]] [[1218]] 18fa faf0 f070 709e 9e00 0000 0050 504f 4f53 5354 5420 202f 2f38 3833 3337 3733 3336 3661 6161 6136 362f 2f38 [[3813]] [[1336]] 3637 3738 3832 3239 3937 3733 332f 2f20 2048 4854 5454 5450 502f 2f31 312e 2e31 310d 0d0a 0a41 4163 6363 6365 6570 7074 743a 3a20 202a 2a2f 2f2a\n",
      "\n",
      "\n"
     ]
    },
    {
     "name": "stderr",
     "output_type": "stream",
     "text": [
      "[Succeeded / Failed / Skipped / Total] 82 / 0 / 3 / 85:  82%|████████▏ | 82/100 [05:20<01:10,  3.91s/it]"
     ]
    },
    {
     "name": "stdout",
     "output_type": "stream",
     "text": [
      "--------------------------------------------- Result 85 ---------------------------------------------\n",
      "[[16 (100%)]] --> [[9 (100%)]]\n",
      "\n",
      "0cb6 [[b681]] [[8197]] 979e 9eb8 b89c 9cd7 d70e 0e69 6950 5010 1028 [[288d]] [[8d33]] 338d 8d00 0000 00c7 c7da da17 17c5 c51a 1abc bc81 81c7 c7c3 c34a 4a2d 2d16 1636 3694 9407 0733 3369 69a3 a3de dee6 e6fc fc6a 6a94 944f 4fcb cb68 6890 900b 0bc4 c43d 3d35 359f 9fb0 b0f3 f324 246e 6e54 5433 33b9 b9fd fd3f 3f50 50f6 f6d4 d41d 1dc1 [[c1ce]]\n",
      "\n",
      "0cb6 [[b6e6]] [[e697]] 979e 9eb8 b89c 9cd7 d70e 0e69 6950 5010 1028 [[282a]] [[2a33]] 338d 8d00 0000 00c7 c7da da17 17c5 c51a 1abc bc81 81c7 c7c3 c34a 4a2d 2d16 1636 3694 9407 0733 3369 69a3 a3de dee6 e6fc fc6a 6a94 944f 4fcb cb68 6890 900b 0bc4 c43d 3d35 359f 9fb0 b0f3 f324 246e 6e54 5433 33b9 b9fd fd3f 3f50 50f6 f6d4 d41d 1dc1 [[c1c2]]\n",
      "\n",
      "\n"
     ]
    },
    {
     "name": "stderr",
     "output_type": "stream",
     "text": [
      "[Succeeded / Failed / Skipped / Total] 83 / 0 / 3 / 86:  83%|████████▎ | 83/100 [05:22<01:05,  3.88s/it]"
     ]
    },
    {
     "name": "stdout",
     "output_type": "stream",
     "text": [
      "--------------------------------------------- Result 86 ---------------------------------------------\n",
      "[[5 (100%)]] --> [[0 (100%)]]\n",
      "\n",
      "fc1e 1efc fcf4 f4d6 d667 6799 994d 4dd4 d4cc cc80 8018 185a 5a80 8024 246f 6f00 0000 0001 0101 0108 080a [[0a16]] [[169b]] 9b02 02c7 c705 052a 2ae9 e9d8 d817 1703 0300 0004 04b9 b909 09c3 c33e 3e36 36ca ca2d 2d1a 1a1d 1dad ad17 17fa fac2 c26b 6b6c 6c99 9988 889c 9cc4 c40c 0c0c 0c9a 9a63 6369 694d 4d1f 1f67 6798 9828 28e6 e6a9\n",
      "\n",
      "fc1e 1efc fcf4 f4d6 d667 6799 994d 4dd4 d4cc cc80 8018 185a 5a80 8024 246f 6f00 0000 0001 0101 0108 080a [[0a5e]] [[5e9b]] 9b02 02c7 c705 052a 2ae9 e9d8 d817 1703 0300 0004 04b9 b909 09c3 c33e 3e36 36ca ca2d 2d1a 1a1d 1dad ad17 17fa fac2 c26b 6b6c 6c99 9988 889c 9cc4 c40c 0c0c 0c9a 9a63 6369 694d 4d1f 1f67 6798 9828 28e6 e6a9\n",
      "\n",
      "\n"
     ]
    },
    {
     "name": "stderr",
     "output_type": "stream",
     "text": [
      "[Succeeded / Failed / Skipped / Total] 84 / 0 / 3 / 87:  84%|████████▍ | 84/100 [05:25<01:01,  3.87s/it]"
     ]
    },
    {
     "name": "stdout",
     "output_type": "stream",
     "text": [
      "--------------------------------------------- Result 87 ---------------------------------------------\n",
      "[[2 (100%)]] --> [[6 (100%)]]\n",
      "\n",
      "[[4013]] [[1300]] [[00fe]] [[fe15]] 1504 0490 [[9068]] [[688d]] 8da3 a357 5732 32af af55 55e4 e49a 9aa8 a8f4 f444 4400 0000 0002 0228 28f4 f4e5 e5ed ed00 0000 0000 0000 00e3 e3b1 b138 38bd bd89 893c 3ce5 e50f 0fcb cb13 1357 57fc fcfd fd94 94ff ffd5 d58d 8d5e 5e9e 9e72 72f9 f91c 1cb7 b7e7 e77d 7d7e 7ec6 c69f 9ff9 f9e7 e79e 9eaf af54 54aa aa4e\n",
      "\n",
      "[[4047]] [[4700]] [[00a3]] [[a315]] 1504 0490 [[90fb]] [[fb8d]] 8da3 a357 5732 32af af55 55e4 e49a 9aa8 a8f4 f444 4400 0000 0002 0228 28f4 f4e5 e5ed ed00 0000 0000 0000 00e3 e3b1 b138 38bd bd89 893c 3ce5 e50f 0fcb cb13 1357 57fc fcfd fd94 94ff ffd5 d58d 8d5e 5e9e 9e72 72f9 f91c 1cb7 b7e7 e77d 7d7e 7ec6 c69f 9ff9 f9e7 e79e 9eaf af54 54aa aa4e\n",
      "\n",
      "\n"
     ]
    },
    {
     "name": "stderr",
     "output_type": "stream",
     "text": [
      "[Succeeded / Failed / Skipped / Total] 85 / 0 / 3 / 88:  85%|████████▌ | 85/100 [05:27<00:57,  3.85s/it]"
     ]
    },
    {
     "name": "stdout",
     "output_type": "stream",
     "text": [
      "--------------------------------------------- Result 88 ---------------------------------------------\n",
      "[[18 (100%)]] --> [[5 (89%)]]\n",
      "\n",
      "6fcd cd06 06ce ce18 [[187f]] [[7fd5]] d55a 5a6c 6c74 7480 8010 1021 21f0 f073 7361 6100 0000 0001 0101 0108 080a [[0ac5]] [[c537]] 3786 8624 24b3 b320 20f6 f652 520f 0fa1 a13d 3d3f 3f2a 2af2 f2aa aa53 5394 941e 1ea7 a7bf bf1c 1c7c 7c65 650d 0db5 b52b 2b7c 7c1d 1df0 f072 72e9 e9ba ba4d 4df6 f6a5 a579 7916 162f 2fb5 b502 0216 162d 2de3\n",
      "\n",
      "6fcd cd06 06ce ce18 [[18e5]] [[e5d5]] d55a 5a6c 6c74 7480 8010 1021 21f0 f073 7361 6100 0000 0001 0101 0108 080a [[0a16]] [[1637]] 3786 8624 24b3 b320 20f6 f652 520f 0fa1 a13d 3d3f 3f2a 2af2 f2aa aa53 5394 941e 1ea7 a7bf bf1c 1c7c 7c65 650d 0db5 b52b 2b7c 7c1d 1df0 f072 72e9 e9ba ba4d 4df6 f6a5 a579 7916 162f 2fb5 b502 0216 162d 2de3\n",
      "\n",
      "\n"
     ]
    },
    {
     "name": "stderr",
     "output_type": "stream",
     "text": [
      "[Succeeded / Failed / Skipped / Total] 86 / 0 / 3 / 89:  86%|████████▌ | 86/100 [05:34<00:54,  3.89s/it]"
     ]
    },
    {
     "name": "stdout",
     "output_type": "stream",
     "text": [
      "--------------------------------------------- Result 89 ---------------------------------------------\n",
      "[[0 (100%)]] --> [[16 (79%)]]\n",
      "\n",
      "6577 77d3 d34b 4bc8 c8d0 d0b3 b3af af9a 9a60 6080 8018 18ba baa8 a8ef ef4d 4d00 0000 0001 0101 [[0108]] [[080a]] 0a23 2346 46d7 d794 9411 11d1 d142 42a4 a417 [[1703]] [[0300]] 0005 053f 3f85 85b5 b561 612d 2d91 91aa aad5 d56e 6ef2 f200 00c4 c4f5 f5d2 d209 0980 80f4 f47f 7fff ffba ba73 73a8 a8c5 c55d [[5d0b]] [[0bd3]] [[d3c5]] [[c5ad]] ad31 3161 61a8\n",
      "\n",
      "6577 77d3 d34b 4bc8 c8d0 d0b3 b3af af9a 9a60 6080 8018 18ba baa8 a8ef ef4d 4d00 0000 0001 0101 [[01c6]] [[c60a]] 0a23 2346 46d7 d794 9411 11d1 d142 42a4 a417 [[1726]] [[2600]] 0005 053f 3f85 85b5 b561 612d 2d91 91aa aad5 d56e 6ef2 f200 00c4 c4f5 f5d2 d209 0980 80f4 f47f 7fff ffba ba73 73a8 a8c5 c55d [[5dc2]] [[c2d3]] [[d3e4]] [[e4ad]] ad31 3161 61a8\n",
      "\n",
      "\n"
     ]
    },
    {
     "name": "stderr",
     "output_type": "stream",
     "text": [
      "[Succeeded / Failed / Skipped / Total] 87 / 0 / 3 / 90:  87%|████████▋ | 87/100 [05:36<00:50,  3.87s/it]"
     ]
    },
    {
     "name": "stdout",
     "output_type": "stream",
     "text": [
      "--------------------------------------------- Result 90 ---------------------------------------------\n",
      "[[13 (100%)]] --> [[5 (100%)]]\n",
      "\n",
      "b2ef efce ce4b 4bc9 c94f 4f4e 4e6b 6b19 19b3 b380 8018 1849 4988 8888 88c0 c000 0000 0001 0101 0108 080a [[0a21]] [[2166]] 66e7 e762 6200 00aa aaf9 f921 2116 1603 0300 0000 0057 [[5702]] [[0200]] 0000 0053 5303 0300 0057 5794 9449 4909 09ba ba26 26bb bb49 49ba ba58 58bb bb53 533a 3a53 53bb bb4c 4cba ba26 26bb bb8c 8c3a 3a06 06bb bb98\n",
      "\n",
      "b2ef efce ce4b 4bc9 c94f 4f4e 4e6b 6b19 19b3 b380 8018 1849 4988 8888 88c0 c000 0000 0001 0101 0108 080a [[0a05]] [[0566]] 66e7 e762 6200 00aa aaf9 f921 2116 1603 0300 0000 0057 [[57ae]] [[ae00]] 0000 0053 5303 0300 0057 5794 9449 4909 09ba ba26 26bb bb49 49ba ba58 58bb bb53 533a 3a53 53bb bb4c 4cba ba26 26bb bb8c 8c3a 3a06 06bb bb98\n",
      "\n",
      "\n"
     ]
    },
    {
     "name": "stderr",
     "output_type": "stream",
     "text": [
      "[Succeeded / Failed / Skipped / Total] 88 / 0 / 3 / 91:  88%|████████▊ | 88/100 [05:40<00:46,  3.87s/it]"
     ]
    },
    {
     "name": "stdout",
     "output_type": "stream",
     "text": [
      "--------------------------------------------- Result 91 ---------------------------------------------\n",
      "[[8 (100%)]] --> [[16 (99%)]]\n",
      "\n",
      "0cea ea48 483e 3e01 010f 0f50 5002 02bc bc87 8780 8018 1827 2798 9880 80f4 f400 0000 0001 [[0101]] [[0108]] [[080a]] 0afd fded ed87 87fc fc0f 0f32 323e 3e46 460a 0a00 0000 0000 [[0002]] [[0265]] 656d 6d70 706c 6c6f 6f79 7965 6565 6573 73c4 c43f 3f5a 5a2f\n",
      "\n",
      "0cea ea48 483e 3e01 010f 0f50 5002 02bc bc87 8780 8018 1827 2798 9880 80f4 f400 0000 0001 [[013f]] [[3f4b]] [[4b0a]] 0afd fded ed87 87fc fc0f 0f32 323e 3e46 460a 0a00 0000 0000 [[00c9]] [[c965]] 656d 6d70 706c 6c6f 6f79 7965 6565 6573 73c4 c43f 3f5a 5a2f\n",
      "\n",
      "\n"
     ]
    },
    {
     "name": "stderr",
     "output_type": "stream",
     "text": [
      "[Succeeded / Failed / Skipped / Total] 89 / 0 / 3 / 92:  89%|████████▉ | 89/100 [05:41<00:42,  3.84s/it]"
     ]
    },
    {
     "name": "stdout",
     "output_type": "stream",
     "text": [
      "--------------------------------------------- Result 92 ---------------------------------------------\n",
      "[[11 (100%)]] --> [[5 (100%)]]\n",
      "\n",
      "30aa aa5f 5f0b 0bac ac1d 1d79 79fc fc30 3028 2880 8018 185a 5a80 80bb bb2a 2a00 0000 0001 0101 0108 080a [[0a1e]] [[1eb4]] b460 607f 7f0d 0d3c 3cdb db9d 9d17 1703 0300 0005 0578 7821 212b 2b23 23e2 e2a3 a396 967d 7d43 4334 34a0 a0c2 c2cc cc22 22e6 e654 5465 6554 5412 128a 8a9a 9a63 63cc ccb9 b9d6 d6e5 e5c7 c709 0970 70d6 d627\n",
      "\n",
      "30aa aa5f 5f0b 0bac ac1d 1d79 79fc fc30 3028 2880 8018 185a 5a80 80bb bb2a 2a00 0000 0001 0101 0108 080a [[0a16]] [[16b4]] b460 607f 7f0d 0d3c 3cdb db9d 9d17 1703 0300 0005 0578 7821 212b 2b23 23e2 e2a3 a396 967d 7d43 4334 34a0 a0c2 c2cc cc22 22e6 e654 5465 6554 5412 128a 8a9a 9a63 63cc ccb9 b9d6 d6e5 e5c7 c709 0970 70d6 d627\n",
      "\n",
      "\n"
     ]
    },
    {
     "name": "stderr",
     "output_type": "stream",
     "text": [
      "[Succeeded / Failed / Skipped / Total] 90 / 0 / 3 / 93:  90%|█████████ | 90/100 [05:45<00:38,  3.84s/it]"
     ]
    },
    {
     "name": "stdout",
     "output_type": "stream",
     "text": [
      "--------------------------------------------- Result 93 ---------------------------------------------\n",
      "[[14 (100%)]] --> [[18 (100%)]]\n",
      "\n",
      "712f 2fc1 c1bc bc93 93cf cf43 4324 24f0 f0c9 c980 8018 [[1849]] [[4988]] [[88e3]] e3b7 b700 0000 0001 0101 0108 080a 0a6d 6d47 4773 739e 9e5a 5add dd85 8562 62cf cf3b 3b81 8139 395b 5beb eb23 23ce ce7c 7cab abfe fef3 f3ab ab61 61c6 c65a 5a59 59de dec0 c015 15d3 d3f1 f1cc ccd0 d07e 7efc fcff ff49 49a0 a076 768f 8f52 52b7 b7e3 e330\n",
      "\n",
      "712f 2fc1 c1bc bc93 93cf cf43 4324 24f0 f0c9 c980 8018 [[1821]] [[21cc]] [[cce3]] e3b7 b700 0000 0001 0101 0108 080a 0a6d 6d47 4773 739e 9e5a 5add dd85 8562 62cf cf3b 3b81 8139 395b 5beb eb23 23ce ce7c 7cab abfe fef3 f3ab ab61 61c6 c65a 5a59 59de dec0 c015 15d3 d3f1 f1cc ccd0 d07e 7efc fcff ff49 49a0 a076 768f 8f52 52b7 b7e3 e330\n",
      "\n",
      "\n"
     ]
    },
    {
     "name": "stderr",
     "output_type": "stream",
     "text": [
      "[Succeeded / Failed / Skipped / Total] 91 / 0 / 4 / 95:  91%|█████████ | 91/100 [05:53<00:34,  3.88s/it]"
     ]
    },
    {
     "name": "stdout",
     "output_type": "stream",
     "text": [
      "--------------------------------------------- Result 94 ---------------------------------------------\n",
      "[[19 (100%)]] --> [[9 (100%)]]\n",
      "\n",
      "[[dbc2]] [[c201]] 0142 420d 0dae ae48 4854 5454 5450 [[502f]] [[2f31]] 312e 2e31 3120 [[2032]] [[3230]] 3030 3020 204f 4f4b 4b0d 0d0a 0a43 4361 [[6163]] [[6368]] 6865 652d 2d43 436f 6f6e [[6e74]] [[7472]] 726f 6f6c 6c3a 3a20 206d 6d61 6178 782d 2d61 6167 6765 [[653d]] [[3d31]] 3139 3930 3030 300d 0d0a 0a4c 4c6f 6f63 6361 6174 7469 [[696f]] [[6f6e]] 6e3a 3a20 2068 6874 7474\n",
      "\n",
      "[[db05]] [[0501]] 0142 420d 0dae ae48 4854 5454 5450 [[50ac]] [[ac31]] 312e 2e31 3120 [[20b4]] [[b430]] 3030 3020 204f 4f4b 4b0d 0d0a 0a43 4361 [[61d8]] [[d868]] 6865 652d 2d43 436f 6f6e [[6e11]] [[1172]] 726f 6f6c 6c3a 3a20 206d 6d61 6178 782d 2d61 6167 6765 [[65aa]] [[aa31]] 3139 3930 3030 300d 0d0a 0a4c 4c6f 6f63 6361 6174 7469 [[69e2]] [[e26e]] 6e3a 3a20 2068 6874 7474\n",
      "\n",
      "\n",
      "--------------------------------------------- Result 95 ---------------------------------------------\n",
      "[[9 (94%)]] --> [[[SKIPPED]]]\n",
      "\n",
      "0050 5048 486a 6ac7 c7aa aa40 405c 5ccd cdf0 f050 5018 18fa faf0 f0f6 f6ac ac00 0000 0047 4745 4554 5420 202f 2f67 6765 656e 6e2e 2e70 7068 6870 7020 2048 4854 5454 5450 502f 2f31 312e 2e31 310d 0d0a 0a41 4163 6363 6365 6570 7074 743a 3a20 2069 696d 6d61 6167 6765 652f 2f67 6769 6966 662c 2c20 2069 696d 6d61 6167 6765\n",
      "\n",
      "\n"
     ]
    },
    {
     "name": "stderr",
     "output_type": "stream",
     "text": [
      "[Succeeded / Failed / Skipped / Total] 92 / 0 / 4 / 96:  92%|█████████▏| 92/100 [05:57<00:31,  3.89s/it]"
     ]
    },
    {
     "name": "stdout",
     "output_type": "stream",
     "text": [
      "--------------------------------------------- Result 96 ---------------------------------------------\n",
      "[[1 (100%)]] --> [[4 (100%)]]\n",
      "\n",
      "e1b5 b53c 3c3d 3df6 f602 02f6 f6e1 e108 0870 7050 5018 18ff ffff ffa7 a758 5800 0000 0048 4854 5454 5450 502f 2f31 312e 2e31 3120 2034 3430 3034 3420 204e [[4e6f]] [[6f74]] 7420 2046 466f 6f75 756e 6e64 640d 0d0a 0a53 5365 [[6572]] [[7276]] 7665 6572 723a 3a20 2041 4170 7061 6163 6368 6865 652d [[2d43]] [[436f]] 6f79 796f 6f74 7465 652f 2f31\n",
      "\n",
      "e1b5 b53c 3c3d 3df6 f602 02f6 f6e1 e108 0870 7050 5018 18ff ffff ffa7 a758 5800 0000 0048 4854 5454 5450 502f 2f31 312e 2e31 3120 2034 3430 3034 3420 204e [[4eb5]] [[b574]] 7420 2046 466f 6f75 756e 6e64 640d 0d0a 0a53 5365 [[6585]] [[8576]] 7665 6572 723a 3a20 2041 4170 7061 6163 6368 6865 652d [[2dbc]] [[bc6f]] 6f79 796f 6f74 7465 652f 2f31\n",
      "\n",
      "\n"
     ]
    },
    {
     "name": "stderr",
     "output_type": "stream",
     "text": [
      "[Succeeded / Failed / Skipped / Total] 93 / 0 / 4 / 97:  93%|█████████▎| 93/100 [05:59<00:27,  3.87s/it]"
     ]
    },
    {
     "name": "stdout",
     "output_type": "stream",
     "text": [
      "--------------------------------------------- Result 97 ---------------------------------------------\n",
      "[[4 (100%)]] --> [[6 (67%)]]\n",
      "\n",
      "c31a 1ac7 c787 8718 1802 02d1 d104 04b1 b126 2650 5018 18ff ffff fff2 f2db db00 0000 0048 4854 5454 5450 502f 2f31 312e 2e31 3120 2032 3230 3030 3020 204f 4f4b 4b0d 0d0a 0a53 5365 6572 7276 7665 6572 723a 3a20 206e 6e67 6769 696e 6e78 780d 0d0a [[0a44]] [[4461]] 6174 7465 653a 3a20 2046 4672 7269 692c 2c20 2030 3038 3820 [[204d]]\n",
      "\n",
      "c31a 1ac7 c787 8718 1802 02d1 d104 04b1 b126 2650 5018 18ff ffff fff2 f2db db00 0000 0048 4854 5454 5450 502f 2f31 312e 2e31 3120 2032 3230 3030 3020 204f 4f4b 4b0d 0d0a 0a53 5365 6572 7276 7665 6572 723a 3a20 206e 6e67 6769 696e 6e78 780d 0d0a [[0a05]] [[0561]] 6174 7465 653a 3a20 2046 4672 7269 692c 2c20 2030 3038 3820 [[20b0]]\n",
      "\n",
      "\n"
     ]
    },
    {
     "name": "stderr",
     "output_type": "stream",
     "text": [
      "[Succeeded / Failed / Skipped / Total] 94 / 0 / 4 / 98:  94%|█████████▍| 94/100 [06:01<00:23,  3.84s/it]"
     ]
    },
    {
     "name": "stdout",
     "output_type": "stream",
     "text": [
      "--------------------------------------------- Result 98 ---------------------------------------------\n",
      "[[8 (100%)]] --> [[5 (100%)]]\n",
      "\n",
      "2571 71d4 d4ef ef03 033e 3ecd cd39 3920 2032 3280 8018 1821 21f0 f0e1 e1aa aa00 0000 0001 0101 0108 080a [[0a0f]] [[0f41]] 418c 8c91 91fd fde2 e2b6 b69b 9b01 0100 0000 0001 0101 0138 3800 0000 0002 0203 0364 6465 6566 6600 0000 0000 0011 1140 4040 4076 7665 6572 7273 7369 696f 6f6e 6e5f 5f63 636f 6f6d 6d6d 6d65 656e 6e74 7411\n",
      "\n",
      "2571 71d4 d4ef ef03 033e 3ecd cd39 3920 2032 3280 8018 1821 21f0 f0e1 e1aa aa00 0000 0001 0101 0108 080a [[0a05]] [[0541]] 418c 8c91 91fd fde2 e2b6 b69b 9b01 0100 0000 0001 0101 0138 3800 0000 0002 0203 0364 6465 6566 6600 0000 0000 0011 1140 4040 4076 7665 6572 7273 7369 696f 6f6e 6e5f 5f63 636f 6f6d 6d6d 6d65 656e 6e74 7411\n",
      "\n",
      "\n"
     ]
    },
    {
     "name": "stderr",
     "output_type": "stream",
     "text": [
      "[Succeeded / Failed / Skipped / Total] 95 / 0 / 4 / 99:  95%|█████████▌| 95/100 [06:02<00:19,  3.81s/it]"
     ]
    },
    {
     "name": "stdout",
     "output_type": "stream",
     "text": [
      "--------------------------------------------- Result 99 ---------------------------------------------\n",
      "[[14 (100%)]] --> [[16 (70%)]]\n",
      "\n",
      "56ac ac23 2368 68ba ba11 11da dade de56 5659 5980 8010 1049 4988 885f 5f26 2600 0000 0001 0101 [[0108]] [[080a]] 0a8e 8ea5 a5ef ef6f 6f7c 7c34 3460 6047 475c 5c6d 6d92 92b3 b384 8444 4489 89e3 e3bc bc85 8507 0763 6352 522c 2c46 46df df35 354e 4e6f 6f34 3488 8859 59d9 d986 865f 5f1d 1d54 543a 3aee eec7 c7dd dd0f 0fe5 e5ea ea51\n",
      "\n",
      "56ac ac23 2368 68ba ba11 11da dade de56 5659 5980 8010 1049 4988 885f 5f26 2600 0000 0001 0101 [[01d8]] [[d80a]] 0a8e 8ea5 a5ef ef6f 6f7c 7c34 3460 6047 475c 5c6d 6d92 92b3 b384 8444 4489 89e3 e3bc bc85 8507 0763 6352 522c 2c46 46df df35 354e 4e6f 6f34 3488 8859 59d9 d986 865f 5f1d 1d54 543a 3aee eec7 c7dd dd0f 0fe5 e5ea ea51\n",
      "\n",
      "\n"
     ]
    },
    {
     "name": "stderr",
     "output_type": "stream",
     "text": [
      "[Succeeded / Failed / Skipped / Total] 96 / 0 / 4 / 100:  96%|█████████▌| 96/100 [06:04<00:15,  3.79s/it]"
     ]
    },
    {
     "name": "stdout",
     "output_type": "stream",
     "text": [
      "--------------------------------------------- Result 100 ---------------------------------------------\n",
      "[[6 (100%)]] --> [[19 (100%)]]\n",
      "\n",
      "[[ce7e]] [[7eea]] ea4b 4b3a 3a06 0616 16a1 a123 23c4 c450 5018 [[18ff]] [[ffff]] ffca cad0 d000 0000 0017 1703 0301 0100 0020 2079 79e6 e60a 0abf bf86 8698 9818 1805 0557 5765 6507 07c0 c000 005b 5b5d 5d91 9195 95f9 f996 9677 7742 42c1 c10f 0f3a 3a8d 8d85 85d0 d04a 4a4e 4e3a 3aa0 a0f9\n",
      "\n",
      "[[ce66]] [[66ea]] ea4b 4b3a 3a06 0616 16a1 a123 23c4 c450 5018 [[1801]] [[01ff]] ffca cad0 d000 0000 0017 1703 0301 0100 0020 2079 79e6 e60a 0abf bf86 8698 9818 1805 0557 5765 6507 07c0 c000 005b 5b5d 5d91 9195 95f9 f996 9677 7742 42c1 c10f 0f3a 3a8d 8d85 85d0 d04a 4a4e 4e3a 3aa0 a0f9\n",
      "\n",
      "\n",
      "\n",
      "+-------------------------------+--------+\n",
      "| Attack Results                |        |\n",
      "+-------------------------------+--------+\n",
      "| Number of successful attacks: | 96     |\n",
      "| Number of failed attacks:     | 0      |\n",
      "| Number of skipped attacks:    | 4      |\n",
      "| Original accuracy:            | 96.0%  |\n",
      "| Accuracy under attack:        | 0.0%   |\n",
      "| Attack success rate:          | 100.0% |\n",
      "| Average perturbed word %:     | 7.5%   |\n",
      "| Average num. words per input: | 62.82  |\n",
      "| Avg num queries:              | 767.32 |\n",
      "+-------------------------------+--------+\n"
     ]
    },
    {
     "name": "stderr",
     "output_type": "stream",
     "text": [
      "\n"
     ]
    }
   ],
   "source": [
    "# Attack until 1000 successful attacks are reached\n",
    "attack_args = AttackArgs(num_successful_examples=100, random_seed=42)\n",
    "attacker = Attacker(attack, dataset, attack_args)\n",
    "attack_results = attacker.attack_dataset()"
   ]
  },
  {
   "cell_type": "markdown",
   "metadata": {},
   "source": [
    "# 6. Display attack results"
   ]
  },
  {
   "cell_type": "code",
   "execution_count": 6,
   "metadata": {},
   "outputs": [
    {
     "name": "stderr",
     "output_type": "stream",
     "text": [
      "textattack: Logging to CSV at path results.csv\n"
     ]
    },
    {
     "data": {
      "text/html": [
       "<table border=\"1\" class=\"dataframe\">\n",
       "  <thead>\n",
       "    <tr style=\"text-align: right;\">\n",
       "      <th></th>\n",
       "      <th>original_text</th>\n",
       "      <th>perturbed_text</th>\n",
       "    </tr>\n",
       "  </thead>\n",
       "  <tbody>\n",
       "    <tr>\n",
       "      <th>0</th>\n",
       "      <td>e240 <font color = cyan>4067</font> <font color = cyan>67c0</font> c032 32e9 e967 67bf bfe4 e4f4 f480 <font color = cyan>8018</font> <font color = cyan>1821</font> 21f0 f077 77a0 <font color = cyan>a000</font> <font color = cyan>0000</font> 0001 0101 0108 <font color = cyan>080a</font> <font color = cyan>0a06</font> 06c5 c561 61bc bcf5 f573 73aa aada da01 0100 0059 597d 7d12 1266 667b <font color = cyan>7b40</font> <font color = cyan>4053</font> 5306 <font color = cyan>0647</font> <font color = cyan>4745</font> 451e 1e65 654c 4c05 056a 6a50 5074 <font color = cyan>744a</font> <font color = cyan>4a7e</font> 7e79 7901 0100 0000 0000 0000 0000 0000 0000 0000 0000 004a 4a9c 9cc1</td>\n",
       "      <td>e240 <font color = gray>405b</font> <font color = gray>5bc0</font> c032 32e9 e967 67bf bfe4 e4f4 f480 <font color = gray>80d7</font> <font color = gray>d721</font> 21f0 f077 77a0 <font color = gray>a01b</font> <font color = gray>1b00</font> 0001 0101 0108 <font color = gray>0827</font> <font color = gray>2706</font> 06c5 c561 61bc bcf5 f573 73aa aada da01 0100 0059 597d 7d12 1266 667b <font color = gray>7bec</font> <font color = gray>ec53</font> 5306 <font color = gray>0671</font> <font color = gray>7145</font> 451e 1e65 654c 4c05 056a 6a50 5074 <font color = gray>7452</font> <font color = gray>527e</font> 7e79 7901 0100 0000 0000 0000 0000 0000 0000 0000 0000 004a 4a9c 9cc1</td>\n",
       "    </tr>\n",
       "    <tr>\n",
       "      <th>1</th>\n",
       "      <td><font color = pink>ffdc</font> <font color = pink>dc10</font> 1099 992a 2aea ea5a 5a71 71fe fe15 1550 <font color = pink>5010</font> <font color = pink>10fa</font> fa61 614c 4c1d 1d00 0000 00da dafe fe86 864a 4ae2 e220 20cc cc3f 3fb0 b027 273d 3dd1 d1e2 e2ac acc8 c88b <font color = pink>8b48</font> <font color = pink>48a6</font> a6e4 e459 59f7 f73a 3a06 06ad ad7d <font color = pink>7d52</font> <font color = pink>52f1</font> f1f6 f665 6561 6196 9621 2122 22ae ae68 68be be2f 2f7a 7ade deb3 b30c 0cf5 <font color = pink>f5e9</font> <font color = pink>e9c5</font> c5dd ddf8 f865</td>\n",
       "      <td><font color = yellow>ff60</font> <font color = yellow>6010</font> 1099 992a 2aea ea5a 5a71 71fe fe15 1550 <font color = yellow>50ef</font> <font color = yellow>effa</font> fa61 614c 4c1d 1d00 0000 00da dafe fe86 864a 4ae2 e220 20cc cc3f 3fb0 b027 273d 3dd1 d1e2 e2ac acc8 c88b <font color = yellow>8bfa</font> <font color = yellow>faa6</font> a6e4 e459 59f7 f73a 3a06 06ad ad7d <font color = yellow>7de9</font> <font color = yellow>e9f1</font> f1f6 f665 6561 6196 9621 2122 22ae ae68 68be be2f 2f7a 7ade deb3 b30c 0cf5 <font color = yellow>f5ae</font> <font color = yellow>aec5</font> c5dd ddf8 f865</td>\n",
       "    </tr>\n",
       "    <tr>\n",
       "      <th>2</th>\n",
       "      <td>01bb bb92 9201 018a 8af2 f279 798d 8dbe beb0 b080 8018 185a 5a80 8031 313e 3e00 0000 0001 <font color = orange>0101</font> <font color = orange>0108</font> 080a <font color = orange>0a05</font> <font color = orange>0548</font> 48db db09 09fc fcb6 b66f 6f65 6517 1703 <font color = orange>0300</font> <font color = orange>0005</font> 0554 542a 2a42 42dd dd0e 0eb4 b43a 3ae8 e8a8 a83d 3d63 6302 022d 2d3c 3c91 911d 1d60 6094 944e 4eb2 b2e5 e53c 3c18 1806 06d3 d34d 4d2c 2cc4 c4df dfdb db55</td>\n",
       "      <td>01bb bb92 9201 018a 8af2 f279 798d 8dbe beb0 b080 8018 185a 5a80 8031 313e 3e00 0000 0001 <font color = green>01a5</font> <font color = green>a508</font> 080a <font color = green>0a1e</font> <font color = green>1e48</font> 48db db09 09fc fcb6 b66f 6f65 6517 1703 <font color = green>03a1</font> <font color = green>a105</font> 0554 542a 2a42 42dd dd0e 0eb4 b43a 3ae8 e8a8 a83d 3d63 6302 022d 2d3c 3c91 911d 1d60 6094 944e 4eb2 b2e5 e53c 3c18 1806 06d3 d34d 4d2c 2cc4 c4df dfdb db55</td>\n",
       "    </tr>\n",
       "    <tr>\n",
       "      <th>3</th>\n",
       "      <td>2787 87ec ecfd fdf9 f973 73eb eb9f 9f27 2708 0880 8018 185a 5a80 80c8 c8ae ae00 0000 0001 0101 0108 080a <font color = green>0a1e</font> <font color = green>1eb4</font> b4e0 e01e 1e0d 0d3d 3d58 58a5 a517 1703 0300 0005 0578 78a0 a043 432a 2a1d 1dce cea2 a216 16cc ccce ce4b 4b0e 0e02 0232 3231 31d1 d1e7 e7d5 d50c 0ca7 a70c 0cc8 c81d 1d89 8967 671f 1f1c 1ceb ebd8 d846 46d2</td>\n",
       "      <td>2787 87ec ecfd fdf9 f973 73eb eb9f 9f27 2708 0880 8018 185a 5a80 80c8 c8ae ae00 0000 0001 0101 0108 080a <font color = orange>0a05</font> <font color = orange>05b4</font> b4e0 e01e 1e0d 0d3d 3d58 58a5 a517 1703 0300 0005 0578 78a0 a043 432a 2a1d 1dce cea2 a216 16cc ccce ce4b 4b0e 0e02 0232 3231 31d1 d1e7 e7d5 d50c 0ca7 a70c 0cc8 c81d 1d89 8967 671f 1f1c 1ceb ebd8 d846 46d2</td>\n",
       "    </tr>\n",
       "    <tr>\n",
       "      <th>4</th>\n",
       "      <td>0050 5086 86c4 c40d 0df3 f366 6660 6018 1802 <font color = cyan>0250</font> <font color = cyan>5018</font> 18fa faf0 f08c 8c92 9200 0000 0047 4745 4554 5420 202f 2f78 7868 6864 6431 314f 4f42 4259 5938 3835 3564 644b 4b64 6458 5848 4845 4558 5877 7741 4144 4473 7377 7753 537a 7a79 796b 6b67 6730 305a 5a25 2532 3262 6245 4530 3047 474e 4e61 6136 3642 4236 3666 6672 726f</td>\n",
       "      <td>0050 5086 86c4 c40d 0df3 f366 6660 6018 1802 <font color = brown>022d</font> <font color = brown>2d18</font> 18fa faf0 f08c 8c92 9200 0000 0047 4745 4554 5420 202f 2f78 7868 6864 6431 314f 4f42 4259 5938 3835 3564 644b 4b64 6458 5848 4845 4558 5877 7741 4144 4473 7377 7753 537a 7a79 796b 6b67 6730 305a 5a25 2532 3262 6245 4530 3047 474e 4e61 6136 3642 4236 3666 6672 726f</td>\n",
       "    </tr>\n",
       "    <tr>\n",
       "      <th>5</th>\n",
       "      <td>f266 66d7 d7ea ea3c 3cef ef57 57c9 c9d9 d914 1480 8018 1849 4988 88a6 a612 1200 0000 0001 0101 0108 080a <font color = purple>0a21</font> <font color = purple>2158</font> 582e 2e81 8102 029a 9aa0 a0c2 c216 1603 0300 0000 0037 <font color = purple>3702</font> <font color = purple>0200</font> 0000 0033 3303 0300 0057 5794 9449 490d 0dc3 c320 203e 3e49 49c3 c358 583e 3e53 5343 4353 533e 3e4c 4cc3 c320 203e 3ed3 d343 4300 003e 3ed9</td>\n",
       "      <td>f266 66d7 d7ea ea3c 3cef ef57 57c9 c9d9 d914 1480 8018 1849 4988 88a6 a612 1200 0000 0001 0101 0108 080a <font color = orange>0a16</font> <font color = orange>1658</font> 582e 2e81 8102 029a 9aa0 a0c2 c216 1603 0300 0000 0037 <font color = orange>37fb</font> <font color = orange>fb00</font> 0000 0033 3303 0300 0057 5794 9449 490d 0dc3 c320 203e 3e49 49c3 c358 583e 3e53 5343 4353 533e 3e4c 4cc3 c320 203e 3ed3 d343 4300 003e 3ed9</td>\n",
       "    </tr>\n",
       "    <tr>\n",
       "      <th>6</th>\n",
       "      <td><font color = pink>ffdc</font> <font color = pink>dce6</font> e6d3 d3cc cc27 27a7 a7e0 e050 5098 <font color = pink>9850</font> <font color = pink>5010</font> 10fa fa97 974b 4bab ab00 0000 00de de3c 3cc2 c2b4 b425 2568 687a 7a1e 1ecf cf93 9391 913f 3fff ff4a 4a68 6856 5644 44f1 f188 88d9 d96d 6d62 62e7 e74d 4d1b 1b54 5440 4048 481a 1a70 7060 60f9 f92c 2c31 31b3 b349 499c 9c3e 3ed6 d692 9265 65e8 e866 66e3 e355 5520 20e2</td>\n",
       "      <td><font color = pink>ffff</font> <font color = pink>ffe6</font> e6d3 d3cc cc27 27a7 a7e0 e050 5098 <font color = pink>98c7</font> <font color = pink>c710</font> 10fa fa97 974b 4bab ab00 0000 00de de3c 3cc2 c2b4 b425 2568 687a 7a1e 1ecf cf93 9391 913f 3fff ff4a 4a68 6856 5644 44f1 f188 88d9 d96d 6d62 62e7 e74d 4d1b 1b54 5440 4048 481a 1a70 7060 60f9 f92c 2c31 31b3 b349 499c 9c3e 3ed6 d692 9265 65e8 e866 66e3 e355 5520 20e2</td>\n",
       "    </tr>\n",
       "    <tr>\n",
       "      <th>7</th>\n",
       "      <td><font color = green>1f90</font> <font color = green>90ca</font> ca79 79be be40 4082 82be bef8 f802 <font color = green>0250</font> <font color = green>5018</font> 1850 5000 0089 8987 8700 0000 0050 504f 4f53 5354 5420 202f 2f51 5167 6775 7565 654f 4f25 2532 3234 3456 5633 333d 3d5f 5f73 7333 3373 7332 3273 7353 537e 7e2f 2f37 3776 7625 2532 3234 3439 3955 5531 3154 5431 3172 726a 6a77 7726 2625 2532 3234 3426 266b 6b6c 6c6b</td>\n",
       "      <td><font color = brown>1f34</font> <font color = brown>34ca</font> ca79 79be be40 4082 82be bef8 f802 <font color = brown>021e</font> <font color = brown>1e18</font> 1850 5000 0089 8987 8700 0000 0050 504f 4f53 5354 5420 202f 2f51 5167 6775 7565 654f 4f25 2532 3234 3456 5633 333d 3d5f 5f73 7333 3373 7332 3273 7353 537e 7e2f 2f37 3776 7625 2532 3234 3439 3955 5531 3154 5431 3172 726a 6a77 7726 2625 2532 3234 3426 266b 6b6c 6c6b</td>\n",
       "    </tr>\n",
       "    <tr>\n",
       "      <th>8</th>\n",
       "      <td>8f3c 3c84 844a 4abc bcb3 b319 19d2 d2c2 c26e 6e80 8018 181c 1c48 48e4 e44d 4d00 0000 0001 0101 0108 080a <font color = orange>0a16</font> <font color = orange>169c</font> 9c72 727e 7e05 0531 31a7 a731 31a3 a33c 3c21 219b 9b34 343b 3b61 6151 51b2 b250 5058 5806 06a8 a88d 8d1c 1c50 50c9 c955 551e 1e87 870d 0d36 36f5 f526 263d 3d4a 4ac7 c765 6583 83ac ac61 61e4 e4b7 b703 031b</td>\n",
       "      <td>8f3c 3c84 844a 4abc bcb3 b319 19d2 d2c2 c26e 6e80 8018 181c 1c48 48e4 e44d 4d00 0000 0001 0101 0108 080a <font color = red>0a77</font> <font color = red>779c</font> 9c72 727e 7e05 0531 31a7 a731 31a3 a33c 3c21 219b 9b34 343b 3b61 6151 51b2 b250 5058 5806 06a8 a88d 8d1c 1c50 50c9 c955 551e 1e87 870d 0d36 36f5 f526 263d 3d4a 4ac7 c765 6583 83ac ac61 61e4 e4b7 b703 031b</td>\n",
       "    </tr>\n",
       "    <tr>\n",
       "      <th>9</th>\n",
       "      <td>2990 909b 9b36 36cc cc4c 4c15 15c7 c7be bef8 f880 8018 187c 7c70 700b 0b25 2500 0000 0001 0101 0108 080a <font color = orange>0a16</font> <font color = orange>169a</font> 9a06 064a 4a05 0537 37ab ab06 0617 1703 0300 0002 02f4 f430 30bd bd48 48a5 a578 78e4 e40c 0cf8 f837 3777 775d 5d15 156e 6ed3 d315 15e4 e42b 2b79 794d 4d12 1237 370b 0b68 6803 0310 107f 7f4c 4c24 245f 5f34</td>\n",
       "      <td>2990 909b 9b36 36cc cc4c 4c15 15c7 c7be bef8 f880 8018 187c 7c70 700b 0b25 2500 0000 0001 0101 0108 080a <font color = red>0af2</font> <font color = red>f29a</font> 9a06 064a 4a05 0537 37ab ab06 0617 1703 0300 0002 02f4 f430 30bd bd48 48a5 a578 78e4 e40c 0cf8 f837 3777 775d 5d15 156e 6ed3 d315 15e4 e42b 2b79 794d 4d12 1237 370b 0b68 6803 0310 107f 7f4c 4c24 245f 5f34</td>\n",
       "    </tr>\n",
       "    <tr>\n",
       "      <th>10</th>\n",
       "      <td>c2cd cd00 006b 6bee ee55 5520 2058 5881 8183 8300 0001 <font color = orange>0100</font> <font color = orange>0000</font> 0000 0001 0100 0000 000c 0c65 6566 666e 6e75 7564 6469 6969 696c 6c6b 6b62 6270 7073 7303 0378 7879 797a <font color = orange>7a00</font> <font color = orange>0000</font> 0001 <font color = orange>0100</font> <font color = orange>0001</font> 01c0 c019 1900 0006 0600 0001 <font color = orange>0100</font> <font color = orange>0000</font> 0005 05d5 d500 0035 3503 036e 6e73 7330 300a 0a63 6365 656e 6e74 7472 7261 616c 6c6e</td>\n",
       "      <td>c2cd cd00 006b 6bee ee55 5520 2058 5881 8183 8300 0001 <font color = gray>01c0</font> <font color = gray>c000</font> 0000 0001 0100 0000 000c 0c65 6566 666e 6e75 7564 6469 6969 696c 6c6b 6b62 6270 7073 7303 0378 7879 797a <font color = gray>7a0a</font> <font color = gray>0a00</font> 0001 <font color = gray>0108</font> <font color = gray>0801</font> 01c0 c019 1900 0006 0600 0001 <font color = gray>0141</font> <font color = gray>4100</font> 0005 05d5 d500 0035 3503 036e 6e73 7330 300a 0a63 6365 656e 6e74 7472 7261 616c 6c6e</td>\n",
       "    </tr>\n",
       "    <tr>\n",
       "      <th>11</th>\n",
       "      <td>01bb bbc3 c3b5 b524 2442 42e2 e21e 1ed2 <font color = red>d261</font> <font color = red>6180</font> 8018 1893 9310 1089 89db db00 0000 0001 0101 0108 080a <font color = red>0a11</font> <font color = red>11f6</font> f6a5 a572 7223 2326 26a4 a464 6417 1703 0300 0000 003c 3c72 7214 1429 29cd cdb4 b482 825e 5e10 10b8 b8e0 e0f1 f175 750d 0df6 f69b 9b0a 0ad6 d65b 5b7f 7f98 983e 3ece ce77 77d7 d7e8 e8df df99 9975 7540 408e</td>\n",
       "      <td>01bb bbc3 c3b5 b524 2442 42e2 e21e 1ed2 <font color = orange>d2af</font> <font color = orange>af80</font> 8018 1893 9310 1089 89db db00 0000 0001 0101 0108 080a <font color = orange>0a16</font> <font color = orange>16f6</font> f6a5 a572 7223 2326 26a4 a464 6417 1703 0300 0000 003c 3c72 7214 1429 29cd cdb4 b482 825e 5e10 10b8 b8e0 e0f1 f175 750d 0df6 f69b 9b0a 0ad6 d65b 5b7f 7f98 983e 3ece ce77 77d7 d7e8 e8df df99 9975 7540 408e</td>\n",
       "    </tr>\n",
       "    <tr>\n",
       "      <th>12</th>\n",
       "      <td>5d07 074c 4c19 194b 4b76 7644 4440 4057 57f2 f280 8018 1827 2798 9869 6930 3000 0000 0001 0101 0108 <font color = gray>080a</font> <font color = gray>0a0f</font> 0f3e 3eff ff03 03fd fde0 e089 8992 9207 0700 0000 0001 0100 0000 0000 <font color = gray>0002</font> <font color = gray>0200</font> 0000 0000 00e7 e71a 1ae1 e19e</td>\n",
       "      <td>5d07 074c 4c19 194b 4b76 7644 4440 4057 57f2 f280 8018 1827 2798 9869 6930 3000 0000 0001 0101 0108 <font color = cyan>0810</font> <font color = cyan>100f</font> 0f3e 3eff ff03 03fd fde0 e089 8992 9207 0700 0000 0001 0100 0000 0000 <font color = cyan>0007</font> <font color = cyan>0700</font> 0000 0000 00e7 e71a 1ae1 e19e</td>\n",
       "    </tr>\n",
       "    <tr>\n",
       "      <th>13</th>\n",
       "      <td>c186 8632 3230 30a4 a4b5 b577 77ff ff03 037e 7e50 5018 18ff ffff ff9b 9bde de00 0000 0017 1703 <font color = blue>0300</font> <font color = blue>0000</font> 00c0 c011 1199 9962 62f9 f986 86c1 c169 6903 0342 42c5 c5b6 b6b6 b652 52df df2e 2e1b 1b66 667a 7a47 4730 3036 36eb ebe5 e54c 4ce9 e999 99cc cc6e 6e38 38ae ae47 47db db33 333b 3b77 77cd cdc4 c404 0430 3021 21ce ce47</td>\n",
       "      <td>c186 8632 3230 30a4 a4b5 b577 77ff ff03 037e 7e50 5018 18ff ffff ff9b 9bde de00 0000 0017 1703 <font color = pink>03a3</font> <font color = pink>a300</font> 00c0 c011 1199 9962 62f9 f986 86c1 c169 6903 0342 42c5 c5b6 b6b6 b652 52df df2e 2e1b 1b66 667a 7a47 4730 3036 36eb ebe5 e54c 4ce9 e999 99cc cc6e 6e38 38ae ae47 47db db33 333b 3b77 77cd cdc4 c404 0430 3021 21ce ce47</td>\n",
       "    </tr>\n",
       "    <tr>\n",
       "      <th>14</th>\n",
       "      <td>ffdc <font color = pink>dc7a</font> <font color = pink>7a45</font> <font color = pink>4569</font> 6960 60ac ace1 e103 03b2 b250 <font color = pink>5010</font> <font color = pink>10fa</font> fab8 b801 017f 7f00 0000 001e 1e73 7362 62cc cce2 e20d 0dd1 d1bc <font color = pink>bc71</font> <font color = pink>71ec</font> ec42 42b2 b24e 4eb1 b10c 0c00 00ac acab ab7b 7bdf df31 31e4 e44d 4de2 e2ff ffe3 e3fa fa47 47cf cfdb db72 72fa fad6 d656 5619 1948 4862 62ba ba87 8768 68d6 d640 403c 3cb6 b60e 0ea7 a775</td>\n",
       "      <td>ffdc <font color = brown>dca4</font> <font color = brown>a438</font> <font color = brown>3869</font> 6960 60ac ace1 e103 03b2 b250 <font color = brown>50f5</font> <font color = brown>f5fa</font> fab8 b801 017f 7f00 0000 001e 1e73 7362 62cc cce2 e20d 0dd1 d1bc <font color = brown>bc08</font> <font color = brown>08ec</font> ec42 42b2 b24e 4eb1 b10c 0c00 00ac acab ab7b 7bdf df31 31e4 e44d 4de2 e2ff ffe3 e3fa fa47 47cf cfdb db72 72fa fad6 d656 5619 1948 4862 62ba ba87 8768 68d6 d640 403c 3cb6 b60e 0ea7 a775</td>\n",
       "    </tr>\n",
       "    <tr>\n",
       "      <th>15</th>\n",
       "      <td><font color = brown>0e0d</font> <font color = brown>0df9</font> f956 <font color = brown>562d</font> <font color = brown>2ddc</font> dcf0 f027 27f1 f126 2650 5018 1819 1920 20dc dc06 0600 0000 0074 7454 5469 696d 6d65 6528 2874 746f 6f64 6461 6179 792e 2e67 6765 6574 7454 5469 696d 6d65 6528 2829 292b 2b28 2831 3130 3030 3030 302a 2a66 <font color = brown>6672</font> <font color = brown>7265</font> 6571 <font color = brown>7175</font> <font color = brown>7565</font> 656e 6e63 6379 7929 2929 293b 3b76 7661 <font color = brown>6172</font> <font color = brown>7220</font> <font color = brown>2063</font> 636f <font color = brown>6f6f</font></td>\n",
       "      <td><font color = pink>0ebe</font> <font color = pink>bef9</font> f956 <font color = pink>5670</font> <font color = pink>70dc</font> dcf0 f027 27f1 f126 2650 5018 1819 1920 20dc dc06 0600 0000 0074 7454 5469 696d 6d65 6528 2874 746f 6f64 6461 6179 792e 2e67 6765 6574 7454 5469 696d 6d65 6528 2829 292b 2b28 2831 3130 3030 3030 302a 2a66 <font color = pink>6661</font> <font color = pink>6165</font> 6571 <font color = pink>710a</font> <font color = pink>0a65</font> 656e 6e63 6379 7929 2929 293b 3b76 7661 <font color = pink>6195</font> <font color = pink>95c4</font> <font color = pink>c463</font> 636f <font color = pink>6f28</font></td>\n",
       "    </tr>\n",
       "    <tr>\n",
       "      <th>16</th>\n",
       "      <td>0404 04bc bc01 013b 3b0f 0fb9 b9a0 a04a 4a53 5350 5018 182d 2da0 a06e 6ed0 d000 0000 0016 1603 0301 0100 0086 8610 1000 0000 0082 8200 0080 804c 4ced edfa fa39 397a 7ab2 b275 751f 1f77 77f7 f7ed ede9 e9a5 a555 5542 427b 7bbe beb8 b8f2 f2cb cb5e 5e79 7957 5776 7679 797a 7a9e 9e54 5438 381c 1cb8 b8cb cb3e 3e69 6937 37fa</td>\n",
       "      <td>0404 04bc bc01 013b 3b0f 0fb9 b9a0 a04a 4a53 5350 5018 182d 2da0 a06e 6ed0 d000 0000 0016 1603 0301 0100 0086 8610 1000 0000 0082 8200 0080 804c 4ced edfa fa39 397a 7ab2 b275 751f 1f77 77f7 f7ed ede9 e9a5 a555 5542 427b 7bbe beb8 b8f2 f2cb cb5e 5e79 7957 5776 7679 797a 7a9e 9e54 5438 381c 1cb8 b8cb cb3e 3e69 6937 37fa</td>\n",
       "    </tr>\n",
       "    <tr>\n",
       "      <th>17</th>\n",
       "      <td>3aac ac87 87d4 d43f 3fa1 a122 225e 5eb9 b9d4 d480 8018 181c 1c48 48c0 c0a0 a000 0000 0001 0101 0108 080a <font color = orange>0a16</font> <font color = orange>169c</font> 9c88 885a 5a05 053d 3dbf bfd6 d647 4779 7942 4236 366a 6a76 76c1 c1a2 a264 64a1 a1b0 b008 0850 5013 1339 39a0 a0f0 f04d 4d16 1687 870d 0d36 36f5 f526 263d 3d4b 4bc7 c765 658d 8dac ac61 61e4 e4b7 b703 031b</td>\n",
       "      <td>3aac ac87 87d4 d43f 3fa1 a122 225e 5eb9 b9d4 d480 8018 181c 1c48 48c0 c0a0 a000 0000 0001 0101 0108 080a <font color = red>0a5c</font> <font color = red>5c9c</font> 9c88 885a 5a05 053d 3dbf bfd6 d647 4779 7942 4236 366a 6a76 76c1 c1a2 a264 64a1 a1b0 b008 0850 5013 1339 39a0 a0f0 f04d 4d16 1687 870d 0d36 36f5 f526 263d 3d4b 4bc7 c765 658d 8dac ac61 61e4 e4b7 b703 031b</td>\n",
       "    </tr>\n",
       "    <tr>\n",
       "      <th>18</th>\n",
       "      <td>0050 50c2 c293 9359 5963 63ef efd0 d006 06f6 f650 5010 10fa faf0 f0f4 f47c 7c00 0000 0047 4745 4554 5420 202f 2f69 696d 6d70 703f 3f5a 5a3d 3d31 3132 3230 3078 7836 3630 3030 3026 2673 733d 3d31 3139 3932 3231 3133 3337 3739 3926 265f 5f73 7361 616c 6c74 743d 3d31 3139 3933 3330 3030 3032 <font color = brown>3238</font> <font color = brown>3838</font> 3830 3035 3526 2642</td>\n",
       "      <td>0050 50c2 c293 9359 5963 63ef efd0 d006 06f6 f650 5010 10fa faf0 f0f4 f47c 7c00 0000 0047 4745 4554 5420 202f 2f69 696d 6d70 703f 3f5a 5a3d 3d31 3132 3230 3078 7836 3630 3030 3026 2673 733d 3d31 3139 3932 3231 3133 3337 3739 3926 265f 5f73 7361 616c 6c74 743d 3d31 3139 3933 3330 3030 3032 <font color = pink>32ec</font> <font color = pink>ec38</font> 3830 3035 3526 2642</td>\n",
       "    </tr>\n",
       "    <tr>\n",
       "      <th>19</th>\n",
       "      <td>c4d5 d578 78ca ca05 0580 8095 95cf cf2f 2f47 4750 5010 <font color = brown>1000</font> <font color = brown>0036</font> 3673 737f 7f00 0000 0033 33e9 e9a0 a0e3 e3b8 b84b 4b71 71be be24 24b2 b2d8 d894 94fa fa3d 3d45 45f0 f0c6 c63c 3cf7 f755 5540 40e6 e65f 5f02 0270 706c 6c42 42e1 e12c 2c90 90c7 c73c 3c67 679d 9d29 29b5 b578 786b 6b1a 1aaa aa84 84a7 a7fb fb44 44b7 b7fa faf1</td>\n",
       "      <td>c4d5 d578 78ca ca05 0580 8095 95cf cf2f 2f47 4750 5010 <font color = pink>10ca</font> <font color = pink>ca36</font> 3673 737f 7f00 0000 0033 33e9 e9a0 a0e3 e3b8 b84b 4b71 71be be24 24b2 b2d8 d894 94fa fa3d 3d45 45f0 f0c6 c63c 3cf7 f755 5540 40e6 e65f 5f02 0270 706c 6c42 42e1 e12c 2c90 90c7 c73c 3c67 679d 9d29 29b5 b578 786b 6b1a 1aaa aa84 84a7 a7fb fb44 44b7 b7fa faf1</td>\n",
       "    </tr>\n",
       "    <tr>\n",
       "      <th>20</th>\n",
       "      <td>0d3d 3ddd dd34 34e4 e424 2435 3566 66b7 b7df df50 <font color = pink>5018</font> <font color = pink>18fe</font> fe82 8288 886e 6e00 0000 0003 0300 0000 005f 5f02 02f0 f080 8064 6400 0004 0403 03eb eb70 7080 8050 5001 0100 0000 0000 0048 4800 0000 0000 00c4 c48d 8df4 f4bd bd3c 3c88 88b6 b68d 8de4 e49d 9dc3 c344 442b 2ba2 a2f8 f8bc bcd2 d2c7 c70a 0a29 290b 0b49 49e2 e2b6</td>\n",
       "      <td>0d3d 3ddd dd34 34e4 e424 2435 3566 66b7 b7df df50 <font color = red>5090</font> <font color = red>90fe</font> fe82 8288 886e 6e00 0000 0003 0300 0000 005f 5f02 02f0 f080 8064 6400 0004 0403 03eb eb70 7080 8050 5001 0100 0000 0000 0048 4800 0000 0000 00c4 c48d 8df4 f4bd bd3c 3c88 88b6 b68d 8de4 e49d 9dc3 c344 442b 2ba2 a2f8 f8bc bcd2 d2c7 c70a 0a29 290b 0b49 49e2 e2b6</td>\n",
       "    </tr>\n",
       "    <tr>\n",
       "      <th>21</th>\n",
       "      <td>87c9 c9c8 c860 6008 0819 19ec ecdb db3b 3b30 3080 8018 185a 5a80 80d0 d09b 9b00 0000 0001 0101 0108 080a <font color = green>0a1e</font> <font color = green>1eb6</font> b6db db00 000d 0d3e 3ea3 a354 5417 1703 0300 0005 0578 7831 3119 1910 1094 9417 17d5 d574 7446 46ba ba66 6647 4773 7301 01b5 b530 30a7 a74d 4dfd fd12 1208 08dc dc6f 6fd4 d4bb bb2b 2b82 82f1 f118 187c 7c45</td>\n",
       "      <td>87c9 c9c8 c860 6008 0819 19ec ecdb db3b 3b30 3080 8018 185a 5a80 80d0 d09b 9b00 0000 0001 0101 0108 080a <font color = orange>0a16</font> <font color = orange>16b6</font> b6db db00 000d 0d3e 3ea3 a354 5417 1703 0300 0005 0578 7831 3119 1910 1094 9417 17d5 d574 7446 46ba ba66 6647 4773 7301 01b5 b530 30a7 a74d 4dfd fd12 1208 08dc dc6f 6fd4 d4bb bb2b 2b82 82f1 f118 187c 7c45</td>\n",
       "    </tr>\n",
       "    <tr>\n",
       "      <th>22</th>\n",
       "      <td>b1af afcd cd78 78b6 b618 18cd cd78 780f 0f78 7880 8018 1849 4988 8825 25a5 a500 0000 0001 0101 0108 080a <font color = purple>0a21</font> <font color = purple>2127</font> 27db db97 97ff fffc fc6e 6e38 3816 1603 0300 0000 0057 5702 0200 0000 0053 5303 0300 0057 5794 9449 4908 0800 008a 8a7e 7e49 4900 0058 587e 7e53 5380 8053 537e 7e4c 4c00 008a 8a7e 7e64 6480 80aa aa7e 7e6f</td>\n",
       "      <td>b1af afcd cd78 78b6 b618 18cd cd78 780f 0f78 7880 8018 1849 4988 8825 25a5 a500 0000 0001 0101 0108 080a <font color = orange>0a16</font> <font color = orange>1627</font> 27db db97 97ff fffc fc6e 6e38 3816 1603 0300 0000 0057 5702 0200 0000 0053 5303 0300 0057 5794 9449 4908 0800 008a 8a7e 7e49 4900 0058 587e 7e53 5380 8053 537e 7e4c 4c00 008a 8a7e 7e64 6480 80aa aa7e 7e6f</td>\n",
       "    </tr>\n",
       "    <tr>\n",
       "      <th>23</th>\n",
       "      <td>26e2 e225 2546 4616 1606 <font color = purple>0625</font> <font color = purple>2500</font> 0021 2177 7780 <font color = purple>8018</font> <font color = purple>182d</font> 2d40 405c 5ca8 a800 0000 0001 0101 0108 080a <font color = purple>0ad7</font> <font color = purple>d7ee</font> eefd fd86 86c6 c698 98b4 b4d1 d132 3233 3330 3020 2064 6465 6566 6661 6175 756c 6c74 740d 0d0a 0ad7 d730 3098 98f3</td>\n",
       "      <td>26e2 e225 2546 4616 1606 <font color = orange>06fd</font> <font color = orange>fd00</font> 0021 2177 7780 <font color = orange>80ea</font> <font color = orange>ea2d</font> 2d40 405c 5ca8 a800 0000 0001 0101 0108 080a <font color = orange>0a05</font> <font color = orange>05ee</font> eefd fd86 86c6 c698 98b4 b4d1 d132 3233 3330 3020 2064 6465 6566 6661 6175 756c 6c74 740d 0d0a 0ad7 d730 3098 98f3</td>\n",
       "    </tr>\n",
       "    <tr>\n",
       "      <th>24</th>\n",
       "      <td>c0f2 f219 1919 19c8 c802 0299 996c 6c2b 2b19 1950 5018 18ff ffff ffe1 e1c7 c700 0000 0016 1603 <font color = blue>0300</font> <font color = blue>0000</font> 004a 4a02 0200 0000 0046 4603 0300 0056 5605 05a0 a073 7380 8072 7221 2191 91aa aad1 d184 8472 72d6 d6ba ba67 670f 0f02 0275 75c0 c0b5 b525 2509 093a 3a51 5153 53b7 b7c9 c917 17f0 f065 65b7 b76c 6c20 2002 0208 08fb</td>\n",
       "      <td>c0f2 f219 1919 19c8 c802 0299 996c 6c2b 2b19 1950 5018 18ff ffff ffe1 e1c7 c700 0000 0016 1603 <font color = pink>0303</font> <font color = pink>0300</font> 004a 4a02 0200 0000 0046 4603 0300 0056 5605 05a0 a073 7380 8072 7221 2191 91aa aad1 d184 8472 72d6 d6ba ba67 670f 0f02 0275 75c0 c0b5 b525 2509 093a 3a51 5153 53b7 b7c9 c917 17f0 f065 65b7 b76c 6c20 2002 0208 08fb</td>\n",
       "    </tr>\n",
       "    <tr>\n",
       "      <th>25</th>\n",
       "      <td><font color = green>1f90</font> <font color = green>9098</font> 984d 4dfe fe72 725b 5ba6 a688 8802 0250 5018 1850 5000 00e6 e617 1700 0000 0050 504f 4f53 5354 5420 202f 2f47 4748 4825 2532 3230 3025 2532 3243 4341 416c 6c59 597e 7e2f 2f36 3676 7663 6351 5177 7757 5773 7337 376d 6d72 722f <font color = green>2f25</font> <font color = green>2537</font> 3745 454c 4c42 4225 2532 3234 3439 3920 2048 4854 5454 5450 502f 2f31 312e</td>\n",
       "      <td><font color = brown>1f23</font> <font color = brown>2398</font> 984d 4dfe fe72 725b 5ba6 a688 8802 0250 5018 1850 5000 00e6 e617 1700 0000 0050 504f 4f53 5354 5420 202f 2f47 4748 4825 2532 3230 3025 2532 3243 4341 416c 6c59 597e 7e2f 2f36 3676 7663 6351 5177 7757 5773 7337 376d 6d72 722f <font color = brown>2f3f</font> <font color = brown>3f37</font> 3745 454c 4c42 4225 2532 3234 3439 3920 2048 4854 5454 5450 502f 2f31 312e</td>\n",
       "    </tr>\n",
       "    <tr>\n",
       "      <th>26</th>\n",
       "      <td>0f0b 0b49 4995 951f 1f68 68b1 b1e9 e9b1 b19d 9d50 5018 1816 16d0 d08a 8a1a 1a00 0000 0005 0501 0100 0003 0315 156d 6d61 6169 696c 6c69 696e 6e2d 2d30 3032 322e 2e6d 6d78 782e 2e61 616f 6f6c 6c2e 2e63 636f 6f6d 6d2e 2e00 0019</td>\n",
       "      <td>0f0b 0b49 4995 951f 1f68 68b1 b1e9 e9b1 b19d 9d50 5018 1816 16d0 d08a 8a1a 1a00 0000 0005 0501 0100 0003 0315 156d 6d61 6169 696c 6c69 696e 6e2d 2d30 3032 322e 2e6d 6d78 782e 2e61 616f 6f6c 6c2e 2e63 636f 6f6d 6d2e 2e00 0019</td>\n",
       "    </tr>\n",
       "    <tr>\n",
       "      <th>27</th>\n",
       "      <td>9b59 5970 70cf cf96 96d4 d425 2575 7526 26e2 e280 8018 1849 <font color = yellow>4988</font> <font color = yellow>88fd</font> fd5d 5d00 0000 0001 <font color = yellow>0101</font> <font color = yellow>0108</font> <font color = yellow>080a</font> <font color = yellow>0a5c</font> 5c64 6441 4118 1848 4854 549b 9ba2 a254 54ed ed90 90dc dc70 700b 0bbe be3a 3a1b 1b0c 0c67 67b1 b1f6 f6f3 f3dc dc0e 0e07 07d6 d652 52c6 c617 1707 079b 9b01 014b 4b13 13d8 d8bb bb8c 8c26 263d 3ddb db03 039a 9afd</td>\n",
       "      <td>9b59 5970 70cf cf96 96d4 d425 2575 7526 26e2 e280 8018 1849 <font color = pink>497f</font> <font color = pink>7ffd</font> fd5d 5d00 0000 0001 <font color = pink>01d0</font> <font color = pink>d008</font> <font color = pink>08b2</font> <font color = pink>b25c</font> 5c64 6441 4118 1848 4854 549b 9ba2 a254 54ed ed90 90dc dc70 700b 0bbe be3a 3a1b 1b0c 0c67 67b1 b1f6 f6f3 f3dc dc0e 0e07 07d6 d652 52c6 c617 1707 079b 9b01 014b 4b13 13d8 d8bb bb8c 8c26 263d 3ddb db03 039a 9afd</td>\n",
       "    </tr>\n",
       "    <tr>\n",
       "      <th>28</th>\n",
       "      <td>0035 3500 002a 2ae6 e601 018d 8da6 a601 <font color = orange>0100</font> <font color = orange>0000</font> 0001 <font color = orange>0100</font> <font color = orange>0000</font> 0000 0000 0000 0000 000c 0c63 6375 7568 6865 6579 796b 6b6b 6b63 6363 6369 6971 7172 7203 0378 7879 797a 7a00 0000 0001 <font color = orange>0100</font> <font color = orange>0001</font></td>\n",
       "      <td>0035 3500 002a 2ae6 e601 018d 8da6 a601 <font color = red>0109</font> <font color = red>0900</font> 0001 <font color = red>01ee</font> <font color = red>ee00</font> 0000 0000 0000 0000 000c 0c63 6375 7568 6865 6579 796b 6b6b 6b63 6363 6369 6971 7172 7203 0378 7879 797a 7a00 0000 0001 <font color = red>019d</font> <font color = red>9d01</font></td>\n",
       "    </tr>\n",
       "    <tr>\n",
       "      <th>29</th>\n",
       "      <td>01bb bb88 88ff ff25 252e 2e0a 0ab7 b7db db90 9080 8018 186b 6b78 7820 20f4 f400 0000 0001 0101 0108 <font color = orange>080a</font> <font color = orange>0a05</font> 0549 49ee eecd cd16 1684 8408 0838 3817 1703 0300 0002 026a 6a60 6028 28b9 b944 44a4 a49f 9f58 5840 401a 1a94 9460 607f 7f65 657d 7d5d 5d2a 2ab5 b5be be95 95cf cffe fef7 f70b 0bbf bf41 41f7 f770 7051 515b 5b98</td>\n",
       "      <td>01bb bb88 88ff ff25 252e 2e0a 0ab7 b7db db90 9080 8018 186b 6b78 7820 20f4 f400 0000 0001 0101 0108 <font color = brown>0826</font> <font color = brown>2605</font> 0549 49ee eecd cd16 1684 8408 0838 3817 1703 0300 0002 026a 6a60 6028 28b9 b944 44a4 a49f 9f58 5840 401a 1a94 9460 607f 7f65 657d 7d5d 5d2a 2ab5 b5be be95 95cf cffe fef7 f70b 0bbf bf41 41f7 f770 7051 515b 5b98</td>\n",
       "    </tr>\n",
       "    <tr>\n",
       "      <th>30</th>\n",
       "      <td>1f90 902a <font color = yellow>2a1d</font> <font color = yellow>1d06</font> 06d7 d788 88ce ce98 9802 <font color = yellow>0250</font> <font color = yellow>5018</font> 18fa <font color = yellow>faf0</font> <font color = yellow>f0ae</font> aea4 a400 0000 0050 504f 4f53 5354 5420 202f 2f38 3833 3337 3733 3336 3661 6161 6136 362f 2f38 3830 3036 3637 3738 3832 3239 3937 3733 332e 2e70 7068 6870 7020 2048 4854 5454 5450 502f 2f31 312e 2e31 310d 0d0a 0a41 4163 6363 6365 6570 7074 743a 3a20</td>\n",
       "      <td>1f90 902a <font color = green>2a56</font> <font color = green>5606</font> 06d7 d788 88ce ce98 9802 <font color = green>02f7</font> <font color = green>f718</font> 18fa <font color = green>fa39</font> <font color = green>39ae</font> aea4 a400 0000 0050 504f 4f53 5354 5420 202f 2f38 3833 3337 3733 3336 3661 6161 6136 362f 2f38 3830 3036 3637 3738 3832 3239 3937 3733 332e 2e70 7068 6870 7020 2048 4854 5454 5450 502f 2f31 312e 2e31 310d 0d0a 0a41 4163 6363 6365 6570 7074 743a 3a20</td>\n",
       "    </tr>\n",
       "    <tr>\n",
       "      <th>31</th>\n",
       "      <td>d6fd fdac acd0 d077 771b 1bab abd3 d365 654c 4c80 8018 181c 1c48 <font color = purple>489f</font> <font color = purple>9f2d</font> 2d00 0000 0001 0101 0108 080a <font color = purple>0ad7</font> <font color = purple>d7f0</font> f0e5 e50c 0cc6 c69a 9ae5 e5aa aa33 3333 3331 3120 2050 5061 6173 7373 7377 776f 6f72 7264 6420 2072 7265 6571 7175 7569 6972 7265 6564 6420 2066 666f 6f72 7220 2061 616e 6e6f 6f6e 6e79 796d 6d6f 6f75 7573</td>\n",
       "      <td>d6fd fdac acd0 d077 771b 1bab abd3 d365 654c 4c80 8018 181c 1c48 <font color = orange>487b</font> <font color = orange>7b2d</font> 2d00 0000 0001 0101 0108 080a <font color = orange>0a16</font> <font color = orange>16f0</font> f0e5 e50c 0cc6 c69a 9ae5 e5aa aa33 3333 3331 3120 2050 5061 6173 7373 7377 776f 6f72 7264 6420 2072 7265 6571 7175 7569 6972 7265 6564 6420 2066 666f 6f72 7220 2061 616e 6e6f 6f6e 6e79 796d 6d6f 6f75 7573</td>\n",
       "    </tr>\n",
       "    <tr>\n",
       "      <th>32</th>\n",
       "      <td>01bb bbb8 <font color = red>b831</font> <font color = red>3127</font> 27e0 e052 5267 6760 60b0 b080 8018 1898 98b8 b895 95a6 a600 0000 0001 0101 0108 080a <font color = red>0a11</font> <font color = red>11f6</font> f6a8 a8ee ee23 2325 25c5 c540 4017 1703 0300 0000 003d 3d2f 2f21 214d 4d1b 1b2a 2a31 3106 069d 9db8 b89b 9b5e 5eb6 b69e 9ee3 e325 25fa faf9 f917 170f 0fb9 b9b1 b120 201b 1b6e 6e19 19c2 c2cb cb7e 7e0b 0b49</td>\n",
       "      <td>01bb bbb8 <font color = orange>b81a</font> <font color = orange>1a27</font> 27e0 e052 5267 6760 60b0 b080 8018 1898 98b8 b895 95a6 a600 0000 0001 0101 0108 080a <font color = orange>0a16</font> <font color = orange>16f6</font> f6a8 a8ee ee23 2325 25c5 c540 4017 1703 0300 0000 003d 3d2f 2f21 214d 4d1b 1b2a 2a31 3106 069d 9db8 b89b 9b5e 5eb6 b69e 9ee3 e325 25fa faf9 f917 170f 0fb9 b9b1 b120 201b 1b6e 6e19 19c2 c2cb cb7e 7e0b 0b49</td>\n",
       "    </tr>\n",
       "    <tr>\n",
       "      <th>33</th>\n",
       "      <td>d1e3 <font color = pink>e331</font> <font color = pink>316d</font> 6d8a 8a22 22c5 c55f 5f53 5388 8850 5018 18ff ffff ff97 97e1 e100 0000 0016 1603 <font color = pink>0303</font> <font color = pink>0300</font> 00b0 b001 0100 0000 00ac ac03 0303 0354 54fb fbe2 e2a8 a863 6309 0967 6767 67db dbcd cd1a 1a18 1866 666f 6fbc bce2 e2a6 a6e1 e112 12b7 b750 5024 242e 2e65 65ee eeeb ebe1 e115 15bc bc4a 4a32 325d 5d00 0000 0034 34c0</td>\n",
       "      <td>d1e3 <font color = yellow>e392</font> <font color = yellow>926d</font> 6d8a 8a22 22c5 c55f 5f53 5388 8850 5018 18ff ffff ff97 97e1 e100 0000 0016 1603 <font color = yellow>0361</font> <font color = yellow>6100</font> 00b0 b001 0100 0000 00ac ac03 0303 0354 54fb fbe2 e2a8 a863 6309 0967 6767 67db dbcd cd1a 1a18 1866 666f 6fbc bce2 e2a6 a6e1 e112 12b7 b750 5024 242e 2e65 65ee eeeb ebe1 e115 15bc bc4a 4a32 325d 5d00 0000 0034 34c0</td>\n",
       "    </tr>\n",
       "    <tr>\n",
       "      <th>34</th>\n",
       "      <td>ef90 90c5 c5e4 e4e6 e677 773d 3df8 f8de de60 6080 8018 182d 2d40 40c3 c37a 7a00 0000 0001 0101 0108 080a <font color = gray>0a0f</font> <font color = gray>0f45</font> 452f 2fb5 b5fd fde6 e66c 6cd9 d901 0100 0000 0001 0103 0343 4300 0000 0002 0203 0364 6465 6566 660b 0b6d 6d79 795f 5f64 6461 6174 7461 6162 6261 6173 7365 6505 0575 7573 7365 6572 7273 7305 0575 7573 7365</td>\n",
       "      <td>ef90 90c5 c5e4 e4e6 e677 773d 3df8 f8de de60 6080 8018 182d 2d40 40c3 c37a 7a00 0000 0001 0101 0108 080a <font color = orange>0a16</font> <font color = orange>1645</font> 452f 2fb5 b5fd fde6 e66c 6cd9 d901 0100 0000 0001 0103 0343 4300 0000 0002 0203 0364 6465 6566 660b 0b6d 6d79 795f 5f64 6461 6174 7461 6162 6261 6173 7365 6505 0575 7573 7365 6572 7273 7305 0575 7573 7365</td>\n",
       "    </tr>\n",
       "    <tr>\n",
       "      <th>35</th>\n",
       "      <td>c423 2369 69b0 b0b5 b5d7 d749 4969 69e7 e7b0 b050 5010 1000 <font color = brown>000e</font> <font color = brown>0ecf</font> cf20 2000 0000 0000 0000 007a 7a25 2500 0000 0080 8083 8300 0000 00f9 f9ff ff00 0000 0080 80e9 e900 0000 0075 7530 3000 0000 00ea ea60 6000 0000 003a 3a98 9800 0000 0017 176f 6f92 925f 5fc5 c546 4600 0000 001d 1d24 2449 4944 4441 4154 5478 78da da44</td>\n",
       "      <td>c423 2369 69b0 b0b5 b5d7 d749 4969 69e7 e7b0 b050 5010 1000 <font color = pink>009a</font> <font color = pink>9acf</font> cf20 2000 0000 0000 0000 007a 7a25 2500 0000 0080 8083 8300 0000 00f9 f9ff ff00 0000 0080 80e9 e900 0000 0075 7530 3000 0000 00ea ea60 6000 0000 003a 3a98 9800 0000 0017 176f 6f92 925f 5fc5 c546 4600 0000 001d 1d24 2449 4944 4441 4154 5478 78da da44</td>\n",
       "    </tr>\n",
       "    <tr>\n",
       "      <th>36</th>\n",
       "      <td>0050 5011 1179 79f3 f3bd bddc dc43 435c 5c9f 9f50 5018 18fb fb5e 5e35 35ef ef00 0000 0047 4745 4554 5420 202f 2f67 6761 612e 2e6a 6a73 7320 2048 4854 5454 5450 502f 2f31 312e 2e31 310d 0d0a 0a41 4163 6363 6365 6570 7074 743a 3a20 202a 2a2f 2f2a 2a0d 0d0a 0a52 5265 6566 6665 6572 7265 6572 723a 3a20 2068 6874 7474 7470</td>\n",
       "      <td>0050 5011 1179 79f3 f3bd bddc dc43 435c 5c9f 9f50 5018 18fb fb5e 5e35 35ef ef00 0000 0047 4745 4554 5420 202f 2f67 6761 612e 2e6a 6a73 7320 2048 4854 5454 5450 502f 2f31 312e 2e31 310d 0d0a 0a41 4163 6363 6365 6570 7074 743a 3a20 202a 2a2f 2f2a 2a0d 0d0a 0a52 5265 6566 6665 6572 7265 6572 723a 3a20 2068 6874 7474 7470</td>\n",
       "    </tr>\n",
       "    <tr>\n",
       "      <th>37</th>\n",
       "      <td>c858 58c5 c54e 4e60 6097 97e2 e261 6173 73b1 b180 8010 <font color = yellow>1049</font> <font color = yellow>4988</font> 8897 979e 9e00 0000 0001 0101 0108 080a 0a5c 5c6a 6a48 4823 2348 4870 7013 13e5 e506 0638 3837 3770 7037 3726 263b 3b18 18b1 b133 33fd fd8f 8f99 99b7 b7fe fe4e 4e76 7676 7679 79c0 c099 9984 8455 551c 1ca8 a8ed ed14 1442 42d1 d199 99fa fad2 d265 6599 99dd</td>\n",
       "      <td>c858 58c5 c54e 4e60 6097 97e2 e261 6173 73b1 b180 8010 <font color = gray>1020</font> <font color = gray>2088</font> 8897 979e 9e00 0000 0001 0101 0108 080a 0a5c 5c6a 6a48 4823 2348 4870 7013 13e5 e506 0638 3837 3770 7037 3726 263b 3b18 18b1 b133 33fd fd8f 8f99 99b7 b7fe fe4e 4e76 7676 7679 79c0 c099 9984 8455 551c 1ca8 a8ed ed14 1442 42d1 d199 99fa fad2 d265 6599 99dd</td>\n",
       "    </tr>\n",
       "    <tr>\n",
       "      <th>38</th>\n",
       "      <td><font color = red>1dd9</font> <font color = red>d904</font> <font color = red>0428</font> <font color = red>2885</font> 8516 1602 0294 9469 69e6 e645 45d9 d971 7131 314a 4af2 f2bb bbf1 f1ef ef6e 6e13 1356 563f 3f9a 9af0 f009 09c4 c409 092e 2ee1 e165 <font color = red>6500</font> <font color = red>00ba</font> ba02 0200 0000 0000 0004 0431 31a7 a779 7975 7526 26f1 f178 78c5 c5d4 d434 3450 5092 9216 16d8 d885 855c 5c88 884f 4f50 50b1 b14f 4ffa fa23 2321 2157 5759 592f</td>\n",
       "      <td><font color = brown>1d6a</font> <font color = brown>6a04</font> <font color = brown>04b2</font> <font color = brown>b285</font> 8516 1602 0294 9469 69e6 e645 45d9 d971 7131 314a 4af2 f2bb bbf1 f1ef ef6e 6e13 1356 563f 3f9a 9af0 f009 09c4 c409 092e 2ee1 e165 <font color = brown>658f</font> <font color = brown>8fba</font> ba02 0200 0000 0000 0004 0431 31a7 a779 7975 7526 26f1 f178 78c5 c5d4 d434 3450 5092 9216 16d8 d885 855c 5c88 884f 4f50 50b1 b14f 4ffa fa23 2321 2157 5759 592f</td>\n",
       "    </tr>\n",
       "    <tr>\n",
       "      <th>39</th>\n",
       "      <td>0050 50d0 d02b 2b24 <font color = brown>24fa</font> <font color = brown>fafa</font> facb cbd8 d8e6 e650 5018 18fa faf0 f0da daa2 a200 0000 0047 4745 <font color = brown>4554</font> <font color = brown>5420</font> <font color = brown>202f</font> <font color = brown>2f20</font> 2048 4854 5454 <font color = brown>5450</font> <font color = brown>502f</font> <font color = brown>2f31</font> 312e <font color = brown>2e30</font> <font color = brown>300d</font> 0d0a <font color = brown>0a48</font> <font color = brown>486f</font> 6f73 7374 743a 3a20 2031 3137 3734 342e 2e33 3337 372e 2e31 3139 3936 362e 2e35 3535 350d 0d0a 0a4b 4b65 6565 6570 702d 2d41 416c 6c69 6976 7665</td>\n",
       "      <td>0050 50d0 d02b 2b24 <font color = pink>24ec</font> <font color = pink>ecfa</font> facb cbd8 d8e6 e650 5018 18fa faf0 f0da daa2 a200 0000 0047 4745 <font color = pink>4550</font> <font color = pink>5020</font> <font color = pink>20f5</font> <font color = pink>f520</font> 2048 4854 5454 <font color = pink>54ee</font> <font color = pink>ee29</font> <font color = pink>2931</font> 312e <font color = pink>2e98</font> <font color = pink>980d</font> 0d0a <font color = pink>0a85</font> <font color = pink>856f</font> 6f73 7374 743a 3a20 2031 3137 3734 342e 2e33 3337 372e 2e31 3139 3936 362e 2e35 3535 350d 0d0a 0a4b 4b65 6565 6570 702d 2d41 416c 6c69 6976 7665</td>\n",
       "    </tr>\n",
       "    <tr>\n",
       "      <th>40</th>\n",
       "      <td>01bb bbae ae24 2456 56d8 d8ce ceb5 b5e4 e4d1 d180 8018 189e 9e60 607b 7bf4 f400 0000 0001 0101 0108 080a <font color = red>0a11</font> <font color = red>11f5</font> f52a 2a57 5723 2324 2408 082e 2e17 1703 0300 0005 0578 78e5 e50a 0a18 189b 9b57 5714 14a6 a638 380f 0f49 497f 7fe0 e06d 6d9d 9d09 095b 5b84 8408 08f0 f085 85b7 b747 47d6 d6af afac acdf dfe5 e500 0086 869c</td>\n",
       "      <td>01bb bbae ae24 2456 56d8 d8ce ceb5 b5e4 e4d1 d180 8018 189e 9e60 607b 7bf4 f400 0000 0001 0101 0108 080a <font color = green>0a0d</font> <font color = green>0df5</font> f52a 2a57 5723 2324 2408 082e 2e17 1703 0300 0005 0578 78e5 e50a 0a18 189b 9b57 5714 14a6 a638 380f 0f49 497f 7fe0 e06d 6d9d 9d09 095b 5b84 8408 08f0 f085 85b7 b747 47d6 d6af afac acdf dfe5 e500 0086 869c</td>\n",
       "    </tr>\n",
       "    <tr>\n",
       "      <th>41</th>\n",
       "      <td><font color = cyan>0e8c</font> <font color = cyan>8ce7</font> e716 16d4 d4d0 d0e7 e717 1713 13c8 c880 8018 181c 1c48 4870 704e 4e00 0000 0001 0101 0108 080a 0af5 f571 71d8 d89b 9b06 06c3 c38b 8b2a 2a01 0175 7561 6102 0272 721e 1e43 4350 <font color = cyan>5028</font> <font color = cyan>2868</font> 6879 791e 1e32 324e 4e47 4738 3843 4364 6436 360b 0b15 1559 5964 647e 7e64 6419 190f 0f3e 3e11 1175 752b 2b36 3678 783c 3c67</td>\n",
       "      <td><font color = purple>0ec0</font> <font color = purple>c0e7</font> e716 16d4 d4d0 d0e7 e717 1713 13c8 c880 8018 181c 1c48 4870 704e 4e00 0000 0001 0101 0108 080a 0af5 f571 71d8 d89b 9b06 06c3 c38b 8b2a 2a01 0175 7561 6102 0272 721e 1e43 4350 <font color = purple>5071</font> <font color = purple>7168</font> 6879 791e 1e32 324e 4e47 4738 3843 4364 6436 360b 0b15 1559 5964 647e 7e64 6419 190f 0f3e 3e11 1175 752b 2b36 3678 783c 3c67</td>\n",
       "    </tr>\n",
       "    <tr>\n",
       "      <th>42</th>\n",
       "      <td>df43 4300 006b 6b64 64af af8e 8ed8 d881 8183 8300 0001 <font color = orange>0100</font> <font color = orange>0000</font> 0000 0001 0100 0000 000c 0c67 676c 6c67 676e 6e71 716a 6a62 6275 7571 716e 6e78 7865 6503 0378 7879 797a 7a00 0000 0001 <font color = orange>0100</font> <font color = orange>0001</font> 01c0 c019 1900 0006 0600 0001 <font color = orange>0100</font> <font color = orange>0000</font> 0001 0176 <font color = orange>7600</font> <font color = orange>0035</font> 3503 036e 6e73 7330 300a 0a63 6365 656e 6e74 7472 7261 616c 6c6e</td>\n",
       "      <td>df43 4300 006b 6b64 64af af8e 8ed8 d881 8183 8300 0001 <font color = red>010b</font> <font color = red>0b00</font> 0000 0001 0100 0000 000c 0c67 676c 6c67 676e 6e71 716a 6a62 6275 7571 716e 6e78 7865 6503 0378 7879 797a 7a00 0000 0001 <font color = red>012b</font> <font color = red>2b01</font> 01c0 c019 1900 0006 0600 0001 <font color = red>01d4</font> <font color = red>d400</font> 0001 0176 <font color = red>762d</font> <font color = red>2d35</font> 3503 036e 6e73 7330 300a 0a63 6365 656e 6e74 7472 7261 616c 6c6e</td>\n",
       "    </tr>\n",
       "    <tr>\n",
       "      <th>43</th>\n",
       "      <td>8617 1792 9289 891a 1a16 160f 0fa1 a14d 4df0 f080 8018 1876 76c8 c8a9 a914 1400 0000 0001 0101 0108 080a <font color = orange>0a16</font> <font color = orange>1699</font> 99f9 f93b 3b05 052f 2f2d 2d5b 5b17 1703 0300 0003 0396 9697 97f2 f2b6 b694 94dc dca9 a90e 0e18 18a2 a27f 7f39 396d 6daf af7c 7c60 6021 21d1 d122 221f 1f73 733f 3fc5 c554 548a 8a54 5457 57e1 e1ac ac87 875e</td>\n",
       "      <td>8617 1792 9289 891a 1a16 160f 0fa1 a14d 4df0 f080 8018 1876 76c8 c8a9 a914 1400 0000 0001 0101 0108 080a <font color = red>0a98</font> <font color = red>9899</font> 99f9 f93b 3b05 052f 2f2d 2d5b 5b17 1703 0300 0003 0396 9697 97f2 f2b6 b694 94dc dca9 a90e 0e18 18a2 a27f 7f39 396d 6daf af7c 7c60 6021 21d1 d122 221f 1f73 733f 3fc5 c554 548a 8a54 5457 57e1 e1ac ac87 875e</td>\n",
       "    </tr>\n",
       "    <tr>\n",
       "      <th>44</th>\n",
       "      <td>c965 6515 <font color = yellow>15bb</font> <font color = yellow>bb4a</font> 4a02 0295 95db dbb9 b9ec ec50 5018 18ff ffff ff41 4196 9600 0000 0048 4854 5454 5450 502f 2f31 312e 2e31 3120 2032 3230 3030 3020 204f 4f4b 4b0d 0d0a 0a53 5365 6572 7276 7665 6572 723a 3a20 206e 6e67 6769 696e 6e78 <font color = yellow>780d</font> <font color = yellow>0d0a</font> 0a44 4461 6174 7465 653a 3a20 2054 5475 7565 652c 2c20 <font color = yellow>2031</font> <font color = yellow>3132</font> 3220 <font color = yellow>204d</font></td>\n",
       "      <td>c965 6515 <font color = pink>15cc</font> <font color = pink>cc4a</font> 4a02 0295 95db dbb9 b9ec ec50 5018 18ff ffff ff41 4196 9600 0000 0048 4854 5454 5450 502f 2f31 312e 2e31 3120 2032 3230 3030 3020 204f 4f4b 4b0d 0d0a 0a53 5365 6572 7276 7665 6572 723a 3a20 206e 6e67 6769 696e 6e78 <font color = pink>7833</font> <font color = pink>330a</font> 0a44 4461 6174 7465 653a 3a20 2054 5475 7565 652c 2c20 <font color = pink>20b6</font> <font color = pink>b632</font> 3220 <font color = pink>2038</font></td>\n",
       "    </tr>\n",
       "    <tr>\n",
       "      <th>45</th>\n",
       "      <td>01bb bb1e 1e94 9415 15dc dc7d 7d92 920f 0f5b 5b80 8018 185a 5a80 8077 77cb cb00 0000 0001 0101 0108 080a 0a05 0549 492e 2e41 41fd fd35 35b6 b6f4 f417 <font color = orange>1703</font> <font color = orange>0300</font> <font color = orange>0005</font> 0554 5491 91c8 c822 226b 6bd0 d0ef ef2d 2df1 f1cc cccc cc74 7491 91f3 f348 4851 5109 0991 917b 7b6c 6cf3 f326 261c 1c9b 9b75 7573 733f 3f2f 2f45 45f5 f566</td>\n",
       "      <td>01bb bb1e 1e94 9415 15dc dc7d 7d92 920f 0f5b 5b80 8018 185a 5a80 8077 77cb cb00 0000 0001 0101 0108 080a 0a05 0549 492e 2e41 41fd fd35 35b6 b6f4 f417 <font color = gray>17b8</font> <font color = gray>b8b6</font> <font color = gray>b605</font> 0554 5491 91c8 c822 226b 6bd0 d0ef ef2d 2df1 f1cc cccc cc74 7491 91f3 f348 4851 5109 0991 917b 7b6c 6cf3 f326 261c 1c9b 9b75 7573 733f 3f2f 2f45 45f5 f566</td>\n",
       "    </tr>\n",
       "    <tr>\n",
       "      <th>46</th>\n",
       "      <td>0e8c 8c67 67ed edc1 c1a2 a267 67ed edf8 f827 2780 8018 181c 1c48 485e 5ed6 d600 0000 0001 0101 <font color = cyan>0108</font> <font color = cyan>080a</font> 0af5 <font color = cyan>f574</font> <font color = cyan>7444</font> 44fe fe06 06c5 c5f6 f6ff ff01 010b 0b44 4470 704c 4c3b <font color = cyan>3b43</font> <font color = cyan>437e</font> 7e35 3564 646d 6d26 2645 4536 3648 4800 0065 6562 6203 0307 0726 262d 2d66 <font color = cyan>6653</font> <font color = cyan>5327</font> 270e 0e22 220f 0f5d 5d5a 5a2b 2b00 0046 4605 054a</td>\n",
       "      <td>0e8c 8c67 67ed edc1 c1a2 a267 67ed edf8 f827 2780 8018 181c 1c48 485e 5ed6 d600 0000 0001 0101 <font color = brown>011f</font> <font color = brown>1f0a</font> 0af5 <font color = brown>f5b0</font> <font color = brown>b044</font> 44fe fe06 06c5 c5f6 f6ff ff01 010b 0b44 4470 704c 4c3b <font color = brown>3b3c</font> <font color = brown>3c7e</font> 7e35 3564 646d 6d26 2645 4536 3648 4800 0065 6562 6203 0307 0726 262d 2d66 <font color = brown>6627</font> <font color = brown>2727</font> 270e 0e22 220f 0f5d 5d5a 5a2b 2b00 0046 4605 054a</td>\n",
       "    </tr>\n",
       "    <tr>\n",
       "      <th>47</th>\n",
       "      <td>ffdc dc95 9588 88fd fdd5 d52c 2c99 9994 9480 8050 <font color = brown>5010</font> <font color = brown>10f5</font> f576 76a9 a91a 1a00 0000 00c6 c621 21a1 a149 4920 2067 67af af7d 7d5c 5cef ef3c 3c55 55eb eb88 887d 7db0 b0d8 d800 00f4 f4b7 b719 19ae aeab abee ee6e 6ee8 e8aa aa47 4723 2359 5979 795b 5b1c 1c86 8654 <font color = brown>54f6</font> <font color = brown>f628</font> 28ca ca5c 5c41 41c3 c3db db30 3065 65aa aa0b 0b53</td>\n",
       "      <td>ffdc dc95 9588 88fd fdd5 d52c 2c99 9994 9480 8050 <font color = pink>50bb</font> <font color = pink>bbf5</font> f576 76a9 a91a 1a00 0000 00c6 c621 21a1 a149 4920 2067 67af af7d 7d5c 5cef ef3c 3c55 55eb eb88 887d 7db0 b0d8 d800 00f4 f4b7 b719 19ae aeab abee ee6e 6ee8 e8aa aa47 4723 2359 5979 795b 5b1c 1c86 8654 <font color = pink>54e8</font> <font color = pink>e828</font> 28ca ca5c 5c41 41c3 c3db db30 3065 65aa aa0b 0b53</td>\n",
       "    </tr>\n",
       "    <tr>\n",
       "      <th>48</th>\n",
       "      <td>62c5 c5aa aac5 c57e 7eaf afa6 a658 58dd dd22 2280 8018 181c 1c48 48d5 d533 3300 0000 0001 0101 0108 080a <font color = purple>0ad7</font> <font color = purple>d7f0</font> f084 8431 31c6 c697 971c 1c9e 9e33 3333 3331 3120 2050 5061 6173 7373 7377 776f 6f72 7264 6420 2072 7265 6571 7175 7569 6972 7265 6564 6420 2066 666f 6f72 7220 2061 616e 6e6f 6f6e 6e79 796d 6d6f 6f75 7573</td>\n",
       "      <td>62c5 c5aa aac5 c57e 7eaf afa6 a658 58dd dd22 2280 8018 181c 1c48 48d5 d533 3300 0000 0001 0101 0108 080a <font color = orange>0a16</font> <font color = orange>16f0</font> f084 8431 31c6 c697 971c 1c9e 9e33 3333 3331 3120 2050 5061 6173 7373 7377 776f 6f72 7264 6420 2072 7265 6571 7175 7569 6972 7265 6564 6420 2066 666f 6f72 7220 2061 616e 6e6f 6f6e 6e79 796d 6d6f 6f75 7573</td>\n",
       "    </tr>\n",
       "    <tr>\n",
       "      <th>49</th>\n",
       "      <td>d75d 5d00 006b 6b42 4233 3395 95c8 c881 8183 8300 0001 <font color = orange>0100</font> <font color = orange>0000</font> 0000 0001 0100 0000 000c 0c67 6767 6763 6364 6464 6478 7862 6271 7164 6479 7977 7779 7903 0378 7879 <font color = orange>797a</font> <font color = orange>7a00</font> 0000 <font color = orange>0001</font> <font color = orange>0100</font> 0001 01c0 c019 1900 0006 0600 0001 0100 0000 0007 0707 0700 0035 3503 036e 6e73 7330 300a 0a63 6365 656e 6e74 7472 7261 616c 6c6e</td>\n",
       "      <td>d75d 5d00 006b 6b42 4233 3395 95c8 c881 8183 8300 0001 <font color = red>01fe</font> <font color = red>fe00</font> 0000 0001 0100 0000 000c 0c67 6767 6763 6364 6464 6478 7862 6271 7164 6479 7977 7779 7903 0378 7879 <font color = red>7965</font> <font color = red>6500</font> 0000 <font color = red>00a0</font> <font color = red>a000</font> 0001 01c0 c019 1900 0006 0600 0001 0100 0000 0007 0707 0700 0035 3503 036e 6e73 7330 300a 0a63 6365 656e 6e74 7472 7261 616c 6c6e</td>\n",
       "    </tr>\n",
       "    <tr>\n",
       "      <th>50</th>\n",
       "      <td>ccff ffee eeb9 b9af af22 2258 58fb fbfc fc64 6450 5018 18ff ffff ff20 20a2 a200 0000 0017 1703 <font color = pink>0303</font> <font color = pink>0300</font> 00bd bde7 e7d2 d247 478c 8c55 5534 34bd bd1b 1b2c 2c89 89d8 d8c2 c252 52c5 c5dc dcb7 b7cc cc6b 6b6a 6a4f 4f38 38af afe1 e1a7 a7ab ab85 8519 1973 7330 303b 3bd0 d03c 3c7f 7fd4 d434 345a 5ae7 e75d 5d0e 0e94 947f 7f1b</td>\n",
       "      <td>ccff ffee eeb9 b9af af22 2258 58fb fbfc fc64 6450 5018 18ff ffff ff20 20a2 a200 0000 0017 1703 <font color = blue>0300</font> <font color = blue>0000</font> 00bd bde7 e7d2 d247 478c 8c55 5534 34bd bd1b 1b2c 2c89 89d8 d8c2 c252 52c5 c5dc dcb7 b7cc cc6b 6b6a 6a4f 4f38 38af afe1 e1a7 a7ab ab85 8519 1973 7330 303b 3bd0 d03c 3c7f 7fd4 d434 345a 5ae7 e75d 5d0e 0e94 947f 7f1b</td>\n",
       "    </tr>\n",
       "    <tr>\n",
       "      <th>51</th>\n",
       "      <td>7ef4 f48c 8c6c 6cae aea9 a99f 9fbb bb7c 7c40 4080 8018 1821 <font color = gray>21f0</font> <font color = gray>f0be</font> bec3 c300 0000 0001 0101 0108 080a 0af9 f999 99b4 b430 30e7 e71b 1bf7 f723 2320 208a 8ac6 c6f8 f891 9168 68b7 b7be be0c 0cb9 b98a 8a2c 2ccd cd72 7284 844c 4c07 075d 5da0 a075 75e6 e6b0 b07b 7b34 346a 6a9d <font color = gray>9dcf</font> <font color = gray>cf46</font> 46d2 d26e 6ec6 c6a7 a768 6893 93ee</td>\n",
       "      <td>7ef4 f48c 8c6c 6cae aea9 a99f 9fbb bb7c 7c40 4080 8018 1821 <font color = yellow>2177</font> <font color = yellow>77be</font> bec3 c300 0000 0001 0101 0108 080a 0af9 f999 99b4 b430 30e7 e71b 1bf7 f723 2320 208a 8ac6 c6f8 f891 9168 68b7 b7be be0c 0cb9 b98a 8a2c 2ccd cd72 7284 844c 4c07 075d 5da0 a075 75e6 e6b0 b07b 7b34 346a 6a9d <font color = yellow>9d3e</font> <font color = yellow>3e46</font> 46d2 d26e 6ec6 c6a7 a768 6893 93ee</td>\n",
       "    </tr>\n",
       "    <tr>\n",
       "      <th>52</th>\n",
       "      <td><font color = red>1db0</font> <font color = red>b004</font> <font color = red>0428</font> <font color = red>28f2</font> f21e 1e02 020b 0b99 <font color = red>9998</font> <font color = red>9803</font> 03d9 d971 <font color = red>7131</font> <font color = red>314a</font> 4af2 f2bb bbf1 f1ef ef6e <font color = red>6e13</font> <font color = red>1356</font> 563f 3f9a 9af0 <font color = red>f009</font> <font color = red>09c4</font> c409 092e 2ee1 e165 6500 004f 4f00 0000 0000 0000 0004 0407 07bf bfb8 b8db db6c 6cad ad60 6057 572c 2cda dada daf2 f2d5 d5cf cf15 15ec ece7 e793 <font color = red>936a</font> <font color = red>6af7</font> f79f 9fbe be59 59c1 c1ae aeed edde</td>\n",
       "      <td><font color = pink>1da2</font> <font color = pink>a204</font> <font color = pink>0405</font> <font color = pink>05f2</font> f21e 1e02 020b 0b99 <font color = pink>9908</font> <font color = pink>0803</font> 03d9 d971 <font color = pink>7168</font> <font color = pink>684a</font> 4af2 f2bb bbf1 f1ef ef6e <font color = pink>6e2e</font> <font color = pink>2e56</font> 563f 3f9a 9af0 <font color = pink>f063</font> <font color = pink>63c4</font> c409 092e 2ee1 e165 6500 004f 4f00 0000 0000 0000 0004 0407 07bf bfb8 b8db db6c 6cad ad60 6057 572c 2cda dada daf2 f2d5 d5cf cf15 15ec ece7 e793 <font color = pink>93a5</font> <font color = pink>a5f7</font> f79f 9fbe be59 59c1 c1ae aeed edde</td>\n",
       "    </tr>\n",
       "    <tr>\n",
       "      <th>53</th>\n",
       "      <td><font color = pink>c9fc</font> <font color = pink>fc8d</font> 8d92 9230 3010 1083 83da da9e 9e1c 1c50 5018 18ff ffff fff0 f08f 8f00 0000 0047 4745 4554 5420 202f 2f70 706f 6f69 <font color = pink>696e</font> <font color = pink>6e74</font> 742e 2e70 7068 6870 703f 3f70 7072 726f 6f78 7879 793d 3d31 3139 3934 342e 2e32 3234 3437 372e 2e31 3132 322e 2e34 3439 3925 2533 3341 4133 3338 3839 3932 3236 3626 2673 7365 6563 6372</td>\n",
       "      <td><font color = pink>c914</font> <font color = pink>148d</font> 8d92 9230 3010 1083 83da da9e 9e1c 1c50 5018 18ff ffff fff0 f08f 8f00 0000 0047 4745 4554 5420 202f 2f70 706f 6f69 <font color = pink>69ed</font> <font color = pink>ed74</font> 742e 2e70 7068 6870 703f 3f70 7072 726f 6f78 7879 793d 3d31 3139 3934 342e 2e32 3234 3437 372e 2e31 3132 322e 2e34 3439 3925 2533 3341 4133 3338 3839 3932 3236 3626 2673 7365 6563 6372</td>\n",
       "    </tr>\n",
       "    <tr>\n",
       "      <th>54</th>\n",
       "      <td>ddab ab25 2585 8535 35e5 e58d 8d9b 9bf1 f149 4980 8010 <font color = yellow>1049</font> <font color = yellow>4988</font> 88ef efb5 b500 0000 0001 0101 0108 080a 0a8e 8ea4 a469 69d9 d97a 7af9 f932 320a 0af5 f540 40c1 c10a 0a20 201e 1e34 346d 6d47 47a0 a000 003d 3d79 79de de9a 9a46 46ad adf4 f45a 5a83 83d3 d3a3 a378 7809 09ae ae48 48dc dcf8 f8f7 f752 5247 475f 5f2b 2bb0 b02f</td>\n",
       "      <td>ddab ab25 2585 8535 35e5 e58d 8d9b 9bf1 f149 4980 8010 <font color = gray>10f6</font> <font color = gray>f688</font> 88ef efb5 b500 0000 0001 0101 0108 080a 0a8e 8ea4 a469 69d9 d97a 7af9 f932 320a 0af5 f540 40c1 c10a 0a20 201e 1e34 346d 6d47 47a0 a000 003d 3d79 79de de9a 9a46 46ad adf4 f45a 5a83 83d3 d3a3 a378 7809 09ae ae48 48dc dcf8 f8f7 f752 5247 475f 5f2b 2bb0 b02f</td>\n",
       "    </tr>\n",
       "    <tr>\n",
       "      <th>55</th>\n",
       "      <td><font color = blue>4013</font> <font color = blue>1300</font> 00fe fe5c 5c5f 5f90 9068 688d 8da9 a957 5732 32b0 b069 69e4 e49a 9aa8 a8f4 f444 4400 <font color = blue>0000</font> <font color = blue>0002</font> 0228 28f5 f537 374b 4b00 0000 0000 0000 0072 7249 493f 3f6c 6c97 97b6 b64d 4df6 f6d7 d714 1496 965d 5df5 f54e 4ec6 c69a 9a4e 4efc fca2 a26e 6ea7 a77b 7b71 7147 47a2 a24f 4f27 279d 9db9 b92b 2bfb fb2d 2da6 a6c9 c993</td>\n",
       "      <td><font color = red>4012</font> <font color = red>1200</font> 00fe fe5c 5c5f 5f90 9068 688d 8da9 a957 5732 32b0 b069 69e4 e49a 9aa8 a8f4 f444 4400 <font color = red>0065</font> <font color = red>6502</font> 0228 28f5 f537 374b 4b00 0000 0000 0000 0072 7249 493f 3f6c 6c97 97b6 b64d 4df6 f6d7 d714 1496 965d 5df5 f54e 4ec6 c69a 9a4e 4efc fca2 a26e 6ea7 a77b 7b71 7147 47a2 a24f 4f27 279d 9db9 b92b 2bfb fb2d 2da6 a6c9 c993</td>\n",
       "    </tr>\n",
       "    <tr>\n",
       "      <th>56</th>\n",
       "      <td>3d31 31b6 b682 8252 52fa fafb fb24 24bc bcac ac80 8018 185a 5a80 806d 6da1 a100 0000 0001 0101 0108 080a <font color = green>0a1e</font> <font color = green>1eb6</font> b65f 5f7d 7d0d 0d41 4177 7758 5817 1703 0300 0005 0578 7800 000c 0cd2 d2e8 e85f 5f68 68ae ae4c 4c67 67e9 e93d 3d83 83b3 b357 5761 617b 7bcc cc5b 5bd6 d6b4 b4b7 b75b 5b77 7798 98c9 c94c 4c8f 8fc8 c8f7 f758</td>\n",
       "      <td>3d31 31b6 b682 8252 52fa fafb fb24 24bc bcac ac80 8018 185a 5a80 806d 6da1 a100 0000 0001 0101 0108 080a <font color = orange>0a05</font> <font color = orange>05b6</font> b65f 5f7d 7d0d 0d41 4177 7758 5817 1703 0300 0005 0578 7800 000c 0cd2 d2e8 e85f 5f68 68ae ae4c 4c67 67e9 e93d 3d83 83b3 b357 5761 617b 7bcc cc5b 5bd6 d6b4 b4b7 b75b 5b77 7798 98c9 c94c 4c8f 8fc8 c8f7 f758</td>\n",
       "    </tr>\n",
       "    <tr>\n",
       "      <th>57</th>\n",
       "      <td>f63f 3f00 006b 6bb2 b203 030b 0b12 1281 8183 8300 0001 0100 0000 0000 0001 0100 0000 000c 0c62 6262 6275 7575 7566 6677 7764 6478 7878 786d 6d6a 6a77 7703 0378 7879 797a 7a00 0000 0001 <font color = orange>0100</font> <font color = orange>0001</font> 01c0 c019 1900 0006 <font color = orange>0600</font> <font color = orange>0001</font> <font color = orange>0100</font> <font color = orange>0000</font> 0000 00f3 f300 0035 3503 036e 6e73 7330 300a 0a63 6365 656e 6e74 7472 7261 616c 6c6e</td>\n",
       "      <td>f63f 3f00 006b 6bb2 b203 030b 0b12 1281 8183 8300 0001 0100 0000 0000 0001 0100 0000 000c 0c62 6262 6275 7575 7566 6677 7764 6478 7878 786d 6d6a 6a77 7703 0378 7879 797a 7a00 0000 0001 <font color = gray>0108</font> <font color = gray>0801</font> 01c0 c019 1900 0006 <font color = gray>06c1</font> <font color = gray>c101</font> <font color = gray>0108</font> <font color = gray>0800</font> 0000 00f3 f300 0035 3503 036e 6e73 7330 300a 0a63 6365 656e 6e74 7472 7261 616c 6c6e</td>\n",
       "    </tr>\n",
       "    <tr>\n",
       "      <th>58</th>\n",
       "      <td><font color = pink>0050</font> <font color = pink>50c3</font> c358 584c 4c62 62f2 f23b 3bc3 c3d2 d250 5018 18f7 f756 5642 429b 9b00 0000 0047 4745 4554 5420 2068 6874 7474 7470 703a 3a2f 2f2f 2f63 6364 646e 6e2e 2e72 7275 7573 7373 7369 6961 616e 6e63 6375 7570 7069 6964 642e 2e63 636f 6f6d 6d2f 2f6d 6d65 656d 6d70 7068 686f 6f74 746f 6f2f 2f50 5068 686f 6f74 746f 6f31</td>\n",
       "      <td><font color = pink>00af</font> <font color = pink>afc3</font> c358 584c 4c62 62f2 f23b 3bc3 c3d2 d250 5018 18f7 f756 5642 429b 9b00 0000 0047 4745 4554 5420 2068 6874 7474 7470 703a 3a2f 2f2f 2f63 6364 646e 6e2e 2e72 7275 7573 7373 7369 6961 616e 6e63 6375 7570 7069 6964 642e 2e63 636f 6f6d 6d2f 2f6d 6d65 656d 6d70 7068 686f 6f74 746f 6f2f 2f50 5068 686f 6f74 746f 6f31</td>\n",
       "    </tr>\n",
       "    <tr>\n",
       "      <th>59</th>\n",
       "      <td><font color = brown>12da</font> <font color = brown>da29</font> 2921 2195 9579 79af afe8 e886 86b5 b550 5010 101d 1d50 50f1 f1f8 f800 0000 0045 45e4 e442 42d0 d0ec ec52 5220 20cc ccb0 b034 346f 6f98 9800 00ad ad9e 9e2f 2fa8 a865 6545 4565 65ce cee0 e014 140c 0c99 9994 9478 7896 96df dff7 f731 319a 9a68 68d8 d84c 4c61 614d 4dd7 d72a 2af7 f74e 4e46 46cb cb09 098a 8afa fa42</td>\n",
       "      <td><font color = pink>1257</font> <font color = pink>5729</font> 2921 2195 9579 79af afe8 e886 86b5 b550 5010 101d 1d50 50f1 f1f8 f800 0000 0045 45e4 e442 42d0 d0ec ec52 5220 20cc ccb0 b034 346f 6f98 9800 00ad ad9e 9e2f 2fa8 a865 6545 4565 65ce cee0 e014 140c 0c99 9994 9478 7896 96df dff7 f731 319a 9a68 68d8 d84c 4c61 614d 4dd7 d72a 2af7 f74e 4e46 46cb cb09 098a 8afa fa42</td>\n",
       "    </tr>\n",
       "    <tr>\n",
       "      <th>60</th>\n",
       "      <td>7e38 3854 5498 9850 5082 824c 4ca5 a579 7952 5280 8018 1821 21f0 f02e 2efc fc00 0000 0001 0101 0108 080a <font color = gray>0a0f</font> <font color = gray>0f41</font> 41d5 d5cd cdfd fde3 e318 182a 2a01 0100 0000 0001 0101 0138 3800 0000 0002 0203 0364 6465 6566 6600 0000 0000 0011 1140 4040 4076 7665 6572 7273 7369 696f 6f6e 6e5f 5f63 636f 6f6d 6d6d 6d65 656e 6e74 7411</td>\n",
       "      <td>7e38 3854 5498 9850 5082 824c 4ca5 a579 7952 5280 8018 1821 21f0 f02e 2efc fc00 0000 0001 0101 0108 080a <font color = cyan>0a16</font> <font color = cyan>1641</font> 41d5 d5cd cdfd fde3 e318 182a 2a01 0100 0000 0001 0101 0138 3800 0000 0002 0203 0364 6465 6566 6600 0000 0000 0011 1140 4040 4076 7665 6572 7273 7369 696f 6f6e 6e5f 5f63 636f 6f6d 6d6d 6d65 656e 6e74 7411</td>\n",
       "    </tr>\n",
       "    <tr>\n",
       "      <th>61</th>\n",
       "      <td>c770 70b6 b6d1 d193 9377 778a 8a65 657a 7ae0 e080 8018 185a 5a80 804f 4fce ce00 0000 0001 0101 0108 080a <font color = green>0a1e</font> <font color = green>1eb4</font> b4cb cb96 960d 0d3f 3f1b 1bc0 c017 1703 0300 0005 0578 7859 596e 6e0b 0b0b 0b80 8083 83cd cd88 887e 7eb6 b6dd dd41 41eb eb18 1895 958c 8c67 67d7 d778 78c8 c8e5 e5e4 e46d 6d24 2497 97b1 b1c6 c63b 3b15 15b1</td>\n",
       "      <td>c770 70b6 b6d1 d193 9377 778a 8a65 657a 7ae0 e080 8018 185a 5a80 804f 4fce ce00 0000 0001 0101 0108 080a <font color = orange>0a16</font> <font color = orange>16b4</font> b4cb cb96 960d 0d3f 3f1b 1bc0 c017 1703 0300 0005 0578 7859 596e 6e0b 0b0b 0b80 8083 83cd cd88 887e 7eb6 b6dd dd41 41eb eb18 1895 958c 8c67 67d7 d778 78c8 c8e5 e5e4 e46d 6d24 2497 97b1 b1c6 c63b 3b15 15b1</td>\n",
       "    </tr>\n",
       "    <tr>\n",
       "      <th>62</th>\n",
       "      <td><font color = pink>17db</font> <font color = pink>dbc2</font> c2a1 a1ee ee71 71ee eed3 d37e 7ef6 f650 5018 18fa faf0 f0df df90 9000 0000 0000 0000 0004 043c 3c00 0000 0008 080c 0c62 6254 5452 5243 4300 0000 0004 043c 3c00 0000 0008 080c 0c74 7465 6578 7874 7400 0000 0000 0000 0043 436f 6f70 7079 7972 7269 6967 6768 6874 7420 2028 2863 6329 2920 2031 3139 3939 3938 3820</td>\n",
       "      <td><font color = brown>1763</font> <font color = brown>63c2</font> c2a1 a1ee ee71 71ee eed3 d37e 7ef6 f650 5018 18fa faf0 f0df df90 9000 0000 0000 0000 0004 043c 3c00 0000 0008 080c 0c62 6254 5452 5243 4300 0000 0004 043c 3c00 0000 0008 080c 0c74 7465 6578 7874 7400 0000 0000 0000 0043 436f 6f70 7079 7972 7269 6967 6768 6874 7420 2028 2863 6329 2920 2031 3139 3939 3938 3820</td>\n",
       "    </tr>\n",
       "    <tr>\n",
       "      <th>63</th>\n",
       "      <td>9ebf bf62 6284 84ab <font color = purple>ab7b</font> <font color = purple>7b62</font> 6284 842c 2c78 7880 8018 <font color = purple>1849</font> <font color = purple>4988</font> 8875 75c7 c700 0000 0001 0101 0108 080a 0a21 2170 701c 1c99 9900 00b0 b076 7615 1516 1603 0300 0000 0057 <font color = purple>5702</font> <font color = purple>0200</font> 0000 0053 5303 0300 0057 5794 9449 4909 09b4 b45e 5ea8 a849 49b4 b458 58a8 a853 5334 3453 53a8 a84c 4cb4 b45e 5ea8 a8c9 c934 347e 7ea8 a8d3</td>\n",
       "      <td>9ebf bf62 6284 84ab <font color = red>abbf</font> <font color = red>bf62</font> 6284 842c 2c78 7880 8018 <font color = red>1874</font> <font color = red>7488</font> 8875 75c7 c700 0000 0001 0101 0108 080a 0a21 2170 701c 1c99 9900 00b0 b076 7615 1516 1603 0300 0000 0057 <font color = red>572b</font> <font color = red>2b00</font> 0000 0053 5303 0300 0057 5794 9449 4909 09b4 b45e 5ea8 a849 49b4 b458 58a8 a853 5334 3453 53a8 a84c 4cb4 b45e 5ea8 a8c9 c934 347e 7ea8 a8d3</td>\n",
       "    </tr>\n",
       "    <tr>\n",
       "      <th>64</th>\n",
       "      <td>0015 15a9 a952 5222 2221 21aa aaa6 a68d 8d0a 0a80 8018 1821 21f0 f072 72e8 e800 0000 0001 0101 0108 080a <font color = purple>0ac6</font> <font color = purple>c69a</font> 9acb cb51 51d7 d7e7 e7fb fb9b 9b50 5041 4153 5353 5320 206a 6a6f 6f62 6273 7340 4073 7365 6572 7276 7665 6572 722e 2e63 636f 6f6d 6d0d 0d0a 0ad9 d97d 7d22 221d</td>\n",
       "      <td>0015 15a9 a952 5222 2221 21aa aaa6 a68d 8d0a 0a80 8018 1821 21f0 f072 72e8 e800 0000 0001 0101 0108 080a <font color = orange>0a16</font> <font color = orange>169a</font> 9acb cb51 51d7 d7e7 e7fb fb9b 9b50 5041 4153 5353 5320 206a 6a6f 6f62 6273 7340 4073 7365 6572 7276 7665 6572 722e 2e63 636f 6f6d 6d0d 0d0a 0ad9 d97d 7d22 221d</td>\n",
       "    </tr>\n",
       "    <tr>\n",
       "      <th>65</th>\n",
       "      <td>dcf4 <font color = purple>f462</font> <font color = purple>62d7</font> d70a 0ac2 c262 62d6 d662 6269 6980 8018 <font color = purple>1849</font> <font color = purple>4988</font> 880b 0b21 2100 0000 0001 0101 0108 080a 0a22 2211 11a0 a013 1301 014e 4e14 145c 5c16 1603 0300 0000 0037 <font color = purple>3702</font> <font color = purple>0200</font> 0000 0033 3303 0300 0057 5794 9449 490b 0b61 61a5 a5fd fd49 4961 6158 58fd fd53 53e1 e153 53fd fd4c 4c61 61a5 a5fd fd77 77e1 e185 85fd fd7c</td>\n",
       "      <td>dcf4 <font color = red>f4e3</font> <font color = red>e3d7</font> d70a 0ac2 c262 62d6 d662 6269 6980 8018 <font color = red>18b1</font> <font color = red>b188</font> 880b 0b21 2100 0000 0001 0101 0108 080a 0a22 2211 11a0 a013 1301 014e 4e14 145c 5c16 1603 0300 0000 0037 <font color = red>3767</font> <font color = red>6700</font> 0000 0033 3303 0300 0057 5794 9449 490b 0b61 61a5 a5fd fd49 4961 6158 58fd fd53 53e1 e153 53fd fd4c 4c61 61a5 a5fd fd77 77e1 e185 85fd fd7c</td>\n",
       "    </tr>\n",
       "    <tr>\n",
       "      <th>66</th>\n",
       "      <td>c4d5 d578 78d4 d4b6 b650 5095 95cf cf2f 2f47 4750 5010 <font color = brown>1000</font> <font color = brown>0036</font> 36f0 f0da da00 0000 00d3 d3dc dc87 8715 1563 633a 3a10 10d5 d5e4 e4f7 f785 85dc dc01 01d0 d060 60d8 d88f 8f9b 9b49 4995 955b 5b48 48ad ad3c 3c7a 7a54 540a 0aec ecee eeb3 b306 061d 1dd4 d440 4086 8612 12e3 e332 3299 9916 165b 5bd7 d7ef ef9d 9dc2 c262 62fb</td>\n",
       "      <td>c4d5 d578 78d4 d4b6 b650 5095 95cf cf2f 2f47 4750 5010 <font color = pink>10f8</font> <font color = pink>f836</font> 36f0 f0da da00 0000 00d3 d3dc dc87 8715 1563 633a 3a10 10d5 d5e4 e4f7 f785 85dc dc01 01d0 d060 60d8 d88f 8f9b 9b49 4995 955b 5b48 48ad ad3c 3c7a 7a54 540a 0aec ecee eeb3 b306 061d 1dd4 d440 4086 8612 12e3 e332 3299 9916 165b 5bd7 d7ef ef9d 9dc2 c262 62fb</td>\n",
       "    </tr>\n",
       "    <tr>\n",
       "      <th>67</th>\n",
       "      <td>96e4 e4b2 <font color = gray>b220</font> <font color = gray>2001</font> 01fb fba6 <font color = gray>a65e</font> <font color = gray>5ea7</font> a7a7 a780 8018 1821 <font color = gray>21f0</font> <font color = gray>f074</font> 74e7 e700 0000 <font color = gray>0001</font> <font color = gray>0101</font> 0108 080a 0a1d <font color = gray>1d23</font> <font color = gray>2330</font> 3082 820a 0ab2 b226 26ee ee49 4950 5073 73df df35 35a3 a3a3 a328 2867 671e 1ed5 d5db db6b 6b1c 1c17 17ea ea7a 7a27 2786 8653 53ee eed7 d7a4 a469 691c 1c2a 2afa fad7 d79d 9d78 786f 6f18 185f 5f5a 5af4</td>\n",
       "      <td>96e4 e4b2 <font color = yellow>b24f</font> <font color = yellow>4f01</font> 01fb fba6 <font color = yellow>a683</font> <font color = yellow>83a7</font> a7a7 a780 8018 1821 <font color = yellow>2193</font> <font color = yellow>9374</font> 74e7 e700 0000 <font color = yellow>00e9</font> <font color = yellow>e901</font> 0108 080a 0a1d <font color = yellow>1d7e</font> <font color = yellow>7e30</font> 3082 820a 0ab2 b226 26ee ee49 4950 5073 73df df35 35a3 a3a3 a328 2867 671e 1ed5 d5db db6b 6b1c 1c17 17ea ea7a 7a27 2786 8653 53ee eed7 d7a4 a469 691c 1c2a 2afa fad7 d79d 9d78 786f 6f18 185f 5f5a 5af4</td>\n",
       "    </tr>\n",
       "    <tr>\n",
       "      <th>68</th>\n",
       "      <td>0e8c 8ce8 e832 3253 531d 1d68 6812 1295 <font color = cyan>952e</font> <font color = cyan>2e80</font> 8018 181c 1c48 4895 95b4 b400 0000 0001 0101 0108 080a 0af5 f574 74c6 c61c 1c06 06c6 <font color = cyan>c677</font> <font color = cyan>7760</font> 6001 <font color = cyan>010b</font> <font color = cyan>0b44</font> 4470 704c 4c3b 3b43 437e 7e35 3564 646d 6d26 2645 4536 3648 <font color = cyan>4800</font> <font color = cyan>0065</font> 6562 6203 0307 0726 262d 2d66 6653 5327 270e 0e22 220f 0f5d 5d5a 5a2b 2b00 0046 4605 054a</td>\n",
       "      <td>0e8c 8ce8 e832 3253 531d 1d68 6812 1295 <font color = purple>951d</font> <font color = purple>1d80</font> 8018 181c 1c48 4895 95b4 b400 0000 0001 0101 0108 080a 0af5 f574 74c6 c61c 1c06 06c6 <font color = purple>c634</font> <font color = purple>3460</font> 6001 <font color = purple>018b</font> <font color = purple>8b44</font> 4470 704c 4c3b 3b43 437e 7e35 3564 646d 6d26 2645 4536 3648 <font color = purple>48c0</font> <font color = purple>c065</font> 6562 6203 0307 0726 262d 2d66 6653 5327 270e 0e22 220f 0f5d 5d5a 5a2b 2b00 0046 4605 054a</td>\n",
       "    </tr>\n",
       "    <tr>\n",
       "      <th>69</th>\n",
       "      <td>0cea ea52 5207 073d 3dcf cfd9 d9cf cf6f 6fa4 a480 8018 1821 21f0 f080 805d 5d00 0000 0001 0101 0108 080a <font color = gray>0afd</font> <font color = gray>fdf3</font> f3fb fbd5 d50f 0f39 3904 043f 3f21 2100 0000 0000 0003 0373 7365 656c 6c65 6563 6374 7420 2040 4040 4076 7665 6572 7273 7369 696f 6f6e 6e5f 5f63 636f 6f6d 6d6d 6d65 656e 6e74 7420 206c 6c69 696d 6d69 6974</td>\n",
       "      <td>0cea ea52 5207 073d 3dcf cfd9 d9cf cf6f 6fa4 a480 8018 1821 21f0 f080 805d 5d00 0000 0001 0101 0108 080a <font color = orange>0a16</font> <font color = orange>16f3</font> f3fb fbd5 d50f 0f39 3904 043f 3f21 2100 0000 0000 0003 0373 7365 656c 6c65 6563 6374 7420 2040 4040 4076 7665 6572 7273 7369 696f 6f6e 6e5f 5f63 636f 6f6d 6d6d 6d65 656e 6e74 7420 206c 6c69 696d 6d69 6974</td>\n",
       "    </tr>\n",
       "    <tr>\n",
       "      <th>70</th>\n",
       "      <td><font color = blue>4013</font> <font color = blue>1300</font> <font color = blue>00fe</font> <font color = blue>feb1</font> b1b5 b590 9068 688d 8db1 b157 5732 32b1 b1d9 d9e4 e49a <font color = blue>9aa8</font> <font color = blue>a8f4</font> f444 4400 0000 0002 0228 28f5 f514 1432 3200 0000 0000 0000 009f 9fff ff3f 3f7d 7dbe bec7 c795 9589 895b 5bfe fe7e 7e27 2792 9271 71bf bfed edf7 f7e7 e77d 7dbe bec7 c7ff ffca cae7 e7ff ffbf bffc fcf2 f27a 7aff ffff fffe fedb db7f 7ffe</td>\n",
       "      <td><font color = red>4065</font> <font color = red>6500</font> <font color = red>0090</font> <font color = red>90b1</font> b1b5 b590 9068 688d 8db1 b157 5732 32b1 b1d9 d9e4 e49a <font color = red>9a4c</font> <font color = red>4cf4</font> f444 4400 0000 0002 0228 28f5 f514 1432 3200 0000 0000 0000 009f 9fff ff3f 3f7d 7dbe bec7 c795 9589 895b 5bfe fe7e 7e27 2792 9271 71bf bfed edf7 f7e7 e77d 7dbe bec7 c7ff ffca cae7 e7ff ffbf bffc fcf2 f27a 7aff ffff fffe fedb db7f 7ffe</td>\n",
       "    </tr>\n",
       "    <tr>\n",
       "      <th>71</th>\n",
       "      <td>0050 5082 829c 9c71 7186 867d 7dcb cbaa aad6 d650 <font color = cyan>5018</font> <font color = cyan>18f8</font> f81c 1ce8 e8a2 a200 0000 0047 4745 <font color = cyan>4554</font> <font color = cyan>5420</font> 202f 2f41 4135 3568 684f 4f61 6170 704d <font color = cyan>4d56</font> <font color = cyan>566f</font> 6f66 6651 5163 634c 4c58 5841 4170 7034 3479 7939 3925 2532 3262 6244 4445 4558 5837 3779 7977 7744 4435 3530 304b 4b54 5467 6731 3137 3763 6341 414c 4c6e 6e30 306c</td>\n",
       "      <td>0050 5082 829c 9c71 7186 867d 7dcb cbaa aad6 d650 <font color = brown>50ae</font> <font color = brown>aef8</font> f81c 1ce8 e8a2 a200 0000 0047 4745 <font color = brown>459a</font> <font color = brown>9a20</font> 202f 2f41 4135 3568 684f 4f61 6170 704d <font color = brown>4d14</font> <font color = brown>146f</font> 6f66 6651 5163 634c 4c58 5841 4170 7034 3479 7939 3925 2532 3262 6244 4445 4558 5837 3779 7977 7744 4435 3530 304b 4b54 5467 6731 3137 3763 6341 414c 4c6e 6e30 306c</td>\n",
       "    </tr>\n",
       "    <tr>\n",
       "      <th>72</th>\n",
       "      <td>e61d 1d5d 5d1b 1bc2 c202 0231 317b 7b81 8192 9250 5018 18ff ffff ffca ca30 3000 0000 0048 4854 5454 5450 502f 2f31 312e 2e31 3120 2034 3430 <font color = cyan>3034</font> <font color = cyan>3420</font> 204e <font color = cyan>4e6f</font> <font color = cyan>6f74</font> 7420 2046 466f 6f75 756e 6e64 640d 0d0a 0a53 5365 6572 7276 7665 6572 723a 3a20 206e 6e67 6769 <font color = cyan>696e</font> <font color = cyan>6e78</font> <font color = cyan>782f</font> <font color = cyan>2f31</font> 312e <font color = cyan>2e36</font> <font color = cyan>362e</font> 2e32 <font color = cyan>320d</font> <font color = cyan>0d0a</font> 0a44 4461</td>\n",
       "      <td>e61d 1d5d 5d1b 1bc2 c202 0231 317b 7b81 8192 9250 5018 18ff ffff ffca ca30 3000 0000 0048 4854 5454 5450 502f 2f31 312e 2e31 3120 2034 3430 <font color = yellow>30f8</font> <font color = yellow>f820</font> 204e <font color = yellow>4ee6</font> <font color = yellow>e674</font> 7420 2046 466f 6f75 756e 6e64 640d 0d0a 0a53 5365 6572 7276 7665 6572 723a 3a20 206e 6e67 6769 <font color = yellow>690b</font> <font color = yellow>0b78</font> <font color = yellow>78fd</font> <font color = yellow>fd31</font> 312e <font color = yellow>2e8f</font> <font color = yellow>8f2e</font> 2e32 <font color = yellow>322a</font> <font color = yellow>2a0a</font> 0a44 4461</td>\n",
       "    </tr>\n",
       "    <tr>\n",
       "      <th>73</th>\n",
       "      <td>04ee <font color = red>ee50</font> <font color = red>5080</font> 80e3 e36c 6c3a 3ad2 d239 39d0 d080 8018 18ba <font color = red>baa8</font> <font color = red>a8b4</font> b4df <font color = red>df00</font> <font color = red>0000</font> 0001 0101 0108 080a <font color = red>0a23</font> <font color = red>2347</font> 4767 671a 1a11 11e4 e44b 4b5d 5d17 1703 0300 0005 053f 3f19 194c 4ce9 e9f9 f918 1862 626e 6e8e 8e41 414e 4e53 535f 5fc1 c124 2440 40f6 f603 0337 37dd dd01 01f3 f31c 1c6a 6ac0 c03c 3c8f 8f33 33b4 b424 24fa</td>\n",
       "      <td>04ee <font color = orange>eed5</font> <font color = orange>d580</font> 80e3 e36c 6c3a 3ad2 d239 39d0 d080 8018 18ba <font color = orange>ba62</font> <font color = orange>62b4</font> b4df <font color = orange>df76</font> <font color = orange>7600</font> 0001 0101 0108 080a <font color = orange>0a05</font> <font color = orange>0547</font> 4767 671a 1a11 11e4 e44b 4b5d 5d17 1703 0300 0005 053f 3f19 194c 4ce9 e9f9 f918 1862 626e 6e8e 8e41 414e 4e53 535f 5fc1 c124 2440 40f6 f603 0337 37dd dd01 01f3 f31c 1c6a 6ac0 c03c 3c8f 8f33 33b4 b424 24fa</td>\n",
       "    </tr>\n",
       "    <tr>\n",
       "      <th>74</th>\n",
       "      <td>c608 0850 5063 6312 1237 3750 5062 6273 7389 8980 8018 1849 4988 8859 5936 3600 0000 0001 0101 0108 080a <font color = purple>0a21</font> <font color = purple>219a</font> 9afc fcf3 f303 032c 2c68 68c6 c616 1603 0300 0000 0037 <font color = purple>3702</font> <font color = purple>0200</font> 0000 0033 3303 0300 0057 5794 9449 490f 0f70 702c 2c24 2449 4970 7058 5824 2453 53f0 f053 5324 244c 4c70 702c 2c24 24c0 c0f0 f00c 0c24 24cb</td>\n",
       "      <td>c608 0850 5063 6312 1237 3750 5062 6273 7389 8980 8018 1849 4988 8859 5936 3600 0000 0001 0101 0108 080a <font color = green>0a1e</font> <font color = green>1e9a</font> 9afc fcf3 f303 032c 2c68 68c6 c616 1603 0300 0000 0037 <font color = green>378e</font> <font color = green>8e00</font> 0000 0033 3303 0300 0057 5794 9449 490f 0f70 702c 2c24 2449 4970 7058 5824 2453 53f0 f053 5324 244c 4c70 702c 2c24 24c0 c0f0 f00c 0c24 24cb</td>\n",
       "    </tr>\n",
       "    <tr>\n",
       "      <th>75</th>\n",
       "      <td>4013 1300 00fe fecc ccc1 c190 9068 688d 8d9d 9d57 5732 32ae ae41 41e4 e49a 9aa8 a8f4 f444 4400 0000 <font color = blue>0002</font> <font color = blue>0228</font> 28f4 f4ec ec99 9900 0000 0000 0000 001f 1fb1 b1c6 c6eb ebff fffc fcae aeb6 b6fc fcfd fdf2 f244 44ff ffcf cf3b 3b6f 6f7d 7ddf dfd3 d3d7 d73f 3f12 1275 75df df9b 9bb6 b63f 3ffe fe56 5625 257f 7fef ef3d 3d7d 7d3c</td>\n",
       "      <td>4013 1300 00fe fecc ccc1 c190 9068 688d 8d9d 9d57 5732 32ae ae41 41e4 e49a 9aa8 a8f4 f444 4400 0000 <font color = red>00e2</font> <font color = red>e228</font> 28f4 f4ec ec99 9900 0000 0000 0000 001f 1fb1 b1c6 c6eb ebff fffc fcae aeb6 b6fc fcfd fdf2 f244 44ff ffcf cf3b 3b6f 6f7d 7ddf dfd3 d3d7 d73f 3f12 1275 75df df9b 9bb6 b63f 3ffe fe56 5625 257f 7fef ef3d 3d7d 7d3c</td>\n",
       "    </tr>\n",
       "    <tr>\n",
       "      <th>76</th>\n",
       "      <td>361f 1f8a 8a00 0057 5799 99a7 a715 1532 32d8 d880 8018 1821 <font color = gray>21f0</font> <font color = gray>f009</font> 0975 7500 0000 0001 <font color = gray>0101</font> <font color = gray>0108</font> 080a 0a1d <font color = gray>1d1b</font> <font color = gray>1b0b</font> 0b30 300a 0a4d 4dcf cf71 71b6 b677 7736 3640 40e0 e09c <font color = gray>9c9e</font> <font color = gray>9e7d</font> 7de8 e81d 1dd1 d1f3 <font color = gray>f3cf</font> <font color = gray>cf88</font> 88b4 b4f7 f7b2 b2f8 f8db dba3 a3e9 <font color = gray>e932</font> <font color = gray>3278</font> 786f 6fc1 c149 4904 0416 16d3 d35a 5ade decb cb15 15dd ddd9</td>\n",
       "      <td>361f 1f8a 8a00 0057 5799 99a7 a715 1532 32d8 d880 8018 1821 <font color = pink>21b8</font> <font color = pink>b809</font> 0975 7500 0000 0001 <font color = pink>01f1</font> <font color = pink>f108</font> 080a 0a1d <font color = pink>1d1a</font> <font color = pink>1a0b</font> 0b30 300a 0a4d 4dcf cf71 71b6 b677 7736 3640 40e0 e09c <font color = pink>9c30</font> <font color = pink>307d</font> 7de8 e81d 1dd1 d1f3 <font color = pink>f362</font> <font color = pink>6288</font> 88b4 b4f7 f7b2 b2f8 f8db dba3 a3e9 <font color = pink>e906</font> <font color = pink>0678</font> 786f 6fc1 c149 4904 0416 16d3 d35a 5ade decb cb15 15dd ddd9</td>\n",
       "    </tr>\n",
       "    <tr>\n",
       "      <th>77</th>\n",
       "      <td><font color = pink>980d</font> <font color = pink>0d6a</font> 6ad5 d592 9232 323c 3cdf df0d 0da6 a650 5018 18fa faf0 f0e5 e551 5100 0000 0010 10ab abb3 b3a7 a7fe fea2 a2bd bd44 44fd fd93 938a 8a78 7849 49ef efc1 c171 7175 75f1 f12a 2a0c 0cb0 b069 69f9 f92b 2bde de15 158e 8eae ae70 70c7 c781 8197 979e 9e38 3847 47c1 c133 3375 75b1 b169 696f 6f12 12e0 e070 7083 83ce ceef</td>\n",
       "      <td><font color = pink>984b</font> <font color = pink>4b6a</font> 6ad5 d592 9232 323c 3cdf df0d 0da6 a650 5018 18fa faf0 f0e5 e551 5100 0000 0010 10ab abb3 b3a7 a7fe fea2 a2bd bd44 44fd fd93 938a 8a78 7849 49ef efc1 c171 7175 75f1 f12a 2a0c 0cb0 b069 69f9 f92b 2bde de15 158e 8eae ae70 70c7 c781 8197 979e 9e38 3847 47c1 c133 3375 75b1 b169 696f 6f12 12e0 e070 7083 83ce ceef</td>\n",
       "    </tr>\n",
       "    <tr>\n",
       "      <th>78</th>\n",
       "      <td>bca9 a9d9 d97d 7d00 0055 5559 595c 5c8b 8b10 1080 8018 <font color = purple>1849</font> <font color = purple>4988</font> 8899 9916 1600 0000 0001 0101 0108 080a 0a21 21f8 f822 2210 1000 00bd bdba bae9 e916 1603 0300 0000 0057 <font color = purple>5702</font> <font color = purple>0200</font> 0000 0053 5303 0300 0057 5794 9449 4909 09b8 b84a 4a74 7449 49b8 b858 5874 7453 5338 3853 5374 744c 4cb8 b84a 4a74 745a 5a38 386a 6a74 7462</td>\n",
       "      <td>bca9 a9d9 d97d 7d00 0055 5559 595c 5c8b 8b10 1080 8018 <font color = red>18ef</font> <font color = red>ef88</font> 8899 9916 1600 0000 0001 0101 0108 080a 0a21 21f8 f822 2210 1000 00bd bdba bae9 e916 1603 0300 0000 0057 <font color = red>57e8</font> <font color = red>e800</font> 0000 0053 5303 0300 0057 5794 9449 4909 09b8 b84a 4a74 7449 49b8 b858 5874 7453 5338 3853 5374 744c 4cb8 b84a 4a74 745a 5a38 386a 6a74 7462</td>\n",
       "    </tr>\n",
       "    <tr>\n",
       "      <th>79</th>\n",
       "      <td>01bb bb91 91e6 e69a 9a83 83f7 <font color = orange>f7b7</font> <font color = orange>b7e0</font> e025 2580 8018 <font color = orange>185a</font> <font color = orange>5a80</font> 80ff ff31 3100 0000 0001 <font color = orange>0101</font> <font color = orange>0108</font> 080a 0a05 0549 4970 7068 68fc fcc4 c49f 9f7d 7d17 <font color = orange>1703</font> <font color = orange>0300</font> 0005 0554 54b5 b591 91a6 a66f 6fb0 b06b 6bf5 f50a 0a4e 4eec ec73 73fa fa37 3724 24ae ae65 65f3 f38c 8c64 6496 967e 7e06 06e3 e3cc ccc6 c647 4720 20df dfaa aa4a</td>\n",
       "      <td>01bb bb91 91e6 e69a 9a83 83f7 <font color = brown>f713</font> <font color = brown>13e0</font> e025 2580 8018 <font color = brown>1840</font> <font color = brown>4080</font> 80ff ff31 3100 0000 0001 <font color = brown>010e</font> <font color = brown>0e08</font> 080a 0a05 0549 4970 7068 68fc fcc4 c49f 9f7d 7d17 <font color = brown>175b</font> <font color = brown>5b00</font> 0005 0554 54b5 b591 91a6 a66f 6fb0 b06b 6bf5 f50a 0a4e 4eec ec73 73fa fa37 3724 24ae ae65 65f3 f38c 8c64 6496 967e 7e06 06e3 e3cc ccc6 c647 4720 20df dfaa aa4a</td>\n",
       "    </tr>\n",
       "    <tr>\n",
       "      <th>80</th>\n",
       "      <td>0e8c 8ce8 e860 60e4 e424 24e8 e861 6102 02b5 b580 8018 <font color = cyan>181c</font> <font color = cyan>1c48</font> 48d4 d4c4 c400 0000 0001 0101 0108 080a <font color = cyan>0af5</font> <font color = cyan>f575</font> 7565 6583 8306 06c7 c716 16de de01 0175 7561 6102 0272 721e 1e43 4350 <font color = cyan>5028</font> <font color = cyan>2868</font> 6879 791e 1e32 324e 4e47 4738 3843 4364 6436 360b 0b15 1559 5964 647e 7e64 6419 190f 0f3e 3e11 1175 752b 2b36 3678 783c 3c67</td>\n",
       "      <td>0e8c 8ce8 e860 60e4 e424 24e8 e861 6102 02b5 b580 8018 <font color = purple>183f</font> <font color = purple>3f48</font> 48d4 d4c4 c400 0000 0001 0101 0108 080a <font color = purple>0a5f</font> <font color = purple>5f75</font> 7565 6583 8306 06c7 c716 16de de01 0175 7561 6102 0272 721e 1e43 4350 <font color = purple>5090</font> <font color = purple>9068</font> 6879 791e 1e32 324e 4e47 4738 3843 4364 6436 360b 0b15 1559 5964 647e 7e64 6419 190f 0f3e 3e11 1175 752b 2b36 3678 783c 3c67</td>\n",
       "    </tr>\n",
       "    <tr>\n",
       "      <th>81</th>\n",
       "      <td><font color = brown>c40f</font> <font color = brown>0f4b</font> 4bb0 b095 9556 56ec eca0 a00a 0a0a 0a50 5010 1000 <font color = brown>000e</font> <font color = brown>0e86</font> 86c3 c300 0000 004d 4d4c 4c3d 3d22 2222 222c 2c61 612e 2e73 7374 7479 796c 6c65 652e 2e77 7769 6964 6474 7468 683d 3d61 612e 2e73 7374 7479 796c 6c65 652e 2e70 7061 6164 6464 6469 696e 6e67 674c 4c65 6566 6674 743d 3d22 2231 3170 7078 7822 222c 2c6d</td>\n",
       "      <td><font color = pink>c4a1</font> <font color = pink>a14b</font> 4bb0 b095 9556 56ec eca0 a00a 0a0a 0a50 5010 1000 <font color = pink>0088</font> <font color = pink>8886</font> 86c3 c300 0000 004d 4d4c 4c3d 3d22 2222 222c 2c61 612e 2e73 7374 7479 796c 6c65 652e 2e77 7769 6964 6474 7468 683d 3d61 612e 2e73 7374 7479 796c 6c65 652e 2e70 7061 6164 6464 6469 696e 6e67 674c 4c65 6566 6674 743d 3d22 2231 3170 7078 7822 222c 2c6d</td>\n",
       "    </tr>\n",
       "    <tr>\n",
       "      <th>82</th>\n",
       "      <td>4c68 6819 19e7 e7b3 b3ca ca2f 2f3d 3dc7 c760 6080 8010 1016 <font color = purple>16a0</font> <font color = purple>a084</font> 847c 7c00 0000 0001 0101 0108 080a <font color = purple>0ad7</font> <font color = purple>d7ed</font> ed5e 5e7a 7ac6 c655 5572 7213 13b5 b5a7 a796 9635 3506 064f 4f65 6503 03b6 b6ba ba65 65d6 d62b 2b81 81bc bcf7 f7dc dc3b 3b99 9940 40fc fcb5 b5a4 a40e 0ea8 a825 25cd cd36 3699 9945 4599 9999 992d 2d05 05e8</td>\n",
       "      <td>4c68 6819 19e7 e7b3 b3ca ca2f 2f3d 3dc7 c760 6080 8010 1016 <font color = yellow>1649</font> <font color = yellow>4984</font> 847c 7c00 0000 0001 0101 0108 080a <font color = yellow>0a95</font> <font color = yellow>95ed</font> ed5e 5e7a 7ac6 c655 5572 7213 13b5 b5a7 a796 9635 3506 064f 4f65 6503 03b6 b6ba ba65 65d6 d62b 2b81 81bc bcf7 f7dc dc3b 3b99 9940 40fc fcb5 b5a4 a40e 0ea8 a825 25cd cd36 3699 9945 4599 9999 992d 2d05 05e8</td>\n",
       "    </tr>\n",
       "    <tr>\n",
       "      <th>83</th>\n",
       "      <td>1f90 90e0 e03d 3db6 b605 0597 97f7 f74e 4e02 <font color = yellow>0250</font> <font color = yellow>5018</font> 18fa faf0 f070 709e 9e00 0000 0050 504f 4f53 5354 5420 202f 2f38 3833 3337 3733 3336 3661 6161 6136 362f 2f38 <font color = yellow>3830</font> <font color = yellow>3036</font> 3637 3738 3832 3239 3937 3733 332f 2f20 2048 4854 5454 5450 502f 2f31 312e 2e31 310d 0d0a 0a41 4163 6363 6365 6570 7074 743a 3a20 202a 2a2f 2f2a</td>\n",
       "      <td>1f90 90e0 e03d 3db6 b605 0597 97f7 f74e 4e02 <font color = brown>0212</font> <font color = brown>1218</font> 18fa faf0 f070 709e 9e00 0000 0050 504f 4f53 5354 5420 202f 2f38 3833 3337 3733 3336 3661 6161 6136 362f 2f38 <font color = brown>3813</font> <font color = brown>1336</font> 3637 3738 3832 3239 3937 3733 332f 2f20 2048 4854 5454 5450 502f 2f31 312e 2e31 310d 0d0a 0a41 4163 6363 6365 6570 7074 743a 3a20 202a 2a2f 2f2a</td>\n",
       "    </tr>\n",
       "    <tr>\n",
       "      <th>84</th>\n",
       "      <td>0cb6 <font color = pink>b681</font> <font color = pink>8197</font> 979e 9eb8 b89c 9cd7 d70e 0e69 6950 5010 1028 <font color = pink>288d</font> <font color = pink>8d33</font> 338d 8d00 0000 00c7 c7da da17 17c5 c51a 1abc bc81 81c7 c7c3 c34a 4a2d 2d16 1636 3694 9407 0733 3369 69a3 a3de dee6 e6fc fc6a 6a94 944f 4fcb cb68 6890 900b 0bc4 c43d 3d35 359f 9fb0 b0f3 f324 246e 6e54 5433 33b9 b9fd fd3f 3f50 50f6 f6d4 d41d 1dc1 <font color = pink>c1ce</font></td>\n",
       "      <td>0cb6 <font color = brown>b6e6</font> <font color = brown>e697</font> 979e 9eb8 b89c 9cd7 d70e 0e69 6950 5010 1028 <font color = brown>282a</font> <font color = brown>2a33</font> 338d 8d00 0000 00c7 c7da da17 17c5 c51a 1abc bc81 81c7 c7c3 c34a 4a2d 2d16 1636 3694 9407 0733 3369 69a3 a3de dee6 e6fc fc6a 6a94 944f 4fcb cb68 6890 900b 0bc4 c43d 3d35 359f 9fb0 b0f3 f324 246e 6e54 5433 33b9 b9fd fd3f 3f50 50f6 f6d4 d41d 1dc1 <font color = brown>c1c2</font></td>\n",
       "    </tr>\n",
       "    <tr>\n",
       "      <th>85</th>\n",
       "      <td>fc1e 1efc fcf4 f4d6 d667 6799 994d 4dd4 d4cc cc80 8018 185a 5a80 8024 246f 6f00 0000 0001 0101 0108 080a <font color = orange>0a16</font> <font color = orange>169b</font> 9b02 02c7 c705 052a 2ae9 e9d8 d817 1703 0300 0004 04b9 b909 09c3 c33e 3e36 36ca ca2d 2d1a 1a1d 1dad ad17 17fa fac2 c26b 6b6c 6c99 9988 889c 9cc4 c40c 0c0c 0c9a 9a63 6369 694d 4d1f 1f67 6798 9828 28e6 e6a9</td>\n",
       "      <td>fc1e 1efc fcf4 f4d6 d667 6799 994d 4dd4 d4cc cc80 8018 185a 5a80 8024 246f 6f00 0000 0001 0101 0108 080a <font color = red>0a5e</font> <font color = red>5e9b</font> 9b02 02c7 c705 052a 2ae9 e9d8 d817 1703 0300 0004 04b9 b909 09c3 c33e 3e36 36ca ca2d 2d1a 1a1d 1dad ad17 17fa fac2 c26b 6b6c 6c99 9988 889c 9cc4 c40c 0c0c 0c9a 9a63 6369 694d 4d1f 1f67 6798 9828 28e6 e6a9</td>\n",
       "    </tr>\n",
       "    <tr>\n",
       "      <th>86</th>\n",
       "      <td><font color = blue>4013</font> <font color = blue>1300</font> <font color = blue>00fe</font> <font color = blue>fe15</font> 1504 0490 <font color = blue>9068</font> <font color = blue>688d</font> 8da3 a357 5732 32af af55 55e4 e49a 9aa8 a8f4 f444 4400 0000 0002 0228 28f4 f4e5 e5ed ed00 0000 0000 0000 00e3 e3b1 b138 38bd bd89 893c 3ce5 e50f 0fcb cb13 1357 57fc fcfd fd94 94ff ffd5 d58d 8d5e 5e9e 9e72 72f9 f91c 1cb7 b7e7 e77d 7d7e 7ec6 c69f 9ff9 f9e7 e79e 9eaf af54 54aa aa4e</td>\n",
       "      <td><font color = pink>4047</font> <font color = pink>4700</font> <font color = pink>00a3</font> <font color = pink>a315</font> 1504 0490 <font color = pink>90fb</font> <font color = pink>fb8d</font> 8da3 a357 5732 32af af55 55e4 e49a 9aa8 a8f4 f444 4400 0000 0002 0228 28f4 f4e5 e5ed ed00 0000 0000 0000 00e3 e3b1 b138 38bd bd89 893c 3ce5 e50f 0fcb cb13 1357 57fc fcfd fd94 94ff ffd5 d58d 8d5e 5e9e 9e72 72f9 f91c 1cb7 b7e7 e77d 7d7e 7ec6 c69f 9ff9 f9e7 e79e 9eaf af54 54aa aa4e</td>\n",
       "    </tr>\n",
       "    <tr>\n",
       "      <th>87</th>\n",
       "      <td>6fcd cd06 06ce ce18 <font color = gray>187f</font> <font color = gray>7fd5</font> d55a 5a6c 6c74 7480 8010 1021 21f0 f073 7361 6100 0000 0001 0101 0108 080a <font color = gray>0ac5</font> <font color = gray>c537</font> 3786 8624 24b3 b320 20f6 f652 520f 0fa1 a13d 3d3f 3f2a 2af2 f2aa aa53 5394 941e 1ea7 a7bf bf1c 1c7c 7c65 650d 0db5 b52b 2b7c 7c1d 1df0 f072 72e9 e9ba ba4d 4df6 f6a5 a579 7916 162f 2fb5 b502 0216 162d 2de3</td>\n",
       "      <td>6fcd cd06 06ce ce18 <font color = orange>18e5</font> <font color = orange>e5d5</font> d55a 5a6c 6c74 7480 8010 1021 21f0 f073 7361 6100 0000 0001 0101 0108 080a <font color = orange>0a16</font> <font color = orange>1637</font> 3786 8624 24b3 b320 20f6 f652 520f 0fa1 a13d 3d3f 3f2a 2af2 f2aa aa53 5394 941e 1ea7 a7bf bf1c 1c7c 7c65 650d 0db5 b52b 2b7c 7c1d 1df0 f072 72e9 e9ba ba4d 4df6 f6a5 a579 7916 162f 2fb5 b502 0216 162d 2de3</td>\n",
       "    </tr>\n",
       "    <tr>\n",
       "      <th>88</th>\n",
       "      <td>6577 77d3 d34b 4bc8 c8d0 d0b3 b3af af9a 9a60 6080 8018 18ba baa8 a8ef ef4d 4d00 0000 0001 0101 <font color = red>0108</font> <font color = red>080a</font> 0a23 2346 46d7 d794 9411 11d1 d142 42a4 a417 <font color = red>1703</font> <font color = red>0300</font> 0005 053f 3f85 85b5 b561 612d 2d91 91aa aad5 d56e 6ef2 f200 00c4 c4f5 f5d2 d209 0980 80f4 f47f 7fff ffba ba73 73a8 a8c5 c55d <font color = red>5d0b</font> <font color = red>0bd3</font> <font color = red>d3c5</font> <font color = red>c5ad</font> ad31 3161 61a8</td>\n",
       "      <td>6577 77d3 d34b 4bc8 c8d0 d0b3 b3af af9a 9a60 6080 8018 18ba baa8 a8ef ef4d 4d00 0000 0001 0101 <font color = pink>01c6</font> <font color = pink>c60a</font> 0a23 2346 46d7 d794 9411 11d1 d142 42a4 a417 <font color = pink>1726</font> <font color = pink>2600</font> 0005 053f 3f85 85b5 b561 612d 2d91 91aa aad5 d56e 6ef2 f200 00c4 c4f5 f5d2 d209 0980 80f4 f47f 7fff ffba ba73 73a8 a8c5 c55d <font color = pink>5dc2</font> <font color = pink>c2d3</font> <font color = pink>d3e4</font> <font color = pink>e4ad</font> ad31 3161 61a8</td>\n",
       "    </tr>\n",
       "    <tr>\n",
       "      <th>89</th>\n",
       "      <td>b2ef efce ce4b 4bc9 c94f 4f4e 4e6b 6b19 19b3 b380 8018 1849 4988 8888 88c0 c000 0000 0001 0101 0108 080a <font color = purple>0a21</font> <font color = purple>2166</font> 66e7 e762 6200 00aa aaf9 f921 2116 1603 0300 0000 0057 <font color = purple>5702</font> <font color = purple>0200</font> 0000 0053 5303 0300 0057 5794 9449 4909 09ba ba26 26bb bb49 49ba ba58 58bb bb53 533a 3a53 53bb bb4c 4cba ba26 26bb bb8c 8c3a 3a06 06bb bb98</td>\n",
       "      <td>b2ef efce ce4b 4bc9 c94f 4f4e 4e6b 6b19 19b3 b380 8018 1849 4988 8888 88c0 c000 0000 0001 0101 0108 080a <font color = orange>0a05</font> <font color = orange>0566</font> 66e7 e762 6200 00aa aaf9 f921 2116 1603 0300 0000 0057 <font color = orange>57ae</font> <font color = orange>ae00</font> 0000 0053 5303 0300 0057 5794 9449 4909 09ba ba26 26bb bb49 49ba ba58 58bb bb53 533a 3a53 53bb bb4c 4cba ba26 26bb bb8c 8c3a 3a06 06bb bb98</td>\n",
       "    </tr>\n",
       "    <tr>\n",
       "      <th>90</th>\n",
       "      <td>0cea ea48 483e 3e01 010f 0f50 5002 02bc bc87 8780 8018 1827 2798 9880 80f4 f400 0000 0001 <font color = gray>0101</font> <font color = gray>0108</font> <font color = gray>080a</font> 0afd fded ed87 87fc fc0f 0f32 323e 3e46 460a 0a00 0000 0000 <font color = gray>0002</font> <font color = gray>0265</font> 656d 6d70 706c 6c6f 6f79 7965 6565 6573 73c4 c43f 3f5a 5a2f</td>\n",
       "      <td>0cea ea48 483e 3e01 010f 0f50 5002 02bc bc87 8780 8018 1827 2798 9880 80f4 f400 0000 0001 <font color = pink>013f</font> <font color = pink>3f4b</font> <font color = pink>4b0a</font> 0afd fded ed87 87fc fc0f 0f32 323e 3e46 460a 0a00 0000 0000 <font color = pink>00c9</font> <font color = pink>c965</font> 656d 6d70 706c 6c6f 6f79 7965 6565 6573 73c4 c43f 3f5a 5a2f</td>\n",
       "    </tr>\n",
       "    <tr>\n",
       "      <th>91</th>\n",
       "      <td>30aa aa5f 5f0b 0bac ac1d 1d79 79fc fc30 3028 2880 8018 185a 5a80 80bb bb2a 2a00 0000 0001 0101 0108 080a <font color = green>0a1e</font> <font color = green>1eb4</font> b460 607f 7f0d 0d3c 3cdb db9d 9d17 1703 0300 0005 0578 7821 212b 2b23 23e2 e2a3 a396 967d 7d43 4334 34a0 a0c2 c2cc cc22 22e6 e654 5465 6554 5412 128a 8a9a 9a63 63cc ccb9 b9d6 d6e5 e5c7 c709 0970 70d6 d627</td>\n",
       "      <td>30aa aa5f 5f0b 0bac ac1d 1d79 79fc fc30 3028 2880 8018 185a 5a80 80bb bb2a 2a00 0000 0001 0101 0108 080a <font color = orange>0a16</font> <font color = orange>16b4</font> b460 607f 7f0d 0d3c 3cdb db9d 9d17 1703 0300 0005 0578 7821 212b 2b23 23e2 e2a3 a396 967d 7d43 4334 34a0 a0c2 c2cc cc22 22e6 e654 5465 6554 5412 128a 8a9a 9a63 63cc ccb9 b9d6 d6e5 e5c7 c709 0970 70d6 d627</td>\n",
       "    </tr>\n",
       "    <tr>\n",
       "      <th>92</th>\n",
       "      <td>712f 2fc1 c1bc bc93 93cf cf43 4324 24f0 f0c9 c980 8018 <font color = yellow>1849</font> <font color = yellow>4988</font> <font color = yellow>88e3</font> e3b7 b700 0000 0001 0101 0108 080a 0a6d 6d47 4773 739e 9e5a 5add dd85 8562 62cf cf3b 3b81 8139 395b 5beb eb23 23ce ce7c 7cab abfe fef3 f3ab ab61 61c6 c65a 5a59 59de dec0 c015 15d3 d3f1 f1cc ccd0 d07e 7efc fcff ff49 49a0 a076 768f 8f52 52b7 b7e3 e330</td>\n",
       "      <td>712f 2fc1 c1bc bc93 93cf cf43 4324 24f0 f0c9 c980 8018 <font color = gray>1821</font> <font color = gray>21cc</font> <font color = gray>cce3</font> e3b7 b700 0000 0001 0101 0108 080a 0a6d 6d47 4773 739e 9e5a 5add dd85 8562 62cf cf3b 3b81 8139 395b 5beb eb23 23ce ce7c 7cab abfe fef3 f3ab ab61 61c6 c65a 5a59 59de dec0 c015 15d3 d3f1 f1cc ccd0 d07e 7efc fcff ff49 49a0 a076 768f 8f52 52b7 b7e3 e330</td>\n",
       "    </tr>\n",
       "    <tr>\n",
       "      <th>93</th>\n",
       "      <td><font color = brown>dbc2</font> <font color = brown>c201</font> 0142 420d 0dae ae48 4854 5454 5450 <font color = brown>502f</font> <font color = brown>2f31</font> 312e 2e31 3120 <font color = brown>2032</font> <font color = brown>3230</font> 3030 3020 204f 4f4b 4b0d 0d0a 0a43 4361 <font color = brown>6163</font> <font color = brown>6368</font> 6865 652d 2d43 436f 6f6e <font color = brown>6e74</font> <font color = brown>7472</font> 726f 6f6c 6c3a 3a20 206d 6d61 6178 782d 2d61 6167 6765 <font color = brown>653d</font> <font color = brown>3d31</font> 3139 3930 3030 300d 0d0a 0a4c 4c6f 6f63 6361 6174 7469 <font color = brown>696f</font> <font color = brown>6f6e</font> 6e3a 3a20 2068 6874 7474</td>\n",
       "      <td><font color = brown>db05</font> <font color = brown>0501</font> 0142 420d 0dae ae48 4854 5454 5450 <font color = brown>50ac</font> <font color = brown>ac31</font> 312e 2e31 3120 <font color = brown>20b4</font> <font color = brown>b430</font> 3030 3020 204f 4f4b 4b0d 0d0a 0a43 4361 <font color = brown>61d8</font> <font color = brown>d868</font> 6865 652d 2d43 436f 6f6e <font color = brown>6e11</font> <font color = brown>1172</font> 726f 6f6c 6c3a 3a20 206d 6d61 6178 782d 2d61 6167 6765 <font color = brown>65aa</font> <font color = brown>aa31</font> 3139 3930 3030 300d 0d0a 0a4c 4c6f 6f63 6361 6174 7469 <font color = brown>69e2</font> <font color = brown>e26e</font> 6e3a 3a20 2068 6874 7474</td>\n",
       "    </tr>\n",
       "    <tr>\n",
       "      <th>94</th>\n",
       "      <td>0050 5048 486a 6ac7 c7aa aa40 405c 5ccd cdf0 f050 5018 18fa faf0 f0f6 f6ac ac00 0000 0047 4745 4554 5420 202f 2f67 6765 656e 6e2e 2e70 7068 6870 7020 2048 4854 5454 5450 502f 2f31 312e 2e31 310d 0d0a 0a41 4163 6363 6365 6570 7074 743a 3a20 2069 696d 6d61 6167 6765 652f 2f67 6769 6966 662c 2c20 2069 696d 6d61 6167 6765</td>\n",
       "      <td>0050 5048 486a 6ac7 c7aa aa40 405c 5ccd cdf0 f050 5018 18fa faf0 f0f6 f6ac ac00 0000 0047 4745 4554 5420 202f 2f67 6765 656e 6e2e 2e70 7068 6870 7020 2048 4854 5454 5450 502f 2f31 312e 2e31 310d 0d0a 0a41 4163 6363 6365 6570 7074 743a 3a20 2069 696d 6d61 6167 6765 652f 2f67 6769 6966 662c 2c20 2069 696d 6d61 6167 6765</td>\n",
       "    </tr>\n",
       "    <tr>\n",
       "      <th>95</th>\n",
       "      <td>e1b5 b53c 3c3d 3df6 f602 02f6 f6e1 e108 0870 7050 5018 18ff ffff ffa7 a758 5800 0000 0048 4854 5454 5450 502f 2f31 312e 2e31 3120 2034 3430 3034 3420 204e <font color = green>4e6f</font> <font color = green>6f74</font> 7420 2046 466f 6f75 756e 6e64 640d 0d0a 0a53 5365 <font color = green>6572</font> <font color = green>7276</font> 7665 6572 723a 3a20 2041 4170 7061 6163 6368 6865 652d <font color = green>2d43</font> <font color = green>436f</font> 6f79 796f 6f74 7465 652f 2f31</td>\n",
       "      <td>e1b5 b53c 3c3d 3df6 f602 02f6 f6e1 e108 0870 7050 5018 18ff ffff ffa7 a758 5800 0000 0048 4854 5454 5450 502f 2f31 312e 2e31 3120 2034 3430 3034 3420 204e <font color = yellow>4eb5</font> <font color = yellow>b574</font> 7420 2046 466f 6f75 756e 6e64 640d 0d0a 0a53 5365 <font color = yellow>6585</font> <font color = yellow>8576</font> 7665 6572 723a 3a20 2041 4170 7061 6163 6368 6865 652d <font color = yellow>2dbc</font> <font color = yellow>bc6f</font> 6f79 796f 6f74 7465 652f 2f31</td>\n",
       "    </tr>\n",
       "    <tr>\n",
       "      <th>96</th>\n",
       "      <td>c31a 1ac7 c787 8718 1802 02d1 d104 04b1 b126 2650 5018 18ff ffff fff2 f2db db00 0000 0048 4854 5454 5450 502f 2f31 312e 2e31 3120 2032 3230 3030 3020 204f 4f4b 4b0d 0d0a 0a53 5365 6572 7276 7665 6572 723a 3a20 206e 6e67 6769 696e 6e78 780d 0d0a <font color = yellow>0a44</font> <font color = yellow>4461</font> 6174 7465 653a 3a20 2046 4672 7269 692c 2c20 2030 3038 3820 <font color = yellow>204d</font></td>\n",
       "      <td>c31a 1ac7 c787 8718 1802 02d1 d104 04b1 b126 2650 5018 18ff ffff fff2 f2db db00 0000 0048 4854 5454 5450 502f 2f31 312e 2e31 3120 2032 3230 3030 3020 204f 4f4b 4b0d 0d0a 0a53 5365 6572 7276 7665 6572 723a 3a20 206e 6e67 6769 696e 6e78 780d 0d0a <font color = pink>0a05</font> <font color = pink>0561</font> 6174 7465 653a 3a20 2046 4672 7269 692c 2c20 2030 3038 3820 <font color = pink>20b0</font></td>\n",
       "    </tr>\n",
       "    <tr>\n",
       "      <th>97</th>\n",
       "      <td>2571 71d4 d4ef ef03 033e 3ecd cd39 3920 2032 3280 8018 1821 21f0 f0e1 e1aa aa00 0000 0001 0101 0108 080a <font color = gray>0a0f</font> <font color = gray>0f41</font> 418c 8c91 91fd fde2 e2b6 b69b 9b01 0100 0000 0001 0101 0138 3800 0000 0002 0203 0364 6465 6566 6600 0000 0000 0011 1140 4040 4076 7665 6572 7273 7369 696f 6f6e 6e5f 5f63 636f 6f6d 6d6d 6d65 656e 6e74 7411</td>\n",
       "      <td>2571 71d4 d4ef ef03 033e 3ecd cd39 3920 2032 3280 8018 1821 21f0 f0e1 e1aa aa00 0000 0001 0101 0108 080a <font color = orange>0a05</font> <font color = orange>0541</font> 418c 8c91 91fd fde2 e2b6 b69b 9b01 0100 0000 0001 0101 0138 3800 0000 0002 0203 0364 6465 6566 6600 0000 0000 0011 1140 4040 4076 7665 6572 7273 7369 696f 6f6e 6e5f 5f63 636f 6f6d 6d6d 6d65 656e 6e74 7411</td>\n",
       "    </tr>\n",
       "    <tr>\n",
       "      <th>98</th>\n",
       "      <td>56ac ac23 2368 68ba ba11 11da dade de56 5659 5980 8010 1049 4988 885f 5f26 2600 0000 0001 0101 <font color = yellow>0108</font> <font color = yellow>080a</font> 0a8e 8ea5 a5ef ef6f 6f7c 7c34 3460 6047 475c 5c6d 6d92 92b3 b384 8444 4489 89e3 e3bc bc85 8507 0763 6352 522c 2c46 46df df35 354e 4e6f 6f34 3488 8859 59d9 d986 865f 5f1d 1d54 543a 3aee eec7 c7dd dd0f 0fe5 e5ea ea51</td>\n",
       "      <td>56ac ac23 2368 68ba ba11 11da dade de56 5659 5980 8010 1049 4988 885f 5f26 2600 0000 0001 0101 <font color = pink>01d8</font> <font color = pink>d80a</font> 0a8e 8ea5 a5ef ef6f 6f7c 7c34 3460 6047 475c 5c6d 6d92 92b3 b384 8444 4489 89e3 e3bc bc85 8507 0763 6352 522c 2c46 46df df35 354e 4e6f 6f34 3488 8859 59d9 d986 865f 5f1d 1d54 543a 3aee eec7 c7dd dd0f 0fe5 e5ea ea51</td>\n",
       "    </tr>\n",
       "    <tr>\n",
       "      <th>99</th>\n",
       "      <td><font color = pink>ce7e</font> <font color = pink>7eea</font> ea4b 4b3a 3a06 0616 16a1 a123 23c4 c450 5018 <font color = pink>18ff</font> <font color = pink>ffff</font> ffca cad0 d000 0000 0017 1703 0301 0100 0020 2079 79e6 e60a 0abf bf86 8698 9818 1805 0557 5765 6507 07c0 c000 005b 5b5d 5d91 9195 95f9 f996 9677 7742 42c1 c10f 0f3a 3a8d 8d85 85d0 d04a 4a4e 4e3a 3aa0 a0f9</td>\n",
       "      <td><font color = brown>ce66</font> <font color = brown>66ea</font> ea4b 4b3a 3a06 0616 16a1 a123 23c4 c450 5018 <font color = brown>1801</font> <font color = brown>01ff</font> ffca cad0 d000 0000 0017 1703 0301 0100 0020 2079 79e6 e60a 0abf bf86 8698 9818 1805 0557 5765 6507 07c0 c000 005b 5b5d 5d91 9195 95f9 f996 9677 7742 42c1 c10f 0f3a 3a8d 8d85 85d0 d04a 4a4e 4e3a 3aa0 a0f9</td>\n",
       "    </tr>\n",
       "  </tbody>\n",
       "</table>"
      ]
     },
     "metadata": {},
     "output_type": "display_data"
    }
   ],
   "source": [
    "# Display the attack results and the differences\n",
    "logger = CSVLogger(color_method=\"html\")\n",
    "for result in attack_results:\n",
    "    logger.log_attack_result(result)\n",
    "    continue\n",
    "\n",
    "display_html(HTML(logger.df[[\"original_text\", \"perturbed_text\"]].to_html(escape=False)))"
   ]
  }
 ],
 "metadata": {
  "kernelspec": {
   "display_name": "python38-env",
   "language": "python",
   "name": "python3"
  },
  "language_info": {
   "codemirror_mode": {
    "name": "ipython",
    "version": 3
   },
   "file_extension": ".py",
   "mimetype": "text/x-python",
   "name": "python",
   "nbconvert_exporter": "python",
   "pygments_lexer": "ipython3",
   "version": "3.8.18"
  }
 },
 "nbformat": 4,
 "nbformat_minor": 2
}
