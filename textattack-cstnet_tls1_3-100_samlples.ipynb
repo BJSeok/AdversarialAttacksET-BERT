{
 "cells": [
  {
   "cell_type": "markdown",
   "metadata": {},
   "source": [
    "# 1. Import packages"
   ]
  },
  {
   "cell_type": "code",
   "execution_count": 1,
   "metadata": {},
   "outputs": [
    {
     "name": "stderr",
     "output_type": "stream",
     "text": [
      "/home/sypark/.local/lib/python3.8/site-packages/tqdm/auto.py:21: TqdmWarning: IProgress not found. Please update jupyter and ipywidgets. See https://ipywidgets.readthedocs.io/en/stable/user_install.html\n",
      "  from .autonotebook import tqdm as notebook_tqdm\n"
     ]
    }
   ],
   "source": [
    "import re\n",
    "import string\n",
    "from typing import Final, List\n",
    "\n",
    "from IPython.core.display import display_html, HTML\n",
    "\n",
    "from textattack import Attack, AttackArgs, Attacker\n",
    "from textattack.constraints.pre_transformation import (\n",
    "    RepeatModification,\n",
    "    StopwordModification,\n",
    ")\n",
    "from textattack.constraints.semantics import WordEmbeddingDistance\n",
    "from textattack.goal_functions.classification import UntargetedClassification\n",
    "from textattack.loggers import CSVLogger\n",
    "from textattack.search_methods import GreedyWordSwapWIR\n",
    "from textattack.shared.attacked_text import AttackedText\n",
    "from textattack.transformations import WordSwap"
   ]
  },
  {
   "cell_type": "markdown",
   "metadata": {},
   "source": [
    "# 2. Load model and dataset"
   ]
  },
  {
   "cell_type": "code",
   "execution_count": 2,
   "metadata": {},
   "outputs": [],
   "source": [
    "# Load from my_model.py and my_dataset.py\n",
    "from my_model import get_model\n",
    "from my_dataset import dataset\n",
    "\n",
    "model = get_model(\"cuda:3\")"
   ]
  },
  {
   "cell_type": "markdown",
   "metadata": {},
   "source": [
    "# 3. Define `CustomWordSwapEmbedding` class"
   ]
  },
  {
   "cell_type": "code",
   "execution_count": 3,
   "metadata": {},
   "outputs": [],
   "source": [
    "class CustomWordSwapEmbedding(WordSwap):\n",
    "    def __init__(self) -> None:\n",
    "        hexword_regex: Final[re.Pattern] = re.compile(r\"^[0-9a-fA-F]{4}$\")\n",
    "        self.replacement_words: List[str] = []\n",
    "\n",
    "        with open(\"./models/encryptd_vocab.txt\") as vocab_file:\n",
    "            for vocab in vocab_file:\n",
    "                self.replacement_words.append(\n",
    "                    vocab.rstrip()\n",
    "                ) if hexword_regex.fullmatch(vocab.rstrip()) else None\n",
    "                continue\n",
    "            pass\n",
    "\n",
    "        return super().__init__(string.hexdigits)\n",
    "\n",
    "    def _get_transformations(\n",
    "        self, current_text: AttackedText, indices_to_modify: List[int]\n",
    "    ) -> List[AttackedText]:\n",
    "        words = current_text.words\n",
    "        transformed_texts: List[AttackedText] = []\n",
    "\n",
    "        for i in indices_to_modify:\n",
    "            # if i < 22:\n",
    "            #     continue\n",
    "            \n",
    "            word_to_replace = words[i]\n",
    "            replacement_words = self._get_replacement_words(word_to_replace)\n",
    "            transformed_texts_idx: List[AttackedText] = []\n",
    "\n",
    "            for r in replacement_words:\n",
    "                if r == word_to_replace:\n",
    "                    continue\n",
    "\n",
    "                indices: List[int] = []\n",
    "                new_words: List[str] = []\n",
    "\n",
    "                indices.append(i)\n",
    "                new_words.append(r)\n",
    "\n",
    "                if i < len(words) - 1:\n",
    "                    post_r = r[2:] + words[i + 1][2:]\n",
    "                    indices.append(i + 1)\n",
    "                    new_words.append(post_r)\n",
    "                    pass\n",
    "\n",
    "                transformed_texts_idx.append(\n",
    "                    current_text.replace_words_at_indices(indices, new_words)\n",
    "                )\n",
    "                continue\n",
    "\n",
    "            transformed_texts.extend(transformed_texts_idx)\n",
    "            continue\n",
    "\n",
    "        return transformed_texts\n",
    "\n",
    "    def _get_replacement_words(self, word: str) -> List[str]:\n",
    "        replacement_words = [w for w in self.replacement_words if w.startswith(word[:2])]\n",
    "\n",
    "        if word in replacement_words:\n",
    "            replacement_words.remove(word)\n",
    "            pass\n",
    "        \n",
    "        return replacement_words\n",
    "\n",
    "    pass"
   ]
  },
  {
   "cell_type": "markdown",
   "metadata": {},
   "source": [
    "# 4. Construct `textattack.Attack` object"
   ]
  },
  {
   "cell_type": "code",
   "execution_count": 4,
   "metadata": {},
   "outputs": [
    {
     "name": "stderr",
     "output_type": "stream",
     "text": [
      "textattack: Unknown if model of class <class 'my_model.Classifier'> compatible with goal function <class 'textattack.goal_functions.classification.untargeted_classification.UntargetedClassification'>.\n"
     ]
    }
   ],
   "source": [
    "# Construct the four fundamental components of the attack\n",
    "goal_function = UntargetedClassification(model)\n",
    "constraints = [\n",
    "    RepeatModification(),\n",
    "    StopwordModification(),\n",
    "    WordEmbeddingDistance(min_cos_sim=0.9),\n",
    "]\n",
    "transformation = CustomWordSwapEmbedding()\n",
    "search_method = GreedyWordSwapWIR(wir_method=\"delete\")\n",
    "\n",
    "# Construct the actual attack\n",
    "attack = Attack(goal_function, constraints, transformation, search_method)"
   ]
  },
  {
   "cell_type": "markdown",
   "metadata": {},
   "source": [
    "# 5. Construct `textattack.Attacker` object"
   ]
  },
  {
   "cell_type": "code",
   "execution_count": 5,
   "metadata": {},
   "outputs": [
    {
     "name": "stdout",
     "output_type": "stream",
     "text": [
      "Attack(\n",
      "  (search_method): GreedyWordSwapWIR(\n",
      "    (wir_method):  delete\n",
      "  )\n",
      "  (goal_function):  UntargetedClassification\n",
      "  (transformation):  CustomWordSwapEmbedding\n",
      "  (constraints): \n",
      "    (0): WordEmbeddingDistance(\n",
      "        (embedding):  WordEmbedding\n",
      "        (min_cos_sim):  0.9\n",
      "        (cased):  False\n",
      "        (include_unknown_words):  True\n",
      "        (compare_against_original):  True\n",
      "      )\n",
      "    (1): RepeatModification\n",
      "    (2): StopwordModification\n",
      "  (is_black_box):  True\n",
      ") \n",
      "\n"
     ]
    },
    {
     "name": "stderr",
     "output_type": "stream",
     "text": [
      "  1%|          | 1/100 [00:02<03:50,  2.33s/it]"
     ]
    },
    {
     "name": "stdout",
     "output_type": "stream",
     "text": [
      "--------------------------------------------- Result 1 ---------------------------------------------\n"
     ]
    },
    {
     "name": "stderr",
     "output_type": "stream",
     "text": [
      "[Succeeded / Failed / Skipped / Total] 1 / 0 / 0 / 1:   1%|          | 1/100 [00:02<04:23,  2.66s/it]"
     ]
    },
    {
     "name": "stdout",
     "output_type": "stream",
     "text": [
      "[[68 (100%)]] --> [[52 (49%)]]\n",
      "\n",
      "[[e57a]] [[7af9]] f9d8 d828 2874 74fb fb4c 4ca4 a4af af80 8018 1801 01f5 f5f1 f112 1200 0000 0001 0101 0108 080a 0aad ad90 9064 6433 334d 4d8d 8d2b 2b08 0835 35eb eb46 462a 2a9b 9b2a 2a90 90a9 a97e 7e96 968d 8d4c 4c82 826a 6a6b 6b5a 5a88 888b 8b70 708a 8ad4 d4dd dd16 1697 97dc dc6c 6c88 8843 43a3 a3d1 d1f9 f929 29d6 d6ee eeb7\n",
      "\n",
      "[[e501]] [[01f9]] f9d8 d828 2874 74fb fb4c 4ca4 a4af af80 8018 1801 01f5 f5f1 f112 1200 0000 0001 0101 0108 080a 0aad ad90 9064 6433 334d 4d8d 8d2b 2b08 0835 35eb eb46 462a 2a9b 9b2a 2a90 90a9 a97e 7e96 968d 8d4c 4c82 826a 6a6b 6b5a 5a88 888b 8b70 708a 8ad4 d4dd dd16 1697 97dc dc6c 6c88 8843 43a3 a3d1 d1f9 f929 29d6 d6ee eeb7\n",
      "\n",
      "\n"
     ]
    },
    {
     "name": "stderr",
     "output_type": "stream",
     "text": [
      "[Succeeded / Failed / Skipped / Total] 2 / 0 / 0 / 2:   2%|▏         | 2/100 [00:04<03:32,  2.17s/it]"
     ]
    },
    {
     "name": "stdout",
     "output_type": "stream",
     "text": [
      "--------------------------------------------- Result 2 ---------------------------------------------\n",
      "[[111 (54%)]] --> [[39 (82%)]]\n",
      "\n",
      "01bb bb1a 1ae9 e93d 3dd1 d124 24ed edd8 d820 2080 8018 1808 0800 00cc cc94 9400 0000 0001 0101 0108 080a 0a3b [[3b2c]] [[2cbe]] be15 150b 0bc0 c0b9 b9f2 f217 1703 0303 0300 001f 1f6e 6eab ab12 12f7 f761 617c 7ccb cb67 675b 5b4f 4f8d 8de4 e421 21d0 d034 3409 09b7 b7e5 e52a 2ab1 b1bb bbf7 f758 5899 9978 7891 91e2 e217 1718 1807\n",
      "\n",
      "01bb bb1a 1ae9 e93d 3dd1 d124 24ed edd8 d820 2080 8018 1808 0800 00cc cc94 9400 0000 0001 0101 0108 080a 0a3b [[3b66]] [[66be]] be15 150b 0bc0 c0b9 b9f2 f217 1703 0303 0300 001f 1f6e 6eab ab12 12f7 f761 617c 7ccb cb67 675b 5b4f 4f8d 8de4 e421 21d0 d034 3409 09b7 b7e5 e52a 2ab1 b1bb bbf7 f758 5899 9978 7891 91e2 e217 1718 1807\n",
      "\n",
      "\n"
     ]
    },
    {
     "name": "stderr",
     "output_type": "stream",
     "text": [
      "[Succeeded / Failed / Skipped / Total] 3 / 0 / 0 / 3:   3%|▎         | 3/100 [00:07<04:06,  2.54s/it]"
     ]
    },
    {
     "name": "stdout",
     "output_type": "stream",
     "text": [
      "--------------------------------------------- Result 3 ---------------------------------------------\n",
      "[[103 (100%)]] --> [[37 (99%)]]\n",
      "\n",
      "f0df [[dfff]] [[ff92]] 92fa fa22 22b6 b64c 4c94 94ac ac80 8018 1801 [[0110]] [[1041]] 414f 4f00 0000 0001 0101 0108 080a 0a05 0542 42c9 c99a 9a29 2920 20aa aae5 e517 1703 0303 0302 020d 0d8c 8c3a 3abf bf43 4369 690b 0ba3 a3ed eda5 a5d7 d739 390e 0ee8 e82d 2d36 3686 86d3 d3b8 b895 95d9 d94a 4a73 73de de6e 6ea6 a6f9 f9e3 e34d 4dca ca1a\n",
      "\n",
      "f0df [[df0f]] [[0f92]] 92fa fa22 22b6 b64c 4c94 94ac ac80 8018 1801 [[01f3]] [[f341]] 414f 4f00 0000 0001 0101 0108 080a 0a05 0542 42c9 c99a 9a29 2920 20aa aae5 e517 1703 0303 0302 020d 0d8c 8c3a 3abf bf43 4369 690b 0ba3 a3ed eda5 a5d7 d739 390e 0ee8 e82d 2d36 3686 86d3 d3b8 b895 95d9 d94a 4a73 73de de6e 6ea6 a6f9 f9e3 e34d 4dca ca1a\n",
      "\n",
      "\n"
     ]
    },
    {
     "name": "stderr",
     "output_type": "stream",
     "text": [
      "[Succeeded / Failed / Skipped / Total] 4 / 0 / 0 / 4:   4%|▍         | 4/100 [00:09<03:53,  2.43s/it]"
     ]
    },
    {
     "name": "stdout",
     "output_type": "stream",
     "text": [
      "--------------------------------------------- Result 4 ---------------------------------------------\n",
      "[[40 (100%)]] --> [[63 (98%)]]\n",
      "\n",
      "[[01bb]] [[bbc8]] c8ff ff31 3158 582f 2f63 630a 0aaa aa80 8010 1001 01f5 f596 9682 8200 0000 0001 0101 0108 080a 0acb cbb7 b786 8687 871b 1bcf cf2b 2bc9 c9a2 a213 1304 041e 1ee0 e04a 4af2 f23e 3e69 6961 612b 2b65 65e6 e63b 3b77 77f8 f855 557e 7e22 221d 1d62 6217 1770 70a3 a352 527a 7afd fd2e 2ea6 a65f 5fed edd0 d0f5 f5bd bd65\n",
      "\n",
      "[[010b]] [[0bc8]] c8ff ff31 3158 582f 2f63 630a 0aaa aa80 8010 1001 01f5 f596 9682 8200 0000 0001 0101 0108 080a 0acb cbb7 b786 8687 871b 1bcf cf2b 2bc9 c9a2 a213 1304 041e 1ee0 e04a 4af2 f23e 3e69 6961 612b 2b65 65e6 e63b 3b77 77f8 f855 557e 7e22 221d 1d62 6217 1770 70a3 a352 527a 7afd fd2e 2ea6 a65f 5fed edd0 d0f5 f5bd bd65\n",
      "\n",
      "\n"
     ]
    },
    {
     "name": "stderr",
     "output_type": "stream",
     "text": [
      "[Succeeded / Failed / Skipped / Total] 5 / 0 / 0 / 5:   5%|▌         | 5/100 [00:11<03:42,  2.34s/it]"
     ]
    },
    {
     "name": "stdout",
     "output_type": "stream",
     "text": [
      "--------------------------------------------- Result 5 ---------------------------------------------\n",
      "[[50 (71%)]] --> [[45 (100%)]]\n",
      "\n",
      "01bb [[bbc9]] [[c973]] 735f 5f72 72dd ddd1 d121 215b 5b50 5018 1800 00ff ff6c 6c15 1500 0000 00d5 d523 2329 2996 969c 9ce1 e10d 0d81 81a4 a404 049f 9faf af55 55c2 c250 50b4 b404 04c1 c109 09b8 b817 17b7 b712 1254 541c 1c23 23da da55 55b1 b109 09c2 c225 2510 10f2 f24e 4ecc cc8f 8f27 277b 7bf9 f9af af07 075f 5f33 33a3 a33b 3b34\n",
      "\n",
      "01bb [[bb07]] [[0773]] 735f 5f72 72dd ddd1 d121 215b 5b50 5018 1800 00ff ff6c 6c15 1500 0000 00d5 d523 2329 2996 969c 9ce1 e10d 0d81 81a4 a404 049f 9faf af55 55c2 c250 50b4 b404 04c1 c109 09b8 b817 17b7 b712 1254 541c 1c23 23da da55 55b1 b109 09c2 c225 2510 10f2 f24e 4ecc cc8f 8f27 277b 7bf9 f9af af07 075f 5f33 33a3 a33b 3b34\n",
      "\n",
      "\n"
     ]
    },
    {
     "name": "stderr",
     "output_type": "stream",
     "text": [
      "[Succeeded / Failed / Skipped / Total] 6 / 0 / 0 / 6:   6%|▌         | 6/100 [00:13<03:37,  2.31s/it]"
     ]
    },
    {
     "name": "stdout",
     "output_type": "stream",
     "text": [
      "--------------------------------------------- Result 6 ---------------------------------------------\n",
      "[[37 (100%)]] --> [[24 (100%)]]\n",
      "\n",
      "01bb bb5d [[5dc3]] [[c39c]] 9cd0 d0e8 e8f3 f388 88d5 d550 5018 1802 0203 0388 8834 3400 0000 0017 1703 0303 0301 0171 718a 8a95 95c3 c3a0 a0c3 c37c 7c2f 2f1d 1d28 28f7 f70b 0bf5 f5d1 d15e 5ee0 e04c 4c28 2834 34a2 a267 676c 6c75 751a 1a7b 7b81 81dd dda4 a41d 1dda da1a 1ad5 d5f7 f7a6 a6ca ca7b 7ba7 a742 42ed eda5 a544 44cd cdaa\n",
      "\n",
      "01bb bb5d [[5d7f]] [[7f9c]] 9cd0 d0e8 e8f3 f388 88d5 d550 5018 1802 0203 0388 8834 3400 0000 0017 1703 0303 0301 0171 718a 8a95 95c3 c3a0 a0c3 c37c 7c2f 2f1d 1d28 28f7 f70b 0bf5 f5d1 d15e 5ee0 e04c 4c28 2834 34a2 a267 676c 6c75 751a 1a7b 7b81 81dd dda4 a41d 1dda da1a 1ad5 d5f7 f7a6 a6ca ca7b 7ba7 a742 42ed eda5 a544 44cd cdaa\n",
      "\n",
      "\n"
     ]
    },
    {
     "name": "stderr",
     "output_type": "stream",
     "text": [
      "[Succeeded / Failed / Skipped / Total] 7 / 0 / 0 / 7:   7%|▋         | 7/100 [00:15<03:27,  2.23s/it]textattack: Ran out of samples to attack!\n",
      "[Succeeded / Failed / Skipped / Total] 7 / 0 / 1 / 8:   7%|▋         | 7/100 [00:15<03:27,  2.23s/it]"
     ]
    },
    {
     "name": "stdout",
     "output_type": "stream",
     "text": [
      "--------------------------------------------- Result 7 ---------------------------------------------\n",
      "[[2 (100%)]] --> [[96 (100%)]]\n",
      "\n",
      "[[c616]] [[16af]] afd0 d081 81d0 d042 42f7 f70d 0de0 e050 5010 1000 00c1 c19f 9ff7 f700 0000 0080 809b 9be2 e2d7 d74d 4d64 641c 1cc1 c129 29d5 d5d5 d5ce cef4 f472 72a1 a148 4871 71c9 c982 82f7 f7fb fbbc bc4b 4bc0 c065 65e6 e6c2 c223 230e 0e3a 3a36 36b5 b5fc fc98 981f 1f85 8579 79e9 e90b 0bf9 f940 405c 5c75 7588 8898 988a 8a68\n",
      "\n",
      "[[c605]] [[05af]] afd0 d081 81d0 d042 42f7 f70d 0de0 e050 5010 1000 00c1 c19f 9ff7 f700 0000 0080 809b 9be2 e2d7 d74d 4d64 641c 1cc1 c129 29d5 d5d5 d5ce cef4 f472 72a1 a148 4871 71c9 c982 82f7 f7fb fbbc bc4b 4bc0 c065 65e6 e6c2 c223 230e 0e3a 3a36 36b5 b5fc fc98 981f 1f85 8579 79e9 e90b 0bf9 f940 405c 5c75 7588 8898 988a 8a68\n",
      "\n",
      "\n",
      "--------------------------------------------- Result 8 ---------------------------------------------\n",
      "[[88 (99%)]] --> [[[SKIPPED]]]\n",
      "\n",
      "ef22 221a 1a34 34f3 f3b3 b3da dae7 e72f 2f9d 9d80 8018 1802 0230 30b0 b077 7700 0000 0001 0101 0108 080a 0a00 00fd fd0f 0f40 404e 4e2d 2d65 6588 8817 1703 0303 0302 0201 010e 0ed7 d734 34d6 d693 93ed eded ed59 5985 8594 94b9 b95c 5ce8 e8de de9f 9f14 141f 1f0d 0df1 f170 707d 7dd8 d831 31a2 a28b 8b8f 8f88 88b1 b14a 4aac\n",
      "\n",
      "\n"
     ]
    },
    {
     "name": "stderr",
     "output_type": "stream",
     "text": [
      "[Succeeded / Failed / Skipped / Total] 8 / 0 / 1 / 9:   8%|▊         | 8/100 [00:17<03:20,  2.18s/it]"
     ]
    },
    {
     "name": "stdout",
     "output_type": "stream",
     "text": [
      "--------------------------------------------- Result 9 ---------------------------------------------\n",
      "[[25 (100%)]] --> [[7 (100%)]]\n",
      "\n",
      "c0d2 d2af af96 96ad ad72 72f3 f38b 8bc7 c738 3850 5018 1801 [[014a]] [[4a31]] 313c 3c00 0000 0093 9359 59c5 c5ed ed95 95d8 d834 34ca ca82 8210 1079 794d 4dc0 c0d3 d360 60af af7f 7f1f 1f84 8481 8125 257f 7f9c 9cb8 b81b 1bdd dd3e 3e8d 8dfb fbc0 c0c7 c717 1703 0303 0300 0045 4546 460b 0bfa faca caa4 a415 153f 3fc9 c953 5389 8945\n",
      "\n",
      "c0d2 d2af af96 96ad ad72 72f3 f38b 8bc7 c738 3850 5018 1801 [[0160]] [[6031]] 313c 3c00 0000 0093 9359 59c5 c5ed ed95 95d8 d834 34ca ca82 8210 1079 794d 4dc0 c0d3 d360 60af af7f 7f1f 1f84 8481 8125 257f 7f9c 9cb8 b81b 1bdd dd3e 3e8d 8dfb fbc0 c0c7 c717 1703 0303 0300 0045 4546 460b 0bfa faca caa4 a415 153f 3fc9 c953 5389 8945\n",
      "\n",
      "\n"
     ]
    },
    {
     "name": "stderr",
     "output_type": "stream",
     "text": [
      "[Succeeded / Failed / Skipped / Total] 9 / 0 / 1 / 10:   9%|▉         | 9/100 [00:19<03:17,  2.17s/it]"
     ]
    },
    {
     "name": "stdout",
     "output_type": "stream",
     "text": [
      "--------------------------------------------- Result 10 ---------------------------------------------\n",
      "[[91 (100%)]] --> [[112 (100%)]]\n",
      "\n",
      "[[dc75]] [[7582]] 827d 7dad adc7 c7c5 c555 553a 3a97 9750 5010 1000 0053 5312 12bf bf00 0000 0075 752e 2eb4 b480 80e3 e3da da49 492c 2c98 9833 33b8 b821 210b 0b3c 3cd2 d2c7 c740 4063 6310 104a 4a79 791b 1b30 30e9 e963 638e 8e07 0727 2771 71fd fdd4 d497 971c 1ce2 e2c8 c8a1 a138 38be bec9 c931 313d 3d0a 0a3c 3c5f 5f08 08bb bbde\n",
      "\n",
      "[[dcea]] [[ea82]] 827d 7dad adc7 c7c5 c555 553a 3a97 9750 5010 1000 0053 5312 12bf bf00 0000 0075 752e 2eb4 b480 80e3 e3da da49 492c 2c98 9833 33b8 b821 210b 0b3c 3cd2 d2c7 c740 4063 6310 104a 4a79 791b 1b30 30e9 e963 638e 8e07 0727 2771 71fd fdd4 d497 971c 1ce2 e2c8 c8a1 a138 38be bec9 c931 313d 3d0a 0a3c 3c5f 5f08 08bb bbde\n",
      "\n",
      "\n"
     ]
    },
    {
     "name": "stderr",
     "output_type": "stream",
     "text": [
      "[Succeeded / Failed / Skipped / Total] 10 / 0 / 1 / 11:  10%|█         | 10/100 [00:21<03:12,  2.14s/it]"
     ]
    },
    {
     "name": "stdout",
     "output_type": "stream",
     "text": [
      "--------------------------------------------- Result 11 ---------------------------------------------\n",
      "[[40 (100%)]] --> [[26 (100%)]]\n",
      "\n",
      "[[f1ed]] [[ed9c]] 9c75 758f 8f93 93a2 a2ab abbf bf25 2550 5010 1000 0043 4312 1222 2200 0000 0012 12eb eb8d 8d75 7577 7700 0037 3758 58b7 b7f5 f5cd cdb5 b567 67ee ee59 598d 8dee ee5c 5c72 7246 46db db03 0386 86e3 e368 68df df8c 8cdf dfa4 a4fe feb3 b387 874f 4f45 4596 96fb fb9a 9a30 309c 9ce7 e7d3 d370 70de de52 52fe fe8a 8abb\n",
      "\n",
      "[[f124]] [[249c]] 9c75 758f 8f93 93a2 a2ab abbf bf25 2550 5010 1000 0043 4312 1222 2200 0000 0012 12eb eb8d 8d75 7577 7700 0037 3758 58b7 b7f5 f5cd cdb5 b567 67ee ee59 598d 8dee ee5c 5c72 7246 46db db03 0386 86e3 e368 68df df8c 8cdf dfa4 a4fe feb3 b387 874f 4f45 4596 96fb fb9a 9a30 309c 9ce7 e7d3 d370 70de de52 52fe fe8a 8abb\n",
      "\n",
      "\n"
     ]
    },
    {
     "name": "stderr",
     "output_type": "stream",
     "text": [
      "[Succeeded / Failed / Skipped / Total] 11 / 0 / 1 / 12:  11%|█         | 11/100 [00:23<03:07,  2.11s/it]"
     ]
    },
    {
     "name": "stdout",
     "output_type": "stream",
     "text": [
      "--------------------------------------------- Result 12 ---------------------------------------------\n",
      "[[49 (100%)]] --> [[2 (100%)]]\n",
      "\n",
      "[[e493]] [[931a]] 1a93 9323 239e 9ece cea1 a187 873b 3b50 5010 1000 00b3 b3de de5d 5d00 0000 0092 923d 3dfe fe2f 2fe2 e297 9783 8385 8576 76ba ba59 5912 1245 45ba ba1f 1f43 4337 371e 1ebf bff8 f873 73a2 a2dd dd26 26dd dd6f 6fbe be2b 2bd7 d7e6 e6d5 d543 4395 95dc dc40 40c4 c448 48e4 e415 156c 6c00 0027 2749 49c6 c6ab ab1d 1d61\n",
      "\n",
      "[[e433]] [[331a]] 1a93 9323 239e 9ece cea1 a187 873b 3b50 5010 1000 00b3 b3de de5d 5d00 0000 0092 923d 3dfe fe2f 2fe2 e297 9783 8385 8576 76ba ba59 5912 1245 45ba ba1f 1f43 4337 371e 1ebf bff8 f873 73a2 a2dd dd26 26dd dd6f 6fbe be2b 2bd7 d7e6 e6d5 d543 4395 95dc dc40 40c4 c448 48e4 e415 156c 6c00 0027 2749 49c6 c6ab ab1d 1d61\n",
      "\n",
      "\n"
     ]
    },
    {
     "name": "stderr",
     "output_type": "stream",
     "text": [
      "[Succeeded / Failed / Skipped / Total] 12 / 0 / 1 / 13:  12%|█▏        | 12/100 [00:25<03:05,  2.11s/it]"
     ]
    },
    {
     "name": "stdout",
     "output_type": "stream",
     "text": [
      "--------------------------------------------- Result 13 ---------------------------------------------\n",
      "[[65 (100%)]] --> [[59 (100%)]]\n",
      "\n",
      "c7de de12 1212 1280 804a 4a44 44b6 b67d 7dea ea50 5018 1801 [[01f5]] [[f51e]] 1e2c 2c00 0000 0075 7582 8255 553b 3bbc bcaf af43 430f 0f87 8762 62bf bf5e 5e98 987d 7d55 55aa aa40 40f2 f2c0 c072 727f 7ff0 f017 17df dfd3 d3dc dc5a 5ac2 c250 5099 993d 3d82 82a1 a133 331b 1b4b 4b90 90d4 d442 425e 5e2b 2b96 9675 75a7 a735 35dc dc06\n",
      "\n",
      "c7de de12 1212 1280 804a 4a44 44b6 b67d 7dea ea50 5018 1801 [[01ce]] [[ce1e]] 1e2c 2c00 0000 0075 7582 8255 553b 3bbc bcaf af43 430f 0f87 8762 62bf bf5e 5e98 987d 7d55 55aa aa40 40f2 f2c0 c072 727f 7ff0 f017 17df dfd3 d3dc dc5a 5ac2 c250 5099 993d 3d82 82a1 a133 331b 1b4b 4b90 90d4 d442 425e 5e2b 2b96 9675 75a7 a735 35dc dc06\n",
      "\n",
      "\n"
     ]
    },
    {
     "name": "stderr",
     "output_type": "stream",
     "text": [
      "[Succeeded / Failed / Skipped / Total] 13 / 0 / 1 / 14:  13%|█▎        | 13/100 [00:27<03:03,  2.11s/it]"
     ]
    },
    {
     "name": "stdout",
     "output_type": "stream",
     "text": [
      "--------------------------------------------- Result 14 ---------------------------------------------\n",
      "[[56 (100%)]] --> [[76 (100%)]]\n",
      "\n",
      "[[01bb]] [[bbce]] cee0 e08e 8e33 3325 2554 542c 2c0f 0f50 5018 1801 0135 35b3 b39d 9d00 0000 0094 94c7 c757 570c 0c50 506c 6c26 260a 0ad9 d93c 3ca2 a2eb eb60 6037 3775 75aa aa91 910b 0b41 41ea ea5a 5a95 951b 1b83 836d 6d21 21ee ee84 8455 55de de3c 3c2f 2f12 1275 756c 6c25 2532 32fb fba0 a09f 9f7c 7cde de3e 3e52 5211 1137 372d\n",
      "\n",
      "[[017f]] [[7fce]] cee0 e08e 8e33 3325 2554 542c 2c0f 0f50 5018 1801 0135 35b3 b39d 9d00 0000 0094 94c7 c757 570c 0c50 506c 6c26 260a 0ad9 d93c 3ca2 a2eb eb60 6037 3775 75aa aa91 910b 0b41 41ea ea5a 5a95 951b 1b83 836d 6d21 21ee ee84 8455 55de de3c 3c2f 2f12 1275 756c 6c25 2532 32fb fba0 a09f 9f7c 7cde de3e 3e52 5211 1137 372d\n",
      "\n",
      "\n"
     ]
    },
    {
     "name": "stderr",
     "output_type": "stream",
     "text": [
      "[Succeeded / Failed / Skipped / Total] 14 / 0 / 1 / 15:  14%|█▍        | 14/100 [00:29<03:00,  2.10s/it]"
     ]
    },
    {
     "name": "stdout",
     "output_type": "stream",
     "text": [
      "--------------------------------------------- Result 15 ---------------------------------------------\n",
      "[[66 (100%)]] --> [[103 (100%)]]\n",
      "\n",
      "[[c27d]] [[7dcd]] cd21 21c1 c118 18d3 d364 642c 2c41 4180 8018 1801 010d 0dab ab90 9000 0000 0001 0101 0108 080a 0a2a 2ac5 c58a 8af9 f903 0336 3676 7602 0217 1703 0303 0305 0589 89a6 a6ea ea8b 8bcb cbd9 d970 7069 693d 3df2 f2d9 d977 773f 3f6b 6b52 5257 57d0 d029 2992 92d6 d650 5016 16c0 c00b 0ba1 a191 913a 3a16 1641 411b 1b36\n",
      "\n",
      "[[c24d]] [[4dcd]] cd21 21c1 c118 18d3 d364 642c 2c41 4180 8018 1801 010d 0dab ab90 9000 0000 0001 0101 0108 080a 0a2a 2ac5 c58a 8af9 f903 0336 3676 7602 0217 1703 0303 0305 0589 89a6 a6ea ea8b 8bcb cbd9 d970 7069 693d 3df2 f2d9 d977 773f 3f6b 6b52 5257 57d0 d029 2992 92d6 d650 5016 16c0 c00b 0ba1 a191 913a 3a16 1641 411b 1b36\n",
      "\n",
      "\n"
     ]
    },
    {
     "name": "stderr",
     "output_type": "stream",
     "text": [
      "[Succeeded / Failed / Skipped / Total] 15 / 0 / 1 / 16:  15%|█▌        | 15/100 [00:31<02:58,  2.10s/it]"
     ]
    },
    {
     "name": "stdout",
     "output_type": "stream",
     "text": [
      "--------------------------------------------- Result 16 ---------------------------------------------\n",
      "[[47 (100%)]] --> [[58 (100%)]]\n",
      "\n",
      "d638 [[38d3]] [[d3c7]] c7fb fbe4 e44b 4bc0 c0ac ac78 7850 5010 1000 007b 7b5e 5e96 9600 0000 0016 1603 0303 0300 007a 7a02 0200 0000 0076 7603 0303 0388 889d 9d5c 5ccc cc7d 7d97 97b3 b3d9 d9f4 f4e4 e41e 1e9f 9f13 13a5 a572 72ce ce51 5182 82c7 c705 052a 2a78 7891 912b 2b99 997c 7c44 4421 21e1 e1f1 f1d8 d8b4 b420 20e8 e874 7477\n",
      "\n",
      "d638 [[382a]] [[2ac7]] c7fb fbe4 e44b 4bc0 c0ac ac78 7850 5010 1000 007b 7b5e 5e96 9600 0000 0016 1603 0303 0300 007a 7a02 0200 0000 0076 7603 0303 0388 889d 9d5c 5ccc cc7d 7d97 97b3 b3d9 d9f4 f4e4 e41e 1e9f 9f13 13a5 a572 72ce ce51 5182 82c7 c705 052a 2a78 7891 912b 2b99 997c 7c44 4421 21e1 e1f1 f1d8 d8b4 b420 20e8 e874 7477\n",
      "\n",
      "\n"
     ]
    },
    {
     "name": "stderr",
     "output_type": "stream",
     "text": [
      "[Succeeded / Failed / Skipped / Total] 16 / 0 / 1 / 17:  16%|█▌        | 16/100 [00:33<02:54,  2.08s/it]"
     ]
    },
    {
     "name": "stdout",
     "output_type": "stream",
     "text": [
      "--------------------------------------------- Result 17 ---------------------------------------------\n",
      "[[23 (100%)]] --> [[63 (100%)]]\n",
      "\n",
      "01bb bb5a [[5a28]] [[284d]] 4d94 949a 9aca ca64 6487 87e0 e010 1002 0202 0206 06ef ef00 0000 0001 0101 0105 0522 229a 9aca caac ac3b 3b9a 9aca cab7 b743 439a 9aca ca96 962b 2b9a 9aca caa6 a6b7 b79a 9aca ca85 859f 9f9a 9aca ca90 90a7 a79a 9aca ca6a 6a0b 0b9a 9aca ca80 801b\n",
      "\n",
      "01bb bb5a [[5ab9]] [[b94d]] 4d94 949a 9aca ca64 6487 87e0 e010 1002 0202 0206 06ef ef00 0000 0001 0101 0105 0522 229a 9aca caac ac3b 3b9a 9aca cab7 b743 439a 9aca ca96 962b 2b9a 9aca caa6 a6b7 b79a 9aca ca85 859f 9f9a 9aca ca90 90a7 a79a 9aca ca6a 6a0b 0b9a 9aca ca80 801b\n",
      "\n",
      "\n"
     ]
    },
    {
     "name": "stderr",
     "output_type": "stream",
     "text": [
      "[Succeeded / Failed / Skipped / Total] 17 / 0 / 1 / 18:  17%|█▋        | 17/100 [00:34<02:50,  2.05s/it]"
     ]
    },
    {
     "name": "stdout",
     "output_type": "stream",
     "text": [
      "--------------------------------------------- Result 18 ---------------------------------------------\n",
      "[[12 (100%)]] --> [[10 (100%)]]\n",
      "\n",
      "[[eff2]] [[f236]] 366d 6d08 08bd bd15 15be be27 27c3 c350 5010 1001 0109 0998 9860 6000 0000 0017 1703 0303 0340 4011 1126 2678 7881 8193 93b3 b3c4 c43e 3e0d 0d0a 0a1e 1e60 604b 4b6e 6e15 1573 7380 8001 01d8 d8f4 f4d6 d62b 2be4 e4d5 d5ef ef27 2734 3409 0931 3149 4995 9501 010a 0a4e 4ee7 e77e 7e05 05b3 b388 883f 3f83 833f 3fec\n",
      "\n",
      "[[ef7f]] [[7f36]] 366d 6d08 08bd bd15 15be be27 27c3 c350 5010 1001 0109 0998 9860 6000 0000 0017 1703 0303 0340 4011 1126 2678 7881 8193 93b3 b3c4 c43e 3e0d 0d0a 0a1e 1e60 604b 4b6e 6e15 1573 7380 8001 01d8 d8f4 f4d6 d62b 2be4 e4d5 d5ef ef27 2734 3409 0931 3149 4995 9501 010a 0a4e 4ee7 e77e 7e05 05b3 b388 883f 3f83 833f 3fec\n",
      "\n",
      "\n"
     ]
    },
    {
     "name": "stderr",
     "output_type": "stream",
     "text": [
      "[Succeeded / Failed / Skipped / Total] 18 / 0 / 1 / 19:  18%|█▊        | 18/100 [00:38<02:55,  2.14s/it]"
     ]
    },
    {
     "name": "stdout",
     "output_type": "stream",
     "text": [
      "--------------------------------------------- Result 19 ---------------------------------------------\n",
      "[[106 (100%)]] --> [[14 (74%)]]\n",
      "\n",
      "[[fbac]] [[ac40]] 4056 568c 8c99 99c7 c7d4 d451 5135 3580 8010 1000 003b 3b97 978e 8e00 0000 0001 0101 0108 [[080a]] [[0a46]] 4619 1909 0983 8354 54f9 f92a 2a5f 5f26 2699 992e 2ec1 c115 1532 3203 0321 2193 9333 33cb cb2b 2b10 10fc fc61 6184 8490 907c 7c3a 3a3f 3f4c 4c51 519f 9ffe febc bc51 519d 9dc4 c425 25fb fbf2 f22c 2c61 61e7 e730\n",
      "\n",
      "[[fb6b]] [[6b40]] 4056 568c 8c99 99c7 c7d4 d451 5135 3580 8010 1000 003b 3b97 978e 8e00 0000 0001 0101 0108 [[08fb]] [[fb46]] 4619 1909 0983 8354 54f9 f92a 2a5f 5f26 2699 992e 2ec1 c115 1532 3203 0321 2193 9333 33cb cb2b 2b10 10fc fc61 6184 8490 907c 7c3a 3a3f 3f4c 4c51 519f 9ffe febc bc51 519d 9dc4 c425 25fb fbf2 f22c 2c61 61e7 e730\n",
      "\n",
      "\n"
     ]
    },
    {
     "name": "stderr",
     "output_type": "stream",
     "text": [
      "[Succeeded / Failed / Skipped / Total] 19 / 0 / 1 / 20:  19%|█▉        | 19/100 [00:40<02:52,  2.13s/it]"
     ]
    },
    {
     "name": "stdout",
     "output_type": "stream",
     "text": [
      "--------------------------------------------- Result 20 ---------------------------------------------\n",
      "[[8 (100%)]] --> [[58 (100%)]]\n",
      "\n",
      "f12d 2da9 a962 62ca caec ecdf df2e 2e6f 6f5a 5a50 5018 1800 [[0041]] [[4195]] 959a 9a00 0000 0017 1703 0303 0305 056d 6d79 79aa aa50 50bd bdf8 f88e 8e91 9131 315d 5d76 76e2 e251 5159 59bb bb4f 4f76 76cd cd20 20b1 b196 96d2 d22a 2af1 f17e 7eac ac66 66df df01 0140 40bb bb9b 9bf0 f0b3 b38b 8bcb cbba ba89 89d2 d2b0 b04d 4d95 95f9\n",
      "\n",
      "f12d 2da9 a962 62ca caec ecdf df2e 2e6f 6f5a 5a50 5018 1800 [[008f]] [[8f95]] 959a 9a00 0000 0017 1703 0303 0305 056d 6d79 79aa aa50 50bd bdf8 f88e 8e91 9131 315d 5d76 76e2 e251 5159 59bb bb4f 4f76 76cd cd20 20b1 b196 96d2 d22a 2af1 f17e 7eac ac66 66df df01 0140 40bb bb9b 9bf0 f0b3 b38b 8bcb cbba ba89 89d2 d2b0 b04d 4d95 95f9\n",
      "\n",
      "\n"
     ]
    },
    {
     "name": "stderr",
     "output_type": "stream",
     "text": [
      "[Succeeded / Failed / Skipped / Total] 20 / 0 / 1 / 21:  20%|██        | 20/100 [00:42<02:50,  2.13s/it]"
     ]
    },
    {
     "name": "stdout",
     "output_type": "stream",
     "text": [
      "--------------------------------------------- Result 21 ---------------------------------------------\n",
      "[[51 (100%)]] --> [[98 (100%)]]\n",
      "\n",
      "d6d6 [[d660]] [[605f]] 5f42 42dd dd89 8993 937f 7f84 8450 5010 1002 0235 352f 2fc1 c100 0000 0017 1703 0303 031b 1b12 1287 87b7 b786 8632 32f6 f6f1 f184 849d 9df7 f70e 0e79 7976 768d 8d99 990d 0d8e 8ea2 a275 753d 3d4f 4f8a 8a13 13fc fc49 497a 7a5e 5e4d 4d46 460d 0daf afa5 a556 5617 1777 778d 8db2 b283 83be be25 25a2 a2a9 a983\n",
      "\n",
      "d6d6 [[d6b4]] [[b45f]] 5f42 42dd dd89 8993 937f 7f84 8450 5010 1002 0235 352f 2fc1 c100 0000 0017 1703 0303 031b 1b12 1287 87b7 b786 8632 32f6 f6f1 f184 849d 9df7 f70e 0e79 7976 768d 8d99 990d 0d8e 8ea2 a275 753d 3d4f 4f8a 8a13 13fc fc49 497a 7a5e 5e4d 4d46 460d 0daf afa5 a556 5617 1777 778d 8db2 b283 83be be25 25a2 a2a9 a983\n",
      "\n",
      "\n"
     ]
    },
    {
     "name": "stderr",
     "output_type": "stream",
     "text": [
      "[Succeeded / Failed / Skipped / Total] 21 / 0 / 1 / 22:  21%|██        | 21/100 [00:44<02:48,  2.13s/it]"
     ]
    },
    {
     "name": "stdout",
     "output_type": "stream",
     "text": [
      "--------------------------------------------- Result 22 ---------------------------------------------\n",
      "[[73 (100%)]] --> [[113 (100%)]]\n",
      "\n",
      "9e36 369c 9c7a 7a74 7494 9420 20df df77 7733 3380 8010 1000 [[0053]] [[5377]] 77c2 c200 0000 0001 0101 0108 080a 0a28 28f9 f9bd bd05 0500 00d8 d855 55fa fa95 9523 233c 3cf0 f0c0 c09f 9f85 8591 9107 07fd fd1e 1e09 092e 2ec1 c164 6412 12ec ec98 985d 5d9f 9fed edde deea ead5 d55a 5a2e 2e81 8171 7117 1722 220c 0cb2 b2b9 b965 6513\n",
      "\n",
      "9e36 369c 9c7a 7a74 7494 9420 20df df77 7733 3380 8010 1000 [[0017]] [[1777]] 77c2 c200 0000 0001 0101 0108 080a 0a28 28f9 f9bd bd05 0500 00d8 d855 55fa fa95 9523 233c 3cf0 f0c0 c09f 9f85 8591 9107 07fd fd1e 1e09 092e 2ec1 c164 6412 12ec ec98 985d 5d9f 9fed edde deea ead5 d55a 5a2e 2e81 8171 7117 1722 220c 0cb2 b2b9 b965 6513\n",
      "\n",
      "\n"
     ]
    },
    {
     "name": "stderr",
     "output_type": "stream",
     "text": [
      "[Succeeded / Failed / Skipped / Total] 22 / 0 / 1 / 23:  22%|██▏       | 22/100 [00:46<02:46,  2.14s/it]"
     ]
    },
    {
     "name": "stdout",
     "output_type": "stream",
     "text": [
      "--------------------------------------------- Result 23 ---------------------------------------------\n",
      "[[51 (100%)]] --> [[117 (99%)]]\n",
      "\n",
      "01bb bbe6 e6cb cb00 00f2 f2db db23 2336 361b 1b80 8010 1008 0800 00af af44 4400 0000 0001 0101 0108 080a 0a09 [[0947]] [[47b0]] b052 52c6 c692 92e7 e709 09af af68 686d 6dee eeea ea74 7491 91ee ee09 09c1 c18d 8d7e 7e5b 5b4c 4cfd fddb db03 03cf cf55 554b 4b80 8044 4431 3186 8693 9329 29dc dc49 4910 10f8 f845 4563 6303 0374 74d7\n",
      "\n",
      "01bb bbe6 e6cb cb00 00f2 f2db db23 2336 361b 1b80 8010 1008 0800 00af af44 4400 0000 0001 0101 0108 080a 0a09 [[09e8]] [[e8b0]] b052 52c6 c692 92e7 e709 09af af68 686d 6dee eeea ea74 7491 91ee ee09 09c1 c18d 8d7e 7e5b 5b4c 4cfd fddb db03 03cf cf55 554b 4b80 8044 4431 3186 8693 9329 29dc dc49 4910 10f8 f845 4563 6303 0374 74d7\n",
      "\n",
      "\n"
     ]
    },
    {
     "name": "stderr",
     "output_type": "stream",
     "text": [
      "[Succeeded / Failed / Skipped / Total] 23 / 0 / 1 / 24:  23%|██▎       | 23/100 [00:48<02:42,  2.11s/it]"
     ]
    },
    {
     "name": "stdout",
     "output_type": "stream",
     "text": [
      "--------------------------------------------- Result 24 ---------------------------------------------\n",
      "[[84 (100%)]] --> [[69 (100%)]]\n",
      "\n",
      "[[1370]] [[70c9]] c943 43fc fc14 1406 06db db14 1438 3850 5018 1800 004e 4e0b 0be7 e700 0000 0017 1703 0303 0300 001a 1ae7 e77e 7e01 0179 79f5 f537 3788 88d1 d1c8 c818 1876 7637 3792 92d4 d496 967b 7b34 342e 2e6f 6fc7 c79b 9bc5 c5ca ca94 94be be23\n",
      "\n",
      "[[1363]] [[63c9]] c943 43fc fc14 1406 06db db14 1438 3850 5018 1800 004e 4e0b 0be7 e700 0000 0017 1703 0303 0300 001a 1ae7 e77e 7e01 0179 79f5 f537 3788 88d1 d1c8 c818 1876 7637 3792 92d4 d496 967b 7b34 342e 2e6f 6fc7 c79b 9bc5 c5ca ca94 94be be23\n",
      "\n",
      "\n"
     ]
    },
    {
     "name": "stderr",
     "output_type": "stream",
     "text": [
      "[Succeeded / Failed / Skipped / Total] 24 / 0 / 1 / 25:  24%|██▍       | 24/100 [00:50<02:40,  2.11s/it]"
     ]
    },
    {
     "name": "stdout",
     "output_type": "stream",
     "text": [
      "--------------------------------------------- Result 25 ---------------------------------------------\n",
      "[[63 (100%)]] --> [[94 (100%)]]\n",
      "\n",
      "b9a2 a2c8 c81a 1a87 87a0 a01d [[1dc9]] [[c94e]] 4e3c 3c80 8010 1001 01f5 f5c5 c5bd bd00 0000 0001 0101 0108 080a 0a91 91ee ee0c 0c69 69ac acf9 f970 7014 142f 2f41 416b 6ba8 a807 0706 0672 72ee eedc dc23 23a9 a909 09da da25 25de deba bacb cbd8 d8ad ad84 84e9 e949 498a 8a46 46c8 c830 30b1 b19c 9c90 9005 05ca ca5f 5fc0 c072 7293\n",
      "\n",
      "b9a2 a2c8 c81a 1a87 87a0 a01d [[1df4]] [[f44e]] 4e3c 3c80 8010 1001 01f5 f5c5 c5bd bd00 0000 0001 0101 0108 080a 0a91 91ee ee0c 0c69 69ac acf9 f970 7014 142f 2f41 416b 6ba8 a807 0706 0672 72ee eedc dc23 23a9 a909 09da da25 25de deba bacb cbd8 d8ad ad84 84e9 e949 498a 8a46 46c8 c830 30b1 b19c 9c90 9005 05ca ca5f 5fc0 c072 7293\n",
      "\n",
      "\n"
     ]
    },
    {
     "name": "stderr",
     "output_type": "stream",
     "text": [
      "[Succeeded / Failed / Skipped / Total] 25 / 0 / 1 / 26:  25%|██▌       | 25/100 [00:52<02:37,  2.11s/it]"
     ]
    },
    {
     "name": "stdout",
     "output_type": "stream",
     "text": [
      "--------------------------------------------- Result 26 ---------------------------------------------\n",
      "[[106 (100%)]] --> [[112 (97%)]]\n",
      "\n",
      "0ca4 [[a422]] [[22c8]] c8bc bcfd fd4a 4ac7 c71a 1a9a 9a50 5010 1000 003e 3ed1 d187 8700 0000 00f3 f362 62e9 e943 431e 1e34 342d 2d11 1107 0740 4013 1307 0764 6499 993a 3a8f 8fc9 c91d 1d49 4947 47e1 e1b9 b90d 0dc8 c88d 8dab abe3 e3c2 c266 66c4 c48b 8b9a 9a5f 5fa1 a1d9 d91c 1c7c 7c5f 5f7c 7c0f 0fad ad37 37c8 c89c 9c88 887d 7d7a\n",
      "\n",
      "0ca4 [[a421]] [[21c8]] c8bc bcfd fd4a 4ac7 c71a 1a9a 9a50 5010 1000 003e 3ed1 d187 8700 0000 00f3 f362 62e9 e943 431e 1e34 342d 2d11 1107 0740 4013 1307 0764 6499 993a 3a8f 8fc9 c91d 1d49 4947 47e1 e1b9 b90d 0dc8 c88d 8dab abe3 e3c2 c266 66c4 c48b 8b9a 9a5f 5fa1 a1d9 d91c 1c7c 7c5f 5f7c 7c0f 0fad ad37 37c8 c89c 9c88 887d 7d7a\n",
      "\n",
      "\n"
     ]
    },
    {
     "name": "stderr",
     "output_type": "stream",
     "text": [
      "[Succeeded / Failed / Skipped / Total] 26 / 0 / 2 / 28:  26%|██▌       | 26/100 [00:54<02:35,  2.10s/it]"
     ]
    },
    {
     "name": "stdout",
     "output_type": "stream",
     "text": [
      "--------------------------------------------- Result 27 ---------------------------------------------\n",
      "[[29 (100%)]] --> [[56 (91%)]]\n",
      "\n",
      "d2fc fc92 92fa faef efee ee93 935b 5b91 9112 1280 8018 18c4 c4f0 f0a0 a0ba ba00 0000 0001 0101 0108 080a 0a35 [[352d]] [[2dbd]] bd83 831c 1c99 99e0 e070 70cd cdd7 d743 43d1 d1bf bf27 27ff ff8a 8ab6 b6f2 f26b 6b4b 4bfb fb1c 1cc4 c4fa fadb dbb6 b6a4 a496 96d0 d05b 5be1 e123 2377 7763 6301 0140 4068 6894 94d6 d63d 3d7d 7da7 a7cf\n",
      "\n",
      "d2fc fc92 92fa faef efee ee93 935b 5b91 9112 1280 8018 18c4 c4f0 f0a0 a0ba ba00 0000 0001 0101 0108 080a 0a35 [[35b4]] [[b4bd]] bd83 831c 1c99 99e0 e070 70cd cdd7 d743 43d1 d1bf bf27 27ff ff8a 8ab6 b6f2 f26b 6b4b 4bfb fb1c 1cc4 c4fa fadb dbb6 b6a4 a496 96d0 d05b 5be1 e123 2377 7763 6301 0140 4068 6894 94d6 d63d 3d7d 7da7 a7cf\n",
      "\n",
      "\n",
      "--------------------------------------------- Result 28 ---------------------------------------------\n",
      "[[65 (50%)]] --> [[[SKIPPED]]]\n",
      "\n",
      "01bb bb25 259c 9c7e 7ee8 e8a4 a488 884a 4a9e 9e50 5018 1802 0201 014d 4dea ea00 0000 0014 1403 0303 0300 0001 0101 0117 1703 0303 0300 0045 4526 26cb cb99 9974 746d 6dbf bfde ded4 d49f 9f56 562c 2ca5 a540 40e6 e66d 6d36 36ba ba1e 1ed7 d714 1407 07de deed ed8d 8d5a 5a29 29d0 d037 3721 21d6 d63c 3c45 454a 4aa6 a6c7 c752\n",
      "\n",
      "\n"
     ]
    },
    {
     "name": "stderr",
     "output_type": "stream",
     "text": [
      "[Succeeded / Failed / Skipped / Total] 27 / 0 / 2 / 29:  27%|██▋       | 27/100 [00:56<02:31,  2.08s/it]"
     ]
    },
    {
     "name": "stdout",
     "output_type": "stream",
     "text": [
      "--------------------------------------------- Result 29 ---------------------------------------------\n",
      "[[13 (100%)]] --> [[58 (100%)]]\n",
      "\n",
      "[[c7fb]] [[fb3f]] 3f4f 4f22 22fd fde7 e772 72aa aaff ff50 5018 1800 008a 8a89 89d0 d000 0000 00c7 c721 211c 1c5b 5bbc bc82 8200 0011 11a5 a538 3859 5917 17c5 c5c5 c57b 7b74 749b 9be4 e46b 6bc4 c47d 7d13 1307 07d4 d494 9467 6727 274b 4b8b 8b91 91f6 f673 73f2 f2e2 e2b2 b2cf cf34 3452 529d 9d0f 0fc5 c5c4 c4cb cb58 58d8 d807 07a8\n",
      "\n",
      "[[c702]] [[023f]] 3f4f 4f22 22fd fde7 e772 72aa aaff ff50 5018 1800 008a 8a89 89d0 d000 0000 00c7 c721 211c 1c5b 5bbc bc82 8200 0011 11a5 a538 3859 5917 17c5 c5c5 c57b 7b74 749b 9be4 e46b 6bc4 c47d 7d13 1307 07d4 d494 9467 6727 274b 4b8b 8b91 91f6 f673 73f2 f2e2 e2b2 b2cf cf34 3452 529d 9d0f 0fc5 c5c4 c4cb cb58 58d8 d807 07a8\n",
      "\n",
      "\n"
     ]
    },
    {
     "name": "stderr",
     "output_type": "stream",
     "text": [
      "[Succeeded / Failed / Skipped / Total] 28 / 0 / 2 / 30:  28%|██▊       | 28/100 [00:58<02:29,  2.08s/it]"
     ]
    },
    {
     "name": "stdout",
     "output_type": "stream",
     "text": [
      "--------------------------------------------- Result 30 ---------------------------------------------\n",
      "[[35 (100%)]] --> [[118 (94%)]]\n",
      "\n",
      "[[01bb]] [[bbf4]] f4f7 f77b 7b1d 1d70 7099 99b3 b313 1380 8018 1808 0800 0098 9850 5000 0000 0001 0101 0108 080a 0a4b 4ba3 a3e9 e98d 8d59 59b3 b34a 4a47 4717 1703 0303 0300 0026 2660 601f 1f4b 4bdf df58 580a 0a51 51ca ca85 85f3 f3db db2e 2e9e 9e05 05c6 c690 90b9 b954 54ff ff73 7350 5068 6846 464e 4e19 199d 9ddb db8d 8d63 6394\n",
      "\n",
      "[[012c]] [[2cf4]] f4f7 f77b 7b1d 1d70 7099 99b3 b313 1380 8018 1808 0800 0098 9850 5000 0000 0001 0101 0108 080a 0a4b 4ba3 a3e9 e98d 8d59 59b3 b34a 4a47 4717 1703 0303 0300 0026 2660 601f 1f4b 4bdf df58 580a 0a51 51ca ca85 85f3 f3db db2e 2e9e 9e05 05c6 c690 90b9 b954 54ff ff73 7350 5068 6846 464e 4e19 199d 9ddb db8d 8d63 6394\n",
      "\n",
      "\n"
     ]
    },
    {
     "name": "stderr",
     "output_type": "stream",
     "text": [
      "[Succeeded / Failed / Skipped / Total] 29 / 0 / 2 / 31:  29%|██▉       | 29/100 [01:00<02:27,  2.07s/it]"
     ]
    },
    {
     "name": "stdout",
     "output_type": "stream",
     "text": [
      "--------------------------------------------- Result 31 ---------------------------------------------\n",
      "[[19 (100%)]] --> [[117 (100%)]]\n",
      "\n",
      "[[01bb]] [[bb5a]] 5a6f 6ff6 f6bf bfba bab9 b903 03af afb0 b010 1005 0589 891c 1c2b 2b00 0000 0001 0101 0108 080a 0a00 0017 1761 6123 23ff ff86 8641 4124 2401 0101 0105 050a 0aba bab8 b8fe fe07 07ba bab9 b903 03af\n",
      "\n",
      "[[01e6]] [[e65a]] 5a6f 6ff6 f6bf bfba bab9 b903 03af afb0 b010 1005 0589 891c 1c2b 2b00 0000 0001 0101 0108 080a 0a00 0017 1761 6123 23ff ff86 8641 4124 2401 0101 0105 050a 0aba bab8 b8fe fe07 07ba bab9 b903 03af\n",
      "\n",
      "\n"
     ]
    },
    {
     "name": "stderr",
     "output_type": "stream",
     "text": [
      "[Succeeded / Failed / Skipped / Total] 30 / 0 / 2 / 32:  30%|███       | 30/100 [01:01<02:24,  2.06s/it]"
     ]
    },
    {
     "name": "stdout",
     "output_type": "stream",
     "text": [
      "--------------------------------------------- Result 32 ---------------------------------------------\n",
      "[[52 (100%)]] --> [[108 (100%)]]\n",
      "\n",
      "[[d0ac]] [[ac81]] 8176 76ef ef12 1290 90a1 a10c 0cc6 c650 5010 1001 01f5 f567 6775 7500 0000 0013 13c7 c781 8108 086d 6d67 67d6 d6d4 d47d 7dee eeb5 b565 6523 23d1 d163 63e1 e1df df7a 7a03 03a4 a415 15f2 f254 5408 085e 5e44 44f3 f39c 9c82 82df dfed ed1e 1e2f 2f56 566b 6b94 94a0 a057 57b3 b399 994f 4f5c 5cfe fe66 66d6 d664 64b4\n",
      "\n",
      "[[d056]] [[5681]] 8176 76ef ef12 1290 90a1 a10c 0cc6 c650 5010 1001 01f5 f567 6775 7500 0000 0013 13c7 c781 8108 086d 6d67 67d6 d6d4 d47d 7dee eeb5 b565 6523 23d1 d163 63e1 e1df df7a 7a03 03a4 a415 15f2 f254 5408 085e 5e44 44f3 f39c 9c82 82df dfed ed1e 1e2f 2f56 566b 6b94 94a0 a057 57b3 b399 994f 4f5c 5cfe fe66 66d6 d664 64b4\n",
      "\n",
      "\n"
     ]
    },
    {
     "name": "stderr",
     "output_type": "stream",
     "text": [
      "[Succeeded / Failed / Skipped / Total] 31 / 0 / 2 / 33:  31%|███       | 31/100 [01:03<02:21,  2.06s/it]"
     ]
    },
    {
     "name": "stdout",
     "output_type": "stream",
     "text": [
      "--------------------------------------------- Result 33 ---------------------------------------------\n",
      "[[3 (100%)]] --> [[41 (91%)]]\n",
      "\n",
      "[[01bb]] [[bba2]] a2fc fc68 684f 4f0c 0cea eac7 c7b1 b1e0 e010 1008 0808 0853 5350 5000 0000 0001 0101 0105 0522 220c 0ced ed74 7411 110c 0cee ee58 5831 310c 0ced ed18 18d1 d10c 0ced ed3b 3b09 090c 0cec ec95 95a5 a50c 0ced ed13 131d 1d0c 0cec ec6d 6db9 b90c 0cec ec8f 8ff1\n",
      "\n",
      "[[0159]] [[59a2]] a2fc fc68 684f 4f0c 0cea eac7 c7b1 b1e0 e010 1008 0808 0853 5350 5000 0000 0001 0101 0105 0522 220c 0ced ed74 7411 110c 0cee ee58 5831 310c 0ced ed18 18d1 d10c 0ced ed3b 3b09 090c 0cec ec95 95a5 a50c 0ced ed13 131d 1d0c 0cec ec6d 6db9 b90c 0cec ec8f 8ff1\n",
      "\n",
      "\n"
     ]
    },
    {
     "name": "stderr",
     "output_type": "stream",
     "text": [
      "[Succeeded / Failed / Skipped / Total] 32 / 0 / 2 / 34:  32%|███▏      | 32/100 [01:05<02:20,  2.06s/it]"
     ]
    },
    {
     "name": "stdout",
     "output_type": "stream",
     "text": [
      "--------------------------------------------- Result 34 ---------------------------------------------\n",
      "[[21 (100%)]] --> [[68 (98%)]]\n",
      "\n",
      "c5cb cbf9 f989 892f 2f0e 0e9b 9b71 71bb bb66 6680 8010 1000 00eb eb0f 0fa6 a600 0000 0001 0101 0108 080a [[0aa2]] [[a29a]] 9a0d 0dce ce60 60f6 f6e0 e069 69f4 f4b1 b1d8 d8c5 c53d 3d39 39c1 c183 8358 58b0 b0f1 f1eb eb8b 8bb0 b0cd cda2 a2f9 f9fb fbde de62 628e 8ecb cb79 79cf cfab ab4b 4b6c 6c1f 1f17 17df dfaf af0e 0eb5 b516 165f\n",
      "\n",
      "c5cb cbf9 f989 892f 2f0e 0e9b 9b71 71bb bb66 6680 8010 1000 00eb eb0f 0fa6 a600 0000 0001 0101 0108 080a [[0a17]] [[179a]] 9a0d 0dce ce60 60f6 f6e0 e069 69f4 f4b1 b1d8 d8c5 c53d 3d39 39c1 c183 8358 58b0 b0f1 f1eb eb8b 8bb0 b0cd cda2 a2f9 f9fb fbde de62 628e 8ecb cb79 79cf cfab ab4b 4b6c 6c1f 1f17 17df dfaf af0e 0eb5 b516 165f\n",
      "\n",
      "\n"
     ]
    },
    {
     "name": "stderr",
     "output_type": "stream",
     "text": [
      "[Succeeded / Failed / Skipped / Total] 33 / 0 / 2 / 35:  33%|███▎      | 33/100 [01:08<02:18,  2.06s/it]"
     ]
    },
    {
     "name": "stdout",
     "output_type": "stream",
     "text": [
      "--------------------------------------------- Result 35 ---------------------------------------------\n",
      "[[57 (100%)]] --> [[80 (100%)]]\n",
      "\n",
      "efb7 b7ef ef3e 3e85 85a0 a037 376b 6b65 65b6 b650 5010 1000 [[0059]] [[590b]] 0b52 5200 0000 0017 1703 0303 0310 101a 1a6c 6c18 1863 638c 8c14 14fa fae3 e3d9 d9cf cf4c 4c43 4325 2569 69e6 e6ad ada7 a7fb fbaf af47 4702 0249 4920 20bb bb68 6853 5386 86ab ab2b 2ba3 a3ea ea8e 8ec7 c7f1 f1f9 f9c0 c0b9 b920 201b 1b9b 9bb7 b7ae ae7a\n",
      "\n",
      "efb7 b7ef ef3e 3e85 85a0 a037 376b 6b65 65b6 b650 5010 1000 [[003d]] [[3d0b]] 0b52 5200 0000 0017 1703 0303 0310 101a 1a6c 6c18 1863 638c 8c14 14fa fae3 e3d9 d9cf cf4c 4c43 4325 2569 69e6 e6ad ada7 a7fb fbaf af47 4702 0249 4920 20bb bb68 6853 5386 86ab ab2b 2ba3 a3ea ea8e 8ec7 c7f1 f1f9 f9c0 c0b9 b920 201b 1b9b 9bb7 b7ae ae7a\n",
      "\n",
      "\n"
     ]
    },
    {
     "name": "stderr",
     "output_type": "stream",
     "text": [
      "[Succeeded / Failed / Skipped / Total] 34 / 0 / 2 / 36:  34%|███▍      | 34/100 [01:10<02:16,  2.06s/it]"
     ]
    },
    {
     "name": "stdout",
     "output_type": "stream",
     "text": [
      "--------------------------------------------- Result 36 ---------------------------------------------\n",
      "[[58 (96%)]] --> [[113 (100%)]]\n",
      "\n",
      "f106 0621 21ff ff0a 0a77 7797 97b3 b3ff ff3f 3f50 5010 1000 [[007b]] [[7bb2]] b292 9200 0000 0016 1603 0303 0300 007a 7a02 0200 0000 0076 7603 0303 0358 58a8 a8dd dd93 93fb fb03 03ce ce80 8098 989f 9f3c 3cb3 b37f 7f1b 1b1d 1d6e 6e9f 9f30 303b 3b08 08e7 e7d7 d758 58ab abbb bb0c 0cf0 f083 83e2 e217 1701 014e 4e20 2026 26da da5d\n",
      "\n",
      "f106 0621 21ff ff0a 0a77 7797 97b3 b3ff ff3f 3f50 5010 1000 [[0017]] [[17b2]] b292 9200 0000 0016 1603 0303 0300 007a 7a02 0200 0000 0076 7603 0303 0358 58a8 a8dd dd93 93fb fb03 03ce ce80 8098 989f 9f3c 3cb3 b37f 7f1b 1b1d 1d6e 6e9f 9f30 303b 3b08 08e7 e7d7 d758 58ab abbb bb0c 0cf0 f083 83e2 e217 1701 014e 4e20 2026 26da da5d\n",
      "\n",
      "\n"
     ]
    },
    {
     "name": "stderr",
     "output_type": "stream",
     "text": [
      "[Succeeded / Failed / Skipped / Total] 35 / 0 / 2 / 37:  35%|███▌      | 35/100 [01:12<02:13,  2.06s/it]"
     ]
    },
    {
     "name": "stdout",
     "output_type": "stream",
     "text": [
      "--------------------------------------------- Result 37 ---------------------------------------------\n",
      "[[108 (91%)]] --> [[38 (94%)]]\n",
      "\n",
      "01bb bbc7 c7e7 e786 86b2 b2af af93 9319 1901 0150 5018 1804 [[0405]] [[05fe]] fe59 5900 0000 0017 1703 0303 0301 01ca cad3 d376 7680 80b9 b957 57dc dc5a 5aff ff1b 1b3f 3fc8 c8e6 e62d 2d8f 8f8e 8edb dbf5 f596 96c8 c8f7 f79c 9c42 42ed edbf bf45 4568 68c3 c3c5 c520 20b9 b9ae ae51 51b5 b5aa aae5 e52d 2d16 1695 95f5 f515 157b 7b45\n",
      "\n",
      "01bb bbc7 c7e7 e786 86b2 b2af af93 9319 1901 0150 5018 1804 [[0486]] [[86fe]] fe59 5900 0000 0017 1703 0303 0301 01ca cad3 d376 7680 80b9 b957 57dc dc5a 5aff ff1b 1b3f 3fc8 c8e6 e62d 2d8f 8f8e 8edb dbf5 f596 96c8 c8f7 f79c 9c42 42ed edbf bf45 4568 68c3 c3c5 c520 20b9 b9ae ae51 51b5 b5aa aae5 e52d 2d16 1695 95f5 f515 157b 7b45\n",
      "\n",
      "\n"
     ]
    },
    {
     "name": "stderr",
     "output_type": "stream",
     "text": [
      "[Succeeded / Failed / Skipped / Total] 36 / 0 / 2 / 38:  36%|███▌      | 36/100 [01:15<02:13,  2.09s/it]"
     ]
    },
    {
     "name": "stdout",
     "output_type": "stream",
     "text": [
      "--------------------------------------------- Result 38 ---------------------------------------------\n",
      "[[2 (100%)]] --> [[89 (100%)]]\n",
      "\n",
      "[[c616]] [[16af]] af26 26a3 a3fa fa42 42f7 f70d 0de0 e050 5010 1000 [[00c1]] [[c1bd]] bd1d 1d00 0000 0049 498f 8f70 70d0 d07a 7aff fff3 f369 69a0 a0df df8f 8f20 2038 3859 596c 6c11 11e4 e447 4798 98e9 e978 78d1 d165 659f 9f63 636f 6fda dac0 c0a2 a2be be79 790b 0bc9 c9ce ce91 9130 30ea eac8 c821 2142 42d9 d905 05c5 c5d2 d2d4 d48b 8b48\n",
      "\n",
      "[[c6a6]] [[a6af]] af26 26a3 a3fa fa42 42f7 f70d 0de0 e050 5010 1000 [[002a]] [[2abd]] bd1d 1d00 0000 0049 498f 8f70 70d0 d07a 7aff fff3 f369 69a0 a0df df8f 8f20 2038 3859 596c 6c11 11e4 e447 4798 98e9 e978 78d1 d165 659f 9f63 636f 6fda dac0 c0a2 a2be be79 790b 0bc9 c9ce ce91 9130 30ea eac8 c821 2142 42d9 d905 05c5 c5d2 d2d4 d48b 8b48\n",
      "\n",
      "\n"
     ]
    },
    {
     "name": "stderr",
     "output_type": "stream",
     "text": [
      "[Succeeded / Failed / Skipped / Total] 37 / 0 / 2 / 39:  37%|███▋      | 37/100 [01:17<02:12,  2.10s/it]"
     ]
    },
    {
     "name": "stdout",
     "output_type": "stream",
     "text": [
      "--------------------------------------------- Result 39 ---------------------------------------------\n",
      "[[26 (100%)]] --> [[58 (100%)]]\n",
      "\n",
      "e5d5 d553 53d1 d18c 8c94 94a7 a7fd fdc0 c0a2 a250 5010 1000 [[0044]] [[442c]] 2c64 6400 0000 000f 0f18 187a 7adc dca2 a225 25b6 b622 2240 40e8 e859 59c2 c274 74b4 b47b 7b80 806c 6c6a 6a18 183b 3bb1 b1fb fbd7 d72b 2bfd fd8e 8e72 7217 17fe fe9b 9b00 00c8 c8d4 d499 9954 5408 080c 0c22 2285 8572 7218 18de de82 82b7 b747 473c 3c06\n",
      "\n",
      "e5d5 d553 53d1 d18c 8c94 94a7 a7fd fdc0 c0a2 a250 5010 1000 [[007b]] [[7b2c]] 2c64 6400 0000 000f 0f18 187a 7adc dca2 a225 25b6 b622 2240 40e8 e859 59c2 c274 74b4 b47b 7b80 806c 6c6a 6a18 183b 3bb1 b1fb fbd7 d72b 2bfd fd8e 8e72 7217 17fe fe9b 9b00 00c8 c8d4 d499 9954 5408 080c 0c22 2285 8572 7218 18de de82 82b7 b747 473c 3c06\n",
      "\n",
      "\n"
     ]
    },
    {
     "name": "stderr",
     "output_type": "stream",
     "text": [
      "[Succeeded / Failed / Skipped / Total] 38 / 0 / 2 / 40:  38%|███▊      | 38/100 [01:19<02:09,  2.09s/it]"
     ]
    },
    {
     "name": "stdout",
     "output_type": "stream",
     "text": [
      "--------------------------------------------- Result 40 ---------------------------------------------\n",
      "[[4 (100%)]] --> [[91 (97%)]]\n",
      "\n",
      "[[aac5]] [[c530]] 3031 318e 8e92 924f 4fe3 e33f 3f55 5580 8010 1001 011b 1b88 88aa aa00 0000 0001 0101 0108 080a 0a32 328f 8fac ac01 0121 2113 13c0 c026 2603 0363 63a3 a30a 0ab8 b857 5759 5989 896f 6f05 05db dba5 a586 869e 9ebf bf06 06cf cfe1 e127 27ae aee1 e138 387b 7b14 148b 8b3a 3a9a 9aac ac0f 0f58 5892 9215 15cb cb57 5708\n",
      "\n",
      "[[aa07]] [[0730]] 3031 318e 8e92 924f 4fe3 e33f 3f55 5580 8010 1001 011b 1b88 88aa aa00 0000 0001 0101 0108 080a 0a32 328f 8fac ac01 0121 2113 13c0 c026 2603 0363 63a3 a30a 0ab8 b857 5759 5989 896f 6f05 05db dba5 a586 869e 9ebf bf06 06cf cfe1 e127 27ae aee1 e138 387b 7b14 148b 8b3a 3a9a 9aac ac0f 0f58 5892 9215 15cb cb57 5708\n",
      "\n",
      "\n"
     ]
    },
    {
     "name": "stderr",
     "output_type": "stream",
     "text": [
      "[Succeeded / Failed / Skipped / Total] 39 / 0 / 2 / 41:  39%|███▉      | 39/100 [01:21<02:07,  2.09s/it]"
     ]
    },
    {
     "name": "stdout",
     "output_type": "stream",
     "text": [
      "--------------------------------------------- Result 41 ---------------------------------------------\n",
      "[[50 (100%)]] --> [[9 (100%)]]\n",
      "\n",
      "ca00 00bb bb1b 1b91 91c6 c648 48a8 a84d 4df8 f850 5018 1800 [[0043]] [[43eb]] ebc3 c300 0000 0017 1703 0303 0304 0422 22c9 c91d 1d78 78de de40 4055 5516 1608 0815 1594 9445 45b5 b521 2134 3430 302a 2a65 65b1 b160 6068 6874 7410 1005 051d 1db0 b051 51e2 e212 1279 7938 38b6 b639 3961 619f 9f4e 4e0d 0df6 f63c 3ccf cf9d 9d29 299c\n",
      "\n",
      "ca00 00bb bb1b 1b91 91c6 c648 48a8 a84d 4df8 f850 5018 1800 [[001b]] [[1beb]] ebc3 c300 0000 0017 1703 0303 0304 0422 22c9 c91d 1d78 78de de40 4055 5516 1608 0815 1594 9445 45b5 b521 2134 3430 302a 2a65 65b1 b160 6068 6874 7410 1005 051d 1db0 b051 51e2 e212 1279 7938 38b6 b639 3961 619f 9f4e 4e0d 0df6 f63c 3ccf cf9d 9d29 299c\n",
      "\n",
      "\n"
     ]
    },
    {
     "name": "stderr",
     "output_type": "stream",
     "text": [
      "[Succeeded / Failed / Skipped / Total] 40 / 0 / 2 / 42:  40%|████      | 40/100 [01:23<02:05,  2.09s/it]"
     ]
    },
    {
     "name": "stdout",
     "output_type": "stream",
     "text": [
      "--------------------------------------------- Result 42 ---------------------------------------------\n",
      "[[119 (100%)]] --> [[105 (98%)]]\n",
      "\n",
      "[[c0ac]] [[acbf]] bff6 f6b3 b34a 4aa8 a839 3950 505a 5a50 5010 1002 0236 36ef ef43 4300 0000 00a1 a1c8 c8b7 b79e 9e93 937f 7f61 6104 04d9 d90c 0c8b 8bf4 f461 6124 24c7 c7ea ea50 5090 9036 3652 5299 9952 5214 144b 4b3a 3ab8 b838 385a 5af7 f7c6 c622 2290 90aa aa62 6213 1386 8692 9248 4887 8706 0654 5405 0598 988c 8cbb bbbd bd30\n",
      "\n",
      "[[c0df]] [[dfbf]] bff6 f6b3 b34a 4aa8 a839 3950 505a 5a50 5010 1002 0236 36ef ef43 4300 0000 00a1 a1c8 c8b7 b79e 9e93 937f 7f61 6104 04d9 d90c 0c8b 8bf4 f461 6124 24c7 c7ea ea50 5090 9036 3652 5299 9952 5214 144b 4b3a 3ab8 b838 385a 5af7 f7c6 c622 2290 90aa aa62 6213 1386 8692 9248 4887 8706 0654 5405 0598 988c 8cbb bbbd bd30\n",
      "\n",
      "\n"
     ]
    },
    {
     "name": "stderr",
     "output_type": "stream",
     "text": [
      "[Succeeded / Failed / Skipped / Total] 41 / 0 / 2 / 43:  41%|████      | 41/100 [01:25<02:03,  2.09s/it]"
     ]
    },
    {
     "name": "stdout",
     "output_type": "stream",
     "text": [
      "--------------------------------------------- Result 43 ---------------------------------------------\n",
      "[[17 (99%)]] --> [[0 (100%)]]\n",
      "\n",
      "e30b 0bb5 b51a 1a0b 0bc2 c2ba bae7 e730 30e8 e880 8018 1800 00d9 d9ec ec16 1600 0000 0001 0101 0108 080a 0a68 6839 392a 2af6 f645 45e5 e58d 8d56 5617 1703 0303 [[0302]] [[0212]] 128a 8aac ac96 9605 0546 46dc dc04 0424 24e4 e4e0 e084 84b6 b679 799f 9f76 76cb cbf3 f34d 4dec ecbe bea5 a539 3930 30b2 b29c 9caf af5f 5ffe fee7 e71e\n",
      "\n",
      "e30b 0bb5 b51a 1a0b 0bc2 c2ba bae7 e730 30e8 e880 8018 1800 00d9 d9ec ec16 1600 0000 0001 0101 0108 080a 0a68 6839 392a 2af6 f645 45e5 e58d 8d56 5617 1703 0303 [[0327]] [[2712]] 128a 8aac ac96 9605 0546 46dc dc04 0424 24e4 e4e0 e084 84b6 b679 799f 9f76 76cb cbf3 f34d 4dec ecbe bea5 a539 3930 30b2 b29c 9caf af5f 5ffe fee7 e71e\n",
      "\n",
      "\n"
     ]
    },
    {
     "name": "stderr",
     "output_type": "stream",
     "text": [
      "[Succeeded / Failed / Skipped / Total] 42 / 0 / 2 / 44:  42%|████▏     | 42/100 [01:27<02:00,  2.08s/it]"
     ]
    },
    {
     "name": "stdout",
     "output_type": "stream",
     "text": [
      "--------------------------------------------- Result 44 ---------------------------------------------\n",
      "[[102 (100%)]] --> [[111 (100%)]]\n",
      "\n",
      "[[d0d7]] [[d797]] 97de de33 33a1 a18f 8f32 32c7 c75f 5f80 8010 1003 030a 0a2f 2fa6 a600 0000 0001 0101 0108 080a 0a04 0430 30cc ccf0 f048 480a 0a2f 2fde de03 03c1 c109 0971 71a4 a473 73f1 f167 677a 7a5f 5feb ebe7 e77e 7e85 85e5 e5b3 b30c 0ca9 a976 7645 4500 0011 119c 9c43 43e3 e34c 4c29 2985 850e 0e13 137a 7aa2 a242 42a2 a2e6\n",
      "\n",
      "[[d055]] [[5597]] 97de de33 33a1 a18f 8f32 32c7 c75f 5f80 8010 1003 030a 0a2f 2fa6 a600 0000 0001 0101 0108 080a 0a04 0430 30cc ccf0 f048 480a 0a2f 2fde de03 03c1 c109 0971 71a4 a473 73f1 f167 677a 7a5f 5feb ebe7 e77e 7e85 85e5 e5b3 b30c 0ca9 a976 7645 4500 0011 119c 9c43 43e3 e34c 4c29 2985 850e 0e13 137a 7aa2 a242 42a2 a2e6\n",
      "\n",
      "\n"
     ]
    },
    {
     "name": "stderr",
     "output_type": "stream",
     "text": [
      "[Succeeded / Failed / Skipped / Total] 43 / 0 / 2 / 45:  43%|████▎     | 43/100 [01:29<01:58,  2.08s/it]"
     ]
    },
    {
     "name": "stdout",
     "output_type": "stream",
     "text": [
      "--------------------------------------------- Result 45 ---------------------------------------------\n",
      "[[64 (100%)]] --> [[82 (100%)]]\n",
      "\n",
      "ed68 [[68b6]] [[b6b9]] b975 7506 065c 5c36 36a7 a7df df50 5018 1800 0045 45f4 f46f 6f00 0000 000e 0eb2 b288 884d 4d1e 1e4d 4df1 f1f5 f57b 7bc2 c262 626c 6c06 062c 2c51 51e2 e217 1703 0303 0300 001a 1a7b 7b29 29ff ff0f 0f32 32b2 b2fc fc9d 9d73 7323 23c6 c61e 1e06 0635 35b7 b77f 7f4b 4b1b 1b54 547b 7b9c 9c8d 8d90 908d 8d5d 5dab\n",
      "\n",
      "ed68 [[68ff]] [[ffb9]] b975 7506 065c 5c36 36a7 a7df df50 5018 1800 0045 45f4 f46f 6f00 0000 000e 0eb2 b288 884d 4d1e 1e4d 4df1 f1f5 f57b 7bc2 c262 626c 6c06 062c 2c51 51e2 e217 1703 0303 0300 001a 1a7b 7b29 29ff ff0f 0f32 32b2 b2fc fc9d 9d73 7323 23c6 c61e 1e06 0635 35b7 b77f 7f4b 4b1b 1b54 547b 7b9c 9c8d 8d90 908d 8d5d 5dab\n",
      "\n",
      "\n"
     ]
    },
    {
     "name": "stderr",
     "output_type": "stream",
     "text": [
      "[Succeeded / Failed / Skipped / Total] 44 / 0 / 2 / 46:  44%|████▍     | 44/100 [01:31<01:56,  2.08s/it]"
     ]
    },
    {
     "name": "stdout",
     "output_type": "stream",
     "text": [
      "--------------------------------------------- Result 46 ---------------------------------------------\n",
      "[[18 (100%)]] --> [[118 (100%)]]\n",
      "\n",
      "[[f654]] [[54b1]] b135 35b1 b168 687a 7a99 998f 8fd6 d650 5010 1000 0016 1640 4026 2600 0000 0093 93d8 d8c3 c3f6 f6ea eab2 b2fd fdc5 c554 542c 2c27 27e8 e876 762c 2c15 1553 53c7 c784 84e8 e864 6412 124a 4a25 2512 12a9 a9b9 b949 4988 88f1 f13b 3b68 6855 55ef efd3 d382 82be be1c 1c33 3329 2997 9799 9934 34b3 b331 314d 4d5d 5df8\n",
      "\n",
      "[[f678]] [[78b1]] b135 35b1 b168 687a 7a99 998f 8fd6 d650 5010 1000 0016 1640 4026 2600 0000 0093 93d8 d8c3 c3f6 f6ea eab2 b2fd fdc5 c554 542c 2c27 27e8 e876 762c 2c15 1553 53c7 c784 84e8 e864 6412 124a 4a25 2512 12a9 a9b9 b949 4988 88f1 f13b 3b68 6855 55ef efd3 d382 82be be1c 1c33 3329 2997 9799 9934 34b3 b331 314d 4d5d 5df8\n",
      "\n",
      "\n"
     ]
    },
    {
     "name": "stderr",
     "output_type": "stream",
     "text": [
      "[Succeeded / Failed / Skipped / Total] 45 / 0 / 2 / 47:  45%|████▌     | 45/100 [01:33<01:54,  2.08s/it]"
     ]
    },
    {
     "name": "stdout",
     "output_type": "stream",
     "text": [
      "--------------------------------------------- Result 47 ---------------------------------------------\n",
      "[[117 (100%)]] --> [[32 (100%)]]\n",
      "\n",
      "cb09 09a9 a991 9120 2087 87f8 f87b 7b23 2315 1580 8010 1001 01e6 e681 8108 0800 0000 0001 0101 0108 080a [[0a09]] [[09d6]] d628 28bc bc54 5407 0769 691c 1cff ff60 605f 5ff4 f431 31c2 c2b6 b6f5 f528 28b3 b3cc ccdb db6c 6cb4 b42d 2d78 780d 0d9f 9fcb cb83 83bd bd74 7419 19e6 e605 052f 2fec ec64 6426 264f 4f4a 4ad8 d8c1 c1f8 f86c\n",
      "\n",
      "cb09 09a9 a991 9120 2087 87f8 f87b 7b23 2315 1580 8010 1001 01e6 e681 8108 0800 0000 0001 0101 0108 080a [[0a38]] [[38d6]] d628 28bc bc54 5407 0769 691c 1cff ff60 605f 5ff4 f431 31c2 c2b6 b6f5 f528 28b3 b3cc ccdb db6c 6cb4 b42d 2d78 780d 0d9f 9fcb cb83 83bd bd74 7419 19e6 e605 052f 2fec ec64 6426 264f 4f4a 4ad8 d8c1 c1f8 f86c\n",
      "\n",
      "\n"
     ]
    },
    {
     "name": "stderr",
     "output_type": "stream",
     "text": [
      "[Succeeded / Failed / Skipped / Total] 46 / 0 / 2 / 48:  46%|████▌     | 46/100 [01:35<01:52,  2.08s/it]"
     ]
    },
    {
     "name": "stdout",
     "output_type": "stream",
     "text": [
      "--------------------------------------------- Result 48 ---------------------------------------------\n",
      "[[26 (100%)]] --> [[94 (98%)]]\n",
      "\n",
      "[[01bb]] [[bbee]] ee7f 7fa5 a540 40d9 d9f6 f6fb fbc8 c850 5018 1804 0404 0435 35cc cc00 0000 0017 1703 0303 0300 0077 77af af33 33ef efd8 d8ec ecf3 f395 952b 2bb0 b01b 1bbc bc7c 7caf afc1 c13d 3d37 37cf cffb fb65 6528 286b 6b13 13a2 a2e2 e27f 7f61 61b6 b67f 7fcf cfb7 b786 86f1 f17f 7f7c 7cad ad06 0666 6657 57b6 b67e 7e40 4000\n",
      "\n",
      "[[0178]] [[78ee]] ee7f 7fa5 a540 40d9 d9f6 f6fb fbc8 c850 5018 1804 0404 0435 35cc cc00 0000 0017 1703 0303 0300 0077 77af af33 33ef efd8 d8ec ecf3 f395 952b 2bb0 b01b 1bbc bc7c 7caf afc1 c13d 3d37 37cf cffb fb65 6528 286b 6b13 13a2 a2e2 e27f 7f61 61b6 b67f 7fcf cfb7 b786 86f1 f17f 7f7c 7cad ad06 0666 6657 57b6 b67e 7e40 4000\n",
      "\n",
      "\n"
     ]
    },
    {
     "name": "stderr",
     "output_type": "stream",
     "text": [
      "[Succeeded / Failed / Skipped / Total] 47 / 0 / 2 / 49:  47%|████▋     | 47/100 [01:40<01:53,  2.14s/it]"
     ]
    },
    {
     "name": "stdout",
     "output_type": "stream",
     "text": [
      "--------------------------------------------- Result 49 ---------------------------------------------\n",
      "[[55 (100%)]] --> [[102 (96%)]]\n",
      "\n",
      "abd9 [[d900]] [[00a3]] a37c 7c85 85ad ad5f 5f28 2869 6980 8018 1802 0243 4352 5213 1300 0000 0001 0101 0108 080a [[0a04]] [[04b5]] [[b599]] 9909 0900 0027 270b 0ba9 a9c9 c982 8244 447c 7c36 36c0 c00c 0c2c 2c50 5046 4683 8340 405b 5b2f 2f27 27af af3c 3c0d 0dcc ccde de46 4628 28d9 d943 436b 6b10 10f4 f488 88ae aea7 a78e 8eca ca82 8266 6684\n",
      "\n",
      "abd9 [[d9dd]] [[dda3]] a37c 7c85 85ad ad5f 5f28 2869 6980 8018 1802 0243 4352 5213 1300 0000 0001 0101 0108 080a [[0aa2]] [[a296]] [[9699]] 9909 0900 0027 270b 0ba9 a9c9 c982 8244 447c 7c36 36c0 c00c 0c2c 2c50 5046 4683 8340 405b 5b2f 2f27 27af af3c 3c0d 0dcc ccde de46 4628 28d9 d943 436b 6b10 10f4 f488 88ae aea7 a78e 8eca ca82 8266 6684\n",
      "\n",
      "\n"
     ]
    },
    {
     "name": "stderr",
     "output_type": "stream",
     "text": [
      "[Succeeded / Failed / Skipped / Total] 48 / 0 / 2 / 50:  48%|████▊     | 48/100 [01:42<01:51,  2.14s/it]"
     ]
    },
    {
     "name": "stdout",
     "output_type": "stream",
     "text": [
      "--------------------------------------------- Result 50 ---------------------------------------------\n",
      "[[105 (100%)]] --> [[112 (100%)]]\n",
      "\n",
      "[[8d76]] [[7633]] 33f4 f4d5 d574 74cc cc87 87e5 e5d1 d150 5010 1000 0053 53f6 f64b 4b00 0000 008d 8d56 5618 18e5 e5be be01 01e1 e176 7663 6383 83ae ae7b 7b11 1145 459b 9b41 4185 8520 20b2 b221 2142 42c7 c763 63e7 e734 345a 5a92 9227 271c 1c88 885c 5c49 49fd fdd5 d5b4 b4fe fe54 54a2 a21a 1ac1 c1b1 b11e 1e3a 3a5a 5ab2 b241 416f\n",
      "\n",
      "[[8d2c]] [[2c33]] 33f4 f4d5 d574 74cc cc87 87e5 e5d1 d150 5010 1000 0053 53f6 f64b 4b00 0000 008d 8d56 5618 18e5 e5be be01 01e1 e176 7663 6383 83ae ae7b 7b11 1145 459b 9b41 4185 8520 20b2 b221 2142 42c7 c763 63e7 e734 345a 5a92 9227 271c 1c88 885c 5c49 49fd fdd5 d5b4 b4fe fe54 54a2 a21a 1ac1 c1b1 b11e 1e3a 3a5a 5ab2 b241 416f\n",
      "\n",
      "\n"
     ]
    },
    {
     "name": "stderr",
     "output_type": "stream",
     "text": [
      "[Succeeded / Failed / Skipped / Total] 49 / 0 / 2 / 51:  49%|████▉     | 49/100 [01:44<01:48,  2.13s/it]"
     ]
    },
    {
     "name": "stdout",
     "output_type": "stream",
     "text": [
      "--------------------------------------------- Result 51 ---------------------------------------------\n",
      "[[58 (100%)]] --> [[57 (100%)]]\n",
      "\n",
      "ead8 d8dc dc09 09ce ce96 96e4 e481 818e 8ebe be50 5010 1000 [[0088]] [[8867]] 679e 9e00 0000 002e 2e7b 7b0b 0b25 2568 68f8 f826 2683 83dc dc05 0527 27f5 f54a 4aa9 a919 19b0 b0ef ef7a 7a80 8062 62ee eec3 c3cd cdb6 b66d 6dd2 d21b 1b50 5046 4602 027c 7cf4 f449 497b 7be5 e575 75c5 c584 8493 931d 1dac acf3 f3c9 c921 21ee ee43 437a\n",
      "\n",
      "ead8 d8dc dc09 09ce ce96 96e4 e481 818e 8ebe be50 5010 1000 [[0057]] [[5767]] 679e 9e00 0000 002e 2e7b 7b0b 0b25 2568 68f8 f826 2683 83dc dc05 0527 27f5 f54a 4aa9 a919 19b0 b0ef ef7a 7a80 8062 62ee eec3 c3cd cdb6 b66d 6dd2 d21b 1b50 5046 4602 027c 7cf4 f449 497b 7be5 e575 75c5 c584 8493 931d 1dac acf3 f3c9 c921 21ee ee43 437a\n",
      "\n",
      "\n"
     ]
    },
    {
     "name": "stderr",
     "output_type": "stream",
     "text": [
      "[Succeeded / Failed / Skipped / Total] 50 / 0 / 2 / 52:  50%|█████     | 50/100 [01:45<01:45,  2.12s/it]"
     ]
    },
    {
     "name": "stdout",
     "output_type": "stream",
     "text": [
      "--------------------------------------------- Result 52 ---------------------------------------------\n",
      "[[2 (100%)]] --> [[70 (100%)]]\n",
      "\n",
      "[[c2e1]] [[e1b3]] b343 437a 7a05 05de de24 2426 26b2 b250 5010 1000 00c9 c99f 9fe2 e200 0000 0033 3348 481c 1c5f 5f4f 4f46 46ac ac91 91e0 e06a 6a03 0392 9201 0162 6279 792e 2e48 48c5 c53d 3d62 6238 38df df93 937d 7d04 049f 9f43 43cc cc13 13f9 f995 95e7 e7b4 b440 4045 4595 9552 528a 8a0e 0e85 85fb fb57 57fa faf5 f596 96fa fa5b\n",
      "\n",
      "[[c2a3]] [[a3b3]] b343 437a 7a05 05de de24 2426 26b2 b250 5010 1000 00c9 c99f 9fe2 e200 0000 0033 3348 481c 1c5f 5f4f 4f46 46ac ac91 91e0 e06a 6a03 0392 9201 0162 6279 792e 2e48 48c5 c53d 3d62 6238 38df df93 937d 7d04 049f 9f43 43cc cc13 13f9 f995 95e7 e7b4 b440 4045 4595 9552 528a 8a0e 0e85 85fb fb57 57fa faf5 f596 96fa fa5b\n",
      "\n",
      "\n"
     ]
    },
    {
     "name": "stderr",
     "output_type": "stream",
     "text": [
      "[Succeeded / Failed / Skipped / Total] 51 / 0 / 2 / 53:  51%|█████     | 51/100 [01:47<01:43,  2.11s/it]"
     ]
    },
    {
     "name": "stdout",
     "output_type": "stream",
     "text": [
      "--------------------------------------------- Result 53 ---------------------------------------------\n",
      "[[81 (100%)]] --> [[78 (99%)]]\n",
      "\n",
      "[[d804]] [[04df]] df22 222e 2e0d 0d01 0198 98b6 b665 6550 5010 1004 0417 17a0 a080 8000 0000 00cb cb53 53d9 d9de de43 4353 538e 8e51 51e8 e841 41ee ee43 4379 7955 555d 5dc5 c5a6 a652 52ef efc3 c3db db81 81bc bca8 a837 372b 2b6d 6d4e 4e93 93ca ca53 5310 10d1 d114 1432 3237 3751 5174 74a6 a675 755b 5b1a 1a92 9204 0472 7226 2681\n",
      "\n",
      "[[d826]] [[26df]] df22 222e 2e0d 0d01 0198 98b6 b665 6550 5010 1004 0417 17a0 a080 8000 0000 00cb cb53 53d9 d9de de43 4353 538e 8e51 51e8 e841 41ee ee43 4379 7955 555d 5dc5 c5a6 a652 52ef efc3 c3db db81 81bc bca8 a837 372b 2b6d 6d4e 4e93 93ca ca53 5310 10d1 d114 1432 3237 3751 5174 74a6 a675 755b 5b1a 1a92 9204 0472 7226 2681\n",
      "\n",
      "\n"
     ]
    },
    {
     "name": "stderr",
     "output_type": "stream",
     "text": [
      "[Succeeded / Failed / Skipped / Total] 52 / 0 / 2 / 54:  52%|█████▏    | 52/100 [01:49<01:40,  2.10s/it]"
     ]
    },
    {
     "name": "stdout",
     "output_type": "stream",
     "text": [
      "--------------------------------------------- Result 54 ---------------------------------------------\n",
      "[[59 (100%)]] --> [[16 (100%)]]\n",
      "\n",
      "[[35ed]] [[ed58]] 58ac ac4d 4df2 f278 7867 6732 328b 8b50 5010 1002 0211 11e4 e4fe fe00 0000 001a 1a61 6184 84bd bdd8 d81a 1adf dfe1 e1a6 a6af af2e 2e96 96bc bc0d 0d72 7280 80dd dd41 413b 3b9c 9c81 81de de13 1368 68d8 d834 3408 0892 92c7 c7fa fa8b 8b25 253f 3f27 2780 8018 1803 0331 3190 90c6 c6b7 b75f 5f3f 3f9d 9d59 5918 1838\n",
      "\n",
      "[[351c]] [[1c58]] 58ac ac4d 4df2 f278 7867 6732 328b 8b50 5010 1002 0211 11e4 e4fe fe00 0000 001a 1a61 6184 84bd bdd8 d81a 1adf dfe1 e1a6 a6af af2e 2e96 96bc bc0d 0d72 7280 80dd dd41 413b 3b9c 9c81 81de de13 1368 68d8 d834 3408 0892 92c7 c7fa fa8b 8b25 253f 3f27 2780 8018 1803 0331 3190 90c6 c6b7 b75f 5f3f 3f9d 9d59 5918 1838\n",
      "\n",
      "\n"
     ]
    },
    {
     "name": "stderr",
     "output_type": "stream",
     "text": [
      "[Succeeded / Failed / Skipped / Total] 53 / 0 / 2 / 55:  53%|█████▎    | 53/100 [01:50<01:38,  2.09s/it]"
     ]
    },
    {
     "name": "stdout",
     "output_type": "stream",
     "text": [
      "--------------------------------------------- Result 55 ---------------------------------------------\n",
      "[[7 (100%)]] --> [[96 (100%)]]\n",
      "\n",
      "[[01bb]] [[bb48]] 48ab abd4 d4a3 a325 25a5 a559 59ca ca50 5018 1800 0087 878e 8e74 7400 0000 0017 1703 0303 0300 0085 855d 5d68 68da da9e 9e09 097a 7a7d 7dd7 d725 25ab ab40 40bc bcda da78 787c 7c01 012f 2fbf bf41 410a 0a3e 3ee0 e0e2 e259 5922 2237 3721 2185 856c 6c32 32ad adcf cf1c 1c1a 1a53 53c8 c8d4 d46f 6f65 6595 9522 2220\n",
      "\n",
      "[[0167]] [[6748]] 48ab abd4 d4a3 a325 25a5 a559 59ca ca50 5018 1800 0087 878e 8e74 7400 0000 0017 1703 0303 0300 0085 855d 5d68 68da da9e 9e09 097a 7a7d 7dd7 d725 25ab ab40 40bc bcda da78 787c 7c01 012f 2fbf bf41 410a 0a3e 3ee0 e0e2 e259 5922 2237 3721 2185 856c 6c32 32ad adcf cf1c 1c1a 1a53 53c8 c8d4 d46f 6f65 6595 9522 2220\n",
      "\n",
      "\n"
     ]
    },
    {
     "name": "stderr",
     "output_type": "stream",
     "text": [
      "[Succeeded / Failed / Skipped / Total] 54 / 0 / 2 / 56:  54%|█████▍    | 54/100 [01:52<01:35,  2.08s/it]"
     ]
    },
    {
     "name": "stdout",
     "output_type": "stream",
     "text": [
      "--------------------------------------------- Result 56 ---------------------------------------------\n",
      "[[14 (100%)]] --> [[47 (100%)]]\n",
      "\n",
      "c1f3 f33c 3cff ff69 69da dafa fa32 32a7 a70f 0f50 5010 1000 [[0039]] [[3933]] 332f 2f00 0000 0016 1603 0303 0300 009b 9b02 0200 0000 0097 9703 0303 033e 3e8a 8a8c 8c10 10f2 f2fb fbad ad74 74e0 e0bc bce7 e75c 5c09 099b 9b2f 2f8b 8b58 585c 5cbd bd24 2476 761b 1be3 e30d 0df6 f615 15ec eca7 a770 70f3 f3e4 e46f 6f20 2059 59d6 d647\n",
      "\n",
      "c1f3 f33c 3cff ff69 69da dafa fa32 32a7 a70f 0f50 5010 1000 [[008c]] [[8c33]] 332f 2f00 0000 0016 1603 0303 0300 009b 9b02 0200 0000 0097 9703 0303 033e 3e8a 8a8c 8c10 10f2 f2fb fbad ad74 74e0 e0bc bce7 e75c 5c09 099b 9b2f 2f8b 8b58 585c 5cbd bd24 2476 761b 1be3 e30d 0df6 f615 15ec eca7 a770 70f3 f3e4 e46f 6f20 2059 59d6 d647\n",
      "\n",
      "\n"
     ]
    },
    {
     "name": "stderr",
     "output_type": "stream",
     "text": [
      "[Succeeded / Failed / Skipped / Total] 55 / 0 / 2 / 57:  55%|█████▌    | 55/100 [01:53<01:33,  2.07s/it]"
     ]
    },
    {
     "name": "stdout",
     "output_type": "stream",
     "text": [
      "--------------------------------------------- Result 57 ---------------------------------------------\n",
      "[[71 (100%)]] --> [[68 (99%)]]\n",
      "\n",
      "01bb bb06 [[0683]] [[83cf]] cf24 2400 0073 73fa fab3 b3f0 f010 109b 9bfe fe5c 5c33 3300 0000 0001 0101 0108 080a 0a19 1964 64a4 a4ec ec81 81c1 c1e8 e8e8 e801 0101 0105 051a 1a00 008a 8a18 189b 9b00 008a 8aef ef8b 8b00 008a 8af5 f533 3300 008a 8afa fadb db00 0087 8777 7783 8300 008a 8a12 12f3\n",
      "\n",
      "01bb bb06 [[0644]] [[44cf]] cf24 2400 0073 73fa fab3 b3f0 f010 109b 9bfe fe5c 5c33 3300 0000 0001 0101 0108 080a 0a19 1964 64a4 a4ec ec81 81c1 c1e8 e8e8 e801 0101 0105 051a 1a00 008a 8a18 189b 9b00 008a 8aef ef8b 8b00 008a 8af5 f533 3300 008a 8afa fadb db00 0087 8777 7783 8300 008a 8a12 12f3\n",
      "\n",
      "\n"
     ]
    },
    {
     "name": "stderr",
     "output_type": "stream",
     "text": [
      "[Succeeded / Failed / Skipped / Total] 56 / 0 / 2 / 58:  56%|█████▌    | 56/100 [01:55<01:30,  2.06s/it]"
     ]
    },
    {
     "name": "stdout",
     "output_type": "stream",
     "text": [
      "--------------------------------------------- Result 58 ---------------------------------------------\n",
      "[[23 (100%)]] --> [[40 (97%)]]\n",
      "\n",
      "[[d740]] [[404a]] 4aaf af79 793f 3f06 06a2 a228 2823 2350 5010 1000 0043 43f0 f08e 8e00 0000 00dd ddae aef1 f172 72c0 c00d 0d0e 0ecb cb14 1422 222e 2ef5 f557 5710 1095 95c2 c2cf cffa fa44 4491 91a1 a16e 6eaf af2e 2e97 97d7 d71d 1dad adec ec09 0904 0462 62ac ac0e 0e1e 1e63 63cc cc07 075e 5eaa aa5b 5b45 453d 3d4b 4bc8 c819 196c\n",
      "\n",
      "[[d7a2]] [[a24a]] 4aaf af79 793f 3f06 06a2 a228 2823 2350 5010 1000 0043 43f0 f08e 8e00 0000 00dd ddae aef1 f172 72c0 c00d 0d0e 0ecb cb14 1422 222e 2ef5 f557 5710 1095 95c2 c2cf cffa fa44 4491 91a1 a16e 6eaf af2e 2e97 97d7 d71d 1dad adec ec09 0904 0462 62ac ac0e 0e1e 1e63 63cc cc07 075e 5eaa aa5b 5b45 453d 3d4b 4bc8 c819 196c\n",
      "\n",
      "\n"
     ]
    },
    {
     "name": "stderr",
     "output_type": "stream",
     "text": [
      "[Succeeded / Failed / Skipped / Total] 57 / 0 / 2 / 59:  57%|█████▋    | 57/100 [01:56<01:27,  2.04s/it]"
     ]
    },
    {
     "name": "stdout",
     "output_type": "stream",
     "text": [
      "--------------------------------------------- Result 59 ---------------------------------------------\n",
      "[[66 (100%)]] --> [[2 (100%)]]\n",
      "\n",
      "[[b822]] [[221a]] 1a6f 6fc8 c8e9 e9fc fca9 a946 4633 3380 8010 1000 00d8 d800 00fa fa00 0000 0001 0101 0108 080a 0a87 8798 98a6 a6ef ef00 000a 0a9d 9d08 0829 2986 86bc bcb0 b02e 2e3f 3f85 853e 3e76 7647 47e6 e65c 5cd9 d993 93b0 b006 068d 8db6 b67a 7a0f 0f00 0011 11d6 d67b 7bc1 c1e6 e692 920c 0c1d 1d2e 2e59 5916 16fe fee0 e025\n",
      "\n",
      "[[b874]] [[741a]] 1a6f 6fc8 c8e9 e9fc fca9 a946 4633 3380 8010 1000 00d8 d800 00fa fa00 0000 0001 0101 0108 080a 0a87 8798 98a6 a6ef ef00 000a 0a9d 9d08 0829 2986 86bc bcb0 b02e 2e3f 3f85 853e 3e76 7647 47e6 e65c 5cd9 d993 93b0 b006 068d 8db6 b67a 7a0f 0f00 0011 11d6 d67b 7bc1 c1e6 e692 920c 0c1d 1d2e 2e59 5916 16fe fee0 e025\n",
      "\n",
      "\n"
     ]
    },
    {
     "name": "stderr",
     "output_type": "stream",
     "text": [
      "[Succeeded / Failed / Skipped / Total] 58 / 0 / 2 / 60:  58%|█████▊    | 58/100 [01:57<01:25,  2.03s/it]"
     ]
    },
    {
     "name": "stdout",
     "output_type": "stream",
     "text": [
      "--------------------------------------------- Result 60 ---------------------------------------------\n",
      "[[51 (100%)]] --> [[118 (98%)]]\n",
      "\n",
      "[[01bb]] [[bbe6]] e612 120e 0e8d 8ddb db23 232c 2c2b 2b80 8010 1008 0800 0081 8147 4700 0000 0001 0101 0108 080a 0a09 0947 4797 974f 4fc6 c692 92e0 e076 7699 99ed edfe fe94 942b 2b02 02a1 a197 9749 494a 4aa8 a86d 6daa aa43 4311 11bd bdd4 d421 2130 3099 9953 53fb fbd0 d034 34b7 b747 470f 0f51 51ed ed3d 3d03 03a2 a2a1 a180 809c\n",
      "\n",
      "[[0157]] [[57e6]] e612 120e 0e8d 8ddb db23 232c 2c2b 2b80 8010 1008 0800 0081 8147 4700 0000 0001 0101 0108 080a 0a09 0947 4797 974f 4fc6 c692 92e0 e076 7699 99ed edfe fe94 942b 2b02 02a1 a197 9749 494a 4aa8 a86d 6daa aa43 4311 11bd bdd4 d421 2130 3099 9953 53fb fbd0 d034 34b7 b747 470f 0f51 51ed ed3d 3d03 03a2 a2a1 a180 809c\n",
      "\n",
      "\n"
     ]
    },
    {
     "name": "stderr",
     "output_type": "stream",
     "text": [
      "[Succeeded / Failed / Skipped / Total] 59 / 0 / 2 / 61:  59%|█████▉    | 59/100 [01:59<01:23,  2.03s/it]"
     ]
    },
    {
     "name": "stdout",
     "output_type": "stream",
     "text": [
      "--------------------------------------------- Result 61 ---------------------------------------------\n",
      "[[3 (100%)]] --> [[89 (100%)]]\n",
      "\n",
      "c684 8494 9443 43e1 e189 8919 1917 17b7 b7c9 c950 5010 1000 [[0059]] [[595c]] 5cbb bb00 0000 002c 2c42 42ec ec37 372b 2bed ed71 715b 5b8b 8bf6 f678 78e4 e4c9 c900 00ff ff87 87b0 b0a0 a0ac ac96 96ee ee18 18b8 b8c2 c244 44a6 a682 82b0 b0d5 d585 85b1 b142 42ad ad12 12a5 a553 5342 427f 7f76 76d4 d4d2 d210 1052 52cb cb94 9430 30fe\n",
      "\n",
      "c684 8494 9443 43e1 e189 8919 1917 17b7 b7c9 c950 5010 1000 [[002a]] [[2a5c]] 5cbb bb00 0000 002c 2c42 42ec ec37 372b 2bed ed71 715b 5b8b 8bf6 f678 78e4 e4c9 c900 00ff ff87 87b0 b0a0 a0ac ac96 96ee ee18 18b8 b8c2 c244 44a6 a682 82b0 b0d5 d585 85b1 b142 42ad ad12 12a5 a553 5342 427f 7f76 76d4 d4d2 d210 1052 52cb cb94 9430 30fe\n",
      "\n",
      "\n"
     ]
    },
    {
     "name": "stderr",
     "output_type": "stream",
     "text": [
      "[Succeeded / Failed / Skipped / Total] 60 / 0 / 2 / 62:  60%|██████    | 60/100 [02:01<01:20,  2.02s/it]"
     ]
    },
    {
     "name": "stdout",
     "output_type": "stream",
     "text": [
      "--------------------------------------------- Result 62 ---------------------------------------------\n",
      "[[100 (100%)]] --> [[114 (100%)]]\n",
      "\n",
      "01bb bb53 [[5327]] [[2769]] 6975 759d 9d5b 5b5f 5f2b 2b50 5018 1810 1000 005b 5b72 7200 0000 0014 1403 0303 0300 0001 0101 0117 1703 0303 0300 0045 4510 1074 7437 37bc bc23 234c 4c1f 1f2d 2d4b 4b5d 5d61 613a 3a9c 9c47 4768 688e 8e7d 7ddf df19 1987 8700 00cc cc29 291f 1f2d 2dc2 c226 2614 1415 1571 71de de27 2730 3056 5641 4107\n",
      "\n",
      "01bb bb53 [[53a1]] [[a169]] 6975 759d 9d5b 5b5f 5f2b 2b50 5018 1810 1000 005b 5b72 7200 0000 0014 1403 0303 0300 0001 0101 0117 1703 0303 0300 0045 4510 1074 7437 37bc bc23 234c 4c1f 1f2d 2d4b 4b5d 5d61 613a 3a9c 9c47 4768 688e 8e7d 7ddf df19 1987 8700 00cc cc29 291f 1f2d 2dc2 c226 2614 1415 1571 71de de27 2730 3056 5641 4107\n",
      "\n",
      "\n"
     ]
    },
    {
     "name": "stderr",
     "output_type": "stream",
     "text": [
      "[Succeeded / Failed / Skipped / Total] 61 / 0 / 2 / 63:  61%|██████    | 61/100 [02:04<01:19,  2.04s/it]"
     ]
    },
    {
     "name": "stdout",
     "output_type": "stream",
     "text": [
      "--------------------------------------------- Result 63 ---------------------------------------------\n",
      "[[11 (100%)]] --> [[113 (100%)]]\n",
      "\n",
      "[[ebf5]] [[f597]] [[9700]] 003e 3e63 6349 49da daca ca67 6750 5010 1000 0017 1796 9644 4400 0000 004b 4b7b 7be0 e0a0 a025 2521 213c 3cf5 f59e 9e45 4554 541d 1da6 a62c 2cee eebe becc ccd5 d556 569a 9af4 f409 0984 8452 521b 1b72 722b 2b9f 9fb4 b48f 8ffc fcae ae16 16ef efdf dfd3 d342 42f3 f32c 2c0f 0ffe fefd fd1e 1e0f 0ffb fb8f 8f28\n",
      "\n",
      "[[ebbb]] [[bbf8]] [[f800]] 003e 3e63 6349 49da daca ca67 6750 5010 1000 0017 1796 9644 4400 0000 004b 4b7b 7be0 e0a0 a025 2521 213c 3cf5 f59e 9e45 4554 541d 1da6 a62c 2cee eebe becc ccd5 d556 569a 9af4 f409 0984 8452 521b 1b72 722b 2b9f 9fb4 b48f 8ffc fcae ae16 16ef efdf dfd3 d342 42f3 f32c 2c0f 0ffe fefd fd1e 1e0f 0ffb fb8f 8f28\n",
      "\n",
      "\n"
     ]
    },
    {
     "name": "stderr",
     "output_type": "stream",
     "text": [
      "[Succeeded / Failed / Skipped / Total] 62 / 0 / 2 / 64:  62%|██████▏   | 62/100 [02:05<01:16,  2.02s/it]"
     ]
    },
    {
     "name": "stdout",
     "output_type": "stream",
     "text": [
      "--------------------------------------------- Result 64 ---------------------------------------------\n",
      "[[53 (100%)]] --> [[10 (93%)]]\n",
      "\n",
      "01bb bb46 [[4664]] [[6413]] 13b8 b84f 4faa aa80 808f 8f80 8018 1810 1000 0072 72fc fc00 0000 0001 0101 0108 080a 0a81 8168 6806 067b 7b0b 0bec ec22 229b 9b17 1703 0303 0300 001a 1aa6 a6ba ba34 344a 4a1c 1c12 12a6 a6b4 b42a 2a19 19b6 b6d3 d3da dadb db7f 7f53 538f 8f85 8565 65a7 a7f5 f5bd bdbf bf70 70e9 e908\n",
      "\n",
      "01bb bb46 [[46cf]] [[cf13]] 13b8 b84f 4faa aa80 808f 8f80 8018 1810 1000 0072 72fc fc00 0000 0001 0101 0108 080a 0a81 8168 6806 067b 7b0b 0bec ec22 229b 9b17 1703 0303 0300 001a 1aa6 a6ba ba34 344a 4a1c 1c12 12a6 a6b4 b42a 2a19 19b6 b6d3 d3da dadb db7f 7f53 538f 8f85 8565 65a7 a7f5 f5bd bdbf bf70 70e9 e908\n",
      "\n",
      "\n"
     ]
    },
    {
     "name": "stderr",
     "output_type": "stream",
     "text": [
      "[Succeeded / Failed / Skipped / Total] 63 / 0 / 2 / 65:  63%|██████▎   | 63/100 [02:07<01:14,  2.02s/it]"
     ]
    },
    {
     "name": "stdout",
     "output_type": "stream",
     "text": [
      "--------------------------------------------- Result 65 ---------------------------------------------\n",
      "[[11 (100%)]] --> [[113 (100%)]]\n",
      "\n",
      "[[ebf5]] [[f597]] 9734 3426 26ab ab49 49da dacb cb39 3950 5010 1000 0017 175c 5cbb bb00 0000 002f 2f40 40d5 d54f 4fdc dc64 6430 301b 1b37 379f 9fa4 a444 4435 3516 16bd bd5b 5b1c 1c04 0427 27b3 b30c 0ce4 e493 93aa aaf8 f8a7 a7d3 d3bd bd48 488f 8f41 415b 5b95 9582 8268 68bb bb74 7465 655e 5e1b 1b19 1919 19a3 a32d 2dce ceb7 b7e9\n",
      "\n",
      "[[eb8e]] [[8e97]] 9734 3426 26ab ab49 49da dacb cb39 3950 5010 1000 0017 175c 5cbb bb00 0000 002f 2f40 40d5 d54f 4fdc dc64 6430 301b 1b37 379f 9fa4 a444 4435 3516 16bd bd5b 5b1c 1c04 0427 27b3 b30c 0ce4 e493 93aa aaf8 f8a7 a7d3 d3bd bd48 488f 8f41 415b 5b95 9582 8268 68bb bb74 7465 655e 5e1b 1b19 1919 19a3 a32d 2dce ceb7 b7e9\n",
      "\n",
      "\n"
     ]
    },
    {
     "name": "stderr",
     "output_type": "stream",
     "text": [
      "[Succeeded / Failed / Skipped / Total] 64 / 0 / 2 / 66:  64%|██████▍   | 64/100 [02:08<01:12,  2.01s/it]"
     ]
    },
    {
     "name": "stdout",
     "output_type": "stream",
     "text": [
      "--------------------------------------------- Result 66 ---------------------------------------------\n",
      "[[108 (100%)]] --> [[7 (100%)]]\n",
      "\n",
      "1ab9 b9b7 b711 1179 7940 40a6 a6d2 d2df dfa8 a850 5018 1801 [[01f5]] [[f5a3]] a35d 5d00 0000 0017 1703 0303 0300 0027 27a5 a538 3817 176e 6e5b 5bb2 b2aa aa51 511b 1b6b 6b36 3698 98d2 d253 5325 2500 00e6 e639 39fb fbc6 c688 8803 03e5 e5f9 f97c 7c06 0636 3641 416d 6d3b 3bbe be39 397a 7ac4 c431 313d 3d19 1917 173a\n",
      "\n",
      "1ab9 b9b7 b711 1179 7940 40a6 a6d2 d2df dfa8 a850 5018 1801 [[010b]] [[0ba3]] a35d 5d00 0000 0017 1703 0303 0300 0027 27a5 a538 3817 176e 6e5b 5bb2 b2aa aa51 511b 1b6b 6b36 3698 98d2 d253 5325 2500 00e6 e639 39fb fbc6 c688 8803 03e5 e5f9 f97c 7c06 0636 3641 416d 6d3b 3bbe be39 397a 7ac4 c431 313d 3d19 1917 173a\n",
      "\n",
      "\n"
     ]
    },
    {
     "name": "stderr",
     "output_type": "stream",
     "text": [
      "[Succeeded / Failed / Skipped / Total] 65 / 0 / 2 / 67:  65%|██████▌   | 65/100 [02:10<01:10,  2.00s/it]"
     ]
    },
    {
     "name": "stdout",
     "output_type": "stream",
     "text": [
      "--------------------------------------------- Result 67 ---------------------------------------------\n",
      "[[3 (100%)]] --> [[31 (100%)]]\n",
      "\n",
      "[[e8d4]] [[d416]] 161f 1f4c 4c2f 2f9b 9bb6 b6a7 a7a6 a650 5018 1800 0044 44fb fb8a 8a00 0000 00f0 f078 7833 336a 6a69 6917 17c3 c37e 7e8f 8ff9 f963 63e1 e1f7 f771 713f 3f9a 9a15 15ba baee ee30 3046 4637 3777 777d 7d8c 8c84 84e4 e492 929e 9edb dbd5 d570 700e 0ee6 e672 723c 3c3f 3fa2 a2fb fb28 2848 48c6 c64a 4ac6 c6c0 c018 1894\n",
      "\n",
      "[[e8f2]] [[f216]] 161f 1f4c 4c2f 2f9b 9bb6 b6a7 a7a6 a650 5018 1800 0044 44fb fb8a 8a00 0000 00f0 f078 7833 336a 6a69 6917 17c3 c37e 7e8f 8ff9 f963 63e1 e1f7 f771 713f 3f9a 9a15 15ba baee ee30 3046 4637 3777 777d 7d8c 8c84 84e4 e492 929e 9edb dbd5 d570 700e 0ee6 e672 723c 3c3f 3fa2 a2fb fb28 2848 48c6 c64a 4ac6 c6c0 c018 1894\n",
      "\n",
      "\n"
     ]
    },
    {
     "name": "stderr",
     "output_type": "stream",
     "text": [
      "[Succeeded / Failed / Skipped / Total] 66 / 0 / 3 / 69:  66%|██████▌   | 66/100 [02:11<01:07,  1.99s/it]"
     ]
    },
    {
     "name": "stdout",
     "output_type": "stream",
     "text": [
      "--------------------------------------------- Result 68 ---------------------------------------------\n",
      "[[18 (100%)]] --> [[118 (100%)]]\n",
      "\n",
      "[[f654]] [[54b7]] b7f1 f1b0 b024 247a 7a99 998f 8fd6 d650 5010 1000 0016 160d 0de8 e800 0000 0045 4564 640e 0eda da71 717d 7d3a 3a8a 8a24 24cd cdbd bd02 0204 0475 75c6 c628 28f1 f16d 6dbe beb4 b40e 0e8c 8c8c 8cb6 b674 7499 9960 60a8 a84a 4a0c 0ce0 e0e1 e185 853d 3ddf df0b 0b69 6992 92ad ad94 9449 49f1 f1a5 a564 640e 0ec6 c63b\n",
      "\n",
      "[[f6ee]] [[eeb7]] b7f1 f1b0 b024 247a 7a99 998f 8fd6 d650 5010 1000 0016 160d 0de8 e800 0000 0045 4564 640e 0eda da71 717d 7d3a 3a8a 8a24 24cd cdbd bd02 0204 0475 75c6 c628 28f1 f16d 6dbe beb4 b40e 0e8c 8c8c 8cb6 b674 7499 9960 60a8 a84a 4a0c 0ce0 e0e1 e185 853d 3ddf df0b 0b69 6992 92ad ad94 9449 49f1 f1a5 a564 640e 0ec6 c63b\n",
      "\n",
      "\n",
      "--------------------------------------------- Result 69 ---------------------------------------------\n",
      "[[40 (100%)]] --> [[[SKIPPED]]]\n",
      "\n",
      "ca97 978f 8f0b 0bbb bbdd dd6f 6ff1 f13f 3fa6 a680 8010 1000 0042 4208 084e 4e00 0000 0001 0101 0108 080a 0a39 39f2 f219 19ac ac0c 0c13 13e5 e524 24b3 b3b6 b616 168d 8d61 61cd cd9a 9a7a 7a3b 3bae ae90 90ca cac0 c01b 1bb9 b91b 1bcc cc27 27c0 c0d7 d769 69d3 d3f2 f266 66b1 b166 6660 60a7 a7e0 e093 933b 3bd6 d63a 3a12 12da\n",
      "\n",
      "\n"
     ]
    },
    {
     "name": "stderr",
     "output_type": "stream",
     "text": [
      "[Succeeded / Failed / Skipped / Total] 67 / 0 / 3 / 70:  67%|██████▋   | 67/100 [02:13<01:05,  1.99s/it]"
     ]
    },
    {
     "name": "stdout",
     "output_type": "stream",
     "text": [
      "--------------------------------------------- Result 70 ---------------------------------------------\n",
      "[[17 (100%)]] --> [[0 (100%)]]\n",
      "\n",
      "ad76 76ad ad90 9073 7392 924b 4bbe be7d 7dca ca80 8010 1000 [[0057]] [[57f6]] f650 5000 0000 0001 0101 0108 080a 0a08 082e 2e9f 9f33 3395 9507 077a 7adb dbe8 e8cd cd2a 2a37 3786 861e 1e30 30f8 f854 54e6 e60c 0c3c 3c00 004e 4e88 88be be7d 7da0 a06d 6d6f 6f28 28cf cf11 11c0 c02e 2ee6 e606 06d0 d022 22f0 f014 14b3 b32b 2b07 0704\n",
      "\n",
      "ad76 76ad ad90 9073 7392 924b 4bbe be7d 7dca ca80 8010 1000 [[0008]] [[08f6]] f650 5000 0000 0001 0101 0108 080a 0a08 082e 2e9f 9f33 3395 9507 077a 7adb dbe8 e8cd cd2a 2a37 3786 861e 1e30 30f8 f854 54e6 e60c 0c3c 3c00 004e 4e88 88be be7d 7da0 a06d 6d6f 6f28 28cf cf11 11c0 c02e 2ee6 e606 06d0 d022 22f0 f014 14b3 b32b 2b07 0704\n",
      "\n",
      "\n"
     ]
    },
    {
     "name": "stderr",
     "output_type": "stream",
     "text": [
      "[Succeeded / Failed / Skipped / Total] 68 / 0 / 3 / 71:  68%|██████▊   | 68/100 [02:14<01:03,  1.98s/it]"
     ]
    },
    {
     "name": "stdout",
     "output_type": "stream",
     "text": [
      "--------------------------------------------- Result 71 ---------------------------------------------\n",
      "[[90 (100%)]] --> [[14 (100%)]]\n",
      "\n",
      "cea6 a6d7 d717 1729 29ef efd9 d96b 6b11 11d4 d450 5018 1800 [[0045]] [[4588]] 8861 6100 0000 00e4 e4f8 f8a8 a833 33d0 d05d 5d27 2784 8445 45d2 d23e 3ea8 a82a 2af1 f16c 6cd4 d439 396b 6b3b 3b18 1804 0426 26ce ce47 47a6 a65a 5a56 5609 0930 304e 4e11 11b6 b6f7 f76c 6c28 2805 056a 6aeb eb8e 8e77 777e 7ec6 c667 6791 91b0 b045 45d3\n",
      "\n",
      "cea6 a6d7 d717 1729 29ef efd9 d96b 6b11 11d4 d450 5018 1800 [[0039]] [[3988]] 8861 6100 0000 00e4 e4f8 f8a8 a833 33d0 d05d 5d27 2784 8445 45d2 d23e 3ea8 a82a 2af1 f16c 6cd4 d439 396b 6b3b 3b18 1804 0426 26ce ce47 47a6 a65a 5a56 5609 0930 304e 4e11 11b6 b6f7 f76c 6c28 2805 056a 6aeb eb8e 8e77 777e 7ec6 c667 6791 91b0 b045 45d3\n",
      "\n",
      "\n"
     ]
    },
    {
     "name": "stderr",
     "output_type": "stream",
     "text": [
      "[Succeeded / Failed / Skipped / Total] 69 / 0 / 3 / 72:  69%|██████▉   | 69/100 [02:17<01:01,  1.99s/it]"
     ]
    },
    {
     "name": "stdout",
     "output_type": "stream",
     "text": [
      "--------------------------------------------- Result 72 ---------------------------------------------\n",
      "[[47 (100%)]] --> [[81 (42%)]]\n",
      "\n",
      "cd10 10d5 [[d515]] [[15ac]] ac5c [[5c42]] [[42fc]] fca1 a1a8 a850 5010 1007 0770 70c7 c736 3600 0000 0002 022d 2d15 1526 2631 3119 19b0 b09e 9ee2 e21f 1ff6 f61c 1cfa fadf dfe0 e079 790e 0e6f 6f55 5512 1295 952c 2c72 7204 04ef efbb bbfb fbf4 f4db db9b 9bd1 d14a 4a78 78b3 b3dd dd44 4408 0843 4324 2445 4519 19ce cee3 e356 56e5 e560 600c\n",
      "\n",
      "cd10 10d5 [[d54d]] [[4dac]] ac5c [[5c95]] [[95fc]] fca1 a1a8 a850 5010 1007 0770 70c7 c736 3600 0000 0002 022d 2d15 1526 2631 3119 19b0 b09e 9ee2 e21f 1ff6 f61c 1cfa fadf dfe0 e079 790e 0e6f 6f55 5512 1295 952c 2c72 7204 04ef efbb bbfb fbf4 f4db db9b 9bd1 d14a 4a78 78b3 b3dd dd44 4408 0843 4324 2445 4519 19ce cee3 e356 56e5 e560 600c\n",
      "\n",
      "\n"
     ]
    },
    {
     "name": "stderr",
     "output_type": "stream",
     "text": [
      "[Succeeded / Failed / Skipped / Total] 70 / 0 / 3 / 73:  70%|███████   | 70/100 [02:19<00:59,  1.99s/it]"
     ]
    },
    {
     "name": "stdout",
     "output_type": "stream",
     "text": [
      "--------------------------------------------- Result 73 ---------------------------------------------\n",
      "[[78 (100%)]] --> [[110 (98%)]]\n",
      "\n",
      "[[01bb]] [[bbf2]] f2a0 a002 0287 87cb cbb5 b586 86ad ad50 5010 1002 02e4 e430 3056 5600 0000 0006 06d0 d07b 7ba0 a0c4 c456 5674 7483 8316 16d9 d9a4 a464 64d1 d13d 3d2c 2cc9 c963 6349 49ae ae7b 7b82 826d 6dc5 c532 324e 4eda da08 08e2 e235 35fa fa3f 3f9a 9a6d 6d4c 4c6a 6a8f 8f92 927e 7eb6 b60f 0f8c 8cb2 b248 4826 26a5 a5fb fb0b\n",
      "\n",
      "[[01b6]] [[b6f2]] f2a0 a002 0287 87cb cbb5 b586 86ad ad50 5010 1002 02e4 e430 3056 5600 0000 0006 06d0 d07b 7ba0 a0c4 c456 5674 7483 8316 16d9 d9a4 a464 64d1 d13d 3d2c 2cc9 c963 6349 49ae ae7b 7b82 826d 6dc5 c532 324e 4eda da08 08e2 e235 35fa fa3f 3f9a 9a6d 6d4c 4c6a 6a8f 8f92 927e 7eb6 b60f 0f8c 8cb2 b248 4826 26a5 a5fb fb0b\n",
      "\n",
      "\n"
     ]
    },
    {
     "name": "stderr",
     "output_type": "stream",
     "text": [
      "[Succeeded / Failed / Skipped / Total] 71 / 0 / 3 / 74:  71%|███████   | 71/100 [02:21<00:57,  1.99s/it]"
     ]
    },
    {
     "name": "stdout",
     "output_type": "stream",
     "text": [
      "--------------------------------------------- Result 74 ---------------------------------------------\n",
      "[[61 (100%)]] --> [[33 (51%)]]\n",
      "\n",
      "ffd6 d688 8880 809c 9c9d 9d0e 0e94 94bc bc55 5550 5018 1801 [[01f5]] [[f53f]] 3fa1 a100 0000 006c 6ceb eb2b 2b14 14f2 f205 05aa aa1a 1a44 446b 6b10 1026 2640 401b 1bd2 d220 209d 9d9a 9a8f 8f40 40b5 b50e 0e62 622d 2d3e 3e1c 1c19 19d8 d806 06d5 d5a8 a880 80af af6d 6dac ac1c 1cf2 f258 5828 28f0 f0be be92 925e 5e83 834a 4a51 5175\n",
      "\n",
      "ffd6 d688 8880 809c 9c9d 9d0e 0e94 94bc bc55 5550 5018 1801 [[014a]] [[4a3f]] 3fa1 a100 0000 006c 6ceb eb2b 2b14 14f2 f205 05aa aa1a 1a44 446b 6b10 1026 2640 401b 1bd2 d220 209d 9d9a 9a8f 8f40 40b5 b50e 0e62 622d 2d3e 3e1c 1c19 19d8 d806 06d5 d5a8 a880 80af af6d 6dac ac1c 1cf2 f258 5828 28f0 f0be be92 925e 5e83 834a 4a51 5175\n",
      "\n",
      "\n"
     ]
    },
    {
     "name": "stderr",
     "output_type": "stream",
     "text": [
      "[Succeeded / Failed / Skipped / Total] 72 / 0 / 3 / 75:  72%|███████▏  | 72/100 [02:22<00:55,  1.98s/it]"
     ]
    },
    {
     "name": "stdout",
     "output_type": "stream",
     "text": [
      "--------------------------------------------- Result 75 ---------------------------------------------\n",
      "[[76 (100%)]] --> [[41 (22%)]]\n",
      "\n",
      "[[c7bc]] [[bc67]] 6724 24db dbf7 f767 6765 6506 06f6 f650 5010 1001 010e 0ede de4c 4c00 0000 00ff ffac aca1 a148 4856 5672 72f3 f39c 9c50 5044 4423 232c 2c31 3187 8709 0977 7757 5709 0947 4705 058e 8e5b 5b6b 6b7b 7b27 27fe fe80 8009 0964 6468 687f 7f39 3997 97a2 a202 024b 4bb8 b837 37ee ee70 7019 19d3 d33c 3c2c 2c17 171e 1e1e\n",
      "\n",
      "[[c7e0]] [[e067]] 6724 24db dbf7 f767 6765 6506 06f6 f650 5010 1001 010e 0ede de4c 4c00 0000 00ff ffac aca1 a148 4856 5672 72f3 f39c 9c50 5044 4423 232c 2c31 3187 8709 0977 7757 5709 0947 4705 058e 8e5b 5b6b 6b7b 7b27 27fe fe80 8009 0964 6468 687f 7f39 3997 97a2 a202 024b 4bb8 b837 37ee ee70 7019 19d3 d33c 3c2c 2c17 171e 1e1e\n",
      "\n",
      "\n"
     ]
    },
    {
     "name": "stderr",
     "output_type": "stream",
     "text": [
      "[Succeeded / Failed / Skipped / Total] 73 / 0 / 3 / 76:  73%|███████▎  | 73/100 [02:24<00:53,  1.98s/it]"
     ]
    },
    {
     "name": "stdout",
     "output_type": "stream",
     "text": [
      "--------------------------------------------- Result 76 ---------------------------------------------\n",
      "[[42 (100%)]] --> [[115 (100%)]]\n",
      "\n",
      "[[03e1]] [[e180]] 80b0 b071 7166 66ce cec7 c7e8 e8e7 e780 8018 1801 015b 5b91 9183 8300 0000 0001 0101 0108 080a 0a0c 0cc9 c9ef eff0 f00b 0bec ec91 91fb fb14 1403 0303 0300 0001 0101 0117 1703 0303 0300 0035 3590 903e 3e07 0782 82db dbed ed92 92c6 c6df df01 01e2 e2e4 e41f 1f1d 1d68 6874 74df dfb6 b6ff ff5e 5e97 97ac acb8 b89e\n",
      "\n",
      "[[0335]] [[3580]] 80b0 b071 7166 66ce cec7 c7e8 e8e7 e780 8018 1801 015b 5b91 9183 8300 0000 0001 0101 0108 080a 0a0c 0cc9 c9ef eff0 f00b 0bec ec91 91fb fb14 1403 0303 0300 0001 0101 0117 1703 0303 0300 0035 3590 903e 3e07 0782 82db dbed ed92 92c6 c6df df01 01e2 e2e4 e41f 1f1d 1d68 6874 74df dfb6 b6ff ff5e 5e97 97ac acb8 b89e\n",
      "\n",
      "\n"
     ]
    },
    {
     "name": "stderr",
     "output_type": "stream",
     "text": [
      "[Succeeded / Failed / Skipped / Total] 74 / 0 / 3 / 77:  74%|███████▍  | 74/100 [02:26<00:51,  1.98s/it]"
     ]
    },
    {
     "name": "stdout",
     "output_type": "stream",
     "text": [
      "--------------------------------------------- Result 77 ---------------------------------------------\n",
      "[[75 (100%)]] --> [[9 (100%)]]\n",
      "\n",
      "01bb bba9 a904 048a 8a7d 7d59 5966 6631 314a 4a50 5018 1804 [[0400]] [[0007]] 07b4 b400 0000 0014 1403 0303 0300 0001 0101 0117 1703 0303 0300 0035 35bf bf33 33b2 b2bb bb1d 1d6e 6e28 28c0 c0dd ddac acd4 d451 5131 31c6 c681 81fd fd28 2858 58a8 a83a 3a34 34a1 a1d5 d5ff ff5d 5d14 1473 7379 7914 147e 7e7f 7f50 5091 913e 3ec8 c813\n",
      "\n",
      "01bb bba9 a904 048a 8a7d 7d59 5966 6631 314a 4a50 5018 1804 [[0405]] [[0507]] 07b4 b400 0000 0014 1403 0303 0300 0001 0101 0117 1703 0303 0300 0035 35bf bf33 33b2 b2bb bb1d 1d6e 6e28 28c0 c0dd ddac acd4 d451 5131 31c6 c681 81fd fd28 2858 58a8 a83a 3a34 34a1 a1d5 d5ff ff5d 5d14 1473 7379 7914 147e 7e7f 7f50 5091 913e 3ec8 c813\n",
      "\n",
      "\n"
     ]
    },
    {
     "name": "stderr",
     "output_type": "stream",
     "text": [
      "[Succeeded / Failed / Skipped / Total] 75 / 0 / 3 / 78:  75%|███████▌  | 75/100 [02:28<00:49,  1.98s/it]"
     ]
    },
    {
     "name": "stdout",
     "output_type": "stream",
     "text": [
      "--------------------------------------------- Result 78 ---------------------------------------------\n",
      "[[49 (100%)]] --> [[60 (99%)]]\n",
      "\n",
      "[[b3c4]] [[c48e]] 8e28 2823 23d9 d9fa faa8 a8b7 b73e 3e50 5010 1000 004d 4df5 f5a6 a600 0000 00a5 a546 4627 27b9 b991 918f 8f9f 9fe0 e0c6 c61c 1c81 8118 183a 3a7b 7bb7 b75f 5fd6 d662 626f 6fcf cf7d 7dde de14 14de ded3 d3c4 c4d5 d526 268b 8b67 675c 5cda daa2 a25a 5af4 f493 93ac ace6 e612 1238 380b 0b6b 6ba9 a950 503f 3f09 093a\n",
      "\n",
      "[[b3fb]] [[fb8e]] 8e28 2823 23d9 d9fa faa8 a8b7 b73e 3e50 5010 1000 004d 4df5 f5a6 a600 0000 00a5 a546 4627 27b9 b991 918f 8f9f 9fe0 e0c6 c61c 1c81 8118 183a 3a7b 7bb7 b75f 5fd6 d662 626f 6fcf cf7d 7dde de14 14de ded3 d3c4 c4d5 d526 268b 8b67 675c 5cda daa2 a25a 5af4 f493 93ac ace6 e612 1238 380b 0b6b 6ba9 a950 503f 3f09 093a\n",
      "\n",
      "\n"
     ]
    },
    {
     "name": "stderr",
     "output_type": "stream",
     "text": [
      "[Succeeded / Failed / Skipped / Total] 76 / 0 / 3 / 79:  76%|███████▌  | 76/100 [02:30<00:47,  1.97s/it]"
     ]
    },
    {
     "name": "stdout",
     "output_type": "stream",
     "text": [
      "--------------------------------------------- Result 79 ---------------------------------------------\n",
      "[[27 (100%)]] --> [[69 (100%)]]\n",
      "\n",
      "[[e500]] [[0023]] 238d 8d75 7575 753d 3d15 151d 1d95 9550 5018 1800 0043 43d6 d6c7 c700 0000 0017 1703 0303 0305 056a 6a06 064e 4eba bafe fe62 623a 3a55 559e 9eaf af21 2113 13b7 b70a 0a55 55f1 f18b 8b14 1411 1106 0685 85f4 f441 4123 23b9 b9a9 a931 31bc bc22 2227 27ac aceb eb4e 4ec9 c922 22f8 f89b 9bfa faa2 a22c 2ced edbd bd14\n",
      "\n",
      "[[e55b]] [[5b23]] 238d 8d75 7575 753d 3d15 151d 1d95 9550 5018 1800 0043 43d6 d6c7 c700 0000 0017 1703 0303 0305 056a 6a06 064e 4eba bafe fe62 623a 3a55 559e 9eaf af21 2113 13b7 b70a 0a55 55f1 f18b 8b14 1411 1106 0685 85f4 f441 4123 23b9 b9a9 a931 31bc bc22 2227 27ac aceb eb4e 4ec9 c922 22f8 f89b 9bfa faa2 a22c 2ced edbd bd14\n",
      "\n",
      "\n"
     ]
    },
    {
     "name": "stderr",
     "output_type": "stream",
     "text": [
      "[Succeeded / Failed / Skipped / Total] 77 / 0 / 3 / 80:  77%|███████▋  | 77/100 [02:32<00:45,  1.98s/it]"
     ]
    },
    {
     "name": "stdout",
     "output_type": "stream",
     "text": [
      "--------------------------------------------- Result 80 ---------------------------------------------\n",
      "[[62 (100%)]] --> [[96 (100%)]]\n",
      "\n",
      "[[e9d0]] [[d0b8]] b8fd fd10 10b8 b8e9 e9dc dc09 09a7 a750 5010 1000 00bb bb33 3322 2200 0000 003d 3d66 6687 87bf bf2d 2d7e 7ef7 f7f1 f1ab ab70 70d9 d992 929c 9c73 7396 969e 9e79 793a 3a9c 9ca0 a0c7 c70c 0c30 30ab abdf dfeb ebad ad3f 3fff ffd9 d963 6351 51c7 c77f 7fee eea8 a875 754f 4f9e 9e67 6754 5425 25f5 f546 4656 56d6 d62d\n",
      "\n",
      "[[e947]] [[47b8]] b8fd fd10 10b8 b8e9 e9dc dc09 09a7 a750 5010 1000 00bb bb33 3322 2200 0000 003d 3d66 6687 87bf bf2d 2d7e 7ef7 f7f1 f1ab ab70 70d9 d992 929c 9c73 7396 969e 9e79 793a 3a9c 9ca0 a0c7 c70c 0c30 30ab abdf dfeb ebad ad3f 3fff ffd9 d963 6351 51c7 c77f 7fee eea8 a875 754f 4f9e 9e67 6754 5425 25f5 f546 4656 56d6 d62d\n",
      "\n",
      "\n"
     ]
    },
    {
     "name": "stderr",
     "output_type": "stream",
     "text": [
      "[Succeeded / Failed / Skipped / Total] 78 / 0 / 3 / 81:  78%|███████▊  | 78/100 [02:33<00:43,  1.97s/it]"
     ]
    },
    {
     "name": "stdout",
     "output_type": "stream",
     "text": [
      "--------------------------------------------- Result 81 ---------------------------------------------\n",
      "[[38 (100%)]] --> [[89 (100%)]]\n",
      "\n",
      "01bb bb81 81eb ebf3 f3e7 e7b1 [[b1b8]] [[b88f]] 8f38 3850 5018 1801 0123 23d0 d00b 0b00 0000 0014 1403 0303 0300 0001 0101 0117 1703 0303 0300 0045 45ef efc2 c294 94b0 b0b8 b832 328e 8ebe be47 4712 12f5 f594 9422 22a2 a238 3814 14a4 a415 1596 9619 1957 57a2 a270 705c 5cba bae5 e5ef efa1 a1c4 c4b7 b71b 1b03 03cf cf5d 5d91 9159\n",
      "\n",
      "01bb bb81 81eb ebf3 f3e7 e7b1 [[b15b]] [[5b8f]] 8f38 3850 5018 1801 0123 23d0 d00b 0b00 0000 0014 1403 0303 0300 0001 0101 0117 1703 0303 0300 0045 45ef efc2 c294 94b0 b0b8 b832 328e 8ebe be47 4712 12f5 f594 9422 22a2 a238 3814 14a4 a415 1596 9619 1957 57a2 a270 705c 5cba bae5 e5ef efa1 a1c4 c4b7 b71b 1b03 03cf cf5d 5d91 9159\n",
      "\n",
      "\n"
     ]
    },
    {
     "name": "stderr",
     "output_type": "stream",
     "text": [
      "[Succeeded / Failed / Skipped / Total] 79 / 0 / 3 / 82:  79%|███████▉  | 79/100 [02:35<00:41,  1.97s/it]"
     ]
    },
    {
     "name": "stdout",
     "output_type": "stream",
     "text": [
      "--------------------------------------------- Result 82 ---------------------------------------------\n",
      "[[84 (100%)]] --> [[3 (100%)]]\n",
      "\n",
      "[[ecd4]] [[d4da]] dae9 e996 964e 4e68 6894 9404 04e9 e950 5010 1000 004c 4cf7 f77f 7f00 0000 00b5 b535 3515 1508 08c7 c760 6076 7683 830f 0f5e 5ee2 e231 3184 84e9 e90e 0e3d 3d26 262d 2de5 e535 35de dee7 e76b 6b52 52c8 c8be be8e 8e01 0181 8132 3231 31c4 c4d5 d5df df46 4640 40bc bcde dee0 e036 366e 6e3e 3e07 074f 4f9c 9c6b 6be6\n",
      "\n",
      "[[ecf9]] [[f9da]] dae9 e996 964e 4e68 6894 9404 04e9 e950 5010 1000 004c 4cf7 f77f 7f00 0000 00b5 b535 3515 1508 08c7 c760 6076 7683 830f 0f5e 5ee2 e231 3184 84e9 e90e 0e3d 3d26 262d 2de5 e535 35de dee7 e76b 6b52 52c8 c8be be8e 8e01 0181 8132 3231 31c4 c4d5 d5df df46 4640 40bc bcde dee0 e036 366e 6e3e 3e07 074f 4f9c 9c6b 6be6\n",
      "\n",
      "\n"
     ]
    },
    {
     "name": "stderr",
     "output_type": "stream",
     "text": [
      "[Succeeded / Failed / Skipped / Total] 80 / 0 / 3 / 83:  80%|████████  | 80/100 [02:37<00:39,  1.97s/it]"
     ]
    },
    {
     "name": "stdout",
     "output_type": "stream",
     "text": [
      "--------------------------------------------- Result 83 ---------------------------------------------\n",
      "[[39 (99%)]] --> [[95 (99%)]]\n",
      "\n",
      "fab4 [[b46b]] [[6be9]] e90b 0bc8 c8e8 e889 89d3 d3e0 e080 8018 1801 01d6 d628 285d 5d00 0000 0001 0101 0108 080a 0a04 0419 191a 1a65 6547 471d 1dac ac75 7549 49b0 b0e4 e45b 5b1c 1c91 91a4 a400 00eb ebd2 d2cd cd84 84fd fd35 3524 244a 4acc cca5 a55b 5b61 6195 9535 3527 2733 33c6 c63e 3e7a 7a7b 7b99 99dd dd0f 0f39 3930 30e7 e72c\n",
      "\n",
      "fab4 [[b45e]] [[5ee9]] e90b 0bc8 c8e8 e889 89d3 d3e0 e080 8018 1801 01d6 d628 285d 5d00 0000 0001 0101 0108 080a 0a04 0419 191a 1a65 6547 471d 1dac ac75 7549 49b0 b0e4 e45b 5b1c 1c91 91a4 a400 00eb ebd2 d2cd cd84 84fd fd35 3524 244a 4acc cca5 a55b 5b61 6195 9535 3527 2733 33c6 c63e 3e7a 7a7b 7b99 99dd dd0f 0f39 3930 30e7 e72c\n",
      "\n",
      "\n"
     ]
    },
    {
     "name": "stderr",
     "output_type": "stream",
     "text": [
      "[Succeeded / Failed / Skipped / Total] 81 / 0 / 3 / 84:  81%|████████  | 81/100 [02:39<00:37,  1.97s/it]"
     ]
    },
    {
     "name": "stdout",
     "output_type": "stream",
     "text": [
      "--------------------------------------------- Result 84 ---------------------------------------------\n",
      "[[30 (100%)]] --> [[88 (98%)]]\n",
      "\n",
      "9d06 06ab ab3b 3b85 856b 6bd7 d734 34fb fbb8 b880 8018 1803 036d 6d2c 2cff ff00 0000 0001 0101 0108 080a 0a05 05b4 b476 76d0 d000 [[0016]] [[169e]] 9e13 13a2 a2cb cb19 19bb bbd8 d8c7 c7f5 f55c 5c05 05e5 e551 51ee ee64 64ff ffb9 b92b 2b3f 3f4b 4b90 9006 06db dba5 a5dd ddb8 b8f6 f6d9 d94a 4a3e 3e82 8210 1033 336d 6d3f 3faf af1c\n",
      "\n",
      "9d06 06ab ab3b 3b85 856b 6bd7 d734 34fb fbb8 b880 8018 1803 036d 6d2c 2cff ff00 0000 0001 0101 0108 080a 0a05 05b4 b476 76d0 d000 [[0011]] [[119e]] 9e13 13a2 a2cb cb19 19bb bbd8 d8c7 c7f5 f55c 5c05 05e5 e551 51ee ee64 64ff ffb9 b92b 2b3f 3f4b 4b90 9006 06db dba5 a5dd ddb8 b8f6 f6d9 d94a 4a3e 3e82 8210 1033 336d 6d3f 3faf af1c\n",
      "\n",
      "\n"
     ]
    },
    {
     "name": "stderr",
     "output_type": "stream",
     "text": [
      "[Succeeded / Failed / Skipped / Total] 82 / 0 / 3 / 85:  82%|████████▏ | 82/100 [02:41<00:35,  1.97s/it]"
     ]
    },
    {
     "name": "stdout",
     "output_type": "stream",
     "text": [
      "--------------------------------------------- Result 85 ---------------------------------------------\n",
      "[[42 (100%)]] --> [[88 (100%)]]\n",
      "\n",
      "[[03e1]] [[e19b]] 9b51 5113 13ee eeaf af21 211f 1f5c 5c80 8018 1801 016d 6d18 184d 4d00 0000 0001 0101 0108 080a 0a00 0079 7971 713d 3d0b 0bb7 b740 4038 3817 1703 0303 0300 001e 1ed1 d1bd bddc dc2f 2f29 295b 5bcf cf34 349a 9ab9 b94c 4c4d 4ddb db16 160c 0c23 23f2 f2fe fec0 c071 7151 51bb bb30 30f9 f99a 9af8 f8c9 c97e 7e46 4607\n",
      "\n",
      "[[035b]] [[5b9b]] 9b51 5113 13ee eeaf af21 211f 1f5c 5c80 8018 1801 016d 6d18 184d 4d00 0000 0001 0101 0108 080a 0a00 0079 7971 713d 3d0b 0bb7 b740 4038 3817 1703 0303 0300 001e 1ed1 d1bd bddc dc2f 2f29 295b 5bcf cf34 349a 9ab9 b94c 4c4d 4ddb db16 160c 0c23 23f2 f2fe fec0 c071 7151 51bb bb30 30f9 f99a 9af8 f8c9 c97e 7e46 4607\n",
      "\n",
      "\n"
     ]
    },
    {
     "name": "stderr",
     "output_type": "stream",
     "text": [
      "[Succeeded / Failed / Skipped / Total] 83 / 0 / 3 / 86:  83%|████████▎ | 83/100 [02:43<00:33,  1.97s/it]"
     ]
    },
    {
     "name": "stdout",
     "output_type": "stream",
     "text": [
      "--------------------------------------------- Result 86 ---------------------------------------------\n",
      "[[26 (100%)]] --> [[82 (100%)]]\n",
      "\n",
      "[[c314]] [[1437]] 376a 6a7f 7f37 3795 9579 79d4 d487 8750 5018 1800 004e 4e4c 4cf2 f200 0000 005c 5caa aa9f 9f05 05cd cd3d 3dc4 c40b 0bb2 b235 3548 4816 164d 4d86 867a 7a61 6185 8536 36f3 f336 3685 8513 1350 50d4 d4ee ee4c 4c66 663a 3a82 8214 1464 6486 8669 6928 28b7 b7ef ef07 0716 16bb bb1d 1d79 79f7 f79a 9a96 96be be3b 3b71\n",
      "\n",
      "[[c36b]] [[6b37]] 376a 6a7f 7f37 3795 9579 79d4 d487 8750 5018 1800 004e 4e4c 4cf2 f200 0000 005c 5caa aa9f 9f05 05cd cd3d 3dc4 c40b 0bb2 b235 3548 4816 164d 4d86 867a 7a61 6185 8536 36f3 f336 3685 8513 1350 50d4 d4ee ee4c 4c66 663a 3a82 8214 1464 6486 8669 6928 28b7 b7ef ef07 0716 16bb bb1d 1d79 79f7 f79a 9a96 96be be3b 3b71\n",
      "\n",
      "\n"
     ]
    },
    {
     "name": "stderr",
     "output_type": "stream",
     "text": [
      "[Succeeded / Failed / Skipped / Total] 84 / 0 / 3 / 87:  84%|████████▍ | 84/100 [02:44<00:31,  1.96s/it]"
     ]
    },
    {
     "name": "stdout",
     "output_type": "stream",
     "text": [
      "--------------------------------------------- Result 87 ---------------------------------------------\n",
      "[[119 (100%)]] --> [[41 (64%)]]\n",
      "\n",
      "[[e6b0]] [[b047]] 476b 6b8d 8d43 43e8 e8da da05 0523 2350 5018 1807 07a0 a0b2 b2ef ef00 0000 0017 1703 0303 0300 003a 3a24 24a8 a8b7 b7db dbca ca93 9386 8664 6440 40eb eb26 2601 01f8 f8f7 f71b 1b00 00a9 a93f 3f01 012d 2d20 206c 6c8a 8a9b 9b52 5223 23c1 c11a 1a29 2913 13ee ee55 5553 5311 1155 551c 1c04 048f 8fc3 c393 93b7 b79c\n",
      "\n",
      "[[e609]] [[0947]] 476b 6b8d 8d43 43e8 e8da da05 0523 2350 5018 1807 07a0 a0b2 b2ef ef00 0000 0017 1703 0303 0300 003a 3a24 24a8 a8b7 b7db dbca ca93 9386 8664 6440 40eb eb26 2601 01f8 f8f7 f71b 1b00 00a9 a93f 3f01 012d 2d20 206c 6c8a 8a9b 9b52 5223 23c1 c11a 1a29 2913 13ee ee55 5553 5311 1155 551c 1c04 048f 8fc3 c393 93b7 b79c\n",
      "\n",
      "\n"
     ]
    },
    {
     "name": "stderr",
     "output_type": "stream",
     "text": [
      "[Succeeded / Failed / Skipped / Total] 85 / 0 / 3 / 88:  85%|████████▌ | 85/100 [02:46<00:29,  1.96s/it]"
     ]
    },
    {
     "name": "stdout",
     "output_type": "stream",
     "text": [
      "--------------------------------------------- Result 88 ---------------------------------------------\n",
      "[[100 (100%)]] --> [[9 (100%)]]\n",
      "\n",
      "c251 513d 3d7f 7fde de35 3578 780d 0dd7 d763 6350 5018 1800 [[003c]] [[3c45]] 4500 0000 0000 0017 1703 0303 0300 001a 1afe fea2 a224 2493 936d 6de0 e0f9 f909 0957 57a0 a009 0982 8246 46a0 a02c 2cab ab18 1885 8511 11b1 b115 158e 8ee5 e5dc dcc5 c506\n",
      "\n",
      "c251 513d 3d7f 7fde de35 3578 780d 0dd7 d763 6350 5018 1800 [[00d6]] [[d645]] 4500 0000 0000 0017 1703 0303 0300 001a 1afe fea2 a224 2493 936d 6de0 e0f9 f909 0957 57a0 a009 0982 8246 46a0 a02c 2cab ab18 1885 8511 11b1 b115 158e 8ee5 e5dc dcc5 c506\n",
      "\n",
      "\n"
     ]
    },
    {
     "name": "stderr",
     "output_type": "stream",
     "text": [
      "[Succeeded / Failed / Skipped / Total] 86 / 0 / 3 / 89:  86%|████████▌ | 86/100 [02:48<00:27,  1.95s/it]"
     ]
    },
    {
     "name": "stdout",
     "output_type": "stream",
     "text": [
      "--------------------------------------------- Result 89 ---------------------------------------------\n",
      "[[91 (100%)]] --> [[96 (100%)]]\n",
      "\n",
      "[[c3e0]] [[e019]] 19d8 d829 2961 61ef efd0 d00a 0a62 6250 5010 1000 0091 91c7 c77b 7b00 0000 0017 1703 0303 0305 05af af84 84ec ece3 e3ae aecf cf06 06d0 d0c8 c890 90a5 a589 898e 8ed1 d1f4 f436 36cd cdd6 d625 25ac ac0a 0a07 0773 73e9 e96d 6de2 e27d 7d71 71f9 f957 5705 0597 9759 59b0 b081 8128 289d 9d48 48ea eaee eef2 f25f 5fc8\n",
      "\n",
      "[[c324]] [[2419]] 19d8 d829 2961 61ef efd0 d00a 0a62 6250 5010 1000 0091 91c7 c77b 7b00 0000 0017 1703 0303 0305 05af af84 84ec ece3 e3ae aecf cf06 06d0 d0c8 c890 90a5 a589 898e 8ed1 d1f4 f436 36cd cdd6 d625 25ac ac0a 0a07 0773 73e9 e96d 6de2 e27d 7d71 71f9 f957 5705 0597 9759 59b0 b081 8128 289d 9d48 48ea eaee eef2 f25f 5fc8\n",
      "\n",
      "\n"
     ]
    },
    {
     "name": "stderr",
     "output_type": "stream",
     "text": [
      "[Succeeded / Failed / Skipped / Total] 87 / 0 / 3 / 90:  87%|████████▋ | 87/100 [02:50<00:25,  1.96s/it]"
     ]
    },
    {
     "name": "stdout",
     "output_type": "stream",
     "text": [
      "--------------------------------------------- Result 90 ---------------------------------------------\n",
      "[[30 (100%)]] --> [[118 (90%)]]\n",
      "\n",
      "b3b8 b884 8423 23b5 b5bd bd58 58b5 b596 96af af80 8010 1005 05b9 b99c 9cea ea00 0000 0001 0101 0108 080a [[0a0b]] [[0b57]] 5710 10ce ce02 0206 0659 59f0 f0f3 f3d4 d407 0764 649c 9c57 574e 4e27 2706 063a 3a73 73a5 a537 37cb cb5f 5fcc ccb0 b0a7 a7d4 d4fe fe1a 1a43 4333 3382 82f4 f466 6657 5719 1969 69ee ee64 6414 14b0 b055 555f\n",
      "\n",
      "b3b8 b884 8423 23b5 b5bd bd58 58b5 b596 96af af80 8010 1005 05b9 b99c 9cea ea00 0000 0001 0101 0108 080a [[0aa9]] [[a957]] 5710 10ce ce02 0206 0659 59f0 f0f3 f3d4 d407 0764 649c 9c57 574e 4e27 2706 063a 3a73 73a5 a537 37cb cb5f 5fcc ccb0 b0a7 a7d4 d4fe fe1a 1a43 4333 3382 82f4 f466 6657 5719 1969 69ee ee64 6414 14b0 b055 555f\n",
      "\n",
      "\n"
     ]
    },
    {
     "name": "stderr",
     "output_type": "stream",
     "text": [
      "[Succeeded / Failed / Skipped / Total] 88 / 0 / 3 / 91:  88%|████████▊ | 88/100 [02:52<00:23,  1.96s/it]"
     ]
    },
    {
     "name": "stdout",
     "output_type": "stream",
     "text": [
      "--------------------------------------------- Result 91 ---------------------------------------------\n",
      "[[57 (100%)]] --> [[58 (100%)]]\n",
      "\n",
      "0881 81ed ed35 3585 8546 465a 5a5d 5dd8 d85b 5b50 5010 1000 [[0058]] [[58f0]] f057 5700 0000 004b 4b2a 2a2c 2c74 746f 6fcf cf63 63b9 b90f 0f36 363d 3d02 02ce ce32 324c 4c8c 8c8b 8bc9 c98f 8fa7 a7c9 c909 0942 42f0 f0bd bd36 36d8 d8a3 a3f1 f1b5 b575 75df df11 11ff fff4 f48a 8ad6 d69e 9ee0 e0ba ba68 684d 4d60 6064 6423 2347 47ed\n",
      "\n",
      "0881 81ed ed35 3585 8546 465a 5a5d 5dd8 d85b 5b50 5010 1000 [[008f]] [[8ff0]] f057 5700 0000 004b 4b2a 2a2c 2c74 746f 6fcf cf63 63b9 b90f 0f36 363d 3d02 02ce ce32 324c 4c8c 8c8b 8bc9 c98f 8fa7 a7c9 c909 0942 42f0 f0bd bd36 36d8 d8a3 a3f1 f1b5 b575 75df df11 11ff fff4 f48a 8ad6 d69e 9ee0 e0ba ba68 684d 4d60 6064 6423 2347 47ed\n",
      "\n",
      "\n"
     ]
    },
    {
     "name": "stderr",
     "output_type": "stream",
     "text": [
      "[Succeeded / Failed / Skipped / Total] 89 / 0 / 3 / 92:  89%|████████▉ | 89/100 [02:54<00:21,  1.96s/it]"
     ]
    },
    {
     "name": "stdout",
     "output_type": "stream",
     "text": [
      "--------------------------------------------- Result 92 ---------------------------------------------\n",
      "[[109 (100%)]] --> [[17 (98%)]]\n",
      "\n",
      "[[f36f]] [[6fd1]] d1ed ed0e 0ec3 c338 3864 6429 2938 3850 5018 1800 003c 3cd7 d7f8 f800 0000 0017 1703 0303 0301 0132 321f 1fb9 b933 33d9 d99b 9b92 921d 1d7a 7a8d 8d26 2621 21af af4a 4a25 257b 7b55 55f2 f246 465f 5fe6 e679 79be be0c 0cc6 c69b 9b61 610b 0b53 531a 1a0c 0cc1 c146 46a5 a56a 6a55 5551 518c 8c22 22c6 c655 5503 033c\n",
      "\n",
      "[[f331]] [[31d1]] d1ed ed0e 0ec3 c338 3864 6429 2938 3850 5018 1800 003c 3cd7 d7f8 f800 0000 0017 1703 0303 0301 0132 321f 1fb9 b933 33d9 d99b 9b92 921d 1d7a 7a8d 8d26 2621 21af af4a 4a25 257b 7b55 55f2 f246 465f 5fe6 e679 79be be0c 0cc6 c69b 9b61 610b 0b53 531a 1a0c 0cc1 c146 46a5 a56a 6a55 5551 518c 8c22 22c6 c655 5503 033c\n",
      "\n",
      "\n"
     ]
    },
    {
     "name": "stderr",
     "output_type": "stream",
     "text": [
      "[Succeeded / Failed / Skipped / Total] 90 / 0 / 3 / 93:  90%|█████████ | 90/100 [02:56<00:19,  1.96s/it]"
     ]
    },
    {
     "name": "stdout",
     "output_type": "stream",
     "text": [
      "--------------------------------------------- Result 93 ---------------------------------------------\n",
      "[[119 (99%)]] --> [[47 (100%)]]\n",
      "\n",
      "01bb [[bbc7]] [[c716]] 1607 07a9 a99f 9f4c 4c9e 9e9c 9c50 5010 1010 1000 0049 4941 4100 0000 00a6 a671 7137 3737 378b 8b47 477b 7b9d 9d50 5025 2574 7434 34a7 a732 32f7 f7a7 a7b2 b225 25fc fc87 870e 0ee9 e976 76a3 a380 8067 67ed eddd dd94 94b0 b0f6 f6a8 a835 3549 49ae ae9e 9ecc cc5e 5ecb cbf0 f0ed edc2 c2a6 a643 430d 0d6c 6ce6\n",
      "\n",
      "01bb [[bb31]] [[3116]] 1607 07a9 a99f 9f4c 4c9e 9e9c 9c50 5010 1010 1000 0049 4941 4100 0000 00a6 a671 7137 3737 378b 8b47 477b 7b9d 9d50 5025 2574 7434 34a7 a732 32f7 f7a7 a7b2 b225 25fc fc87 870e 0ee9 e976 76a3 a380 8067 67ed eddd dd94 94b0 b0f6 f6a8 a835 3549 49ae ae9e 9ecc cc5e 5ecb cbf0 f0ed edc2 c2a6 a643 430d 0d6c 6ce6\n",
      "\n",
      "\n"
     ]
    },
    {
     "name": "stderr",
     "output_type": "stream",
     "text": [
      "[Succeeded / Failed / Skipped / Total] 91 / 0 / 3 / 94:  91%|█████████ | 91/100 [02:59<00:17,  1.98s/it]"
     ]
    },
    {
     "name": "stdout",
     "output_type": "stream",
     "text": [
      "--------------------------------------------- Result 94 ---------------------------------------------\n",
      "[[67 (100%)]] --> [[117 (99%)]]\n",
      "\n",
      "01bb bbe7 e7ed edce cee9 e911 11b7 b74c 4c33 3380 8018 1802 0236 [[3666]] [[6685]] 8500 0000 0001 0101 0108 [[080a]] [[0a00]] 0084 8422 2245 4501 016f 6f8f 8fd0 d0d5 d5f1 f1f8 f894 9444 44b9 b95c 5cf8 f87a 7adf dfa8 a85e 5e28 281c 1c07 0732 32a6 a692 92ba bae6 e6dd dd23 232e 2eb8 b845 4532 329f 9faf af3d 3d3c 3c6d 6da2 a234 34ab abc1\n",
      "\n",
      "01bb bbe7 e7ed edce cee9 e911 11b7 b74c 4c33 3380 8018 1802 0236 [[36e2]] [[e285]] 8500 0000 0001 0101 0108 [[0808]] [[0800]] 0084 8422 2245 4501 016f 6f8f 8fd0 d0d5 d5f1 f1f8 f894 9444 44b9 b95c 5cf8 f87a 7adf dfa8 a85e 5e28 281c 1c07 0732 32a6 a692 92ba bae6 e6dd dd23 232e 2eb8 b845 4532 329f 9faf af3d 3d3c 3c6d 6da2 a234 34ab abc1\n",
      "\n",
      "\n"
     ]
    },
    {
     "name": "stderr",
     "output_type": "stream",
     "text": [
      "[Succeeded / Failed / Skipped / Total] 92 / 0 / 3 / 95:  92%|█████████▏| 92/100 [03:01<00:15,  1.98s/it]"
     ]
    },
    {
     "name": "stdout",
     "output_type": "stream",
     "text": [
      "--------------------------------------------- Result 95 ---------------------------------------------\n",
      "[[103 (100%)]] --> [[44 (57%)]]\n",
      "\n",
      "f4e6 e6ac ac77 7794 943d 3d27 27ff ff3a 3a0f 0f80 8018 1801 010a 0af9 f931 3100 0000 0001 0101 0108 080a 0a8c 8c16 16ab aba1 a103 0303 03ac ac71 7117 1703 0303 0302 [[020d]] [[0d81]] 81d5 d5df df62 6285 8583 835d 5d38 38a1 a17c 7c7b 7b4c 4cde deb1 b16b 6bbd bdf6 f6b9 b949 49a7 a783 835c 5c4b 4b7f 7fcf cfc6 c668 6831 3118 183a\n",
      "\n",
      "f4e6 e6ac ac77 7794 943d 3d27 27ff ff3a 3a0f 0f80 8018 1801 010a 0af9 f931 3100 0000 0001 0101 0108 080a 0a8c 8c16 16ab aba1 a103 0303 03ac ac71 7117 1703 0303 0302 [[0255]] [[5581]] 81d5 d5df df62 6285 8583 835d 5d38 38a1 a17c 7c7b 7b4c 4cde deb1 b16b 6bbd bdf6 f6b9 b949 49a7 a783 835c 5c4b 4b7f 7fcf cfc6 c668 6831 3118 183a\n",
      "\n",
      "\n"
     ]
    },
    {
     "name": "stderr",
     "output_type": "stream",
     "text": [
      "[Succeeded / Failed / Skipped / Total] 93 / 0 / 3 / 96:  93%|█████████▎| 93/100 [03:03<00:13,  1.98s/it]"
     ]
    },
    {
     "name": "stdout",
     "output_type": "stream",
     "text": [
      "--------------------------------------------- Result 96 ---------------------------------------------\n",
      "[[100 (100%)]] --> [[47 (100%)]]\n",
      "\n",
      "ea05 051f 1f6e 6e70 70f8 f8ff ff0c 0ca9 a919 1950 5010 1000 [[003c]] [[3c41]] 4106 0600 0000 00e6 e626 26cb cb45 45d0 d0c9 c9ff ffcb cb6d 6ddc dc18 182d 2d68 6826 2687 8723 2365 6542 427b 7bc2 c20e 0e0b 0bd1 d111 1133 331b 1b2a 2a10 1000 007e 7e5a 5a85 85a2 a2f3 f3f2 f265 65ce ce67 6706 0634 34e0 e037 37da da9a 9ac8 c802 02b6\n",
      "\n",
      "ea05 051f 1f6e 6e70 70f8 f8ff ff0c 0ca9 a919 1950 5010 1000 [[008c]] [[8c41]] 4106 0600 0000 00e6 e626 26cb cb45 45d0 d0c9 c9ff ffcb cb6d 6ddc dc18 182d 2d68 6826 2687 8723 2365 6542 427b 7bc2 c20e 0e0b 0bd1 d111 1133 331b 1b2a 2a10 1000 007e 7e5a 5a85 85a2 a2f3 f3f2 f265 65ce ce67 6706 0634 34e0 e037 37da da9a 9ac8 c802 02b6\n",
      "\n",
      "\n"
     ]
    },
    {
     "name": "stderr",
     "output_type": "stream",
     "text": [
      "[Succeeded / Failed / Skipped / Total] 94 / 0 / 3 / 97:  94%|█████████▍| 94/100 [03:06<00:11,  1.98s/it]"
     ]
    },
    {
     "name": "stdout",
     "output_type": "stream",
     "text": [
      "--------------------------------------------- Result 97 ---------------------------------------------\n",
      "[[17 (100%)]] --> [[59 (100%)]]\n",
      "\n",
      "f78e 8e5c 5c31 3175 7545 4549 490d 0d2b 2b4c 4c80 8018 1800 [[0058]] [[588d]] 8d7d 7d00 0000 0001 0101 0108 080a 0ac4 c49f 9fb1 b102 0248 48e1 e140 40d0 d017 1703 0303 0301 0132 3242 42c9 c9ef efd0 d051 51d1 d125 25e0 e0f1 f136 3649 497b 7b37 3752 5213 130f 0fbd bda8 a8bd bdd7 d7e5 e5e6 e6d6 d628 2805 05a2 a2e5 e505 0582 82bd\n",
      "\n",
      "f78e 8e5c 5c31 3175 7545 4549 490d 0d2b 2b4c 4c80 8018 1800 [[0023]] [[238d]] 8d7d 7d00 0000 0001 0101 0108 080a 0ac4 c49f 9fb1 b102 0248 48e1 e140 40d0 d017 1703 0303 0301 0132 3242 42c9 c9ef efd0 d051 51d1 d125 25e0 e0f1 f136 3649 497b 7b37 3752 5213 130f 0fbd bda8 a8bd bdd7 d7e5 e5e6 e6d6 d628 2805 05a2 a2e5 e505 0582 82bd\n",
      "\n",
      "\n"
     ]
    },
    {
     "name": "stderr",
     "output_type": "stream",
     "text": [
      "[Succeeded / Failed / Skipped / Total] 95 / 0 / 3 / 98:  95%|█████████▌| 95/100 [03:07<00:09,  1.98s/it]"
     ]
    },
    {
     "name": "stdout",
     "output_type": "stream",
     "text": [
      "--------------------------------------------- Result 98 ---------------------------------------------\n",
      "[[102 (94%)]] --> [[45 (100%)]]\n",
      "\n",
      "01bb bb99 [[99b8]] [[b8c0]] c0cc cc24 2485 858f 8f29 2950 5018 1801 01fd fdda da63 6300 0000 0017 1703 0303 0304 041f 1f7b 7b3b 3bc1 c1cb cb3f 3f9b 9b40 403e 3ece cee5 e544 4431 316d 6d9d 9d7f 7fc7 c752 52c8 c894 945d 5d8b 8b06 06d1 d1d4 d451 519d 9d66 664b 4b7a 7aee ee38 3864 649a 9ade de7b 7b11 1135 3576 76ce ce47 4795 95c8\n",
      "\n",
      "01bb bb99 [[9977]] [[77c0]] c0cc cc24 2485 858f 8f29 2950 5018 1801 01fd fdda da63 6300 0000 0017 1703 0303 0304 041f 1f7b 7b3b 3bc1 c1cb cb3f 3f9b 9b40 403e 3ece cee5 e544 4431 316d 6d9d 9d7f 7fc7 c752 52c8 c894 945d 5d8b 8b06 06d1 d1d4 d451 519d 9d66 664b 4b7a 7aee ee38 3864 649a 9ade de7b 7b11 1135 3576 76ce ce47 4795 95c8\n",
      "\n",
      "\n"
     ]
    },
    {
     "name": "stderr",
     "output_type": "stream",
     "text": [
      "[Succeeded / Failed / Skipped / Total] 96 / 0 / 3 / 99:  96%|█████████▌| 96/100 [03:09<00:07,  1.97s/it]"
     ]
    },
    {
     "name": "stdout",
     "output_type": "stream",
     "text": [
      "--------------------------------------------- Result 99 ---------------------------------------------\n",
      "[[8 (99%)]] --> [[118 (89%)]]\n",
      "\n",
      "01bb bb59 597e 7e63 63a9 a926 26ae aee9 e997 9750 5018 1808 0800 004d 4d3f 3f00 0000 0017 1703 0303 0300 [[0013]] [[1334]] 3420 209c 9c2f 2f74 748f 8f1e 1ea5 a54c 4ccd cde9 e993 935a 5a83 83ab aba9 a909 09d2 d2e2\n",
      "\n",
      "01bb bb59 597e 7e63 63a9 a926 26ae aee9 e997 9750 5018 1808 0800 004d 4d3f 3f00 0000 0017 1703 0303 0300 [[00fa]] [[fa34]] 3420 209c 9c2f 2f74 748f 8f1e 1ea5 a54c 4ccd cde9 e993 935a 5a83 83ab aba9 a909 09d2 d2e2\n",
      "\n",
      "\n"
     ]
    },
    {
     "name": "stderr",
     "output_type": "stream",
     "text": [
      "[Succeeded / Failed / Skipped / Total] 97 / 0 / 3 / 100:  97%|█████████▋| 97/100 [03:11<00:05,  1.97s/it]"
     ]
    },
    {
     "name": "stdout",
     "output_type": "stream",
     "text": [
      "--------------------------------------------- Result 100 ---------------------------------------------\n",
      "[[19 (100%)]] --> [[73 (100%)]]\n",
      "\n",
      "9d72 7220 202a 2a56 566c 6ceb eb08 087a 7a10 1080 8010 1000 0053 5332 32ea ea00 0000 0001 0101 0108 080a 0a88 88c1 c1e2 e263 6302 [[029c]] [[9ccb]] cbd7 d774 7483 8322 2257 57f6 f66a 6aba ba6e 6ec8 c8aa aacd cd11 1133 33c0 c0e0 e094 94b0 b0cc cc06 063b 3b0c 0c47 47d6 d66f 6f31 31b4 b4f7 f731 31c3 c321 21eb eb9a 9a90 90ba ba01\n",
      "\n",
      "9d72 7220 202a 2a56 566c 6ceb eb08 087a 7a10 1080 8010 1000 0053 5332 32ea ea00 0000 0001 0101 0108 080a 0a88 88c1 c1e2 e263 6302 [[02ec]] [[eccb]] cbd7 d774 7483 8322 2257 57f6 f66a 6aba ba6e 6ec8 c8aa aacd cd11 1133 33c0 c0e0 e094 94b0 b0cc cc06 063b 3b0c 0c47 47d6 d66f 6f31 31b4 b4f7 f731 31c3 c321 21eb eb9a 9a90 90ba ba01\n",
      "\n",
      "\n",
      "\n",
      "+-------------------------------+--------+\n",
      "| Attack Results                |        |\n",
      "+-------------------------------+--------+\n",
      "| Number of successful attacks: | 97     |\n",
      "| Number of failed attacks:     | 0      |\n",
      "| Number of skipped attacks:    | 3      |\n",
      "| Original accuracy:            | 97.0%  |\n",
      "| Accuracy under attack:        | 0.0%   |\n",
      "| Attack success rate:          | 100.0% |\n",
      "| Average perturbed word %:     | 3.43%  |\n",
      "| Average num. words per input: | 62.86  |\n",
      "| Avg num queries:              | 317.1  |\n",
      "+-------------------------------+--------+\n"
     ]
    },
    {
     "name": "stderr",
     "output_type": "stream",
     "text": [
      "\n"
     ]
    }
   ],
   "source": [
    "# Attack until 1000 successful attacks are reached\n",
    "attack_args = AttackArgs(num_successful_examples=100, random_seed=42)\n",
    "attacker = Attacker(attack, dataset, attack_args)\n",
    "attack_results = attacker.attack_dataset()"
   ]
  },
  {
   "cell_type": "markdown",
   "metadata": {},
   "source": [
    "# 6. Display attack results"
   ]
  },
  {
   "cell_type": "code",
   "execution_count": 6,
   "metadata": {},
   "outputs": [
    {
     "name": "stderr",
     "output_type": "stream",
     "text": [
      "textattack: Logging to CSV at path results.csv\n"
     ]
    },
    {
     "data": {
      "text/html": [
       "<table border=\"1\" class=\"dataframe\">\n",
       "  <thead>\n",
       "    <tr style=\"text-align: right;\">\n",
       "      <th></th>\n",
       "      <th>original_text</th>\n",
       "      <th>perturbed_text</th>\n",
       "    </tr>\n",
       "  </thead>\n",
       "  <tbody>\n",
       "    <tr>\n",
       "      <th>0</th>\n",
       "      <td><font color = gray>e57a</font> <font color = gray>7af9</font> f9d8 d828 2874 74fb fb4c 4ca4 a4af af80 8018 1801 01f5 f5f1 f112 1200 0000 0001 0101 0108 080a 0aad ad90 9064 6433 334d 4d8d 8d2b 2b08 0835 35eb eb46 462a 2a9b 9b2a 2a90 90a9 a97e 7e96 968d 8d4c 4c82 826a 6a6b 6b5a 5a88 888b 8b70 708a 8ad4 d4dd dd16 1697 97dc dc6c 6c88 8843 43a3 a3d1 d1f9 f929 29d6 d6ee eeb7</td>\n",
       "      <td><font color = blue>e501</font> <font color = blue>01f9</font> f9d8 d828 2874 74fb fb4c 4ca4 a4af af80 8018 1801 01f5 f5f1 f112 1200 0000 0001 0101 0108 080a 0aad ad90 9064 6433 334d 4d8d 8d2b 2b08 0835 35eb eb46 462a 2a9b 9b2a 2a90 90a9 a97e 7e96 968d 8d4c 4c82 826a 6a6b 6b5a 5a88 888b 8b70 708a 8ad4 d4dd dd16 1697 97dc dc6c 6c88 8843 43a3 a3d1 d1f9 f929 29d6 d6ee eeb7</td>\n",
       "    </tr>\n",
       "    <tr>\n",
       "      <th>1</th>\n",
       "      <td>01bb bb1a 1ae9 e93d 3dd1 d124 24ed edd8 d820 2080 8018 1808 0800 00cc cc94 9400 0000 0001 0101 0108 080a 0a3b <font color = green>3b2c</font> <font color = green>2cbe</font> be15 150b 0bc0 c0b9 b9f2 f217 1703 0303 0300 001f 1f6e 6eab ab12 12f7 f761 617c 7ccb cb67 675b 5b4f 4f8d 8de4 e421 21d0 d034 3409 09b7 b7e5 e52a 2ab1 b1bb bbf7 f758 5899 9978 7891 91e2 e217 1718 1807</td>\n",
       "      <td>01bb bb1a 1ae9 e93d 3dd1 d124 24ed edd8 d820 2080 8018 1808 0800 00cc cc94 9400 0000 0001 0101 0108 080a 0a3b <font color = brown>3b66</font> <font color = brown>66be</font> be15 150b 0bc0 c0b9 b9f2 f217 1703 0303 0300 001f 1f6e 6eab ab12 12f7 f761 617c 7ccb cb67 675b 5b4f 4f8d 8de4 e421 21d0 d034 3409 09b7 b7e5 e52a 2ab1 b1bb bbf7 f758 5899 9978 7891 91e2 e217 1718 1807</td>\n",
       "    </tr>\n",
       "    <tr>\n",
       "      <th>2</th>\n",
       "      <td>f0df <font color = purple>dfff</font> <font color = purple>ff92</font> 92fa fa22 22b6 b64c 4c94 94ac ac80 8018 1801 <font color = purple>0110</font> <font color = purple>1041</font> 414f 4f00 0000 0001 0101 0108 080a 0a05 0542 42c9 c99a 9a29 2920 20aa aae5 e517 1703 0303 0302 020d 0d8c 8c3a 3abf bf43 4369 690b 0ba3 a3ed eda5 a5d7 d739 390e 0ee8 e82d 2d36 3686 86d3 d3b8 b895 95d9 d94a 4a73 73de de6e 6ea6 a6f9 f9e3 e34d 4dca ca1a</td>\n",
       "      <td>f0df <font color = cyan>df0f</font> <font color = cyan>0f92</font> 92fa fa22 22b6 b64c 4c94 94ac ac80 8018 1801 <font color = cyan>01f3</font> <font color = cyan>f341</font> 414f 4f00 0000 0001 0101 0108 080a 0a05 0542 42c9 c99a 9a29 2920 20aa aae5 e517 1703 0303 0302 020d 0d8c 8c3a 3abf bf43 4369 690b 0ba3 a3ed eda5 a5d7 d739 390e 0ee8 e82d 2d36 3686 86d3 d3b8 b895 95d9 d94a 4a73 73de de6e 6ea6 a6f9 f9e3 e34d 4dca ca1a</td>\n",
       "    </tr>\n",
       "    <tr>\n",
       "      <th>3</th>\n",
       "      <td><font color = red>01bb</font> <font color = red>bbc8</font> c8ff ff31 3158 582f 2f63 630a 0aaa aa80 8010 1001 01f5 f596 9682 8200 0000 0001 0101 0108 080a 0acb cbb7 b786 8687 871b 1bcf cf2b 2bc9 c9a2 a213 1304 041e 1ee0 e04a 4af2 f23e 3e69 6961 612b 2b65 65e6 e63b 3b77 77f8 f855 557e 7e22 221d 1d62 6217 1770 70a3 a352 527a 7afd fd2e 2ea6 a65f 5fed edd0 d0f5 f5bd bd65</td>\n",
       "      <td><font color = purple>010b</font> <font color = purple>0bc8</font> c8ff ff31 3158 582f 2f63 630a 0aaa aa80 8010 1001 01f5 f596 9682 8200 0000 0001 0101 0108 080a 0acb cbb7 b786 8687 871b 1bcf cf2b 2bc9 c9a2 a213 1304 041e 1ee0 e04a 4af2 f23e 3e69 6961 612b 2b65 65e6 e63b 3b77 77f8 f855 557e 7e22 221d 1d62 6217 1770 70a3 a352 527a 7afd fd2e 2ea6 a65f 5fed edd0 d0f5 f5bd bd65</td>\n",
       "    </tr>\n",
       "    <tr>\n",
       "      <th>4</th>\n",
       "      <td>01bb <font color = red>bbc9</font> <font color = red>c973</font> 735f 5f72 72dd ddd1 d121 215b 5b50 5018 1800 00ff ff6c 6c15 1500 0000 00d5 d523 2329 2996 969c 9ce1 e10d 0d81 81a4 a404 049f 9faf af55 55c2 c250 50b4 b404 04c1 c109 09b8 b817 17b7 b712 1254 541c 1c23 23da da55 55b1 b109 09c2 c225 2510 10f2 f24e 4ecc cc8f 8f27 277b 7bf9 f9af af07 075f 5f33 33a3 a33b 3b34</td>\n",
       "      <td>01bb <font color = orange>bb07</font> <font color = orange>0773</font> 735f 5f72 72dd ddd1 d121 215b 5b50 5018 1800 00ff ff6c 6c15 1500 0000 00d5 d523 2329 2996 969c 9ce1 e10d 0d81 81a4 a404 049f 9faf af55 55c2 c250 50b4 b404 04c1 c109 09b8 b817 17b7 b712 1254 541c 1c23 23da da55 55b1 b109 09c2 c225 2510 10f2 f24e 4ecc cc8f 8f27 277b 7bf9 f9af af07 075f 5f33 33a3 a33b 3b34</td>\n",
       "    </tr>\n",
       "    <tr>\n",
       "      <th>5</th>\n",
       "      <td>01bb bb5d <font color = cyan>5dc3</font> <font color = cyan>c39c</font> 9cd0 d0e8 e8f3 f388 88d5 d550 5018 1802 0203 0388 8834 3400 0000 0017 1703 0303 0301 0171 718a 8a95 95c3 c3a0 a0c3 c37c 7c2f 2f1d 1d28 28f7 f70b 0bf5 f5d1 d15e 5ee0 e04c 4c28 2834 34a2 a267 676c 6c75 751a 1a7b 7b81 81dd dda4 a41d 1dda da1a 1ad5 d5f7 f7a6 a6ca ca7b 7ba7 a742 42ed eda5 a544 44cd cdaa</td>\n",
       "      <td>01bb bb5d <font color = yellow>5d7f</font> <font color = yellow>7f9c</font> 9cd0 d0e8 e8f3 f388 88d5 d550 5018 1802 0203 0388 8834 3400 0000 0017 1703 0303 0301 0171 718a 8a95 95c3 c3a0 a0c3 c37c 7c2f 2f1d 1d28 28f7 f70b 0bf5 f5d1 d15e 5ee0 e04c 4c28 2834 34a2 a267 676c 6c75 751a 1a7b 7b81 81dd dda4 a41d 1dda da1a 1ad5 d5f7 f7a6 a6ca ca7b 7ba7 a742 42ed eda5 a544 44cd cdaa</td>\n",
       "    </tr>\n",
       "    <tr>\n",
       "      <th>6</th>\n",
       "      <td><font color = blue>c616</font> <font color = blue>16af</font> afd0 d081 81d0 d042 42f7 f70d 0de0 e050 5010 1000 00c1 c19f 9ff7 f700 0000 0080 809b 9be2 e2d7 d74d 4d64 641c 1cc1 c129 29d5 d5d5 d5ce cef4 f472 72a1 a148 4871 71c9 c982 82f7 f7fb fbbc bc4b 4bc0 c065 65e6 e6c2 c223 230e 0e3a 3a36 36b5 b5fc fc98 981f 1f85 8579 79e9 e90b 0bf9 f940 405c 5c75 7588 8898 988a 8a68</td>\n",
       "      <td><font color = pink>c605</font> <font color = pink>05af</font> afd0 d081 81d0 d042 42f7 f70d 0de0 e050 5010 1000 00c1 c19f 9ff7 f700 0000 0080 809b 9be2 e2d7 d74d 4d64 641c 1cc1 c129 29d5 d5d5 d5ce cef4 f472 72a1 a148 4871 71c9 c982 82f7 f7fb fbbc bc4b 4bc0 c065 65e6 e6c2 c223 230e 0e3a 3a36 36b5 b5fc fc98 981f 1f85 8579 79e9 e90b 0bf9 f940 405c 5c75 7588 8898 988a 8a68</td>\n",
       "    </tr>\n",
       "    <tr>\n",
       "      <th>7</th>\n",
       "      <td>ef22 221a 1a34 34f3 f3b3 b3da dae7 e72f 2f9d 9d80 8018 1802 0230 30b0 b077 7700 0000 0001 0101 0108 080a 0a00 00fd fd0f 0f40 404e 4e2d 2d65 6588 8817 1703 0303 0302 0201 010e 0ed7 d734 34d6 d693 93ed eded ed59 5985 8594 94b9 b95c 5ce8 e8de de9f 9f14 141f 1f0d 0df1 f170 707d 7dd8 d831 31a2 a28b 8b8f 8f88 88b1 b14a 4aac</td>\n",
       "      <td>ef22 221a 1a34 34f3 f3b3 b3da dae7 e72f 2f9d 9d80 8018 1802 0230 30b0 b077 7700 0000 0001 0101 0108 080a 0a00 00fd fd0f 0f40 404e 4e2d 2d65 6588 8817 1703 0303 0302 0201 010e 0ed7 d734 34d6 d693 93ed eded ed59 5985 8594 94b9 b95c 5ce8 e8de de9f 9f14 141f 1f0d 0df1 f170 707d 7dd8 d831 31a2 a28b 8b8f 8f88 88b1 b14a 4aac</td>\n",
       "    </tr>\n",
       "    <tr>\n",
       "      <th>8</th>\n",
       "      <td>c0d2 d2af af96 96ad ad72 72f3 f38b 8bc7 c738 3850 5018 1801 <font color = orange>014a</font> <font color = orange>4a31</font> 313c 3c00 0000 0093 9359 59c5 c5ed ed95 95d8 d834 34ca ca82 8210 1079 794d 4dc0 c0d3 d360 60af af7f 7f1f 1f84 8481 8125 257f 7f9c 9cb8 b81b 1bdd dd3e 3e8d 8dfb fbc0 c0c7 c717 1703 0303 0300 0045 4546 460b 0bfa faca caa4 a415 153f 3fc9 c953 5389 8945</td>\n",
       "      <td>c0d2 d2af af96 96ad ad72 72f3 f38b 8bc7 c738 3850 5018 1801 <font color = cyan>0160</font> <font color = cyan>6031</font> 313c 3c00 0000 0093 9359 59c5 c5ed ed95 95d8 d834 34ca ca82 8210 1079 794d 4dc0 c0d3 d360 60af af7f 7f1f 1f84 8481 8125 257f 7f9c 9cb8 b81b 1bdd dd3e 3e8d 8dfb fbc0 c0c7 c717 1703 0303 0300 0045 4546 460b 0bfa faca caa4 a415 153f 3fc9 c953 5389 8945</td>\n",
       "    </tr>\n",
       "    <tr>\n",
       "      <th>9</th>\n",
       "      <td><font color = green>dc75</font> <font color = green>7582</font> 827d 7dad adc7 c7c5 c555 553a 3a97 9750 5010 1000 0053 5312 12bf bf00 0000 0075 752e 2eb4 b480 80e3 e3da da49 492c 2c98 9833 33b8 b821 210b 0b3c 3cd2 d2c7 c740 4063 6310 104a 4a79 791b 1b30 30e9 e963 638e 8e07 0727 2771 71fd fdd4 d497 971c 1ce2 e2c8 c8a1 a138 38be bec9 c931 313d 3d0a 0a3c 3c5f 5f08 08bb bbde</td>\n",
       "      <td><font color = blue>dcea</font> <font color = blue>ea82</font> 827d 7dad adc7 c7c5 c555 553a 3a97 9750 5010 1000 0053 5312 12bf bf00 0000 0075 752e 2eb4 b480 80e3 e3da da49 492c 2c98 9833 33b8 b821 210b 0b3c 3cd2 d2c7 c740 4063 6310 104a 4a79 791b 1b30 30e9 e963 638e 8e07 0727 2771 71fd fdd4 d497 971c 1ce2 e2c8 c8a1 a138 38be bec9 c931 313d 3d0a 0a3c 3c5f 5f08 08bb bbde</td>\n",
       "    </tr>\n",
       "    <tr>\n",
       "      <th>10</th>\n",
       "      <td><font color = red>f1ed</font> <font color = red>ed9c</font> 9c75 758f 8f93 93a2 a2ab abbf bf25 2550 5010 1000 0043 4312 1222 2200 0000 0012 12eb eb8d 8d75 7577 7700 0037 3758 58b7 b7f5 f5cd cdb5 b567 67ee ee59 598d 8dee ee5c 5c72 7246 46db db03 0386 86e3 e368 68df df8c 8cdf dfa4 a4fe feb3 b387 874f 4f45 4596 96fb fb9a 9a30 309c 9ce7 e7d3 d370 70de de52 52fe fe8a 8abb</td>\n",
       "      <td><font color = pink>f124</font> <font color = pink>249c</font> 9c75 758f 8f93 93a2 a2ab abbf bf25 2550 5010 1000 0043 4312 1222 2200 0000 0012 12eb eb8d 8d75 7577 7700 0037 3758 58b7 b7f5 f5cd cdb5 b567 67ee ee59 598d 8dee ee5c 5c72 7246 46db db03 0386 86e3 e368 68df df8c 8cdf dfa4 a4fe feb3 b387 874f 4f45 4596 96fb fb9a 9a30 309c 9ce7 e7d3 d370 70de de52 52fe fe8a 8abb</td>\n",
       "    </tr>\n",
       "    <tr>\n",
       "      <th>11</th>\n",
       "      <td><font color = brown>e493</font> <font color = brown>931a</font> 1a93 9323 239e 9ece cea1 a187 873b 3b50 5010 1000 00b3 b3de de5d 5d00 0000 0092 923d 3dfe fe2f 2fe2 e297 9783 8385 8576 76ba ba59 5912 1245 45ba ba1f 1f43 4337 371e 1ebf bff8 f873 73a2 a2dd dd26 26dd dd6f 6fbe be2b 2bd7 d7e6 e6d5 d543 4395 95dc dc40 40c4 c448 48e4 e415 156c 6c00 0027 2749 49c6 c6ab ab1d 1d61</td>\n",
       "      <td><font color = blue>e433</font> <font color = blue>331a</font> 1a93 9323 239e 9ece cea1 a187 873b 3b50 5010 1000 00b3 b3de de5d 5d00 0000 0092 923d 3dfe fe2f 2fe2 e297 9783 8385 8576 76ba ba59 5912 1245 45ba ba1f 1f43 4337 371e 1ebf bff8 f873 73a2 a2dd dd26 26dd dd6f 6fbe be2b 2bd7 d7e6 e6d5 d543 4395 95dc dc40 40c4 c448 48e4 e415 156c 6c00 0027 2749 49c6 c6ab ab1d 1d61</td>\n",
       "    </tr>\n",
       "    <tr>\n",
       "      <th>12</th>\n",
       "      <td>c7de de12 1212 1280 804a 4a44 44b6 b67d 7dea ea50 5018 1801 <font color = orange>01f5</font> <font color = orange>f51e</font> 1e2c 2c00 0000 0075 7582 8255 553b 3bbc bcaf af43 430f 0f87 8762 62bf bf5e 5e98 987d 7d55 55aa aa40 40f2 f2c0 c072 727f 7ff0 f017 17df dfd3 d3dc dc5a 5ac2 c250 5099 993d 3d82 82a1 a133 331b 1b4b 4b90 90d4 d442 425e 5e2b 2b96 9675 75a7 a735 35dc dc06</td>\n",
       "      <td>c7de de12 1212 1280 804a 4a44 44b6 b67d 7dea ea50 5018 1801 <font color = brown>01ce</font> <font color = brown>ce1e</font> 1e2c 2c00 0000 0075 7582 8255 553b 3bbc bcaf af43 430f 0f87 8762 62bf bf5e 5e98 987d 7d55 55aa aa40 40f2 f2c0 c072 727f 7ff0 f017 17df dfd3 d3dc dc5a 5ac2 c250 5099 993d 3d82 82a1 a133 331b 1b4b 4b90 90d4 d442 425e 5e2b 2b96 9675 75a7 a735 35dc dc06</td>\n",
       "    </tr>\n",
       "    <tr>\n",
       "      <th>13</th>\n",
       "      <td><font color = pink>01bb</font> <font color = pink>bbce</font> cee0 e08e 8e33 3325 2554 542c 2c0f 0f50 5018 1801 0135 35b3 b39d 9d00 0000 0094 94c7 c757 570c 0c50 506c 6c26 260a 0ad9 d93c 3ca2 a2eb eb60 6037 3775 75aa aa91 910b 0b41 41ea ea5a 5a95 951b 1b83 836d 6d21 21ee ee84 8455 55de de3c 3c2f 2f12 1275 756c 6c25 2532 32fb fba0 a09f 9f7c 7cde de3e 3e52 5211 1137 372d</td>\n",
       "      <td><font color = pink>017f</font> <font color = pink>7fce</font> cee0 e08e 8e33 3325 2554 542c 2c0f 0f50 5018 1801 0135 35b3 b39d 9d00 0000 0094 94c7 c757 570c 0c50 506c 6c26 260a 0ad9 d93c 3ca2 a2eb eb60 6037 3775 75aa aa91 910b 0b41 41ea ea5a 5a95 951b 1b83 836d 6d21 21ee ee84 8455 55de de3c 3c2f 2f12 1275 756c 6c25 2532 32fb fba0 a09f 9f7c 7cde de3e 3e52 5211 1137 372d</td>\n",
       "    </tr>\n",
       "    <tr>\n",
       "      <th>14</th>\n",
       "      <td><font color = pink>c27d</font> <font color = pink>7dcd</font> cd21 21c1 c118 18d3 d364 642c 2c41 4180 8018 1801 010d 0dab ab90 9000 0000 0001 0101 0108 080a 0a2a 2ac5 c58a 8af9 f903 0336 3676 7602 0217 1703 0303 0305 0589 89a6 a6ea ea8b 8bcb cbd9 d970 7069 693d 3df2 f2d9 d977 773f 3f6b 6b52 5257 57d0 d029 2992 92d6 d650 5016 16c0 c00b 0ba1 a191 913a 3a16 1641 411b 1b36</td>\n",
       "      <td><font color = purple>c24d</font> <font color = purple>4dcd</font> cd21 21c1 c118 18d3 d364 642c 2c41 4180 8018 1801 010d 0dab ab90 9000 0000 0001 0101 0108 080a 0a2a 2ac5 c58a 8af9 f903 0336 3676 7602 0217 1703 0303 0305 0589 89a6 a6ea ea8b 8bcb cbd9 d970 7069 693d 3df2 f2d9 d977 773f 3f6b 6b52 5257 57d0 d029 2992 92d6 d650 5016 16c0 c00b 0ba1 a191 913a 3a16 1641 411b 1b36</td>\n",
       "    </tr>\n",
       "    <tr>\n",
       "      <th>15</th>\n",
       "      <td>d638 <font color = cyan>38d3</font> <font color = cyan>d3c7</font> c7fb fbe4 e44b 4bc0 c0ac ac78 7850 5010 1000 007b 7b5e 5e96 9600 0000 0016 1603 0303 0300 007a 7a02 0200 0000 0076 7603 0303 0388 889d 9d5c 5ccc cc7d 7d97 97b3 b3d9 d9f4 f4e4 e41e 1e9f 9f13 13a5 a572 72ce ce51 5182 82c7 c705 052a 2a78 7891 912b 2b99 997c 7c44 4421 21e1 e1f1 f1d8 d8b4 b420 20e8 e874 7477</td>\n",
       "      <td>d638 <font color = gray>382a</font> <font color = gray>2ac7</font> c7fb fbe4 e44b 4bc0 c0ac ac78 7850 5010 1000 007b 7b5e 5e96 9600 0000 0016 1603 0303 0300 007a 7a02 0200 0000 0076 7603 0303 0388 889d 9d5c 5ccc cc7d 7d97 97b3 b3d9 d9f4 f4e4 e41e 1e9f 9f13 13a5 a572 72ce ce51 5182 82c7 c705 052a 2a78 7891 912b 2b99 997c 7c44 4421 21e1 e1f1 f1d8 d8b4 b420 20e8 e874 7477</td>\n",
       "    </tr>\n",
       "    <tr>\n",
       "      <th>16</th>\n",
       "      <td>01bb bb5a <font color = purple>5a28</font> <font color = purple>284d</font> 4d94 949a 9aca ca64 6487 87e0 e010 1002 0202 0206 06ef ef00 0000 0001 0101 0105 0522 229a 9aca caac ac3b 3b9a 9aca cab7 b743 439a 9aca ca96 962b 2b9a 9aca caa6 a6b7 b79a 9aca ca85 859f 9f9a 9aca ca90 90a7 a79a 9aca ca6a 6a0b 0b9a 9aca ca80 801b</td>\n",
       "      <td>01bb bb5a <font color = purple>5ab9</font> <font color = purple>b94d</font> 4d94 949a 9aca ca64 6487 87e0 e010 1002 0202 0206 06ef ef00 0000 0001 0101 0105 0522 229a 9aca caac ac3b 3b9a 9aca cab7 b743 439a 9aca ca96 962b 2b9a 9aca caa6 a6b7 b79a 9aca ca85 859f 9f9a 9aca ca90 90a7 a79a 9aca ca6a 6a0b 0b9a 9aca ca80 801b</td>\n",
       "    </tr>\n",
       "    <tr>\n",
       "      <th>17</th>\n",
       "      <td><font color = blue>eff2</font> <font color = blue>f236</font> 366d 6d08 08bd bd15 15be be27 27c3 c350 5010 1001 0109 0998 9860 6000 0000 0017 1703 0303 0340 4011 1126 2678 7881 8193 93b3 b3c4 c43e 3e0d 0d0a 0a1e 1e60 604b 4b6e 6e15 1573 7380 8001 01d8 d8f4 f4d6 d62b 2be4 e4d5 d5ef ef27 2734 3409 0931 3149 4995 9501 010a 0a4e 4ee7 e77e 7e05 05b3 b388 883f 3f83 833f 3fec</td>\n",
       "      <td><font color = red>ef7f</font> <font color = red>7f36</font> 366d 6d08 08bd bd15 15be be27 27c3 c350 5010 1001 0109 0998 9860 6000 0000 0017 1703 0303 0340 4011 1126 2678 7881 8193 93b3 b3c4 c43e 3e0d 0d0a 0a1e 1e60 604b 4b6e 6e15 1573 7380 8001 01d8 d8f4 f4d6 d62b 2be4 e4d5 d5ef ef27 2734 3409 0931 3149 4995 9501 010a 0a4e 4ee7 e77e 7e05 05b3 b388 883f 3f83 833f 3fec</td>\n",
       "    </tr>\n",
       "    <tr>\n",
       "      <th>18</th>\n",
       "      <td><font color = pink>fbac</font> <font color = pink>ac40</font> 4056 568c 8c99 99c7 c7d4 d451 5135 3580 8010 1000 003b 3b97 978e 8e00 0000 0001 0101 0108 <font color = pink>080a</font> <font color = pink>0a46</font> 4619 1909 0983 8354 54f9 f92a 2a5f 5f26 2699 992e 2ec1 c115 1532 3203 0321 2193 9333 33cb cb2b 2b10 10fc fc61 6184 8490 907c 7c3a 3a3f 3f4c 4c51 519f 9ffe febc bc51 519d 9dc4 c425 25fb fbf2 f22c 2c61 61e7 e730</td>\n",
       "      <td><font color = yellow>fb6b</font> <font color = yellow>6b40</font> 4056 568c 8c99 99c7 c7d4 d451 5135 3580 8010 1000 003b 3b97 978e 8e00 0000 0001 0101 0108 <font color = yellow>08fb</font> <font color = yellow>fb46</font> 4619 1909 0983 8354 54f9 f92a 2a5f 5f26 2699 992e 2ec1 c115 1532 3203 0321 2193 9333 33cb cb2b 2b10 10fc fc61 6184 8490 907c 7c3a 3a3f 3f4c 4c51 519f 9ffe febc bc51 519d 9dc4 c425 25fb fbf2 f22c 2c61 61e7 e730</td>\n",
       "    </tr>\n",
       "    <tr>\n",
       "      <th>19</th>\n",
       "      <td>f12d 2da9 a962 62ca caec ecdf df2e 2e6f 6f5a 5a50 5018 1800 <font color = gray>0041</font> <font color = gray>4195</font> 959a 9a00 0000 0017 1703 0303 0305 056d 6d79 79aa aa50 50bd bdf8 f88e 8e91 9131 315d 5d76 76e2 e251 5159 59bb bb4f 4f76 76cd cd20 20b1 b196 96d2 d22a 2af1 f17e 7eac ac66 66df df01 0140 40bb bb9b 9bf0 f0b3 b38b 8bcb cbba ba89 89d2 d2b0 b04d 4d95 95f9</td>\n",
       "      <td>f12d 2da9 a962 62ca caec ecdf df2e 2e6f 6f5a 5a50 5018 1800 <font color = gray>008f</font> <font color = gray>8f95</font> 959a 9a00 0000 0017 1703 0303 0305 056d 6d79 79aa aa50 50bd bdf8 f88e 8e91 9131 315d 5d76 76e2 e251 5159 59bb bb4f 4f76 76cd cd20 20b1 b196 96d2 d22a 2af1 f17e 7eac ac66 66df df01 0140 40bb bb9b 9bf0 f0b3 b38b 8bcb cbba ba89 89d2 d2b0 b04d 4d95 95f9</td>\n",
       "    </tr>\n",
       "    <tr>\n",
       "      <th>20</th>\n",
       "      <td>d6d6 <font color = green>d660</font> <font color = green>605f</font> 5f42 42dd dd89 8993 937f 7f84 8450 5010 1002 0235 352f 2fc1 c100 0000 0017 1703 0303 031b 1b12 1287 87b7 b786 8632 32f6 f6f1 f184 849d 9df7 f70e 0e79 7976 768d 8d99 990d 0d8e 8ea2 a275 753d 3d4f 4f8a 8a13 13fc fc49 497a 7a5e 5e4d 4d46 460d 0daf afa5 a556 5617 1777 778d 8db2 b283 83be be25 25a2 a2a9 a983</td>\n",
       "      <td>d6d6 <font color = gray>d6b4</font> <font color = gray>b45f</font> 5f42 42dd dd89 8993 937f 7f84 8450 5010 1002 0235 352f 2fc1 c100 0000 0017 1703 0303 031b 1b12 1287 87b7 b786 8632 32f6 f6f1 f184 849d 9df7 f70e 0e79 7976 768d 8d99 990d 0d8e 8ea2 a275 753d 3d4f 4f8a 8a13 13fc fc49 497a 7a5e 5e4d 4d46 460d 0daf afa5 a556 5617 1777 778d 8db2 b283 83be be25 25a2 a2a9 a983</td>\n",
       "    </tr>\n",
       "    <tr>\n",
       "      <th>21</th>\n",
       "      <td>9e36 369c 9c7a 7a74 7494 9420 20df df77 7733 3380 8010 1000 <font color = purple>0053</font> <font color = purple>5377</font> 77c2 c200 0000 0001 0101 0108 080a 0a28 28f9 f9bd bd05 0500 00d8 d855 55fa fa95 9523 233c 3cf0 f0c0 c09f 9f85 8591 9107 07fd fd1e 1e09 092e 2ec1 c164 6412 12ec ec98 985d 5d9f 9fed edde deea ead5 d55a 5a2e 2e81 8171 7117 1722 220c 0cb2 b2b9 b965 6513</td>\n",
       "      <td>9e36 369c 9c7a 7a74 7494 9420 20df df77 7733 3380 8010 1000 <font color = purple>0017</font> <font color = purple>1777</font> 77c2 c200 0000 0001 0101 0108 080a 0a28 28f9 f9bd bd05 0500 00d8 d855 55fa fa95 9523 233c 3cf0 f0c0 c09f 9f85 8591 9107 07fd fd1e 1e09 092e 2ec1 c164 6412 12ec ec98 985d 5d9f 9fed edde deea ead5 d55a 5a2e 2e81 8171 7117 1722 220c 0cb2 b2b9 b965 6513</td>\n",
       "    </tr>\n",
       "    <tr>\n",
       "      <th>22</th>\n",
       "      <td>01bb bbe6 e6cb cb00 00f2 f2db db23 2336 361b 1b80 8010 1008 0800 00af af44 4400 0000 0001 0101 0108 080a 0a09 <font color = green>0947</font> <font color = green>47b0</font> b052 52c6 c692 92e7 e709 09af af68 686d 6dee eeea ea74 7491 91ee ee09 09c1 c18d 8d7e 7e5b 5b4c 4cfd fddb db03 03cf cf55 554b 4b80 8044 4431 3186 8693 9329 29dc dc49 4910 10f8 f845 4563 6303 0374 74d7</td>\n",
       "      <td>01bb bbe6 e6cb cb00 00f2 f2db db23 2336 361b 1b80 8010 1008 0800 00af af44 4400 0000 0001 0101 0108 080a 0a09 <font color = cyan>09e8</font> <font color = cyan>e8b0</font> b052 52c6 c692 92e7 e709 09af af68 686d 6dee eeea ea74 7491 91ee ee09 09c1 c18d 8d7e 7e5b 5b4c 4cfd fddb db03 03cf cf55 554b 4b80 8044 4431 3186 8693 9329 29dc dc49 4910 10f8 f845 4563 6303 0374 74d7</td>\n",
       "    </tr>\n",
       "    <tr>\n",
       "      <th>23</th>\n",
       "      <td><font color = yellow>1370</font> <font color = yellow>70c9</font> c943 43fc fc14 1406 06db db14 1438 3850 5018 1800 004e 4e0b 0be7 e700 0000 0017 1703 0303 0300 001a 1ae7 e77e 7e01 0179 79f5 f537 3788 88d1 d1c8 c818 1876 7637 3792 92d4 d496 967b 7b34 342e 2e6f 6fc7 c79b 9bc5 c5ca ca94 94be be23</td>\n",
       "      <td><font color = brown>1363</font> <font color = brown>63c9</font> c943 43fc fc14 1406 06db db14 1438 3850 5018 1800 004e 4e0b 0be7 e700 0000 0017 1703 0303 0300 001a 1ae7 e77e 7e01 0179 79f5 f537 3788 88d1 d1c8 c818 1876 7637 3792 92d4 d496 967b 7b34 342e 2e6f 6fc7 c79b 9bc5 c5ca ca94 94be be23</td>\n",
       "    </tr>\n",
       "    <tr>\n",
       "      <th>24</th>\n",
       "      <td>b9a2 a2c8 c81a 1a87 87a0 a01d <font color = purple>1dc9</font> <font color = purple>c94e</font> 4e3c 3c80 8010 1001 01f5 f5c5 c5bd bd00 0000 0001 0101 0108 080a 0a91 91ee ee0c 0c69 69ac acf9 f970 7014 142f 2f41 416b 6ba8 a807 0706 0672 72ee eedc dc23 23a9 a909 09da da25 25de deba bacb cbd8 d8ad ad84 84e9 e949 498a 8a46 46c8 c830 30b1 b19c 9c90 9005 05ca ca5f 5fc0 c072 7293</td>\n",
       "      <td>b9a2 a2c8 c81a 1a87 87a0 a01d <font color = yellow>1df4</font> <font color = yellow>f44e</font> 4e3c 3c80 8010 1001 01f5 f5c5 c5bd bd00 0000 0001 0101 0108 080a 0a91 91ee ee0c 0c69 69ac acf9 f970 7014 142f 2f41 416b 6ba8 a807 0706 0672 72ee eedc dc23 23a9 a909 09da da25 25de deba bacb cbd8 d8ad ad84 84e9 e949 498a 8a46 46c8 c830 30b1 b19c 9c90 9005 05ca ca5f 5fc0 c072 7293</td>\n",
       "    </tr>\n",
       "    <tr>\n",
       "      <th>25</th>\n",
       "      <td>0ca4 <font color = pink>a422</font> <font color = pink>22c8</font> c8bc bcfd fd4a 4ac7 c71a 1a9a 9a50 5010 1000 003e 3ed1 d187 8700 0000 00f3 f362 62e9 e943 431e 1e34 342d 2d11 1107 0740 4013 1307 0764 6499 993a 3a8f 8fc9 c91d 1d49 4947 47e1 e1b9 b90d 0dc8 c88d 8dab abe3 e3c2 c266 66c4 c48b 8b9a 9a5f 5fa1 a1d9 d91c 1c7c 7c5f 5f7c 7c0f 0fad ad37 37c8 c89c 9c88 887d 7d7a</td>\n",
       "      <td>0ca4 <font color = blue>a421</font> <font color = blue>21c8</font> c8bc bcfd fd4a 4ac7 c71a 1a9a 9a50 5010 1000 003e 3ed1 d187 8700 0000 00f3 f362 62e9 e943 431e 1e34 342d 2d11 1107 0740 4013 1307 0764 6499 993a 3a8f 8fc9 c91d 1d49 4947 47e1 e1b9 b90d 0dc8 c88d 8dab abe3 e3c2 c266 66c4 c48b 8b9a 9a5f 5fa1 a1d9 d91c 1c7c 7c5f 5f7c 7c0f 0fad ad37 37c8 c89c 9c88 887d 7d7a</td>\n",
       "    </tr>\n",
       "    <tr>\n",
       "      <th>26</th>\n",
       "      <td>d2fc fc92 92fa faef efee ee93 935b 5b91 9112 1280 8018 18c4 c4f0 f0a0 a0ba ba00 0000 0001 0101 0108 080a 0a35 <font color = brown>352d</font> <font color = brown>2dbd</font> bd83 831c 1c99 99e0 e070 70cd cdd7 d743 43d1 d1bf bf27 27ff ff8a 8ab6 b6f2 f26b 6b4b 4bfb fb1c 1cc4 c4fa fadb dbb6 b6a4 a496 96d0 d05b 5be1 e123 2377 7763 6301 0140 4068 6894 94d6 d63d 3d7d 7da7 a7cf</td>\n",
       "      <td>d2fc fc92 92fa faef efee ee93 935b 5b91 9112 1280 8018 18c4 c4f0 f0a0 a0ba ba00 0000 0001 0101 0108 080a 0a35 <font color = pink>35b4</font> <font color = pink>b4bd</font> bd83 831c 1c99 99e0 e070 70cd cdd7 d743 43d1 d1bf bf27 27ff ff8a 8ab6 b6f2 f26b 6b4b 4bfb fb1c 1cc4 c4fa fadb dbb6 b6a4 a496 96d0 d05b 5be1 e123 2377 7763 6301 0140 4068 6894 94d6 d63d 3d7d 7da7 a7cf</td>\n",
       "    </tr>\n",
       "    <tr>\n",
       "      <th>27</th>\n",
       "      <td>01bb bb25 259c 9c7e 7ee8 e8a4 a488 884a 4a9e 9e50 5018 1802 0201 014d 4dea ea00 0000 0014 1403 0303 0300 0001 0101 0117 1703 0303 0300 0045 4526 26cb cb99 9974 746d 6dbf bfde ded4 d49f 9f56 562c 2ca5 a540 40e6 e66d 6d36 36ba ba1e 1ed7 d714 1407 07de deed ed8d 8d5a 5a29 29d0 d037 3721 21d6 d63c 3c45 454a 4aa6 a6c7 c752</td>\n",
       "      <td>01bb bb25 259c 9c7e 7ee8 e8a4 a488 884a 4a9e 9e50 5018 1802 0201 014d 4dea ea00 0000 0014 1403 0303 0300 0001 0101 0117 1703 0303 0300 0045 4526 26cb cb99 9974 746d 6dbf bfde ded4 d49f 9f56 562c 2ca5 a540 40e6 e66d 6d36 36ba ba1e 1ed7 d714 1407 07de deed ed8d 8d5a 5a29 29d0 d037 3721 21d6 d63c 3c45 454a 4aa6 a6c7 c752</td>\n",
       "    </tr>\n",
       "    <tr>\n",
       "      <th>28</th>\n",
       "      <td><font color = purple>c7fb</font> <font color = purple>fb3f</font> 3f4f 4f22 22fd fde7 e772 72aa aaff ff50 5018 1800 008a 8a89 89d0 d000 0000 00c7 c721 211c 1c5b 5bbc bc82 8200 0011 11a5 a538 3859 5917 17c5 c5c5 c57b 7b74 749b 9be4 e46b 6bc4 c47d 7d13 1307 07d4 d494 9467 6727 274b 4b8b 8b91 91f6 f673 73f2 f2e2 e2b2 b2cf cf34 3452 529d 9d0f 0fc5 c5c4 c4cb cb58 58d8 d807 07a8</td>\n",
       "      <td><font color = gray>c702</font> <font color = gray>023f</font> 3f4f 4f22 22fd fde7 e772 72aa aaff ff50 5018 1800 008a 8a89 89d0 d000 0000 00c7 c721 211c 1c5b 5bbc bc82 8200 0011 11a5 a538 3859 5917 17c5 c5c5 c57b 7b74 749b 9be4 e46b 6bc4 c47d 7d13 1307 07d4 d494 9467 6727 274b 4b8b 8b91 91f6 f673 73f2 f2e2 e2b2 b2cf cf34 3452 529d 9d0f 0fc5 c5c4 c4cb cb58 58d8 d807 07a8</td>\n",
       "    </tr>\n",
       "    <tr>\n",
       "      <th>29</th>\n",
       "      <td><font color = orange>01bb</font> <font color = orange>bbf4</font> f4f7 f77b 7b1d 1d70 7099 99b3 b313 1380 8018 1808 0800 0098 9850 5000 0000 0001 0101 0108 080a 0a4b 4ba3 a3e9 e98d 8d59 59b3 b34a 4a47 4717 1703 0303 0300 0026 2660 601f 1f4b 4bdf df58 580a 0a51 51ca ca85 85f3 f3db db2e 2e9e 9e05 05c6 c690 90b9 b954 54ff ff73 7350 5068 6846 464e 4e19 199d 9ddb db8d 8d63 6394</td>\n",
       "      <td><font color = gray>012c</font> <font color = gray>2cf4</font> f4f7 f77b 7b1d 1d70 7099 99b3 b313 1380 8018 1808 0800 0098 9850 5000 0000 0001 0101 0108 080a 0a4b 4ba3 a3e9 e98d 8d59 59b3 b34a 4a47 4717 1703 0303 0300 0026 2660 601f 1f4b 4bdf df58 580a 0a51 51ca ca85 85f3 f3db db2e 2e9e 9e05 05c6 c690 90b9 b954 54ff ff73 7350 5068 6846 464e 4e19 199d 9ddb db8d 8d63 6394</td>\n",
       "    </tr>\n",
       "    <tr>\n",
       "      <th>30</th>\n",
       "      <td><font color = brown>01bb</font> <font color = brown>bb5a</font> 5a6f 6ff6 f6bf bfba bab9 b903 03af afb0 b010 1005 0589 891c 1c2b 2b00 0000 0001 0101 0108 080a 0a00 0017 1761 6123 23ff ff86 8641 4124 2401 0101 0105 050a 0aba bab8 b8fe fe07 07ba bab9 b903 03af</td>\n",
       "      <td><font color = cyan>01e6</font> <font color = cyan>e65a</font> 5a6f 6ff6 f6bf bfba bab9 b903 03af afb0 b010 1005 0589 891c 1c2b 2b00 0000 0001 0101 0108 080a 0a00 0017 1761 6123 23ff ff86 8641 4124 2401 0101 0105 050a 0aba bab8 b8fe fe07 07ba bab9 b903 03af</td>\n",
       "    </tr>\n",
       "    <tr>\n",
       "      <th>31</th>\n",
       "      <td><font color = blue>d0ac</font> <font color = blue>ac81</font> 8176 76ef ef12 1290 90a1 a10c 0cc6 c650 5010 1001 01f5 f567 6775 7500 0000 0013 13c7 c781 8108 086d 6d67 67d6 d6d4 d47d 7dee eeb5 b565 6523 23d1 d163 63e1 e1df df7a 7a03 03a4 a415 15f2 f254 5408 085e 5e44 44f3 f39c 9c82 82df dfed ed1e 1e2f 2f56 566b 6b94 94a0 a057 57b3 b399 994f 4f5c 5cfe fe66 66d6 d664 64b4</td>\n",
       "      <td><font color = gray>d056</font> <font color = gray>5681</font> 8176 76ef ef12 1290 90a1 a10c 0cc6 c650 5010 1001 01f5 f567 6775 7500 0000 0013 13c7 c781 8108 086d 6d67 67d6 d6d4 d47d 7dee eeb5 b565 6523 23d1 d163 63e1 e1df df7a 7a03 03a4 a415 15f2 f254 5408 085e 5e44 44f3 f39c 9c82 82df dfed ed1e 1e2f 2f56 566b 6b94 94a0 a057 57b3 b399 994f 4f5c 5cfe fe66 66d6 d664 64b4</td>\n",
       "    </tr>\n",
       "    <tr>\n",
       "      <th>32</th>\n",
       "      <td><font color = purple>01bb</font> <font color = purple>bba2</font> a2fc fc68 684f 4f0c 0cea eac7 c7b1 b1e0 e010 1008 0808 0853 5350 5000 0000 0001 0101 0105 0522 220c 0ced ed74 7411 110c 0cee ee58 5831 310c 0ced ed18 18d1 d10c 0ced ed3b 3b09 090c 0cec ec95 95a5 a50c 0ced ed13 131d 1d0c 0cec ec6d 6db9 b90c 0cec ec8f 8ff1</td>\n",
       "      <td><font color = green>0159</font> <font color = green>59a2</font> a2fc fc68 684f 4f0c 0cea eac7 c7b1 b1e0 e010 1008 0808 0853 5350 5000 0000 0001 0101 0105 0522 220c 0ced ed74 7411 110c 0cee ee58 5831 310c 0ced ed18 18d1 d10c 0ced ed3b 3b09 090c 0cec ec95 95a5 a50c 0ced ed13 131d 1d0c 0cec ec6d 6db9 b90c 0cec ec8f 8ff1</td>\n",
       "    </tr>\n",
       "    <tr>\n",
       "      <th>33</th>\n",
       "      <td>c5cb cbf9 f989 892f 2f0e 0e9b 9b71 71bb bb66 6680 8010 1000 00eb eb0f 0fa6 a600 0000 0001 0101 0108 080a <font color = green>0aa2</font> <font color = green>a29a</font> 9a0d 0dce ce60 60f6 f6e0 e069 69f4 f4b1 b1d8 d8c5 c53d 3d39 39c1 c183 8358 58b0 b0f1 f1eb eb8b 8bb0 b0cd cda2 a2f9 f9fb fbde de62 628e 8ecb cb79 79cf cfab ab4b 4b6c 6c1f 1f17 17df dfaf af0e 0eb5 b516 165f</td>\n",
       "      <td>c5cb cbf9 f989 892f 2f0e 0e9b 9b71 71bb bb66 6680 8010 1000 00eb eb0f 0fa6 a600 0000 0001 0101 0108 080a <font color = gray>0a17</font> <font color = gray>179a</font> 9a0d 0dce ce60 60f6 f6e0 e069 69f4 f4b1 b1d8 d8c5 c53d 3d39 39c1 c183 8358 58b0 b0f1 f1eb eb8b 8bb0 b0cd cda2 a2f9 f9fb fbde de62 628e 8ecb cb79 79cf cfab ab4b 4b6c 6c1f 1f17 17df dfaf af0e 0eb5 b516 165f</td>\n",
       "    </tr>\n",
       "    <tr>\n",
       "      <th>34</th>\n",
       "      <td>efb7 b7ef ef3e 3e85 85a0 a037 376b 6b65 65b6 b650 5010 1000 <font color = cyan>0059</font> <font color = cyan>590b</font> 0b52 5200 0000 0017 1703 0303 0310 101a 1a6c 6c18 1863 638c 8c14 14fa fae3 e3d9 d9cf cf4c 4c43 4325 2569 69e6 e6ad ada7 a7fb fbaf af47 4702 0249 4920 20bb bb68 6853 5386 86ab ab2b 2ba3 a3ea ea8e 8ec7 c7f1 f1f9 f9c0 c0b9 b920 201b 1b9b 9bb7 b7ae ae7a</td>\n",
       "      <td>efb7 b7ef ef3e 3e85 85a0 a037 376b 6b65 65b6 b650 5010 1000 <font color = red>003d</font> <font color = red>3d0b</font> 0b52 5200 0000 0017 1703 0303 0310 101a 1a6c 6c18 1863 638c 8c14 14fa fae3 e3d9 d9cf cf4c 4c43 4325 2569 69e6 e6ad ada7 a7fb fbaf af47 4702 0249 4920 20bb bb68 6853 5386 86ab ab2b 2ba3 a3ea ea8e 8ec7 c7f1 f1f9 f9c0 c0b9 b920 201b 1b9b 9bb7 b7ae ae7a</td>\n",
       "    </tr>\n",
       "    <tr>\n",
       "      <th>35</th>\n",
       "      <td>f106 0621 21ff ff0a 0a77 7797 97b3 b3ff ff3f 3f50 5010 1000 <font color = gray>007b</font> <font color = gray>7bb2</font> b292 9200 0000 0016 1603 0303 0300 007a 7a02 0200 0000 0076 7603 0303 0358 58a8 a8dd dd93 93fb fb03 03ce ce80 8098 989f 9f3c 3cb3 b37f 7f1b 1b1d 1d6e 6e9f 9f30 303b 3b08 08e7 e7d7 d758 58ab abbb bb0c 0cf0 f083 83e2 e217 1701 014e 4e20 2026 26da da5d</td>\n",
       "      <td>f106 0621 21ff ff0a 0a77 7797 97b3 b3ff ff3f 3f50 5010 1000 <font color = purple>0017</font> <font color = purple>17b2</font> b292 9200 0000 0016 1603 0303 0300 007a 7a02 0200 0000 0076 7603 0303 0358 58a8 a8dd dd93 93fb fb03 03ce ce80 8098 989f 9f3c 3cb3 b37f 7f1b 1b1d 1d6e 6e9f 9f30 303b 3b08 08e7 e7d7 d758 58ab abbb bb0c 0cf0 f083 83e2 e217 1701 014e 4e20 2026 26da da5d</td>\n",
       "    </tr>\n",
       "    <tr>\n",
       "      <th>36</th>\n",
       "      <td>01bb bbc7 c7e7 e786 86b2 b2af af93 9319 1901 0150 5018 1804 <font color = gray>0405</font> <font color = gray>05fe</font> fe59 5900 0000 0017 1703 0303 0301 01ca cad3 d376 7680 80b9 b957 57dc dc5a 5aff ff1b 1b3f 3fc8 c8e6 e62d 2d8f 8f8e 8edb dbf5 f596 96c8 c8f7 f79c 9c42 42ed edbf bf45 4568 68c3 c3c5 c520 20b9 b9ae ae51 51b5 b5aa aae5 e52d 2d16 1695 95f5 f515 157b 7b45</td>\n",
       "      <td>01bb bbc7 c7e7 e786 86b2 b2af af93 9319 1901 0150 5018 1804 <font color = gray>0486</font> <font color = gray>86fe</font> fe59 5900 0000 0017 1703 0303 0301 01ca cad3 d376 7680 80b9 b957 57dc dc5a 5aff ff1b 1b3f 3fc8 c8e6 e62d 2d8f 8f8e 8edb dbf5 f596 96c8 c8f7 f79c 9c42 42ed edbf bf45 4568 68c3 c3c5 c520 20b9 b9ae ae51 51b5 b5aa aae5 e52d 2d16 1695 95f5 f515 157b 7b45</td>\n",
       "    </tr>\n",
       "    <tr>\n",
       "      <th>37</th>\n",
       "      <td><font color = blue>c616</font> <font color = blue>16af</font> af26 26a3 a3fa fa42 42f7 f70d 0de0 e050 5010 1000 <font color = blue>00c1</font> <font color = blue>c1bd</font> bd1d 1d00 0000 0049 498f 8f70 70d0 d07a 7aff fff3 f369 69a0 a0df df8f 8f20 2038 3859 596c 6c11 11e4 e447 4798 98e9 e978 78d1 d165 659f 9f63 636f 6fda dac0 c0a2 a2be be79 790b 0bc9 c9ce ce91 9130 30ea eac8 c821 2142 42d9 d905 05c5 c5d2 d2d4 d48b 8b48</td>\n",
       "      <td><font color = brown>c6a6</font> <font color = brown>a6af</font> af26 26a3 a3fa fa42 42f7 f70d 0de0 e050 5010 1000 <font color = brown>002a</font> <font color = brown>2abd</font> bd1d 1d00 0000 0049 498f 8f70 70d0 d07a 7aff fff3 f369 69a0 a0df df8f 8f20 2038 3859 596c 6c11 11e4 e447 4798 98e9 e978 78d1 d165 659f 9f63 636f 6fda dac0 c0a2 a2be be79 790b 0bc9 c9ce ce91 9130 30ea eac8 c821 2142 42d9 d905 05c5 c5d2 d2d4 d48b 8b48</td>\n",
       "    </tr>\n",
       "    <tr>\n",
       "      <th>38</th>\n",
       "      <td>e5d5 d553 53d1 d18c 8c94 94a7 a7fd fdc0 c0a2 a250 5010 1000 <font color = pink>0044</font> <font color = pink>442c</font> 2c64 6400 0000 000f 0f18 187a 7adc dca2 a225 25b6 b622 2240 40e8 e859 59c2 c274 74b4 b47b 7b80 806c 6c6a 6a18 183b 3bb1 b1fb fbd7 d72b 2bfd fd8e 8e72 7217 17fe fe9b 9b00 00c8 c8d4 d499 9954 5408 080c 0c22 2285 8572 7218 18de de82 82b7 b747 473c 3c06</td>\n",
       "      <td>e5d5 d553 53d1 d18c 8c94 94a7 a7fd fdc0 c0a2 a250 5010 1000 <font color = gray>007b</font> <font color = gray>7b2c</font> 2c64 6400 0000 000f 0f18 187a 7adc dca2 a225 25b6 b622 2240 40e8 e859 59c2 c274 74b4 b47b 7b80 806c 6c6a 6a18 183b 3bb1 b1fb fbd7 d72b 2bfd fd8e 8e72 7217 17fe fe9b 9b00 00c8 c8d4 d499 9954 5408 080c 0c22 2285 8572 7218 18de de82 82b7 b747 473c 3c06</td>\n",
       "    </tr>\n",
       "    <tr>\n",
       "      <th>39</th>\n",
       "      <td><font color = yellow>aac5</font> <font color = yellow>c530</font> 3031 318e 8e92 924f 4fe3 e33f 3f55 5580 8010 1001 011b 1b88 88aa aa00 0000 0001 0101 0108 080a 0a32 328f 8fac ac01 0121 2113 13c0 c026 2603 0363 63a3 a30a 0ab8 b857 5759 5989 896f 6f05 05db dba5 a586 869e 9ebf bf06 06cf cfe1 e127 27ae aee1 e138 387b 7b14 148b 8b3a 3a9a 9aac ac0f 0f58 5892 9215 15cb cb57 5708</td>\n",
       "      <td><font color = green>aa07</font> <font color = green>0730</font> 3031 318e 8e92 924f 4fe3 e33f 3f55 5580 8010 1001 011b 1b88 88aa aa00 0000 0001 0101 0108 080a 0a32 328f 8fac ac01 0121 2113 13c0 c026 2603 0363 63a3 a30a 0ab8 b857 5759 5989 896f 6f05 05db dba5 a586 869e 9ebf bf06 06cf cfe1 e127 27ae aee1 e138 387b 7b14 148b 8b3a 3a9a 9aac ac0f 0f58 5892 9215 15cb cb57 5708</td>\n",
       "    </tr>\n",
       "    <tr>\n",
       "      <th>40</th>\n",
       "      <td>ca00 00bb bb1b 1b91 91c6 c648 48a8 a84d 4df8 f850 5018 1800 <font color = red>0043</font> <font color = red>43eb</font> ebc3 c300 0000 0017 1703 0303 0304 0422 22c9 c91d 1d78 78de de40 4055 5516 1608 0815 1594 9445 45b5 b521 2134 3430 302a 2a65 65b1 b160 6068 6874 7410 1005 051d 1db0 b051 51e2 e212 1279 7938 38b6 b639 3961 619f 9f4e 4e0d 0df6 f63c 3ccf cf9d 9d29 299c</td>\n",
       "      <td>ca00 00bb bb1b 1b91 91c6 c648 48a8 a84d 4df8 f850 5018 1800 <font color = brown>001b</font> <font color = brown>1beb</font> ebc3 c300 0000 0017 1703 0303 0304 0422 22c9 c91d 1d78 78de de40 4055 5516 1608 0815 1594 9445 45b5 b521 2134 3430 302a 2a65 65b1 b160 6068 6874 7410 1005 051d 1db0 b051 51e2 e212 1279 7938 38b6 b639 3961 619f 9f4e 4e0d 0df6 f63c 3ccf cf9d 9d29 299c</td>\n",
       "    </tr>\n",
       "    <tr>\n",
       "      <th>41</th>\n",
       "      <td><font color = brown>c0ac</font> <font color = brown>acbf</font> bff6 f6b3 b34a 4aa8 a839 3950 505a 5a50 5010 1002 0236 36ef ef43 4300 0000 00a1 a1c8 c8b7 b79e 9e93 937f 7f61 6104 04d9 d90c 0c8b 8bf4 f461 6124 24c7 c7ea ea50 5090 9036 3652 5299 9952 5214 144b 4b3a 3ab8 b838 385a 5af7 f7c6 c622 2290 90aa aa62 6213 1386 8692 9248 4887 8706 0654 5405 0598 988c 8cbb bbbd bd30</td>\n",
       "      <td><font color = orange>c0df</font> <font color = orange>dfbf</font> bff6 f6b3 b34a 4aa8 a839 3950 505a 5a50 5010 1002 0236 36ef ef43 4300 0000 00a1 a1c8 c8b7 b79e 9e93 937f 7f61 6104 04d9 d90c 0c8b 8bf4 f461 6124 24c7 c7ea ea50 5090 9036 3652 5299 9952 5214 144b 4b3a 3ab8 b838 385a 5af7 f7c6 c622 2290 90aa aa62 6213 1386 8692 9248 4887 8706 0654 5405 0598 988c 8cbb bbbd bd30</td>\n",
       "    </tr>\n",
       "    <tr>\n",
       "      <th>42</th>\n",
       "      <td>e30b 0bb5 b51a 1a0b 0bc2 c2ba bae7 e730 30e8 e880 8018 1800 00d9 d9ec ec16 1600 0000 0001 0101 0108 080a 0a68 6839 392a 2af6 f645 45e5 e58d 8d56 5617 1703 0303 <font color = cyan>0302</font> <font color = cyan>0212</font> 128a 8aac ac96 9605 0546 46dc dc04 0424 24e4 e4e0 e084 84b6 b679 799f 9f76 76cb cbf3 f34d 4dec ecbe bea5 a539 3930 30b2 b29c 9caf af5f 5ffe fee7 e71e</td>\n",
       "      <td>e30b 0bb5 b51a 1a0b 0bc2 c2ba bae7 e730 30e8 e880 8018 1800 00d9 d9ec ec16 1600 0000 0001 0101 0108 080a 0a68 6839 392a 2af6 f645 45e5 e58d 8d56 5617 1703 0303 <font color = red>0327</font> <font color = red>2712</font> 128a 8aac ac96 9605 0546 46dc dc04 0424 24e4 e4e0 e084 84b6 b679 799f 9f76 76cb cbf3 f34d 4dec ecbe bea5 a539 3930 30b2 b29c 9caf af5f 5ffe fee7 e71e</td>\n",
       "    </tr>\n",
       "    <tr>\n",
       "      <th>43</th>\n",
       "      <td><font color = blue>d0d7</font> <font color = blue>d797</font> 97de de33 33a1 a18f 8f32 32c7 c75f 5f80 8010 1003 030a 0a2f 2fa6 a600 0000 0001 0101 0108 080a 0a04 0430 30cc ccf0 f048 480a 0a2f 2fde de03 03c1 c109 0971 71a4 a473 73f1 f167 677a 7a5f 5feb ebe7 e77e 7e85 85e5 e5b3 b30c 0ca9 a976 7645 4500 0011 119c 9c43 43e3 e34c 4c29 2985 850e 0e13 137a 7aa2 a242 42a2 a2e6</td>\n",
       "      <td><font color = green>d055</font> <font color = green>5597</font> 97de de33 33a1 a18f 8f32 32c7 c75f 5f80 8010 1003 030a 0a2f 2fa6 a600 0000 0001 0101 0108 080a 0a04 0430 30cc ccf0 f048 480a 0a2f 2fde de03 03c1 c109 0971 71a4 a473 73f1 f167 677a 7a5f 5feb ebe7 e77e 7e85 85e5 e5b3 b30c 0ca9 a976 7645 4500 0011 119c 9c43 43e3 e34c 4c29 2985 850e 0e13 137a 7aa2 a242 42a2 a2e6</td>\n",
       "    </tr>\n",
       "    <tr>\n",
       "      <th>44</th>\n",
       "      <td>ed68 <font color = yellow>68b6</font> <font color = yellow>b6b9</font> b975 7506 065c 5c36 36a7 a7df df50 5018 1800 0045 45f4 f46f 6f00 0000 000e 0eb2 b288 884d 4d1e 1e4d 4df1 f1f5 f57b 7bc2 c262 626c 6c06 062c 2c51 51e2 e217 1703 0303 0300 001a 1a7b 7b29 29ff ff0f 0f32 32b2 b2fc fc9d 9d73 7323 23c6 c61e 1e06 0635 35b7 b77f 7f4b 4b1b 1b54 547b 7b9c 9c8d 8d90 908d 8d5d 5dab</td>\n",
       "      <td>ed68 <font color = blue>68ff</font> <font color = blue>ffb9</font> b975 7506 065c 5c36 36a7 a7df df50 5018 1800 0045 45f4 f46f 6f00 0000 000e 0eb2 b288 884d 4d1e 1e4d 4df1 f1f5 f57b 7bc2 c262 626c 6c06 062c 2c51 51e2 e217 1703 0303 0300 001a 1a7b 7b29 29ff ff0f 0f32 32b2 b2fc fc9d 9d73 7323 23c6 c61e 1e06 0635 35b7 b77f 7f4b 4b1b 1b54 547b 7b9c 9c8d 8d90 908d 8d5d 5dab</td>\n",
       "    </tr>\n",
       "    <tr>\n",
       "      <th>45</th>\n",
       "      <td><font color = gray>f654</font> <font color = gray>54b1</font> b135 35b1 b168 687a 7a99 998f 8fd6 d650 5010 1000 0016 1640 4026 2600 0000 0093 93d8 d8c3 c3f6 f6ea eab2 b2fd fdc5 c554 542c 2c27 27e8 e876 762c 2c15 1553 53c7 c784 84e8 e864 6412 124a 4a25 2512 12a9 a9b9 b949 4988 88f1 f13b 3b68 6855 55ef efd3 d382 82be be1c 1c33 3329 2997 9799 9934 34b3 b331 314d 4d5d 5df8</td>\n",
       "      <td><font color = gray>f678</font> <font color = gray>78b1</font> b135 35b1 b168 687a 7a99 998f 8fd6 d650 5010 1000 0016 1640 4026 2600 0000 0093 93d8 d8c3 c3f6 f6ea eab2 b2fd fdc5 c554 542c 2c27 27e8 e876 762c 2c15 1553 53c7 c784 84e8 e864 6412 124a 4a25 2512 12a9 a9b9 b949 4988 88f1 f13b 3b68 6855 55ef efd3 d382 82be be1c 1c33 3329 2997 9799 9934 34b3 b331 314d 4d5d 5df8</td>\n",
       "    </tr>\n",
       "    <tr>\n",
       "      <th>46</th>\n",
       "      <td>cb09 09a9 a991 9120 2087 87f8 f87b 7b23 2315 1580 8010 1001 01e6 e681 8108 0800 0000 0001 0101 0108 080a <font color = cyan>0a09</font> <font color = cyan>09d6</font> d628 28bc bc54 5407 0769 691c 1cff ff60 605f 5ff4 f431 31c2 c2b6 b6f5 f528 28b3 b3cc ccdb db6c 6cb4 b42d 2d78 780d 0d9f 9fcb cb83 83bd bd74 7419 19e6 e605 052f 2fec ec64 6426 264f 4f4a 4ad8 d8c1 c1f8 f86c</td>\n",
       "      <td>cb09 09a9 a991 9120 2087 87f8 f87b 7b23 2315 1580 8010 1001 01e6 e681 8108 0800 0000 0001 0101 0108 080a <font color = blue>0a38</font> <font color = blue>38d6</font> d628 28bc bc54 5407 0769 691c 1cff ff60 605f 5ff4 f431 31c2 c2b6 b6f5 f528 28b3 b3cc ccdb db6c 6cb4 b42d 2d78 780d 0d9f 9fcb cb83 83bd bd74 7419 19e6 e605 052f 2fec ec64 6426 264f 4f4a 4ad8 d8c1 c1f8 f86c</td>\n",
       "    </tr>\n",
       "    <tr>\n",
       "      <th>47</th>\n",
       "      <td><font color = pink>01bb</font> <font color = pink>bbee</font> ee7f 7fa5 a540 40d9 d9f6 f6fb fbc8 c850 5018 1804 0404 0435 35cc cc00 0000 0017 1703 0303 0300 0077 77af af33 33ef efd8 d8ec ecf3 f395 952b 2bb0 b01b 1bbc bc7c 7caf afc1 c13d 3d37 37cf cffb fb65 6528 286b 6b13 13a2 a2e2 e27f 7f61 61b6 b67f 7fcf cfb7 b786 86f1 f17f 7f7c 7cad ad06 0666 6657 57b6 b67e 7e40 4000</td>\n",
       "      <td><font color = yellow>0178</font> <font color = yellow>78ee</font> ee7f 7fa5 a540 40d9 d9f6 f6fb fbc8 c850 5018 1804 0404 0435 35cc cc00 0000 0017 1703 0303 0300 0077 77af af33 33ef efd8 d8ec ecf3 f395 952b 2bb0 b01b 1bbc bc7c 7caf afc1 c13d 3d37 37cf cffb fb65 6528 286b 6b13 13a2 a2e2 e27f 7f61 61b6 b67f 7fcf cfb7 b786 86f1 f17f 7f7c 7cad ad06 0666 6657 57b6 b67e 7e40 4000</td>\n",
       "    </tr>\n",
       "    <tr>\n",
       "      <th>48</th>\n",
       "      <td>abd9 <font color = orange>d900</font> <font color = orange>00a3</font> a37c 7c85 85ad ad5f 5f28 2869 6980 8018 1802 0243 4352 5213 1300 0000 0001 0101 0108 080a <font color = orange>0a04</font> <font color = orange>04b5</font> <font color = orange>b599</font> 9909 0900 0027 270b 0ba9 a9c9 c982 8244 447c 7c36 36c0 c00c 0c2c 2c50 5046 4683 8340 405b 5b2f 2f27 27af af3c 3c0d 0dcc ccde de46 4628 28d9 d943 436b 6b10 10f4 f488 88ae aea7 a78e 8eca ca82 8266 6684</td>\n",
       "      <td>abd9 <font color = blue>d9dd</font> <font color = blue>dda3</font> a37c 7c85 85ad ad5f 5f28 2869 6980 8018 1802 0243 4352 5213 1300 0000 0001 0101 0108 080a <font color = blue>0aa2</font> <font color = blue>a296</font> <font color = blue>9699</font> 9909 0900 0027 270b 0ba9 a9c9 c982 8244 447c 7c36 36c0 c00c 0c2c 2c50 5046 4683 8340 405b 5b2f 2f27 27af af3c 3c0d 0dcc ccde de46 4628 28d9 d943 436b 6b10 10f4 f488 88ae aea7 a78e 8eca ca82 8266 6684</td>\n",
       "    </tr>\n",
       "    <tr>\n",
       "      <th>49</th>\n",
       "      <td><font color = orange>8d76</font> <font color = orange>7633</font> 33f4 f4d5 d574 74cc cc87 87e5 e5d1 d150 5010 1000 0053 53f6 f64b 4b00 0000 008d 8d56 5618 18e5 e5be be01 01e1 e176 7663 6383 83ae ae7b 7b11 1145 459b 9b41 4185 8520 20b2 b221 2142 42c7 c763 63e7 e734 345a 5a92 9227 271c 1c88 885c 5c49 49fd fdd5 d5b4 b4fe fe54 54a2 a21a 1ac1 c1b1 b11e 1e3a 3a5a 5ab2 b241 416f</td>\n",
       "      <td><font color = blue>8d2c</font> <font color = blue>2c33</font> 33f4 f4d5 d574 74cc cc87 87e5 e5d1 d150 5010 1000 0053 53f6 f64b 4b00 0000 008d 8d56 5618 18e5 e5be be01 01e1 e176 7663 6383 83ae ae7b 7b11 1145 459b 9b41 4185 8520 20b2 b221 2142 42c7 c763 63e7 e734 345a 5a92 9227 271c 1c88 885c 5c49 49fd fdd5 d5b4 b4fe fe54 54a2 a21a 1ac1 c1b1 b11e 1e3a 3a5a 5ab2 b241 416f</td>\n",
       "    </tr>\n",
       "    <tr>\n",
       "      <th>50</th>\n",
       "      <td>ead8 d8dc dc09 09ce ce96 96e4 e481 818e 8ebe be50 5010 1000 <font color = gray>0088</font> <font color = gray>8867</font> 679e 9e00 0000 002e 2e7b 7b0b 0b25 2568 68f8 f826 2683 83dc dc05 0527 27f5 f54a 4aa9 a919 19b0 b0ef ef7a 7a80 8062 62ee eec3 c3cd cdb6 b66d 6dd2 d21b 1b50 5046 4602 027c 7cf4 f449 497b 7be5 e575 75c5 c584 8493 931d 1dac acf3 f3c9 c921 21ee ee43 437a</td>\n",
       "      <td>ead8 d8dc dc09 09ce ce96 96e4 e481 818e 8ebe be50 5010 1000 <font color = cyan>0057</font> <font color = cyan>5767</font> 679e 9e00 0000 002e 2e7b 7b0b 0b25 2568 68f8 f826 2683 83dc dc05 0527 27f5 f54a 4aa9 a919 19b0 b0ef ef7a 7a80 8062 62ee eec3 c3cd cdb6 b66d 6dd2 d21b 1b50 5046 4602 027c 7cf4 f449 497b 7be5 e575 75c5 c584 8493 931d 1dac acf3 f3c9 c921 21ee ee43 437a</td>\n",
       "    </tr>\n",
       "    <tr>\n",
       "      <th>51</th>\n",
       "      <td><font color = blue>c2e1</font> <font color = blue>e1b3</font> b343 437a 7a05 05de de24 2426 26b2 b250 5010 1000 00c9 c99f 9fe2 e200 0000 0033 3348 481c 1c5f 5f4f 4f46 46ac ac91 91e0 e06a 6a03 0392 9201 0162 6279 792e 2e48 48c5 c53d 3d62 6238 38df df93 937d 7d04 049f 9f43 43cc cc13 13f9 f995 95e7 e7b4 b440 4045 4595 9552 528a 8a0e 0e85 85fb fb57 57fa faf5 f596 96fa fa5b</td>\n",
       "      <td><font color = red>c2a3</font> <font color = red>a3b3</font> b343 437a 7a05 05de de24 2426 26b2 b250 5010 1000 00c9 c99f 9fe2 e200 0000 0033 3348 481c 1c5f 5f4f 4f46 46ac ac91 91e0 e06a 6a03 0392 9201 0162 6279 792e 2e48 48c5 c53d 3d62 6238 38df df93 937d 7d04 049f 9f43 43cc cc13 13f9 f995 95e7 e7b4 b440 4045 4595 9552 528a 8a0e 0e85 85fb fb57 57fa faf5 f596 96fa fa5b</td>\n",
       "    </tr>\n",
       "    <tr>\n",
       "      <th>52</th>\n",
       "      <td><font color = green>d804</font> <font color = green>04df</font> df22 222e 2e0d 0d01 0198 98b6 b665 6550 5010 1004 0417 17a0 a080 8000 0000 00cb cb53 53d9 d9de de43 4353 538e 8e51 51e8 e841 41ee ee43 4379 7955 555d 5dc5 c5a6 a652 52ef efc3 c3db db81 81bc bca8 a837 372b 2b6d 6d4e 4e93 93ca ca53 5310 10d1 d114 1432 3237 3751 5174 74a6 a675 755b 5b1a 1a92 9204 0472 7226 2681</td>\n",
       "      <td><font color = gray>d826</font> <font color = gray>26df</font> df22 222e 2e0d 0d01 0198 98b6 b665 6550 5010 1004 0417 17a0 a080 8000 0000 00cb cb53 53d9 d9de de43 4353 538e 8e51 51e8 e841 41ee ee43 4379 7955 555d 5dc5 c5a6 a652 52ef efc3 c3db db81 81bc bca8 a837 372b 2b6d 6d4e 4e93 93ca ca53 5310 10d1 d114 1432 3237 3751 5174 74a6 a675 755b 5b1a 1a92 9204 0472 7226 2681</td>\n",
       "    </tr>\n",
       "    <tr>\n",
       "      <th>53</th>\n",
       "      <td><font color = brown>35ed</font> <font color = brown>ed58</font> 58ac ac4d 4df2 f278 7867 6732 328b 8b50 5010 1002 0211 11e4 e4fe fe00 0000 001a 1a61 6184 84bd bdd8 d81a 1adf dfe1 e1a6 a6af af2e 2e96 96bc bc0d 0d72 7280 80dd dd41 413b 3b9c 9c81 81de de13 1368 68d8 d834 3408 0892 92c7 c7fa fa8b 8b25 253f 3f27 2780 8018 1803 0331 3190 90c6 c6b7 b75f 5f3f 3f9d 9d59 5918 1838</td>\n",
       "      <td><font color = pink>351c</font> <font color = pink>1c58</font> 58ac ac4d 4df2 f278 7867 6732 328b 8b50 5010 1002 0211 11e4 e4fe fe00 0000 001a 1a61 6184 84bd bdd8 d81a 1adf dfe1 e1a6 a6af af2e 2e96 96bc bc0d 0d72 7280 80dd dd41 413b 3b9c 9c81 81de de13 1368 68d8 d834 3408 0892 92c7 c7fa fa8b 8b25 253f 3f27 2780 8018 1803 0331 3190 90c6 c6b7 b75f 5f3f 3f9d 9d59 5918 1838</td>\n",
       "    </tr>\n",
       "    <tr>\n",
       "      <th>54</th>\n",
       "      <td><font color = cyan>01bb</font> <font color = cyan>bb48</font> 48ab abd4 d4a3 a325 25a5 a559 59ca ca50 5018 1800 0087 878e 8e74 7400 0000 0017 1703 0303 0300 0085 855d 5d68 68da da9e 9e09 097a 7a7d 7dd7 d725 25ab ab40 40bc bcda da78 787c 7c01 012f 2fbf bf41 410a 0a3e 3ee0 e0e2 e259 5922 2237 3721 2185 856c 6c32 32ad adcf cf1c 1c1a 1a53 53c8 c8d4 d46f 6f65 6595 9522 2220</td>\n",
       "      <td><font color = pink>0167</font> <font color = pink>6748</font> 48ab abd4 d4a3 a325 25a5 a559 59ca ca50 5018 1800 0087 878e 8e74 7400 0000 0017 1703 0303 0300 0085 855d 5d68 68da da9e 9e09 097a 7a7d 7dd7 d725 25ab ab40 40bc bcda da78 787c 7c01 012f 2fbf bf41 410a 0a3e 3ee0 e0e2 e259 5922 2237 3721 2185 856c 6c32 32ad adcf cf1c 1c1a 1a53 53c8 c8d4 d46f 6f65 6595 9522 2220</td>\n",
       "    </tr>\n",
       "    <tr>\n",
       "      <th>55</th>\n",
       "      <td>c1f3 f33c 3cff ff69 69da dafa fa32 32a7 a70f 0f50 5010 1000 <font color = yellow>0039</font> <font color = yellow>3933</font> 332f 2f00 0000 0016 1603 0303 0300 009b 9b02 0200 0000 0097 9703 0303 033e 3e8a 8a8c 8c10 10f2 f2fb fbad ad74 74e0 e0bc bce7 e75c 5c09 099b 9b2f 2f8b 8b58 585c 5cbd bd24 2476 761b 1be3 e30d 0df6 f615 15ec eca7 a770 70f3 f3e4 e46f 6f20 2059 59d6 d647</td>\n",
       "      <td>c1f3 f33c 3cff ff69 69da dafa fa32 32a7 a70f 0f50 5010 1000 <font color = cyan>008c</font> <font color = cyan>8c33</font> 332f 2f00 0000 0016 1603 0303 0300 009b 9b02 0200 0000 0097 9703 0303 033e 3e8a 8a8c 8c10 10f2 f2fb fbad ad74 74e0 e0bc bce7 e75c 5c09 099b 9b2f 2f8b 8b58 585c 5cbd bd24 2476 761b 1be3 e30d 0df6 f615 15ec eca7 a770 70f3 f3e4 e46f 6f20 2059 59d6 d647</td>\n",
       "    </tr>\n",
       "    <tr>\n",
       "      <th>56</th>\n",
       "      <td>01bb bb06 <font color = green>0683</font> <font color = green>83cf</font> cf24 2400 0073 73fa fab3 b3f0 f010 109b 9bfe fe5c 5c33 3300 0000 0001 0101 0108 080a 0a19 1964 64a4 a4ec ec81 81c1 c1e8 e8e8 e801 0101 0105 051a 1a00 008a 8a18 189b 9b00 008a 8aef ef8b 8b00 008a 8af5 f533 3300 008a 8afa fadb db00 0087 8777 7783 8300 008a 8a12 12f3</td>\n",
       "      <td>01bb bb06 <font color = gray>0644</font> <font color = gray>44cf</font> cf24 2400 0073 73fa fab3 b3f0 f010 109b 9bfe fe5c 5c33 3300 0000 0001 0101 0108 080a 0a19 1964 64a4 a4ec ec81 81c1 c1e8 e8e8 e801 0101 0105 051a 1a00 008a 8a18 189b 9b00 008a 8aef ef8b 8b00 008a 8af5 f533 3300 008a 8afa fadb db00 0087 8777 7783 8300 008a 8a12 12f3</td>\n",
       "    </tr>\n",
       "    <tr>\n",
       "      <th>57</th>\n",
       "      <td><font color = purple>d740</font> <font color = purple>404a</font> 4aaf af79 793f 3f06 06a2 a228 2823 2350 5010 1000 0043 43f0 f08e 8e00 0000 00dd ddae aef1 f172 72c0 c00d 0d0e 0ecb cb14 1422 222e 2ef5 f557 5710 1095 95c2 c2cf cffa fa44 4491 91a1 a16e 6eaf af2e 2e97 97d7 d71d 1dad adec ec09 0904 0462 62ac ac0e 0e1e 1e63 63cc cc07 075e 5eaa aa5b 5b45 453d 3d4b 4bc8 c819 196c</td>\n",
       "      <td><font color = red>d7a2</font> <font color = red>a24a</font> 4aaf af79 793f 3f06 06a2 a228 2823 2350 5010 1000 0043 43f0 f08e 8e00 0000 00dd ddae aef1 f172 72c0 c00d 0d0e 0ecb cb14 1422 222e 2ef5 f557 5710 1095 95c2 c2cf cffa fa44 4491 91a1 a16e 6eaf af2e 2e97 97d7 d71d 1dad adec ec09 0904 0462 62ac ac0e 0e1e 1e63 63cc cc07 075e 5eaa aa5b 5b45 453d 3d4b 4bc8 c819 196c</td>\n",
       "    </tr>\n",
       "    <tr>\n",
       "      <th>58</th>\n",
       "      <td><font color = pink>b822</font> <font color = pink>221a</font> 1a6f 6fc8 c8e9 e9fc fca9 a946 4633 3380 8010 1000 00d8 d800 00fa fa00 0000 0001 0101 0108 080a 0a87 8798 98a6 a6ef ef00 000a 0a9d 9d08 0829 2986 86bc bcb0 b02e 2e3f 3f85 853e 3e76 7647 47e6 e65c 5cd9 d993 93b0 b006 068d 8db6 b67a 7a0f 0f00 0011 11d6 d67b 7bc1 c1e6 e692 920c 0c1d 1d2e 2e59 5916 16fe fee0 e025</td>\n",
       "      <td><font color = blue>b874</font> <font color = blue>741a</font> 1a6f 6fc8 c8e9 e9fc fca9 a946 4633 3380 8010 1000 00d8 d800 00fa fa00 0000 0001 0101 0108 080a 0a87 8798 98a6 a6ef ef00 000a 0a9d 9d08 0829 2986 86bc bcb0 b02e 2e3f 3f85 853e 3e76 7647 47e6 e65c 5cd9 d993 93b0 b006 068d 8db6 b67a 7a0f 0f00 0011 11d6 d67b 7bc1 c1e6 e692 920c 0c1d 1d2e 2e59 5916 16fe fee0 e025</td>\n",
       "    </tr>\n",
       "    <tr>\n",
       "      <th>59</th>\n",
       "      <td><font color = green>01bb</font> <font color = green>bbe6</font> e612 120e 0e8d 8ddb db23 232c 2c2b 2b80 8010 1008 0800 0081 8147 4700 0000 0001 0101 0108 080a 0a09 0947 4797 974f 4fc6 c692 92e0 e076 7699 99ed edfe fe94 942b 2b02 02a1 a197 9749 494a 4aa8 a86d 6daa aa43 4311 11bd bdd4 d421 2130 3099 9953 53fb fbd0 d034 34b7 b747 470f 0f51 51ed ed3d 3d03 03a2 a2a1 a180 809c</td>\n",
       "      <td><font color = gray>0157</font> <font color = gray>57e6</font> e612 120e 0e8d 8ddb db23 232c 2c2b 2b80 8010 1008 0800 0081 8147 4700 0000 0001 0101 0108 080a 0a09 0947 4797 974f 4fc6 c692 92e0 e076 7699 99ed edfe fe94 942b 2b02 02a1 a197 9749 494a 4aa8 a86d 6daa aa43 4311 11bd bdd4 d421 2130 3099 9953 53fb fbd0 d034 34b7 b747 470f 0f51 51ed ed3d 3d03 03a2 a2a1 a180 809c</td>\n",
       "    </tr>\n",
       "    <tr>\n",
       "      <th>60</th>\n",
       "      <td>c684 8494 9443 43e1 e189 8919 1917 17b7 b7c9 c950 5010 1000 <font color = purple>0059</font> <font color = purple>595c</font> 5cbb bb00 0000 002c 2c42 42ec ec37 372b 2bed ed71 715b 5b8b 8bf6 f678 78e4 e4c9 c900 00ff ff87 87b0 b0a0 a0ac ac96 96ee ee18 18b8 b8c2 c244 44a6 a682 82b0 b0d5 d585 85b1 b142 42ad ad12 12a5 a553 5342 427f 7f76 76d4 d4d2 d210 1052 52cb cb94 9430 30fe</td>\n",
       "      <td>c684 8494 9443 43e1 e189 8919 1917 17b7 b7c9 c950 5010 1000 <font color = brown>002a</font> <font color = brown>2a5c</font> 5cbb bb00 0000 002c 2c42 42ec ec37 372b 2bed ed71 715b 5b8b 8bf6 f678 78e4 e4c9 c900 00ff ff87 87b0 b0a0 a0ac ac96 96ee ee18 18b8 b8c2 c244 44a6 a682 82b0 b0d5 d585 85b1 b142 42ad ad12 12a5 a553 5342 427f 7f76 76d4 d4d2 d210 1052 52cb cb94 9430 30fe</td>\n",
       "    </tr>\n",
       "    <tr>\n",
       "      <th>61</th>\n",
       "      <td>01bb bb53 <font color = red>5327</font> <font color = red>2769</font> 6975 759d 9d5b 5b5f 5f2b 2b50 5018 1810 1000 005b 5b72 7200 0000 0014 1403 0303 0300 0001 0101 0117 1703 0303 0300 0045 4510 1074 7437 37bc bc23 234c 4c1f 1f2d 2d4b 4b5d 5d61 613a 3a9c 9c47 4768 688e 8e7d 7ddf df19 1987 8700 00cc cc29 291f 1f2d 2dc2 c226 2614 1415 1571 71de de27 2730 3056 5641 4107</td>\n",
       "      <td>01bb bb53 <font color = yellow>53a1</font> <font color = yellow>a169</font> 6975 759d 9d5b 5b5f 5f2b 2b50 5018 1810 1000 005b 5b72 7200 0000 0014 1403 0303 0300 0001 0101 0117 1703 0303 0300 0045 4510 1074 7437 37bc bc23 234c 4c1f 1f2d 2d4b 4b5d 5d61 613a 3a9c 9c47 4768 688e 8e7d 7ddf df19 1987 8700 00cc cc29 291f 1f2d 2dc2 c226 2614 1415 1571 71de de27 2730 3056 5641 4107</td>\n",
       "    </tr>\n",
       "    <tr>\n",
       "      <th>62</th>\n",
       "      <td><font color = green>ebf5</font> <font color = green>f597</font> <font color = green>9700</font> 003e 3e63 6349 49da daca ca67 6750 5010 1000 0017 1796 9644 4400 0000 004b 4b7b 7be0 e0a0 a025 2521 213c 3cf5 f59e 9e45 4554 541d 1da6 a62c 2cee eebe becc ccd5 d556 569a 9af4 f409 0984 8452 521b 1b72 722b 2b9f 9fb4 b48f 8ffc fcae ae16 16ef efdf dfd3 d342 42f3 f32c 2c0f 0ffe fefd fd1e 1e0f 0ffb fb8f 8f28</td>\n",
       "      <td><font color = purple>ebbb</font> <font color = purple>bbf8</font> <font color = purple>f800</font> 003e 3e63 6349 49da daca ca67 6750 5010 1000 0017 1796 9644 4400 0000 004b 4b7b 7be0 e0a0 a025 2521 213c 3cf5 f59e 9e45 4554 541d 1da6 a62c 2cee eebe becc ccd5 d556 569a 9af4 f409 0984 8452 521b 1b72 722b 2b9f 9fb4 b48f 8ffc fcae ae16 16ef efdf dfd3 d342 42f3 f32c 2c0f 0ffe fefd fd1e 1e0f 0ffb fb8f 8f28</td>\n",
       "    </tr>\n",
       "    <tr>\n",
       "      <th>63</th>\n",
       "      <td>01bb bb46 <font color = purple>4664</font> <font color = purple>6413</font> 13b8 b84f 4faa aa80 808f 8f80 8018 1810 1000 0072 72fc fc00 0000 0001 0101 0108 080a 0a81 8168 6806 067b 7b0b 0bec ec22 229b 9b17 1703 0303 0300 001a 1aa6 a6ba ba34 344a 4a1c 1c12 12a6 a6b4 b42a 2a19 19b6 b6d3 d3da dadb db7f 7f53 538f 8f85 8565 65a7 a7f5 f5bd bdbf bf70 70e9 e908</td>\n",
       "      <td>01bb bb46 <font color = red>46cf</font> <font color = red>cf13</font> 13b8 b84f 4faa aa80 808f 8f80 8018 1810 1000 0072 72fc fc00 0000 0001 0101 0108 080a 0a81 8168 6806 067b 7b0b 0bec ec22 229b 9b17 1703 0303 0300 001a 1aa6 a6ba ba34 344a 4a1c 1c12 12a6 a6b4 b42a 2a19 19b6 b6d3 d3da dadb db7f 7f53 538f 8f85 8565 65a7 a7f5 f5bd bdbf bf70 70e9 e908</td>\n",
       "    </tr>\n",
       "    <tr>\n",
       "      <th>64</th>\n",
       "      <td><font color = green>ebf5</font> <font color = green>f597</font> 9734 3426 26ab ab49 49da dacb cb39 3950 5010 1000 0017 175c 5cbb bb00 0000 002f 2f40 40d5 d54f 4fdc dc64 6430 301b 1b37 379f 9fa4 a444 4435 3516 16bd bd5b 5b1c 1c04 0427 27b3 b30c 0ce4 e493 93aa aaf8 f8a7 a7d3 d3bd bd48 488f 8f41 415b 5b95 9582 8268 68bb bb74 7465 655e 5e1b 1b19 1919 19a3 a32d 2dce ceb7 b7e9</td>\n",
       "      <td><font color = purple>eb8e</font> <font color = purple>8e97</font> 9734 3426 26ab ab49 49da dacb cb39 3950 5010 1000 0017 175c 5cbb bb00 0000 002f 2f40 40d5 d54f 4fdc dc64 6430 301b 1b37 379f 9fa4 a444 4435 3516 16bd bd5b 5b1c 1c04 0427 27b3 b30c 0ce4 e493 93aa aaf8 f8a7 a7d3 d3bd bd48 488f 8f41 415b 5b95 9582 8268 68bb bb74 7465 655e 5e1b 1b19 1919 19a3 a32d 2dce ceb7 b7e9</td>\n",
       "    </tr>\n",
       "    <tr>\n",
       "      <th>65</th>\n",
       "      <td>1ab9 b9b7 b711 1179 7940 40a6 a6d2 d2df dfa8 a850 5018 1801 <font color = gray>01f5</font> <font color = gray>f5a3</font> a35d 5d00 0000 0017 1703 0303 0300 0027 27a5 a538 3817 176e 6e5b 5bb2 b2aa aa51 511b 1b6b 6b36 3698 98d2 d253 5325 2500 00e6 e639 39fb fbc6 c688 8803 03e5 e5f9 f97c 7c06 0636 3641 416d 6d3b 3bbe be39 397a 7ac4 c431 313d 3d19 1917 173a</td>\n",
       "      <td>1ab9 b9b7 b711 1179 7940 40a6 a6d2 d2df dfa8 a850 5018 1801 <font color = cyan>010b</font> <font color = cyan>0ba3</font> a35d 5d00 0000 0017 1703 0303 0300 0027 27a5 a538 3817 176e 6e5b 5bb2 b2aa aa51 511b 1b6b 6b36 3698 98d2 d253 5325 2500 00e6 e639 39fb fbc6 c688 8803 03e5 e5f9 f97c 7c06 0636 3641 416d 6d3b 3bbe be39 397a 7ac4 c431 313d 3d19 1917 173a</td>\n",
       "    </tr>\n",
       "    <tr>\n",
       "      <th>66</th>\n",
       "      <td><font color = purple>e8d4</font> <font color = purple>d416</font> 161f 1f4c 4c2f 2f9b 9bb6 b6a7 a7a6 a650 5018 1800 0044 44fb fb8a 8a00 0000 00f0 f078 7833 336a 6a69 6917 17c3 c37e 7e8f 8ff9 f963 63e1 e1f7 f771 713f 3f9a 9a15 15ba baee ee30 3046 4637 3777 777d 7d8c 8c84 84e4 e492 929e 9edb dbd5 d570 700e 0ee6 e672 723c 3c3f 3fa2 a2fb fb28 2848 48c6 c64a 4ac6 c6c0 c018 1894</td>\n",
       "      <td><font color = green>e8f2</font> <font color = green>f216</font> 161f 1f4c 4c2f 2f9b 9bb6 b6a7 a7a6 a650 5018 1800 0044 44fb fb8a 8a00 0000 00f0 f078 7833 336a 6a69 6917 17c3 c37e 7e8f 8ff9 f963 63e1 e1f7 f771 713f 3f9a 9a15 15ba baee ee30 3046 4637 3777 777d 7d8c 8c84 84e4 e492 929e 9edb dbd5 d570 700e 0ee6 e672 723c 3c3f 3fa2 a2fb fb28 2848 48c6 c64a 4ac6 c6c0 c018 1894</td>\n",
       "    </tr>\n",
       "    <tr>\n",
       "      <th>67</th>\n",
       "      <td><font color = gray>f654</font> <font color = gray>54b7</font> b7f1 f1b0 b024 247a 7a99 998f 8fd6 d650 5010 1000 0016 160d 0de8 e800 0000 0045 4564 640e 0eda da71 717d 7d3a 3a8a 8a24 24cd cdbd bd02 0204 0475 75c6 c628 28f1 f16d 6dbe beb4 b40e 0e8c 8c8c 8cb6 b674 7499 9960 60a8 a84a 4a0c 0ce0 e0e1 e185 853d 3ddf df0b 0b69 6992 92ad ad94 9449 49f1 f1a5 a564 640e 0ec6 c63b</td>\n",
       "      <td><font color = gray>f6ee</font> <font color = gray>eeb7</font> b7f1 f1b0 b024 247a 7a99 998f 8fd6 d650 5010 1000 0016 160d 0de8 e800 0000 0045 4564 640e 0eda da71 717d 7d3a 3a8a 8a24 24cd cdbd bd02 0204 0475 75c6 c628 28f1 f16d 6dbe beb4 b40e 0e8c 8c8c 8cb6 b674 7499 9960 60a8 a84a 4a0c 0ce0 e0e1 e185 853d 3ddf df0b 0b69 6992 92ad ad94 9449 49f1 f1a5 a564 640e 0ec6 c63b</td>\n",
       "    </tr>\n",
       "    <tr>\n",
       "      <th>68</th>\n",
       "      <td>ca97 978f 8f0b 0bbb bbdd dd6f 6ff1 f13f 3fa6 a680 8010 1000 0042 4208 084e 4e00 0000 0001 0101 0108 080a 0a39 39f2 f219 19ac ac0c 0c13 13e5 e524 24b3 b3b6 b616 168d 8d61 61cd cd9a 9a7a 7a3b 3bae ae90 90ca cac0 c01b 1bb9 b91b 1bcc cc27 27c0 c0d7 d769 69d3 d3f2 f266 66b1 b166 6660 60a7 a7e0 e093 933b 3bd6 d63a 3a12 12da</td>\n",
       "      <td>ca97 978f 8f0b 0bbb bbdd dd6f 6ff1 f13f 3fa6 a680 8010 1000 0042 4208 084e 4e00 0000 0001 0101 0108 080a 0a39 39f2 f219 19ac ac0c 0c13 13e5 e524 24b3 b3b6 b616 168d 8d61 61cd cd9a 9a7a 7a3b 3bae ae90 90ca cac0 c01b 1bb9 b91b 1bcc cc27 27c0 c0d7 d769 69d3 d3f2 f266 66b1 b166 6660 60a7 a7e0 e093 933b 3bd6 d63a 3a12 12da</td>\n",
       "    </tr>\n",
       "    <tr>\n",
       "      <th>69</th>\n",
       "      <td>ad76 76ad ad90 9073 7392 924b 4bbe be7d 7dca ca80 8010 1000 <font color = cyan>0057</font> <font color = cyan>57f6</font> f650 5000 0000 0001 0101 0108 080a 0a08 082e 2e9f 9f33 3395 9507 077a 7adb dbe8 e8cd cd2a 2a37 3786 861e 1e30 30f8 f854 54e6 e60c 0c3c 3c00 004e 4e88 88be be7d 7da0 a06d 6d6f 6f28 28cf cf11 11c0 c02e 2ee6 e606 06d0 d022 22f0 f014 14b3 b32b 2b07 0704</td>\n",
       "      <td>ad76 76ad ad90 9073 7392 924b 4bbe be7d 7dca ca80 8010 1000 <font color = red>0008</font> <font color = red>08f6</font> f650 5000 0000 0001 0101 0108 080a 0a08 082e 2e9f 9f33 3395 9507 077a 7adb dbe8 e8cd cd2a 2a37 3786 861e 1e30 30f8 f854 54e6 e60c 0c3c 3c00 004e 4e88 88be be7d 7da0 a06d 6d6f 6f28 28cf cf11 11c0 c02e 2ee6 e606 06d0 d022 22f0 f014 14b3 b32b 2b07 0704</td>\n",
       "    </tr>\n",
       "    <tr>\n",
       "      <th>70</th>\n",
       "      <td>cea6 a6d7 d717 1729 29ef efd9 d96b 6b11 11d4 d450 5018 1800 <font color = red>0045</font> <font color = red>4588</font> 8861 6100 0000 00e4 e4f8 f8a8 a833 33d0 d05d 5d27 2784 8445 45d2 d23e 3ea8 a82a 2af1 f16c 6cd4 d439 396b 6b3b 3b18 1804 0426 26ce ce47 47a6 a65a 5a56 5609 0930 304e 4e11 11b6 b6f7 f76c 6c28 2805 056a 6aeb eb8e 8e77 777e 7ec6 c667 6791 91b0 b045 45d3</td>\n",
       "      <td>cea6 a6d7 d717 1729 29ef efd9 d96b 6b11 11d4 d450 5018 1800 <font color = yellow>0039</font> <font color = yellow>3988</font> 8861 6100 0000 00e4 e4f8 f8a8 a833 33d0 d05d 5d27 2784 8445 45d2 d23e 3ea8 a82a 2af1 f16c 6cd4 d439 396b 6b3b 3b18 1804 0426 26ce ce47 47a6 a65a 5a56 5609 0930 304e 4e11 11b6 b6f7 f76c 6c28 2805 056a 6aeb eb8e 8e77 777e 7ec6 c667 6791 91b0 b045 45d3</td>\n",
       "    </tr>\n",
       "    <tr>\n",
       "      <th>71</th>\n",
       "      <td>cd10 10d5 <font color = cyan>d515</font> <font color = cyan>15ac</font> ac5c <font color = cyan>5c42</font> <font color = cyan>42fc</font> fca1 a1a8 a850 5010 1007 0770 70c7 c736 3600 0000 0002 022d 2d15 1526 2631 3119 19b0 b09e 9ee2 e21f 1ff6 f61c 1cfa fadf dfe0 e079 790e 0e6f 6f55 5512 1295 952c 2c72 7204 04ef efbb bbfb fbf4 f4db db9b 9bd1 d14a 4a78 78b3 b3dd dd44 4408 0843 4324 2445 4519 19ce cee3 e356 56e5 e560 600c</td>\n",
       "      <td>cd10 10d5 <font color = green>d54d</font> <font color = green>4dac</font> ac5c <font color = green>5c95</font> <font color = green>95fc</font> fca1 a1a8 a850 5010 1007 0770 70c7 c736 3600 0000 0002 022d 2d15 1526 2631 3119 19b0 b09e 9ee2 e21f 1ff6 f61c 1cfa fadf dfe0 e079 790e 0e6f 6f55 5512 1295 952c 2c72 7204 04ef efbb bbfb fbf4 f4db db9b 9bd1 d14a 4a78 78b3 b3dd dd44 4408 0843 4324 2445 4519 19ce cee3 e356 56e5 e560 600c</td>\n",
       "    </tr>\n",
       "    <tr>\n",
       "      <th>72</th>\n",
       "      <td><font color = gray>01bb</font> <font color = gray>bbf2</font> f2a0 a002 0287 87cb cbb5 b586 86ad ad50 5010 1002 02e4 e430 3056 5600 0000 0006 06d0 d07b 7ba0 a0c4 c456 5674 7483 8316 16d9 d9a4 a464 64d1 d13d 3d2c 2cc9 c963 6349 49ae ae7b 7b82 826d 6dc5 c532 324e 4eda da08 08e2 e235 35fa fa3f 3f9a 9a6d 6d4c 4c6a 6a8f 8f92 927e 7eb6 b60f 0f8c 8cb2 b248 4826 26a5 a5fb fb0b</td>\n",
       "      <td><font color = red>01b6</font> <font color = red>b6f2</font> f2a0 a002 0287 87cb cbb5 b586 86ad ad50 5010 1002 02e4 e430 3056 5600 0000 0006 06d0 d07b 7ba0 a0c4 c456 5674 7483 8316 16d9 d9a4 a464 64d1 d13d 3d2c 2cc9 c963 6349 49ae ae7b 7b82 826d 6dc5 c532 324e 4eda da08 08e2 e235 35fa fa3f 3f9a 9a6d 6d4c 4c6a 6a8f 8f92 927e 7eb6 b60f 0f8c 8cb2 b248 4826 26a5 a5fb fb0b</td>\n",
       "    </tr>\n",
       "    <tr>\n",
       "      <th>73</th>\n",
       "      <td>ffd6 d688 8880 809c 9c9d 9d0e 0e94 94bc bc55 5550 5018 1801 <font color = green>01f5</font> <font color = green>f53f</font> 3fa1 a100 0000 006c 6ceb eb2b 2b14 14f2 f205 05aa aa1a 1a44 446b 6b10 1026 2640 401b 1bd2 d220 209d 9d9a 9a8f 8f40 40b5 b50e 0e62 622d 2d3e 3e1c 1c19 19d8 d806 06d5 d5a8 a880 80af af6d 6dac ac1c 1cf2 f258 5828 28f0 f0be be92 925e 5e83 834a 4a51 5175</td>\n",
       "      <td>ffd6 d688 8880 809c 9c9d 9d0e 0e94 94bc bc55 5550 5018 1801 <font color = purple>014a</font> <font color = purple>4a3f</font> 3fa1 a100 0000 006c 6ceb eb2b 2b14 14f2 f205 05aa aa1a 1a44 446b 6b10 1026 2640 401b 1bd2 d220 209d 9d9a 9a8f 8f40 40b5 b50e 0e62 622d 2d3e 3e1c 1c19 19d8 d806 06d5 d5a8 a880 80af af6d 6dac ac1c 1cf2 f258 5828 28f0 f0be be92 925e 5e83 834a 4a51 5175</td>\n",
       "    </tr>\n",
       "    <tr>\n",
       "      <th>74</th>\n",
       "      <td><font color = pink>c7bc</font> <font color = pink>bc67</font> 6724 24db dbf7 f767 6765 6506 06f6 f650 5010 1001 010e 0ede de4c 4c00 0000 00ff ffac aca1 a148 4856 5672 72f3 f39c 9c50 5044 4423 232c 2c31 3187 8709 0977 7757 5709 0947 4705 058e 8e5b 5b6b 6b7b 7b27 27fe fe80 8009 0964 6468 687f 7f39 3997 97a2 a202 024b 4bb8 b837 37ee ee70 7019 19d3 d33c 3c2c 2c17 171e 1e1e</td>\n",
       "      <td><font color = green>c7e0</font> <font color = green>e067</font> 6724 24db dbf7 f767 6765 6506 06f6 f650 5010 1001 010e 0ede de4c 4c00 0000 00ff ffac aca1 a148 4856 5672 72f3 f39c 9c50 5044 4423 232c 2c31 3187 8709 0977 7757 5709 0947 4705 058e 8e5b 5b6b 6b7b 7b27 27fe fe80 8009 0964 6468 687f 7f39 3997 97a2 a202 024b 4bb8 b837 37ee ee70 7019 19d3 d33c 3c2c 2c17 171e 1e1e</td>\n",
       "    </tr>\n",
       "    <tr>\n",
       "      <th>75</th>\n",
       "      <td><font color = blue>03e1</font> <font color = blue>e180</font> 80b0 b071 7166 66ce cec7 c7e8 e8e7 e780 8018 1801 015b 5b91 9183 8300 0000 0001 0101 0108 080a 0a0c 0cc9 c9ef eff0 f00b 0bec ec91 91fb fb14 1403 0303 0300 0001 0101 0117 1703 0303 0300 0035 3590 903e 3e07 0782 82db dbed ed92 92c6 c6df df01 01e2 e2e4 e41f 1f1d 1d68 6874 74df dfb6 b6ff ff5e 5e97 97ac acb8 b89e</td>\n",
       "      <td><font color = orange>0335</font> <font color = orange>3580</font> 80b0 b071 7166 66ce cec7 c7e8 e8e7 e780 8018 1801 015b 5b91 9183 8300 0000 0001 0101 0108 080a 0a0c 0cc9 c9ef eff0 f00b 0bec ec91 91fb fb14 1403 0303 0300 0001 0101 0117 1703 0303 0300 0035 3590 903e 3e07 0782 82db dbed ed92 92c6 c6df df01 01e2 e2e4 e41f 1f1d 1d68 6874 74df dfb6 b6ff ff5e 5e97 97ac acb8 b89e</td>\n",
       "    </tr>\n",
       "    <tr>\n",
       "      <th>76</th>\n",
       "      <td>01bb bba9 a904 048a 8a7d 7d59 5966 6631 314a 4a50 5018 1804 <font color = orange>0400</font> <font color = orange>0007</font> 07b4 b400 0000 0014 1403 0303 0300 0001 0101 0117 1703 0303 0300 0035 35bf bf33 33b2 b2bb bb1d 1d6e 6e28 28c0 c0dd ddac acd4 d451 5131 31c6 c681 81fd fd28 2858 58a8 a83a 3a34 34a1 a1d5 d5ff ff5d 5d14 1473 7379 7914 147e 7e7f 7f50 5091 913e 3ec8 c813</td>\n",
       "      <td>01bb bba9 a904 048a 8a7d 7d59 5966 6631 314a 4a50 5018 1804 <font color = brown>0405</font> <font color = brown>0507</font> 07b4 b400 0000 0014 1403 0303 0300 0001 0101 0117 1703 0303 0300 0035 35bf bf33 33b2 b2bb bb1d 1d6e 6e28 28c0 c0dd ddac acd4 d451 5131 31c6 c681 81fd fd28 2858 58a8 a83a 3a34 34a1 a1d5 d5ff ff5d 5d14 1473 7379 7914 147e 7e7f 7f50 5091 913e 3ec8 c813</td>\n",
       "    </tr>\n",
       "    <tr>\n",
       "      <th>77</th>\n",
       "      <td><font color = brown>b3c4</font> <font color = brown>c48e</font> 8e28 2823 23d9 d9fa faa8 a8b7 b73e 3e50 5010 1000 004d 4df5 f5a6 a600 0000 00a5 a546 4627 27b9 b991 918f 8f9f 9fe0 e0c6 c61c 1c81 8118 183a 3a7b 7bb7 b75f 5fd6 d662 626f 6fcf cf7d 7dde de14 14de ded3 d3c4 c4d5 d526 268b 8b67 675c 5cda daa2 a25a 5af4 f493 93ac ace6 e612 1238 380b 0b6b 6ba9 a950 503f 3f09 093a</td>\n",
       "      <td><font color = red>b3fb</font> <font color = red>fb8e</font> 8e28 2823 23d9 d9fa faa8 a8b7 b73e 3e50 5010 1000 004d 4df5 f5a6 a600 0000 00a5 a546 4627 27b9 b991 918f 8f9f 9fe0 e0c6 c61c 1c81 8118 183a 3a7b 7bb7 b75f 5fd6 d662 626f 6fcf cf7d 7dde de14 14de ded3 d3c4 c4d5 d526 268b 8b67 675c 5cda daa2 a25a 5af4 f493 93ac ace6 e612 1238 380b 0b6b 6ba9 a950 503f 3f09 093a</td>\n",
       "    </tr>\n",
       "    <tr>\n",
       "      <th>78</th>\n",
       "      <td><font color = cyan>e500</font> <font color = cyan>0023</font> 238d 8d75 7575 753d 3d15 151d 1d95 9550 5018 1800 0043 43d6 d6c7 c700 0000 0017 1703 0303 0305 056a 6a06 064e 4eba bafe fe62 623a 3a55 559e 9eaf af21 2113 13b7 b70a 0a55 55f1 f18b 8b14 1411 1106 0685 85f4 f441 4123 23b9 b9a9 a931 31bc bc22 2227 27ac aceb eb4e 4ec9 c922 22f8 f89b 9bfa faa2 a22c 2ced edbd bd14</td>\n",
       "      <td><font color = brown>e55b</font> <font color = brown>5b23</font> 238d 8d75 7575 753d 3d15 151d 1d95 9550 5018 1800 0043 43d6 d6c7 c700 0000 0017 1703 0303 0305 056a 6a06 064e 4eba bafe fe62 623a 3a55 559e 9eaf af21 2113 13b7 b70a 0a55 55f1 f18b 8b14 1411 1106 0685 85f4 f441 4123 23b9 b9a9 a931 31bc bc22 2227 27ac aceb eb4e 4ec9 c922 22f8 f89b 9bfa faa2 a22c 2ced edbd bd14</td>\n",
       "    </tr>\n",
       "    <tr>\n",
       "      <th>79</th>\n",
       "      <td><font color = blue>e9d0</font> <font color = blue>d0b8</font> b8fd fd10 10b8 b8e9 e9dc dc09 09a7 a750 5010 1000 00bb bb33 3322 2200 0000 003d 3d66 6687 87bf bf2d 2d7e 7ef7 f7f1 f1ab ab70 70d9 d992 929c 9c73 7396 969e 9e79 793a 3a9c 9ca0 a0c7 c70c 0c30 30ab abdf dfeb ebad ad3f 3fff ffd9 d963 6351 51c7 c77f 7fee eea8 a875 754f 4f9e 9e67 6754 5425 25f5 f546 4656 56d6 d62d</td>\n",
       "      <td><font color = pink>e947</font> <font color = pink>47b8</font> b8fd fd10 10b8 b8e9 e9dc dc09 09a7 a750 5010 1000 00bb bb33 3322 2200 0000 003d 3d66 6687 87bf bf2d 2d7e 7ef7 f7f1 f1ab ab70 70d9 d992 929c 9c73 7396 969e 9e79 793a 3a9c 9ca0 a0c7 c70c 0c30 30ab abdf dfeb ebad ad3f 3fff ffd9 d963 6351 51c7 c77f 7fee eea8 a875 754f 4f9e 9e67 6754 5425 25f5 f546 4656 56d6 d62d</td>\n",
       "    </tr>\n",
       "    <tr>\n",
       "      <th>80</th>\n",
       "      <td>01bb bb81 81eb ebf3 f3e7 e7b1 <font color = gray>b1b8</font> <font color = gray>b88f</font> 8f38 3850 5018 1801 0123 23d0 d00b 0b00 0000 0014 1403 0303 0300 0001 0101 0117 1703 0303 0300 0045 45ef efc2 c294 94b0 b0b8 b832 328e 8ebe be47 4712 12f5 f594 9422 22a2 a238 3814 14a4 a415 1596 9619 1957 57a2 a270 705c 5cba bae5 e5ef efa1 a1c4 c4b7 b71b 1b03 03cf cf5d 5d91 9159</td>\n",
       "      <td>01bb bb81 81eb ebf3 f3e7 e7b1 <font color = brown>b15b</font> <font color = brown>5b8f</font> 8f38 3850 5018 1801 0123 23d0 d00b 0b00 0000 0014 1403 0303 0300 0001 0101 0117 1703 0303 0300 0045 45ef efc2 c294 94b0 b0b8 b832 328e 8ebe be47 4712 12f5 f594 9422 22a2 a238 3814 14a4 a415 1596 9619 1957 57a2 a270 705c 5cba bae5 e5ef efa1 a1c4 c4b7 b71b 1b03 03cf cf5d 5d91 9159</td>\n",
       "    </tr>\n",
       "    <tr>\n",
       "      <th>81</th>\n",
       "      <td><font color = yellow>ecd4</font> <font color = yellow>d4da</font> dae9 e996 964e 4e68 6894 9404 04e9 e950 5010 1000 004c 4cf7 f77f 7f00 0000 00b5 b535 3515 1508 08c7 c760 6076 7683 830f 0f5e 5ee2 e231 3184 84e9 e90e 0e3d 3d26 262d 2de5 e535 35de dee7 e76b 6b52 52c8 c8be be8e 8e01 0181 8132 3231 31c4 c4d5 d5df df46 4640 40bc bcde dee0 e036 366e 6e3e 3e07 074f 4f9c 9c6b 6be6</td>\n",
       "      <td><font color = purple>ecf9</font> <font color = purple>f9da</font> dae9 e996 964e 4e68 6894 9404 04e9 e950 5010 1000 004c 4cf7 f77f 7f00 0000 00b5 b535 3515 1508 08c7 c760 6076 7683 830f 0f5e 5ee2 e231 3184 84e9 e90e 0e3d 3d26 262d 2de5 e535 35de dee7 e76b 6b52 52c8 c8be be8e 8e01 0181 8132 3231 31c4 c4d5 d5df df46 4640 40bc bcde dee0 e036 366e 6e3e 3e07 074f 4f9c 9c6b 6be6</td>\n",
       "    </tr>\n",
       "    <tr>\n",
       "      <th>82</th>\n",
       "      <td>fab4 <font color = brown>b46b</font> <font color = brown>6be9</font> e90b 0bc8 c8e8 e889 89d3 d3e0 e080 8018 1801 01d6 d628 285d 5d00 0000 0001 0101 0108 080a 0a04 0419 191a 1a65 6547 471d 1dac ac75 7549 49b0 b0e4 e45b 5b1c 1c91 91a4 a400 00eb ebd2 d2cd cd84 84fd fd35 3524 244a 4acc cca5 a55b 5b61 6195 9535 3527 2733 33c6 c63e 3e7a 7a7b 7b99 99dd dd0f 0f39 3930 30e7 e72c</td>\n",
       "      <td>fab4 <font color = orange>b45e</font> <font color = orange>5ee9</font> e90b 0bc8 c8e8 e889 89d3 d3e0 e080 8018 1801 01d6 d628 285d 5d00 0000 0001 0101 0108 080a 0a04 0419 191a 1a65 6547 471d 1dac ac75 7549 49b0 b0e4 e45b 5b1c 1c91 91a4 a400 00eb ebd2 d2cd cd84 84fd fd35 3524 244a 4acc cca5 a55b 5b61 6195 9535 3527 2733 33c6 c63e 3e7a 7a7b 7b99 99dd dd0f 0f39 3930 30e7 e72c</td>\n",
       "    </tr>\n",
       "    <tr>\n",
       "      <th>83</th>\n",
       "      <td>9d06 06ab ab3b 3b85 856b 6bd7 d734 34fb fbb8 b880 8018 1803 036d 6d2c 2cff ff00 0000 0001 0101 0108 080a 0a05 05b4 b476 76d0 d000 <font color = red>0016</font> <font color = red>169e</font> 9e13 13a2 a2cb cb19 19bb bbd8 d8c7 c7f5 f55c 5c05 05e5 e551 51ee ee64 64ff ffb9 b92b 2b3f 3f4b 4b90 9006 06db dba5 a5dd ddb8 b8f6 f6d9 d94a 4a3e 3e82 8210 1033 336d 6d3f 3faf af1c</td>\n",
       "      <td>9d06 06ab ab3b 3b85 856b 6bd7 d734 34fb fbb8 b880 8018 1803 036d 6d2c 2cff ff00 0000 0001 0101 0108 080a 0a05 05b4 b476 76d0 d000 <font color = gray>0011</font> <font color = gray>119e</font> 9e13 13a2 a2cb cb19 19bb bbd8 d8c7 c7f5 f55c 5c05 05e5 e551 51ee ee64 64ff ffb9 b92b 2b3f 3f4b 4b90 9006 06db dba5 a5dd ddb8 b8f6 f6d9 d94a 4a3e 3e82 8210 1033 336d 6d3f 3faf af1c</td>\n",
       "    </tr>\n",
       "    <tr>\n",
       "      <th>84</th>\n",
       "      <td><font color = blue>03e1</font> <font color = blue>e19b</font> 9b51 5113 13ee eeaf af21 211f 1f5c 5c80 8018 1801 016d 6d18 184d 4d00 0000 0001 0101 0108 080a 0a00 0079 7971 713d 3d0b 0bb7 b740 4038 3817 1703 0303 0300 001e 1ed1 d1bd bddc dc2f 2f29 295b 5bcf cf34 349a 9ab9 b94c 4c4d 4ddb db16 160c 0c23 23f2 f2fe fec0 c071 7151 51bb bb30 30f9 f99a 9af8 f8c9 c97e 7e46 4607</td>\n",
       "      <td><font color = gray>035b</font> <font color = gray>5b9b</font> 9b51 5113 13ee eeaf af21 211f 1f5c 5c80 8018 1801 016d 6d18 184d 4d00 0000 0001 0101 0108 080a 0a00 0079 7971 713d 3d0b 0bb7 b740 4038 3817 1703 0303 0300 001e 1ed1 d1bd bddc dc2f 2f29 295b 5bcf cf34 349a 9ab9 b94c 4c4d 4ddb db16 160c 0c23 23f2 f2fe fec0 c071 7151 51bb bb30 30f9 f99a 9af8 f8c9 c97e 7e46 4607</td>\n",
       "    </tr>\n",
       "    <tr>\n",
       "      <th>85</th>\n",
       "      <td><font color = pink>c314</font> <font color = pink>1437</font> 376a 6a7f 7f37 3795 9579 79d4 d487 8750 5018 1800 004e 4e4c 4cf2 f200 0000 005c 5caa aa9f 9f05 05cd cd3d 3dc4 c40b 0bb2 b235 3548 4816 164d 4d86 867a 7a61 6185 8536 36f3 f336 3685 8513 1350 50d4 d4ee ee4c 4c66 663a 3a82 8214 1464 6486 8669 6928 28b7 b7ef ef07 0716 16bb bb1d 1d79 79f7 f79a 9a96 96be be3b 3b71</td>\n",
       "      <td><font color = blue>c36b</font> <font color = blue>6b37</font> 376a 6a7f 7f37 3795 9579 79d4 d487 8750 5018 1800 004e 4e4c 4cf2 f200 0000 005c 5caa aa9f 9f05 05cd cd3d 3dc4 c40b 0bb2 b235 3548 4816 164d 4d86 867a 7a61 6185 8536 36f3 f336 3685 8513 1350 50d4 d4ee ee4c 4c66 663a 3a82 8214 1464 6486 8669 6928 28b7 b7ef ef07 0716 16bb bb1d 1d79 79f7 f79a 9a96 96be be3b 3b71</td>\n",
       "    </tr>\n",
       "    <tr>\n",
       "      <th>86</th>\n",
       "      <td><font color = brown>e6b0</font> <font color = brown>b047</font> 476b 6b8d 8d43 43e8 e8da da05 0523 2350 5018 1807 07a0 a0b2 b2ef ef00 0000 0017 1703 0303 0300 003a 3a24 24a8 a8b7 b7db dbca ca93 9386 8664 6440 40eb eb26 2601 01f8 f8f7 f71b 1b00 00a9 a93f 3f01 012d 2d20 206c 6c8a 8a9b 9b52 5223 23c1 c11a 1a29 2913 13ee ee55 5553 5311 1155 551c 1c04 048f 8fc3 c393 93b7 b79c</td>\n",
       "      <td><font color = green>e609</font> <font color = green>0947</font> 476b 6b8d 8d43 43e8 e8da da05 0523 2350 5018 1807 07a0 a0b2 b2ef ef00 0000 0017 1703 0303 0300 003a 3a24 24a8 a8b7 b7db dbca ca93 9386 8664 6440 40eb eb26 2601 01f8 f8f7 f71b 1b00 00a9 a93f 3f01 012d 2d20 206c 6c8a 8a9b 9b52 5223 23c1 c11a 1a29 2913 13ee ee55 5553 5311 1155 551c 1c04 048f 8fc3 c393 93b7 b79c</td>\n",
       "    </tr>\n",
       "    <tr>\n",
       "      <th>87</th>\n",
       "      <td>c251 513d 3d7f 7fde de35 3578 780d 0dd7 d763 6350 5018 1800 <font color = red>003c</font> <font color = red>3c45</font> 4500 0000 0000 0017 1703 0303 0300 001a 1afe fea2 a224 2493 936d 6de0 e0f9 f909 0957 57a0 a009 0982 8246 46a0 a02c 2cab ab18 1885 8511 11b1 b115 158e 8ee5 e5dc dcc5 c506</td>\n",
       "      <td>c251 513d 3d7f 7fde de35 3578 780d 0dd7 d763 6350 5018 1800 <font color = brown>00d6</font> <font color = brown>d645</font> 4500 0000 0000 0017 1703 0303 0300 001a 1afe fea2 a224 2493 936d 6de0 e0f9 f909 0957 57a0 a009 0982 8246 46a0 a02c 2cab ab18 1885 8511 11b1 b115 158e 8ee5 e5dc dcc5 c506</td>\n",
       "    </tr>\n",
       "    <tr>\n",
       "      <th>88</th>\n",
       "      <td><font color = green>c3e0</font> <font color = green>e019</font> 19d8 d829 2961 61ef efd0 d00a 0a62 6250 5010 1000 0091 91c7 c77b 7b00 0000 0017 1703 0303 0305 05af af84 84ec ece3 e3ae aecf cf06 06d0 d0c8 c890 90a5 a589 898e 8ed1 d1f4 f436 36cd cdd6 d625 25ac ac0a 0a07 0773 73e9 e96d 6de2 e27d 7d71 71f9 f957 5705 0597 9759 59b0 b081 8128 289d 9d48 48ea eaee eef2 f25f 5fc8</td>\n",
       "      <td><font color = pink>c324</font> <font color = pink>2419</font> 19d8 d829 2961 61ef efd0 d00a 0a62 6250 5010 1000 0091 91c7 c77b 7b00 0000 0017 1703 0303 0305 05af af84 84ec ece3 e3ae aecf cf06 06d0 d0c8 c890 90a5 a589 898e 8ed1 d1f4 f436 36cd cdd6 d625 25ac ac0a 0a07 0773 73e9 e96d 6de2 e27d 7d71 71f9 f957 5705 0597 9759 59b0 b081 8128 289d 9d48 48ea eaee eef2 f25f 5fc8</td>\n",
       "    </tr>\n",
       "    <tr>\n",
       "      <th>89</th>\n",
       "      <td>b3b8 b884 8423 23b5 b5bd bd58 58b5 b596 96af af80 8010 1005 05b9 b99c 9cea ea00 0000 0001 0101 0108 080a <font color = red>0a0b</font> <font color = red>0b57</font> 5710 10ce ce02 0206 0659 59f0 f0f3 f3d4 d407 0764 649c 9c57 574e 4e27 2706 063a 3a73 73a5 a537 37cb cb5f 5fcc ccb0 b0a7 a7d4 d4fe fe1a 1a43 4333 3382 82f4 f466 6657 5719 1969 69ee ee64 6414 14b0 b055 555f</td>\n",
       "      <td>b3b8 b884 8423 23b5 b5bd bd58 58b5 b596 96af af80 8010 1005 05b9 b99c 9cea ea00 0000 0001 0101 0108 080a <font color = gray>0aa9</font> <font color = gray>a957</font> 5710 10ce ce02 0206 0659 59f0 f0f3 f3d4 d407 0764 649c 9c57 574e 4e27 2706 063a 3a73 73a5 a537 37cb cb5f 5fcc ccb0 b0a7 a7d4 d4fe fe1a 1a43 4333 3382 82f4 f466 6657 5719 1969 69ee ee64 6414 14b0 b055 555f</td>\n",
       "    </tr>\n",
       "    <tr>\n",
       "      <th>90</th>\n",
       "      <td>0881 81ed ed35 3585 8546 465a 5a5d 5dd8 d85b 5b50 5010 1000 <font color = cyan>0058</font> <font color = cyan>58f0</font> f057 5700 0000 004b 4b2a 2a2c 2c74 746f 6fcf cf63 63b9 b90f 0f36 363d 3d02 02ce ce32 324c 4c8c 8c8b 8bc9 c98f 8fa7 a7c9 c909 0942 42f0 f0bd bd36 36d8 d8a3 a3f1 f1b5 b575 75df df11 11ff fff4 f48a 8ad6 d69e 9ee0 e0ba ba68 684d 4d60 6064 6423 2347 47ed</td>\n",
       "      <td>0881 81ed ed35 3585 8546 465a 5a5d 5dd8 d85b 5b50 5010 1000 <font color = gray>008f</font> <font color = gray>8ff0</font> f057 5700 0000 004b 4b2a 2a2c 2c74 746f 6fcf cf63 63b9 b90f 0f36 363d 3d02 02ce ce32 324c 4c8c 8c8b 8bc9 c98f 8fa7 a7c9 c909 0942 42f0 f0bd bd36 36d8 d8a3 a3f1 f1b5 b575 75df df11 11ff fff4 f48a 8ad6 d69e 9ee0 e0ba ba68 684d 4d60 6064 6423 2347 47ed</td>\n",
       "    </tr>\n",
       "    <tr>\n",
       "      <th>91</th>\n",
       "      <td><font color = brown>f36f</font> <font color = brown>6fd1</font> d1ed ed0e 0ec3 c338 3864 6429 2938 3850 5018 1800 003c 3cd7 d7f8 f800 0000 0017 1703 0303 0301 0132 321f 1fb9 b933 33d9 d99b 9b92 921d 1d7a 7a8d 8d26 2621 21af af4a 4a25 257b 7b55 55f2 f246 465f 5fe6 e679 79be be0c 0cc6 c69b 9b61 610b 0b53 531a 1a0c 0cc1 c146 46a5 a56a 6a55 5551 518c 8c22 22c6 c655 5503 033c</td>\n",
       "      <td><font color = cyan>f331</font> <font color = cyan>31d1</font> d1ed ed0e 0ec3 c338 3864 6429 2938 3850 5018 1800 003c 3cd7 d7f8 f800 0000 0017 1703 0303 0301 0132 321f 1fb9 b933 33d9 d99b 9b92 921d 1d7a 7a8d 8d26 2621 21af af4a 4a25 257b 7b55 55f2 f246 465f 5fe6 e679 79be be0c 0cc6 c69b 9b61 610b 0b53 531a 1a0c 0cc1 c146 46a5 a56a 6a55 5551 518c 8c22 22c6 c655 5503 033c</td>\n",
       "    </tr>\n",
       "    <tr>\n",
       "      <th>92</th>\n",
       "      <td>01bb <font color = brown>bbc7</font> <font color = brown>c716</font> 1607 07a9 a99f 9f4c 4c9e 9e9c 9c50 5010 1010 1000 0049 4941 4100 0000 00a6 a671 7137 3737 378b 8b47 477b 7b9d 9d50 5025 2574 7434 34a7 a732 32f7 f7a7 a7b2 b225 25fc fc87 870e 0ee9 e976 76a3 a380 8067 67ed eddd dd94 94b0 b0f6 f6a8 a835 3549 49ae ae9e 9ecc cc5e 5ecb cbf0 f0ed edc2 c2a6 a643 430d 0d6c 6ce6</td>\n",
       "      <td>01bb <font color = cyan>bb31</font> <font color = cyan>3116</font> 1607 07a9 a99f 9f4c 4c9e 9e9c 9c50 5010 1010 1000 0049 4941 4100 0000 00a6 a671 7137 3737 378b 8b47 477b 7b9d 9d50 5025 2574 7434 34a7 a732 32f7 f7a7 a7b2 b225 25fc fc87 870e 0ee9 e976 76a3 a380 8067 67ed eddd dd94 94b0 b0f6 f6a8 a835 3549 49ae ae9e 9ecc cc5e 5ecb cbf0 f0ed edc2 c2a6 a643 430d 0d6c 6ce6</td>\n",
       "    </tr>\n",
       "    <tr>\n",
       "      <th>93</th>\n",
       "      <td>01bb bbe7 e7ed edce cee9 e911 11b7 b74c 4c33 3380 8018 1802 0236 <font color = cyan>3666</font> <font color = cyan>6685</font> 8500 0000 0001 0101 0108 <font color = cyan>080a</font> <font color = cyan>0a00</font> 0084 8422 2245 4501 016f 6f8f 8fd0 d0d5 d5f1 f1f8 f894 9444 44b9 b95c 5cf8 f87a 7adf dfa8 a85e 5e28 281c 1c07 0732 32a6 a692 92ba bae6 e6dd dd23 232e 2eb8 b845 4532 329f 9faf af3d 3d3c 3c6d 6da2 a234 34ab abc1</td>\n",
       "      <td>01bb bbe7 e7ed edce cee9 e911 11b7 b74c 4c33 3380 8018 1802 0236 <font color = cyan>36e2</font> <font color = cyan>e285</font> 8500 0000 0001 0101 0108 <font color = cyan>0808</font> <font color = cyan>0800</font> 0084 8422 2245 4501 016f 6f8f 8fd0 d0d5 d5f1 f1f8 f894 9444 44b9 b95c 5cf8 f87a 7adf dfa8 a85e 5e28 281c 1c07 0732 32a6 a692 92ba bae6 e6dd dd23 232e 2eb8 b845 4532 329f 9faf af3d 3d3c 3c6d 6da2 a234 34ab abc1</td>\n",
       "    </tr>\n",
       "    <tr>\n",
       "      <th>94</th>\n",
       "      <td>f4e6 e6ac ac77 7794 943d 3d27 27ff ff3a 3a0f 0f80 8018 1801 010a 0af9 f931 3100 0000 0001 0101 0108 080a 0a8c 8c16 16ab aba1 a103 0303 03ac ac71 7117 1703 0303 0302 <font color = purple>020d</font> <font color = purple>0d81</font> 81d5 d5df df62 6285 8583 835d 5d38 38a1 a17c 7c7b 7b4c 4cde deb1 b16b 6bbd bdf6 f6b9 b949 49a7 a783 835c 5c4b 4b7f 7fcf cfc6 c668 6831 3118 183a</td>\n",
       "      <td>f4e6 e6ac ac77 7794 943d 3d27 27ff ff3a 3a0f 0f80 8018 1801 010a 0af9 f931 3100 0000 0001 0101 0108 080a 0a8c 8c16 16ab aba1 a103 0303 03ac ac71 7117 1703 0303 0302 <font color = yellow>0255</font> <font color = yellow>5581</font> 81d5 d5df df62 6285 8583 835d 5d38 38a1 a17c 7c7b 7b4c 4cde deb1 b16b 6bbd bdf6 f6b9 b949 49a7 a783 835c 5c4b 4b7f 7fcf cfc6 c668 6831 3118 183a</td>\n",
       "    </tr>\n",
       "    <tr>\n",
       "      <th>95</th>\n",
       "      <td>ea05 051f 1f6e 6e70 70f8 f8ff ff0c 0ca9 a919 1950 5010 1000 <font color = red>003c</font> <font color = red>3c41</font> 4106 0600 0000 00e6 e626 26cb cb45 45d0 d0c9 c9ff ffcb cb6d 6ddc dc18 182d 2d68 6826 2687 8723 2365 6542 427b 7bc2 c20e 0e0b 0bd1 d111 1133 331b 1b2a 2a10 1000 007e 7e5a 5a85 85a2 a2f3 f3f2 f265 65ce ce67 6706 0634 34e0 e037 37da da9a 9ac8 c802 02b6</td>\n",
       "      <td>ea05 051f 1f6e 6e70 70f8 f8ff ff0c 0ca9 a919 1950 5010 1000 <font color = cyan>008c</font> <font color = cyan>8c41</font> 4106 0600 0000 00e6 e626 26cb cb45 45d0 d0c9 c9ff ffcb cb6d 6ddc dc18 182d 2d68 6826 2687 8723 2365 6542 427b 7bc2 c20e 0e0b 0bd1 d111 1133 331b 1b2a 2a10 1000 007e 7e5a 5a85 85a2 a2f3 f3f2 f265 65ce ce67 6706 0634 34e0 e037 37da da9a 9ac8 c802 02b6</td>\n",
       "    </tr>\n",
       "    <tr>\n",
       "      <th>96</th>\n",
       "      <td>f78e 8e5c 5c31 3175 7545 4549 490d 0d2b 2b4c 4c80 8018 1800 <font color = cyan>0058</font> <font color = cyan>588d</font> 8d7d 7d00 0000 0001 0101 0108 080a 0ac4 c49f 9fb1 b102 0248 48e1 e140 40d0 d017 1703 0303 0301 0132 3242 42c9 c9ef efd0 d051 51d1 d125 25e0 e0f1 f136 3649 497b 7b37 3752 5213 130f 0fbd bda8 a8bd bdd7 d7e5 e5e6 e6d6 d628 2805 05a2 a2e5 e505 0582 82bd</td>\n",
       "      <td>f78e 8e5c 5c31 3175 7545 4549 490d 0d2b 2b4c 4c80 8018 1800 <font color = brown>0023</font> <font color = brown>238d</font> 8d7d 7d00 0000 0001 0101 0108 080a 0ac4 c49f 9fb1 b102 0248 48e1 e140 40d0 d017 1703 0303 0301 0132 3242 42c9 c9ef efd0 d051 51d1 d125 25e0 e0f1 f136 3649 497b 7b37 3752 5213 130f 0fbd bda8 a8bd bdd7 d7e5 e5e6 e6d6 d628 2805 05a2 a2e5 e505 0582 82bd</td>\n",
       "    </tr>\n",
       "    <tr>\n",
       "      <th>97</th>\n",
       "      <td>01bb bb99 <font color = blue>99b8</font> <font color = blue>b8c0</font> c0cc cc24 2485 858f 8f29 2950 5018 1801 01fd fdda da63 6300 0000 0017 1703 0303 0304 041f 1f7b 7b3b 3bc1 c1cb cb3f 3f9b 9b40 403e 3ece cee5 e544 4431 316d 6d9d 9d7f 7fc7 c752 52c8 c894 945d 5d8b 8b06 06d1 d1d4 d451 519d 9d66 664b 4b7a 7aee ee38 3864 649a 9ade de7b 7b11 1135 3576 76ce ce47 4795 95c8</td>\n",
       "      <td>01bb bb99 <font color = orange>9977</font> <font color = orange>77c0</font> c0cc cc24 2485 858f 8f29 2950 5018 1801 01fd fdda da63 6300 0000 0017 1703 0303 0304 041f 1f7b 7b3b 3bc1 c1cb cb3f 3f9b 9b40 403e 3ece cee5 e544 4431 316d 6d9d 9d7f 7fc7 c752 52c8 c894 945d 5d8b 8b06 06d1 d1d4 d451 519d 9d66 664b 4b7a 7aee ee38 3864 649a 9ade de7b 7b11 1135 3576 76ce ce47 4795 95c8</td>\n",
       "    </tr>\n",
       "    <tr>\n",
       "      <th>98</th>\n",
       "      <td>01bb bb59 597e 7e63 63a9 a926 26ae aee9 e997 9750 5018 1808 0800 004d 4d3f 3f00 0000 0017 1703 0303 0300 <font color = gray>0013</font> <font color = gray>1334</font> 3420 209c 9c2f 2f74 748f 8f1e 1ea5 a54c 4ccd cde9 e993 935a 5a83 83ab aba9 a909 09d2 d2e2</td>\n",
       "      <td>01bb bb59 597e 7e63 63a9 a926 26ae aee9 e997 9750 5018 1808 0800 004d 4d3f 3f00 0000 0017 1703 0303 0300 <font color = gray>00fa</font> <font color = gray>fa34</font> 3420 209c 9c2f 2f74 748f 8f1e 1ea5 a54c 4ccd cde9 e993 935a 5a83 83ab aba9 a909 09d2 d2e2</td>\n",
       "    </tr>\n",
       "    <tr>\n",
       "      <th>99</th>\n",
       "      <td>9d72 7220 202a 2a56 566c 6ceb eb08 087a 7a10 1080 8010 1000 0053 5332 32ea ea00 0000 0001 0101 0108 080a 0a88 88c1 c1e2 e263 6302 <font color = brown>029c</font> <font color = brown>9ccb</font> cbd7 d774 7483 8322 2257 57f6 f66a 6aba ba6e 6ec8 c8aa aacd cd11 1133 33c0 c0e0 e094 94b0 b0cc cc06 063b 3b0c 0c47 47d6 d66f 6f31 31b4 b4f7 f731 31c3 c321 21eb eb9a 9a90 90ba ba01</td>\n",
       "      <td>9d72 7220 202a 2a56 566c 6ceb eb08 087a 7a10 1080 8010 1000 0053 5332 32ea ea00 0000 0001 0101 0108 080a 0a88 88c1 c1e2 e263 6302 <font color = purple>02ec</font> <font color = purple>eccb</font> cbd7 d774 7483 8322 2257 57f6 f66a 6aba ba6e 6ec8 c8aa aacd cd11 1133 33c0 c0e0 e094 94b0 b0cc cc06 063b 3b0c 0c47 47d6 d66f 6f31 31b4 b4f7 f731 31c3 c321 21eb eb9a 9a90 90ba ba01</td>\n",
       "    </tr>\n",
       "  </tbody>\n",
       "</table>"
      ]
     },
     "metadata": {},
     "output_type": "display_data"
    }
   ],
   "source": [
    "# Display the attack results and the differences\n",
    "logger = CSVLogger(color_method=\"html\")\n",
    "for result in attack_results:\n",
    "    logger.log_attack_result(result)\n",
    "    continue\n",
    "\n",
    "display_html(HTML(logger.df[[\"original_text\", \"perturbed_text\"]].to_html(escape=False)))"
   ]
  }
 ],
 "metadata": {
  "kernelspec": {
   "display_name": "python38-env",
   "language": "python",
   "name": "python3"
  },
  "language_info": {
   "codemirror_mode": {
    "name": "ipython",
    "version": 3
   },
   "file_extension": ".py",
   "mimetype": "text/x-python",
   "name": "python",
   "nbconvert_exporter": "python",
   "pygments_lexer": "ipython3",
   "version": "3.8.18"
  }
 },
 "nbformat": 4,
 "nbformat_minor": 2
}
