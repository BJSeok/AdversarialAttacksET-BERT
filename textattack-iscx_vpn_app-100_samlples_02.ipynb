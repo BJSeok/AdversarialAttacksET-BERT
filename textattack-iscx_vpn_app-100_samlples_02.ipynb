{
 "cells": [
  {
   "cell_type": "markdown",
   "metadata": {},
   "source": [
    "# 1. Import packages"
   ]
  },
  {
   "cell_type": "code",
   "execution_count": 1,
   "metadata": {},
   "outputs": [
    {
     "name": "stderr",
     "output_type": "stream",
     "text": [
      "/home/sypark/.local/lib/python3.8/site-packages/tqdm/auto.py:21: TqdmWarning: IProgress not found. Please update jupyter and ipywidgets. See https://ipywidgets.readthedocs.io/en/stable/user_install.html\n",
      "  from .autonotebook import tqdm as notebook_tqdm\n"
     ]
    }
   ],
   "source": [
    "import re\n",
    "import string\n",
    "from typing import Final, List\n",
    "\n",
    "from IPython.core.display import display_html, HTML\n",
    "\n",
    "from textattack import Attack, AttackArgs, Attacker\n",
    "from textattack.constraints.pre_transformation import (\n",
    "    RepeatModification,\n",
    "    StopwordModification,\n",
    ")\n",
    "from textattack.constraints.semantics import WordEmbeddingDistance\n",
    "from textattack.goal_functions.classification import UntargetedClassification\n",
    "from textattack.loggers import CSVLogger\n",
    "from textattack.search_methods import GreedyWordSwapWIR\n",
    "from textattack.shared.attacked_text import AttackedText\n",
    "from textattack.transformations import WordSwap"
   ]
  },
  {
   "cell_type": "markdown",
   "metadata": {},
   "source": [
    "# 2. Load model and dataset"
   ]
  },
  {
   "cell_type": "code",
   "execution_count": 2,
   "metadata": {},
   "outputs": [],
   "source": [
    "# Load from my_model.py and my_dataset.py\n",
    "from my_model import get_model\n",
    "from my_dataset import dataset\n",
    "\n",
    "model = get_model(\"cuda:0\")"
   ]
  },
  {
   "cell_type": "markdown",
   "metadata": {},
   "source": [
    "# 3. Define `CustomWordSwapEmbedding` class"
   ]
  },
  {
   "cell_type": "code",
   "execution_count": 3,
   "metadata": {},
   "outputs": [],
   "source": [
    "class CustomWordSwapEmbedding(WordSwap):\n",
    "    def __init__(self) -> None:\n",
    "        hexword_regex: Final[re.Pattern] = re.compile(r\"^[0-9a-fA-F]{4}$\")\n",
    "        self.replacement_words: List[str] = []\n",
    "\n",
    "        with open(\"./models/encryptd_vocab.txt\") as vocab_file:\n",
    "            for vocab in vocab_file:\n",
    "                self.replacement_words.append(\n",
    "                    vocab.rstrip()\n",
    "                ) if hexword_regex.fullmatch(vocab.rstrip()) else None\n",
    "                continue\n",
    "            pass\n",
    "\n",
    "        return super().__init__(string.hexdigits)\n",
    "\n",
    "    def _get_transformations(\n",
    "        self, current_text: AttackedText, indices_to_modify: List[int]\n",
    "    ) -> List[AttackedText]:\n",
    "        words = current_text.words\n",
    "        transformed_texts: List[AttackedText] = []\n",
    "\n",
    "        for i in indices_to_modify:\n",
    "            # if i < 22:\n",
    "            #     continue\n",
    "            \n",
    "            word_to_replace = words[i]\n",
    "            replacement_words = self._get_replacement_words(word_to_replace)\n",
    "            transformed_texts_idx: List[AttackedText] = []\n",
    "\n",
    "            for r in replacement_words:\n",
    "                if r == word_to_replace:\n",
    "                    continue\n",
    "\n",
    "                indices: List[int] = []\n",
    "                new_words: List[str] = []\n",
    "\n",
    "                indices.append(i)\n",
    "                new_words.append(r)\n",
    "\n",
    "                if i < len(words) - 1:\n",
    "                    post_r = r[2:] + words[i + 1][2:]\n",
    "                    indices.append(i + 1)\n",
    "                    new_words.append(post_r)\n",
    "                    pass\n",
    "\n",
    "                transformed_texts_idx.append(\n",
    "                    current_text.replace_words_at_indices(indices, new_words)\n",
    "                )\n",
    "                continue\n",
    "\n",
    "            transformed_texts.extend(transformed_texts_idx)\n",
    "            continue\n",
    "\n",
    "        return transformed_texts\n",
    "\n",
    "    def _get_replacement_words(self, word: str) -> List[str]:\n",
    "        replacement_words = [w for w in self.replacement_words if w.startswith(word[:2])]\n",
    "\n",
    "        if word in replacement_words:\n",
    "            replacement_words.remove(word)\n",
    "            pass\n",
    "        \n",
    "        return replacement_words\n",
    "\n",
    "    pass"
   ]
  },
  {
   "cell_type": "markdown",
   "metadata": {},
   "source": [
    "# 4. Construct `textattack.Attack` object"
   ]
  },
  {
   "cell_type": "code",
   "execution_count": 4,
   "metadata": {},
   "outputs": [
    {
     "name": "stderr",
     "output_type": "stream",
     "text": [
      "textattack: Unknown if model of class <class 'my_model.Classifier'> compatible with goal function <class 'textattack.goal_functions.classification.untargeted_classification.UntargetedClassification'>.\n"
     ]
    }
   ],
   "source": [
    "# Construct the four fundamental components of the attack\n",
    "goal_function = UntargetedClassification(model)\n",
    "constraints = [\n",
    "    RepeatModification(),\n",
    "    StopwordModification(),\n",
    "    WordEmbeddingDistance(min_cos_sim=0.9),\n",
    "]\n",
    "transformation = CustomWordSwapEmbedding()\n",
    "search_method = GreedyWordSwapWIR(wir_method=\"delete\")\n",
    "\n",
    "# Construct the actual attack\n",
    "attack = Attack(goal_function, constraints, transformation, search_method)"
   ]
  },
  {
   "cell_type": "markdown",
   "metadata": {},
   "source": [
    "# 5. Construct `textattack.Attacker` object"
   ]
  },
  {
   "cell_type": "code",
   "execution_count": 5,
   "metadata": {},
   "outputs": [
    {
     "name": "stdout",
     "output_type": "stream",
     "text": [
      "Attack(\n",
      "  (search_method): GreedyWordSwapWIR(\n",
      "    (wir_method):  delete\n",
      "  )\n",
      "  (goal_function):  UntargetedClassification\n",
      "  (transformation):  CustomWordSwapEmbedding\n",
      "  (constraints): \n",
      "    (0): WordEmbeddingDistance(\n",
      "        (embedding):  WordEmbedding\n",
      "        (min_cos_sim):  0.9\n",
      "        (cased):  False\n",
      "        (include_unknown_words):  True\n",
      "        (compare_against_original):  True\n",
      "      )\n",
      "    (1): RepeatModification\n",
      "    (2): StopwordModification\n",
      "  (is_black_box):  True\n",
      ") \n",
      "\n"
     ]
    },
    {
     "name": "stderr",
     "output_type": "stream",
     "text": [
      "  1%|          | 1/100 [00:02<03:25,  2.07s/it]"
     ]
    },
    {
     "name": "stdout",
     "output_type": "stream",
     "text": [
      "--------------------------------------------- Result 1 ---------------------------------------------\n"
     ]
    },
    {
     "name": "stderr",
     "output_type": "stream",
     "text": [
      "[Succeeded / Failed / Skipped / Total] 1 / 0 / 0 / 1:   1%|          | 1/100 [00:02<03:58,  2.41s/it]"
     ]
    },
    {
     "name": "stdout",
     "output_type": "stream",
     "text": [
      "[[11 (100%)]] --> [[2 (96%)]]\n",
      "\n",
      "1191 9155 5530 303e 3e31 316a 6a78 78d7 d798 9850 5010 [[1000]] [[00ed]] edf4 f471 7100 0000 00cc cc24 245f 5f16 166b 6b52 525e 5e2c 2cd2 d2df dfdc dc7d 7de7 e712 12bf bf02 020d 0d18 1834 3442 4202 02a9 a93d 3dd0 d070 70ff ff0e 0e18 1819 1934 34e0 e0b0 b0f4 f4cb cb1f 1fa5 a5de de3e 3e13 1366 6637 378b 8bb9 b928 28dd dd9e 9e81\n",
      "\n",
      "1191 9155 5530 303e 3e31 316a 6a78 78d7 d798 9850 5010 [[1014]] [[14ed]] edf4 f471 7100 0000 00cc cc24 245f 5f16 166b 6b52 525e 5e2c 2cd2 d2df dfdc dc7d 7de7 e712 12bf bf02 020d 0d18 1834 3442 4202 02a9 a93d 3dd0 d070 70ff ff0e 0e18 1819 1934 34e0 e0b0 b0f4 f4cb cb1f 1fa5 a5de de3e 3e13 1366 6637 378b 8bb9 b928 28dd dd9e 9e81\n",
      "\n",
      "\n"
     ]
    },
    {
     "name": "stderr",
     "output_type": "stream",
     "text": [
      "[Succeeded / Failed / Skipped / Total] 2 / 0 / 0 / 2:   2%|▏         | 2/100 [00:11<09:01,  5.53s/it]"
     ]
    },
    {
     "name": "stdout",
     "output_type": "stream",
     "text": [
      "--------------------------------------------- Result 2 ---------------------------------------------\n",
      "[[14 (100%)]] --> [[15 (100%)]]\n",
      "\n",
      "3514 1400 0000 0001 0101 0108 080a [[0a1a]] [[1aa6]] a62a 2ac6 c600 [[0023]] [[2374]] 7445 45f5 f5f3 [[f3a8]] [[a81c]] 1c67 6752 523a 3afd fd91 [[91eb]] [[eb72]] [[726e]] 6e13 13ee eef4 f45f 5f6d [[6de3]] [[e3d1]] [[d192]] [[9298]] 9828 281d 1db1 b1a5 a53d 3d90 9055 5501 017c 7c52 52fc fc9b 9b60 60b5 b5d2 d2db db57 57fc fc45 45e2 e247 477e 7edb db02 0219 19a7 a7b7 b7fb\n",
      "\n",
      "3514 1400 0000 0001 0101 0108 080a [[0a9a]] [[9aa6]] a62a 2ac6 c600 [[001e]] [[1e74]] 7445 45f5 f5f3 [[f3ab]] [[ab1c]] 1c67 6752 523a 3afd fd91 [[91d7]] [[d7e9]] [[e96e]] 6e13 13ee eef4 f45f 5f6d [[6d28]] [[28d1]] [[d1de]] [[de98]] 9828 281d 1db1 b1a5 a53d 3d90 9055 5501 017c 7c52 52fc fc9b 9b60 60b5 b5d2 d2db db57 57fc fc45 45e2 e247 477e 7edb db02 0219 19a7 a7b7 b7fb\n",
      "\n",
      "\n"
     ]
    },
    {
     "name": "stderr",
     "output_type": "stream",
     "text": [
      "[Succeeded / Failed / Skipped / Total] 3 / 0 / 0 / 3:   3%|▎         | 3/100 [00:12<06:38,  4.11s/it]"
     ]
    },
    {
     "name": "stdout",
     "output_type": "stream",
     "text": [
      "--------------------------------------------- Result 3 ---------------------------------------------\n",
      "[[1 (100%)]] --> [[3 (94%)]]\n",
      "\n",
      "[[03e1]] [[e19d]] 9db2 b255 5523 2351 51ad ad40 4072 7250 5018 1896 96c8 c808 0829 2900 0000 0017 1703 0303 0300 0028 2800 0000 0000 0000 0000 0000 0000 0035 35f4 f42d 2d9c 9ccb cb7b 7b9a 9ae8 e804 040f 0f16 163c 3cd2 d2e5 e501 011e 1e4e 4ea1 a183 83e2 e221 21b1 b167 6726 26b5 b500 007c 7ce4 e4ff ff77 7787 87f4 f4ef\n",
      "\n",
      "[[03ae]] [[ae9d]] 9db2 b255 5523 2351 51ad ad40 4072 7250 5018 1896 96c8 c808 0829 2900 0000 0017 1703 0303 0300 0028 2800 0000 0000 0000 0000 0000 0000 0035 35f4 f42d 2d9c 9ccb cb7b 7b9a 9ae8 e804 040f 0f16 163c 3cd2 d2e5 e501 011e 1e4e 4ea1 a183 83e2 e221 21b1 b167 6726 26b5 b500 007c 7ce4 e4ff ff77 7787 87f4 f4ef\n",
      "\n",
      "\n"
     ]
    },
    {
     "name": "stderr",
     "output_type": "stream",
     "text": [
      "[Succeeded / Failed / Skipped / Total] 4 / 0 / 0 / 4:   4%|▍         | 4/100 [00:13<05:25,  3.40s/it]"
     ]
    },
    {
     "name": "stdout",
     "output_type": "stream",
     "text": [
      "--------------------------------------------- Result 4 ---------------------------------------------\n",
      "[[11 (100%)]] --> [[13 (43%)]]\n",
      "\n",
      "1166 6628 283c 3ce0 e04c 4cb4 b468 6855 553f 3f50 5010 [[1000]] [[00ed]] ed52 524a 4a00 0000 0040 4038 383d 3d3c 3c17 1780 8066 6604 04c7 c709 095b 5b14 14e3 e3f7 f727 2761 61de def2 f223 2386 86ac acd9 d909 09e1 e1de de85 85a7 a7a9 a916 1667 67d3 d337 37d9 d994 94cd cdd8 d87a 7af2 f2cd cdc2 c20a 0ab3 b321 21b6 b616 163d 3dd1\n",
      "\n",
      "1166 6628 283c 3ce0 e04c 4cb4 b468 6855 553f 3f50 5010 [[1037]] [[37ed]] ed52 524a 4a00 0000 0040 4038 383d 3d3c 3c17 1780 8066 6604 04c7 c709 095b 5b14 14e3 e3f7 f727 2761 61de def2 f223 2386 86ac acd9 d909 09e1 e1de de85 85a7 a7a9 a916 1667 67d3 d337 37d9 d994 94cd cdd8 d87a 7af2 f2cd cdc2 c20a 0ab3 b321 21b6 b616 163d 3dd1\n",
      "\n",
      "\n"
     ]
    },
    {
     "name": "stderr",
     "output_type": "stream",
     "text": [
      "[Succeeded / Failed / Skipped / Total] 5 / 0 / 0 / 5:   5%|▌         | 5/100 [00:21<06:46,  4.28s/it]"
     ]
    },
    {
     "name": "stdout",
     "output_type": "stream",
     "text": [
      "--------------------------------------------- Result 5 ---------------------------------------------\n",
      "[[14 (100%)]] --> [[9 (39%)]]\n",
      "\n",
      "e00e 0e00 0000 0001 0101 [[0108]] [[080a]] [[0a1a]] [[1aa5]] a5db db7a 7a00 0023 2325 2501 0143 43c9 c916 1699 9911 1193 939f 9f44 4420 [[20f9]] [[f93f]] 3fdb db18 18c9 c98c [[8c4a]] [[4a30]] 30aa aa6d 6d2b 2ba5 a5d0 d081 818f 8f45 457c 7ceb ebad ad11 1124 2443 4363 [[63bd]] [[bdc0]] c0a2 a267 679f 9f59 59c8 c892 9234 346a 6a93 93a1 a110 108a 8a82 82f6 f682\n",
      "\n",
      "e00e 0e00 0000 0001 0101 [[0130]] [[300a]] [[0a9a]] [[9aa5]] a5db db7a 7a00 0023 2325 2501 0143 43c9 c916 1699 9911 1193 939f 9f44 4420 [[2055]] [[553f]] 3fdb db18 18c9 c98c [[8cd6]] [[d630]] 30aa aa6d 6d2b 2ba5 a5d0 d081 818f 8f45 457c 7ceb ebad ad11 1124 2443 4363 [[63b5]] [[b5c0]] c0a2 a267 679f 9f59 59c8 c892 9234 346a 6a93 93a1 a110 108a 8a82 82f6 f682\n",
      "\n",
      "\n"
     ]
    },
    {
     "name": "stderr",
     "output_type": "stream",
     "text": [
      "[Succeeded / Failed / Skipped / Total] 6 / 0 / 0 / 6:   6%|▌         | 6/100 [00:26<06:55,  4.42s/it]"
     ]
    },
    {
     "name": "stdout",
     "output_type": "stream",
     "text": [
      "--------------------------------------------- Result 6 ---------------------------------------------\n",
      "[[10 (100%)]] --> [[16 (100%)]]\n",
      "\n",
      "[[8570]] [[708f]] 8f9d 9d34 3488 8835 [[3579]] [[798b]] 8b0d 0d80 8010 100c 0c69 69b7 b712 1200 0000 0001 0101 0108 080a [[0a42]] [[42a3]] a3be be62 6200 00f2 f233 3328 284a [[4ab4]] [[b4c8]] c8a1 a1a7 a77c 7cb1 b1ac acbd bd69 6931 31c4 c485 852b 2b72 720c 0cab ab60 60a3 a37b 7b90 90b3 b310 [[104b]] [[4ba5]] a5c4 c43e 3e0e 0eb2 b2cb cb4f 4fec ec1d 1d0d 0d6f\n",
      "\n",
      "[[8515]] [[158f]] 8f9d 9d34 3488 8835 [[3596]] [[968b]] 8b0d 0d80 8010 100c 0c69 69b7 b712 1200 0000 0001 0101 0108 080a [[0a77]] [[77a3]] a3be be62 6200 00f2 f233 3328 284a [[4a79]] [[79c8]] c8a1 a1a7 a77c 7cb1 b1ac acbd bd69 6931 31c4 c485 852b 2b72 720c 0cab ab60 60a3 a37b 7b90 90b3 b310 [[100d]] [[0da5]] a5c4 c43e 3e0e 0eb2 b2cb cb4f 4fec ec1d 1d0d 0d6f\n",
      "\n",
      "\n"
     ]
    },
    {
     "name": "stderr",
     "output_type": "stream",
     "text": [
      "[Succeeded / Failed / Skipped / Total] 7 / 0 / 0 / 7:   7%|▋         | 7/100 [00:27<06:06,  3.94s/it]"
     ]
    },
    {
     "name": "stdout",
     "output_type": "stream",
     "text": [
      "--------------------------------------------- Result 7 ---------------------------------------------\n",
      "[[2 (100%)]] --> [[0 (97%)]]\n",
      "\n",
      "[[7f40]] [[40af]] af6a 6a9e 9ef6 f64a 4a09 098b 8be0 e050 5018 1807 07fb fb8d 8d08 0800 0000 0017 1703 0303 0300 0024 245c 5cad ad3d 3d08 08fa faba ba86 86e1 e139 3981 81f2 f2f3 f3ee ee6d 6d93 9332 3280 80d8 d89b 9bc7 c71b 1b65 653f 3ffa fa83 83ec ec1e 1ed8 d8cf cf65 6546 46cd cd75 759e 9e11 11b3\n",
      "\n",
      "[[7ffa]] [[faaf]] af6a 6a9e 9ef6 f64a 4a09 098b 8be0 e050 5018 1807 07fb fb8d 8d08 0800 0000 0017 1703 0303 0300 0024 245c 5cad ad3d 3d08 08fa faba ba86 86e1 e139 3981 81f2 f2f3 f3ee ee6d 6d93 9332 3280 80d8 d89b 9bc7 c71b 1b65 653f 3ffa fa83 83ec ec1e 1ed8 d8cf cf65 6546 46cd cd75 759e 9e11 11b3\n",
      "\n",
      "\n"
     ]
    },
    {
     "name": "stderr",
     "output_type": "stream",
     "text": [
      "[Succeeded / Failed / Skipped / Total] 8 / 0 / 0 / 8:   8%|▊         | 8/100 [00:28<05:31,  3.61s/it]"
     ]
    },
    {
     "name": "stdout",
     "output_type": "stream",
     "text": [
      "--------------------------------------------- Result 8 ---------------------------------------------\n",
      "[[9 (100%)]] --> [[16 (100%)]]\n",
      "\n",
      "a8c8 c8ef efa5 a5be be6e 6e7c 7c55 5532 320d 0d80 8010 1004 04c7 c7a0 a08c 8c00 0000 0001 0101 0108 080a 0aac ac5c 5cc7 c765 6501 [[012c]] [[2c6e]] 6e42 42fd fd08 08ec ecfe febc bcf4 f4f5 f59a 9a2f 2f75 7555 558c 8c6f 6f61 6163 6311 118a 8a1c 1c3e 3e59 59a4 a4f7 f77e 7ea1 a17f 7f3d 3de0 e0c0 c0d8 d896 96f3 f3eb ebfd fd8f 8ff3\n",
      "\n",
      "a8c8 c8ef efa5 a5be be6e 6e7c 7c55 5532 320d 0d80 8010 1004 04c7 c7a0 a08c 8c00 0000 0001 0101 0108 080a 0aac ac5c 5cc7 c765 6501 [[0115]] [[156e]] 6e42 42fd fd08 08ec ecfe febc bcf4 f4f5 f59a 9a2f 2f75 7555 558c 8c6f 6f61 6163 6311 118a 8a1c 1c3e 3e59 59a4 a4f7 f77e 7ea1 a17f 7f3d 3de0 e0c0 c0d8 d896 96f3 f3eb ebfd fd8f 8ff3\n",
      "\n",
      "\n"
     ]
    },
    {
     "name": "stderr",
     "output_type": "stream",
     "text": [
      "[Succeeded / Failed / Skipped / Total] 9 / 0 / 0 / 9:   9%|▉         | 9/100 [00:39<06:44,  4.44s/it]"
     ]
    },
    {
     "name": "stdout",
     "output_type": "stream",
     "text": [
      "--------------------------------------------- Result 9 ---------------------------------------------\n",
      "[[7 (100%)]] --> [[16 (100%)]]\n",
      "\n",
      "[[adc8]] [[c833]] 3380 8081 8137 37a1 a1c5 c55a 5a7b 7b80 8010 1000 00e3 e3f9 f992 9200 0000 0001 0101 0108 080a 0a4e 4e59 59b0 b05f 5f00 [[00d4]] [[d46a]] 6ab6 b673 7312 1297 97a3 a32f 2f2f 2f5d 5d0a 0a4b 4b96 96ae ae84 841c 1ca4 a46a 6a60 [[6000]] [[0092]] 92cb cbe5 e5c2 c246 464f 4fb6 b6a2 a2d7 d75b 5bc6 c680 805a 5a40 4084 846a 6af6 f68d\n",
      "\n",
      "[[addf]] [[df33]] 3380 8081 8137 37a1 a1c5 c55a 5a7b 7b80 8010 1000 00e3 e3f9 f992 9200 0000 0001 0101 0108 080a 0a4e 4e59 59b0 b05f 5f00 [[00f1]] [[f16a]] 6ab6 b673 7312 1297 97a3 a32f 2f2f 2f5d 5d0a 0a4b 4b96 96ae ae84 841c 1ca4 a46a 6a60 [[609d]] [[9d92]] 92cb cbe5 e5c2 c246 464f 4fb6 b6a2 a2d7 d75b 5bc6 c680 805a 5a40 4084 846a 6af6 f68d\n",
      "\n",
      "\n"
     ]
    },
    {
     "name": "stderr",
     "output_type": "stream",
     "text": [
      "[Succeeded / Failed / Skipped / Total] 10 / 0 / 0 / 10:  10%|█         | 10/100 [00:41<06:10,  4.12s/it]"
     ]
    },
    {
     "name": "stdout",
     "output_type": "stream",
     "text": [
      "--------------------------------------------- Result 10 ---------------------------------------------\n",
      "[[1 (100%)]] --> [[3 (97%)]]\n",
      "\n",
      "[[03e1]] [[e1ff]] ff14 14b0 b02f 2f3a 3acd cd20 2010 1050 5018 1840 4044 44da da57 5700 0000 0017 1703 0303 0300 0026 2600 0000 0000 0000 0000 0000 0000 00c7 c7a2 a246 46b9 b9c5 c509 0981 815c 5c14 1430 30d8 d8be be74 74ff ffab aba3 a32a 2a4b 4b95 95f8 f863 6383 831d 1d20 20de de98 984c 4c35 353e 3e6b 6b0d\n",
      "\n",
      "[[0379]] [[79ff]] ff14 14b0 b02f 2f3a 3acd cd20 2010 1050 5018 1840 4044 44da da57 5700 0000 0017 1703 0303 0300 0026 2600 0000 0000 0000 0000 0000 0000 00c7 c7a2 a246 46b9 b9c5 c509 0981 815c 5c14 1430 30d8 d8be be74 74ff ffab aba3 a32a 2a4b 4b95 95f8 f863 6383 831d 1d20 20de de98 984c 4c35 353e 3e6b 6b0d\n",
      "\n",
      "\n"
     ]
    },
    {
     "name": "stderr",
     "output_type": "stream",
     "text": [
      "[Succeeded / Failed / Skipped / Total] 11 / 0 / 0 / 11:  11%|█         | 11/100 [00:42<05:42,  3.84s/it]"
     ]
    },
    {
     "name": "stdout",
     "output_type": "stream",
     "text": [
      "--------------------------------------------- Result 11 ---------------------------------------------\n",
      "[[10 (100%)]] --> [[16 (100%)]]\n",
      "\n",
      "[[8570]] [[7092]] 923b 3bf0 f070 7035 358f 8fa8 a81a 1a80 8010 100c 0c69 69ca cafa fa00 0000 0001 0101 0108 080a 0a42 42a4 a453 534b 4b00 00f2 f2c8 c80e 0e21 214c 4ce9 e940 40ef ef6c 6c25 25db dbaa aab8 b860 6094 9474 7498 9871 714d 4d65 65f8 f8f4 f435 3533 3316 1622 2206 06d2 d2ca cad9 d92c 2c1d 1d2d 2dfe fed5 d5f4 f48c 8c74\n",
      "\n",
      "[[85ea]] [[ea92]] 923b 3bf0 f070 7035 358f 8fa8 a81a 1a80 8010 100c 0c69 69ca cafa fa00 0000 0001 0101 0108 080a 0a42 42a4 a453 534b 4b00 00f2 f2c8 c80e 0e21 214c 4ce9 e940 40ef ef6c 6c25 25db dbaa aab8 b860 6094 9474 7498 9871 714d 4d65 65f8 f8f4 f435 3533 3316 1622 2206 06d2 d2ca cad9 d92c 2c1d 1d2d 2dfe fed5 d5f4 f48c 8c74\n",
      "\n",
      "\n"
     ]
    },
    {
     "name": "stderr",
     "output_type": "stream",
     "text": [
      "[Succeeded / Failed / Skipped / Total] 12 / 0 / 0 / 12:  12%|█▏        | 12/100 [00:43<05:19,  3.63s/it]"
     ]
    },
    {
     "name": "stdout",
     "output_type": "stream",
     "text": [
      "--------------------------------------------- Result 12 ---------------------------------------------\n",
      "[[11 (100%)]] --> [[5 (99%)]]\n",
      "\n",
      "113b 3b82 8201 018c 8c41 417c 7c36 3695 956d 6d50 5010 [[1000]] [[00ed]] ed44 44b6 b600 0000 00fe fe25 2523 23ef efa6 a65c 5c67 6758 581e 1ed7 d730 3005 0556 56d1 d14b 4b0d 0d87 87c0 c0ae aef5 f583 83b8 b85a 5a60 6024 241c 1c3f 3fa6 a644 44ca cae9 e9d9 d98d 8d1f 1f7d 7dc7 c72f 2fa3 a3ce cec7 c793 935e 5ea9 a959 59a3 a329 29e8\n",
      "\n",
      "113b 3b82 8201 018c 8c41 417c 7c36 3695 956d 6d50 5010 [[1067]] [[67ed]] ed44 44b6 b600 0000 00fe fe25 2523 23ef efa6 a65c 5c67 6758 581e 1ed7 d730 3005 0556 56d1 d14b 4b0d 0d87 87c0 c0ae aef5 f583 83b8 b85a 5a60 6024 241c 1c3f 3fa6 a644 44ca cae9 e9d9 d98d 8d1f 1f7d 7dc7 c72f 2fa3 a3ce cec7 c793 935e 5ea9 a959 59a3 a329 29e8\n",
      "\n",
      "\n"
     ]
    },
    {
     "name": "stderr",
     "output_type": "stream",
     "text": [
      "[Succeeded / Failed / Skipped / Total] 13 / 0 / 0 / 13:  13%|█▎        | 13/100 [00:44<04:59,  3.45s/it]"
     ]
    },
    {
     "name": "stdout",
     "output_type": "stream",
     "text": [
      "--------------------------------------------- Result 13 ---------------------------------------------\n",
      "[[2 (100%)]] --> [[0 (92%)]]\n",
      "\n",
      "[[0cb0]] [[b002]] 02cb cb5f 5fb6 b6f2 f2e4 e4f2 f2ff ff50 5018 1801 01ea ea0a 0a7e 7e00 0000 0017 1703 0303 0300 0030 3044 44f8 f885 85e5 e5ae aeaa aad1 d1f5 f5b2 b20c 0c6c 6c7d 7d82 82a1 a1b3 b378 789c 9c7a 7a33 3374 74f8 f803 032b 2b1f 1f10 10a4 a4ec ec7e 7ece ce10 1086 8655 5538 38c0 c0e9 e919 190f 0fd1 d1f5 f509 09c3 c310\n",
      "\n",
      "[[0ccf]] [[cf02]] 02cb cb5f 5fb6 b6f2 f2e4 e4f2 f2ff ff50 5018 1801 01ea ea0a 0a7e 7e00 0000 0017 1703 0303 0300 0030 3044 44f8 f885 85e5 e5ae aeaa aad1 d1f5 f5b2 b20c 0c6c 6c7d 7d82 82a1 a1b3 b378 789c 9c7a 7a33 3374 74f8 f803 032b 2b1f 1f10 10a4 a4ec ec7e 7ece ce10 1086 8655 5538 38c0 c0e9 e919 190f 0fd1 d1f5 f509 09c3 c310\n",
      "\n",
      "\n"
     ]
    },
    {
     "name": "stderr",
     "output_type": "stream",
     "text": [
      "[Succeeded / Failed / Skipped / Total] 14 / 0 / 0 / 14:  14%|█▍        | 14/100 [00:45<04:41,  3.28s/it]"
     ]
    },
    {
     "name": "stdout",
     "output_type": "stream",
     "text": [
      "--------------------------------------------- Result 14 ---------------------------------------------\n",
      "[[7 (100%)]] --> [[9 (90%)]]\n",
      "\n",
      "[[adc3]] [[c3a9]] a901 012d 2d3a 3a02 0215 156d 6d40 4080 8018 180f 0f07 0755 5557 5700 0000 0001 0101 0108 080a 0a4e 4e57 5781 8198 9800 00d3 d3df df04 04d8 d87d 7d23 23a3 a31f 1ff1 f169 696d 6d9b 9bba ba3d 3df5 f5d0 d030 3097 9719 19c5 c568 6857 5774 7445 45ad add1 d1e1 e11f 1f93 93ac acb1 b160 600a 0adb db27 27cd cdbc bc88\n",
      "\n",
      "[[ad96]] [[96a9]] a901 012d 2d3a 3a02 0215 156d 6d40 4080 8018 180f 0f07 0755 5557 5700 0000 0001 0101 0108 080a 0a4e 4e57 5781 8198 9800 00d3 d3df df04 04d8 d87d 7d23 23a3 a31f 1ff1 f169 696d 6d9b 9bba ba3d 3df5 f5d0 d030 3097 9719 19c5 c568 6857 5774 7445 45ad add1 d1e1 e11f 1f93 93ac acb1 b160 600a 0adb db27 27cd cdbc bc88\n",
      "\n",
      "\n"
     ]
    },
    {
     "name": "stderr",
     "output_type": "stream",
     "text": [
      "[Succeeded / Failed / Skipped / Total] 15 / 0 / 0 / 15:  15%|█▌        | 15/100 [00:48<04:37,  3.26s/it]"
     ]
    },
    {
     "name": "stdout",
     "output_type": "stream",
     "text": [
      "--------------------------------------------- Result 15 ---------------------------------------------\n",
      "[[14 (100%)]] --> [[15 (71%)]]\n",
      "\n",
      "30f8 [[f800]] [[0000]] [[0001]] [[0101]] 0108 080a 0a00 0022 2262 6208 081a 1aa5 [[a518]] [[184b]] 4b04 0492 92d6 d6e8 e8ab ab99 997c 7cb4 b44f 4fc7 c72f 2f9a 9a58 583f 3faa aa1e 1ef0 f090 9029 29b2 b238 3886 8667 673a 3a2b 2b77 776f 6ff7 f757 57d2 d2a9 a97b 7b92 922e 2e30 30cb cb8a 8aad adce cec4 c42b 2bc0 c092 922e 2e92 9265 652e 2e78 78ba\n",
      "\n",
      "30f8 [[f839]] [[3900]] [[001e]] [[1e01]] 0108 080a 0a00 0022 2262 6208 081a 1aa5 [[a598]] [[984b]] 4b04 0492 92d6 d6e8 e8ab ab99 997c 7cb4 b44f 4fc7 c72f 2f9a 9a58 583f 3faa aa1e 1ef0 f090 9029 29b2 b238 3886 8667 673a 3a2b 2b77 776f 6ff7 f757 57d2 d2a9 a97b 7b92 922e 2e30 30cb cb8a 8aad adce cec4 c42b 2bc0 c092 922e 2e92 9265 652e 2e78 78ba\n",
      "\n",
      "\n"
     ]
    },
    {
     "name": "stderr",
     "output_type": "stream",
     "text": [
      "[Succeeded / Failed / Skipped / Total] 16 / 0 / 0 / 16:  16%|█▌        | 16/100 [00:50<04:27,  3.18s/it]"
     ]
    },
    {
     "name": "stdout",
     "output_type": "stream",
     "text": [
      "--------------------------------------------- Result 16 ---------------------------------------------\n",
      "[[12 (100%)]] --> [[16 (100%)]]\n",
      "\n",
      "[[d47a]] [[7a04]] 04a7 a7c3 c301 013e 3eea ea54 5472 7280 8010 1000 0021 21d4 d45d 5d00 0000 0001 0101 0108 080a 0aaf afaf af07 07d9 d901 [[0122]] [[2202]] 0272 7294 94b5 b5b8 b86b 6b69 690f 0fbe be86 860e 0e9a 9a16 16f4 f46d 6d7e 7eab ab48 4817 1748 4815 1565 6565 6541 4141 4191 911d 1de1 e13e 3e1e 1e97 9744 444b 4bc9 c900 003e 3efb\n",
      "\n",
      "[[d43b]] [[3b04]] 04a7 a7c3 c301 013e 3eea ea54 5472 7280 8010 1000 0021 21d4 d45d 5d00 0000 0001 0101 0108 080a 0aaf afaf af07 07d9 d901 [[0115]] [[1502]] 0272 7294 94b5 b5b8 b86b 6b69 690f 0fbe be86 860e 0e9a 9a16 16f4 f46d 6d7e 7eab ab48 4817 1748 4815 1565 6565 6541 4141 4191 911d 1de1 e13e 3e1e 1e97 9744 444b 4bc9 c900 003e 3efb\n",
      "\n",
      "\n"
     ]
    },
    {
     "name": "stderr",
     "output_type": "stream",
     "text": [
      "[Succeeded / Failed / Skipped / Total] 17 / 0 / 0 / 17:  17%|█▋        | 17/100 [00:52<04:14,  3.07s/it]"
     ]
    },
    {
     "name": "stdout",
     "output_type": "stream",
     "text": [
      "--------------------------------------------- Result 17 ---------------------------------------------\n",
      "[[7 (100%)]] --> [[4 (96%)]]\n",
      "\n",
      "[[0016]] [[16ea]] ead6 d6ea ea3e 3e24 24af af5a 5a20 2080 8010 1001 010e 0e2c 2c7b 7b00 0000 0001 0101 0108 080a 0a00 00d1 d1e9 e938 384e 4e4f 4faa aa66 6632 321a 1a1b 1b4b 4bbd bd2f 2fb2 b201 0155 5543 43e3 e32c 2c68 68ef ef43 43b9 b9c2 c244 4403 0338 3860 6042 421f 1fa9 a948 4851 5171 71bf bf35 359e 9e38 38f9 f91c 1c45 4555\n",
      "\n",
      "[[009d]] [[9dea]] ead6 d6ea ea3e 3e24 24af af5a 5a20 2080 8010 1001 010e 0e2c 2c7b 7b00 0000 0001 0101 0108 080a 0a00 00d1 d1e9 e938 384e 4e4f 4faa aa66 6632 321a 1a1b 1b4b 4bbd bd2f 2fb2 b201 0155 5543 43e3 e32c 2c68 68ef ef43 43b9 b9c2 c244 4403 0338 3860 6042 421f 1fa9 a948 4851 5171 71bf bf35 359e 9e38 38f9 f91c 1c45 4555\n",
      "\n",
      "\n"
     ]
    },
    {
     "name": "stderr",
     "output_type": "stream",
     "text": [
      "[Succeeded / Failed / Skipped / Total] 18 / 0 / 0 / 18:  18%|█▊        | 18/100 [00:53<04:03,  2.97s/it]"
     ]
    },
    {
     "name": "stdout",
     "output_type": "stream",
     "text": [
      "--------------------------------------------- Result 18 ---------------------------------------------\n",
      "[[16 (100%)]] --> [[9 (100%)]]\n",
      "\n",
      "d50c 0cfb fb8a 8a03 03f6 f625 25ec eca1 a10e 0e80 8010 1003 030b 0bfc fca0 a000 0000 0001 0101 0108 080a 0a4f 4f44 4489 8993 9301 [[0114]] [[1423]] 2309 09b9 b95a 5a2c 2c53 53c1 c19b 9b4b 4b97 97a7 a7e7 e7c6 c69c 9ca9 a925 257f 7f73 7342 422a 2a04 04a0 a0b5 b573 730f 0fec ec62 6261 61e4 e415 1589 89b1 b106 0636 365c 5caf affa\n",
      "\n",
      "d50c 0cfb fb8a 8a03 03f6 f625 25ec eca1 a10e 0e80 8010 1003 030b 0bfc fca0 a000 0000 0001 0101 0108 080a 0a4f 4f44 4489 8993 9301 [[0133]] [[3323]] 2309 09b9 b95a 5a2c 2c53 53c1 c19b 9b4b 4b97 97a7 a7e7 e7c6 c69c 9ca9 a925 257f 7f73 7342 422a 2a04 04a0 a0b5 b573 730f 0fec ec62 6261 61e4 e415 1589 89b1 b106 0636 365c 5caf affa\n",
      "\n",
      "\n"
     ]
    },
    {
     "name": "stderr",
     "output_type": "stream",
     "text": [
      "[Succeeded / Failed / Skipped / Total] 19 / 0 / 0 / 19:  19%|█▉        | 19/100 [00:54<03:53,  2.88s/it]"
     ]
    },
    {
     "name": "stdout",
     "output_type": "stream",
     "text": [
      "--------------------------------------------- Result 19 ---------------------------------------------\n",
      "[[7 (100%)]] --> [[11 (85%)]]\n",
      "\n",
      "[[0016]] [[168a]] 8aa2 a2ec ec15 1513 13e6 e64c 4ced ed80 8010 1001 010e 0e6a 6ab3 b300 0000 0001 0101 0108 080a 0a00 00d2 d211 11b2 b24e 4e50 504c 4c4d 4deb eb82 824b 4b4d 4d99 9981 8103 03b9 b915 155a 5adc dc01 018d 8d62 62fb fb57 5734 34a3 a3fd fdbe be1f 1f38 3879 7922 22fa faa5 a5a8 a80b 0bce ce7f 7fa6 a6e6 e6c1 c145 45c2\n",
      "\n",
      "[[00ff]] [[ff8a]] 8aa2 a2ec ec15 1513 13e6 e64c 4ced ed80 8010 1001 010e 0e6a 6ab3 b300 0000 0001 0101 0108 080a 0a00 00d2 d211 11b2 b24e 4e50 504c 4c4d 4deb eb82 824b 4b4d 4d99 9981 8103 03b9 b915 155a 5adc dc01 018d 8d62 62fb fb57 5734 34a3 a3fd fdbe be1f 1f38 3879 7922 22fa faa5 a5a8 a80b 0bce ce7f 7fa6 a6e6 e6c1 c145 45c2\n",
      "\n",
      "\n"
     ]
    },
    {
     "name": "stderr",
     "output_type": "stream",
     "text": [
      "[Succeeded / Failed / Skipped / Total] 20 / 0 / 0 / 20:  20%|██        | 20/100 [00:56<03:44,  2.80s/it]"
     ]
    },
    {
     "name": "stdout",
     "output_type": "stream",
     "text": [
      "--------------------------------------------- Result 20 ---------------------------------------------\n",
      "[[3 (100%)]] --> [[2 (100%)]]\n",
      "\n",
      "01bb [[bb6d]] [[6d54]] 54c8 c8d7 d75a 5ae5 e590 9036 3650 5010 1040 4083 832a 2ac1 c100 0000 0017 1703 0303 0309 0956 5600 0000 0000 0000 0000 0000 0000 00d5 d5d6 d610 10db db10 1062 62d2 d28b 8b54 543a 3a82 8222 226a 6a00 00ca ca2b 2b47 47ae ae6f 6fda da23 2306 0699 99d0 d09c 9cc8 c8a6 a6e9 e902 0285 8550 50dc dc1b 1b7a 7ae2\n",
      "\n",
      "01bb [[bbfc]] [[fc54]] 54c8 c8d7 d75a 5ae5 e590 9036 3650 5010 1040 4083 832a 2ac1 c100 0000 0017 1703 0303 0309 0956 5600 0000 0000 0000 0000 0000 0000 00d5 d5d6 d610 10db db10 1062 62d2 d28b 8b54 543a 3a82 8222 226a 6a00 00ca ca2b 2b47 47ae ae6f 6fda da23 2306 0699 99d0 d09c 9cc8 c8a6 a6e9 e902 0285 8550 50dc dc1b 1b7a 7ae2\n",
      "\n",
      "\n"
     ]
    },
    {
     "name": "stderr",
     "output_type": "stream",
     "text": [
      "[Succeeded / Failed / Skipped / Total] 21 / 0 / 0 / 21:  21%|██        | 21/100 [00:59<03:42,  2.82s/it]"
     ]
    },
    {
     "name": "stdout",
     "output_type": "stream",
     "text": [
      "--------------------------------------------- Result 21 ---------------------------------------------\n",
      "[[12 (100%)]] --> [[9 (100%)]]\n",
      "\n",
      "d47a 7a00 00b9 b991 9119 193e 3eea ea54 5472 7280 8010 1000 0021 21c4 c4af af00 [[0000]] [[0001]] 0101 0108 080a 0aaf afae ae07 073a 3a01 [[0121]] [[2101]] 01d3 d35d 5d5b 5bdc dc29 290f 0faf af57 577b 7b8e 8e13 13b8 b8e0 e0fa fa79 790f 0f14 140d 0d08 0833 3373 731d 1db9 [[b902]] [[0270]] 702d 2d81 8188 88cc ccc8 c828 281c 1ca7 a719 19f8 f8db\n",
      "\n",
      "d47a 7a00 00b9 b991 9119 193e 3eea ea54 5472 7280 8010 1000 0021 21c4 c4af af00 [[002f]] [[2f01]] 0101 0108 080a 0aaf afae ae07 073a 3a01 [[012b]] [[2b01]] 01d3 d35d 5d5b 5bdc dc29 290f 0faf af57 577b 7b8e 8e13 13b8 b8e0 e0fa fa79 790f 0f14 140d 0d08 0833 3373 731d 1db9 [[b9cf]] [[cf70]] 702d 2d81 8188 88cc ccc8 c828 281c 1ca7 a719 19f8 f8db\n",
      "\n",
      "\n"
     ]
    },
    {
     "name": "stderr",
     "output_type": "stream",
     "text": [
      "[Succeeded / Failed / Skipped / Total] 22 / 0 / 0 / 22:  22%|██▏       | 22/100 [01:00<03:34,  2.75s/it]"
     ]
    },
    {
     "name": "stdout",
     "output_type": "stream",
     "text": [
      "--------------------------------------------- Result 22 ---------------------------------------------\n",
      "[[13 (100%)]] --> [[2 (60%)]]\n",
      "\n",
      "4338 3800 [[005b]] [[5be9]] e94b 4b42 4230 3022 2291 91cd cd5f 5fe1 e12a 2ac8 c88b 8b2e 2eab abcc ccc8 c8bf bfe3 e34d 4df8 f8b6 b640 40bd bd2a 2a83 83ac ac37 370c 0c71 71a6 a610 106a 6a2e 2ea5 a5b8 b899 9940 40e7 e7ac ace3 e313 1369 6902 0229 29ca caa4 a48c 8ce6 e69a 9a8e 8eee eef4 f48f 8f23 23af af0e 0e07 0752 5291 9153 5397\n",
      "\n",
      "4338 3800 [[0072]] [[72e9]] e94b 4b42 4230 3022 2291 91cd cd5f 5fe1 e12a 2ac8 c88b 8b2e 2eab abcc ccc8 c8bf bfe3 e34d 4df8 f8b6 b640 40bd bd2a 2a83 83ac ac37 370c 0c71 71a6 a610 106a 6a2e 2ea5 a5b8 b899 9940 40e7 e7ac ace3 e313 1369 6902 0229 29ca caa4 a48c 8ce6 e69a 9a8e 8eee eef4 f48f 8f23 23af af0e 0e07 0752 5291 9153 5397\n",
      "\n",
      "\n"
     ]
    },
    {
     "name": "stderr",
     "output_type": "stream",
     "text": [
      "[Succeeded / Failed / Skipped / Total] 23 / 0 / 0 / 23:  23%|██▎       | 23/100 [01:01<03:26,  2.68s/it]"
     ]
    },
    {
     "name": "stdout",
     "output_type": "stream",
     "text": [
      "--------------------------------------------- Result 23 ---------------------------------------------\n",
      "[[13 (100%)]] --> [[1 (99%)]]\n",
      "\n",
      "f576 7600 [[005b]] [[5b88]] 8841 4144 444b 4b12 1298 98a4 a486 8658 5883 8355 5578 78fe fe0b 0bfe feed ede7 e7d9 d966 6632 3204 04ea ea6f 6fea eaa3 a31c 1c7c 7cc5 c523 230e 0e1d 1db0 b047 473d 3d28 289c 9c39 39d5 d5bf bff8 f8a8 a881 81a9 a9a9 a95a 5a1d 1de4 e4e7 e7aa aabc bcea ea7c 7c36 36d8 d885 8594 949e 9ecf cfd8 d871 71a2\n",
      "\n",
      "f576 7600 [[001a]] [[1a88]] 8841 4144 444b 4b12 1298 98a4 a486 8658 5883 8355 5578 78fe fe0b 0bfe feed ede7 e7d9 d966 6632 3204 04ea ea6f 6fea eaa3 a31c 1c7c 7cc5 c523 230e 0e1d 1db0 b047 473d 3d28 289c 9c39 39d5 d5bf bff8 f8a8 a881 81a9 a9a9 a95a 5a1d 1de4 e4e7 e7aa aabc bcea ea7c 7c36 36d8 d885 8594 949e 9ecf cfd8 d871 71a2\n",
      "\n",
      "\n"
     ]
    },
    {
     "name": "stderr",
     "output_type": "stream",
     "text": [
      "[Succeeded / Failed / Skipped / Total] 24 / 0 / 0 / 24:  24%|██▍       | 24/100 [01:03<03:19,  2.63s/it]"
     ]
    },
    {
     "name": "stdout",
     "output_type": "stream",
     "text": [
      "--------------------------------------------- Result 24 ---------------------------------------------\n",
      "[[16 (100%)]] --> [[9 (100%)]]\n",
      "\n",
      "d50c 0cfb fbfc fcc0 c0ff ff25 25ec eccb cb6f 6f80 8010 1003 03b2 b298 98fb fb00 0000 0001 0101 0108 080a 0a4f 4f45 4515 1508 0801 [[0114]] [[1445]] 45e6 e617 1703 0303 0316 16b4 b4a7 a7d9 d921 2128 28e4 e401 01f9 f9d9 d98a 8ac9 c96d 6d54 544d 4d53 5338 38d7 d79a 9ab0 b0c3 c3e0 e0d3 d374 7419 194f 4fbe be9a 9ace ce28 2881 8144\n",
      "\n",
      "d50c 0cfb fbfc fcc0 c0ff ff25 25ec eccb cb6f 6f80 8010 1003 03b2 b298 98fb fb00 0000 0001 0101 0108 080a 0a4f 4f45 4515 1508 0801 [[012d]] [[2d45]] 45e6 e617 1703 0303 0316 16b4 b4a7 a7d9 d921 2128 28e4 e401 01f9 f9d9 d98a 8ac9 c96d 6d54 544d 4d53 5338 38d7 d79a 9ab0 b0c3 c3e0 e0d3 d374 7419 194f 4fbe be9a 9ace ce28 2881 8144\n",
      "\n",
      "\n"
     ]
    },
    {
     "name": "stderr",
     "output_type": "stream",
     "text": [
      "[Succeeded / Failed / Skipped / Total] 25 / 0 / 0 / 25:  25%|██▌       | 25/100 [01:04<03:13,  2.58s/it]"
     ]
    },
    {
     "name": "stdout",
     "output_type": "stream",
     "text": [
      "--------------------------------------------- Result 25 ---------------------------------------------\n",
      "[[13 (100%)]] --> [[1 (99%)]]\n",
      "\n",
      "f576 7600 [[005b]] [[5beb]] eb09 0944 440d 0ddf df29 291f 1f15 1552 5288 88e5 e551 516f 6f80 80ef ef7d 7dd7 d749 497f 7fb3 b304 04e3 e3e6 e6ea eaa3 a385 856c 6cdd dd20 2006 0614 14a0 a047 473d 3d20 2005 0528 2845 45b6 b6e0 e028 2891 9139 3938 385a 5a8d 8de4 e477 7722 22bc bc62 6265 65be bec8 c895 950c 0c9f 9fdf dfd1 d1f9 f9b8\n",
      "\n",
      "f576 7600 [[001a]] [[1aeb]] eb09 0944 440d 0ddf df29 291f 1f15 1552 5288 88e5 e551 516f 6f80 80ef ef7d 7dd7 d749 497f 7fb3 b304 04e3 e3e6 e6ea eaa3 a385 856c 6cdd dd20 2006 0614 14a0 a047 473d 3d20 2005 0528 2845 45b6 b6e0 e028 2891 9139 3938 385a 5a8d 8de4 e477 7722 22bc bc62 6265 65be bec8 c895 950c 0c9f 9fdf dfd1 d1f9 f9b8\n",
      "\n",
      "\n"
     ]
    },
    {
     "name": "stderr",
     "output_type": "stream",
     "text": [
      "[Succeeded / Failed / Skipped / Total] 26 / 0 / 0 / 26:  26%|██▌       | 26/100 [01:06<03:09,  2.57s/it]"
     ]
    },
    {
     "name": "stdout",
     "output_type": "stream",
     "text": [
      "--------------------------------------------- Result 26 ---------------------------------------------\n",
      "[[5 (100%)]] --> [[0 (100%)]]\n",
      "\n",
      "[[fc48]] [[4865]] 65c6 c695 9521 21eb eb5d 5d4a 4a34 3450 [[5018]] [[187f]] 7f03 03ae aed6 d600 0000 0028 2850 5046 4622 2283 83b3 b300 0086 866a 6a89 89b6 b6fc fc59 59ce ce7c 7c22 228c 8c5d 5d4b 4bae aeeb eb70 7098 9883 832a 2a72 72e9 e908 0878 78bc bc2e 2ef9 f9d1 d1b8 b803 03f7 f798 98ac ace2 e28e 8e39 39e0 e058 58fb fb79 790d 0ded\n",
      "\n",
      "[[fccf]] [[cf65]] 65c6 c695 9521 21eb eb5d 5d4a 4a34 3450 [[50b4]] [[b47f]] 7f03 03ae aed6 d600 0000 0028 2850 5046 4622 2283 83b3 b300 0086 866a 6a89 89b6 b6fc fc59 59ce ce7c 7c22 228c 8c5d 5d4b 4bae aeeb eb70 7098 9883 832a 2a72 72e9 e908 0878 78bc bc2e 2ef9 f9d1 d1b8 b803 03f7 f798 98ac ace2 e28e 8e39 39e0 e058 58fb fb79 790d 0ded\n",
      "\n",
      "\n"
     ]
    },
    {
     "name": "stderr",
     "output_type": "stream",
     "text": [
      "[Succeeded / Failed / Skipped / Total] 27 / 0 / 0 / 27:  27%|██▋       | 27/100 [01:08<03:05,  2.54s/it]"
     ]
    },
    {
     "name": "stdout",
     "output_type": "stream",
     "text": [
      "--------------------------------------------- Result 27 ---------------------------------------------\n",
      "[[4 (100%)]] --> [[3 (100%)]]\n",
      "\n",
      "[[4b69]] [[6900]] 0079 79f1 f1fc fc90 906f 6fd6 d692 925d 5d96 96ab ab28 288d 8dcc cccc cc91 91be [[bede]] [[de00]] 0002 0210 10aa aa00 0000 0032 32a1 a192 926e 6e24 2485 857d 7d2e 2e2a 2a91 91ce cea6 a6db dbec ecac ac32 323a 3a00 00f2 f27b 7bfc fc0b 0b5b 5b98 98d5 d55c 5cc1 c1b5 b5a9 a9cd cd95 9556 56ca ca38 38c9 c9fa fabf bf10 1067\n",
      "\n",
      "[[4b5d]] [[5d00]] 0079 79f1 f1fc fc90 906f 6fd6 d692 925d 5d96 96ab ab28 288d 8dcc cccc cc91 91be [[beda]] [[da00]] 0002 0210 10aa aa00 0000 0032 32a1 a192 926e 6e24 2485 857d 7d2e 2e2a 2a91 91ce cea6 a6db dbec ecac ac32 323a 3a00 00f2 f27b 7bfc fc0b 0b5b 5b98 98d5 d55c 5cc1 c1b5 b5a9 a9cd cd95 9556 56ca ca38 38c9 c9fa fabf bf10 1067\n",
      "\n",
      "\n"
     ]
    },
    {
     "name": "stderr",
     "output_type": "stream",
     "text": [
      "[Succeeded / Failed / Skipped / Total] 28 / 0 / 0 / 28:  28%|██▊       | 28/100 [01:09<02:59,  2.50s/it]"
     ]
    },
    {
     "name": "stdout",
     "output_type": "stream",
     "text": [
      "--------------------------------------------- Result 28 ---------------------------------------------\n",
      "[[16 (100%)]] --> [[9 (100%)]]\n",
      "\n",
      "de2a 2aa3 a3e9 e9df df66 669d 9db9 b9b3 b36e 6e80 8010 1001 0121 2169 69f0 f000 0000 0001 0101 0108 080a 0a4f 4f45 454e 4e94 9401 [[0110]] [[1002]] 022b 2bf8 f890 90b9 b952 5256 56ea ea8a 8a27 272f 2f2c 2c1a 1ad2 d2fa fab7 b78e 8ef1 f140 4072 72b4 b4eb eb55 55ee ee6d 6ddf dfc5 c540 4029 29f5 f5ed edd1 d1e5 e510 1043 4389 89c7\n",
      "\n",
      "de2a 2aa3 a3e9 e9df df66 669d 9db9 b9b3 b36e 6e80 8010 1001 0121 2169 69f0 f000 0000 0001 0101 0108 080a 0a4f 4f45 454e 4e94 9401 [[012b]] [[2b02]] 022b 2bf8 f890 90b9 b952 5256 56ea ea8a 8a27 272f 2f2c 2c1a 1ad2 d2fa fab7 b78e 8ef1 f140 4072 72b4 b4eb eb55 55ee ee6d 6ddf dfc5 c540 4029 29f5 f5ed edd1 d1e5 e510 1043 4389 89c7\n",
      "\n",
      "\n"
     ]
    },
    {
     "name": "stderr",
     "output_type": "stream",
     "text": [
      "[Succeeded / Failed / Skipped / Total] 29 / 0 / 0 / 29:  29%|██▉       | 29/100 [01:11<02:54,  2.45s/it]"
     ]
    },
    {
     "name": "stdout",
     "output_type": "stream",
     "text": [
      "--------------------------------------------- Result 29 ---------------------------------------------\n",
      "[[2 (100%)]] --> [[4 (100%)]]\n",
      "\n",
      "[[fd4a]] [[4abe]] be5c 5c4d 4da1 a1fc fcdc dc8b 8b92 9250 5010 1007 07fb fbcb cb0b 0b00 0000 0017 1703 0303 0305 05e2 e2ad ad5d 5d44 44c1 c12f 2ff0 f03b 3b47 4738 38d3 d372 729a 9a53 5345 4561 6160 6004 0477 7774 7455 5506 0626 2683 832a 2ad3 d383 830c 0ce8 e8d0 d095 956b 6be1 e1a7 a79a 9a96 96e8 e88f 8fe3 e332 321d 1d23 2378\n",
      "\n",
      "[[fdd9]] [[d9be]] be5c 5c4d 4da1 a1fc fcdc dc8b 8b92 9250 5010 1007 07fb fbcb cb0b 0b00 0000 0017 1703 0303 0305 05e2 e2ad ad5d 5d44 44c1 c12f 2ff0 f03b 3b47 4738 38d3 d372 729a 9a53 5345 4561 6160 6004 0477 7774 7455 5506 0626 2683 832a 2ad3 d383 830c 0ce8 e8d0 d095 956b 6be1 e1a7 a79a 9a96 96e8 e88f 8fe3 e332 321d 1d23 2378\n",
      "\n",
      "\n"
     ]
    },
    {
     "name": "stderr",
     "output_type": "stream",
     "text": [
      "[Succeeded / Failed / Skipped / Total] 30 / 0 / 0 / 30:  30%|███       | 30/100 [01:12<02:49,  2.42s/it]"
     ]
    },
    {
     "name": "stdout",
     "output_type": "stream",
     "text": [
      "--------------------------------------------- Result 30 ---------------------------------------------\n",
      "[[3 (100%)]] --> [[13 (100%)]]\n",
      "\n",
      "[[d549]] [[4900]] 002b 2b56 56a4 a400 [[00a2]] [[a2bb]] bbaa aa08 0840 40b3 b356 567d 7da0 a083 8334 348a 8aa7 a724 2432 326d 6d62 6224 245e 5e74 747e 7e11 11eb eb39 3926 26e9 e953 5329 296b 6b01 01f5 f5ad ad0e 0ef6\n",
      "\n",
      "[[d52a]] [[2a00]] 002b 2b56 56a4 a400 [[005b]] [[5bbb]] bbaa aa08 0840 40b3 b356 567d 7da0 a083 8334 348a 8aa7 a724 2432 326d 6d62 6224 245e 5e74 747e 7e11 11eb eb39 3926 26e9 e953 5329 296b 6b01 01f5 f5ad ad0e 0ef6\n",
      "\n",
      "\n"
     ]
    },
    {
     "name": "stderr",
     "output_type": "stream",
     "text": [
      "[Succeeded / Failed / Skipped / Total] 31 / 0 / 0 / 31:  31%|███       | 31/100 [01:13<02:44,  2.38s/it]"
     ]
    },
    {
     "name": "stdout",
     "output_type": "stream",
     "text": [
      "--------------------------------------------- Result 31 ---------------------------------------------\n",
      "[[4 (100%)]] --> [[3 (99%)]]\n",
      "\n",
      "[[4b69]] [[6900]] 006a 6a6f 6f1e 1e80 80c8 c800 0006 06d7 d7c5 c569 69bc bcf6 f64f 4fd5 d52a 2ae5 e56f 6f03 03ae ae33 33a2 a209 09ba ba58 58ca cacd cd81 818e 8e10 104a 4aac ac32 3274 7464 6497 9721 2168 685b 5b9b 9b80 802c 2c95 955a 5a75 75ee ee25 2540 40d1 d1d0 d0cd cdc2 c2a8 a8eb eb1b 1bcc ccc7 c7c9 c98d 8d26 2619 199e 9eeb\n",
      "\n",
      "[[4b95]] [[9500]] 006a 6a6f 6f1e 1e80 80c8 c800 0006 06d7 d7c5 c569 69bc bcf6 f64f 4fd5 d52a 2ae5 e56f 6f03 03ae ae33 33a2 a209 09ba ba58 58ca cacd cd81 818e 8e10 104a 4aac ac32 3274 7464 6497 9721 2168 685b 5b9b 9b80 802c 2c95 955a 5a75 75ee ee25 2540 40d1 d1d0 d0cd cdc2 c2a8 a8eb eb1b 1bcc ccc7 c7c9 c98d 8d26 2619 199e 9eeb\n",
      "\n",
      "\n"
     ]
    },
    {
     "name": "stderr",
     "output_type": "stream",
     "text": [
      "[Succeeded / Failed / Skipped / Total] 32 / 0 / 0 / 32:  32%|███▏      | 32/100 [01:15<02:39,  2.35s/it]"
     ]
    },
    {
     "name": "stdout",
     "output_type": "stream",
     "text": [
      "--------------------------------------------- Result 32 ---------------------------------------------\n",
      "[[15 (100%)]] --> [[14 (100%)]]\n",
      "\n",
      "87d1 d100 0000 0001 0101 0108 080a 0a00 [[001d]] [[1d77]] 77dc dc1a 1aa0 a066 6693 9342 4250 507b 7b9c 9c38 38b6 b6ca ca58 588b 8b2f 2fd7 d787 8788 88e7 e764 64e9 e97f 7f51 5168 68b6 b6cf cfe9 e946 468f 8f46 4661 6169 6952 52f8 f898 9836 3659 59a0 a094 94c2 c240 4097 974f 4fc8 c8e0 e011 1161 6125 25b5 b55e 5e96 96c9 c97e 7e13\n",
      "\n",
      "87d1 d100 0000 0001 0101 0108 080a 0a00 [[0023]] [[2377]] 77dc dc1a 1aa0 a066 6693 9342 4250 507b 7b9c 9c38 38b6 b6ca ca58 588b 8b2f 2fd7 d787 8788 88e7 e764 64e9 e97f 7f51 5168 68b6 b6cf cfe9 e946 468f 8f46 4661 6169 6952 52f8 f898 9836 3659 59a0 a094 94c2 c240 4097 974f 4fc8 c8e0 e011 1161 6125 25b5 b55e 5e96 96c9 c97e 7e13\n",
      "\n",
      "\n"
     ]
    },
    {
     "name": "stderr",
     "output_type": "stream",
     "text": [
      "[Succeeded / Failed / Skipped / Total] 33 / 0 / 0 / 33:  33%|███▎      | 33/100 [01:17<02:36,  2.33s/it]"
     ]
    },
    {
     "name": "stdout",
     "output_type": "stream",
     "text": [
      "--------------------------------------------- Result 33 ---------------------------------------------\n",
      "[[3 (100%)]] --> [[14 (93%)]]\n",
      "\n",
      "[[01bb]] [[bb00]] 0031 313e 3ed9 d90c [[0cf6]] [[f67e]] 7e8f 8f99 99b5 b5a5 a511 1163 6337 374d 4d7c 7c1c 1cc0 c00a 0a6b 6bed eddf df87 879b 9b12 1262 62ed ed73 73b0 b0a5 a59d 9d89 89b6 b696 967f 7fd0 d0ed ed24 24a4 a47e 7e3e 3e9f 9f30 3014 146c\n",
      "\n",
      "[[0108]] [[0800]] 0031 313e 3ed9 d90c [[0c44]] [[447e]] 7e8f 8f99 99b5 b5a5 a511 1163 6337 374d 4d7c 7c1c 1cc0 c00a 0a6b 6bed eddf df87 879b 9b12 1262 62ed ed73 73b0 b0a5 a59d 9d89 89b6 b696 967f 7fd0 d0ed ed24 24a4 a47e 7e3e 3e9f 9f30 3014 146c\n",
      "\n",
      "\n"
     ]
    },
    {
     "name": "stderr",
     "output_type": "stream",
     "text": [
      "[Succeeded / Failed / Skipped / Total] 34 / 0 / 0 / 34:  34%|███▍      | 34/100 [01:18<02:32,  2.30s/it]"
     ]
    },
    {
     "name": "stdout",
     "output_type": "stream",
     "text": [
      "--------------------------------------------- Result 34 ---------------------------------------------\n",
      "[[7 (100%)]] --> [[10 (77%)]]\n",
      "\n",
      "[[0016]] [[16f0]] f0ae ae8d 8d76 7624 24af afe8 e8d0 d080 8010 1001 010e 0e04 04e3 e300 0000 0001 0101 0108 080a 0a00 00d1 d1ea ea50 504e 4e4f 4fae aec5 c537 37c2 c2aa aa91 91c3 c39d 9db1 b1c5 c545 4530 30d3 d377 77f0 f061 61b2 b2df dfa4 a43a 3ac5 c5f8 f80e 0e0d 0dbc bc31 317a 7a8c 8c94 94c7 c781 81d4 d492 92dd dd97 9747 47fd\n",
      "\n",
      "[[0075]] [[75f0]] f0ae ae8d 8d76 7624 24af afe8 e8d0 d080 8010 1001 010e 0e04 04e3 e300 0000 0001 0101 0108 080a 0a00 00d1 d1ea ea50 504e 4e4f 4fae aec5 c537 37c2 c2aa aa91 91c3 c39d 9db1 b1c5 c545 4530 30d3 d377 77f0 f061 61b2 b2df dfa4 a43a 3ac5 c5f8 f80e 0e0d 0dbc bc31 317a 7a8c 8c94 94c7 c781 81d4 d492 92dd dd97 9747 47fd\n",
      "\n",
      "\n"
     ]
    },
    {
     "name": "stderr",
     "output_type": "stream",
     "text": [
      "[Succeeded / Failed / Skipped / Total] 35 / 0 / 0 / 35:  35%|███▌      | 35/100 [01:19<02:28,  2.28s/it]"
     ]
    },
    {
     "name": "stdout",
     "output_type": "stream",
     "text": [
      "--------------------------------------------- Result 35 ---------------------------------------------\n",
      "[[1 (100%)]] --> [[3 (100%)]]\n",
      "\n",
      "[[03e1]] [[e149]] 49aa aa18 18c2 c251 5169 69cd cdf3 f350 5018 1879 7970 7008 0843 4300 0000 0017 1703 0303 0300 0042 4200 0000 0000 0000 0000 0000 0000 0003 031f 1fbd bdd4 d434 3426 26e4 e493 9370 70db dbca cae3 e382 829a 9ab2 b201 0197 9787 873f 3fcc cc2f 2f54 5404 0460 605f 5fb6 b6bb bb6b 6b57 57b7 b7b0 b092 92c9 c9cb cb58\n",
      "\n",
      "[[03bd]] [[bd49]] 49aa aa18 18c2 c251 5169 69cd cdf3 f350 5018 1879 7970 7008 0843 4300 0000 0017 1703 0303 0300 0042 4200 0000 0000 0000 0000 0000 0000 0003 031f 1fbd bdd4 d434 3426 26e4 e493 9370 70db dbca cae3 e382 829a 9ab2 b201 0197 9787 873f 3fcc cc2f 2f54 5404 0460 605f 5fb6 b6bb bb6b 6b57 57b7 b7b0 b092 92c9 c9cb cb58\n",
      "\n",
      "\n"
     ]
    },
    {
     "name": "stderr",
     "output_type": "stream",
     "text": [
      "[Succeeded / Failed / Skipped / Total] 36 / 0 / 0 / 36:  36%|███▌      | 36/100 [01:24<02:30,  2.34s/it]"
     ]
    },
    {
     "name": "stdout",
     "output_type": "stream",
     "text": [
      "--------------------------------------------- Result 36 ---------------------------------------------\n",
      "[[14 (100%)]] --> [[15 (75%)]]\n",
      "\n",
      "ad85 8500 0000 0001 0101 0108 080a 0a00 0022 2226 2678 781a [[1aa4]] [[a4dc]] [[dcb7]] [[b72c]] 2c57 5774 74cd cdff ff2f 2fbc [[bcd1]] [[d1cc]] cc80 80e0 e03d 3d13 1388 8896 9630 302c 2cc8 c8a9 a966 660e 0e83 832b 2b28 28b6 b690 9034 34a8 a8d5 d52f 2f88 8845 45d3 d393 93b8 b8e7 e793 9324 2485 85bc bce5 e58d 8d64 6474 [[74fe]] [[fe31]] 31e7 e714 1465\n",
      "\n",
      "ad85 8500 0000 0001 0101 0108 080a 0a00 0022 2226 2678 781a [[1aa0]] [[a0dc]] [[dccd]] [[cd2c]] 2c57 5774 74cd cdff ff2f 2fbc [[bc0a]] [[0acc]] cc80 80e0 e03d 3d13 1388 8896 9630 302c 2cc8 c8a9 a966 660e 0e83 832b 2b28 28b6 b690 9034 34a8 a8d5 d52f 2f88 8845 45d3 d393 93b8 b8e7 e793 9324 2485 85bc bce5 e58d 8d64 6474 [[74c7]] [[c731]] 31e7 e714 1465\n",
      "\n",
      "\n"
     ]
    },
    {
     "name": "stderr",
     "output_type": "stream",
     "text": [
      "[Succeeded / Failed / Skipped / Total] 37 / 0 / 0 / 37:  37%|███▋      | 37/100 [01:25<02:26,  2.32s/it]"
     ]
    },
    {
     "name": "stdout",
     "output_type": "stream",
     "text": [
      "--------------------------------------------- Result 37 ---------------------------------------------\n",
      "[[10 (100%)]] --> [[3 (100%)]]\n",
      "\n",
      "[[2329]] [[2935]] 35a3 a35d 5dd9 d994 9434 34a5 a564 6480 8018 1817 1765 6553 53bb bb00 0000 0001 0101 0108 080a 0a00 00f3 f3f6 f62b 2b42 42a5 a581 8143 4317 1703 0303 0302 021a 1aa0 a055 55e9 e9da da72 721a 1a71 71b5 b580 8023 2381 81ec eccf cfc4 c45a 5a2e 2e0c 0cbe bed2 d2d4 d4f9 f90e 0e4e 4e0f 0f96 9624 2435 35ee ee2c 2cea\n",
      "\n",
      "[[23c5]] [[c535]] 35a3 a35d 5dd9 d994 9434 34a5 a564 6480 8018 1817 1765 6553 53bb bb00 0000 0001 0101 0108 080a 0a00 00f3 f3f6 f62b 2b42 42a5 a581 8143 4317 1703 0303 0302 021a 1aa0 a055 55e9 e9da da72 721a 1a71 71b5 b580 8023 2381 81ec eccf cfc4 c45a 5a2e 2e0c 0cbe bed2 d2d4 d4f9 f90e 0e4e 4e0f 0f96 9624 2435 35ee ee2c 2cea\n",
      "\n",
      "\n"
     ]
    },
    {
     "name": "stderr",
     "output_type": "stream",
     "text": [
      "[Succeeded / Failed / Skipped / Total] 38 / 0 / 0 / 38:  38%|███▊      | 38/100 [01:27<02:22,  2.31s/it]"
     ]
    },
    {
     "name": "stdout",
     "output_type": "stream",
     "text": [
      "--------------------------------------------- Result 38 ---------------------------------------------\n",
      "[[13 (100%)]] --> [[11 (100%)]]\n",
      "\n",
      "4338 3800 [[005b]] [[5be9]] e94b 4b42 4238 38b2 b230 309f 9f2e 2ed2 d200 00ec ecf0 f0f6 f681 8175 75e4 e475 75d9 d9de de32 3224 2463 63fe fec2 c2b1 b104 0446 46d4 d4a0 a01e 1e26 26a0 a0d7 d727 2720 2017 1738 3854 54a6 a6f9 f988 8838 3883 8313 13da da34 345e 5ee7 e7a1 a13c 3cf9 f9cd cdb7 b7d8 d83d 3d3c 3c1e 1e54 54fb fbc1 c1a1\n",
      "\n",
      "4338 3800 [[00f5]] [[f5e9]] e94b 4b42 4238 38b2 b230 309f 9f2e 2ed2 d200 00ec ecf0 f0f6 f681 8175 75e4 e475 75d9 d9de de32 3224 2463 63fe fec2 c2b1 b104 0446 46d4 d4a0 a01e 1e26 26a0 a0d7 d727 2720 2017 1738 3854 54a6 a6f9 f988 8838 3883 8313 13da da34 345e 5ee7 e7a1 a13c 3cf9 f9cd cdb7 b7d8 d83d 3d3c 3c1e 1e54 54fb fbc1 c1a1\n",
      "\n",
      "\n"
     ]
    },
    {
     "name": "stderr",
     "output_type": "stream",
     "text": [
      "[Succeeded / Failed / Skipped / Total] 39 / 0 / 0 / 39:  39%|███▉      | 39/100 [01:28<02:19,  2.28s/it]"
     ]
    },
    {
     "name": "stdout",
     "output_type": "stream",
     "text": [
      "--------------------------------------------- Result 39 ---------------------------------------------\n",
      "[[10 (100%)]] --> [[7 (98%)]]\n",
      "\n",
      "[[8570]] [[7097]] 97d1 d1bd bd86 8635 35d6 d615 158a 8a80 8010 100c 0c69 69a7 a7ae ae00 0000 0001 0101 0108 080a 0a42 42a7 a7a4 a431 3100 00f6 f618 18f4 f467 670d 0dcd cdc1 c1ce cea4 a468 6801 0193 93ab abbc bcc3 c33c 3c13 1320 200d 0d11 1156 566c 6ca4 a4c9 c99c 9c1b 1b76 7625 25ae aee0 e069 6929 29e5 e5b7 b762 62d2 d2b4 b4bc\n",
      "\n",
      "[[851f]] [[1f97]] 97d1 d1bd bd86 8635 35d6 d615 158a 8a80 8010 100c 0c69 69a7 a7ae ae00 0000 0001 0101 0108 080a 0a42 42a7 a7a4 a431 3100 00f6 f618 18f4 f467 670d 0dcd cdc1 c1ce cea4 a468 6801 0193 93ab abbc bcc3 c33c 3c13 1320 200d 0d11 1156 566c 6ca4 a4c9 c99c 9c1b 1b76 7625 25ae aee0 e069 6929 29e5 e5b7 b762 62d2 d2b4 b4bc\n",
      "\n",
      "\n"
     ]
    },
    {
     "name": "stderr",
     "output_type": "stream",
     "text": [
      "[Succeeded / Failed / Skipped / Total] 40 / 0 / 0 / 40:  40%|████      | 40/100 [01:30<02:15,  2.26s/it]"
     ]
    },
    {
     "name": "stdout",
     "output_type": "stream",
     "text": [
      "--------------------------------------------- Result 40 ---------------------------------------------\n",
      "[[13 (100%)]] --> [[3 (100%)]]\n",
      "\n",
      "f576 7600 [[005b]] [[5bdd]] ddb4 b444 4461 61bf bf38 389e 9e84 845b 5b08 0855 55e8 e8c6 c6bb bb44 44ee ee57 5758 586f 6f33 3384 84db dbdd ddc1 c1b0 b034 3476 76d7 d71b 1b0f 0f8e 8e0b 0bfe fea4 a428 2825 2521 21de de16 1678 7823 2388 88a3 a312 1262 620c 0ca7 a756 5682 82b4 b462 627d 7d86 86c8 c80e 0e26 26b5 b55f 5fc9 c9f9 f9a1\n",
      "\n",
      "f576 7600 [[0096]] [[96dd]] ddb4 b444 4461 61bf bf38 389e 9e84 845b 5b08 0855 55e8 e8c6 c6bb bb44 44ee ee57 5758 586f 6f33 3384 84db dbdd ddc1 c1b0 b034 3476 76d7 d71b 1b0f 0f8e 8e0b 0bfe fea4 a428 2825 2521 21de de16 1678 7823 2388 88a3 a312 1262 620c 0ca7 a756 5682 82b4 b462 627d 7d86 86c8 c80e 0e26 26b5 b55f 5fc9 c9f9 f9a1\n",
      "\n",
      "\n"
     ]
    },
    {
     "name": "stderr",
     "output_type": "stream",
     "text": [
      "[Succeeded / Failed / Skipped / Total] 41 / 0 / 0 / 41:  41%|████      | 41/100 [01:31<02:12,  2.24s/it]"
     ]
    },
    {
     "name": "stdout",
     "output_type": "stream",
     "text": [
      "--------------------------------------------- Result 41 ---------------------------------------------\n",
      "[[10 (100%)]] --> [[7 (100%)]]\n",
      "\n",
      "[[8570]] [[709d]] 9d7e 7e6e 6e80 8036 3607 0779 7937 3780 8010 100c 0c69 6941 4134 3400 0000 0001 0101 0108 080a 0a42 42a8 a8db db6c 6c00 00f7 f750 5033 33a1 a1c7 c7e4 e4ec ec73 7395 9513 13af af3e 3e23 23e7 e726 260b 0b33 33f7 f736 36ef ef0a 0a77 77e7 e785 850e 0e34 343c 3cb1 b129 29d5 d5e1 e16b 6bd4 d444 4437 374b 4b56 565b\n",
      "\n",
      "[[85d2]] [[d29d]] 9d7e 7e6e 6e80 8036 3607 0779 7937 3780 8010 100c 0c69 6941 4134 3400 0000 0001 0101 0108 080a 0a42 42a8 a8db db6c 6c00 00f7 f750 5033 33a1 a1c7 c7e4 e4ec ec73 7395 9513 13af af3e 3e23 23e7 e726 260b 0b33 33f7 f736 36ef ef0a 0a77 77e7 e785 850e 0e34 343c 3cb1 b129 29d5 d5e1 e16b 6bd4 d444 4437 374b 4b56 565b\n",
      "\n",
      "\n"
     ]
    },
    {
     "name": "stderr",
     "output_type": "stream",
     "text": [
      "[Succeeded / Failed / Skipped / Total] 42 / 0 / 0 / 42:  42%|████▏     | 42/100 [01:34<02:10,  2.25s/it]"
     ]
    },
    {
     "name": "stdout",
     "output_type": "stream",
     "text": [
      "--------------------------------------------- Result 42 ---------------------------------------------\n",
      "[[6 (100%)]] --> [[9 (100%)]]\n",
      "\n",
      "[[df6c]] [[6ccf]] cffc fc17 1776 767e 7ed7 d7c0 c0a9 a980 8010 1008 0800 00b2 b2b1 b100 0000 0001 0101 0108 080a 0a88 88e9 e9f1 f1cb cb01 [[0129]] [[2996]] 96c9 c991 9123 235f 5ff2 f218 18b2 b22e 2e91 91f5 f5f1 f1c0 c0ea ea41 416d 6d24 2436 36f0 f098 98b2 b2fc fc36 3627 27a9 a945 45ae ae82 8291 9178 78b4 b43e 3ecf cfd4 d45b 5bd3 d300\n",
      "\n",
      "[[df61]] [[61cf]] cffc fc17 1776 767e 7ed7 d7c0 c0a9 a980 8010 1008 0800 00b2 b2b1 b100 0000 0001 0101 0108 080a 0a88 88e9 e9f1 f1cb cb01 [[012b]] [[2b96]] 96c9 c991 9123 235f 5ff2 f218 18b2 b22e 2e91 91f5 f5f1 f1c0 c0ea ea41 416d 6d24 2436 36f0 f098 98b2 b2fc fc36 3627 27a9 a945 45ae ae82 8291 9178 78b4 b43e 3ecf cfd4 d45b 5bd3 d300\n",
      "\n",
      "\n"
     ]
    },
    {
     "name": "stderr",
     "output_type": "stream",
     "text": [
      "[Succeeded / Failed / Skipped / Total] 43 / 0 / 0 / 43:  43%|████▎     | 43/100 [01:35<02:06,  2.23s/it]"
     ]
    },
    {
     "name": "stdout",
     "output_type": "stream",
     "text": [
      "--------------------------------------------- Result 43 ---------------------------------------------\n",
      "[[10 (100%)]] --> [[7 (100%)]]\n",
      "\n",
      "[[8570]] [[709f]] 9fd4 d4c2 c2cc cc36 361a 1aba ba35 3580 8010 100c 0c69 6950 509c 9c00 0000 0001 0101 0108 080a 0a42 42a9 a924 2484 8400 00f7 f799 994f 4f75 75c1 c164 6494 947f 7fee ee9b 9b4a 4af5 f528 28b1 b10a 0af3 f37c 7cda da88 88c8 c8e1 e103 030b 0be0 e065 6574 746b 6b3f 3f84 84a4 a41a 1ad7 d779 79aa aae7 e7df dffc fcbd\n",
      "\n",
      "[[851f]] [[1f9f]] 9fd4 d4c2 c2cc cc36 361a 1aba ba35 3580 8010 100c 0c69 6950 509c 9c00 0000 0001 0101 0108 080a 0a42 42a9 a924 2484 8400 00f7 f799 994f 4f75 75c1 c164 6494 947f 7fee ee9b 9b4a 4af5 f528 28b1 b10a 0af3 f37c 7cda da88 88c8 c8e1 e103 030b 0be0 e065 6574 746b 6b3f 3f84 84a4 a41a 1ad7 d779 79aa aae7 e7df dffc fcbd\n",
      "\n",
      "\n"
     ]
    },
    {
     "name": "stderr",
     "output_type": "stream",
     "text": [
      "[Succeeded / Failed / Skipped / Total] 44 / 0 / 0 / 44:  44%|████▍     | 44/100 [01:37<02:03,  2.21s/it]"
     ]
    },
    {
     "name": "stdout",
     "output_type": "stream",
     "text": [
      "--------------------------------------------- Result 44 ---------------------------------------------\n",
      "[[16 (100%)]] --> [[9 (100%)]]\n",
      "\n",
      "01bb bb2a 2a86 86fa fa63 6390 90d3 d3b0 b072 72d0 d010 1054 541f 1f55 551e 1e00 0000 0001 0101 0108 080a 0a01 [[010f]] [[0fdf]] df54 5468 68f5 f583 830d 0d01 0101 0105 0512 1290 90db dbc2 c2ea ea90 90e6 e6fd fd86 8690 90d3 d3da da42 4290 90db db5f 5f9c\n",
      "\n",
      "01bb bb2a 2a86 86fa fa63 6390 90d3 d3b0 b072 72d0 d010 1054 541f 1f55 551e 1e00 0000 0001 0101 0108 080a 0a01 [[012b]] [[2bdf]] df54 5468 68f5 f583 830d 0d01 0101 0105 0512 1290 90db dbc2 c2ea ea90 90e6 e6fd fd86 8690 90d3 d3da da42 4290 90db db5f 5f9c\n",
      "\n",
      "\n"
     ]
    },
    {
     "name": "stderr",
     "output_type": "stream",
     "text": [
      "[Succeeded / Failed / Skipped / Total] 45 / 0 / 0 / 45:  45%|████▌     | 45/100 [01:38<02:00,  2.19s/it]"
     ]
    },
    {
     "name": "stdout",
     "output_type": "stream",
     "text": [
      "--------------------------------------------- Result 45 ---------------------------------------------\n",
      "[[16 (100%)]] --> [[9 (100%)]]\n",
      "\n",
      "01bb bb2a 2a86 86fa fa63 6391 9144 44ae ae38 38b0 b010 105f 5ff6 f655 5516 1600 0000 0001 0101 0108 080a 0a01 [[010f]] [[0fdf]] df76 7668 68f5 f583 839f 9f01 0101 0105 050a 0a91 9144 44f2 f22a 2a91 9145 45f2 f244\n",
      "\n",
      "01bb bb2a 2a86 86fa fa63 6391 9144 44ae ae38 38b0 b010 105f 5ff6 f655 5516 1600 0000 0001 0101 0108 080a 0a01 [[0133]] [[33df]] df76 7668 68f5 f583 839f 9f01 0101 0105 050a 0a91 9144 44f2 f22a 2a91 9145 45f2 f244\n",
      "\n",
      "\n"
     ]
    },
    {
     "name": "stderr",
     "output_type": "stream",
     "text": [
      "[Succeeded / Failed / Skipped / Total] 46 / 0 / 0 / 46:  46%|████▌     | 46/100 [01:40<01:57,  2.17s/it]"
     ]
    },
    {
     "name": "stdout",
     "output_type": "stream",
     "text": [
      "--------------------------------------------- Result 46 ---------------------------------------------\n",
      "[[11 (100%)]] --> [[2 (87%)]]\n",
      "\n",
      "1198 987a 7a47 4762 6222 2267 6774 745d 5d3a 3a50 5010 [[1000]] [[00ed]] eddd dd14 1400 0000 00dc dc39 39fc fc19 19b9 b9fc fc66 66a0 a043 43bd bdb4 b439 3982 8250 50c0 c0db dbad ad72 7238 384a 4ae8 e8ce cebb bb15 154e 4ecd cd34 347e 7e50 5058 588c 8cf6 f680 80c9 c95e 5e41 4194 9436 366a 6ab9 b904 0471 71ab ab46 46f5 f51c 1ca7\n",
      "\n",
      "1198 987a 7a47 4762 6222 2267 6774 745d 5d3a 3a50 5010 [[1013]] [[13ed]] eddd dd14 1400 0000 00dc dc39 39fc fc19 19b9 b9fc fc66 66a0 a043 43bd bdb4 b439 3982 8250 50c0 c0db dbad ad72 7238 384a 4ae8 e8ce cebb bb15 154e 4ecd cd34 347e 7e50 5058 588c 8cf6 f680 80c9 c95e 5e41 4194 9436 366a 6ab9 b904 0471 71ab ab46 46f5 f51c 1ca7\n",
      "\n",
      "\n"
     ]
    },
    {
     "name": "stderr",
     "output_type": "stream",
     "text": [
      "[Succeeded / Failed / Skipped / Total] 47 / 0 / 0 / 47:  47%|████▋     | 47/100 [01:41<01:54,  2.16s/it]"
     ]
    },
    {
     "name": "stdout",
     "output_type": "stream",
     "text": [
      "--------------------------------------------- Result 47 ---------------------------------------------\n",
      "[[15 (100%)]] --> [[14 (100%)]]\n",
      "\n",
      "8d8e 8e00 0000 0001 0101 0108 080a 0a1a 1aa2 a236 36ff ff00 [[001f]] [[1f48]] 480b 0b8a 8af3 f31c 1cff ff48 48cc cc1f 1fa6 a64f 4fca ca12 12c9 c91b 1b01 01c6 c6bc bc2a 2a5e 5e22 22b4 b4ca ca10 100d 0ddd dd9f 9f16 1607 07a8 a869 6965 653a 3ad8 d846 4631 3143 4361 6178 78b3 b3d9 d929 295a 5a6a 6a13 1372 722e 2e6e 6e95 95e4 e444\n",
      "\n",
      "8d8e 8e00 0000 0001 0101 0108 080a 0a1a 1aa2 a236 36ff ff00 [[00c8]] [[c848]] 480b 0b8a 8af3 f31c 1cff ff48 48cc cc1f 1fa6 a64f 4fca ca12 12c9 c91b 1b01 01c6 c6bc bc2a 2a5e 5e22 22b4 b4ca ca10 100d 0ddd dd9f 9f16 1607 07a8 a869 6965 653a 3ad8 d846 4631 3143 4361 6178 78b3 b3d9 d929 295a 5a6a 6a13 1372 722e 2e6e 6e95 95e4 e444\n",
      "\n",
      "\n"
     ]
    },
    {
     "name": "stderr",
     "output_type": "stream",
     "text": [
      "[Succeeded / Failed / Skipped / Total] 48 / 0 / 0 / 48:  48%|████▊     | 48/100 [01:43<01:51,  2.15s/it]"
     ]
    },
    {
     "name": "stdout",
     "output_type": "stream",
     "text": [
      "--------------------------------------------- Result 48 ---------------------------------------------\n",
      "[[1 (100%)]] --> [[2 (100%)]]\n",
      "\n",
      "[[03e1]] [[e17a]] 7a32 326a 6abd bd54 54f0 f025 25d2 d250 5018 1879 7970 70f4 f455 5500 0000 0017 1703 0303 0300 002e 2e00 0000 0000 0000 0000 0000 0000 0002 02f9 f918 18ca ca3c 3c04 047b 7bf7 f70b 0b49 49a1 a190 900a 0a72 726e 6e17 17a4 a4fe fe6f 6fac ac26 2631 31aa aa88 8886 8643 43f2 f2a0 a04e 4e2f 2ff6 f686 86c0 c074 74c3\n",
      "\n",
      "[[0340]] [[407a]] 7a32 326a 6abd bd54 54f0 f025 25d2 d250 5018 1879 7970 70f4 f455 5500 0000 0017 1703 0303 0300 002e 2e00 0000 0000 0000 0000 0000 0000 0002 02f9 f918 18ca ca3c 3c04 047b 7bf7 f70b 0b49 49a1 a190 900a 0a72 726e 6e17 17a4 a4fe fe6f 6fac ac26 2631 31aa aa88 8886 8643 43f2 f2a0 a04e 4e2f 2ff6 f686 86c0 c074 74c3\n",
      "\n",
      "\n"
     ]
    },
    {
     "name": "stderr",
     "output_type": "stream",
     "text": [
      "[Succeeded / Failed / Skipped / Total] 49 / 0 / 0 / 49:  49%|████▉     | 49/100 [01:46<01:50,  2.16s/it]"
     ]
    },
    {
     "name": "stdout",
     "output_type": "stream",
     "text": [
      "--------------------------------------------- Result 49 ---------------------------------------------\n",
      "[[3 (100%)]] --> [[1 (100%)]]\n",
      "\n",
      "[[01bb]] [[bb05]] 054e 4e1e 1e0d 0d0c 0c8e 8e6b 6bb5 b582 82d8 d872 729d 9d18 18e0 e017 1782 82c4 c4e8 e872 72c4 c44e 4ed0 [[d0a9]] [[a94e]] 4ef9 f9c4 c48b 8bbe be0f 0f97 9720 201a 1a51 5189 898a 8a6e 6e73 7332 32d2 d2af af77 7701 018d 8d9d 9dac acee ee9a 9ac9 c9d5 d5bc bc1b 1b6c 6c60 60c6 c65c 5c63 639d 9d83 8375 75a6 a6fc fc80 80e8\n",
      "\n",
      "[[01d1]] [[d105]] 054e 4e1e 1e0d 0d0c 0c8e 8e6b 6bb5 b582 82d8 d872 729d 9d18 18e0 e017 1782 82c4 c4e8 e872 72c4 c44e 4ed0 [[d01d]] [[1d4e]] 4ef9 f9c4 c48b 8bbe be0f 0f97 9720 201a 1a51 5189 898a 8a6e 6e73 7332 32d2 d2af af77 7701 018d 8d9d 9dac acee ee9a 9ac9 c9d5 d5bc bc1b 1b6c 6c60 60c6 c65c 5c63 639d 9d83 8375 75a6 a6fc fc80 80e8\n",
      "\n",
      "\n"
     ]
    },
    {
     "name": "stderr",
     "output_type": "stream",
     "text": [
      "[Succeeded / Failed / Skipped / Total] 50 / 0 / 0 / 50:  50%|█████     | 50/100 [01:47<01:47,  2.14s/it]"
     ]
    },
    {
     "name": "stdout",
     "output_type": "stream",
     "text": [
      "--------------------------------------------- Result 50 ---------------------------------------------\n",
      "[[12 (100%)]] --> [[16 (53%)]]\n",
      "\n",
      "[[d47a]] [[7a01]] 0145 4541 413d 3d3e 3eea ea54 5472 7280 8010 1000 0021 21cf cf23 2300 0000 0001 0101 0108 080a 0aaf afae ae27 2745 4501 0121 2121 21dd dd30 30aa aa02 020b 0b7b 7b31 3152 522e 2efa faa3 a347 47cf cf6b 6b69 69e9 e92e 2e60 60cd cd7a 7a6a 6ae3 e374 7496 9693 93df dff2 f27a 7adb db07 0722 2208 0807 07e6 e656 5631\n",
      "\n",
      "[[d431]] [[3101]] 0145 4541 413d 3d3e 3eea ea54 5472 7280 8010 1000 0021 21cf cf23 2300 0000 0001 0101 0108 080a 0aaf afae ae27 2745 4501 0121 2121 21dd dd30 30aa aa02 020b 0b7b 7b31 3152 522e 2efa faa3 a347 47cf cf6b 6b69 69e9 e92e 2e60 60cd cd7a 7a6a 6ae3 e374 7496 9693 93df dff2 f27a 7adb db07 0722 2208 0807 07e6 e656 5631\n",
      "\n",
      "\n"
     ]
    },
    {
     "name": "stderr",
     "output_type": "stream",
     "text": [
      "[Succeeded / Failed / Skipped / Total] 51 / 0 / 0 / 51:  51%|█████     | 51/100 [01:48<01:44,  2.13s/it]"
     ]
    },
    {
     "name": "stdout",
     "output_type": "stream",
     "text": [
      "--------------------------------------------- Result 51 ---------------------------------------------\n",
      "[[6 (100%)]] --> [[12 (99%)]]\n",
      "\n",
      "ea98 9818 1869 6989 89e4 e496 965a 5a60 60d4 d480 8010 1008 0800 0026 26eb eb00 0000 0001 0101 0108 080a 0a51 514c 4cc6 c681 8101 [[0127]] [[2722]] 223d 3d63 6388 88ff ff9e 9e35 35bf bf3d 3dcc ccce ce14 148e 8ea8 a83f 3f12 1200 00dc dc81 814a 4ad0 d0b9 b9f9 f91e 1ed4 d4b8 b811 11e9 e953 53ff ff41 41ed ed4f 4f28 28c9 c9bf bfbd\n",
      "\n",
      "ea98 9818 1869 6989 89e4 e496 965a 5a60 60d4 d480 8010 1008 0800 0026 26eb eb00 0000 0001 0101 0108 080a 0a51 514c 4cc6 c681 8101 [[0122]] [[2222]] 223d 3d63 6388 88ff ff9e 9e35 35bf bf3d 3dcc ccce ce14 148e 8ea8 a83f 3f12 1200 00dc dc81 814a 4ad0 d0b9 b9f9 f91e 1ed4 d4b8 b811 11e9 e953 53ff ff41 41ed ed4f 4f28 28c9 c9bf bfbd\n",
      "\n",
      "\n"
     ]
    },
    {
     "name": "stderr",
     "output_type": "stream",
     "text": [
      "[Succeeded / Failed / Skipped / Total] 52 / 0 / 0 / 52:  52%|█████▏    | 52/100 [01:55<01:46,  2.23s/it]"
     ]
    },
    {
     "name": "stdout",
     "output_type": "stream",
     "text": [
      "--------------------------------------------- Result 52 ---------------------------------------------\n",
      "[[4 (100%)]] --> [[3 (93%)]]\n",
      "\n",
      "[[851f]] [[1f00]] 007b 7be1 e120 2090 [[906f]] [[6f4b]] 4b14 [[1458]] [[58ea]] [[ead5]] [[d5bf]] bf4f 4f81 8175 7573 73be bede de00 0002 0210 1088 8800 0000 0032 327b 7b79 79c1 c1ff ffab abcf cf46 4694 947a 7a4e 4e11 11b0 b01b 1ba4 a45e 5e29 29f6 f609 091e 1e80 8094 940a 0ab4 b409 09d3 d385 8534 34af af4a 4ac3 c364 6462 626d 6d44 4464 6470 7073 7357\n",
      "\n",
      "[[85b2]] [[b200]] 007b 7be1 e120 2090 [[905e]] [[5e4b]] 4b14 [[1474]] [[74ea]] [[eae0]] [[e0bf]] bf4f 4f81 8175 7573 73be bede de00 0002 0210 1088 8800 0000 0032 327b 7b79 79c1 c1ff ffab abcf cf46 4694 947a 7a4e 4e11 11b0 b01b 1ba4 a45e 5e29 29f6 f609 091e 1e80 8094 940a 0ab4 b409 09d3 d385 8534 34af af4a 4ac3 c364 6462 626d 6d44 4464 6470 7073 7357\n",
      "\n",
      "\n"
     ]
    },
    {
     "name": "stderr",
     "output_type": "stream",
     "text": [
      "[Succeeded / Failed / Skipped / Total] 53 / 0 / 0 / 53:  53%|█████▎    | 53/100 [01:57<01:43,  2.21s/it]"
     ]
    },
    {
     "name": "stdout",
     "output_type": "stream",
     "text": [
      "--------------------------------------------- Result 53 ---------------------------------------------\n",
      "[[8 (100%)]] --> [[1 (99%)]]\n",
      "\n",
      "[[ac4a]] [[4a00]] 0023 231f 1f77 7759 59d1 d16d 6d02 02b1 b114 1414 142d 2db4 b4e3 e3b7 b742 4215 158a 8a97 979e 9e19 1926 26f0 f04b 4bdb dbb8 b8dc dc94 9428 281a 1ad5\n",
      "\n",
      "[[ac00]] [[0000]] 0023 231f 1f77 7759 59d1 d16d 6d02 02b1 b114 1414 142d 2db4 b4e3 e3b7 b742 4215 158a 8a97 979e 9e19 1926 26f0 f04b 4bdb dbb8 b8dc dc94 9428 281a 1ad5\n",
      "\n",
      "\n"
     ]
    },
    {
     "name": "stderr",
     "output_type": "stream",
     "text": [
      "[Succeeded / Failed / Skipped / Total] 54 / 0 / 0 / 54:  54%|█████▍    | 54/100 [01:58<01:41,  2.20s/it]"
     ]
    },
    {
     "name": "stdout",
     "output_type": "stream",
     "text": [
      "--------------------------------------------- Result 54 ---------------------------------------------\n",
      "[[15 (100%)]] --> [[14 (99%)]]\n",
      "\n",
      "074e 4e00 0000 0001 0101 0108 080a 0a1a 1aa1 a1c3 c3ba ba00 [[001e]] [[1ed4]] d4c7 c7a1 a16f 6f69 699b 9b1b 1bef efae ae95 9560 60f3 f354 5404 0429 2984 8487 8711 11e0 e0bd bd58 58d0 d0db db39 3937 3770 7086 862a 2ad5 d522 2227 27c7 c70c 0c31 31d3 d39f 9fed edea ea69 697e 7e10 102b 2b8b 8b3f 3f8f 8fad ad07 078d 8d9a 9a7f 7f28\n",
      "\n",
      "074e 4e00 0000 0001 0101 0108 080a 0a1a 1aa1 a1c3 c3ba ba00 [[00af]] [[afd4]] d4c7 c7a1 a16f 6f69 699b 9b1b 1bef efae ae95 9560 60f3 f354 5404 0429 2984 8487 8711 11e0 e0bd bd58 58d0 d0db db39 3937 3770 7086 862a 2ad5 d522 2227 27c7 c70c 0c31 31d3 d39f 9fed edea ea69 697e 7e10 102b 2b8b 8b3f 3f8f 8fad ad07 078d 8d9a 9a7f 7f28\n",
      "\n",
      "\n"
     ]
    },
    {
     "name": "stderr",
     "output_type": "stream",
     "text": [
      "[Succeeded / Failed / Skipped / Total] 55 / 0 / 0 / 55:  55%|█████▌    | 55/100 [02:01<01:39,  2.21s/it]"
     ]
    },
    {
     "name": "stdout",
     "output_type": "stream",
     "text": [
      "--------------------------------------------- Result 55 ---------------------------------------------\n",
      "[[11 (100%)]] --> [[1 (48%)]]\n",
      "\n",
      "1097 97ab ab8f 8fd0 d032 32c6 c6a2 a26d 6dc7 c750 5010 [[1000]] [[00f5]] [[f5d6]] d69c 9c00 0000 0017 173d 3d53 5328 28e0 e0ab ab19 1929 295c 5c82 82d6 d67f 7f5d 5d8b 8bab ab69 6977 776a 6a99 9932 3262 62de de8d 8d04 045d 5d7a 7a37 37db db68 6848 4842 4240 400e 0ec5 c527 271b 1b56 563e 3e3b 3b58 5841 4151 51ef ef63 6306 060c 0c4b\n",
      "\n",
      "1097 97ab ab8f 8fd0 d032 32c6 c6a2 a26d 6dc7 c750 5010 [[100b]] [[0b1e]] [[1ed6]] d69c 9c00 0000 0017 173d 3d53 5328 28e0 e0ab ab19 1929 295c 5c82 82d6 d67f 7f5d 5d8b 8bab ab69 6977 776a 6a99 9932 3262 62de de8d 8d04 045d 5d7a 7a37 37db db68 6848 4842 4240 400e 0ec5 c527 271b 1b56 563e 3e3b 3b58 5841 4151 51ef ef63 6306 060c 0c4b\n",
      "\n",
      "\n"
     ]
    },
    {
     "name": "stderr",
     "output_type": "stream",
     "text": [
      "[Succeeded / Failed / Skipped / Total] 56 / 0 / 0 / 56:  56%|█████▌    | 56/100 [02:03<01:36,  2.20s/it]"
     ]
    },
    {
     "name": "stdout",
     "output_type": "stream",
     "text": [
      "--------------------------------------------- Result 56 ---------------------------------------------\n",
      "[[15 (100%)]] --> [[14 (100%)]]\n",
      "\n",
      "7772 7200 0000 0001 0101 0108 080a 0a00 [[001e]] [[1e0e]] 0e0b 0b1a 1aa0 a0fc fcc4 c4a4 a40b 0bed edf5 f5cd cd96 968e 8ead ade5 e584 84a7 a75c 5ca3 a34c 4cbc bc7b 7bc2 c2ed edc4 c4de deea eabb bb9b 9bbd bdd2 d277 7731 3157 57b0 b05d 5d44 4444 447d 7d3c 3c0a 0af8 f82b 2b14 1477 773b 3b7f 7fb0 b00e 0e1d 1dcf cf55 55d0 d083 8399\n",
      "\n",
      "7772 7200 0000 0001 0101 0108 080a 0a00 [[0022]] [[220e]] 0e0b 0b1a 1aa0 a0fc fcc4 c4a4 a40b 0bed edf5 f5cd cd96 968e 8ead ade5 e584 84a7 a75c 5ca3 a34c 4cbc bc7b 7bc2 c2ed edc4 c4de deea eabb bb9b 9bbd bdd2 d277 7731 3157 57b0 b05d 5d44 4444 447d 7d3c 3c0a 0af8 f82b 2b14 1477 773b 3b7f 7fb0 b00e 0e1d 1dcf cf55 55d0 d083 8399\n",
      "\n",
      "\n"
     ]
    },
    {
     "name": "stderr",
     "output_type": "stream",
     "text": [
      "[Succeeded / Failed / Skipped / Total] 57 / 0 / 0 / 57:  57%|█████▋    | 57/100 [02:04<01:33,  2.18s/it]"
     ]
    },
    {
     "name": "stdout",
     "output_type": "stream",
     "text": [
      "--------------------------------------------- Result 57 ---------------------------------------------\n",
      "[[15 (100%)]] --> [[14 (100%)]]\n",
      "\n",
      "649a 9a00 0000 0001 0101 0108 080a 0a00 [[001d]] [[1d7d]] 7d3c 3c1a 1aa0 a06b 6b8b 8b01 0101 0105 050a 0a78 7876 7639 397c 7c78 7876 763e 3e98 9808 080d 0d12 1288 88fd fdad adb3 b318 18a7 a781 8192 924b 4b57 57fc fc17 178e 8ef4 f474 749e 9e42 4269 69bc bc25 2507\n",
      "\n",
      "649a 9a00 0000 0001 0101 0108 080a 0a00 [[00ab]] [[ab7d]] 7d3c 3c1a 1aa0 a06b 6b8b 8b01 0101 0105 050a 0a78 7876 7639 397c 7c78 7876 763e 3e98 9808 080d 0d12 1288 88fd fdad adb3 b318 18a7 a781 8192 924b 4b57 57fc fc17 178e 8ef4 f474 749e 9e42 4269 69bc bc25 2507\n",
      "\n",
      "\n"
     ]
    },
    {
     "name": "stderr",
     "output_type": "stream",
     "text": [
      "[Succeeded / Failed / Skipped / Total] 58 / 0 / 0 / 58:  58%|█████▊    | 58/100 [02:09<01:33,  2.23s/it]"
     ]
    },
    {
     "name": "stdout",
     "output_type": "stream",
     "text": [
      "--------------------------------------------- Result 58 ---------------------------------------------\n",
      "[[14 (100%)]] --> [[15 (100%)]]\n",
      "\n",
      "0227 [[2700]] [[0000]] 0001 0101 0108 080a [[0a00]] [[0022]] 2229 2973 731a [[1aa4]] [[a4df]] dfb2 b23d 3d8b 8b87 87c4 c484 84f4 f401 01e4 e4d8 d8fb fbd3 d398 98a5 a50e 0e07 07fc fca7 a70d 0d01 01a5 a5ac ac62 62b5 b50e 0e7e 7e2e 2ef7 f7aa aaa3 a3dc dc90 90ef ef54 546a 6ac7 c7c8 c8cd cde7 e717 1766 6646 467d 7d76 7607 [[07ce]] [[ceed]] ed8b 8b28 2877\n",
      "\n",
      "0227 [[2756]] [[5600]] 0001 0101 0108 080a [[0a55]] [[5522]] 2229 2973 731a [[1aa0]] [[a0df]] dfb2 b23d 3d8b 8b87 87c4 c484 84f4 f401 01e4 e4d8 d8fb fbd3 d398 98a5 a50e 0e07 07fc fca7 a70d 0d01 01a5 a5ac ac62 62b5 b50e 0e7e 7e2e 2ef7 f7aa aaa3 a3dc dc90 90ef ef54 546a 6ac7 c7c8 c8cd cde7 e717 1766 6646 467d 7d76 7607 [[0751]] [[51ed]] ed8b 8b28 2877\n",
      "\n",
      "\n"
     ]
    },
    {
     "name": "stderr",
     "output_type": "stream",
     "text": [
      "[Succeeded / Failed / Skipped / Total] 59 / 0 / 0 / 59:  59%|█████▉    | 59/100 [02:12<01:31,  2.24s/it]"
     ]
    },
    {
     "name": "stdout",
     "output_type": "stream",
     "text": [
      "--------------------------------------------- Result 59 ---------------------------------------------\n",
      "[[9 (100%)]] --> [[7 (95%)]]\n",
      "\n",
      "[[a8e8]] [[e8c7]] c7ed ed97 97ed ed9f 9fdc dc2e 2e4a 4a80 8018 1805 [[0528]] [[28aa]] aa80 8000 0000 0001 0101 0108 080a 0aac ac91 912c 2cd7 d701 0139 3987 878a 8ade de5d 5d51 5139 39a7 a77d 7d46 463c 3c1b 1b0a 0aab ab63 63c8 c884 84bc bc5e 5e0e 0e7f 7f61 6177 77d2 d288 8860 60e0 e087 8774 74c0 c011 1164 6417 1730 3006 0682 821d 1d3e\n",
      "\n",
      "[[a831]] [[31c7]] c7ed ed97 97ed ed9f 9fdc dc2e 2e4a 4a80 8018 1805 [[05dc]] [[dcaa]] aa80 8000 0000 0001 0101 0108 080a 0aac ac91 912c 2cd7 d701 0139 3987 878a 8ade de5d 5d51 5139 39a7 a77d 7d46 463c 3c1b 1b0a 0aab ab63 63c8 c884 84bc bc5e 5e0e 0e7f 7f61 6177 77d2 d288 8860 60e0 e087 8774 74c0 c011 1164 6417 1730 3006 0682 821d 1d3e\n",
      "\n",
      "\n"
     ]
    },
    {
     "name": "stderr",
     "output_type": "stream",
     "text": [
      "[Succeeded / Failed / Skipped / Total] 60 / 0 / 0 / 60:  60%|██████    | 60/100 [02:13<01:29,  2.23s/it]"
     ]
    },
    {
     "name": "stdout",
     "output_type": "stream",
     "text": [
      "--------------------------------------------- Result 60 ---------------------------------------------\n",
      "[[16 (100%)]] --> [[9 (100%)]]\n",
      "\n",
      "d523 23a3 a334 34a4 a49b 9b1e 1eba ba7b 7b69 6980 8010 1002 0278 7859 59f9 f900 0000 0001 0101 0108 080a 0a4f 4f49 499c 9c85 8501 [[0115]] [[1567]] 67c5 c558 5810 107d 7d87 8700 0040 40e8 e8f7 f7bb bb3e 3ef7 f739 391f 1f22 2277 77ea ea11 1162 62ca ca7e 7e98 98f0 f005 056d 6d88 88f0 f089 8948 484d 4db2 b2de de16 16eb eba3 a3a9\n",
      "\n",
      "d523 23a3 a334 34a4 a49b 9b1e 1eba ba7b 7b69 6980 8010 1002 0278 7859 59f9 f900 0000 0001 0101 0108 080a 0a4f 4f49 499c 9c85 8501 [[0130]] [[3067]] 67c5 c558 5810 107d 7d87 8700 0040 40e8 e8f7 f7bb bb3e 3ef7 f739 391f 1f22 2277 77ea ea11 1162 62ca ca7e 7e98 98f0 f005 056d 6d88 88f0 f089 8948 484d 4db2 b2de de16 16eb eba3 a3a9\n",
      "\n",
      "\n"
     ]
    },
    {
     "name": "stderr",
     "output_type": "stream",
     "text": [
      "[Succeeded / Failed / Skipped / Total] 61 / 0 / 0 / 61:  61%|██████    | 61/100 [02:16<01:27,  2.23s/it]"
     ]
    },
    {
     "name": "stdout",
     "output_type": "stream",
     "text": [
      "--------------------------------------------- Result 61 ---------------------------------------------\n",
      "[[12 (100%)]] --> [[4 (57%)]]\n",
      "\n",
      "[[d47a]] [[7aff]] ff69 697e 7ea7 a73e 3eea ea54 5472 7280 8010 1000 0021 21c9 c9e9 e900 0000 0001 0101 [[0108]] [[080a]] 0aaf afad adb5 b525 2501 0120 20af afbd bd4f 4f61 61e3 e3b5 b5df dfdc dcd9 d9af afcd cd30 3035 355a 5ab6 b6bd bd90 9084 84be be66 66b2 b279 79e4 e436 3659 592a 2a95 9592 9244 4452 520a 0ae4 e426 26b9 b982 8274 74d4\n",
      "\n",
      "[[d431]] [[31ff]] ff69 697e 7ea7 a73e 3eea ea54 5472 7280 8010 1000 0021 21c9 c9e9 e900 0000 0001 0101 [[019a]] [[9a0a]] 0aaf afad adb5 b525 2501 0120 20af afbd bd4f 4f61 61e3 e3b5 b5df dfdc dcd9 d9af afcd cd30 3035 355a 5ab6 b6bd bd90 9084 84be be66 66b2 b279 79e4 e436 3659 592a 2a95 9592 9244 4452 520a 0ae4 e426 26b9 b982 8274 74d4\n",
      "\n",
      "\n"
     ]
    },
    {
     "name": "stderr",
     "output_type": "stream",
     "text": [
      "[Succeeded / Failed / Skipped / Total] 62 / 0 / 0 / 62:  62%|██████▏   | 62/100 [02:17<01:24,  2.22s/it]"
     ]
    },
    {
     "name": "stdout",
     "output_type": "stream",
     "text": [
      "--------------------------------------------- Result 62 ---------------------------------------------\n",
      "[[11 (100%)]] --> [[0 (98%)]]\n",
      "\n",
      "11d2 d219 1993 93b0 b0f9 f9f9 f926 26cd cdfe fe50 5010 [[1000]] [[00ed]] ed7e 7e9e 9e00 0000 00b5 b509 0998 9862 6274 7402 0273 7360 6015 1538 38b3 b374 74e3 e328 2829 29f6 f62e 2e69 69a5 a5c6 c6c2 c2ae ae26 26a5 a58d 8d24 2403 035d 5d21 2182 820f 0f25 253c 3cba bacc cce8 e8cf cf4b 4b65 6544 449f 9fe9 e9f5 f5d6 d67b 7b5d 5daa\n",
      "\n",
      "11d2 d219 1993 93b0 b0f9 f9f9 f926 26cd cdfe fe50 5010 [[1013]] [[13ed]] ed7e 7e9e 9e00 0000 00b5 b509 0998 9862 6274 7402 0273 7360 6015 1538 38b3 b374 74e3 e328 2829 29f6 f62e 2e69 69a5 a5c6 c6c2 c2ae ae26 26a5 a58d 8d24 2403 035d 5d21 2182 820f 0f25 253c 3cba bacc cce8 e8cf cf4b 4b65 6544 449f 9fe9 e9f5 f5d6 d67b 7b5d 5daa\n",
      "\n",
      "\n"
     ]
    },
    {
     "name": "stderr",
     "output_type": "stream",
     "text": [
      "[Succeeded / Failed / Skipped / Total] 63 / 0 / 0 / 63:  63%|██████▎   | 63/100 [02:24<01:24,  2.30s/it]"
     ]
    },
    {
     "name": "stdout",
     "output_type": "stream",
     "text": [
      "--------------------------------------------- Result 63 ---------------------------------------------\n",
      "[[14 (100%)]] --> [[15 (100%)]]\n",
      "\n",
      "3bbb bb00 0000 0001 0101 [[0108]] [[080a]] 0a1a 1aa6 [[a63b]] [[3ba4]] a400 [[0023]] [[2385]] 852a 2abf bf0f 0fae ae32 3273 7341 41a8 a85f 5ffd fd49 4965 655f 5fee eecc cc36 36d2 d2da dadf df44 4459 5936 36fc fccc ccad [[ada4]] [[a492]] 9214 14be be83 83a0 a0b0 b09b [[9b5e]] [[5e9d]] 9d48 4802 023b 3b21 21cc cc82 8209 090f 0f68 68f0 f0de de20 2074 74d7 d756\n",
      "\n",
      "3bbb bb00 0000 0001 0101 [[012b]] [[2b0a]] 0a1a 1aa6 [[a68a]] [[8aa4]] a400 [[001d]] [[1d85]] 852a 2abf bf0f 0fae ae32 3273 7341 41a8 a85f 5ffd fd49 4965 655f 5fee eecc cc36 36d2 d2da dadf df44 4459 5936 36fc fccc ccad [[ad66]] [[6692]] 9214 14be be83 83a0 a0b0 b09b [[9ba2]] [[a29d]] 9d48 4802 023b 3b21 21cc cc82 8209 090f 0f68 68f0 f0de de20 2074 74d7 d756\n",
      "\n",
      "\n"
     ]
    },
    {
     "name": "stderr",
     "output_type": "stream",
     "text": [
      "[Succeeded / Failed / Skipped / Total] 64 / 0 / 0 / 64:  64%|██████▍   | 64/100 [02:27<01:22,  2.30s/it]"
     ]
    },
    {
     "name": "stdout",
     "output_type": "stream",
     "text": [
      "--------------------------------------------- Result 64 ---------------------------------------------\n",
      "[[12 (100%)]] --> [[10 (100%)]]\n",
      "\n",
      "[[8581]] [[813a]] 3af1 f15b 5b94 94bd bd3b 3b03 038f 8f80 8010 1002 0229 295c 5c72 7200 0000 0001 0101 0108 080a 0ab0 b03a 3a56 5652 5201 [[011c]] [[1cb0]] b0d4 d438 3805 0552 52a2 a225 253d 3d32 322c 2cd5 d5c5 c553 5359 59e6 e66c 6cca ca00 000c 0c4b 4b14 1423 234a 4a4c 4c8f 8fde dea6 a6d1 d172 729b 9b7e 7ef1 f11a 1a8b 8b71 71bc bc77\n",
      "\n",
      "[[8570]] [[703a]] 3af1 f15b 5b94 94bd bd3b 3b03 038f 8f80 8010 1002 0229 295c 5c72 7200 0000 0001 0101 0108 080a 0ab0 b03a 3a56 5652 5201 [[01c5]] [[c5b0]] b0d4 d438 3805 0552 52a2 a225 253d 3d32 322c 2cd5 d5c5 c553 5359 59e6 e66c 6cca ca00 000c 0c4b 4b14 1423 234a 4a4c 4c8f 8fde dea6 a6d1 d172 729b 9b7e 7ef1 f11a 1a8b 8b71 71bc bc77\n",
      "\n",
      "\n"
     ]
    },
    {
     "name": "stderr",
     "output_type": "stream",
     "text": [
      "[Succeeded / Failed / Skipped / Total] 65 / 0 / 0 / 65:  65%|██████▌   | 65/100 [02:28<01:20,  2.29s/it]"
     ]
    },
    {
     "name": "stdout",
     "output_type": "stream",
     "text": [
      "--------------------------------------------- Result 65 ---------------------------------------------\n",
      "[[6 (100%)]] --> [[9 (100%)]]\n",
      "\n",
      "df6c 6ccb cb4f 4fd9 d9b5 b57e 7ed6 d6bf bf50 5080 8010 1008 0800 0017 174c 4c00 0000 0001 0101 0108 080a 0a88 88e7 e73e 3e0c 0c01 [[0128]] [[28e9]] e9da da4b 4b6d 6d73 735f 5f2e 2eab ab85 8570 700c 0c82 829c 9cdd dd87 8792 92c3 c3ce cea7 a782 828f 8f1d 1d32 32fa faec ec4f 4f35 35ca ca0a 0a2b 2bbb bb1b 1b70 7019 191a 1a05 0555\n",
      "\n",
      "df6c 6ccb cb4f 4fd9 d9b5 b57e 7ed6 d6bf bf50 5080 8010 1008 0800 0017 174c 4c00 0000 0001 0101 0108 080a 0a88 88e7 e73e 3e0c 0c01 [[012b]] [[2be9]] e9da da4b 4b6d 6d73 735f 5f2e 2eab ab85 8570 700c 0c82 829c 9cdd dd87 8792 92c3 c3ce cea7 a782 828f 8f1d 1d32 32fa faec ec4f 4f35 35ca ca0a 0a2b 2bbb bb1b 1b70 7019 191a 1a05 0555\n",
      "\n",
      "\n"
     ]
    },
    {
     "name": "stderr",
     "output_type": "stream",
     "text": [
      "[Succeeded / Failed / Skipped / Total] 66 / 0 / 0 / 66:  66%|██████▌   | 66/100 [02:30<01:17,  2.28s/it]"
     ]
    },
    {
     "name": "stdout",
     "output_type": "stream",
     "text": [
      "--------------------------------------------- Result 66 ---------------------------------------------\n",
      "[[8 (100%)]] --> [[1 (100%)]]\n",
      "\n",
      "[[ac4a]] [[4a05]] 0562 6285 85b2 b2e1 e1a6 a62d 2d79 791f 1fc2 c2b3 b3bb bb20 2077 773a 3a80 8092 9228 289e 9eb1 b15f 5f7c 7c4b 4bdd ddba bab9 b99f 9f1f 1f32 320f 0fd8 d888 8805 052b 2bee eef9 f906 062f 2f4f 4f49 49f0 f07a 7a91 91f4 f42c 2c01 0187 87af afe0 e0a9 a959 59a4 a4b8 b80f 0f46 467d 7de9 e9cc cc64 6409 092c 2cc2 c285\n",
      "\n",
      "[[ac8f]] [[8f05]] 0562 6285 85b2 b2e1 e1a6 a62d 2d79 791f 1fc2 c2b3 b3bb bb20 2077 773a 3a80 8092 9228 289e 9eb1 b15f 5f7c 7c4b 4bdd ddba bab9 b99f 9f1f 1f32 320f 0fd8 d888 8805 052b 2bee eef9 f906 062f 2f4f 4f49 49f0 f07a 7a91 91f4 f42c 2c01 0187 87af afe0 e0a9 a959 59a4 a4b8 b80f 0f46 467d 7de9 e9cc cc64 6409 092c 2cc2 c285\n",
      "\n",
      "\n"
     ]
    },
    {
     "name": "stderr",
     "output_type": "stream",
     "text": [
      "[Succeeded / Failed / Skipped / Total] 67 / 0 / 0 / 67:  67%|██████▋   | 67/100 [02:32<01:14,  2.27s/it]"
     ]
    },
    {
     "name": "stdout",
     "output_type": "stream",
     "text": [
      "--------------------------------------------- Result 67 ---------------------------------------------\n",
      "[[6 (100%)]] --> [[7 (100%)]]\n",
      "\n",
      "ea98 981a 1af3 f396 9614 1496 965a 5aac ac2f 2f80 8010 1008 0800 0021 21b1 b100 0000 0001 0101 0108 080a 0a51 514d 4d20 204d 4d01 [[0127]] [[2738]] 38b0 b06f 6f5c 5c09 099b 9b7c 7c87 8715 15aa aa3f 3fc2 c27b 7bd1 d145 45ae ae42 423b 3bb7 b7df df3f 3fb5 b5ee eea9 a949 4991 91c2 c2e3 e3da dad3 d3c2 c29f 9f86 86bd bd7f 7fe2 e2c2\n",
      "\n",
      "ea98 981a 1af3 f396 9614 1496 965a 5aac ac2f 2f80 8010 1008 0800 0021 21b1 b100 0000 0001 0101 0108 080a 0a51 514d 4d20 204d 4d01 [[0100]] [[0038]] 38b0 b06f 6f5c 5c09 099b 9b7c 7c87 8715 15aa aa3f 3fc2 c27b 7bd1 d145 45ae ae42 423b 3bb7 b7df df3f 3fb5 b5ee eea9 a949 4991 91c2 c2e3 e3da dad3 d3c2 c29f 9f86 86bd bd7f 7fe2 e2c2\n",
      "\n",
      "\n"
     ]
    },
    {
     "name": "stderr",
     "output_type": "stream",
     "text": [
      "[Succeeded / Failed / Skipped / Total] 68 / 0 / 0 / 68:  68%|██████▊   | 68/100 [02:33<01:12,  2.26s/it]"
     ]
    },
    {
     "name": "stdout",
     "output_type": "stream",
     "text": [
      "--------------------------------------------- Result 68 ---------------------------------------------\n",
      "[[13 (100%)]] --> [[11 (97%)]]\n",
      "\n",
      "7f27 2700 [[005b]] [[5bd1]] d1ed ed47 4749 4995 9529 29c5 c5bf bf6f 6f6f 6f12 124d 4db5 b5e8 e81f 1f1d 1d1a 1ae0 e0b9 b9e4 e490 90a5 a569 6910 10b1 b144 44a9 a9bd bdaa aaa8 a84b 4bcd cd72 723a 3af6 f699 99c3 c324 2492 9215 1527 278d 8d19 19e2 e2eb eb3d 3d16 162a 2a5d 5d66 66c4 c4a7 a75e 5e24 24c0 c0eb eb9e 9efa fa5a 5aea ea9f\n",
      "\n",
      "7f27 2700 [[0072]] [[72d1]] d1ed ed47 4749 4995 9529 29c5 c5bf bf6f 6f6f 6f12 124d 4db5 b5e8 e81f 1f1d 1d1a 1ae0 e0b9 b9e4 e490 90a5 a569 6910 10b1 b144 44a9 a9bd bdaa aaa8 a84b 4bcd cd72 723a 3af6 f699 99c3 c324 2492 9215 1527 278d 8d19 19e2 e2eb eb3d 3d16 162a 2a5d 5d66 66c4 c4a7 a75e 5e24 24c0 c0eb eb9e 9efa fa5a 5aea ea9f\n",
      "\n",
      "\n"
     ]
    },
    {
     "name": "stderr",
     "output_type": "stream",
     "text": [
      "[Succeeded / Failed / Skipped / Total] 69 / 0 / 0 / 69:  69%|██████▉   | 69/100 [02:35<01:09,  2.25s/it]"
     ]
    },
    {
     "name": "stdout",
     "output_type": "stream",
     "text": [
      "--------------------------------------------- Result 69 ---------------------------------------------\n",
      "[[5 (100%)]] --> [[0 (93%)]]\n",
      "\n",
      "7c1d 1d52 52eb ebad ad88 8888 8813 13b1 b196 9650 5018 1840 4000 0049 4942 4200 0000 002a 2a02 0262 6296 9600 0020 2000 0004 0400 0014 1400 0000 0087 8775 7544 44af af00 0000 0000 0000 0000 0000 0000 0000 0000 0001 [[0109]] [[0936]] 3635 3532 3238 3836 3634 3434 3430 3030 3000 0000\n",
      "\n",
      "7c1d 1d52 52eb ebad ad88 8888 8813 13b1 b196 9650 5018 1840 4000 0049 4942 4200 0000 002a 2a02 0262 6296 9600 0020 2000 0004 0400 0014 1400 0000 0087 8775 7544 44af af00 0000 0000 0000 0000 0000 0000 0000 0000 0001 [[01bb]] [[bb36]] 3635 3532 3238 3836 3634 3434 3430 3030 3000 0000\n",
      "\n",
      "\n"
     ]
    },
    {
     "name": "stderr",
     "output_type": "stream",
     "text": [
      "[Succeeded / Failed / Skipped / Total] 70 / 0 / 0 / 70:  70%|███████   | 70/100 [02:36<01:07,  2.24s/it]"
     ]
    },
    {
     "name": "stdout",
     "output_type": "stream",
     "text": [
      "--------------------------------------------- Result 70 ---------------------------------------------\n",
      "[[16 (100%)]] --> [[9 (100%)]]\n",
      "\n",
      "de2a 2aa3 a33e 3ea7 a730 309d 9db9 b9b3 b36e 6e80 8010 1001 0121 2169 69f0 f000 0000 0001 0101 0108 080a 0a4f 4f45 4541 41c7 c701 [[010f]] [[0ffe]] fef8 f832 321a 1ad2 d23a 3a6c 6ca4 a473 735e 5e6b 6b94 949f 9f09 09a9 a9ac ac28 2838 38a9 a99c 9c6c 6cb9 b987 87b2 b289 8957 578a 8ac8 c80d 0d5f 5f95 9551 51d5 d5ba ba35 35cc cc8f\n",
      "\n",
      "de2a 2aa3 a33e 3ea7 a730 309d 9db9 b9b3 b36e 6e80 8010 1001 0121 2169 69f0 f000 0000 0001 0101 0108 080a 0a4f 4f45 4541 41c7 c701 [[0130]] [[30fe]] fef8 f832 321a 1ad2 d23a 3a6c 6ca4 a473 735e 5e6b 6b94 949f 9f09 09a9 a9ac ac28 2838 38a9 a99c 9c6c 6cb9 b987 87b2 b289 8957 578a 8ac8 c80d 0d5f 5f95 9551 51d5 d5ba ba35 35cc cc8f\n",
      "\n",
      "\n"
     ]
    },
    {
     "name": "stderr",
     "output_type": "stream",
     "text": [
      "[Succeeded / Failed / Skipped / Total] 71 / 0 / 0 / 71:  71%|███████   | 71/100 [02:38<01:04,  2.23s/it]"
     ]
    },
    {
     "name": "stdout",
     "output_type": "stream",
     "text": [
      "--------------------------------------------- Result 71 ---------------------------------------------\n",
      "[[9 (100%)]] --> [[16 (100%)]]\n",
      "\n",
      "a8e8 e8c8 c817 1777 77f6 f69f 9fdc dc37 37a9 a980 8010 1005 0528 28a0 a08c 8c00 0000 0001 0101 0108 080a 0aac ac93 93d9 d939 3901 [[013a]] [[3a32]] 32af affb fbcd cd8a 8a24 2457 5774 7410 1038 38d2 d275 75c9 c962 6278 7819 19ec ec8b 8b9f 9f88 8873 73b3 b391 914a 4a31 31dd ddc7 c736 36fc fc16 16da da70 70c6 c681 81c0 c0e2 e2ec\n",
      "\n",
      "a8e8 e8c8 c817 1777 77f6 f69f 9fdc dc37 37a9 a980 8010 1005 0528 28a0 a08c 8c00 0000 0001 0101 0108 080a 0aac ac93 93d9 d939 3901 [[0111]] [[1132]] 32af affb fbcd cd8a 8a24 2457 5774 7410 1038 38d2 d275 75c9 c962 6278 7819 19ec ec8b 8b9f 9f88 8873 73b3 b391 914a 4a31 31dd ddc7 c736 36fc fc16 16da da70 70c6 c681 81c0 c0e2 e2ec\n",
      "\n",
      "\n"
     ]
    },
    {
     "name": "stderr",
     "output_type": "stream",
     "text": [
      "[Succeeded / Failed / Skipped / Total] 72 / 0 / 0 / 72:  72%|███████▏  | 72/100 [02:39<01:02,  2.22s/it]"
     ]
    },
    {
     "name": "stdout",
     "output_type": "stream",
     "text": [
      "--------------------------------------------- Result 72 ---------------------------------------------\n",
      "[[13 (100%)]] --> [[1 (99%)]]\n",
      "\n",
      "f576 7600 [[005b]] [[5b2f]] 2ff1 f144 44a1 a1ed ed29 298e 8e84 84c2 c291 91fc fc51 51fe fe80 807e 7ee5 e55f 5fd8 d8ee eeb2 b294 946b 6b6e 6e62 6233 3385 8564 6454 5439 391f 1f14 14a0 a04e 4e2d 2d20 201c 1c38 3845 45bf bff0 f028 2888 8821 21b0 b0db db1d 1de4 e477 77b3 b324 24e3 e365 65b7 b7d1 d194 949d 9d0f 0fcf cfc8 c8e0 e0a1\n",
      "\n",
      "f576 7600 [[001a]] [[1a2f]] 2ff1 f144 44a1 a1ed ed29 298e 8e84 84c2 c291 91fc fc51 51fe fe80 807e 7ee5 e55f 5fd8 d8ee eeb2 b294 946b 6b6e 6e62 6233 3385 8564 6454 5439 391f 1f14 14a0 a04e 4e2d 2d20 201c 1c38 3845 45bf bff0 f028 2888 8821 21b0 b0db db1d 1de4 e477 77b3 b324 24e3 e365 65b7 b7d1 d194 949d 9d0f 0fcf cfc8 c8e0 e0a1\n",
      "\n",
      "\n"
     ]
    },
    {
     "name": "stderr",
     "output_type": "stream",
     "text": [
      "[Succeeded / Failed / Skipped / Total] 73 / 0 / 0 / 73:  73%|███████▎  | 73/100 [02:44<01:00,  2.25s/it]"
     ]
    },
    {
     "name": "stdout",
     "output_type": "stream",
     "text": [
      "--------------------------------------------- Result 73 ---------------------------------------------\n",
      "[[1 (100%)]] --> [[2 (100%)]]\n",
      "\n",
      "[[ca19]] [[192b]] [[2b0a]] 0aca ca9d 9d20 20e6 e686 86b8 b850 5018 [[18ff]] [[ffff]] ff99 9980 8000 0000 0017 1703 0303 0305 0533 3300 0000 0000 0000 0000 0000 0000 0056 56f5 f5f4 f4d1 d11d 1de4 e4ff ff86 8649 4937 3743 43c0 c003 0397 975e 5e87 87a2 a212 1298 98ee eec5 c579 793f 3fbc bc2f 2fe0 e0c2 c2d7 d7f7 [[f7ff]] [[ffb3]] b353 537a 7a17 17cf\n",
      "\n",
      "[[ca35]] [[35de]] [[de0a]] 0aca ca9d 9d20 20e6 e686 86b8 b850 5018 [[1827]] [[27ff]] ff99 9980 8000 0000 0017 1703 0303 0305 0533 3300 0000 0000 0000 0000 0000 0000 0056 56f5 f5f4 f4d1 d11d 1de4 e4ff ff86 8649 4937 3743 43c0 c003 0397 975e 5e87 87a2 a212 1298 98ee eec5 c579 793f 3fbc bc2f 2fe0 e0c2 c2d7 d7f7 [[f796]] [[96b3]] b353 537a 7a17 17cf\n",
      "\n",
      "\n"
     ]
    },
    {
     "name": "stderr",
     "output_type": "stream",
     "text": [
      "[Succeeded / Failed / Skipped / Total] 74 / 0 / 0 / 74:  74%|███████▍  | 74/100 [02:45<00:58,  2.24s/it]"
     ]
    },
    {
     "name": "stdout",
     "output_type": "stream",
     "text": [
      "--------------------------------------------- Result 74 ---------------------------------------------\n",
      "[[6 (100%)]] --> [[9 (100%)]]\n",
      "\n",
      "df6c 6cce ce3c 3c18 1816 167e 7ed7 d756 5614 1480 8010 1008 0800 001c 1c86 8600 0000 0001 0101 0108 080a 0a88 88e7 e7ea ea5c 5c01 [[0129]] [[2914]] 14ee eed1 d1d8 d863 6358 5819 1909 096f 6ff5 f5b8 b8af af13 135d 5d5e 5e67 678b 8b07 07a2 a21a 1adf dff0 f01d 1d0f 0fa1 a1a0 a05d 5d09 0923 233c 3cfa fa5f 5fd7 d751 5195 95e5 e55d\n",
      "\n",
      "df6c 6cce ce3c 3c18 1816 167e 7ed7 d756 5614 1480 8010 1008 0800 001c 1c86 8600 0000 0001 0101 0108 080a 0a88 88e7 e7ea ea5c 5c01 [[012b]] [[2b14]] 14ee eed1 d1d8 d863 6358 5819 1909 096f 6ff5 f5b8 b8af af13 135d 5d5e 5e67 678b 8b07 07a2 a21a 1adf dff0 f01d 1d0f 0fa1 a1a0 a05d 5d09 0923 233c 3cfa fa5f 5fd7 d751 5195 95e5 e55d\n",
      "\n",
      "\n"
     ]
    },
    {
     "name": "stderr",
     "output_type": "stream",
     "text": [
      "[Succeeded / Failed / Skipped / Total] 75 / 0 / 0 / 75:  75%|███████▌  | 75/100 [02:47<00:55,  2.24s/it]"
     ]
    },
    {
     "name": "stdout",
     "output_type": "stream",
     "text": [
      "--------------------------------------------- Result 75 ---------------------------------------------\n",
      "[[15 (100%)]] --> [[14 (100%)]]\n",
      "\n",
      "0364 6400 0000 0001 0101 0108 080a 0a00 [[001d]] [[1db3]] b336 361a 1aa0 a0a1 a1ed edb5 b58d 8dd2 d273 730b 0b7c 7c6a 6a53 532b 2b74 74e1 e11e 1eec ec05 05c1 c1ef ef13 1352 5225 2553 53eb eba3 a3ec ecbb bbb8 b866 6608 0848 4828 28e5 e5ab ab5d 5d85 8512 12ab ab62 6220 2006 06ee ee18 18b6 b6b0 b0c4 c4cf cff7 f70d 0d00 00b7 b76a\n",
      "\n",
      "0364 6400 0000 0001 0101 0108 080a 0a00 [[000d]] [[0db3]] b336 361a 1aa0 a0a1 a1ed edb5 b58d 8dd2 d273 730b 0b7c 7c6a 6a53 532b 2b74 74e1 e11e 1eec ec05 05c1 c1ef ef13 1352 5225 2553 53eb eba3 a3ec ecbb bbb8 b866 6608 0848 4828 28e5 e5ab ab5d 5d85 8512 12ab ab62 6220 2006 06ee ee18 18b6 b6b0 b0c4 c4cf cff7 f70d 0d00 00b7 b76a\n",
      "\n",
      "\n"
     ]
    },
    {
     "name": "stderr",
     "output_type": "stream",
     "text": [
      "[Succeeded / Failed / Skipped / Total] 76 / 0 / 0 / 76:  76%|███████▌  | 76/100 [02:49<00:53,  2.23s/it]"
     ]
    },
    {
     "name": "stdout",
     "output_type": "stream",
     "text": [
      "--------------------------------------------- Result 76 ---------------------------------------------\n",
      "[[12 (100%)]] --> [[9 (100%)]]\n",
      "\n",
      "859b 9b43 43f4 f4a3 a3a1 a161 61fd fd49 49d6 d680 8018 1802 0214 1429 298f 8f00 0000 0001 0101 0108 080a 0ab0 b041 4137 3707 0701 [[011e]] [[1e69]] 6901 0131 3139 397e 7e4a 4a57 5768 6893 9367 6787 870d 0d92 9225 2505 05ac ac5c 5cbe beb4 b464 64f4 f4f8 f892 9279 799c 9c14 145f 5f83 83cc ccb6 b6f6 f6d1 d144 44c2 c2ee ee49 49a3\n",
      "\n",
      "859b 9b43 43f4 f4a3 a3a1 a161 61fd fd49 49d6 d680 8018 1802 0214 1429 298f 8f00 0000 0001 0101 0108 080a 0ab0 b041 4137 3707 0701 [[0131]] [[3169]] 6901 0131 3139 397e 7e4a 4a57 5768 6893 9367 6787 870d 0d92 9225 2505 05ac ac5c 5cbe beb4 b464 64f4 f4f8 f892 9279 799c 9c14 145f 5f83 83cc ccb6 b6f6 f6d1 d144 44c2 c2ee ee49 49a3\n",
      "\n",
      "\n"
     ]
    },
    {
     "name": "stderr",
     "output_type": "stream",
     "text": [
      "[Succeeded / Failed / Skipped / Total] 77 / 0 / 0 / 77:  77%|███████▋  | 77/100 [02:51<00:51,  2.23s/it]"
     ]
    },
    {
     "name": "stdout",
     "output_type": "stream",
     "text": [
      "--------------------------------------------- Result 77 ---------------------------------------------\n",
      "[[7 (100%)]] --> [[11 (83%)]]\n",
      "\n",
      "[[0016]] [[168b]] 8bb6 b6dc dcfd fd13 13e6 e667 672d 2d80 8010 1001 010e 0e6a 6ab3 b300 0000 0001 0101 0108 080a 0a00 00d2 d211 11d9 d94e 4e50 504c 4ce8 e84e 4e8b 8b00 0072 72c6 c653 5349 4950 500e 0e76 76b0 b001 018c 8c25 2573 7303 0327 2745 45c4 c480 8035 35e5 e5b9 b92c 2c7e 7ef9 f933 330b 0b05 0533 33b2 b2e3 e351 51c9 c905\n",
      "\n",
      "[[00ad]] [[ad8b]] 8bb6 b6dc dcfd fd13 13e6 e667 672d 2d80 8010 1001 010e 0e6a 6ab3 b300 0000 0001 0101 0108 080a 0a00 00d2 d211 11d9 d94e 4e50 504c 4ce8 e84e 4e8b 8b00 0072 72c6 c653 5349 4950 500e 0e76 76b0 b001 018c 8c25 2573 7303 0327 2745 45c4 c480 8035 35e5 e5b9 b92c 2c7e 7ef9 f933 330b 0b05 0533 33b2 b2e3 e351 51c9 c905\n",
      "\n",
      "\n"
     ]
    },
    {
     "name": "stderr",
     "output_type": "stream",
     "text": [
      "[Succeeded / Failed / Skipped / Total] 78 / 0 / 0 / 78:  78%|███████▊  | 78/100 [02:53<00:49,  2.23s/it]"
     ]
    },
    {
     "name": "stdout",
     "output_type": "stream",
     "text": [
      "--------------------------------------------- Result 78 ---------------------------------------------\n",
      "[[11 (100%)]] --> [[15 (36%)]]\n",
      "\n",
      "113f 3f75 7510 105f 5f2c 2cda dae1 e109 09c0 c050 5010 [[1000]] [[00ed]] edc7 c768 6800 0000 00e7 e758 58a7 a765 65e3 e33e 3ecf cf1b 1bde de2b 2b29 2984 8463 63f5 f5f1 f148 4853 53a3 a324 246a 6ac6 c69a 9a7e 7e54 5478 7870 70c6 c698 980b 0b00 00bf bf9a 9ab4 b453 53f6 f642 42ce ceb6 b692 92cc cc93 9356 56c6 c69e 9e02 023c 3cbb\n",
      "\n",
      "113f 3f75 7510 105f 5f2c 2cda dae1 e109 09c0 c050 5010 [[1013]] [[13ed]] edc7 c768 6800 0000 00e7 e758 58a7 a765 65e3 e33e 3ecf cf1b 1bde de2b 2b29 2984 8463 63f5 f5f1 f148 4853 53a3 a324 246a 6ac6 c69a 9a7e 7e54 5478 7870 70c6 c698 980b 0b00 00bf bf9a 9ab4 b453 53f6 f642 42ce ceb6 b692 92cc cc93 9356 56c6 c69e 9e02 023c 3cbb\n",
      "\n",
      "\n"
     ]
    },
    {
     "name": "stderr",
     "output_type": "stream",
     "text": [
      "[Succeeded / Failed / Skipped / Total] 79 / 0 / 0 / 79:  79%|███████▉  | 79/100 [02:59<00:47,  2.27s/it]"
     ]
    },
    {
     "name": "stdout",
     "output_type": "stream",
     "text": [
      "--------------------------------------------- Result 79 ---------------------------------------------\n",
      "[[1 (100%)]] --> [[8 (39%)]]\n",
      "\n",
      "2909 0900 0061 [[6131]] [[3156]] 5642 [[4265]] [[6561]] 6163 636f 6f6e 6e2d 2d76 7632 327c 7c4c 4c41 4142 4254 5445 4553 5354 [[547c]] [[7c57]] 5769 696e 6e64 646f 6f77 7773 7350 5043 437c 7c61 6138 3838 3831 3164 6461 6165 6537 3766 6639 3935 3537 3733 3364 6437 3733 3332 3262 6261 6132 3266 6662 6231 3165 6537 3731 3133 3362 6239 3938 3837\n",
      "\n",
      "2909 0900 0061 [[61ed]] [[ed56]] 5642 [[42ae]] [[ae61]] 6163 636f 6f6e 6e2d 2d76 7632 327c 7c4c 4c41 4142 4254 5445 4553 5354 [[54a7]] [[a757]] 5769 696e 6e64 646f 6f77 7773 7350 5043 437c 7c61 6138 3838 3831 3164 6461 6165 6537 3766 6639 3935 3537 3733 3364 6437 3733 3332 3262 6261 6132 3266 6662 6231 3165 6537 3731 3133 3362 6239 3938 3837\n",
      "\n",
      "\n"
     ]
    },
    {
     "name": "stderr",
     "output_type": "stream",
     "text": [
      "[Succeeded / Failed / Skipped / Total] 80 / 0 / 0 / 80:  80%|████████  | 80/100 [03:01<00:45,  2.27s/it]"
     ]
    },
    {
     "name": "stdout",
     "output_type": "stream",
     "text": [
      "--------------------------------------------- Result 80 ---------------------------------------------\n",
      "[[9 (100%)]] --> [[16 (100%)]]\n",
      "\n",
      "8653 53ab ab25 2596 96fd fda4 a40f 0fa1 a10a 0a80 8010 1000 00ef ef7a 7ae6 e600 0000 0001 0101 0108 080a 0a80 80a7 a778 78cb cb01 [[012b]] [[2b9c]] 9cab ab2b 2b27 2726 26c4 c4df df59 59a4 a489 8979 794e 4ede de21 217c 7c9f 9ff9 f9bd bddb dbf4 f435 35ca ca1b 1b18 18a6 a6c5 c5a2 a280 80d8 d8a7 a7d3 d3de de4e 4e0f 0fe8 e8a4 a4be\n",
      "\n",
      "8653 53ab ab25 2596 96fd fda4 a40f 0fa1 a10a 0a80 8010 1000 00ef ef7a 7ae6 e600 0000 0001 0101 0108 080a 0a80 80a7 a778 78cb cb01 [[010f]] [[0f9c]] 9cab ab2b 2b27 2726 26c4 c4df df59 59a4 a489 8979 794e 4ede de21 217c 7c9f 9ff9 f9bd bddb dbf4 f435 35ca ca1b 1b18 18a6 a6c5 c5a2 a280 80d8 d8a7 a7d3 d3de de4e 4e0f 0fe8 e8a4 a4be\n",
      "\n",
      "\n"
     ]
    },
    {
     "name": "stderr",
     "output_type": "stream",
     "text": [
      "[Succeeded / Failed / Skipped / Total] 81 / 0 / 0 / 81:  81%|████████  | 81/100 [03:03<00:42,  2.26s/it]"
     ]
    },
    {
     "name": "stdout",
     "output_type": "stream",
     "text": [
      "--------------------------------------------- Result 81 ---------------------------------------------\n",
      "[[10 (100%)]] --> [[7 (98%)]]\n",
      "\n",
      "[[8570]] [[70a0]] a03e 3e0f 0f1c 1c36 361e 1e26 26ca ca80 8010 100c 0c69 69dc dc8b 8b00 0000 0001 0101 0108 080a 0a42 42a9 a936 36cc cc00 00f7 f7ab ab97 97dc dc80 80f3 f364 6416 16c2 c2ff ff8f 8f04 04e8 e8b7 b756 5610 10ac acfe fe15 15a2 a236 3672 72ee ee42 427a 7aca ca7c 7c70 70ab ab60 60f9 f971 71f3 f3b6 b652 5283 833f 3fe3\n",
      "\n",
      "[[851f]] [[1fa0]] a03e 3e0f 0f1c 1c36 361e 1e26 26ca ca80 8010 100c 0c69 69dc dc8b 8b00 0000 0001 0101 0108 080a 0a42 42a9 a936 36cc cc00 00f7 f7ab ab97 97dc dc80 80f3 f364 6416 16c2 c2ff ff8f 8f04 04e8 e8b7 b756 5610 10ac acfe fe15 15a2 a236 3672 72ee ee42 427a 7aca ca7c 7c70 70ab ab60 60f9 f971 71f3 f3b6 b652 5283 833f 3fe3\n",
      "\n",
      "\n"
     ]
    },
    {
     "name": "stderr",
     "output_type": "stream",
     "text": [
      "[Succeeded / Failed / Skipped / Total] 82 / 0 / 0 / 82:  82%|████████▏ | 82/100 [03:05<00:40,  2.26s/it]"
     ]
    },
    {
     "name": "stdout",
     "output_type": "stream",
     "text": [
      "--------------------------------------------- Result 82 ---------------------------------------------\n",
      "[[0 (100%)]] --> [[5 (97%)]]\n",
      "\n",
      "04e6 e68c 8c71 7170 70f8 f85c 5c64 640e 0ed8 d850 5018 1840 4000 0032 325b 5b00 0000 0017 1703 0303 0300 [[0060]] [[6089]] 890a 0a4b 4b05 050a 0ae6 e60a 0af2 f288 88e2 e28c 8c4d 4da1 a12e 2efa fafa faa5 a57a 7ac5 c532 3239 39bb bb9a 9a3e 3e0d 0d56 560e 0e0c 0c0f 0ff2 f200 00bf bf4c 4c97 97dd dd5f 5f44 445e 5ef0 f0d8 d817 17be\n",
      "\n",
      "04e6 e68c 8c71 7170 70f8 f85c 5c64 640e 0ed8 d850 5018 1840 4000 0032 325b 5b00 0000 0017 1703 0303 0300 [[002a]] [[2a89]] 890a 0a4b 4b05 050a 0ae6 e60a 0af2 f288 88e2 e28c 8c4d 4da1 a12e 2efa fafa faa5 a57a 7ac5 c532 3239 39bb bb9a 9a3e 3e0d 0d56 560e 0e0c 0c0f 0ff2 f200 00bf bf4c 4c97 97dd dd5f 5f44 445e 5ef0 f0d8 d817 17be\n",
      "\n",
      "\n"
     ]
    },
    {
     "name": "stderr",
     "output_type": "stream",
     "text": [
      "[Succeeded / Failed / Skipped / Total] 83 / 0 / 0 / 83:  83%|████████▎ | 83/100 [03:07<00:38,  2.26s/it]"
     ]
    },
    {
     "name": "stdout",
     "output_type": "stream",
     "text": [
      "--------------------------------------------- Result 83 ---------------------------------------------\n",
      "[[2 (100%)]] --> [[3 (100%)]]\n",
      "\n",
      "01bb [[bb4a]] [[4a09]] 096e 6e28 28af af6a 6a7a 7a30 3050 5018 1840 408d 8d88 88e1 e100 0000 0017 1703 0303 0301 01ed ed00 0000 0000 0000 0000 0000 0001 0186 861b 1baf af3b 3b21 21e1 e171 7156 5623 23f7 f7af af81 8198 988b 8bf9 f98e 8e11 11ad ad5a 5a2d 2df2 f2ef efeb eb6d 6d2c 2cc4 c4ba bac5 c507 07ba ba24 24a9 a98e 8e26 26a5\n",
      "\n",
      "01bb [[bbec]] [[ec09]] 096e 6e28 28af af6a 6a7a 7a30 3050 5018 1840 408d 8d88 88e1 e100 0000 0017 1703 0303 0301 01ed ed00 0000 0000 0000 0000 0000 0001 0186 861b 1baf af3b 3b21 21e1 e171 7156 5623 23f7 f7af af81 8198 988b 8bf9 f98e 8e11 11ad ad5a 5a2d 2df2 f2ef efeb eb6d 6d2c 2cc4 c4ba bac5 c507 07ba ba24 24a9 a98e 8e26 26a5\n",
      "\n",
      "\n"
     ]
    },
    {
     "name": "stderr",
     "output_type": "stream",
     "text": [
      "[Succeeded / Failed / Skipped / Total] 84 / 0 / 0 / 84:  84%|████████▍ | 84/100 [03:09<00:36,  2.25s/it]"
     ]
    },
    {
     "name": "stdout",
     "output_type": "stream",
     "text": [
      "--------------------------------------------- Result 84 ---------------------------------------------\n",
      "[[3 (100%)]] --> [[4 (100%)]]\n",
      "\n",
      "[[f595]] [[9500]] 00ac ac22 22ec ec00 00b0 b020 203e 3e4a 4ac1 c104 0404 04d6 d61d 1d9b 9bfb fb1d 1d2a 2acb cb51 5151 51f9 f9f3 f31e 1e59 59f8 f868 68ad ade0 e079 796e 6e93 93c3 c312 1239 3910 10ce ce71 71f5 f591 91b8 b858 58f4 f423 2389 897f 7f96 966b 6b6e 6e56 56bc bc65 6556 56f5 f556 567d 7d8b 8bbf bf7e 7e5c 5cd7 d71b 1b7d\n",
      "\n",
      "[[f509]] [[0900]] 00ac ac22 22ec ec00 00b0 b020 203e 3e4a 4ac1 c104 0404 04d6 d61d 1d9b 9bfb fb1d 1d2a 2acb cb51 5151 51f9 f9f3 f31e 1e59 59f8 f868 68ad ade0 e079 796e 6e93 93c3 c312 1239 3910 10ce ce71 71f5 f591 91b8 b858 58f4 f423 2389 897f 7f96 966b 6b6e 6e56 56bc bc65 6556 56f5 f556 567d 7d8b 8bbf bf7e 7e5c 5cd7 d71b 1b7d\n",
      "\n",
      "\n"
     ]
    },
    {
     "name": "stderr",
     "output_type": "stream",
     "text": [
      "[Succeeded / Failed / Skipped / Total] 85 / 0 / 0 / 85:  85%|████████▌ | 85/100 [03:11<00:33,  2.25s/it]"
     ]
    },
    {
     "name": "stdout",
     "output_type": "stream",
     "text": [
      "--------------------------------------------- Result 85 ---------------------------------------------\n",
      "[[2 (100%)]] --> [[3 (98%)]]\n",
      "\n",
      "[[07a7]] [[a7c7]] c717 1720 2087 8729 2966 6635 352c 2c50 5018 1807 07fb fb8d 8d71 7100 0000 0017 1703 0303 0304 044b 4bf3 f3a0 a000 005b 5bec ecb5 b5d2 d2a3 a3a0 a0ad ad16 16cf cf9a 9aec ec61 610d 0d21 21b9 b90d 0df2 f291 9124 24fe fe36 3634 3438 38c9 c966 6640 40fa fa12 1206 06b5 b5b0 b01a 1a27 2710 10d9 d9e2 e269 699e 9e37\n",
      "\n",
      "[[07cb]] [[cbc7]] c717 1720 2087 8729 2966 6635 352c 2c50 5018 1807 07fb fb8d 8d71 7100 0000 0017 1703 0303 0304 044b 4bf3 f3a0 a000 005b 5bec ecb5 b5d2 d2a3 a3a0 a0ad ad16 16cf cf9a 9aec ec61 610d 0d21 21b9 b90d 0df2 f291 9124 24fe fe36 3634 3438 38c9 c966 6640 40fa fa12 1206 06b5 b5b0 b01a 1a27 2710 10d9 d9e2 e269 699e 9e37\n",
      "\n",
      "\n"
     ]
    },
    {
     "name": "stderr",
     "output_type": "stream",
     "text": [
      "[Succeeded / Failed / Skipped / Total] 86 / 0 / 0 / 86:  86%|████████▌ | 86/100 [03:13<00:31,  2.25s/it]"
     ]
    },
    {
     "name": "stdout",
     "output_type": "stream",
     "text": [
      "--------------------------------------------- Result 86 ---------------------------------------------\n",
      "[[0 (100%)]] --> [[5 (86%)]]\n",
      "\n",
      "32c8 c82c [[2c1f]] [[1f60]] 6077 7765 65e4 e4a5 a584 8450 5018 1880 8000 0000 0066 6600 0000 0017 1703 0303 0301 01a5 a548 48b9 b978 7854 540e 0eea eab1 b152 5228 28b3 b34e 4ea8 a84f 4fc5 c592 92fc fc77 77f2 f20f 0f50 50fa fa8f 8f69 6954 5458 58aa aa2f 2f57 57ce ce5b 5b8a 8ad2 d25b 5bf7 f796 9617 1772 72dd ddef ef02 020e 0e20\n",
      "\n",
      "32c8 c82c [[2c31]] [[3160]] 6077 7765 65e4 e4a5 a584 8450 5018 1880 8000 0000 0066 6600 0000 0017 1703 0303 0301 01a5 a548 48b9 b978 7854 540e 0eea eab1 b152 5228 28b3 b34e 4ea8 a84f 4fc5 c592 92fc fc77 77f2 f20f 0f50 50fa fa8f 8f69 6954 5458 58aa aa2f 2f57 57ce ce5b 5b8a 8ad2 d25b 5bf7 f796 9617 1772 72dd ddef ef02 020e 0e20\n",
      "\n",
      "\n"
     ]
    },
    {
     "name": "stderr",
     "output_type": "stream",
     "text": [
      "[Succeeded / Failed / Skipped / Total] 87 / 0 / 0 / 87:  87%|████████▋ | 87/100 [03:15<00:29,  2.25s/it]"
     ]
    },
    {
     "name": "stdout",
     "output_type": "stream",
     "text": [
      "--------------------------------------------- Result 87 ---------------------------------------------\n",
      "[[7 (100%)]] --> [[16 (100%)]]\n",
      "\n",
      "a4dc dce8 e832 32ec ec7a 7adf dfd2 d270 700b 0b80 8018 1800 0009 097b 7b3d 3d00 0000 0001 0101 0108 080a 0a27 272e 2e4b 4be5 e500 [[0038]] [[387d]] 7dac acbd bdeb ebbf bfbb bb7a 7a65 6587 8728 28a8 a8e0 e0a4 a4ef efb6 b687 8717 174c 4cb0 b0a0 a0e4 e4a5 a5ff ff55 55c0 c098 9856 5676 7638 3841 419d 9df0 f0fd fd1e 1e7b 7bdd dd10\n",
      "\n",
      "a4dc dce8 e832 32ec ec7a 7adf dfd2 d270 700b 0b80 8018 1800 0009 097b 7b3d 3d00 0000 0001 0101 0108 080a 0a27 272e 2e4b 4be5 e500 [[00f1]] [[f17d]] 7dac acbd bdeb ebbf bfbb bb7a 7a65 6587 8728 28a8 a8e0 e0a4 a4ef efb6 b687 8717 174c 4cb0 b0a0 a0e4 e4a5 a5ff ff55 55c0 c098 9856 5676 7638 3841 419d 9df0 f0fd fd1e 1e7b 7bdd dd10\n",
      "\n",
      "\n"
     ]
    },
    {
     "name": "stderr",
     "output_type": "stream",
     "text": [
      "[Succeeded / Failed / Skipped / Total] 88 / 0 / 0 / 88:  88%|████████▊ | 88/100 [03:17<00:26,  2.24s/it]"
     ]
    },
    {
     "name": "stdout",
     "output_type": "stream",
     "text": [
      "--------------------------------------------- Result 88 ---------------------------------------------\n",
      "[[2 (100%)]] --> [[1 (82%)]]\n",
      "\n",
      "[[fd4a]] [[4abe]] be59 59fa fa36 36fc fcdb db3c 3c40 4050 5010 1007 07bd bd85 8550 5000 0000 0017 1703 0303 0305 05d1 d1ad ad5d 5d44 44c1 c12f 2ff0 f039 39ed edef efa6 a684 848e 8e34 34a2 a2c6 c605 0578 786e 6ee8 e89f 9fb6 b6a1 a1a0 a033 33a3 a38a 8a5d 5daf afe1 e1b4 b4e0 e096 96df df8b 8b94 94cf cfbf bfe8 e875 7544 44cb cb40\n",
      "\n",
      "[[fdd6]] [[d6be]] be59 59fa fa36 36fc fcdb db3c 3c40 4050 5010 1007 07bd bd85 8550 5000 0000 0017 1703 0303 0305 05d1 d1ad ad5d 5d44 44c1 c12f 2ff0 f039 39ed edef efa6 a684 848e 8e34 34a2 a2c6 c605 0578 786e 6ee8 e89f 9fb6 b6a1 a1a0 a033 33a3 a38a 8a5d 5daf afe1 e1b4 b4e0 e096 96df df8b 8b94 94cf cfbf bfe8 e875 7544 44cb cb40\n",
      "\n",
      "\n"
     ]
    },
    {
     "name": "stderr",
     "output_type": "stream",
     "text": [
      "[Succeeded / Failed / Skipped / Total] 89 / 0 / 0 / 89:  89%|████████▉ | 89/100 [03:45<00:27,  2.54s/it]"
     ]
    },
    {
     "name": "stdout",
     "output_type": "stream",
     "text": [
      "--------------------------------------------- Result 89 ---------------------------------------------\n",
      "[[7 (100%)]] --> [[9 (41%)]]\n",
      "\n",
      "[[0016]] [[1697]] 97a8 a85c 5c3d 3d84 [[8492]] [[92e3]] e3c1 c180 [[8018]] [[1801]] 0117 1728 28c7 c700 0000 0001 [[0101]] [[0108]] 080a 0a00 0039 394b 4b03 0327 2731 3181 8144 [[44ce]] [[cea1]] a117 1714 141e 1eef ef62 6297 97e2 e27e 7e59 593b 3b37 3758 58ad adc1 c1f9 f9ee ee62 6276 768a 8a2c 2c87 8740 40b2 b292 92c8 c860 60a1 a155 5510 10c0 c0fb fb6f 6fca\n",
      "\n",
      "[[00fc]] [[fc97]] 97a8 a85c 5c3d 3d84 [[84f5]] [[f5e3]] e3c1 c180 [[809a]] [[9a01]] 0117 1728 28c7 c700 0000 0001 [[0115]] [[1508]] 080a 0a00 0039 394b 4b03 0327 2731 3181 8144 [[4401]] [[01a1]] a117 1714 141e 1eef ef62 6297 97e2 e27e 7e59 593b 3b37 3758 58ad adc1 c1f9 f9ee ee62 6276 768a 8a2c 2c87 8740 40b2 b292 92c8 c860 60a1 a155 5510 10c0 c0fb fb6f 6fca\n",
      "\n",
      "\n"
     ]
    },
    {
     "name": "stderr",
     "output_type": "stream",
     "text": [
      "[Succeeded / Failed / Skipped / Total] 90 / 0 / 0 / 90:  90%|█████████ | 90/100 [03:47<00:25,  2.53s/it]"
     ]
    },
    {
     "name": "stdout",
     "output_type": "stream",
     "text": [
      "--------------------------------------------- Result 90 ---------------------------------------------\n",
      "[[1 (100%)]] --> [[2 (100%)]]\n",
      "\n",
      "[[01d1]] [[d169]] 69f1 f169 697e 7e25 25b5 b553 53cc cc50 5018 1879 7970 709e 9e08 0800 0000 0017 1703 0303 0300 004d 4d00 0000 0000 0000 0000 0000 0000 0002 02d1 d1ff ff84 8483 8368 6866 66ff fffd fd55 55b1 b125 25c5 c5a2 a220 20a3 a30c 0cd8 d8dc dc24 245f 5f13 138a 8af4 f4c3 c360 600d 0d74 7497 9726 26d0 d07c 7c5d 5dba baff\n",
      "\n",
      "[[014a]] [[4a69]] 69f1 f169 697e 7e25 25b5 b553 53cc cc50 5018 1879 7970 709e 9e08 0800 0000 0017 1703 0303 0300 004d 4d00 0000 0000 0000 0000 0000 0000 0002 02d1 d1ff ff84 8483 8368 6866 66ff fffd fd55 55b1 b125 25c5 c5a2 a220 20a3 a30c 0cd8 d8dc dc24 245f 5f13 138a 8af4 f4c3 c360 600d 0d74 7497 9726 26d0 d07c 7c5d 5dba baff\n",
      "\n",
      "\n"
     ]
    },
    {
     "name": "stderr",
     "output_type": "stream",
     "text": [
      "[Succeeded / Failed / Skipped / Total] 91 / 0 / 0 / 91:  91%|█████████ | 91/100 [03:54<00:23,  2.57s/it]"
     ]
    },
    {
     "name": "stdout",
     "output_type": "stream",
     "text": [
      "--------------------------------------------- Result 91 ---------------------------------------------\n",
      "[[10 (100%)]] --> [[7 (100%)]]\n",
      "\n",
      "8570 708f 8fbf bf25 251e 1e35 357b 7b32 32d1 d180 8010 100c [[0c69]] [[69cd]] cd78 [[7800]] [[0000]] 0001 0101 0108 080a 0a42 42a3 a3cb cbdf df00 [[00f2]] [[f240]] 40a5 a5f4 f4d5 d513 1345 45da da67 67cc ccf7 f788 88b4 b4db db24 24c5 c505 0576 76c0 c05d 5dd7 d704 0427 27f2 f238 3821 217b 7b99 99dd dd31 31af afc3 c389 8933 3393 93f0 f072 7224\n",
      "\n",
      "8570 708f 8fbf bf25 251e 1e35 357b 7b32 32d1 d180 8010 100c [[0c25]] [[25cd]] cd78 [[7875]] [[7500]] 0001 0101 0108 080a 0a42 42a3 a3cb cbdf df00 [[0038]] [[3840]] 40a5 a5f4 f4d5 d513 1345 45da da67 67cc ccf7 f788 88b4 b4db db24 24c5 c505 0576 76c0 c05d 5dd7 d704 0427 27f2 f238 3821 217b 7b99 99dd dd31 31af afc3 c389 8933 3393 93f0 f072 7224\n",
      "\n",
      "\n"
     ]
    },
    {
     "name": "stderr",
     "output_type": "stream",
     "text": [
      "[Succeeded / Failed / Skipped / Total] 92 / 0 / 0 / 92:  92%|█████████▏| 92/100 [03:56<00:20,  2.57s/it]"
     ]
    },
    {
     "name": "stdout",
     "output_type": "stream",
     "text": [
      "--------------------------------------------- Result 92 ---------------------------------------------\n",
      "[[0 (100%)]] --> [[5 (100%)]]\n",
      "\n",
      "[[fccf]] [[cf70]] 7008 0831 3165 65e6 e6cf cf90 90b1 b150 5010 1080 8000 00c6 c64c 4c00 0000 0085 85b5 b5c9 c92b 2bf2 f28c 8c2b 2bc8 c8c5 c5af afc4 c46c 6c1e 1eb3 b396 963d 3d52 5210 10bf bf98 98a6 a6d1 d164 64a2 a2ef eff9 f9bd bdfe fe92 9203 03cf cff4 f499 996b 6b27 2731 310f 0fe3 e300 003c 3c30 30a3 a37b 7be7 e74a 4ae2 e23c\n",
      "\n",
      "[[fc65]] [[6570]] 7008 0831 3165 65e6 e6cf cf90 90b1 b150 5010 1080 8000 00c6 c64c 4c00 0000 0085 85b5 b5c9 c92b 2bf2 f28c 8c2b 2bc8 c8c5 c5af afc4 c46c 6c1e 1eb3 b396 963d 3d52 5210 10bf bf98 98a6 a6d1 d164 64a2 a2ef eff9 f9bd bdfe fe92 9203 03cf cff4 f499 996b 6b27 2731 310f 0fe3 e300 003c 3c30 30a3 a37b 7be7 e74a 4ae2 e23c\n",
      "\n",
      "\n"
     ]
    },
    {
     "name": "stderr",
     "output_type": "stream",
     "text": [
      "[Succeeded / Failed / Skipped / Total] 93 / 0 / 0 / 93:  93%|█████████▎| 93/100 [03:57<00:17,  2.56s/it]"
     ]
    },
    {
     "name": "stdout",
     "output_type": "stream",
     "text": [
      "--------------------------------------------- Result 93 ---------------------------------------------\n",
      "[[8 (100%)]] --> [[3 (100%)]]\n",
      "\n",
      "[[d3aa]] [[aa05]] 0562 62ac ac83 8384 8452 523d 3d74 742f 2f37 375c 5c2c 2c1d 1d8d 8da4 a42c 2c83 8352 52e0 e0de de45 45a6 a6e1 e1fe fe17 1709 09d8 d892 9273 7393 93ee ee78 7881 818e 8eb6 b6da da73 7325 25cf cfb8 b8e5 e53e 3ebc bc7a 7a3a 3ad8 d80d 0dde deea ea42 4251 513d 3d0c 0ca5 a552 52d2 d220 2000 0087 875b 5bb4 b40a 0aec\n",
      "\n",
      "[[d328]] [[2805]] 0562 62ac ac83 8384 8452 523d 3d74 742f 2f37 375c 5c2c 2c1d 1d8d 8da4 a42c 2c83 8352 52e0 e0de de45 45a6 a6e1 e1fe fe17 1709 09d8 d892 9273 7393 93ee ee78 7881 818e 8eb6 b6da da73 7325 25cf cfb8 b8e5 e53e 3ebc bc7a 7a3a 3ad8 d80d 0dde deea ea42 4251 513d 3d0c 0ca5 a552 52d2 d220 2000 0087 875b 5bb4 b40a 0aec\n",
      "\n",
      "\n"
     ]
    },
    {
     "name": "stderr",
     "output_type": "stream",
     "text": [
      "[Succeeded / Failed / Skipped / Total] 94 / 0 / 0 / 94:  94%|█████████▍| 94/100 [04:00<00:15,  2.56s/it]"
     ]
    },
    {
     "name": "stdout",
     "output_type": "stream",
     "text": [
      "--------------------------------------------- Result 94 ---------------------------------------------\n",
      "[[16 (100%)]] --> [[12 (100%)]]\n",
      "\n",
      "[[de2a]] [[2aa7]] a739 3919 19fe fe9d 9db9 b9b3 b36e 6e80 8010 1001 0121 2164 64b6 b600 0000 0001 0101 0108 080a 0a4f 4f45 4592 92c1 c101 [[0110]] [[1013]] 1336 3692 921f 1ff0 f05e 5e3c 3c1e 1e9b 9b01 0190 909a 9a14 1434 34b6 b6e9 e95e 5ed6 d65e 5ec7 c751 513f 3fd8 d8a5 a58f 8ffc fcab ab67 679e 9e3f 3ff1 f196 96eb ebaf aff5 f514 1464\n",
      "\n",
      "[[de5b]] [[5ba7]] a739 3919 19fe fe9d 9db9 b9b3 b36e 6e80 8010 1001 0121 2164 64b6 b600 0000 0001 0101 0108 080a 0a4f 4f45 4592 92c1 c101 [[0123]] [[2313]] 1336 3692 921f 1ff0 f05e 5e3c 3c1e 1e9b 9b01 0190 909a 9a14 1434 34b6 b6e9 e95e 5ed6 d65e 5ec7 c751 513f 3fd8 d8a5 a58f 8ffc fcab ab67 679e 9e3f 3ff1 f196 96eb ebaf aff5 f514 1464\n",
      "\n",
      "\n"
     ]
    },
    {
     "name": "stderr",
     "output_type": "stream",
     "text": [
      "[Succeeded / Failed / Skipped / Total] 95 / 0 / 0 / 95:  95%|█████████▌| 95/100 [04:16<00:13,  2.70s/it]"
     ]
    },
    {
     "name": "stdout",
     "output_type": "stream",
     "text": [
      "--------------------------------------------- Result 95 ---------------------------------------------\n",
      "[[1 (100%)]] --> [[8 (55%)]]\n",
      "\n",
      "3d45 [[4500]] [[000b]] 0bd2 d29c 9c18 1858 585d 5d00 [[0000]] [[0000]] 0000 0000 [[0000]] [[0000]] 0000 0000 0000 0000 0000 0000 0000 0000\n",
      "\n",
      "3d45 [[45f5]] [[f50b]] 0bd2 d29c 9c18 1858 585d 5d00 [[0002]] [[0200]] 0000 0000 [[00b6]] [[b600]] 0000 0000 0000 0000 0000 0000 0000 0000\n",
      "\n",
      "\n"
     ]
    },
    {
     "name": "stderr",
     "output_type": "stream",
     "text": [
      "[Succeeded / Failed / Skipped / Total] 96 / 0 / 0 / 96:  96%|█████████▌| 96/100 [04:18<00:10,  2.70s/it]"
     ]
    },
    {
     "name": "stdout",
     "output_type": "stream",
     "text": [
      "--------------------------------------------- Result 96 ---------------------------------------------\n",
      "[[9 (100%)]] --> [[16 (100%)]]\n",
      "\n",
      "a8e8 e8c7 c714 1485 854f 4f9f 9fdc dc07 077a 7a80 8010 1005 0528 28ab ab00 0000 0000 0001 0101 0108 080a 0aac ac7f 7fe7 e7d8 d801 [[0135]] [[3536]] 3658 586b 6bed ed83 83ed eda1 a104 04a6 a6a7 a748 4858 583e 3ef9 f914 1494 941c 1c06 065a 5a80 80c0 c01a 1a31 31ad adf6 f64a 4a0c 0c13 13d4 d4f9 f976 7604 0442 4275 753f 3ff9 f9b0\n",
      "\n",
      "a8e8 e8c7 c714 1485 854f 4f9f 9fdc dc07 077a 7a80 8010 1005 0528 28ab ab00 0000 0000 0001 0101 0108 080a 0aac ac7f 7fe7 e7d8 d801 [[010d]] [[0d36]] 3658 586b 6bed ed83 83ed eda1 a104 04a6 a6a7 a748 4858 583e 3ef9 f914 1494 941c 1c06 065a 5a80 80c0 c01a 1a31 31ad adf6 f64a 4a0c 0c13 13d4 d4f9 f976 7604 0442 4275 753f 3ff9 f9b0\n",
      "\n",
      "\n"
     ]
    },
    {
     "name": "stderr",
     "output_type": "stream",
     "text": [
      "[Succeeded / Failed / Skipped / Total] 97 / 0 / 0 / 97:  97%|█████████▋| 97/100 [04:20<00:08,  2.69s/it]"
     ]
    },
    {
     "name": "stdout",
     "output_type": "stream",
     "text": [
      "--------------------------------------------- Result 97 ---------------------------------------------\n",
      "[[9 (100%)]] --> [[12 (100%)]]\n",
      "\n",
      "a2fb fb90 904d 4d8f 8fc0 c08e 8ed6 d668 68c8 c880 8010 1000 001f 1fe9 e95b 5b00 0000 0001 0101 0108 080a 0aae aee6 e65e 5e9f 9f01 [[0130]] [[3024]] 245a 5a15 15f6 f68e 8eb1 b135 3544 44b2 b247 47ae ae88 881c 1cb0 b0b7 b769 6953 532d 2d8a 8a85 85f6 f6de de52 52e7 e78e 8eb7 b70e 0e01 01fb fb40 404a 4a72 7251 51bd bd56 56c1 c112\n",
      "\n",
      "a2fb fb90 904d 4d8f 8fc0 c08e 8ed6 d668 68c8 c880 8010 1000 001f 1fe9 e95b 5b00 0000 0001 0101 0108 080a 0aae aee6 e65e 5e9f 9f01 [[0122]] [[2224]] 245a 5a15 15f6 f68e 8eb1 b135 3544 44b2 b247 47ae ae88 881c 1cb0 b0b7 b769 6953 532d 2d8a 8a85 85f6 f6de de52 52e7 e78e 8eb7 b70e 0e01 01fb fb40 404a 4a72 7251 51bd bd56 56c1 c112\n",
      "\n",
      "\n"
     ]
    },
    {
     "name": "stderr",
     "output_type": "stream",
     "text": [
      "[Succeeded / Failed / Skipped / Total] 98 / 0 / 0 / 98:  98%|█████████▊| 98/100 [04:24<00:05,  2.70s/it]"
     ]
    },
    {
     "name": "stdout",
     "output_type": "stream",
     "text": [
      "--------------------------------------------- Result 98 ---------------------------------------------\n",
      "[[7 (100%)]] --> [[6 (99%)]]\n",
      "\n",
      "[[0016]] [[168f]] 8f6a 6a0c 0cbd bd84 8491 911b 1b21 2180 8010 1001 0117 1761 6173 7300 0000 0001 0101 0108 080a [[0a00]] [[0039]] 3946 467c 7c27 2731 316f 6f28 28b7 b749 4910 1020 20cd cdad ad55 5590 9096 968b 8b2f 2f5f 5f23 23f1 f1fd fd16 1650 503c 3c9b 9b16 16fb fb34 34a6 a692 920b 0b4c 4caa aacc ccde deef ef82 82a4 a478 78e2 e2f8\n",
      "\n",
      "[[00b2]] [[b28f]] 8f6a 6a0c 0cbd bd84 8491 911b 1b21 2180 8010 1001 0117 1761 6173 7300 0000 0001 0101 0108 080a [[0a74]] [[7439]] 3946 467c 7c27 2731 316f 6f28 28b7 b749 4910 1020 20cd cdad ad55 5590 9096 968b 8b2f 2f5f 5f23 23f1 f1fd fd16 1650 503c 3c9b 9b16 16fb fb34 34a6 a692 920b 0b4c 4caa aacc ccde deef ef82 82a4 a478 78e2 e2f8\n",
      "\n",
      "\n"
     ]
    },
    {
     "name": "stderr",
     "output_type": "stream",
     "text": [
      "[Succeeded / Failed / Skipped / Total] 99 / 0 / 0 / 99:  99%|█████████▉| 99/100 [04:26<00:02,  2.69s/it]"
     ]
    },
    {
     "name": "stdout",
     "output_type": "stream",
     "text": [
      "--------------------------------------------- Result 99 ---------------------------------------------\n",
      "[[3 (100%)]] --> [[1 (93%)]]\n",
      "\n",
      "[[c065]] [[6500]] 002c 2cc8 c845 4500 00d0 d01d 1d61 6121 211e 1eca caa5 a519 1988 882c 2cb1 b171 7191 9151 5179 7943 43b4 b47f 7f30 3025 2599 9944 4470 70a1 a1c6 c653 5333 33cd cdf4 f49d 9d9b 9b45 4587 87ed edb6\n",
      "\n",
      "[[c045]] [[4500]] 002c 2cc8 c845 4500 00d0 d01d 1d61 6121 211e 1eca caa5 a519 1988 882c 2cb1 b171 7191 9151 5179 7943 43b4 b47f 7f30 3025 2599 9944 4470 70a1 a1c6 c653 5333 33cd cdf4 f49d 9d9b 9b45 4587 87ed edb6\n",
      "\n",
      "\n"
     ]
    },
    {
     "name": "stderr",
     "output_type": "stream",
     "text": [
      "[Succeeded / Failed / Skipped / Total] 100 / 0 / 0 / 100: 100%|██████████| 100/100 [04:29<00:00,  2.70s/it]"
     ]
    },
    {
     "name": "stdout",
     "output_type": "stream",
     "text": [
      "--------------------------------------------- Result 100 ---------------------------------------------\n",
      "[[14 (100%)]] --> [[15 (100%)]]\n",
      "\n",
      "17af af00 [[0000]] [[0001]] 0101 0108 080a [[0a00]] [[0022]] 2217 1739 391a 1aa4 a4cd cd77 7784 8415 1578 78a8 a8d2 d255 551a 1a96 9637 37fc fc7c 7cf6 f651 5100 001b 1bd7 d7ce ce90 90f4 f423 237c 7c66 66cb cb31 311c 1c46 46a1 a1d7 d76b 6b8f 8f4f 4fbd bdc5 c583 8343 431b 1b31 313c 3c2c 2ca6 a6ff ff31 3128 2894 948d 8d49 496f 6fea ea26\n",
      "\n",
      "17af af00 [[001d]] [[1d01]] 0101 0108 080a [[0a9d]] [[9d22]] 2217 1739 391a 1aa4 a4cd cd77 7784 8415 1578 78a8 a8d2 d255 551a 1a96 9637 37fc fc7c 7cf6 f651 5100 001b 1bd7 d7ce ce90 90f4 f423 237c 7c66 66cb cb31 311c 1c46 46a1 a1d7 d76b 6b8f 8f4f 4fbd bdc5 c583 8343 431b 1b31 313c 3c2c 2ca6 a6ff ff31 3128 2894 948d 8d49 496f 6fea ea26\n",
      "\n",
      "\n",
      "\n",
      "+-------------------------------+--------+\n",
      "| Attack Results                |        |\n",
      "+-------------------------------+--------+\n",
      "| Number of successful attacks: | 100    |\n",
      "| Number of failed attacks:     | 0      |\n",
      "| Number of skipped attacks:    | 0      |\n",
      "| Original accuracy:            | 100.0% |\n",
      "| Accuracy under attack:        | 0.0%   |\n",
      "| Attack success rate:          | 100.0% |\n",
      "| Average perturbed word %:     | 5.28%  |\n",
      "| Average num. words per input: | 61.9   |\n",
      "| Avg num queries:              | 535.49 |\n",
      "+-------------------------------+--------+\n"
     ]
    },
    {
     "name": "stderr",
     "output_type": "stream",
     "text": [
      "\n"
     ]
    }
   ],
   "source": [
    "# Attack until 1000 successful attacks are reached\n",
    "attack_args = AttackArgs(num_successful_examples=100, random_seed=42)\n",
    "attacker = Attacker(attack, dataset, attack_args)\n",
    "attack_results = attacker.attack_dataset()"
   ]
  },
  {
   "cell_type": "markdown",
   "metadata": {},
   "source": [
    "# 6. Display attack results"
   ]
  },
  {
   "cell_type": "code",
   "execution_count": 6,
   "metadata": {},
   "outputs": [
    {
     "name": "stderr",
     "output_type": "stream",
     "text": [
      "textattack: Logging to CSV at path results.csv\n"
     ]
    },
    {
     "data": {
      "text/html": [
       "<table border=\"1\" class=\"dataframe\">\n",
       "  <thead>\n",
       "    <tr style=\"text-align: right;\">\n",
       "      <th></th>\n",
       "      <th>original_text</th>\n",
       "      <th>perturbed_text</th>\n",
       "    </tr>\n",
       "  </thead>\n",
       "  <tbody>\n",
       "    <tr>\n",
       "      <th>0</th>\n",
       "      <td>1191 9155 5530 303e 3e31 316a 6a78 78d7 d798 9850 5010 <font color = green>1000</font> <font color = green>00ed</font> edf4 f471 7100 0000 00cc cc24 245f 5f16 166b 6b52 525e 5e2c 2cd2 d2df dfdc dc7d 7de7 e712 12bf bf02 020d 0d18 1834 3442 4202 02a9 a93d 3dd0 d070 70ff ff0e 0e18 1819 1934 34e0 e0b0 b0f4 f4cb cb1f 1fa5 a5de de3e 3e13 1366 6637 378b 8bb9 b928 28dd dd9e 9e81</td>\n",
       "      <td>1191 9155 5530 303e 3e31 316a 6a78 78d7 d798 9850 5010 <font color = blue>1014</font> <font color = blue>14ed</font> edf4 f471 7100 0000 00cc cc24 245f 5f16 166b 6b52 525e 5e2c 2cd2 d2df dfdc dc7d 7de7 e712 12bf bf02 020d 0d18 1834 3442 4202 02a9 a93d 3dd0 d070 70ff ff0e 0e18 1819 1934 34e0 e0b0 b0f4 f4cb cb1f 1fa5 a5de de3e 3e13 1366 6637 378b 8bb9 b928 28dd dd9e 9e81</td>\n",
       "    </tr>\n",
       "    <tr>\n",
       "      <th>1</th>\n",
       "      <td>3514 1400 0000 0001 0101 0108 080a <font color = yellow>0a1a</font> <font color = yellow>1aa6</font> a62a 2ac6 c600 <font color = yellow>0023</font> <font color = yellow>2374</font> 7445 45f5 f5f3 <font color = yellow>f3a8</font> <font color = yellow>a81c</font> 1c67 6752 523a 3afd fd91 <font color = yellow>91eb</font> <font color = yellow>eb72</font> <font color = yellow>726e</font> 6e13 13ee eef4 f45f 5f6d <font color = yellow>6de3</font> <font color = yellow>e3d1</font> <font color = yellow>d192</font> <font color = yellow>9298</font> 9828 281d 1db1 b1a5 a53d 3d90 9055 5501 017c 7c52 52fc fc9b 9b60 60b5 b5d2 d2db db57 57fc fc45 45e2 e247 477e 7edb db02 0219 19a7 a7b7 b7fb</td>\n",
       "      <td>3514 1400 0000 0001 0101 0108 080a <font color = orange>0a9a</font> <font color = orange>9aa6</font> a62a 2ac6 c600 <font color = orange>001e</font> <font color = orange>1e74</font> 7445 45f5 f5f3 <font color = orange>f3ab</font> <font color = orange>ab1c</font> 1c67 6752 523a 3afd fd91 <font color = orange>91d7</font> <font color = orange>d7e9</font> <font color = orange>e96e</font> 6e13 13ee eef4 f45f 5f6d <font color = orange>6d28</font> <font color = orange>28d1</font> <font color = orange>d1de</font> <font color = orange>de98</font> 9828 281d 1db1 b1a5 a53d 3d90 9055 5501 017c 7c52 52fc fc9b 9b60 60b5 b5d2 d2db db57 57fc fc45 45e2 e247 477e 7edb db02 0219 19a7 a7b7 b7fb</td>\n",
       "    </tr>\n",
       "    <tr>\n",
       "      <th>2</th>\n",
       "      <td><font color = green>03e1</font> <font color = green>e19d</font> 9db2 b255 5523 2351 51ad ad40 4072 7250 5018 1896 96c8 c808 0829 2900 0000 0017 1703 0303 0300 0028 2800 0000 0000 0000 0000 0000 0000 0035 35f4 f42d 2d9c 9ccb cb7b 7b9a 9ae8 e804 040f 0f16 163c 3cd2 d2e5 e501 011e 1e4e 4ea1 a183 83e2 e221 21b1 b167 6726 26b5 b500 007c 7ce4 e4ff ff77 7787 87f4 f4ef</td>\n",
       "      <td><font color = purple>03ae</font> <font color = purple>ae9d</font> 9db2 b255 5523 2351 51ad ad40 4072 7250 5018 1896 96c8 c808 0829 2900 0000 0017 1703 0303 0300 0028 2800 0000 0000 0000 0000 0000 0000 0035 35f4 f42d 2d9c 9ccb cb7b 7b9a 9ae8 e804 040f 0f16 163c 3cd2 d2e5 e501 011e 1e4e 4ea1 a183 83e2 e221 21b1 b167 6726 26b5 b500 007c 7ce4 e4ff ff77 7787 87f4 f4ef</td>\n",
       "    </tr>\n",
       "    <tr>\n",
       "      <th>3</th>\n",
       "      <td>1166 6628 283c 3ce0 e04c 4cb4 b468 6855 553f 3f50 5010 <font color = green>1000</font> <font color = green>00ed</font> ed52 524a 4a00 0000 0040 4038 383d 3d3c 3c17 1780 8066 6604 04c7 c709 095b 5b14 14e3 e3f7 f727 2761 61de def2 f223 2386 86ac acd9 d909 09e1 e1de de85 85a7 a7a9 a916 1667 67d3 d337 37d9 d994 94cd cdd8 d87a 7af2 f2cd cdc2 c20a 0ab3 b321 21b6 b616 163d 3dd1</td>\n",
       "      <td>1166 6628 283c 3ce0 e04c 4cb4 b468 6855 553f 3f50 5010 <font color = purple>1037</font> <font color = purple>37ed</font> ed52 524a 4a00 0000 0040 4038 383d 3d3c 3c17 1780 8066 6604 04c7 c709 095b 5b14 14e3 e3f7 f727 2761 61de def2 f223 2386 86ac acd9 d909 09e1 e1de de85 85a7 a7a9 a916 1667 67d3 d337 37d9 d994 94cd cdd8 d87a 7af2 f2cd cdc2 c20a 0ab3 b321 21b6 b616 163d 3dd1</td>\n",
       "    </tr>\n",
       "    <tr>\n",
       "      <th>4</th>\n",
       "      <td>e00e 0e00 0000 0001 0101 <font color = yellow>0108</font> <font color = yellow>080a</font> <font color = yellow>0a1a</font> <font color = yellow>1aa5</font> a5db db7a 7a00 0023 2325 2501 0143 43c9 c916 1699 9911 1193 939f 9f44 4420 <font color = yellow>20f9</font> <font color = yellow>f93f</font> 3fdb db18 18c9 c98c <font color = yellow>8c4a</font> <font color = yellow>4a30</font> 30aa aa6d 6d2b 2ba5 a5d0 d081 818f 8f45 457c 7ceb ebad ad11 1124 2443 4363 <font color = yellow>63bd</font> <font color = yellow>bdc0</font> c0a2 a267 679f 9f59 59c8 c892 9234 346a 6a93 93a1 a110 108a 8a82 82f6 f682</td>\n",
       "      <td>e00e 0e00 0000 0001 0101 <font color = brown>0130</font> <font color = brown>300a</font> <font color = brown>0a9a</font> <font color = brown>9aa5</font> a5db db7a 7a00 0023 2325 2501 0143 43c9 c916 1699 9911 1193 939f 9f44 4420 <font color = brown>2055</font> <font color = brown>553f</font> 3fdb db18 18c9 c98c <font color = brown>8cd6</font> <font color = brown>d630</font> 30aa aa6d 6d2b 2ba5 a5d0 d081 818f 8f45 457c 7ceb ebad ad11 1124 2443 4363 <font color = brown>63b5</font> <font color = brown>b5c0</font> c0a2 a267 679f 9f59 59c8 c892 9234 346a 6a93 93a1 a110 108a 8a82 82f6 f682</td>\n",
       "    </tr>\n",
       "    <tr>\n",
       "      <th>5</th>\n",
       "      <td><font color = red>8570</font> <font color = red>708f</font> 8f9d 9d34 3488 8835 <font color = red>3579</font> <font color = red>798b</font> 8b0d 0d80 8010 100c 0c69 69b7 b712 1200 0000 0001 0101 0108 080a <font color = red>0a42</font> <font color = red>42a3</font> a3be be62 6200 00f2 f233 3328 284a <font color = red>4ab4</font> <font color = red>b4c8</font> c8a1 a1a7 a77c 7cb1 b1ac acbd bd69 6931 31c4 c485 852b 2b72 720c 0cab ab60 60a3 a37b 7b90 90b3 b310 <font color = red>104b</font> <font color = red>4ba5</font> a5c4 c43e 3e0e 0eb2 b2cb cb4f 4fec ec1d 1d0d 0d6f</td>\n",
       "      <td><font color = pink>8515</font> <font color = pink>158f</font> 8f9d 9d34 3488 8835 <font color = pink>3596</font> <font color = pink>968b</font> 8b0d 0d80 8010 100c 0c69 69b7 b712 1200 0000 0001 0101 0108 080a <font color = pink>0a77</font> <font color = pink>77a3</font> a3be be62 6200 00f2 f233 3328 284a <font color = pink>4a79</font> <font color = pink>79c8</font> c8a1 a1a7 a77c 7cb1 b1ac acbd bd69 6931 31c4 c485 852b 2b72 720c 0cab ab60 60a3 a37b 7b90 90b3 b310 <font color = pink>100d</font> <font color = pink>0da5</font> a5c4 c43e 3e0e 0eb2 b2cb cb4f 4fec ec1d 1d0d 0d6f</td>\n",
       "    </tr>\n",
       "    <tr>\n",
       "      <th>6</th>\n",
       "      <td><font color = blue>7f40</font> <font color = blue>40af</font> af6a 6a9e 9ef6 f64a 4a09 098b 8be0 e050 5018 1807 07fb fb8d 8d08 0800 0000 0017 1703 0303 0300 0024 245c 5cad ad3d 3d08 08fa faba ba86 86e1 e139 3981 81f2 f2f3 f3ee ee6d 6d93 9332 3280 80d8 d89b 9bc7 c71b 1b65 653f 3ffa fa83 83ec ec1e 1ed8 d8cf cf65 6546 46cd cd75 759e 9e11 11b3</td>\n",
       "      <td><font color = red>7ffa</font> <font color = red>faaf</font> af6a 6a9e 9ef6 f64a 4a09 098b 8be0 e050 5018 1807 07fb fb8d 8d08 0800 0000 0017 1703 0303 0300 0024 245c 5cad ad3d 3d08 08fa faba ba86 86e1 e139 3981 81f2 f2f3 f3ee ee6d 6d93 9332 3280 80d8 d89b 9bc7 c71b 1b65 653f 3ffa fa83 83ec ec1e 1ed8 d8cf cf65 6546 46cd cd75 759e 9e11 11b3</td>\n",
       "    </tr>\n",
       "    <tr>\n",
       "      <th>7</th>\n",
       "      <td>a8c8 c8ef efa5 a5be be6e 6e7c 7c55 5532 320d 0d80 8010 1004 04c7 c7a0 a08c 8c00 0000 0001 0101 0108 080a 0aac ac5c 5cc7 c765 6501 <font color = brown>012c</font> <font color = brown>2c6e</font> 6e42 42fd fd08 08ec ecfe febc bcf4 f4f5 f59a 9a2f 2f75 7555 558c 8c6f 6f61 6163 6311 118a 8a1c 1c3e 3e59 59a4 a4f7 f77e 7ea1 a17f 7f3d 3de0 e0c0 c0d8 d896 96f3 f3eb ebfd fd8f 8ff3</td>\n",
       "      <td>a8c8 c8ef efa5 a5be be6e 6e7c 7c55 5532 320d 0d80 8010 1004 04c7 c7a0 a08c 8c00 0000 0001 0101 0108 080a 0aac ac5c 5cc7 c765 6501 <font color = pink>0115</font> <font color = pink>156e</font> 6e42 42fd fd08 08ec ecfe febc bcf4 f4f5 f59a 9a2f 2f75 7555 558c 8c6f 6f61 6163 6311 118a 8a1c 1c3e 3e59 59a4 a4f7 f77e 7ea1 a17f 7f3d 3de0 e0c0 c0d8 d896 96f3 f3eb ebfd fd8f 8ff3</td>\n",
       "    </tr>\n",
       "    <tr>\n",
       "      <th>8</th>\n",
       "      <td><font color = cyan>adc8</font> <font color = cyan>c833</font> 3380 8081 8137 37a1 a1c5 c55a 5a7b 7b80 8010 1000 00e3 e3f9 f992 9200 0000 0001 0101 0108 080a 0a4e 4e59 59b0 b05f 5f00 <font color = cyan>00d4</font> <font color = cyan>d46a</font> 6ab6 b673 7312 1297 97a3 a32f 2f2f 2f5d 5d0a 0a4b 4b96 96ae ae84 841c 1ca4 a46a 6a60 <font color = cyan>6000</font> <font color = cyan>0092</font> 92cb cbe5 e5c2 c246 464f 4fb6 b6a2 a2d7 d75b 5bc6 c680 805a 5a40 4084 846a 6af6 f68d</td>\n",
       "      <td><font color = pink>addf</font> <font color = pink>df33</font> 3380 8081 8137 37a1 a1c5 c55a 5a7b 7b80 8010 1000 00e3 e3f9 f992 9200 0000 0001 0101 0108 080a 0a4e 4e59 59b0 b05f 5f00 <font color = pink>00f1</font> <font color = pink>f16a</font> 6ab6 b673 7312 1297 97a3 a32f 2f2f 2f5d 5d0a 0a4b 4b96 96ae ae84 841c 1ca4 a46a 6a60 <font color = pink>609d</font> <font color = pink>9d92</font> 92cb cbe5 e5c2 c246 464f 4fb6 b6a2 a2d7 d75b 5bc6 c680 805a 5a40 4084 846a 6af6 f68d</td>\n",
       "    </tr>\n",
       "    <tr>\n",
       "      <th>9</th>\n",
       "      <td><font color = green>03e1</font> <font color = green>e1ff</font> ff14 14b0 b02f 2f3a 3acd cd20 2010 1050 5018 1840 4044 44da da57 5700 0000 0017 1703 0303 0300 0026 2600 0000 0000 0000 0000 0000 0000 00c7 c7a2 a246 46b9 b9c5 c509 0981 815c 5c14 1430 30d8 d8be be74 74ff ffab aba3 a32a 2a4b 4b95 95f8 f863 6383 831d 1d20 20de de98 984c 4c35 353e 3e6b 6b0d</td>\n",
       "      <td><font color = purple>0379</font> <font color = purple>79ff</font> ff14 14b0 b02f 2f3a 3acd cd20 2010 1050 5018 1840 4044 44da da57 5700 0000 0017 1703 0303 0300 0026 2600 0000 0000 0000 0000 0000 0000 00c7 c7a2 a246 46b9 b9c5 c509 0981 815c 5c14 1430 30d8 d8be be74 74ff ffab aba3 a32a 2a4b 4b95 95f8 f863 6383 831d 1d20 20de de98 984c 4c35 353e 3e6b 6b0d</td>\n",
       "    </tr>\n",
       "    <tr>\n",
       "      <th>10</th>\n",
       "      <td><font color = red>8570</font> <font color = red>7092</font> 923b 3bf0 f070 7035 358f 8fa8 a81a 1a80 8010 100c 0c69 69ca cafa fa00 0000 0001 0101 0108 080a 0a42 42a4 a453 534b 4b00 00f2 f2c8 c80e 0e21 214c 4ce9 e940 40ef ef6c 6c25 25db dbaa aab8 b860 6094 9474 7498 9871 714d 4d65 65f8 f8f4 f435 3533 3316 1622 2206 06d2 d2ca cad9 d92c 2c1d 1d2d 2dfe fed5 d5f4 f48c 8c74</td>\n",
       "      <td><font color = pink>85ea</font> <font color = pink>ea92</font> 923b 3bf0 f070 7035 358f 8fa8 a81a 1a80 8010 100c 0c69 69ca cafa fa00 0000 0001 0101 0108 080a 0a42 42a4 a453 534b 4b00 00f2 f2c8 c80e 0e21 214c 4ce9 e940 40ef ef6c 6c25 25db dbaa aab8 b860 6094 9474 7498 9871 714d 4d65 65f8 f8f4 f435 3533 3316 1622 2206 06d2 d2ca cad9 d92c 2c1d 1d2d 2dfe fed5 d5f4 f48c 8c74</td>\n",
       "    </tr>\n",
       "    <tr>\n",
       "      <th>11</th>\n",
       "      <td>113b 3b82 8201 018c 8c41 417c 7c36 3695 956d 6d50 5010 <font color = green>1000</font> <font color = green>00ed</font> ed44 44b6 b600 0000 00fe fe25 2523 23ef efa6 a65c 5c67 6758 581e 1ed7 d730 3005 0556 56d1 d14b 4b0d 0d87 87c0 c0ae aef5 f583 83b8 b85a 5a60 6024 241c 1c3f 3fa6 a644 44ca cae9 e9d9 d98d 8d1f 1f7d 7dc7 c72f 2fa3 a3ce cec7 c793 935e 5ea9 a959 59a3 a329 29e8</td>\n",
       "      <td>113b 3b82 8201 018c 8c41 417c 7c36 3695 956d 6d50 5010 <font color = orange>1067</font> <font color = orange>67ed</font> ed44 44b6 b600 0000 00fe fe25 2523 23ef efa6 a65c 5c67 6758 581e 1ed7 d730 3005 0556 56d1 d14b 4b0d 0d87 87c0 c0ae aef5 f583 83b8 b85a 5a60 6024 241c 1c3f 3fa6 a644 44ca cae9 e9d9 d98d 8d1f 1f7d 7dc7 c72f 2fa3 a3ce cec7 c793 935e 5ea9 a959 59a3 a329 29e8</td>\n",
       "    </tr>\n",
       "    <tr>\n",
       "      <th>12</th>\n",
       "      <td><font color = blue>0cb0</font> <font color = blue>b002</font> 02cb cb5f 5fb6 b6f2 f2e4 e4f2 f2ff ff50 5018 1801 01ea ea0a 0a7e 7e00 0000 0017 1703 0303 0300 0030 3044 44f8 f885 85e5 e5ae aeaa aad1 d1f5 f5b2 b20c 0c6c 6c7d 7d82 82a1 a1b3 b378 789c 9c7a 7a33 3374 74f8 f803 032b 2b1f 1f10 10a4 a4ec ec7e 7ece ce10 1086 8655 5538 38c0 c0e9 e919 190f 0fd1 d1f5 f509 09c3 c310</td>\n",
       "      <td><font color = red>0ccf</font> <font color = red>cf02</font> 02cb cb5f 5fb6 b6f2 f2e4 e4f2 f2ff ff50 5018 1801 01ea ea0a 0a7e 7e00 0000 0017 1703 0303 0300 0030 3044 44f8 f885 85e5 e5ae aeaa aad1 d1f5 f5b2 b20c 0c6c 6c7d 7d82 82a1 a1b3 b378 789c 9c7a 7a33 3374 74f8 f803 032b 2b1f 1f10 10a4 a4ec ec7e 7ece ce10 1086 8655 5538 38c0 c0e9 e919 190f 0fd1 d1f5 f509 09c3 c310</td>\n",
       "    </tr>\n",
       "    <tr>\n",
       "      <th>13</th>\n",
       "      <td><font color = cyan>adc3</font> <font color = cyan>c3a9</font> a901 012d 2d3a 3a02 0215 156d 6d40 4080 8018 180f 0f07 0755 5557 5700 0000 0001 0101 0108 080a 0a4e 4e57 5781 8198 9800 00d3 d3df df04 04d8 d87d 7d23 23a3 a31f 1ff1 f169 696d 6d9b 9bba ba3d 3df5 f5d0 d030 3097 9719 19c5 c568 6857 5774 7445 45ad add1 d1e1 e11f 1f93 93ac acb1 b160 600a 0adb db27 27cd cdbc bc88</td>\n",
       "      <td><font color = brown>ad96</font> <font color = brown>96a9</font> a901 012d 2d3a 3a02 0215 156d 6d40 4080 8018 180f 0f07 0755 5557 5700 0000 0001 0101 0108 080a 0a4e 4e57 5781 8198 9800 00d3 d3df df04 04d8 d87d 7d23 23a3 a31f 1ff1 f169 696d 6d9b 9bba ba3d 3df5 f5d0 d030 3097 9719 19c5 c568 6857 5774 7445 45ad add1 d1e1 e11f 1f93 93ac acb1 b160 600a 0adb db27 27cd cdbc bc88</td>\n",
       "    </tr>\n",
       "    <tr>\n",
       "      <th>14</th>\n",
       "      <td>30f8 <font color = yellow>f800</font> <font color = yellow>0000</font> <font color = yellow>0001</font> <font color = yellow>0101</font> 0108 080a 0a00 0022 2262 6208 081a 1aa5 <font color = yellow>a518</font> <font color = yellow>184b</font> 4b04 0492 92d6 d6e8 e8ab ab99 997c 7cb4 b44f 4fc7 c72f 2f9a 9a58 583f 3faa aa1e 1ef0 f090 9029 29b2 b238 3886 8667 673a 3a2b 2b77 776f 6ff7 f757 57d2 d2a9 a97b 7b92 922e 2e30 30cb cb8a 8aad adce cec4 c42b 2bc0 c092 922e 2e92 9265 652e 2e78 78ba</td>\n",
       "      <td>30f8 <font color = orange>f839</font> <font color = orange>3900</font> <font color = orange>001e</font> <font color = orange>1e01</font> 0108 080a 0a00 0022 2262 6208 081a 1aa5 <font color = orange>a598</font> <font color = orange>984b</font> 4b04 0492 92d6 d6e8 e8ab ab99 997c 7cb4 b44f 4fc7 c72f 2f9a 9a58 583f 3faa aa1e 1ef0 f090 9029 29b2 b238 3886 8667 673a 3a2b 2b77 776f 6ff7 f757 57d2 d2a9 a97b 7b92 922e 2e30 30cb cb8a 8aad adce cec4 c42b 2bc0 c092 922e 2e92 9265 652e 2e78 78ba</td>\n",
       "    </tr>\n",
       "    <tr>\n",
       "      <th>15</th>\n",
       "      <td><font color = blue>d47a</font> <font color = blue>7a04</font> 04a7 a7c3 c301 013e 3eea ea54 5472 7280 8010 1000 0021 21d4 d45d 5d00 0000 0001 0101 0108 080a 0aaf afaf af07 07d9 d901 <font color = blue>0122</font> <font color = blue>2202</font> 0272 7294 94b5 b5b8 b86b 6b69 690f 0fbe be86 860e 0e9a 9a16 16f4 f46d 6d7e 7eab ab48 4817 1748 4815 1565 6565 6541 4141 4191 911d 1de1 e13e 3e1e 1e97 9744 444b 4bc9 c900 003e 3efb</td>\n",
       "      <td><font color = pink>d43b</font> <font color = pink>3b04</font> 04a7 a7c3 c301 013e 3eea ea54 5472 7280 8010 1000 0021 21d4 d45d 5d00 0000 0001 0101 0108 080a 0aaf afaf af07 07d9 d901 <font color = pink>0115</font> <font color = pink>1502</font> 0272 7294 94b5 b5b8 b86b 6b69 690f 0fbe be86 860e 0e9a 9a16 16f4 f46d 6d7e 7eab ab48 4817 1748 4815 1565 6565 6541 4141 4191 911d 1de1 e13e 3e1e 1e97 9744 444b 4bc9 c900 003e 3efb</td>\n",
       "    </tr>\n",
       "    <tr>\n",
       "      <th>16</th>\n",
       "      <td><font color = cyan>0016</font> <font color = cyan>16ea</font> ead6 d6ea ea3e 3e24 24af af5a 5a20 2080 8010 1001 010e 0e2c 2c7b 7b00 0000 0001 0101 0108 080a 0a00 00d1 d1e9 e938 384e 4e4f 4faa aa66 6632 321a 1a1b 1b4b 4bbd bd2f 2fb2 b201 0155 5543 43e3 e32c 2c68 68ef ef43 43b9 b9c2 c244 4403 0338 3860 6042 421f 1fa9 a948 4851 5171 71bf bf35 359e 9e38 38f9 f91c 1c45 4555</td>\n",
       "      <td><font color = yellow>009d</font> <font color = yellow>9dea</font> ead6 d6ea ea3e 3e24 24af af5a 5a20 2080 8010 1001 010e 0e2c 2c7b 7b00 0000 0001 0101 0108 080a 0a00 00d1 d1e9 e938 384e 4e4f 4faa aa66 6632 321a 1a1b 1b4b 4bbd bd2f 2fb2 b201 0155 5543 43e3 e32c 2c68 68ef ef43 43b9 b9c2 c244 4403 0338 3860 6042 421f 1fa9 a948 4851 5171 71bf bf35 359e 9e38 38f9 f91c 1c45 4555</td>\n",
       "    </tr>\n",
       "    <tr>\n",
       "      <th>17</th>\n",
       "      <td>d50c 0cfb fb8a 8a03 03f6 f625 25ec eca1 a10e 0e80 8010 1003 030b 0bfc fca0 a000 0000 0001 0101 0108 080a 0a4f 4f44 4489 8993 9301 <font color = pink>0114</font> <font color = pink>1423</font> 2309 09b9 b95a 5a2c 2c53 53c1 c19b 9b4b 4b97 97a7 a7e7 e7c6 c69c 9ca9 a925 257f 7f73 7342 422a 2a04 04a0 a0b5 b573 730f 0fec ec62 6261 61e4 e415 1589 89b1 b106 0636 365c 5caf affa</td>\n",
       "      <td>d50c 0cfb fb8a 8a03 03f6 f625 25ec eca1 a10e 0e80 8010 1003 030b 0bfc fca0 a000 0000 0001 0101 0108 080a 0a4f 4f44 4489 8993 9301 <font color = brown>0133</font> <font color = brown>3323</font> 2309 09b9 b95a 5a2c 2c53 53c1 c19b 9b4b 4b97 97a7 a7e7 e7c6 c69c 9ca9 a925 257f 7f73 7342 422a 2a04 04a0 a0b5 b573 730f 0fec ec62 6261 61e4 e415 1589 89b1 b106 0636 365c 5caf affa</td>\n",
       "    </tr>\n",
       "    <tr>\n",
       "      <th>18</th>\n",
       "      <td><font color = cyan>0016</font> <font color = cyan>168a</font> 8aa2 a2ec ec15 1513 13e6 e64c 4ced ed80 8010 1001 010e 0e6a 6ab3 b300 0000 0001 0101 0108 080a 0a00 00d2 d211 11b2 b24e 4e50 504c 4c4d 4deb eb82 824b 4b4d 4d99 9981 8103 03b9 b915 155a 5adc dc01 018d 8d62 62fb fb57 5734 34a3 a3fd fdbe be1f 1f38 3879 7922 22fa faa5 a5a8 a80b 0bce ce7f 7fa6 a6e6 e6c1 c145 45c2</td>\n",
       "      <td><font color = green>00ff</font> <font color = green>ff8a</font> 8aa2 a2ec ec15 1513 13e6 e64c 4ced ed80 8010 1001 010e 0e6a 6ab3 b300 0000 0001 0101 0108 080a 0a00 00d2 d211 11b2 b24e 4e50 504c 4c4d 4deb eb82 824b 4b4d 4d99 9981 8103 03b9 b915 155a 5adc dc01 018d 8d62 62fb fb57 5734 34a3 a3fd fdbe be1f 1f38 3879 7922 22fa faa5 a5a8 a80b 0bce ce7f 7fa6 a6e6 e6c1 c145 45c2</td>\n",
       "    </tr>\n",
       "    <tr>\n",
       "      <th>19</th>\n",
       "      <td>01bb <font color = purple>bb6d</font> <font color = purple>6d54</font> 54c8 c8d7 d75a 5ae5 e590 9036 3650 5010 1040 4083 832a 2ac1 c100 0000 0017 1703 0303 0309 0956 5600 0000 0000 0000 0000 0000 0000 00d5 d5d6 d610 10db db10 1062 62d2 d28b 8b54 543a 3a82 8222 226a 6a00 00ca ca2b 2b47 47ae ae6f 6fda da23 2306 0699 99d0 d09c 9cc8 c8a6 a6e9 e902 0285 8550 50dc dc1b 1b7a 7ae2</td>\n",
       "      <td>01bb <font color = blue>bbfc</font> <font color = blue>fc54</font> 54c8 c8d7 d75a 5ae5 e590 9036 3650 5010 1040 4083 832a 2ac1 c100 0000 0017 1703 0303 0309 0956 5600 0000 0000 0000 0000 0000 0000 00d5 d5d6 d610 10db db10 1062 62d2 d28b 8b54 543a 3a82 8222 226a 6a00 00ca ca2b 2b47 47ae ae6f 6fda da23 2306 0699 99d0 d09c 9cc8 c8a6 a6e9 e902 0285 8550 50dc dc1b 1b7a 7ae2</td>\n",
       "    </tr>\n",
       "    <tr>\n",
       "      <th>20</th>\n",
       "      <td>d47a 7a00 00b9 b991 9119 193e 3eea ea54 5472 7280 8010 1000 0021 21c4 c4af af00 <font color = blue>0000</font> <font color = blue>0001</font> 0101 0108 080a 0aaf afae ae07 073a 3a01 <font color = blue>0121</font> <font color = blue>2101</font> 01d3 d35d 5d5b 5bdc dc29 290f 0faf af57 577b 7b8e 8e13 13b8 b8e0 e0fa fa79 790f 0f14 140d 0d08 0833 3373 731d 1db9 <font color = blue>b902</font> <font color = blue>0270</font> 702d 2d81 8188 88cc ccc8 c828 281c 1ca7 a719 19f8 f8db</td>\n",
       "      <td>d47a 7a00 00b9 b991 9119 193e 3eea ea54 5472 7280 8010 1000 0021 21c4 c4af af00 <font color = brown>002f</font> <font color = brown>2f01</font> 0101 0108 080a 0aaf afae ae07 073a 3a01 <font color = brown>012b</font> <font color = brown>2b01</font> 01d3 d35d 5d5b 5bdc dc29 290f 0faf af57 577b 7b8e 8e13 13b8 b8e0 e0fa fa79 790f 0f14 140d 0d08 0833 3373 731d 1db9 <font color = brown>b9cf</font> <font color = brown>cf70</font> 702d 2d81 8188 88cc ccc8 c828 281c 1ca7 a719 19f8 f8db</td>\n",
       "    </tr>\n",
       "    <tr>\n",
       "      <th>21</th>\n",
       "      <td>4338 3800 <font color = purple>005b</font> <font color = purple>5be9</font> e94b 4b42 4230 3022 2291 91cd cd5f 5fe1 e12a 2ac8 c88b 8b2e 2eab abcc ccc8 c8bf bfe3 e34d 4df8 f8b6 b640 40bd bd2a 2a83 83ac ac37 370c 0c71 71a6 a610 106a 6a2e 2ea5 a5b8 b899 9940 40e7 e7ac ace3 e313 1369 6902 0229 29ca caa4 a48c 8ce6 e69a 9a8e 8eee eef4 f48f 8f23 23af af0e 0e07 0752 5291 9153 5397</td>\n",
       "      <td>4338 3800 <font color = blue>0072</font> <font color = blue>72e9</font> e94b 4b42 4230 3022 2291 91cd cd5f 5fe1 e12a 2ac8 c88b 8b2e 2eab abcc ccc8 c8bf bfe3 e34d 4df8 f8b6 b640 40bd bd2a 2a83 83ac ac37 370c 0c71 71a6 a610 106a 6a2e 2ea5 a5b8 b899 9940 40e7 e7ac ace3 e313 1369 6902 0229 29ca caa4 a48c 8ce6 e69a 9a8e 8eee eef4 f48f 8f23 23af af0e 0e07 0752 5291 9153 5397</td>\n",
       "    </tr>\n",
       "    <tr>\n",
       "      <th>22</th>\n",
       "      <td>f576 7600 <font color = purple>005b</font> <font color = purple>5b88</font> 8841 4144 444b 4b12 1298 98a4 a486 8658 5883 8355 5578 78fe fe0b 0bfe feed ede7 e7d9 d966 6632 3204 04ea ea6f 6fea eaa3 a31c 1c7c 7cc5 c523 230e 0e1d 1db0 b047 473d 3d28 289c 9c39 39d5 d5bf bff8 f8a8 a881 81a9 a9a9 a95a 5a1d 1de4 e4e7 e7aa aabc bcea ea7c 7c36 36d8 d885 8594 949e 9ecf cfd8 d871 71a2</td>\n",
       "      <td>f576 7600 <font color = green>001a</font> <font color = green>1a88</font> 8841 4144 444b 4b12 1298 98a4 a486 8658 5883 8355 5578 78fe fe0b 0bfe feed ede7 e7d9 d966 6632 3204 04ea ea6f 6fea eaa3 a31c 1c7c 7cc5 c523 230e 0e1d 1db0 b047 473d 3d28 289c 9c39 39d5 d5bf bff8 f8a8 a881 81a9 a9a9 a95a 5a1d 1de4 e4e7 e7aa aabc bcea ea7c 7c36 36d8 d885 8594 949e 9ecf cfd8 d871 71a2</td>\n",
       "    </tr>\n",
       "    <tr>\n",
       "      <th>23</th>\n",
       "      <td>d50c 0cfb fbfc fcc0 c0ff ff25 25ec eccb cb6f 6f80 8010 1003 03b2 b298 98fb fb00 0000 0001 0101 0108 080a 0a4f 4f45 4515 1508 0801 <font color = pink>0114</font> <font color = pink>1445</font> 45e6 e617 1703 0303 0316 16b4 b4a7 a7d9 d921 2128 28e4 e401 01f9 f9d9 d98a 8ac9 c96d 6d54 544d 4d53 5338 38d7 d79a 9ab0 b0c3 c3e0 e0d3 d374 7419 194f 4fbe be9a 9ace ce28 2881 8144</td>\n",
       "      <td>d50c 0cfb fbfc fcc0 c0ff ff25 25ec eccb cb6f 6f80 8010 1003 03b2 b298 98fb fb00 0000 0001 0101 0108 080a 0a4f 4f45 4515 1508 0801 <font color = brown>012d</font> <font color = brown>2d45</font> 45e6 e617 1703 0303 0316 16b4 b4a7 a7d9 d921 2128 28e4 e401 01f9 f9d9 d98a 8ac9 c96d 6d54 544d 4d53 5338 38d7 d79a 9ab0 b0c3 c3e0 e0d3 d374 7419 194f 4fbe be9a 9ace ce28 2881 8144</td>\n",
       "    </tr>\n",
       "    <tr>\n",
       "      <th>24</th>\n",
       "      <td>f576 7600 <font color = purple>005b</font> <font color = purple>5beb</font> eb09 0944 440d 0ddf df29 291f 1f15 1552 5288 88e5 e551 516f 6f80 80ef ef7d 7dd7 d749 497f 7fb3 b304 04e3 e3e6 e6ea eaa3 a385 856c 6cdd dd20 2006 0614 14a0 a047 473d 3d20 2005 0528 2845 45b6 b6e0 e028 2891 9139 3938 385a 5a8d 8de4 e477 7722 22bc bc62 6265 65be bec8 c895 950c 0c9f 9fdf dfd1 d1f9 f9b8</td>\n",
       "      <td>f576 7600 <font color = green>001a</font> <font color = green>1aeb</font> eb09 0944 440d 0ddf df29 291f 1f15 1552 5288 88e5 e551 516f 6f80 80ef ef7d 7dd7 d749 497f 7fb3 b304 04e3 e3e6 e6ea eaa3 a385 856c 6cdd dd20 2006 0614 14a0 a047 473d 3d20 2005 0528 2845 45b6 b6e0 e028 2891 9139 3938 385a 5a8d 8de4 e477 7722 22bc bc62 6265 65be bec8 c895 950c 0c9f 9fdf dfd1 d1f9 f9b8</td>\n",
       "    </tr>\n",
       "    <tr>\n",
       "      <th>25</th>\n",
       "      <td><font color = orange>fc48</font> <font color = orange>4865</font> 65c6 c695 9521 21eb eb5d 5d4a 4a34 3450 <font color = orange>5018</font> <font color = orange>187f</font> 7f03 03ae aed6 d600 0000 0028 2850 5046 4622 2283 83b3 b300 0086 866a 6a89 89b6 b6fc fc59 59ce ce7c 7c22 228c 8c5d 5d4b 4bae aeeb eb70 7098 9883 832a 2a72 72e9 e908 0878 78bc bc2e 2ef9 f9d1 d1b8 b803 03f7 f798 98ac ace2 e28e 8e39 39e0 e058 58fb fb79 790d 0ded</td>\n",
       "      <td><font color = red>fccf</font> <font color = red>cf65</font> 65c6 c695 9521 21eb eb5d 5d4a 4a34 3450 <font color = red>50b4</font> <font color = red>b47f</font> 7f03 03ae aed6 d600 0000 0028 2850 5046 4622 2283 83b3 b300 0086 866a 6a89 89b6 b6fc fc59 59ce ce7c 7c22 228c 8c5d 5d4b 4bae aeeb eb70 7098 9883 832a 2a72 72e9 e908 0878 78bc bc2e 2ef9 f9d1 d1b8 b803 03f7 f798 98ac ace2 e28e 8e39 39e0 e058 58fb fb79 790d 0ded</td>\n",
       "    </tr>\n",
       "    <tr>\n",
       "      <th>26</th>\n",
       "      <td><font color = yellow>4b69</font> <font color = yellow>6900</font> 0079 79f1 f1fc fc90 906f 6fd6 d692 925d 5d96 96ab ab28 288d 8dcc cccc cc91 91be <font color = yellow>bede</font> <font color = yellow>de00</font> 0002 0210 10aa aa00 0000 0032 32a1 a192 926e 6e24 2485 857d 7d2e 2e2a 2a91 91ce cea6 a6db dbec ecac ac32 323a 3a00 00f2 f27b 7bfc fc0b 0b5b 5b98 98d5 d55c 5cc1 c1b5 b5a9 a9cd cd95 9556 56ca ca38 38c9 c9fa fabf bf10 1067</td>\n",
       "      <td><font color = purple>4b5d</font> <font color = purple>5d00</font> 0079 79f1 f1fc fc90 906f 6fd6 d692 925d 5d96 96ab ab28 288d 8dcc cccc cc91 91be <font color = purple>beda</font> <font color = purple>da00</font> 0002 0210 10aa aa00 0000 0032 32a1 a192 926e 6e24 2485 857d 7d2e 2e2a 2a91 91ce cea6 a6db dbec ecac ac32 323a 3a00 00f2 f27b 7bfc fc0b 0b5b 5b98 98d5 d55c 5cc1 c1b5 b5a9 a9cd cd95 9556 56ca ca38 38c9 c9fa fabf bf10 1067</td>\n",
       "    </tr>\n",
       "    <tr>\n",
       "      <th>27</th>\n",
       "      <td>de2a 2aa3 a3e9 e9df df66 669d 9db9 b9b3 b36e 6e80 8010 1001 0121 2169 69f0 f000 0000 0001 0101 0108 080a 0a4f 4f45 454e 4e94 9401 <font color = pink>0110</font> <font color = pink>1002</font> 022b 2bf8 f890 90b9 b952 5256 56ea ea8a 8a27 272f 2f2c 2c1a 1ad2 d2fa fab7 b78e 8ef1 f140 4072 72b4 b4eb eb55 55ee ee6d 6ddf dfc5 c540 4029 29f5 f5ed edd1 d1e5 e510 1043 4389 89c7</td>\n",
       "      <td>de2a 2aa3 a3e9 e9df df66 669d 9db9 b9b3 b36e 6e80 8010 1001 0121 2169 69f0 f000 0000 0001 0101 0108 080a 0a4f 4f45 454e 4e94 9401 <font color = brown>012b</font> <font color = brown>2b02</font> 022b 2bf8 f890 90b9 b952 5256 56ea ea8a 8a27 272f 2f2c 2c1a 1ad2 d2fa fab7 b78e 8ef1 f140 4072 72b4 b4eb eb55 55ee ee6d 6ddf dfc5 c540 4029 29f5 f5ed edd1 d1e5 e510 1043 4389 89c7</td>\n",
       "    </tr>\n",
       "    <tr>\n",
       "      <th>28</th>\n",
       "      <td><font color = blue>fd4a</font> <font color = blue>4abe</font> be5c 5c4d 4da1 a1fc fcdc dc8b 8b92 9250 5010 1007 07fb fbcb cb0b 0b00 0000 0017 1703 0303 0305 05e2 e2ad ad5d 5d44 44c1 c12f 2ff0 f03b 3b47 4738 38d3 d372 729a 9a53 5345 4561 6160 6004 0477 7774 7455 5506 0626 2683 832a 2ad3 d383 830c 0ce8 e8d0 d095 956b 6be1 e1a7 a79a 9a96 96e8 e88f 8fe3 e332 321d 1d23 2378</td>\n",
       "      <td><font color = yellow>fdd9</font> <font color = yellow>d9be</font> be5c 5c4d 4da1 a1fc fcdc dc8b 8b92 9250 5010 1007 07fb fbcb cb0b 0b00 0000 0017 1703 0303 0305 05e2 e2ad ad5d 5d44 44c1 c12f 2ff0 f03b 3b47 4738 38d3 d372 729a 9a53 5345 4561 6160 6004 0477 7774 7455 5506 0626 2683 832a 2ad3 d383 830c 0ce8 e8d0 d095 956b 6be1 e1a7 a79a 9a96 96e8 e88f 8fe3 e332 321d 1d23 2378</td>\n",
       "    </tr>\n",
       "    <tr>\n",
       "      <th>29</th>\n",
       "      <td><font color = purple>d549</font> <font color = purple>4900</font> 002b 2b56 56a4 a400 <font color = purple>00a2</font> <font color = purple>a2bb</font> bbaa aa08 0840 40b3 b356 567d 7da0 a083 8334 348a 8aa7 a724 2432 326d 6d62 6224 245e 5e74 747e 7e11 11eb eb39 3926 26e9 e953 5329 296b 6b01 01f5 f5ad ad0e 0ef6</td>\n",
       "      <td><font color = purple>d52a</font> <font color = purple>2a00</font> 002b 2b56 56a4 a400 <font color = purple>005b</font> <font color = purple>5bbb</font> bbaa aa08 0840 40b3 b356 567d 7da0 a083 8334 348a 8aa7 a724 2432 326d 6d62 6224 245e 5e74 747e 7e11 11eb eb39 3926 26e9 e953 5329 296b 6b01 01f5 f5ad ad0e 0ef6</td>\n",
       "    </tr>\n",
       "    <tr>\n",
       "      <th>30</th>\n",
       "      <td><font color = yellow>4b69</font> <font color = yellow>6900</font> 006a 6a6f 6f1e 1e80 80c8 c800 0006 06d7 d7c5 c569 69bc bcf6 f64f 4fd5 d52a 2ae5 e56f 6f03 03ae ae33 33a2 a209 09ba ba58 58ca cacd cd81 818e 8e10 104a 4aac ac32 3274 7464 6497 9721 2168 685b 5b9b 9b80 802c 2c95 955a 5a75 75ee ee25 2540 40d1 d1d0 d0cd cdc2 c2a8 a8eb eb1b 1bcc ccc7 c7c9 c98d 8d26 2619 199e 9eeb</td>\n",
       "      <td><font color = purple>4b95</font> <font color = purple>9500</font> 006a 6a6f 6f1e 1e80 80c8 c800 0006 06d7 d7c5 c569 69bc bcf6 f64f 4fd5 d52a 2ae5 e56f 6f03 03ae ae33 33a2 a209 09ba ba58 58ca cacd cd81 818e 8e10 104a 4aac ac32 3274 7464 6497 9721 2168 685b 5b9b 9b80 802c 2c95 955a 5a75 75ee ee25 2540 40d1 d1d0 d0cd cdc2 c2a8 a8eb eb1b 1bcc ccc7 c7c9 c98d 8d26 2619 199e 9eeb</td>\n",
       "    </tr>\n",
       "    <tr>\n",
       "      <th>31</th>\n",
       "      <td>87d1 d100 0000 0001 0101 0108 080a 0a00 <font color = orange>001d</font> <font color = orange>1d77</font> 77dc dc1a 1aa0 a066 6693 9342 4250 507b 7b9c 9c38 38b6 b6ca ca58 588b 8b2f 2fd7 d787 8788 88e7 e764 64e9 e97f 7f51 5168 68b6 b6cf cfe9 e946 468f 8f46 4661 6169 6952 52f8 f898 9836 3659 59a0 a094 94c2 c240 4097 974f 4fc8 c8e0 e011 1161 6125 25b5 b55e 5e96 96c9 c97e 7e13</td>\n",
       "      <td>87d1 d100 0000 0001 0101 0108 080a 0a00 <font color = yellow>0023</font> <font color = yellow>2377</font> 77dc dc1a 1aa0 a066 6693 9342 4250 507b 7b9c 9c38 38b6 b6ca ca58 588b 8b2f 2fd7 d787 8788 88e7 e764 64e9 e97f 7f51 5168 68b6 b6cf cfe9 e946 468f 8f46 4661 6169 6952 52f8 f898 9836 3659 59a0 a094 94c2 c240 4097 974f 4fc8 c8e0 e011 1161 6125 25b5 b55e 5e96 96c9 c97e 7e13</td>\n",
       "    </tr>\n",
       "    <tr>\n",
       "      <th>32</th>\n",
       "      <td><font color = purple>01bb</font> <font color = purple>bb00</font> 0031 313e 3ed9 d90c <font color = purple>0cf6</font> <font color = purple>f67e</font> 7e8f 8f99 99b5 b5a5 a511 1163 6337 374d 4d7c 7c1c 1cc0 c00a 0a6b 6bed eddf df87 879b 9b12 1262 62ed ed73 73b0 b0a5 a59d 9d89 89b6 b696 967f 7fd0 d0ed ed24 24a4 a47e 7e3e 3e9f 9f30 3014 146c</td>\n",
       "      <td><font color = yellow>0108</font> <font color = yellow>0800</font> 0031 313e 3ed9 d90c <font color = yellow>0c44</font> <font color = yellow>447e</font> 7e8f 8f99 99b5 b5a5 a511 1163 6337 374d 4d7c 7c1c 1cc0 c00a 0a6b 6bed eddf df87 879b 9b12 1262 62ed ed73 73b0 b0a5 a59d 9d89 89b6 b696 967f 7fd0 d0ed ed24 24a4 a47e 7e3e 3e9f 9f30 3014 146c</td>\n",
       "    </tr>\n",
       "    <tr>\n",
       "      <th>33</th>\n",
       "      <td><font color = cyan>0016</font> <font color = cyan>16f0</font> f0ae ae8d 8d76 7624 24af afe8 e8d0 d080 8010 1001 010e 0e04 04e3 e300 0000 0001 0101 0108 080a 0a00 00d1 d1ea ea50 504e 4e4f 4fae aec5 c537 37c2 c2aa aa91 91c3 c39d 9db1 b1c5 c545 4530 30d3 d377 77f0 f061 61b2 b2df dfa4 a43a 3ac5 c5f8 f80e 0e0d 0dbc bc31 317a 7a8c 8c94 94c7 c781 81d4 d492 92dd dd97 9747 47fd</td>\n",
       "      <td><font color = red>0075</font> <font color = red>75f0</font> f0ae ae8d 8d76 7624 24af afe8 e8d0 d080 8010 1001 010e 0e04 04e3 e300 0000 0001 0101 0108 080a 0a00 00d1 d1ea ea50 504e 4e4f 4fae aec5 c537 37c2 c2aa aa91 91c3 c39d 9db1 b1c5 c545 4530 30d3 d377 77f0 f061 61b2 b2df dfa4 a43a 3ac5 c5f8 f80e 0e0d 0dbc bc31 317a 7a8c 8c94 94c7 c781 81d4 d492 92dd dd97 9747 47fd</td>\n",
       "    </tr>\n",
       "    <tr>\n",
       "      <th>34</th>\n",
       "      <td><font color = green>03e1</font> <font color = green>e149</font> 49aa aa18 18c2 c251 5169 69cd cdf3 f350 5018 1879 7970 7008 0843 4300 0000 0017 1703 0303 0300 0042 4200 0000 0000 0000 0000 0000 0000 0003 031f 1fbd bdd4 d434 3426 26e4 e493 9370 70db dbca cae3 e382 829a 9ab2 b201 0197 9787 873f 3fcc cc2f 2f54 5404 0460 605f 5fb6 b6bb bb6b 6b57 57b7 b7b0 b092 92c9 c9cb cb58</td>\n",
       "      <td><font color = purple>03bd</font> <font color = purple>bd49</font> 49aa aa18 18c2 c251 5169 69cd cdf3 f350 5018 1879 7970 7008 0843 4300 0000 0017 1703 0303 0300 0042 4200 0000 0000 0000 0000 0000 0000 0003 031f 1fbd bdd4 d434 3426 26e4 e493 9370 70db dbca cae3 e382 829a 9ab2 b201 0197 9787 873f 3fcc cc2f 2f54 5404 0460 605f 5fb6 b6bb bb6b 6b57 57b7 b7b0 b092 92c9 c9cb cb58</td>\n",
       "    </tr>\n",
       "    <tr>\n",
       "      <th>35</th>\n",
       "      <td>ad85 8500 0000 0001 0101 0108 080a 0a00 0022 2226 2678 781a <font color = yellow>1aa4</font> <font color = yellow>a4dc</font> <font color = yellow>dcb7</font> <font color = yellow>b72c</font> 2c57 5774 74cd cdff ff2f 2fbc <font color = yellow>bcd1</font> <font color = yellow>d1cc</font> cc80 80e0 e03d 3d13 1388 8896 9630 302c 2cc8 c8a9 a966 660e 0e83 832b 2b28 28b6 b690 9034 34a8 a8d5 d52f 2f88 8845 45d3 d393 93b8 b8e7 e793 9324 2485 85bc bce5 e58d 8d64 6474 <font color = yellow>74fe</font> <font color = yellow>fe31</font> 31e7 e714 1465</td>\n",
       "      <td>ad85 8500 0000 0001 0101 0108 080a 0a00 0022 2226 2678 781a <font color = orange>1aa0</font> <font color = orange>a0dc</font> <font color = orange>dccd</font> <font color = orange>cd2c</font> 2c57 5774 74cd cdff ff2f 2fbc <font color = orange>bc0a</font> <font color = orange>0acc</font> cc80 80e0 e03d 3d13 1388 8896 9630 302c 2cc8 c8a9 a966 660e 0e83 832b 2b28 28b6 b690 9034 34a8 a8d5 d52f 2f88 8845 45d3 d393 93b8 b8e7 e793 9324 2485 85bc bce5 e58d 8d64 6474 <font color = orange>74c7</font> <font color = orange>c731</font> 31e7 e714 1465</td>\n",
       "    </tr>\n",
       "    <tr>\n",
       "      <th>36</th>\n",
       "      <td><font color = red>2329</font> <font color = red>2935</font> 35a3 a35d 5dd9 d994 9434 34a5 a564 6480 8018 1817 1765 6553 53bb bb00 0000 0001 0101 0108 080a 0a00 00f3 f3f6 f62b 2b42 42a5 a581 8143 4317 1703 0303 0302 021a 1aa0 a055 55e9 e9da da72 721a 1a71 71b5 b580 8023 2381 81ec eccf cfc4 c45a 5a2e 2e0c 0cbe bed2 d2d4 d4f9 f90e 0e4e 4e0f 0f96 9624 2435 35ee ee2c 2cea</td>\n",
       "      <td><font color = purple>23c5</font> <font color = purple>c535</font> 35a3 a35d 5dd9 d994 9434 34a5 a564 6480 8018 1817 1765 6553 53bb bb00 0000 0001 0101 0108 080a 0a00 00f3 f3f6 f62b 2b42 42a5 a581 8143 4317 1703 0303 0302 021a 1aa0 a055 55e9 e9da da72 721a 1a71 71b5 b580 8023 2381 81ec eccf cfc4 c45a 5a2e 2e0c 0cbe bed2 d2d4 d4f9 f90e 0e4e 4e0f 0f96 9624 2435 35ee ee2c 2cea</td>\n",
       "    </tr>\n",
       "    <tr>\n",
       "      <th>37</th>\n",
       "      <td>4338 3800 <font color = purple>005b</font> <font color = purple>5be9</font> e94b 4b42 4238 38b2 b230 309f 9f2e 2ed2 d200 00ec ecf0 f0f6 f681 8175 75e4 e475 75d9 d9de de32 3224 2463 63fe fec2 c2b1 b104 0446 46d4 d4a0 a01e 1e26 26a0 a0d7 d727 2720 2017 1738 3854 54a6 a6f9 f988 8838 3883 8313 13da da34 345e 5ee7 e7a1 a13c 3cf9 f9cd cdb7 b7d8 d83d 3d3c 3c1e 1e54 54fb fbc1 c1a1</td>\n",
       "      <td>4338 3800 <font color = green>00f5</font> <font color = green>f5e9</font> e94b 4b42 4238 38b2 b230 309f 9f2e 2ed2 d200 00ec ecf0 f0f6 f681 8175 75e4 e475 75d9 d9de de32 3224 2463 63fe fec2 c2b1 b104 0446 46d4 d4a0 a01e 1e26 26a0 a0d7 d727 2720 2017 1738 3854 54a6 a6f9 f988 8838 3883 8313 13da da34 345e 5ee7 e7a1 a13c 3cf9 f9cd cdb7 b7d8 d83d 3d3c 3c1e 1e54 54fb fbc1 c1a1</td>\n",
       "    </tr>\n",
       "    <tr>\n",
       "      <th>38</th>\n",
       "      <td><font color = red>8570</font> <font color = red>7097</font> 97d1 d1bd bd86 8635 35d6 d615 158a 8a80 8010 100c 0c69 69a7 a7ae ae00 0000 0001 0101 0108 080a 0a42 42a7 a7a4 a431 3100 00f6 f618 18f4 f467 670d 0dcd cdc1 c1ce cea4 a468 6801 0193 93ab abbc bcc3 c33c 3c13 1320 200d 0d11 1156 566c 6ca4 a4c9 c99c 9c1b 1b76 7625 25ae aee0 e069 6929 29e5 e5b7 b762 62d2 d2b4 b4bc</td>\n",
       "      <td><font color = cyan>851f</font> <font color = cyan>1f97</font> 97d1 d1bd bd86 8635 35d6 d615 158a 8a80 8010 100c 0c69 69a7 a7ae ae00 0000 0001 0101 0108 080a 0a42 42a7 a7a4 a431 3100 00f6 f618 18f4 f467 670d 0dcd cdc1 c1ce cea4 a468 6801 0193 93ab abbc bcc3 c33c 3c13 1320 200d 0d11 1156 566c 6ca4 a4c9 c99c 9c1b 1b76 7625 25ae aee0 e069 6929 29e5 e5b7 b762 62d2 d2b4 b4bc</td>\n",
       "    </tr>\n",
       "    <tr>\n",
       "      <th>39</th>\n",
       "      <td>f576 7600 <font color = purple>005b</font> <font color = purple>5bdd</font> ddb4 b444 4461 61bf bf38 389e 9e84 845b 5b08 0855 55e8 e8c6 c6bb bb44 44ee ee57 5758 586f 6f33 3384 84db dbdd ddc1 c1b0 b034 3476 76d7 d71b 1b0f 0f8e 8e0b 0bfe fea4 a428 2825 2521 21de de16 1678 7823 2388 88a3 a312 1262 620c 0ca7 a756 5682 82b4 b462 627d 7d86 86c8 c80e 0e26 26b5 b55f 5fc9 c9f9 f9a1</td>\n",
       "      <td>f576 7600 <font color = purple>0096</font> <font color = purple>96dd</font> ddb4 b444 4461 61bf bf38 389e 9e84 845b 5b08 0855 55e8 e8c6 c6bb bb44 44ee ee57 5758 586f 6f33 3384 84db dbdd ddc1 c1b0 b034 3476 76d7 d71b 1b0f 0f8e 8e0b 0bfe fea4 a428 2825 2521 21de de16 1678 7823 2388 88a3 a312 1262 620c 0ca7 a756 5682 82b4 b462 627d 7d86 86c8 c80e 0e26 26b5 b55f 5fc9 c9f9 f9a1</td>\n",
       "    </tr>\n",
       "    <tr>\n",
       "      <th>40</th>\n",
       "      <td><font color = red>8570</font> <font color = red>709d</font> 9d7e 7e6e 6e80 8036 3607 0779 7937 3780 8010 100c 0c69 6941 4134 3400 0000 0001 0101 0108 080a 0a42 42a8 a8db db6c 6c00 00f7 f750 5033 33a1 a1c7 c7e4 e4ec ec73 7395 9513 13af af3e 3e23 23e7 e726 260b 0b33 33f7 f736 36ef ef0a 0a77 77e7 e785 850e 0e34 343c 3cb1 b129 29d5 d5e1 e16b 6bd4 d444 4437 374b 4b56 565b</td>\n",
       "      <td><font color = cyan>85d2</font> <font color = cyan>d29d</font> 9d7e 7e6e 6e80 8036 3607 0779 7937 3780 8010 100c 0c69 6941 4134 3400 0000 0001 0101 0108 080a 0a42 42a8 a8db db6c 6c00 00f7 f750 5033 33a1 a1c7 c7e4 e4ec ec73 7395 9513 13af af3e 3e23 23e7 e726 260b 0b33 33f7 f736 36ef ef0a 0a77 77e7 e785 850e 0e34 343c 3cb1 b129 29d5 d5e1 e16b 6bd4 d444 4437 374b 4b56 565b</td>\n",
       "    </tr>\n",
       "    <tr>\n",
       "      <th>41</th>\n",
       "      <td><font color = pink>df6c</font> <font color = pink>6ccf</font> cffc fc17 1776 767e 7ed7 d7c0 c0a9 a980 8010 1008 0800 00b2 b2b1 b100 0000 0001 0101 0108 080a 0a88 88e9 e9f1 f1cb cb01 <font color = pink>0129</font> <font color = pink>2996</font> 96c9 c991 9123 235f 5ff2 f218 18b2 b22e 2e91 91f5 f5f1 f1c0 c0ea ea41 416d 6d24 2436 36f0 f098 98b2 b2fc fc36 3627 27a9 a945 45ae ae82 8291 9178 78b4 b43e 3ecf cfd4 d45b 5bd3 d300</td>\n",
       "      <td><font color = brown>df61</font> <font color = brown>61cf</font> cffc fc17 1776 767e 7ed7 d7c0 c0a9 a980 8010 1008 0800 00b2 b2b1 b100 0000 0001 0101 0108 080a 0a88 88e9 e9f1 f1cb cb01 <font color = brown>012b</font> <font color = brown>2b96</font> 96c9 c991 9123 235f 5ff2 f218 18b2 b22e 2e91 91f5 f5f1 f1c0 c0ea ea41 416d 6d24 2436 36f0 f098 98b2 b2fc fc36 3627 27a9 a945 45ae ae82 8291 9178 78b4 b43e 3ecf cfd4 d45b 5bd3 d300</td>\n",
       "    </tr>\n",
       "    <tr>\n",
       "      <th>42</th>\n",
       "      <td><font color = red>8570</font> <font color = red>709f</font> 9fd4 d4c2 c2cc cc36 361a 1aba ba35 3580 8010 100c 0c69 6950 509c 9c00 0000 0001 0101 0108 080a 0a42 42a9 a924 2484 8400 00f7 f799 994f 4f75 75c1 c164 6494 947f 7fee ee9b 9b4a 4af5 f528 28b1 b10a 0af3 f37c 7cda da88 88c8 c8e1 e103 030b 0be0 e065 6574 746b 6b3f 3f84 84a4 a41a 1ad7 d779 79aa aae7 e7df dffc fcbd</td>\n",
       "      <td><font color = cyan>851f</font> <font color = cyan>1f9f</font> 9fd4 d4c2 c2cc cc36 361a 1aba ba35 3580 8010 100c 0c69 6950 509c 9c00 0000 0001 0101 0108 080a 0a42 42a9 a924 2484 8400 00f7 f799 994f 4f75 75c1 c164 6494 947f 7fee ee9b 9b4a 4af5 f528 28b1 b10a 0af3 f37c 7cda da88 88c8 c8e1 e103 030b 0be0 e065 6574 746b 6b3f 3f84 84a4 a41a 1ad7 d779 79aa aae7 e7df dffc fcbd</td>\n",
       "    </tr>\n",
       "    <tr>\n",
       "      <th>43</th>\n",
       "      <td>01bb bb2a 2a86 86fa fa63 6390 90d3 d3b0 b072 72d0 d010 1054 541f 1f55 551e 1e00 0000 0001 0101 0108 080a 0a01 <font color = pink>010f</font> <font color = pink>0fdf</font> df54 5468 68f5 f583 830d 0d01 0101 0105 0512 1290 90db dbc2 c2ea ea90 90e6 e6fd fd86 8690 90d3 d3da da42 4290 90db db5f 5f9c</td>\n",
       "      <td>01bb bb2a 2a86 86fa fa63 6390 90d3 d3b0 b072 72d0 d010 1054 541f 1f55 551e 1e00 0000 0001 0101 0108 080a 0a01 <font color = brown>012b</font> <font color = brown>2bdf</font> df54 5468 68f5 f583 830d 0d01 0101 0105 0512 1290 90db dbc2 c2ea ea90 90e6 e6fd fd86 8690 90d3 d3da da42 4290 90db db5f 5f9c</td>\n",
       "    </tr>\n",
       "    <tr>\n",
       "      <th>44</th>\n",
       "      <td>01bb bb2a 2a86 86fa fa63 6391 9144 44ae ae38 38b0 b010 105f 5ff6 f655 5516 1600 0000 0001 0101 0108 080a 0a01 <font color = pink>010f</font> <font color = pink>0fdf</font> df76 7668 68f5 f583 839f 9f01 0101 0105 050a 0a91 9144 44f2 f22a 2a91 9145 45f2 f244</td>\n",
       "      <td>01bb bb2a 2a86 86fa fa63 6391 9144 44ae ae38 38b0 b010 105f 5ff6 f655 5516 1600 0000 0001 0101 0108 080a 0a01 <font color = brown>0133</font> <font color = brown>33df</font> df76 7668 68f5 f583 839f 9f01 0101 0105 050a 0a91 9144 44f2 f22a 2a91 9145 45f2 f244</td>\n",
       "    </tr>\n",
       "    <tr>\n",
       "      <th>45</th>\n",
       "      <td>1198 987a 7a47 4762 6222 2267 6774 745d 5d3a 3a50 5010 <font color = green>1000</font> <font color = green>00ed</font> eddd dd14 1400 0000 00dc dc39 39fc fc19 19b9 b9fc fc66 66a0 a043 43bd bdb4 b439 3982 8250 50c0 c0db dbad ad72 7238 384a 4ae8 e8ce cebb bb15 154e 4ecd cd34 347e 7e50 5058 588c 8cf6 f680 80c9 c95e 5e41 4194 9436 366a 6ab9 b904 0471 71ab ab46 46f5 f51c 1ca7</td>\n",
       "      <td>1198 987a 7a47 4762 6222 2267 6774 745d 5d3a 3a50 5010 <font color = blue>1013</font> <font color = blue>13ed</font> eddd dd14 1400 0000 00dc dc39 39fc fc19 19b9 b9fc fc66 66a0 a043 43bd bdb4 b439 3982 8250 50c0 c0db dbad ad72 7238 384a 4ae8 e8ce cebb bb15 154e 4ecd cd34 347e 7e50 5058 588c 8cf6 f680 80c9 c95e 5e41 4194 9436 366a 6ab9 b904 0471 71ab ab46 46f5 f51c 1ca7</td>\n",
       "    </tr>\n",
       "    <tr>\n",
       "      <th>46</th>\n",
       "      <td>8d8e 8e00 0000 0001 0101 0108 080a 0a1a 1aa2 a236 36ff ff00 <font color = orange>001f</font> <font color = orange>1f48</font> 480b 0b8a 8af3 f31c 1cff ff48 48cc cc1f 1fa6 a64f 4fca ca12 12c9 c91b 1b01 01c6 c6bc bc2a 2a5e 5e22 22b4 b4ca ca10 100d 0ddd dd9f 9f16 1607 07a8 a869 6965 653a 3ad8 d846 4631 3143 4361 6178 78b3 b3d9 d929 295a 5a6a 6a13 1372 722e 2e6e 6e95 95e4 e444</td>\n",
       "      <td>8d8e 8e00 0000 0001 0101 0108 080a 0a1a 1aa2 a236 36ff ff00 <font color = yellow>00c8</font> <font color = yellow>c848</font> 480b 0b8a 8af3 f31c 1cff ff48 48cc cc1f 1fa6 a64f 4fca ca12 12c9 c91b 1b01 01c6 c6bc bc2a 2a5e 5e22 22b4 b4ca ca10 100d 0ddd dd9f 9f16 1607 07a8 a869 6965 653a 3ad8 d846 4631 3143 4361 6178 78b3 b3d9 d929 295a 5a6a 6a13 1372 722e 2e6e 6e95 95e4 e444</td>\n",
       "    </tr>\n",
       "    <tr>\n",
       "      <th>47</th>\n",
       "      <td><font color = green>03e1</font> <font color = green>e17a</font> 7a32 326a 6abd bd54 54f0 f025 25d2 d250 5018 1879 7970 70f4 f455 5500 0000 0017 1703 0303 0300 002e 2e00 0000 0000 0000 0000 0000 0000 0002 02f9 f918 18ca ca3c 3c04 047b 7bf7 f70b 0b49 49a1 a190 900a 0a72 726e 6e17 17a4 a4fe fe6f 6fac ac26 2631 31aa aa88 8886 8643 43f2 f2a0 a04e 4e2f 2ff6 f686 86c0 c074 74c3</td>\n",
       "      <td><font color = blue>0340</font> <font color = blue>407a</font> 7a32 326a 6abd bd54 54f0 f025 25d2 d250 5018 1879 7970 70f4 f455 5500 0000 0017 1703 0303 0300 002e 2e00 0000 0000 0000 0000 0000 0000 0002 02f9 f918 18ca ca3c 3c04 047b 7bf7 f70b 0b49 49a1 a190 900a 0a72 726e 6e17 17a4 a4fe fe6f 6fac ac26 2631 31aa aa88 8886 8643 43f2 f2a0 a04e 4e2f 2ff6 f686 86c0 c074 74c3</td>\n",
       "    </tr>\n",
       "    <tr>\n",
       "      <th>48</th>\n",
       "      <td><font color = purple>01bb</font> <font color = purple>bb05</font> 054e 4e1e 1e0d 0d0c 0c8e 8e6b 6bb5 b582 82d8 d872 729d 9d18 18e0 e017 1782 82c4 c4e8 e872 72c4 c44e 4ed0 <font color = purple>d0a9</font> <font color = purple>a94e</font> 4ef9 f9c4 c48b 8bbe be0f 0f97 9720 201a 1a51 5189 898a 8a6e 6e73 7332 32d2 d2af af77 7701 018d 8d9d 9dac acee ee9a 9ac9 c9d5 d5bc bc1b 1b6c 6c60 60c6 c65c 5c63 639d 9d83 8375 75a6 a6fc fc80 80e8</td>\n",
       "      <td><font color = green>01d1</font> <font color = green>d105</font> 054e 4e1e 1e0d 0d0c 0c8e 8e6b 6bb5 b582 82d8 d872 729d 9d18 18e0 e017 1782 82c4 c4e8 e872 72c4 c44e 4ed0 <font color = green>d01d</font> <font color = green>1d4e</font> 4ef9 f9c4 c48b 8bbe be0f 0f97 9720 201a 1a51 5189 898a 8a6e 6e73 7332 32d2 d2af af77 7701 018d 8d9d 9dac acee ee9a 9ac9 c9d5 d5bc bc1b 1b6c 6c60 60c6 c65c 5c63 639d 9d83 8375 75a6 a6fc fc80 80e8</td>\n",
       "    </tr>\n",
       "    <tr>\n",
       "      <th>49</th>\n",
       "      <td><font color = blue>d47a</font> <font color = blue>7a01</font> 0145 4541 413d 3d3e 3eea ea54 5472 7280 8010 1000 0021 21cf cf23 2300 0000 0001 0101 0108 080a 0aaf afae ae27 2745 4501 0121 2121 21dd dd30 30aa aa02 020b 0b7b 7b31 3152 522e 2efa faa3 a347 47cf cf6b 6b69 69e9 e92e 2e60 60cd cd7a 7a6a 6ae3 e374 7496 9693 93df dff2 f27a 7adb db07 0722 2208 0807 07e6 e656 5631</td>\n",
       "      <td><font color = pink>d431</font> <font color = pink>3101</font> 0145 4541 413d 3d3e 3eea ea54 5472 7280 8010 1000 0021 21cf cf23 2300 0000 0001 0101 0108 080a 0aaf afae ae27 2745 4501 0121 2121 21dd dd30 30aa aa02 020b 0b7b 7b31 3152 522e 2efa faa3 a347 47cf cf6b 6b69 69e9 e92e 2e60 60cd cd7a 7a6a 6ae3 e374 7496 9693 93df dff2 f27a 7adb db07 0722 2208 0807 07e6 e656 5631</td>\n",
       "    </tr>\n",
       "    <tr>\n",
       "      <th>50</th>\n",
       "      <td>ea98 9818 1869 6989 89e4 e496 965a 5a60 60d4 d480 8010 1008 0800 0026 26eb eb00 0000 0001 0101 0108 080a 0a51 514c 4cc6 c681 8101 <font color = pink>0127</font> <font color = pink>2722</font> 223d 3d63 6388 88ff ff9e 9e35 35bf bf3d 3dcc ccce ce14 148e 8ea8 a83f 3f12 1200 00dc dc81 814a 4ad0 d0b9 b9f9 f91e 1ed4 d4b8 b811 11e9 e953 53ff ff41 41ed ed4f 4f28 28c9 c9bf bfbd</td>\n",
       "      <td>ea98 9818 1869 6989 89e4 e496 965a 5a60 60d4 d480 8010 1008 0800 0026 26eb eb00 0000 0001 0101 0108 080a 0a51 514c 4cc6 c681 8101 <font color = blue>0122</font> <font color = blue>2222</font> 223d 3d63 6388 88ff ff9e 9e35 35bf bf3d 3dcc ccce ce14 148e 8ea8 a83f 3f12 1200 00dc dc81 814a 4ad0 d0b9 b9f9 f91e 1ed4 d4b8 b811 11e9 e953 53ff ff41 41ed ed4f 4f28 28c9 c9bf bfbd</td>\n",
       "    </tr>\n",
       "    <tr>\n",
       "      <th>51</th>\n",
       "      <td><font color = yellow>851f</font> <font color = yellow>1f00</font> 007b 7be1 e120 2090 <font color = yellow>906f</font> <font color = yellow>6f4b</font> 4b14 <font color = yellow>1458</font> <font color = yellow>58ea</font> <font color = yellow>ead5</font> <font color = yellow>d5bf</font> bf4f 4f81 8175 7573 73be bede de00 0002 0210 1088 8800 0000 0032 327b 7b79 79c1 c1ff ffab abcf cf46 4694 947a 7a4e 4e11 11b0 b01b 1ba4 a45e 5e29 29f6 f609 091e 1e80 8094 940a 0ab4 b409 09d3 d385 8534 34af af4a 4ac3 c364 6462 626d 6d44 4464 6470 7073 7357</td>\n",
       "      <td><font color = purple>85b2</font> <font color = purple>b200</font> 007b 7be1 e120 2090 <font color = purple>905e</font> <font color = purple>5e4b</font> 4b14 <font color = purple>1474</font> <font color = purple>74ea</font> <font color = purple>eae0</font> <font color = purple>e0bf</font> bf4f 4f81 8175 7573 73be bede de00 0002 0210 1088 8800 0000 0032 327b 7b79 79c1 c1ff ffab abcf cf46 4694 947a 7a4e 4e11 11b0 b01b 1ba4 a45e 5e29 29f6 f609 091e 1e80 8094 940a 0ab4 b409 09d3 d385 8534 34af af4a 4ac3 c364 6462 626d 6d44 4464 6470 7073 7357</td>\n",
       "    </tr>\n",
       "    <tr>\n",
       "      <th>52</th>\n",
       "      <td><font color = gray>ac4a</font> <font color = gray>4a00</font> 0023 231f 1f77 7759 59d1 d16d 6d02 02b1 b114 1414 142d 2db4 b4e3 e3b7 b742 4215 158a 8a97 979e 9e19 1926 26f0 f04b 4bdb dbb8 b8dc dc94 9428 281a 1ad5</td>\n",
       "      <td><font color = green>ac00</font> <font color = green>0000</font> 0023 231f 1f77 7759 59d1 d16d 6d02 02b1 b114 1414 142d 2db4 b4e3 e3b7 b742 4215 158a 8a97 979e 9e19 1926 26f0 f04b 4bdb dbb8 b8dc dc94 9428 281a 1ad5</td>\n",
       "    </tr>\n",
       "    <tr>\n",
       "      <th>53</th>\n",
       "      <td>074e 4e00 0000 0001 0101 0108 080a 0a1a 1aa1 a1c3 c3ba ba00 <font color = orange>001e</font> <font color = orange>1ed4</font> d4c7 c7a1 a16f 6f69 699b 9b1b 1bef efae ae95 9560 60f3 f354 5404 0429 2984 8487 8711 11e0 e0bd bd58 58d0 d0db db39 3937 3770 7086 862a 2ad5 d522 2227 27c7 c70c 0c31 31d3 d39f 9fed edea ea69 697e 7e10 102b 2b8b 8b3f 3f8f 8fad ad07 078d 8d9a 9a7f 7f28</td>\n",
       "      <td>074e 4e00 0000 0001 0101 0108 080a 0a1a 1aa1 a1c3 c3ba ba00 <font color = yellow>00af</font> <font color = yellow>afd4</font> d4c7 c7a1 a16f 6f69 699b 9b1b 1bef efae ae95 9560 60f3 f354 5404 0429 2984 8487 8711 11e0 e0bd bd58 58d0 d0db db39 3937 3770 7086 862a 2ad5 d522 2227 27c7 c70c 0c31 31d3 d39f 9fed edea ea69 697e 7e10 102b 2b8b 8b3f 3f8f 8fad ad07 078d 8d9a 9a7f 7f28</td>\n",
       "    </tr>\n",
       "    <tr>\n",
       "      <th>54</th>\n",
       "      <td>1097 97ab ab8f 8fd0 d032 32c6 c6a2 a26d 6dc7 c750 5010 <font color = green>1000</font> <font color = green>00f5</font> <font color = green>f5d6</font> d69c 9c00 0000 0017 173d 3d53 5328 28e0 e0ab ab19 1929 295c 5c82 82d6 d67f 7f5d 5d8b 8bab ab69 6977 776a 6a99 9932 3262 62de de8d 8d04 045d 5d7a 7a37 37db db68 6848 4842 4240 400e 0ec5 c527 271b 1b56 563e 3e3b 3b58 5841 4151 51ef ef63 6306 060c 0c4b</td>\n",
       "      <td>1097 97ab ab8f 8fd0 d032 32c6 c6a2 a26d 6dc7 c750 5010 <font color = green>100b</font> <font color = green>0b1e</font> <font color = green>1ed6</font> d69c 9c00 0000 0017 173d 3d53 5328 28e0 e0ab ab19 1929 295c 5c82 82d6 d67f 7f5d 5d8b 8bab ab69 6977 776a 6a99 9932 3262 62de de8d 8d04 045d 5d7a 7a37 37db db68 6848 4842 4240 400e 0ec5 c527 271b 1b56 563e 3e3b 3b58 5841 4151 51ef ef63 6306 060c 0c4b</td>\n",
       "    </tr>\n",
       "    <tr>\n",
       "      <th>55</th>\n",
       "      <td>7772 7200 0000 0001 0101 0108 080a 0a00 <font color = orange>001e</font> <font color = orange>1e0e</font> 0e0b 0b1a 1aa0 a0fc fcc4 c4a4 a40b 0bed edf5 f5cd cd96 968e 8ead ade5 e584 84a7 a75c 5ca3 a34c 4cbc bc7b 7bc2 c2ed edc4 c4de deea eabb bb9b 9bbd bdd2 d277 7731 3157 57b0 b05d 5d44 4444 447d 7d3c 3c0a 0af8 f82b 2b14 1477 773b 3b7f 7fb0 b00e 0e1d 1dcf cf55 55d0 d083 8399</td>\n",
       "      <td>7772 7200 0000 0001 0101 0108 080a 0a00 <font color = yellow>0022</font> <font color = yellow>220e</font> 0e0b 0b1a 1aa0 a0fc fcc4 c4a4 a40b 0bed edf5 f5cd cd96 968e 8ead ade5 e584 84a7 a75c 5ca3 a34c 4cbc bc7b 7bc2 c2ed edc4 c4de deea eabb bb9b 9bbd bdd2 d277 7731 3157 57b0 b05d 5d44 4444 447d 7d3c 3c0a 0af8 f82b 2b14 1477 773b 3b7f 7fb0 b00e 0e1d 1dcf cf55 55d0 d083 8399</td>\n",
       "    </tr>\n",
       "    <tr>\n",
       "      <th>56</th>\n",
       "      <td>649a 9a00 0000 0001 0101 0108 080a 0a00 <font color = orange>001d</font> <font color = orange>1d7d</font> 7d3c 3c1a 1aa0 a06b 6b8b 8b01 0101 0105 050a 0a78 7876 7639 397c 7c78 7876 763e 3e98 9808 080d 0d12 1288 88fd fdad adb3 b318 18a7 a781 8192 924b 4b57 57fc fc17 178e 8ef4 f474 749e 9e42 4269 69bc bc25 2507</td>\n",
       "      <td>649a 9a00 0000 0001 0101 0108 080a 0a00 <font color = yellow>00ab</font> <font color = yellow>ab7d</font> 7d3c 3c1a 1aa0 a06b 6b8b 8b01 0101 0105 050a 0a78 7876 7639 397c 7c78 7876 763e 3e98 9808 080d 0d12 1288 88fd fdad adb3 b318 18a7 a781 8192 924b 4b57 57fc fc17 178e 8ef4 f474 749e 9e42 4269 69bc bc25 2507</td>\n",
       "    </tr>\n",
       "    <tr>\n",
       "      <th>57</th>\n",
       "      <td>0227 <font color = yellow>2700</font> <font color = yellow>0000</font> 0001 0101 0108 080a <font color = yellow>0a00</font> <font color = yellow>0022</font> 2229 2973 731a <font color = yellow>1aa4</font> <font color = yellow>a4df</font> dfb2 b23d 3d8b 8b87 87c4 c484 84f4 f401 01e4 e4d8 d8fb fbd3 d398 98a5 a50e 0e07 07fc fca7 a70d 0d01 01a5 a5ac ac62 62b5 b50e 0e7e 7e2e 2ef7 f7aa aaa3 a3dc dc90 90ef ef54 546a 6ac7 c7c8 c8cd cde7 e717 1766 6646 467d 7d76 7607 <font color = yellow>07ce</font> <font color = yellow>ceed</font> ed8b 8b28 2877</td>\n",
       "      <td>0227 <font color = orange>2756</font> <font color = orange>5600</font> 0001 0101 0108 080a <font color = orange>0a55</font> <font color = orange>5522</font> 2229 2973 731a <font color = orange>1aa0</font> <font color = orange>a0df</font> dfb2 b23d 3d8b 8b87 87c4 c484 84f4 f401 01e4 e4d8 d8fb fbd3 d398 98a5 a50e 0e07 07fc fca7 a70d 0d01 01a5 a5ac ac62 62b5 b50e 0e7e 7e2e 2ef7 f7aa aaa3 a3dc dc90 90ef ef54 546a 6ac7 c7c8 c8cd cde7 e717 1766 6646 467d 7d76 7607 <font color = orange>0751</font> <font color = orange>51ed</font> ed8b 8b28 2877</td>\n",
       "    </tr>\n",
       "    <tr>\n",
       "      <th>58</th>\n",
       "      <td><font color = brown>a8e8</font> <font color = brown>e8c7</font> c7ed ed97 97ed ed9f 9fdc dc2e 2e4a 4a80 8018 1805 <font color = brown>0528</font> <font color = brown>28aa</font> aa80 8000 0000 0001 0101 0108 080a 0aac ac91 912c 2cd7 d701 0139 3987 878a 8ade de5d 5d51 5139 39a7 a77d 7d46 463c 3c1b 1b0a 0aab ab63 63c8 c884 84bc bc5e 5e0e 0e7f 7f61 6177 77d2 d288 8860 60e0 e087 8774 74c0 c011 1164 6417 1730 3006 0682 821d 1d3e</td>\n",
       "      <td><font color = cyan>a831</font> <font color = cyan>31c7</font> c7ed ed97 97ed ed9f 9fdc dc2e 2e4a 4a80 8018 1805 <font color = cyan>05dc</font> <font color = cyan>dcaa</font> aa80 8000 0000 0001 0101 0108 080a 0aac ac91 912c 2cd7 d701 0139 3987 878a 8ade de5d 5d51 5139 39a7 a77d 7d46 463c 3c1b 1b0a 0aab ab63 63c8 c884 84bc bc5e 5e0e 0e7f 7f61 6177 77d2 d288 8860 60e0 e087 8774 74c0 c011 1164 6417 1730 3006 0682 821d 1d3e</td>\n",
       "    </tr>\n",
       "    <tr>\n",
       "      <th>59</th>\n",
       "      <td>d523 23a3 a334 34a4 a49b 9b1e 1eba ba7b 7b69 6980 8010 1002 0278 7859 59f9 f900 0000 0001 0101 0108 080a 0a4f 4f49 499c 9c85 8501 <font color = pink>0115</font> <font color = pink>1567</font> 67c5 c558 5810 107d 7d87 8700 0040 40e8 e8f7 f7bb bb3e 3ef7 f739 391f 1f22 2277 77ea ea11 1162 62ca ca7e 7e98 98f0 f005 056d 6d88 88f0 f089 8948 484d 4db2 b2de de16 16eb eba3 a3a9</td>\n",
       "      <td>d523 23a3 a334 34a4 a49b 9b1e 1eba ba7b 7b69 6980 8010 1002 0278 7859 59f9 f900 0000 0001 0101 0108 080a 0a4f 4f49 499c 9c85 8501 <font color = brown>0130</font> <font color = brown>3067</font> 67c5 c558 5810 107d 7d87 8700 0040 40e8 e8f7 f7bb bb3e 3ef7 f739 391f 1f22 2277 77ea ea11 1162 62ca ca7e 7e98 98f0 f005 056d 6d88 88f0 f089 8948 484d 4db2 b2de de16 16eb eba3 a3a9</td>\n",
       "    </tr>\n",
       "    <tr>\n",
       "      <th>60</th>\n",
       "      <td><font color = blue>d47a</font> <font color = blue>7aff</font> ff69 697e 7ea7 a73e 3eea ea54 5472 7280 8010 1000 0021 21c9 c9e9 e900 0000 0001 0101 <font color = blue>0108</font> <font color = blue>080a</font> 0aaf afad adb5 b525 2501 0120 20af afbd bd4f 4f61 61e3 e3b5 b5df dfdc dcd9 d9af afcd cd30 3035 355a 5ab6 b6bd bd90 9084 84be be66 66b2 b279 79e4 e436 3659 592a 2a95 9592 9244 4452 520a 0ae4 e426 26b9 b982 8274 74d4</td>\n",
       "      <td><font color = yellow>d431</font> <font color = yellow>31ff</font> ff69 697e 7ea7 a73e 3eea ea54 5472 7280 8010 1000 0021 21c9 c9e9 e900 0000 0001 0101 <font color = yellow>019a</font> <font color = yellow>9a0a</font> 0aaf afad adb5 b525 2501 0120 20af afbd bd4f 4f61 61e3 e3b5 b5df dfdc dcd9 d9af afcd cd30 3035 355a 5ab6 b6bd bd90 9084 84be be66 66b2 b279 79e4 e436 3659 592a 2a95 9592 9244 4452 520a 0ae4 e426 26b9 b982 8274 74d4</td>\n",
       "    </tr>\n",
       "    <tr>\n",
       "      <th>61</th>\n",
       "      <td>11d2 d219 1993 93b0 b0f9 f9f9 f926 26cd cdfe fe50 5010 <font color = green>1000</font> <font color = green>00ed</font> ed7e 7e9e 9e00 0000 00b5 b509 0998 9862 6274 7402 0273 7360 6015 1538 38b3 b374 74e3 e328 2829 29f6 f62e 2e69 69a5 a5c6 c6c2 c2ae ae26 26a5 a58d 8d24 2403 035d 5d21 2182 820f 0f25 253c 3cba bacc cce8 e8cf cf4b 4b65 6544 449f 9fe9 e9f5 f5d6 d67b 7b5d 5daa</td>\n",
       "      <td>11d2 d219 1993 93b0 b0f9 f9f9 f926 26cd cdfe fe50 5010 <font color = red>1013</font> <font color = red>13ed</font> ed7e 7e9e 9e00 0000 00b5 b509 0998 9862 6274 7402 0273 7360 6015 1538 38b3 b374 74e3 e328 2829 29f6 f62e 2e69 69a5 a5c6 c6c2 c2ae ae26 26a5 a58d 8d24 2403 035d 5d21 2182 820f 0f25 253c 3cba bacc cce8 e8cf cf4b 4b65 6544 449f 9fe9 e9f5 f5d6 d67b 7b5d 5daa</td>\n",
       "    </tr>\n",
       "    <tr>\n",
       "      <th>62</th>\n",
       "      <td>3bbb bb00 0000 0001 0101 <font color = yellow>0108</font> <font color = yellow>080a</font> 0a1a 1aa6 <font color = yellow>a63b</font> <font color = yellow>3ba4</font> a400 <font color = yellow>0023</font> <font color = yellow>2385</font> 852a 2abf bf0f 0fae ae32 3273 7341 41a8 a85f 5ffd fd49 4965 655f 5fee eecc cc36 36d2 d2da dadf df44 4459 5936 36fc fccc ccad <font color = yellow>ada4</font> <font color = yellow>a492</font> 9214 14be be83 83a0 a0b0 b09b <font color = yellow>9b5e</font> <font color = yellow>5e9d</font> 9d48 4802 023b 3b21 21cc cc82 8209 090f 0f68 68f0 f0de de20 2074 74d7 d756</td>\n",
       "      <td>3bbb bb00 0000 0001 0101 <font color = orange>012b</font> <font color = orange>2b0a</font> 0a1a 1aa6 <font color = orange>a68a</font> <font color = orange>8aa4</font> a400 <font color = orange>001d</font> <font color = orange>1d85</font> 852a 2abf bf0f 0fae ae32 3273 7341 41a8 a85f 5ffd fd49 4965 655f 5fee eecc cc36 36d2 d2da dadf df44 4459 5936 36fc fccc ccad <font color = orange>ad66</font> <font color = orange>6692</font> 9214 14be be83 83a0 a0b0 b09b <font color = orange>9ba2</font> <font color = orange>a29d</font> 9d48 4802 023b 3b21 21cc cc82 8209 090f 0f68 68f0 f0de de20 2074 74d7 d756</td>\n",
       "    </tr>\n",
       "    <tr>\n",
       "      <th>63</th>\n",
       "      <td><font color = blue>8581</font> <font color = blue>813a</font> 3af1 f15b 5b94 94bd bd3b 3b03 038f 8f80 8010 1002 0229 295c 5c72 7200 0000 0001 0101 0108 080a 0ab0 b03a 3a56 5652 5201 <font color = blue>011c</font> <font color = blue>1cb0</font> b0d4 d438 3805 0552 52a2 a225 253d 3d32 322c 2cd5 d5c5 c553 5359 59e6 e66c 6cca ca00 000c 0c4b 4b14 1423 234a 4a4c 4c8f 8fde dea6 a6d1 d172 729b 9b7e 7ef1 f11a 1a8b 8b71 71bc bc77</td>\n",
       "      <td><font color = red>8570</font> <font color = red>703a</font> 3af1 f15b 5b94 94bd bd3b 3b03 038f 8f80 8010 1002 0229 295c 5c72 7200 0000 0001 0101 0108 080a 0ab0 b03a 3a56 5652 5201 <font color = red>01c5</font> <font color = red>c5b0</font> b0d4 d438 3805 0552 52a2 a225 253d 3d32 322c 2cd5 d5c5 c553 5359 59e6 e66c 6cca ca00 000c 0c4b 4b14 1423 234a 4a4c 4c8f 8fde dea6 a6d1 d172 729b 9b7e 7ef1 f11a 1a8b 8b71 71bc bc77</td>\n",
       "    </tr>\n",
       "    <tr>\n",
       "      <th>64</th>\n",
       "      <td>df6c 6ccb cb4f 4fd9 d9b5 b57e 7ed6 d6bf bf50 5080 8010 1008 0800 0017 174c 4c00 0000 0001 0101 0108 080a 0a88 88e7 e73e 3e0c 0c01 <font color = pink>0128</font> <font color = pink>28e9</font> e9da da4b 4b6d 6d73 735f 5f2e 2eab ab85 8570 700c 0c82 829c 9cdd dd87 8792 92c3 c3ce cea7 a782 828f 8f1d 1d32 32fa faec ec4f 4f35 35ca ca0a 0a2b 2bbb bb1b 1b70 7019 191a 1a05 0555</td>\n",
       "      <td>df6c 6ccb cb4f 4fd9 d9b5 b57e 7ed6 d6bf bf50 5080 8010 1008 0800 0017 174c 4c00 0000 0001 0101 0108 080a 0a88 88e7 e73e 3e0c 0c01 <font color = brown>012b</font> <font color = brown>2be9</font> e9da da4b 4b6d 6d73 735f 5f2e 2eab ab85 8570 700c 0c82 829c 9cdd dd87 8792 92c3 c3ce cea7 a782 828f 8f1d 1d32 32fa faec ec4f 4f35 35ca ca0a 0a2b 2bbb bb1b 1b70 7019 191a 1a05 0555</td>\n",
       "    </tr>\n",
       "    <tr>\n",
       "      <th>65</th>\n",
       "      <td><font color = gray>ac4a</font> <font color = gray>4a05</font> 0562 6285 85b2 b2e1 e1a6 a62d 2d79 791f 1fc2 c2b3 b3bb bb20 2077 773a 3a80 8092 9228 289e 9eb1 b15f 5f7c 7c4b 4bdd ddba bab9 b99f 9f1f 1f32 320f 0fd8 d888 8805 052b 2bee eef9 f906 062f 2f4f 4f49 49f0 f07a 7a91 91f4 f42c 2c01 0187 87af afe0 e0a9 a959 59a4 a4b8 b80f 0f46 467d 7de9 e9cc cc64 6409 092c 2cc2 c285</td>\n",
       "      <td><font color = green>ac8f</font> <font color = green>8f05</font> 0562 6285 85b2 b2e1 e1a6 a62d 2d79 791f 1fc2 c2b3 b3bb bb20 2077 773a 3a80 8092 9228 289e 9eb1 b15f 5f7c 7c4b 4bdd ddba bab9 b99f 9f1f 1f32 320f 0fd8 d888 8805 052b 2bee eef9 f906 062f 2f4f 4f49 49f0 f07a 7a91 91f4 f42c 2c01 0187 87af afe0 e0a9 a959 59a4 a4b8 b80f 0f46 467d 7de9 e9cc cc64 6409 092c 2cc2 c285</td>\n",
       "    </tr>\n",
       "    <tr>\n",
       "      <th>66</th>\n",
       "      <td>ea98 981a 1af3 f396 9614 1496 965a 5aac ac2f 2f80 8010 1008 0800 0021 21b1 b100 0000 0001 0101 0108 080a 0a51 514d 4d20 204d 4d01 <font color = pink>0127</font> <font color = pink>2738</font> 38b0 b06f 6f5c 5c09 099b 9b7c 7c87 8715 15aa aa3f 3fc2 c27b 7bd1 d145 45ae ae42 423b 3bb7 b7df df3f 3fb5 b5ee eea9 a949 4991 91c2 c2e3 e3da dad3 d3c2 c29f 9f86 86bd bd7f 7fe2 e2c2</td>\n",
       "      <td>ea98 981a 1af3 f396 9614 1496 965a 5aac ac2f 2f80 8010 1008 0800 0021 21b1 b100 0000 0001 0101 0108 080a 0a51 514d 4d20 204d 4d01 <font color = cyan>0100</font> <font color = cyan>0038</font> 38b0 b06f 6f5c 5c09 099b 9b7c 7c87 8715 15aa aa3f 3fc2 c27b 7bd1 d145 45ae ae42 423b 3bb7 b7df df3f 3fb5 b5ee eea9 a949 4991 91c2 c2e3 e3da dad3 d3c2 c29f 9f86 86bd bd7f 7fe2 e2c2</td>\n",
       "    </tr>\n",
       "    <tr>\n",
       "      <th>67</th>\n",
       "      <td>7f27 2700 <font color = purple>005b</font> <font color = purple>5bd1</font> d1ed ed47 4749 4995 9529 29c5 c5bf bf6f 6f6f 6f12 124d 4db5 b5e8 e81f 1f1d 1d1a 1ae0 e0b9 b9e4 e490 90a5 a569 6910 10b1 b144 44a9 a9bd bdaa aaa8 a84b 4bcd cd72 723a 3af6 f699 99c3 c324 2492 9215 1527 278d 8d19 19e2 e2eb eb3d 3d16 162a 2a5d 5d66 66c4 c4a7 a75e 5e24 24c0 c0eb eb9e 9efa fa5a 5aea ea9f</td>\n",
       "      <td>7f27 2700 <font color = green>0072</font> <font color = green>72d1</font> d1ed ed47 4749 4995 9529 29c5 c5bf bf6f 6f6f 6f12 124d 4db5 b5e8 e81f 1f1d 1d1a 1ae0 e0b9 b9e4 e490 90a5 a569 6910 10b1 b144 44a9 a9bd bdaa aaa8 a84b 4bcd cd72 723a 3af6 f699 99c3 c324 2492 9215 1527 278d 8d19 19e2 e2eb eb3d 3d16 162a 2a5d 5d66 66c4 c4a7 a75e 5e24 24c0 c0eb eb9e 9efa fa5a 5aea ea9f</td>\n",
       "    </tr>\n",
       "    <tr>\n",
       "      <th>68</th>\n",
       "      <td>7c1d 1d52 52eb ebad ad88 8888 8813 13b1 b196 9650 5018 1840 4000 0049 4942 4200 0000 002a 2a02 0262 6296 9600 0020 2000 0004 0400 0014 1400 0000 0087 8775 7544 44af af00 0000 0000 0000 0000 0000 0000 0000 0000 0001 <font color = orange>0109</font> <font color = orange>0936</font> 3635 3532 3238 3836 3634 3434 3430 3030 3000 0000</td>\n",
       "      <td>7c1d 1d52 52eb ebad ad88 8888 8813 13b1 b196 9650 5018 1840 4000 0049 4942 4200 0000 002a 2a02 0262 6296 9600 0020 2000 0004 0400 0014 1400 0000 0087 8775 7544 44af af00 0000 0000 0000 0000 0000 0000 0000 0000 0001 <font color = red>01bb</font> <font color = red>bb36</font> 3635 3532 3238 3836 3634 3434 3430 3030 3000 0000</td>\n",
       "    </tr>\n",
       "    <tr>\n",
       "      <th>69</th>\n",
       "      <td>de2a 2aa3 a33e 3ea7 a730 309d 9db9 b9b3 b36e 6e80 8010 1001 0121 2169 69f0 f000 0000 0001 0101 0108 080a 0a4f 4f45 4541 41c7 c701 <font color = pink>010f</font> <font color = pink>0ffe</font> fef8 f832 321a 1ad2 d23a 3a6c 6ca4 a473 735e 5e6b 6b94 949f 9f09 09a9 a9ac ac28 2838 38a9 a99c 9c6c 6cb9 b987 87b2 b289 8957 578a 8ac8 c80d 0d5f 5f95 9551 51d5 d5ba ba35 35cc cc8f</td>\n",
       "      <td>de2a 2aa3 a33e 3ea7 a730 309d 9db9 b9b3 b36e 6e80 8010 1001 0121 2169 69f0 f000 0000 0001 0101 0108 080a 0a4f 4f45 4541 41c7 c701 <font color = brown>0130</font> <font color = brown>30fe</font> fef8 f832 321a 1ad2 d23a 3a6c 6ca4 a473 735e 5e6b 6b94 949f 9f09 09a9 a9ac ac28 2838 38a9 a99c 9c6c 6cb9 b987 87b2 b289 8957 578a 8ac8 c80d 0d5f 5f95 9551 51d5 d5ba ba35 35cc cc8f</td>\n",
       "    </tr>\n",
       "    <tr>\n",
       "      <th>70</th>\n",
       "      <td>a8e8 e8c8 c817 1777 77f6 f69f 9fdc dc37 37a9 a980 8010 1005 0528 28a0 a08c 8c00 0000 0001 0101 0108 080a 0aac ac93 93d9 d939 3901 <font color = brown>013a</font> <font color = brown>3a32</font> 32af affb fbcd cd8a 8a24 2457 5774 7410 1038 38d2 d275 75c9 c962 6278 7819 19ec ec8b 8b9f 9f88 8873 73b3 b391 914a 4a31 31dd ddc7 c736 36fc fc16 16da da70 70c6 c681 81c0 c0e2 e2ec</td>\n",
       "      <td>a8e8 e8c8 c817 1777 77f6 f69f 9fdc dc37 37a9 a980 8010 1005 0528 28a0 a08c 8c00 0000 0001 0101 0108 080a 0aac ac93 93d9 d939 3901 <font color = pink>0111</font> <font color = pink>1132</font> 32af affb fbcd cd8a 8a24 2457 5774 7410 1038 38d2 d275 75c9 c962 6278 7819 19ec ec8b 8b9f 9f88 8873 73b3 b391 914a 4a31 31dd ddc7 c736 36fc fc16 16da da70 70c6 c681 81c0 c0e2 e2ec</td>\n",
       "    </tr>\n",
       "    <tr>\n",
       "      <th>71</th>\n",
       "      <td>f576 7600 <font color = purple>005b</font> <font color = purple>5b2f</font> 2ff1 f144 44a1 a1ed ed29 298e 8e84 84c2 c291 91fc fc51 51fe fe80 807e 7ee5 e55f 5fd8 d8ee eeb2 b294 946b 6b6e 6e62 6233 3385 8564 6454 5439 391f 1f14 14a0 a04e 4e2d 2d20 201c 1c38 3845 45bf bff0 f028 2888 8821 21b0 b0db db1d 1de4 e477 77b3 b324 24e3 e365 65b7 b7d1 d194 949d 9d0f 0fcf cfc8 c8e0 e0a1</td>\n",
       "      <td>f576 7600 <font color = green>001a</font> <font color = green>1a2f</font> 2ff1 f144 44a1 a1ed ed29 298e 8e84 84c2 c291 91fc fc51 51fe fe80 807e 7ee5 e55f 5fd8 d8ee eeb2 b294 946b 6b6e 6e62 6233 3385 8564 6454 5439 391f 1f14 14a0 a04e 4e2d 2d20 201c 1c38 3845 45bf bff0 f028 2888 8821 21b0 b0db db1d 1de4 e477 77b3 b324 24e3 e365 65b7 b7d1 d194 949d 9d0f 0fcf cfc8 c8e0 e0a1</td>\n",
       "    </tr>\n",
       "    <tr>\n",
       "      <th>72</th>\n",
       "      <td><font color = green>ca19</font> <font color = green>192b</font> <font color = green>2b0a</font> 0aca ca9d 9d20 20e6 e686 86b8 b850 5018 <font color = green>18ff</font> <font color = green>ffff</font> ff99 9980 8000 0000 0017 1703 0303 0305 0533 3300 0000 0000 0000 0000 0000 0000 0056 56f5 f5f4 f4d1 d11d 1de4 e4ff ff86 8649 4937 3743 43c0 c003 0397 975e 5e87 87a2 a212 1298 98ee eec5 c579 793f 3fbc bc2f 2fe0 e0c2 c2d7 d7f7 <font color = green>f7ff</font> <font color = green>ffb3</font> b353 537a 7a17 17cf</td>\n",
       "      <td><font color = blue>ca35</font> <font color = blue>35de</font> <font color = blue>de0a</font> 0aca ca9d 9d20 20e6 e686 86b8 b850 5018 <font color = blue>1827</font> <font color = blue>27ff</font> ff99 9980 8000 0000 0017 1703 0303 0305 0533 3300 0000 0000 0000 0000 0000 0000 0056 56f5 f5f4 f4d1 d11d 1de4 e4ff ff86 8649 4937 3743 43c0 c003 0397 975e 5e87 87a2 a212 1298 98ee eec5 c579 793f 3fbc bc2f 2fe0 e0c2 c2d7 d7f7 <font color = blue>f796</font> <font color = blue>96b3</font> b353 537a 7a17 17cf</td>\n",
       "    </tr>\n",
       "    <tr>\n",
       "      <th>73</th>\n",
       "      <td>df6c 6cce ce3c 3c18 1816 167e 7ed7 d756 5614 1480 8010 1008 0800 001c 1c86 8600 0000 0001 0101 0108 080a 0a88 88e7 e7ea ea5c 5c01 <font color = pink>0129</font> <font color = pink>2914</font> 14ee eed1 d1d8 d863 6358 5819 1909 096f 6ff5 f5b8 b8af af13 135d 5d5e 5e67 678b 8b07 07a2 a21a 1adf dff0 f01d 1d0f 0fa1 a1a0 a05d 5d09 0923 233c 3cfa fa5f 5fd7 d751 5195 95e5 e55d</td>\n",
       "      <td>df6c 6cce ce3c 3c18 1816 167e 7ed7 d756 5614 1480 8010 1008 0800 001c 1c86 8600 0000 0001 0101 0108 080a 0a88 88e7 e7ea ea5c 5c01 <font color = brown>012b</font> <font color = brown>2b14</font> 14ee eed1 d1d8 d863 6358 5819 1909 096f 6ff5 f5b8 b8af af13 135d 5d5e 5e67 678b 8b07 07a2 a21a 1adf dff0 f01d 1d0f 0fa1 a1a0 a05d 5d09 0923 233c 3cfa fa5f 5fd7 d751 5195 95e5 e55d</td>\n",
       "    </tr>\n",
       "    <tr>\n",
       "      <th>74</th>\n",
       "      <td>0364 6400 0000 0001 0101 0108 080a 0a00 <font color = orange>001d</font> <font color = orange>1db3</font> b336 361a 1aa0 a0a1 a1ed edb5 b58d 8dd2 d273 730b 0b7c 7c6a 6a53 532b 2b74 74e1 e11e 1eec ec05 05c1 c1ef ef13 1352 5225 2553 53eb eba3 a3ec ecbb bbb8 b866 6608 0848 4828 28e5 e5ab ab5d 5d85 8512 12ab ab62 6220 2006 06ee ee18 18b6 b6b0 b0c4 c4cf cff7 f70d 0d00 00b7 b76a</td>\n",
       "      <td>0364 6400 0000 0001 0101 0108 080a 0a00 <font color = yellow>000d</font> <font color = yellow>0db3</font> b336 361a 1aa0 a0a1 a1ed edb5 b58d 8dd2 d273 730b 0b7c 7c6a 6a53 532b 2b74 74e1 e11e 1eec ec05 05c1 c1ef ef13 1352 5225 2553 53eb eba3 a3ec ecbb bbb8 b866 6608 0848 4828 28e5 e5ab ab5d 5d85 8512 12ab ab62 6220 2006 06ee ee18 18b6 b6b0 b0c4 c4cf cff7 f70d 0d00 00b7 b76a</td>\n",
       "    </tr>\n",
       "    <tr>\n",
       "      <th>75</th>\n",
       "      <td>859b 9b43 43f4 f4a3 a3a1 a161 61fd fd49 49d6 d680 8018 1802 0214 1429 298f 8f00 0000 0001 0101 0108 080a 0ab0 b041 4137 3707 0701 <font color = blue>011e</font> <font color = blue>1e69</font> 6901 0131 3139 397e 7e4a 4a57 5768 6893 9367 6787 870d 0d92 9225 2505 05ac ac5c 5cbe beb4 b464 64f4 f4f8 f892 9279 799c 9c14 145f 5f83 83cc ccb6 b6f6 f6d1 d144 44c2 c2ee ee49 49a3</td>\n",
       "      <td>859b 9b43 43f4 f4a3 a3a1 a161 61fd fd49 49d6 d680 8018 1802 0214 1429 298f 8f00 0000 0001 0101 0108 080a 0ab0 b041 4137 3707 0701 <font color = brown>0131</font> <font color = brown>3169</font> 6901 0131 3139 397e 7e4a 4a57 5768 6893 9367 6787 870d 0d92 9225 2505 05ac ac5c 5cbe beb4 b464 64f4 f4f8 f892 9279 799c 9c14 145f 5f83 83cc ccb6 b6f6 f6d1 d144 44c2 c2ee ee49 49a3</td>\n",
       "    </tr>\n",
       "    <tr>\n",
       "      <th>76</th>\n",
       "      <td><font color = cyan>0016</font> <font color = cyan>168b</font> 8bb6 b6dc dcfd fd13 13e6 e667 672d 2d80 8010 1001 010e 0e6a 6ab3 b300 0000 0001 0101 0108 080a 0a00 00d2 d211 11d9 d94e 4e50 504c 4ce8 e84e 4e8b 8b00 0072 72c6 c653 5349 4950 500e 0e76 76b0 b001 018c 8c25 2573 7303 0327 2745 45c4 c480 8035 35e5 e5b9 b92c 2c7e 7ef9 f933 330b 0b05 0533 33b2 b2e3 e351 51c9 c905</td>\n",
       "      <td><font color = green>00ad</font> <font color = green>ad8b</font> 8bb6 b6dc dcfd fd13 13e6 e667 672d 2d80 8010 1001 010e 0e6a 6ab3 b300 0000 0001 0101 0108 080a 0a00 00d2 d211 11d9 d94e 4e50 504c 4ce8 e84e 4e8b 8b00 0072 72c6 c653 5349 4950 500e 0e76 76b0 b001 018c 8c25 2573 7303 0327 2745 45c4 c480 8035 35e5 e5b9 b92c 2c7e 7ef9 f933 330b 0b05 0533 33b2 b2e3 e351 51c9 c905</td>\n",
       "    </tr>\n",
       "    <tr>\n",
       "      <th>77</th>\n",
       "      <td>113f 3f75 7510 105f 5f2c 2cda dae1 e109 09c0 c050 5010 <font color = green>1000</font> <font color = green>00ed</font> edc7 c768 6800 0000 00e7 e758 58a7 a765 65e3 e33e 3ecf cf1b 1bde de2b 2b29 2984 8463 63f5 f5f1 f148 4853 53a3 a324 246a 6ac6 c69a 9a7e 7e54 5478 7870 70c6 c698 980b 0b00 00bf bf9a 9ab4 b453 53f6 f642 42ce ceb6 b692 92cc cc93 9356 56c6 c69e 9e02 023c 3cbb</td>\n",
       "      <td>113f 3f75 7510 105f 5f2c 2cda dae1 e109 09c0 c050 5010 <font color = orange>1013</font> <font color = orange>13ed</font> edc7 c768 6800 0000 00e7 e758 58a7 a765 65e3 e33e 3ecf cf1b 1bde de2b 2b29 2984 8463 63f5 f5f1 f148 4853 53a3 a324 246a 6ac6 c69a 9a7e 7e54 5478 7870 70c6 c698 980b 0b00 00bf bf9a 9ab4 b453 53f6 f642 42ce ceb6 b692 92cc cc93 9356 56c6 c69e 9e02 023c 3cbb</td>\n",
       "    </tr>\n",
       "    <tr>\n",
       "      <th>78</th>\n",
       "      <td>2909 0900 0061 <font color = green>6131</font> <font color = green>3156</font> 5642 <font color = green>4265</font> <font color = green>6561</font> 6163 636f 6f6e 6e2d 2d76 7632 327c 7c4c 4c41 4142 4254 5445 4553 5354 <font color = green>547c</font> <font color = green>7c57</font> 5769 696e 6e64 646f 6f77 7773 7350 5043 437c 7c61 6138 3838 3831 3164 6461 6165 6537 3766 6639 3935 3537 3733 3364 6437 3733 3332 3262 6261 6132 3266 6662 6231 3165 6537 3731 3133 3362 6239 3938 3837</td>\n",
       "      <td>2909 0900 0061 <font color = gray>61ed</font> <font color = gray>ed56</font> 5642 <font color = gray>42ae</font> <font color = gray>ae61</font> 6163 636f 6f6e 6e2d 2d76 7632 327c 7c4c 4c41 4142 4254 5445 4553 5354 <font color = gray>54a7</font> <font color = gray>a757</font> 5769 696e 6e64 646f 6f77 7773 7350 5043 437c 7c61 6138 3838 3831 3164 6461 6165 6537 3766 6639 3935 3537 3733 3364 6437 3733 3332 3262 6261 6132 3266 6662 6231 3165 6537 3731 3133 3362 6239 3938 3837</td>\n",
       "    </tr>\n",
       "    <tr>\n",
       "      <th>79</th>\n",
       "      <td>8653 53ab ab25 2596 96fd fda4 a40f 0fa1 a10a 0a80 8010 1000 00ef ef7a 7ae6 e600 0000 0001 0101 0108 080a 0a80 80a7 a778 78cb cb01 <font color = brown>012b</font> <font color = brown>2b9c</font> 9cab ab2b 2b27 2726 26c4 c4df df59 59a4 a489 8979 794e 4ede de21 217c 7c9f 9ff9 f9bd bddb dbf4 f435 35ca ca1b 1b18 18a6 a6c5 c5a2 a280 80d8 d8a7 a7d3 d3de de4e 4e0f 0fe8 e8a4 a4be</td>\n",
       "      <td>8653 53ab ab25 2596 96fd fda4 a40f 0fa1 a10a 0a80 8010 1000 00ef ef7a 7ae6 e600 0000 0001 0101 0108 080a 0a80 80a7 a778 78cb cb01 <font color = pink>010f</font> <font color = pink>0f9c</font> 9cab ab2b 2b27 2726 26c4 c4df df59 59a4 a489 8979 794e 4ede de21 217c 7c9f 9ff9 f9bd bddb dbf4 f435 35ca ca1b 1b18 18a6 a6c5 c5a2 a280 80d8 d8a7 a7d3 d3de de4e 4e0f 0fe8 e8a4 a4be</td>\n",
       "    </tr>\n",
       "    <tr>\n",
       "      <th>80</th>\n",
       "      <td><font color = red>8570</font> <font color = red>70a0</font> a03e 3e0f 0f1c 1c36 361e 1e26 26ca ca80 8010 100c 0c69 69dc dc8b 8b00 0000 0001 0101 0108 080a 0a42 42a9 a936 36cc cc00 00f7 f7ab ab97 97dc dc80 80f3 f364 6416 16c2 c2ff ff8f 8f04 04e8 e8b7 b756 5610 10ac acfe fe15 15a2 a236 3672 72ee ee42 427a 7aca ca7c 7c70 70ab ab60 60f9 f971 71f3 f3b6 b652 5283 833f 3fe3</td>\n",
       "      <td><font color = cyan>851f</font> <font color = cyan>1fa0</font> a03e 3e0f 0f1c 1c36 361e 1e26 26ca ca80 8010 100c 0c69 69dc dc8b 8b00 0000 0001 0101 0108 080a 0a42 42a9 a936 36cc cc00 00f7 f7ab ab97 97dc dc80 80f3 f364 6416 16c2 c2ff ff8f 8f04 04e8 e8b7 b756 5610 10ac acfe fe15 15a2 a236 3672 72ee ee42 427a 7aca ca7c 7c70 70ab ab60 60f9 f971 71f3 f3b6 b652 5283 833f 3fe3</td>\n",
       "    </tr>\n",
       "    <tr>\n",
       "      <th>81</th>\n",
       "      <td>04e6 e68c 8c71 7170 70f8 f85c 5c64 640e 0ed8 d850 5018 1840 4000 0032 325b 5b00 0000 0017 1703 0303 0300 <font color = red>0060</font> <font color = red>6089</font> 890a 0a4b 4b05 050a 0ae6 e60a 0af2 f288 88e2 e28c 8c4d 4da1 a12e 2efa fafa faa5 a57a 7ac5 c532 3239 39bb bb9a 9a3e 3e0d 0d56 560e 0e0c 0c0f 0ff2 f200 00bf bf4c 4c97 97dd dd5f 5f44 445e 5ef0 f0d8 d817 17be</td>\n",
       "      <td>04e6 e68c 8c71 7170 70f8 f85c 5c64 640e 0ed8 d850 5018 1840 4000 0032 325b 5b00 0000 0017 1703 0303 0300 <font color = orange>002a</font> <font color = orange>2a89</font> 890a 0a4b 4b05 050a 0ae6 e60a 0af2 f288 88e2 e28c 8c4d 4da1 a12e 2efa fafa faa5 a57a 7ac5 c532 3239 39bb bb9a 9a3e 3e0d 0d56 560e 0e0c 0c0f 0ff2 f200 00bf bf4c 4c97 97dd dd5f 5f44 445e 5ef0 f0d8 d817 17be</td>\n",
       "    </tr>\n",
       "    <tr>\n",
       "      <th>82</th>\n",
       "      <td>01bb <font color = blue>bb4a</font> <font color = blue>4a09</font> 096e 6e28 28af af6a 6a7a 7a30 3050 5018 1840 408d 8d88 88e1 e100 0000 0017 1703 0303 0301 01ed ed00 0000 0000 0000 0000 0000 0001 0186 861b 1baf af3b 3b21 21e1 e171 7156 5623 23f7 f7af af81 8198 988b 8bf9 f98e 8e11 11ad ad5a 5a2d 2df2 f2ef efeb eb6d 6d2c 2cc4 c4ba bac5 c507 07ba ba24 24a9 a98e 8e26 26a5</td>\n",
       "      <td>01bb <font color = purple>bbec</font> <font color = purple>ec09</font> 096e 6e28 28af af6a 6a7a 7a30 3050 5018 1840 408d 8d88 88e1 e100 0000 0017 1703 0303 0301 01ed ed00 0000 0000 0000 0000 0000 0001 0186 861b 1baf af3b 3b21 21e1 e171 7156 5623 23f7 f7af af81 8198 988b 8bf9 f98e 8e11 11ad ad5a 5a2d 2df2 f2ef efeb eb6d 6d2c 2cc4 c4ba bac5 c507 07ba ba24 24a9 a98e 8e26 26a5</td>\n",
       "    </tr>\n",
       "    <tr>\n",
       "      <th>83</th>\n",
       "      <td><font color = purple>f595</font> <font color = purple>9500</font> 00ac ac22 22ec ec00 00b0 b020 203e 3e4a 4ac1 c104 0404 04d6 d61d 1d9b 9bfb fb1d 1d2a 2acb cb51 5151 51f9 f9f3 f31e 1e59 59f8 f868 68ad ade0 e079 796e 6e93 93c3 c312 1239 3910 10ce ce71 71f5 f591 91b8 b858 58f4 f423 2389 897f 7f96 966b 6b6e 6e56 56bc bc65 6556 56f5 f556 567d 7d8b 8bbf bf7e 7e5c 5cd7 d71b 1b7d</td>\n",
       "      <td><font color = yellow>f509</font> <font color = yellow>0900</font> 00ac ac22 22ec ec00 00b0 b020 203e 3e4a 4ac1 c104 0404 04d6 d61d 1d9b 9bfb fb1d 1d2a 2acb cb51 5151 51f9 f9f3 f31e 1e59 59f8 f868 68ad ade0 e079 796e 6e93 93c3 c312 1239 3910 10ce ce71 71f5 f591 91b8 b858 58f4 f423 2389 897f 7f96 966b 6b6e 6e56 56bc bc65 6556 56f5 f556 567d 7d8b 8bbf bf7e 7e5c 5cd7 d71b 1b7d</td>\n",
       "    </tr>\n",
       "    <tr>\n",
       "      <th>84</th>\n",
       "      <td><font color = blue>07a7</font> <font color = blue>a7c7</font> c717 1720 2087 8729 2966 6635 352c 2c50 5018 1807 07fb fb8d 8d71 7100 0000 0017 1703 0303 0304 044b 4bf3 f3a0 a000 005b 5bec ecb5 b5d2 d2a3 a3a0 a0ad ad16 16cf cf9a 9aec ec61 610d 0d21 21b9 b90d 0df2 f291 9124 24fe fe36 3634 3438 38c9 c966 6640 40fa fa12 1206 06b5 b5b0 b01a 1a27 2710 10d9 d9e2 e269 699e 9e37</td>\n",
       "      <td><font color = purple>07cb</font> <font color = purple>cbc7</font> c717 1720 2087 8729 2966 6635 352c 2c50 5018 1807 07fb fb8d 8d71 7100 0000 0017 1703 0303 0304 044b 4bf3 f3a0 a000 005b 5bec ecb5 b5d2 d2a3 a3a0 a0ad ad16 16cf cf9a 9aec ec61 610d 0d21 21b9 b90d 0df2 f291 9124 24fe fe36 3634 3438 38c9 c966 6640 40fa fa12 1206 06b5 b5b0 b01a 1a27 2710 10d9 d9e2 e269 699e 9e37</td>\n",
       "    </tr>\n",
       "    <tr>\n",
       "      <th>85</th>\n",
       "      <td>32c8 c82c <font color = red>2c1f</font> <font color = red>1f60</font> 6077 7765 65e4 e4a5 a584 8450 5018 1880 8000 0000 0066 6600 0000 0017 1703 0303 0301 01a5 a548 48b9 b978 7854 540e 0eea eab1 b152 5228 28b3 b34e 4ea8 a84f 4fc5 c592 92fc fc77 77f2 f20f 0f50 50fa fa8f 8f69 6954 5458 58aa aa2f 2f57 57ce ce5b 5b8a 8ad2 d25b 5bf7 f796 9617 1772 72dd ddef ef02 020e 0e20</td>\n",
       "      <td>32c8 c82c <font color = orange>2c31</font> <font color = orange>3160</font> 6077 7765 65e4 e4a5 a584 8450 5018 1880 8000 0000 0066 6600 0000 0017 1703 0303 0301 01a5 a548 48b9 b978 7854 540e 0eea eab1 b152 5228 28b3 b34e 4ea8 a84f 4fc5 c592 92fc fc77 77f2 f20f 0f50 50fa fa8f 8f69 6954 5458 58aa aa2f 2f57 57ce ce5b 5b8a 8ad2 d25b 5bf7 f796 9617 1772 72dd ddef ef02 020e 0e20</td>\n",
       "    </tr>\n",
       "    <tr>\n",
       "      <th>86</th>\n",
       "      <td>a4dc dce8 e832 32ec ec7a 7adf dfd2 d270 700b 0b80 8018 1800 0009 097b 7b3d 3d00 0000 0001 0101 0108 080a 0a27 272e 2e4b 4be5 e500 <font color = cyan>0038</font> <font color = cyan>387d</font> 7dac acbd bdeb ebbf bfbb bb7a 7a65 6587 8728 28a8 a8e0 e0a4 a4ef efb6 b687 8717 174c 4cb0 b0a0 a0e4 e4a5 a5ff ff55 55c0 c098 9856 5676 7638 3841 419d 9df0 f0fd fd1e 1e7b 7bdd dd10</td>\n",
       "      <td>a4dc dce8 e832 32ec ec7a 7adf dfd2 d270 700b 0b80 8018 1800 0009 097b 7b3d 3d00 0000 0001 0101 0108 080a 0a27 272e 2e4b 4be5 e500 <font color = pink>00f1</font> <font color = pink>f17d</font> 7dac acbd bdeb ebbf bfbb bb7a 7a65 6587 8728 28a8 a8e0 e0a4 a4ef efb6 b687 8717 174c 4cb0 b0a0 a0e4 e4a5 a5ff ff55 55c0 c098 9856 5676 7638 3841 419d 9df0 f0fd fd1e 1e7b 7bdd dd10</td>\n",
       "    </tr>\n",
       "    <tr>\n",
       "      <th>87</th>\n",
       "      <td><font color = blue>fd4a</font> <font color = blue>4abe</font> be59 59fa fa36 36fc fcdb db3c 3c40 4050 5010 1007 07bd bd85 8550 5000 0000 0017 1703 0303 0305 05d1 d1ad ad5d 5d44 44c1 c12f 2ff0 f039 39ed edef efa6 a684 848e 8e34 34a2 a2c6 c605 0578 786e 6ee8 e89f 9fb6 b6a1 a1a0 a033 33a3 a38a 8a5d 5daf afe1 e1b4 b4e0 e096 96df df8b 8b94 94cf cfbf bfe8 e875 7544 44cb cb40</td>\n",
       "      <td><font color = green>fdd6</font> <font color = green>d6be</font> be59 59fa fa36 36fc fcdb db3c 3c40 4050 5010 1007 07bd bd85 8550 5000 0000 0017 1703 0303 0305 05d1 d1ad ad5d 5d44 44c1 c12f 2ff0 f039 39ed edef efa6 a684 848e 8e34 34a2 a2c6 c605 0578 786e 6ee8 e89f 9fb6 b6a1 a1a0 a033 33a3 a38a 8a5d 5daf afe1 e1b4 b4e0 e096 96df df8b 8b94 94cf cfbf bfe8 e875 7544 44cb cb40</td>\n",
       "    </tr>\n",
       "    <tr>\n",
       "      <th>88</th>\n",
       "      <td><font color = cyan>0016</font> <font color = cyan>1697</font> 97a8 a85c 5c3d 3d84 <font color = cyan>8492</font> <font color = cyan>92e3</font> e3c1 c180 <font color = cyan>8018</font> <font color = cyan>1801</font> 0117 1728 28c7 c700 0000 0001 <font color = cyan>0101</font> <font color = cyan>0108</font> 080a 0a00 0039 394b 4b03 0327 2731 3181 8144 <font color = cyan>44ce</font> <font color = cyan>cea1</font> a117 1714 141e 1eef ef62 6297 97e2 e27e 7e59 593b 3b37 3758 58ad adc1 c1f9 f9ee ee62 6276 768a 8a2c 2c87 8740 40b2 b292 92c8 c860 60a1 a155 5510 10c0 c0fb fb6f 6fca</td>\n",
       "      <td><font color = brown>00fc</font> <font color = brown>fc97</font> 97a8 a85c 5c3d 3d84 <font color = brown>84f5</font> <font color = brown>f5e3</font> e3c1 c180 <font color = brown>809a</font> <font color = brown>9a01</font> 0117 1728 28c7 c700 0000 0001 <font color = brown>0115</font> <font color = brown>1508</font> 080a 0a00 0039 394b 4b03 0327 2731 3181 8144 <font color = brown>4401</font> <font color = brown>01a1</font> a117 1714 141e 1eef ef62 6297 97e2 e27e 7e59 593b 3b37 3758 58ad adc1 c1f9 f9ee ee62 6276 768a 8a2c 2c87 8740 40b2 b292 92c8 c860 60a1 a155 5510 10c0 c0fb fb6f 6fca</td>\n",
       "    </tr>\n",
       "    <tr>\n",
       "      <th>89</th>\n",
       "      <td><font color = green>01d1</font> <font color = green>d169</font> 69f1 f169 697e 7e25 25b5 b553 53cc cc50 5018 1879 7970 709e 9e08 0800 0000 0017 1703 0303 0300 004d 4d00 0000 0000 0000 0000 0000 0000 0002 02d1 d1ff ff84 8483 8368 6866 66ff fffd fd55 55b1 b125 25c5 c5a2 a220 20a3 a30c 0cd8 d8dc dc24 245f 5f13 138a 8af4 f4c3 c360 600d 0d74 7497 9726 26d0 d07c 7c5d 5dba baff</td>\n",
       "      <td><font color = blue>014a</font> <font color = blue>4a69</font> 69f1 f169 697e 7e25 25b5 b553 53cc cc50 5018 1879 7970 709e 9e08 0800 0000 0017 1703 0303 0300 004d 4d00 0000 0000 0000 0000 0000 0000 0002 02d1 d1ff ff84 8483 8368 6866 66ff fffd fd55 55b1 b125 25c5 c5a2 a220 20a3 a30c 0cd8 d8dc dc24 245f 5f13 138a 8af4 f4c3 c360 600d 0d74 7497 9726 26d0 d07c 7c5d 5dba baff</td>\n",
       "    </tr>\n",
       "    <tr>\n",
       "      <th>90</th>\n",
       "      <td>8570 708f 8fbf bf25 251e 1e35 357b 7b32 32d1 d180 8010 100c <font color = red>0c69</font> <font color = red>69cd</font> cd78 <font color = red>7800</font> <font color = red>0000</font> 0001 0101 0108 080a 0a42 42a3 a3cb cbdf df00 <font color = red>00f2</font> <font color = red>f240</font> 40a5 a5f4 f4d5 d513 1345 45da da67 67cc ccf7 f788 88b4 b4db db24 24c5 c505 0576 76c0 c05d 5dd7 d704 0427 27f2 f238 3821 217b 7b99 99dd dd31 31af afc3 c389 8933 3393 93f0 f072 7224</td>\n",
       "      <td>8570 708f 8fbf bf25 251e 1e35 357b 7b32 32d1 d180 8010 100c <font color = cyan>0c25</font> <font color = cyan>25cd</font> cd78 <font color = cyan>7875</font> <font color = cyan>7500</font> 0001 0101 0108 080a 0a42 42a3 a3cb cbdf df00 <font color = cyan>0038</font> <font color = cyan>3840</font> 40a5 a5f4 f4d5 d513 1345 45da da67 67cc ccf7 f788 88b4 b4db db24 24c5 c505 0576 76c0 c05d 5dd7 d704 0427 27f2 f238 3821 217b 7b99 99dd dd31 31af afc3 c389 8933 3393 93f0 f072 7224</td>\n",
       "    </tr>\n",
       "    <tr>\n",
       "      <th>91</th>\n",
       "      <td><font color = red>fccf</font> <font color = red>cf70</font> 7008 0831 3165 65e6 e6cf cf90 90b1 b150 5010 1080 8000 00c6 c64c 4c00 0000 0085 85b5 b5c9 c92b 2bf2 f28c 8c2b 2bc8 c8c5 c5af afc4 c46c 6c1e 1eb3 b396 963d 3d52 5210 10bf bf98 98a6 a6d1 d164 64a2 a2ef eff9 f9bd bdfe fe92 9203 03cf cff4 f499 996b 6b27 2731 310f 0fe3 e300 003c 3c30 30a3 a37b 7be7 e74a 4ae2 e23c</td>\n",
       "      <td><font color = orange>fc65</font> <font color = orange>6570</font> 7008 0831 3165 65e6 e6cf cf90 90b1 b150 5010 1080 8000 00c6 c64c 4c00 0000 0085 85b5 b5c9 c92b 2bf2 f28c 8c2b 2bc8 c8c5 c5af afc4 c46c 6c1e 1eb3 b396 963d 3d52 5210 10bf bf98 98a6 a6d1 d164 64a2 a2ef eff9 f9bd bdfe fe92 9203 03cf cff4 f499 996b 6b27 2731 310f 0fe3 e300 003c 3c30 30a3 a37b 7be7 e74a 4ae2 e23c</td>\n",
       "    </tr>\n",
       "    <tr>\n",
       "      <th>92</th>\n",
       "      <td><font color = gray>d3aa</font> <font color = gray>aa05</font> 0562 62ac ac83 8384 8452 523d 3d74 742f 2f37 375c 5c2c 2c1d 1d8d 8da4 a42c 2c83 8352 52e0 e0de de45 45a6 a6e1 e1fe fe17 1709 09d8 d892 9273 7393 93ee ee78 7881 818e 8eb6 b6da da73 7325 25cf cfb8 b8e5 e53e 3ebc bc7a 7a3a 3ad8 d80d 0dde deea ea42 4251 513d 3d0c 0ca5 a552 52d2 d220 2000 0087 875b 5bb4 b40a 0aec</td>\n",
       "      <td><font color = purple>d328</font> <font color = purple>2805</font> 0562 62ac ac83 8384 8452 523d 3d74 742f 2f37 375c 5c2c 2c1d 1d8d 8da4 a42c 2c83 8352 52e0 e0de de45 45a6 a6e1 e1fe fe17 1709 09d8 d892 9273 7393 93ee ee78 7881 818e 8eb6 b6da da73 7325 25cf cfb8 b8e5 e53e 3ebc bc7a 7a3a 3ad8 d80d 0dde deea ea42 4251 513d 3d0c 0ca5 a552 52d2 d220 2000 0087 875b 5bb4 b40a 0aec</td>\n",
       "    </tr>\n",
       "    <tr>\n",
       "      <th>93</th>\n",
       "      <td><font color = pink>de2a</font> <font color = pink>2aa7</font> a739 3919 19fe fe9d 9db9 b9b3 b36e 6e80 8010 1001 0121 2164 64b6 b600 0000 0001 0101 0108 080a 0a4f 4f45 4592 92c1 c101 <font color = pink>0110</font> <font color = pink>1013</font> 1336 3692 921f 1ff0 f05e 5e3c 3c1e 1e9b 9b01 0190 909a 9a14 1434 34b6 b6e9 e95e 5ed6 d65e 5ec7 c751 513f 3fd8 d8a5 a58f 8ffc fcab ab67 679e 9e3f 3ff1 f196 96eb ebaf aff5 f514 1464</td>\n",
       "      <td><font color = blue>de5b</font> <font color = blue>5ba7</font> a739 3919 19fe fe9d 9db9 b9b3 b36e 6e80 8010 1001 0121 2164 64b6 b600 0000 0001 0101 0108 080a 0a4f 4f45 4592 92c1 c101 <font color = blue>0123</font> <font color = blue>2313</font> 1336 3692 921f 1ff0 f05e 5e3c 3c1e 1e9b 9b01 0190 909a 9a14 1434 34b6 b6e9 e95e 5ed6 d65e 5ec7 c751 513f 3fd8 d8a5 a58f 8ffc fcab ab67 679e 9e3f 3ff1 f196 96eb ebaf aff5 f514 1464</td>\n",
       "    </tr>\n",
       "    <tr>\n",
       "      <th>94</th>\n",
       "      <td>3d45 <font color = green>4500</font> <font color = green>000b</font> 0bd2 d29c 9c18 1858 585d 5d00 <font color = green>0000</font> <font color = green>0000</font> 0000 0000 <font color = green>0000</font> <font color = green>0000</font> 0000 0000 0000 0000 0000 0000 0000 0000</td>\n",
       "      <td>3d45 <font color = gray>45f5</font> <font color = gray>f50b</font> 0bd2 d29c 9c18 1858 585d 5d00 <font color = gray>0002</font> <font color = gray>0200</font> 0000 0000 <font color = gray>00b6</font> <font color = gray>b600</font> 0000 0000 0000 0000 0000 0000 0000 0000</td>\n",
       "    </tr>\n",
       "    <tr>\n",
       "      <th>95</th>\n",
       "      <td>a8e8 e8c7 c714 1485 854f 4f9f 9fdc dc07 077a 7a80 8010 1005 0528 28ab ab00 0000 0000 0001 0101 0108 080a 0aac ac7f 7fe7 e7d8 d801 <font color = brown>0135</font> <font color = brown>3536</font> 3658 586b 6bed ed83 83ed eda1 a104 04a6 a6a7 a748 4858 583e 3ef9 f914 1494 941c 1c06 065a 5a80 80c0 c01a 1a31 31ad adf6 f64a 4a0c 0c13 13d4 d4f9 f976 7604 0442 4275 753f 3ff9 f9b0</td>\n",
       "      <td>a8e8 e8c7 c714 1485 854f 4f9f 9fdc dc07 077a 7a80 8010 1005 0528 28ab ab00 0000 0000 0001 0101 0108 080a 0aac ac7f 7fe7 e7d8 d801 <font color = pink>010d</font> <font color = pink>0d36</font> 3658 586b 6bed ed83 83ed eda1 a104 04a6 a6a7 a748 4858 583e 3ef9 f914 1494 941c 1c06 065a 5a80 80c0 c01a 1a31 31ad adf6 f64a 4a0c 0c13 13d4 d4f9 f976 7604 0442 4275 753f 3ff9 f9b0</td>\n",
       "    </tr>\n",
       "    <tr>\n",
       "      <th>96</th>\n",
       "      <td>a2fb fb90 904d 4d8f 8fc0 c08e 8ed6 d668 68c8 c880 8010 1000 001f 1fe9 e95b 5b00 0000 0001 0101 0108 080a 0aae aee6 e65e 5e9f 9f01 <font color = brown>0130</font> <font color = brown>3024</font> 245a 5a15 15f6 f68e 8eb1 b135 3544 44b2 b247 47ae ae88 881c 1cb0 b0b7 b769 6953 532d 2d8a 8a85 85f6 f6de de52 52e7 e78e 8eb7 b70e 0e01 01fb fb40 404a 4a72 7251 51bd bd56 56c1 c112</td>\n",
       "      <td>a2fb fb90 904d 4d8f 8fc0 c08e 8ed6 d668 68c8 c880 8010 1000 001f 1fe9 e95b 5b00 0000 0001 0101 0108 080a 0aae aee6 e65e 5e9f 9f01 <font color = blue>0122</font> <font color = blue>2224</font> 245a 5a15 15f6 f68e 8eb1 b135 3544 44b2 b247 47ae ae88 881c 1cb0 b0b7 b769 6953 532d 2d8a 8a85 85f6 f6de de52 52e7 e78e 8eb7 b70e 0e01 01fb fb40 404a 4a72 7251 51bd bd56 56c1 c112</td>\n",
       "    </tr>\n",
       "    <tr>\n",
       "      <th>97</th>\n",
       "      <td><font color = cyan>0016</font> <font color = cyan>168f</font> 8f6a 6a0c 0cbd bd84 8491 911b 1b21 2180 8010 1001 0117 1761 6173 7300 0000 0001 0101 0108 080a <font color = cyan>0a00</font> <font color = cyan>0039</font> 3946 467c 7c27 2731 316f 6f28 28b7 b749 4910 1020 20cd cdad ad55 5590 9096 968b 8b2f 2f5f 5f23 23f1 f1fd fd16 1650 503c 3c9b 9b16 16fb fb34 34a6 a692 920b 0b4c 4caa aacc ccde deef ef82 82a4 a478 78e2 e2f8</td>\n",
       "      <td><font color = pink>00b2</font> <font color = pink>b28f</font> 8f6a 6a0c 0cbd bd84 8491 911b 1b21 2180 8010 1001 0117 1761 6173 7300 0000 0001 0101 0108 080a <font color = pink>0a74</font> <font color = pink>7439</font> 3946 467c 7c27 2731 316f 6f28 28b7 b749 4910 1020 20cd cdad ad55 5590 9096 968b 8b2f 2f5f 5f23 23f1 f1fd fd16 1650 503c 3c9b 9b16 16fb fb34 34a6 a692 920b 0b4c 4caa aacc ccde deef ef82 82a4 a478 78e2 e2f8</td>\n",
       "    </tr>\n",
       "    <tr>\n",
       "      <th>98</th>\n",
       "      <td><font color = purple>c065</font> <font color = purple>6500</font> 002c 2cc8 c845 4500 00d0 d01d 1d61 6121 211e 1eca caa5 a519 1988 882c 2cb1 b171 7191 9151 5179 7943 43b4 b47f 7f30 3025 2599 9944 4470 70a1 a1c6 c653 5333 33cd cdf4 f49d 9d9b 9b45 4587 87ed edb6</td>\n",
       "      <td><font color = green>c045</font> <font color = green>4500</font> 002c 2cc8 c845 4500 00d0 d01d 1d61 6121 211e 1eca caa5 a519 1988 882c 2cb1 b171 7191 9151 5179 7943 43b4 b47f 7f30 3025 2599 9944 4470 70a1 a1c6 c653 5333 33cd cdf4 f49d 9d9b 9b45 4587 87ed edb6</td>\n",
       "    </tr>\n",
       "    <tr>\n",
       "      <th>99</th>\n",
       "      <td>17af af00 <font color = yellow>0000</font> <font color = yellow>0001</font> 0101 0108 080a <font color = yellow>0a00</font> <font color = yellow>0022</font> 2217 1739 391a 1aa4 a4cd cd77 7784 8415 1578 78a8 a8d2 d255 551a 1a96 9637 37fc fc7c 7cf6 f651 5100 001b 1bd7 d7ce ce90 90f4 f423 237c 7c66 66cb cb31 311c 1c46 46a1 a1d7 d76b 6b8f 8f4f 4fbd bdc5 c583 8343 431b 1b31 313c 3c2c 2ca6 a6ff ff31 3128 2894 948d 8d49 496f 6fea ea26</td>\n",
       "      <td>17af af00 <font color = orange>001d</font> <font color = orange>1d01</font> 0101 0108 080a <font color = orange>0a9d</font> <font color = orange>9d22</font> 2217 1739 391a 1aa4 a4cd cd77 7784 8415 1578 78a8 a8d2 d255 551a 1a96 9637 37fc fc7c 7cf6 f651 5100 001b 1bd7 d7ce ce90 90f4 f423 237c 7c66 66cb cb31 311c 1c46 46a1 a1d7 d76b 6b8f 8f4f 4fbd bdc5 c583 8343 431b 1b31 313c 3c2c 2ca6 a6ff ff31 3128 2894 948d 8d49 496f 6fea ea26</td>\n",
       "    </tr>\n",
       "  </tbody>\n",
       "</table>"
      ]
     },
     "metadata": {},
     "output_type": "display_data"
    }
   ],
   "source": [
    "# Display the attack results and the differences\n",
    "logger = CSVLogger(color_method=\"html\")\n",
    "for result in attack_results:\n",
    "    logger.log_attack_result(result)\n",
    "    continue\n",
    "\n",
    "display_html(HTML(logger.df[[\"original_text\", \"perturbed_text\"]].to_html(escape=False)))"
   ]
  }
 ],
 "metadata": {
  "kernelspec": {
   "display_name": "python38-env",
   "language": "python",
   "name": "python3"
  },
  "language_info": {
   "codemirror_mode": {
    "name": "ipython",
    "version": 3
   },
   "file_extension": ".py",
   "mimetype": "text/x-python",
   "name": "python",
   "nbconvert_exporter": "python",
   "pygments_lexer": "ipython3",
   "version": "3.8.18"
  }
 },
 "nbformat": 4,
 "nbformat_minor": 2
}
